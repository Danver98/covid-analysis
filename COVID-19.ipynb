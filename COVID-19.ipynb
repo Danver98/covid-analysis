{
 "cells": [
  {
   "cell_type": "code",
   "execution_count": 199,
   "metadata": {},
   "outputs": [],
   "source": [
    "import pandas as pd\n",
    "import matplotlib.pyplot as plt\n",
    "import requests\n",
    "import csv\n",
    "import numpy as np\n",
    "from scipy.optimize import curve_fit\n",
    "from sklearn.metrics import r2_score, mean_squared_error\n",
    "import sympy as sym\n",
    "#import seaborn as sns\n",
    "\n",
    "SOURCE_COVID_19 = \"https://pomber.github.io/covid19/timeseries.json\"\n",
    "SOURCE_COUNTRIES_BY_POPULATION = \"https://raw.githubusercontent.com/samayo/country-json/master/src/country-by-population.json\"\n",
    "SOURCE_GDP = \"https://raw.githubusercontent.com/datasets/gdp/master/data/gdp.csv\"\n",
    "SOURCE_GDP_PER_CAPITA_JSON = \"https://pkgstore.datahub.io/world-bank/ny.gdp.pcap.cd/data_json/data/5fa3074284c7b57091aa9bacc502ecb5/data_json.json\"\n",
    "SOURCE_GDP_PER_CAPITA_CSV = \"https://datahub.io/world-bank/ny.gdp.pcap.cd/r/data.csv\"\n",
    "def get_data_json(source):\n",
    "    return requests.get(source).json()"
   ]
  },
  {
   "cell_type": "code",
   "execution_count": 200,
   "metadata": {},
   "outputs": [],
   "source": [
    "np.warnings.filterwarnings('ignore')"
   ]
  },
  {
   "cell_type": "code",
   "execution_count": 201,
   "metadata": {},
   "outputs": [],
   "source": [
    "data = requests.get(SOURCE_COVID_19).json()"
   ]
  },
  {
   "cell_type": "code",
   "execution_count": 202,
   "metadata": {},
   "outputs": [],
   "source": [
    "df = pd.DataFrame.from_dict(data)"
   ]
  },
  {
   "cell_type": "code",
   "execution_count": 203,
   "metadata": {},
   "outputs": [],
   "source": [
    "def get_average_speed_of_propagation_list(data,status ='confirmed', days = len(data[list(data.keys())[0]]), reverse = False):\n",
    "    min_days = days\n",
    "    speed = {}\n",
    "    for key in data:\n",
    "        if(len(data[key]) < min_days):\n",
    "            min_days = len(data[key])\n",
    "    for key in data:\n",
    "        speed[key] = round(data[key][min_days - 1][status] / min_days,3)\n",
    "    speed = {key:value for key, value in sorted(speed.items(), key = lambda item:item[1], reverse = reverse)}\n",
    "    return speed"
   ]
  },
  {
   "cell_type": "code",
   "execution_count": 204,
   "metadata": {},
   "outputs": [],
   "source": [
    "def get_average_speed_of_propagation_list_non_zero_days(df,status ='confirmed', reverse = False , count = len(df.columns)):\n",
    "    speed = {}\n",
    "    for country_name in df.columns[:count]:\n",
    "        country = pd.DataFrame.from_dict(data[country_name])\n",
    "        country = country.loc[country[status] > 0 , ['date',status]].reset_index(drop = True)\n",
    "        country.index = country.index + 1 # если что, убрать\n",
    "        if country.empty:\n",
    "            continue\n",
    "        speed[country_name] = round(country.iloc[len(country)-1][status] / len(country) , 3)\n",
    "    speed = {key:value for key, value in sorted(speed.items(), key = lambda item:item[1], reverse = reverse)}\n",
    "    return speed"
   ]
  },
  {
   "cell_type": "code",
   "execution_count": null,
   "metadata": {
    "scrolled": false
   },
   "outputs": [],
   "source": [
    "get_average_speed_of_propagation_list_non_zero_days(df,status ='deaths', reverse = False)\n"
   ]
  },
  {
   "cell_type": "code",
   "execution_count": 206,
   "metadata": {},
   "outputs": [],
   "source": [
    "def print_speed_stats(data,days = len(data[list(data.keys())[0]]), reverse = False):\n",
    "    statuses = ['confirmed' , 'deaths' , 'recovered']\n",
    "    for i in range(len(statuses)):\n",
    "        print(f\"Статистика за {days} дней:{statuses[i]}\")\n",
    "        speed = get_average_speed_of_propagation_list(data,status = statuses[i],days = days,reverse = reverse)\n",
    "        print(f\"Средняя скорость для {statuses[i]} к {days} дню (человек в день):\")\n",
    "        for key in speed:\n",
    "            print(f\"{key}:{speed[key]}\")"
   ]
  },
  {
   "cell_type": "code",
   "execution_count": null,
   "metadata": {
    "scrolled": false
   },
   "outputs": [],
   "source": [
    "# Средняя скорость за все дни( с учётом нулевых)\n",
    "print_speed_stats(data)"
   ]
  },
  {
   "cell_type": "code",
   "execution_count": 208,
   "metadata": {},
   "outputs": [],
   "source": [
    "def print_speed_stats_non_zero_days(df, reverse = False , count = len(df.columns)):\n",
    "    statuses = ['confirmed' , 'deaths' , 'recovered']\n",
    "    for i in range(len(statuses)):\n",
    "        print(f\"Статистика за значимые( ненулевые) дни:{statuses[i]}\")\n",
    "        speed = get_average_speed_of_propagation_list_non_zero_days(df,statuses[i],reverse , count)\n",
    "        print(f\"Средняя скорость для {statuses[i]} (человек в день):\")\n",
    "        for key in speed:\n",
    "            print(f\"{key}:{speed[key]}\")"
   ]
  },
  {
   "cell_type": "code",
   "execution_count": null,
   "metadata": {
    "scrolled": false
   },
   "outputs": [],
   "source": [
    "# Средняя скорость за все дни( без нулевых значений)\n",
    "print_speed_stats_non_zero_days(df)"
   ]
  },
  {
   "cell_type": "code",
   "execution_count": 210,
   "metadata": {},
   "outputs": [],
   "source": [
    "def draw_average_speed_of_propagation_list(data,days = len(data[list(data.keys())[0]]), reverse = False):   \n",
    "    statuses = ['confirmed' , 'deaths' , 'recovered']\n",
    "    colors = ['yellow' , 'red' ,'green']\n",
    "    for i in range(3):\n",
    "        fig , ax = plt.subplots()\n",
    "        fig =plt.figure(figsize=(50,40))\n",
    "        speed = get_average_speed_of_propagation_list(data,status = statuses[i],days = days,reverse = reverse)\n",
    "        countries = list(speed.keys())\n",
    "        values = list(speed.values())\n",
    "        ax.bar(countries,values, color=colors[i])\n",
    "        ax.set_title(f\"{statuses[i]} for {days} days\") \n",
    "        plt.show()\n",
    "        "
   ]
  },
  {
   "cell_type": "code",
   "execution_count": 211,
   "metadata": {},
   "outputs": [],
   "source": [
    "def draw_countries_covid_stats(df, count = len(df.columns)):\n",
    "    for country_name in df.columns[:count]:\n",
    "        country = df[country_name]\n",
    "        x = [index for index in country.index]\n",
    "        y = [obj['confirmed'] for obj in country]\n",
    "        y1 = [obj['deaths'] for obj in country] \n",
    "        y2 = [obj['recovered'] for obj in country] \n",
    "        fig, ax = plt.subplots()\n",
    "        ax.plot(x,y,label=\"confirmed\")\n",
    "        ax.plot(x,y1,label=\"deaths\")\n",
    "        ax.plot(x,y2,label=\"recovered\")\n",
    "        ax.set_title(country_name)  # Add a title to the axes.\n",
    "        ax.set_xlabel(\"days\")\n",
    "        ax.set_ylabel(\"amount\")\n",
    "        ax.legend()"
   ]
  },
  {
   "cell_type": "code",
   "execution_count": 212,
   "metadata": {
    "scrolled": false
   },
   "outputs": [],
   "source": [
    "def create_country_stats_excel_file(df):\n",
    "    writer = pd.ExcelWriter('covid-19.xlsx', engine='xlsxwriter')\n",
    "    for country_name in df.columns:\n",
    "        country = pd.DataFrame.from_dict(data[country_name])\n",
    "        country_name = \"\".join([c for c in country_name if c.isalpha()])\n",
    "        country.to_excel(writer ,sheet_name=country_name, index_label=\"day\")\n",
    "        #country.to_csv(f\"{country_name}.csv\" , index_label = \"day\")"
   ]
  },
  {
   "cell_type": "code",
   "execution_count": 213,
   "metadata": {},
   "outputs": [],
   "source": [
    "def create_country_stats_excel_file_without_zeroes(df, by='confirmed'):\n",
    "    writer = pd.ExcelWriter(f\"covid-19_{by}.xlsx\", engine='xlsxwriter')\n",
    "    for country_name in df.columns:\n",
    "        country = pd.DataFrame.from_dict(data[country_name])\n",
    "        country = country.loc[country[by] > 0 , [by,'date']].reset_index(drop = True)\n",
    "        country.index = country.index + 1 # если что, убрать\n",
    "        #print(country)\n",
    "        country_name = \"\".join([c for c in country_name if c.isalpha()])\n",
    "        country.to_excel(writer ,sheet_name=country_name, index_label=\"day\")\n",
    "        #country.to_csv(f\"{country_name}.csv\" , index_label = \"day\")\n",
    "\n",
    "        "
   ]
  },
  {
   "cell_type": "code",
   "execution_count": 214,
   "metadata": {
    "scrolled": false
   },
   "outputs": [],
   "source": [
    "create_country_stats_excel_file_without_zeroes(df)\n",
    "create_country_stats_excel_file_without_zeroes(df, by='deaths')\n",
    "create_country_stats_excel_file_without_zeroes(df, by= 'recovered')"
   ]
  },
  {
   "cell_type": "code",
   "execution_count": 215,
   "metadata": {
    "scrolled": false
   },
   "outputs": [],
   "source": [
    "# Функции для регрессии\n",
    "def linear(x,a,b):\n",
    "    return a*x + b\n",
    "\n",
    "def exp(x,a,b,c):\n",
    "    return a*np.exp(b*x)+c\n",
    "\n",
    "def polynomial_square(x,a,b,c):\n",
    "    return a*np.square(x) + b*x + c\n",
    "\n",
    "def polynomial_cube(x,a,b,c,d):\n",
    "    return a*np.power(x,3) + b*np.square(x) + c*x + d\n",
    "\n",
    "def log(x,a,b,c):\n",
    "    return a*np.log(b*x) + c\n",
    "\n"
   ]
  },
  {
   "cell_type": "code",
   "execution_count": 216,
   "metadata": {},
   "outputs": [],
   "source": [
    "# Функции для приближения результатов\n",
    "functions_to_fit = {\"linear\":linear , \"exp\":exp , \"polynomial_square\":polynomial_square ,\"polynomial_cube\":polynomial_cube, \"log\":log}"
   ]
  },
  {
   "cell_type": "code",
   "execution_count": 217,
   "metadata": {},
   "outputs": [],
   "source": [
    "def get_curve_fit_with_params(x,y,method = \"r2\",maxfev = 1000,functions = functions_to_fit):\n",
    "    name = list(functions)[0]\n",
    "    function =functions[name]\n",
    "    params = [1,0]\n",
    "    r_square = 0\n",
    "    if method == \"mse\":\n",
    "        mse = mean_squared_error(y, functions[name](x,*params))\n",
    "    for key in functions:\n",
    "        if key == \"exp\":\n",
    "            opt_params , pcov = curve_fit(functions[key],x,y , p0 = (-1, 0.01, 1),maxfev = 5000)\n",
    "        else:\n",
    "            opt_params , pcov = curve_fit(functions[key],x,y,maxfev = 5000)\n",
    "        if method == \"r2\":   \n",
    "            r_square_cur = r2_score(y, functions[key](x,*opt_params))\n",
    "            if r_square_cur > r_square:\n",
    "                r_square = r_square_cur\n",
    "                function = functions[key]\n",
    "                name = key\n",
    "                params = opt_params         \n",
    "        else:\n",
    "            mse_cur = mean_squared_error(y, functions[key](x,*opt_params))\n",
    "            if mse_cur < mse:\n",
    "                mse = mse_cur\n",
    "                function = functions[key]\n",
    "                name = key\n",
    "                params = opt_params   \n",
    "    if method == \"mse\":\n",
    "        return (name, function , params, mse)    \n",
    "    return (name, function , params, r_square)\n",
    "        \n",
    "        "
   ]
  },
  {
   "cell_type": "code",
   "execution_count": 252,
   "metadata": {},
   "outputs": [],
   "source": [
    "def get_country_dependency(country, status, method,functions):\n",
    "    country_name = country['name']\n",
    "    data = country['data']\n",
    "    #print(country_name)\n",
    "    #print(data)\n",
    "    if data.empty:\n",
    "        return None\n",
    "    x = np.array(list(data.index))\n",
    "    y = np.array(list(data[status]))\n",
    "    # \n",
    "    if status ==\"deaths\":\n",
    "        threshold = 4\n",
    "        if(len(x) < threshold) or (len(y) < threshold) or (len(y) != len(x)):\n",
    "            return None\n",
    "    name, func, params, res = get_curve_fit_with_params(x,y,method,functions)\n",
    "    mark = method \n",
    "    res = {\"country\": country_name , \"criteria\":status, \"dependency\":name ,\"opt_params\":params, method:res }\n",
    "    #print(res)\n",
    "    return res\n"
   ]
  },
  {
   "cell_type": "code",
   "execution_count": 253,
   "metadata": {},
   "outputs": [],
   "source": [
    "def get_countries_by_status(df , status='confirmed' , count = len(df.columns) ):\n",
    "    countries =[]\n",
    "    for country_name in df.columns[:count]:\n",
    "        country = pd.DataFrame.from_dict(data[country_name])\n",
    "        country = country.loc[country[status] > 0 , ['date',status]].reset_index(drop = True)\n",
    "        country.index = country.index + 1 # если что, убрать\n",
    "        country.index\n",
    "        countries.append({\"name\":country_name  ,\"data\":country})\n",
    "    return countries"
   ]
  },
  {
   "cell_type": "code",
   "execution_count": 254,
   "metadata": {},
   "outputs": [],
   "source": [
    "def get_countries_dependencies_by_status(df , status='confirmed' , count = len(df.columns) , method = \"r2\", functions = functions_to_fit):\n",
    "    countries = get_countries_by_status(df,status,count)\n",
    "    dependencies = []\n",
    "    for country in countries:\n",
    "        data = get_country_dependency(country,status, method,functions)\n",
    "        if data is not None:\n",
    "            dependencies.append(data)\n",
    "    return dependencies"
   ]
  },
  {
   "cell_type": "code",
   "execution_count": 255,
   "metadata": {},
   "outputs": [],
   "source": [
    "def print_countries_dependencies_by_status(df , status='confirmed' , count = len(df.columns) , method = \"r2\",functions = functions_to_fit):\n",
    "    countries = get_countries_dependencies_by_status(df,status , count , method,functions)\n",
    "    for country in countries:\n",
    "        print(f\"Страна: {country['country']} , критерий: {country['criteria']}, зависимость: {country['dependency']}\")\n",
    "        print(f\"оптимальные параметры:\" , end = \" \")\n",
    "        for param in country['opt_params']:\n",
    "            print(param, end = ', ')\n",
    "        print()\n",
    "        print(f\"{list(country.keys())[-1]}: {country[list(country.keys())[-1]]}\")"
   ]
  },
  {
   "cell_type": "code",
   "execution_count": null,
   "metadata": {
    "scrolled": false
   },
   "outputs": [],
   "source": [
    "#Функции зависимости стран по количеству заражённых умерших и выздоровевших\n",
    "# methods = ['r2' , 'mse']\n",
    "#statuses ['confirmed' , 'deaths', 'recovered']\n",
    "# Лучшие результаты при кубическом трёхчлене, при его отсутствии - при квадратном трёхчлене\n",
    "print_countries_dependencies_by_status(df , status='confirmed' , count = len(df.columns) , method = \"r2\")"
   ]
  },
  {
   "cell_type": "code",
   "execution_count": 257,
   "metadata": {
    "scrolled": true
   },
   "outputs": [],
   "source": [
    "pop_data = requests.get(SOURCE_COUNTRIES_BY_POPULATION).json()"
   ]
  },
  {
   "cell_type": "code",
   "execution_count": 224,
   "metadata": {},
   "outputs": [],
   "source": [
    "data[\"United States\"] = data.pop(\"US\")\n",
    "df = df.rename(columns={\"US\": \"United States\"})"
   ]
  },
  {
   "cell_type": "code",
   "execution_count": 225,
   "metadata": {
    "scrolled": true
   },
   "outputs": [],
   "source": [
    "def get_procent_to_population(data,df,pop_data, count = len(df.columns)):\n",
    "    result = []\n",
    "    for country_name in df.columns[:count]: \n",
    "        country = pd.DataFrame.from_dict(data[country_name])    \n",
    "        for state in pop_data:\n",
    "            if state['country'] == country_name:\n",
    "                population = state['population']\n",
    "                break\n",
    "        population = int(state['population'])\n",
    "        confirmed = int(country.iloc[len(country)-1]['confirmed']) / population * 100\n",
    "        dead = int(country.iloc[len(country)-1]['deaths']) / population * 100\n",
    "        result.append({\"country\":country_name ,\"population\":population , \"conf_to_pop\":confirmed, \"dead_to_pop\":dead})\n",
    "    return result"
   ]
  },
  {
   "cell_type": "code",
   "execution_count": 226,
   "metadata": {},
   "outputs": [],
   "source": [
    "def print_procent_to_population(data,df,pop_data, count = len(df.columns)):\n",
    "    countries = get_procent_to_population(data,df,pop_data,count) \n",
    "    for country in countries:\n",
    "        print(f\"Страна: {country['country']} , население: {country['population']} , процент заразившихся: {country['conf_to_pop']} , процент умерших: {country['dead_to_pop']}\")\n",
    "    "
   ]
  },
  {
   "cell_type": "code",
   "execution_count": null,
   "metadata": {
    "scrolled": true
   },
   "outputs": [],
   "source": [
    "# Кол-во заразившихся и умерших в процентах от всего населения\n",
    "print_procent_to_population(data,df,pop_data)"
   ]
  },
  {
   "cell_type": "code",
   "execution_count": 228,
   "metadata": {
    "scrolled": true
   },
   "outputs": [],
   "source": [
    "gdp_data_response = requests.get(SOURCE_GDP)\n",
    "csv_path = \"gdp.csv\""
   ]
  },
  {
   "cell_type": "code",
   "execution_count": 229,
   "metadata": {},
   "outputs": [],
   "source": [
    "per_capita_data = requests.get(SOURCE_GDP_PER_CAPITA_JSON).json()"
   ]
  },
  {
   "cell_type": "code",
   "execution_count": 230,
   "metadata": {
    "scrolled": true
   },
   "outputs": [],
   "source": [
    "def set_csv_file(csv_path):\n",
    "    csv_gdp_file = open(csv_path,'wb')\n",
    "    csv_gdp_file.write(gdp_data_response.content)\n",
    "    csv_gdp_file.close()\n",
    "    "
   ]
  },
  {
   "cell_type": "code",
   "execution_count": 231,
   "metadata": {
    "scrolled": true
   },
   "outputs": [],
   "source": [
    "set_csv_file(csv_path)"
   ]
  },
  {
   "cell_type": "code",
   "execution_count": 232,
   "metadata": {},
   "outputs": [],
   "source": [
    "def change(country):\n",
    "    if country == \"Bahamas, The\":\n",
    "        return \"Bahamas\"\n",
    "    if country ==\"Brunei Darussalam\":\n",
    "        return \"Brunei\"\n",
    "    elif country == \"Congo, Dem. Rep.\":\n",
    "        return \"Congo (Kinshasa)\"\n",
    "    elif country == \"Congo, Rep.\":\n",
    "        return \"Congo (Brazzaville)\"\n",
    "    elif country ==\"Egypt, Arab Rep.\":\n",
    "        return \"Egypt\"\n",
    "    elif country == \"Korea, Rep.\":\n",
    "        return \"Korea, South\"\n",
    "    elif country == \"Kyrgyz Republic\":\n",
    "        return \"Kyrgyzstan\"\n",
    "    elif country ==\"Russian Federation\":\n",
    "        return \"Russia\"\n",
    "    elif country == \"St. Vincent and the Grenadines\":\n",
    "        return \"Saint Vincent and the Grenadines\"\n",
    "    elif country == \"Venezuela, RB\":\n",
    "        return \"Venezuela\"\n",
    "    elif country == \"Yemen, Rep.\":\n",
    "        return \"Yemen\"\n",
    "    return country\n",
    "    "
   ]
  },
  {
   "cell_type": "code",
   "execution_count": 233,
   "metadata": {},
   "outputs": [],
   "source": [
    "\n",
    "def get_countries_gdp_csv(csv_path):\n",
    "    countries = []\n",
    "    length = 0\n",
    "    with open(csv_path,\"r\") as csv_file:\n",
    "        for line in csv_file:\n",
    "            length +=1\n",
    "    count = 0\n",
    "    with open(csv_path,\"r\") as csv_file:\n",
    "        line = csv_file.readline().split(\",\")\n",
    "        while (line[0] != \"Afghanistan\"):\n",
    "            line = csv_file.readline().split(\",\")\n",
    "        while(count< length):\n",
    "            line = csv_file.readline().split(\",\")\n",
    "            if len(line) < 4:\n",
    "                break\n",
    "            if line[2] == \"2016\":\n",
    "                countries.append({\"country\":change((line[0])) , \"gdp\":int(round(float(line[3])))})\n",
    "            count+=1\n",
    "    return countries"
   ]
  },
  {
   "cell_type": "code",
   "execution_count": 234,
   "metadata": {
    "scrolled": true
   },
   "outputs": [],
   "source": [
    "def get_countries_per_capita(per_capita_data):\n",
    "    countries = []\n",
    "    length = len(per_capita_data)\n",
    "    count = 0\n",
    "    _iter = iter(per_capita_data)\n",
    "    key = next(_iter)\n",
    "\n",
    "    while key['Country Name']!= 'Afghanistan':\n",
    "        key = next(_iter)\n",
    "        count+=1\n",
    "    while(count + 1 < length):\n",
    "        key = next(_iter)\n",
    "        count+=1\n",
    "        if(int(key['Year']) == 2016):\n",
    "            countries.append({\"country\":change((key['Country Name'])) , \"per_capita\":int(key['Value'])})\n",
    "    return countries"
   ]
  },
  {
   "cell_type": "code",
   "execution_count": null,
   "metadata": {
    "scrolled": true
   },
   "outputs": [],
   "source": [
    "get_countries_per_capita(per_capita_data)"
   ]
  },
  {
   "cell_type": "code",
   "execution_count": 236,
   "metadata": {},
   "outputs": [],
   "source": [
    "# ВВП в миллиардах долларов\n",
    "# Среднедушевой доход в тысячах долларов"
   ]
  },
  {
   "cell_type": "code",
   "execution_count": 237,
   "metadata": {},
   "outputs": [],
   "source": [
    "def get_country_list_by_param(percentage_list,param_list,param = \"gdp\", divider = 10**9):\n",
    "    _list = []\n",
    "    for country in percentage_list:\n",
    "        for state in param_list:\n",
    "            if country['country'] == state['country']:\n",
    "                country[param] = float(state[param]) / divider\n",
    "                _list.append(country)\n",
    "                break\n",
    "    return _list"
   ]
  },
  {
   "cell_type": "code",
   "execution_count": 267,
   "metadata": {
    "scrolled": true
   },
   "outputs": [
    {
     "name": "stdout",
     "output_type": "stream",
     "text": [
      "{'country': 'Afghanistan', 'population': 37172386, 'conf_to_pop': 0.019024875077967823, 'dead_to_pop': 0.00046539923479757263, 'gdp': 19.469022208, 'per_capita': 0.561}\n",
      "{'country': 'Albania', 'population': 2866376, 'conf_to_pop': 0.03307312090249151, 'dead_to_pop': 0.0010815050084148068, 'gdp': 11.863865978, 'per_capita': 4.124}\n",
      "{'country': 'Algeria', 'population': 42228429, 'conf_to_pop': 0.017052493238618942, 'dead_to_pop': 0.0013142804815211098, 'gdp': 159.049096745, 'per_capita': 3.916}\n",
      "{'country': 'Andorra', 'population': 77006, 'conf_to_pop': 0.9882346830117134, 'dead_to_pop': 0.06622860556320287, 'gdp': 2.858517699, 'per_capita': 36.988}\n",
      "{'country': 'Angola', 'population': 30809762, 'conf_to_pop': 0.0001622862260344627, 'dead_to_pop': 9.737173562067764e-06, 'gdp': 95.335111741, 'per_capita': 3.308}\n",
      "{'country': 'Antigua and Barbuda', 'population': 96286, 'conf_to_pop': 0.025964314645950604, 'dead_to_pop': 0.003115717757514073, 'gdp': 1.460144704, 'per_capita': 14.462}\n",
      "{'country': 'Argentina', 'population': 44494502, 'conf_to_pop': 0.01881356038101067, 'dead_to_pop': 0.0008585330385313673, 'gdp': 545.476103427, 'per_capita': 12.44}\n",
      "{'country': 'Armenia', 'population': 2951776, 'conf_to_pop': 0.16339315720434072, 'dead_to_pop': 0.0020665524755265983, 'gdp': 10.572298342, 'per_capita': 3.614}\n",
      "{'country': 'Australia', 'population': 24982688, 'conf_to_pop': 0.028291591361185794, 'dead_to_pop': 0.0003962744121048944, 'gdp': 1204.616439828, 'per_capita': 49.755}\n",
      "{'country': 'Austria', 'population': 8840521, 'conf_to_pop': 0.1840276155670011, 'dead_to_pop': 0.007114965283154692, 'gdp': 390.799991147, 'per_capita': 44.757}\n",
      "{'country': 'Azerbaijan', 'population': 9939800, 'conf_to_pop': 0.034075132296424476, 'dead_to_pop': 0.0004024225839554116, 'gdp': 37.847715736, 'per_capita': 3.878}\n",
      "{'country': 'Bahrain', 'population': 1569439, 'conf_to_pop': 0.4577431808436008, 'dead_to_pop': 0.0007646044223445448, 'gdp': 32.179069149, 'per_capita': 22.579}\n",
      "{'country': 'Bangladesh', 'population': 161356039, 'conf_to_pop': 0.014793372561655409, 'dead_to_pop': 0.0002162918736496748, 'gdp': 221.415162446, 'per_capita': 1.358}\n",
      "{'country': 'Barbados', 'population': 286641, 'conf_to_pop': 0.030700423177424024, 'dead_to_pop': 0.002442079116386002, 'gdp': 4.52905, 'per_capita': 15.891}\n",
      "{'country': 'Belarus', 'population': 9483499, 'conf_to_pop': 0.322370466849841, 'dead_to_pop': 0.0018031319452872826, 'gdp': 47.407217531, 'per_capita': 4.989}\n",
      "{'country': 'Belgium', 'population': 11433256, 'conf_to_pop': 0.48594206234864334, 'dead_to_pop': 0.07941744678856136, 'gdp': 467.955709818, 'per_capita': 41.271}\n",
      "{'country': 'Benin', 'population': 11485048, 'conf_to_pop': 0.002951663763181486, 'dead_to_pop': 1.7413945505495493e-05, 'gdp': 8.583031398, 'per_capita': 0.789}\n",
      "{'country': 'Bhutan', 'population': 754394, 'conf_to_pop': 0.0027836912806835684, 'dead_to_pop': 0.0, 'gdp': 2.21263883, 'per_capita': 2.773}\n",
      "{'country': 'Bolivia', 'population': 11353142, 'conf_to_pop': 0.03754907672254958, 'dead_to_pop': 0.001532615376430595, 'gdp': 33.806395514, 'per_capita': 3.104}\n",
      "{'country': 'Bosnia and Herzegovina', 'population': 3323929, 'conf_to_pop': 0.06931555998939809, 'dead_to_pop': 0.004001288836193553, 'gdp': 16.910277134, 'per_capita': 4.808}\n",
      "{'country': 'Brazil', 'population': 209469333, 'conf_to_pop': 0.1219118791006987, 'dead_to_pop': 0.008045569133501752, 'gdp': 1796.186586414, 'per_capita': 8.649}\n",
      "{'country': 'Brunei', 'population': 428962, 'conf_to_pop': 0.0328700444328402, 'dead_to_pop': 0.0002331208825024128, 'gdp': 11.400653732, 'per_capita': 26.939}\n",
      "{'country': 'Bulgaria', 'population': 7025037, 'conf_to_pop': 0.03181477905383274, 'dead_to_pop': 0.0015658280518664885, 'gdp': 53.237882473, 'per_capita': 7.469}\n",
      "{'country': 'Burkina Faso', 'population': 19751535, 'conf_to_pop': 0.004030066523943582, 'dead_to_pop': 0.0002582077798004054, 'gdp': 11.693235542, 'per_capita': 0.627}\n",
      "{'country': 'Cabo Verde', 'population': 14439018, 'conf_to_pop': 0.002271622626968122, 'dead_to_pop': 2.077703622226941e-05, 'gdp': 1.617467436, 'per_capita': 2.997}\n",
      "{'country': 'Cambodia', 'population': 16249798, 'conf_to_pop': 0.0007507785635242973, 'dead_to_pop': 0.0, 'gdp': 20.016747754, 'per_capita': 1.269}\n",
      "{'country': 'Cameroon', 'population': 25216237, 'conf_to_pop': 0.013994950951642784, 'dead_to_pop': 0.0005551978274950382, 'gdp': 32.21749747, 'per_capita': 1.374}\n",
      "{'country': 'Canada', 'population': 37057765, 'conf_to_pop': 0.21428977165784285, 'dead_to_pop': 0.016082999069155952, 'gdp': 1529.760492201, 'per_capita': 42.348}\n",
      "{'country': 'Central African Republic', 'population': 4666377, 'conf_to_pop': 0.007007577827509436, 'dead_to_pop': 0.0, 'gdp': 1.756124677, 'per_capita': 0.382}\n",
      "{'country': 'Chad', 'population': 15477751, 'conf_to_pop': 0.0033532003454507056, 'dead_to_pop': 0.0003424270102290701, 'gdp': 9.600761474, 'per_capita': 0.664}\n",
      "{'country': 'Chile', 'population': 18729160, 'conf_to_pop': 0.24592133336465705, 'dead_to_pop': 0.0025521699851995495, 'gdp': 247.027912574, 'per_capita': 13.792}\n",
      "{'country': 'China', 'population': 1392730000, 'conf_to_pop': 0.00603584327184738, 'dead_to_pop': 0.00033301501367817164, 'gdp': 11199.145157649, 'per_capita': 8.123}\n",
      "{'country': 'Colombia', 'population': 49648685, 'conf_to_pop': 0.03282060743401361, 'dead_to_pop': 0.001192378005580611, 'gdp': 282.462551367, 'per_capita': 5.805}\n",
      "{'country': 'Costa Rica', 'population': 4999441, 'conf_to_pop': 0.017321936592511043, 'dead_to_pop': 0.00020002236250012752, 'gdp': 57.435507212, 'per_capita': 11.824}\n",
      "{'country': \"Cote d'Ivoire\", 'population': 14439018, 'conf_to_pop': 0.01467551325166296, 'dead_to_pop': 0.00019391900474118113, 'gdp': 36.372613023, 'per_capita': 1.534}\n",
      "{'country': 'Croatia', 'population': 4087843, 'conf_to_pop': 0.05450307166884834, 'dead_to_pop': 0.002323964007423964, 'gdp': 50.714957391, 'per_capita': 12.149}\n",
      "{'country': 'Cyprus', 'population': 1189265, 'conf_to_pop': 0.07710644810029724, 'dead_to_pop': 0.001429454326832119, 'gdp': 20.047013274, 'per_capita': 23.541}\n",
      "{'country': 'Denmark', 'population': 5793636, 'conf_to_pop': 0.19272871129632582, 'dead_to_pop': 0.00945865428894739, 'gdp': 306.89965341, 'per_capita': 53.578}\n",
      "{'country': 'Dominican Republic', 'population': 10627165, 'conf_to_pop': 0.11974030703390791, 'dead_to_pop': 0.004083873733022871, 'gdp': 71.583553488, 'per_capita': 6.722}\n",
      "{'country': 'Ecuador', 'population': 17084357, 'conf_to_pop': 0.1965657823703871, 'dead_to_pop': 0.016383408518096408, 'gdp': 98.613972, 'per_capita': 6.018}\n",
      "{'country': 'El Salvador', 'population': 6420744, 'conf_to_pop': 0.02200679547416935, 'dead_to_pop': 0.00046723557269998616, 'gdp': 26.79747, 'per_capita': 4.223}\n",
      "{'country': 'Equatorial Guinea', 'population': 1308974, 'conf_to_pop': 0.054928516532795915, 'dead_to_pop': 0.0005347699801523942, 'gdp': 10.684804794, 'per_capita': 8.747}\n",
      "{'country': 'Estonia', 'population': 1321977, 'conf_to_pop': 0.1349493977580548, 'dead_to_pop': 0.0048412340002889605, 'gdp': 23.337907619, 'per_capita': 17.736}\n",
      "{'country': 'Ethiopia', 'population': 109224559, 'conf_to_pop': 0.0003222718436427837, 'dead_to_pop': 4.577725051744086e-06, 'gdp': 72.374224249, 'per_capita': 0.706}\n",
      "{'country': 'Fiji', 'population': 14439018, 'conf_to_pop': 0.00012466221733361646, 'dead_to_pop': 0.0, 'gdp': 4.703632978, 'per_capita': 5.233}\n",
      "{'country': 'Finland', 'population': 5515525, 'conf_to_pop': 0.11567348529831702, 'dead_to_pop': 0.005439192098666944, 'gdp': 238.502900312, 'per_capita': 43.433}\n",
      "{'country': 'France', 'population': 66977107, 'conf_to_pop': 0.26882468960625605, 'dead_to_pop': 0.042166646582689815, 'gdp': 2465.453975282, 'per_capita': 36.857}\n",
      "{'country': 'Gabon', 'population': 2119275, 'conf_to_pop': 0.06757027757133925, 'dead_to_pop': 0.0005190454282714607, 'gdp': 14.21355813, 'per_capita': 7.179}\n",
      "{'country': 'Georgia', 'population': 3726549, 'conf_to_pop': 0.018810969612904592, 'dead_to_pop': 0.000322013745156712, 'gdp': 14.378016729, 'per_capita': 3.865}\n",
      "{'country': 'Germany', 'population': 82905782, 'conf_to_pop': 0.21295378409192256, 'dead_to_pop': 0.009653126485194964, 'gdp': 3477.796274497, 'per_capita': 42.161}\n",
      "{'country': 'Ghana', 'population': 29767108, 'conf_to_pop': 0.019266231707829998, 'dead_to_pop': 9.742296765947167e-05, 'gdp': 42.689783734, 'per_capita': 1.513}\n",
      "{'country': 'Greece', 'population': 10731726, 'conf_to_pop': 0.026426317630547033, 'dead_to_pop': 0.0015374973233569325, 'gdp': 192.690813127, 'per_capita': 17.89}\n",
      "{'country': 'Guatemala', 'population': 17247807, 'conf_to_pop': 0.01108546727128846, 'dead_to_pop': 0.0002029243485853013, 'gdp': 68.763255964, 'per_capita': 4.146}\n",
      "{'country': 'Guinea', 'population': 12414318, 'conf_to_pop': 0.022522381011989542, 'dead_to_pop': 0.0001288834392674652, 'gdp': 8.200248003, 'per_capita': 0.661}\n",
      "{'country': 'Guyana', 'population': 779004, 'conf_to_pop': 0.01591776165462565, 'dead_to_pop': 0.0012836904560181975, 'gdp': 3.502397094, 'per_capita': 4.529}\n",
      "{'country': 'Haiti', 'population': 11123176, 'conf_to_pop': 0.004791796875280945, 'dead_to_pop': 0.00018879499883846124, 'gdp': 8.022638722, 'per_capita': 0.739}\n",
      "{'country': 'Honduras', 'population': 9587522, 'conf_to_pop': 0.02918376614937624, 'dead_to_pop': 0.0015228126725550146, 'gdp': 21.51693891, 'per_capita': 2.361}\n",
      "{'country': 'Hungary', 'population': 9775564, 'conf_to_pop': 0.03616159640507698, 'dead_to_pop': 0.004726070025217982, 'gdp': 125.816640421, 'per_capita': 12.82}\n",
      "{'country': 'Iceland', 'population': 352721, 'conf_to_pop': 0.5108853739924756, 'dead_to_pop': 0.002835101964442151, 'gdp': 20.047413006, 'per_capita': 60.529}\n",
      "{'country': 'India', 'population': 1352617328, 'conf_to_pop': 0.007417323283026876, 'dead_to_pop': 0.00023332541544965332, 'gdp': 2263.792499341, 'per_capita': 1.709}\n",
      "{'country': 'Indonesia', 'population': 267663435, 'conf_to_pop': 0.006728599294856991, 'dead_to_pop': 0.000444961785684324, 'gdp': 932.259177765, 'per_capita': 3.57}\n",
      "{'country': 'Iraq', 'population': 38433600, 'conf_to_pop': 0.0092471171058657, 'dead_to_pop': 0.00033044003163898255, 'gdp': 171.489001692, 'per_capita': 4.609}\n",
      "{'country': 'Ireland', 'population': 4867309, 'conf_to_pop': 0.4971946510895445, 'dead_to_pop': 0.03178347624940188, 'gdp': 304.819020501, 'per_capita': 64.175}\n",
      "{'country': 'Israel', 'population': 8882800, 'conf_to_pop': 0.1873620930337281, 'dead_to_pop': 0.0031071283829423157, 'gdp': 317.744784695, 'per_capita': 37.18}\n",
      "{'country': 'Italy', 'population': 60421760, 'conf_to_pop': 0.3738487591225413, 'dead_to_pop': 0.05297263767225582, 'gdp': 1858.913163928, 'per_capita': 30.668}\n",
      "{'country': 'Jamaica', 'population': 2934855, 'conf_to_pop': 0.017718081472508865, 'dead_to_pop': 0.0003066591024088072, 'gdp': 14.056908749, 'per_capita': 4.878}\n",
      "{'country': 'Japan', 'population': 126529100, 'conf_to_pop': 0.01288636369024991, 'dead_to_pop': 0.0005919586877643166, 'gdp': 4940.158776617, 'per_capita': 38.972}\n",
      "{'country': 'Jordan', 'population': 9956011, 'conf_to_pop': 0.0063177913322916175, 'dead_to_pop': 9.039765022356845e-05, 'gdp': 38.654727746, 'per_capita': 4.087}\n",
      "{'country': 'Kazakhstan', 'population': 18272430, 'conf_to_pop': 0.036946372212125045, 'dead_to_pop': 0.0001915454047436493, 'gdp': 137.278320084, 'per_capita': 7.714}\n",
      "{'country': 'Kenya', 'population': 51393010, 'conf_to_pop': 0.0017745603925514385, 'dead_to_pop': 9.728949520567097e-05, 'gdp': 70.529014778, 'per_capita': 1.455}\n",
      "{'country': 'Kuwait', 'population': 4137309, 'conf_to_pop': 0.3792561783516774, 'dead_to_pop': 0.0028520954079088606, 'gdp': 110.875579087, 'per_capita': 27.359}\n",
      "{'country': 'Kyrgyzstan', 'population': 6322800, 'conf_to_pop': 0.019231985829063075, 'dead_to_pop': 0.0002214208894793446, 'gdp': 6.551287938, 'per_capita': 1.077}\n",
      "{'country': 'Latvia', 'population': 1927174, 'conf_to_pop': 0.052356455618434036, 'dead_to_pop': 0.0009858995607039116, 'gdp': 27.572698482, 'per_capita': 14.071}\n",
      "{'country': 'Lebanon', 'population': 6848925, 'conf_to_pop': 0.013593374142657424, 'dead_to_pop': 0.00037962161945122774, 'gdp': 49.598825982, 'per_capita': 8.257}\n",
      "{'country': 'Liberia', 'population': 4818977, 'conf_to_pop': 0.004752045921779664, 'dead_to_pop': 0.00045652842916660524, 'gdp': 2.101, 'per_capita': 0.455}\n",
      "{'country': 'Lithuania', 'population': 2801543, 'conf_to_pop': 0.05521957007263498, 'dead_to_pop': 0.0021059823104624844, 'gdp': 42.738875963, 'per_capita': 14.912}\n",
      "{'country': 'Luxembourg', 'population': 607950, 'conf_to_pop': 0.6492310222880171, 'dead_to_pop': 0.017600131589768895, 'gdp': 58.631324559, 'per_capita': 100.738}\n",
      "{'country': 'Madagascar', 'population': 26262368, 'conf_to_pop': 0.0012260889802473258, 'dead_to_pop': 3.8077297523208873e-06, 'gdp': 10.00119342, 'per_capita': 0.401}\n",
      "{'country': 'Malaysia', 'population': 31528585, 'conf_to_pop': 0.022014942947804348, 'dead_to_pop': 0.000358404920487234, 'gdp': 296.535930381, 'per_capita': 9.508}\n",
      "{'country': 'Maldives', 'population': 515696, 'conf_to_pop': 0.21446743818063352, 'dead_to_pop': 0.0007756507709968664, 'gdp': 4.224209599, 'per_capita': 9.875}\n",
      "{'country': 'Malta', 'population': 484630, 'conf_to_pop': 0.11513938468522378, 'dead_to_pop': 0.0012380578998411158, 'gdp': 10.99904758, 'per_capita': 25.145}\n",
      "{'country': 'Mauritania', 'population': 4403319, 'conf_to_pop': 0.0018395215063909747, 'dead_to_pop': 9.084056821683825e-05, 'gdp': 4.73929873, 'per_capita': 1.101}\n",
      "{'country': 'Mauritius', 'population': 1265303, 'conf_to_pop': 0.02623877442794335, 'dead_to_pop': 0.000790324530962149, 'gdp': 12.168437744, 'per_capita': 9.63}\n",
      "{'country': 'Mexico', 'population': 126190788, 'conf_to_pop': 0.04091661587849028, 'dead_to_pop': 0.004225348049970177, 'gdp': 1046.922702461, 'per_capita': 8.208}\n",
      "{'country': 'Moldova', 'population': 2706049, 'conf_to_pop': 0.2268251609634563, 'dead_to_pop': 0.0080190713471929, 'gdp': 6.749515655, 'per_capita': 1.9}\n",
      "{'country': 'Mongolia', 'population': 3170208, 'conf_to_pop': 0.004416114021540542, 'dead_to_pop': 0.0, 'gdp': 11.183458131, 'per_capita': 3.694}\n",
      "{'country': 'Montenegro', 'population': 631219, 'conf_to_pop': 0.0513292533969985, 'dead_to_pop': 0.0014258125943610697, 'gdp': 4.374127212, 'per_capita': 7.028}\n",
      "{'country': 'Morocco', 'population': 36029138, 'conf_to_pop': 0.01929549355302367, 'dead_to_pop': 0.000532902008368893, 'gdp': 103.606321693, 'per_capita': 2.892}\n",
      "{'country': 'Namibia', 'population': 2448255, 'conf_to_pop': 0.0006535266955443775, 'dead_to_pop': 0.0, 'gdp': 10.94788069, 'per_capita': 4.414}\n",
      "{'country': 'Nepal', 'population': 28087871, 'conf_to_pop': 0.0013350958497352825, 'dead_to_pop': 7.120511198588174e-06, 'gdp': 21.131983246, 'per_capita': 0.729}\n",
      "{'country': 'Netherlands', 'population': 17231624, 'conf_to_pop': 0.2573233956358379, 'dead_to_pop': 0.033154158888332286, 'gdp': 777.227541581, 'per_capita': 45.637}\n",
      "{'country': 'New Zealand', 'population': 4841000, 'conf_to_pop': 0.030964676719686016, 'dead_to_pop': 0.00043379467052261935, 'gdp': 184.969146624, 'per_capita': 39.412}\n",
      "{'country': 'Nicaragua', 'population': 6465513, 'conf_to_pop': 0.0003866669203201664, 'dead_to_pop': 0.00012373341450245325, 'gdp': 13.230844687, 'per_capita': 2.151}\n",
      "{'country': 'Niger', 'population': 22442948, 'conf_to_pop': 0.0040502700447374385, 'dead_to_pop': 0.0002450658442910441, 'gdp': 7.528387858, 'per_capita': 0.364}\n",
      "{'country': 'Nigeria', 'population': 195874740, 'conf_to_pop': 0.00315252492485759, 'dead_to_pop': 9.751129727089874e-05, 'gdp': 404.652720165, 'per_capita': 2.175}\n",
      "{'country': 'Norway', 'population': 5311916, 'conf_to_pop': 0.155442970107208, 'dead_to_pop': 0.00438636454341522, 'gdp': 371.076190476, 'per_capita': 70.867}\n",
      "{'country': 'Oman', 'population': 4829483, 'conf_to_pop': 0.11137838149549342, 'dead_to_pop': 0.0005176537530000623, 'gdp': 66.29336801, 'per_capita': 14.982}\n",
      "{'country': 'Pakistan', 'population': 212215030, 'conf_to_pop': 0.019850149162384964, 'dead_to_pop': 0.0004255118028162285, 'gdp': 278.913371202, 'per_capita': 1.443}\n",
      "{'country': 'Panama', 'population': 4176873, 'conf_to_pop': 0.2328536203997584, 'dead_to_pop': 0.0066796380928986826, 'gdp': 55.1877, 'per_capita': 13.68}\n",
      "{'country': 'Papua New Guinea', 'population': 8606316, 'conf_to_pop': 9.295498794141419e-05, 'dead_to_pop': 0.0, 'gdp': 20.213214172, 'per_capita': 2.5}\n",
      "{'country': 'Paraguay', 'population': 6956071, 'conf_to_pop': 0.011328233998761657, 'dead_to_pop': 0.0001581352461756069, 'gdp': 27.424071383, 'per_capita': 4.077}\n",
      "{'country': 'Peru', 'population': 31989256, 'conf_to_pop': 0.29676526393736696, 'dead_to_pop': 0.008718552253919255, 'gdp': 192.207342005, 'per_capita': 6.049}\n",
      "{'country': 'Philippines', 'population': 106651922, 'conf_to_pop': 0.011924773376329776, 'dead_to_pop': 0.0007791702056714927, 'gdp': 304.905406845, 'per_capita': 2.951}\n",
      "{'country': 'Poland', 'population': 37974750, 'conf_to_pop': 0.049730412971777306, 'dead_to_pop': 0.0024647956866075483, 'gdp': 471.364408714, 'per_capita': 12.414}\n",
      "{'country': 'Portugal', 'population': 10283822, 'conf_to_pop': 0.28402864226938196, 'dead_to_pop': 0.011970257750474483, 'gdp': 204.836597909, 'per_capita': 19.871}\n",
      "{'country': 'Qatar', 'population': 2781677, 'conf_to_pop': 1.2211698195009701, 'dead_to_pop': 0.0005392430537406032, 'gdp': 152.451923077, 'per_capita': 59.324}\n",
      "{'country': 'Romania', 'population': 19466145, 'conf_to_pop': 0.08751604388028549, 'dead_to_pop': 0.00575357884162478, 'gdp': 187.59203784, 'per_capita': 9.522}\n",
      "{'country': 'Russia', 'population': 14439018, 'conf_to_pop': 2.013142445005609, 'dead_to_pop': 0.01885169753233911, 'gdp': 1283.162985989, 'per_capita': 8.748}\n",
      "{'country': 'Rwanda', 'population': 12301939, 'conf_to_pop': 0.002414253557914732, 'dead_to_pop': 0.0, 'gdp': 8.376048905, 'per_capita': 0.702}\n",
      "{'country': 'Saint Vincent and the Grenadines', 'population': 110210, 'conf_to_pop': 0.015425097541057978, 'dead_to_pop': 0.0, 'gdp': 0.768224227, 'per_capita': 7.006}\n",
      "{'country': 'San Marino', 'population': 33785, 'conf_to_pop': 1.9357703122687582, 'dead_to_pop': 0.1213556311972769, 'gdp': 1.590707965, 'per_capita': 47.908}\n",
      "{'country': 'Saudi Arabia', 'population': 33699947, 'conf_to_pop': 0.17016347236391796, 'dead_to_pop': 0.0009495563895100488, 'gdp': 646.43838056, 'per_capita': 20.028}\n",
      "{'country': 'Senegal', 'population': 15854360, 'conf_to_pop': 0.016046059254362838, 'dead_to_pop': 0.00016399274395182146, 'gdp': 14.683697631, 'per_capita': 0.952}\n",
      "{'country': 'Serbia', 'population': 14439018, 'conf_to_pop': 0.07409783684735347, 'dead_to_pop': 0.0015998317891147446, 'gdp': 38.299854688, 'per_capita': 5.426}\n",
      "{'country': 'Seychelles', 'population': 96762, 'conf_to_pop': 0.011368099047146607, 'dead_to_pop': 0.0, 'gdp': 1.427323889, 'per_capita': 15.075}\n",
      "{'country': 'Singapore', 'population': 5638676, 'conf_to_pop': 0.5026534597838216, 'dead_to_pop': 0.00039016251332759673, 'gdp': 296.97567861, 'per_capita': 52.962}\n",
      "{'country': 'Slovenia', 'population': 2073894, 'conf_to_pop': 0.07068828011460566, 'dead_to_pop': 0.005014721099535463, 'gdp': 44.708598649, 'per_capita': 21.65}\n",
      "{'country': 'Somalia', 'population': 15008154, 'conf_to_pop': 0.009694729944802005, 'dead_to_pop': 0.0003797935442293569, 'gdp': 6.217, 'per_capita': 0.434}\n",
      "{'country': 'South Africa', 'population': 57779622, 'conf_to_pop': 0.02844082296003944, 'dead_to_pop': 0.0004949842004850776, 'gdp': 295.456189492, 'per_capita': 5.274}\n",
      "{'country': 'Spain', 'population': 46796540, 'conf_to_pop': 0.4949212057130719, 'dead_to_pop': 0.05921164257015583, 'gdp': 1237.255019654, 'per_capita': 26.616}\n",
      "{'country': 'Sri Lanka', 'population': 14439018, 'conf_to_pop': 0.006870273310830418, 'dead_to_pop': 6.233110866680823e-05, 'gdp': 81.321876307, 'per_capita': 3.835}\n",
      "{'country': 'Sudan', 'population': 41801533, 'conf_to_pop': 0.006198337271506287, 'dead_to_pop': 0.0002511869600571826, 'gdp': 95.584380032, 'per_capita': 2.415}\n",
      "{'country': 'Suriname', 'population': 575991, 'conf_to_pop': 0.0019097520620981927, 'dead_to_pop': 0.0001736138238271084, 'gdp': 3.278425328, 'per_capita': 5.871}\n",
      "{'country': 'Sweden', 'population': 10175214, 'conf_to_pop': 0.2985391756871158, 'dead_to_pop': 0.03634321597560504, 'gdp': 514.459972806, 'per_capita': 51.844}\n",
      "{'country': 'Switzerland', 'population': 8513227, 'conf_to_pop': 0.35940542875222287, 'dead_to_pop': 0.022153761434999912, 'gdp': 668.851296244, 'per_capita': 79.887}\n",
      "{'country': 'Tanzania', 'population': 56318348, 'conf_to_pop': 0.0009037907148838954, 'dead_to_pop': 3.728802556495443e-05, 'gdp': 47.340071107, 'per_capita': 0.877}\n",
      "{'country': 'Thailand', 'population': 69428524, 'conf_to_pop': 0.004365640842371933, 'dead_to_pop': 8.065849131403111e-05, 'gdp': 407.02612731, 'per_capita': 5.91}\n",
      "{'country': 'Togo', 'population': 7889094, 'conf_to_pop': 0.004182989833813617, 'dead_to_pop': 0.00015210872122958606, 'gdp': 4.399995987, 'per_capita': 0.578}\n",
      "{'country': 'Trinidad and Tobago', 'population': 1389858, 'conf_to_pop': 0.008346176371974691, 'dead_to_pop': 0.0005755983704810131, 'gdp': 21.894706041, 'per_capita': 16.04}\n",
      "{'country': 'Tunisia', 'population': 11565204, 'conf_to_pop': 0.00901843149502594, 'dead_to_pop': 0.000397744821448891, 'gdp': 42.062549395, 'per_capita': 3.688}\n",
      "{'country': 'Turkey', 'population': 82319724, 'conf_to_pop': 0.18293671635730946, 'dead_to_pop': 0.005066829427173493, 'gdp': 863.711710427, 'per_capita': 10.862}\n",
      "{'country': 'Uganda', 'population': 42723139, 'conf_to_pop': 0.0005804816916659611, 'dead_to_pop': 0.0, 'gdp': 24.078931933, 'per_capita': 0.58}\n",
      "{'country': 'Ukraine', 'population': 44622516, 'conf_to_pop': 0.041718848843037004, 'dead_to_pop': 0.0011989462898058013, 'gdp': 93.270479389, 'per_capita': 2.185}\n",
      "{'country': 'United Arab Emirates', 'population': 9630959, 'conf_to_pop': 0.2511691722496171, 'dead_to_pop': 0.002325832764940646, 'gdp': 348.743265705, 'per_capita': 37.622}\n",
      "{'country': 'United Kingdom', 'population': 66460344, 'conf_to_pop': 0.37271699947866654, 'dead_to_pop': 0.052476406080594465, 'gdp': 2647.898654635, 'per_capita': 40.412}\n",
      "{'country': 'Uruguay', 'population': 3449299, 'conf_to_pop': 0.021366660298222914, 'dead_to_pop': 0.0005798279592462121, 'gdp': 52.419720714, 'per_capita': 15.22}\n",
      "{'country': 'United States', 'population': 326687501, 'conf_to_pop': 0.4616974923690147, 'dead_to_pop': 0.027655481070884315, 'gdp': 18624.475, 'per_capita': 57.638}\n",
      "{'country': 'Uzbekistan', 'population': 32955400, 'conf_to_pop': 0.008469021768814821, 'dead_to_pop': 3.9447252953992364e-05, 'gdp': 67.22033557, 'per_capita': 2.11}\n",
      "{'country': 'Vietnam', 'population': 95540395, 'conf_to_pop': 0.00033912357176249904, 'dead_to_pop': 0.0, 'gdp': 205.276172135, 'per_capita': 2.17}\n",
      "{'country': 'Zambia', 'population': 17351822, 'conf_to_pop': 0.0043857065845880625, 'dead_to_pop': 4.0341584877945384e-05, 'gdp': 21.063989683, 'per_capita': 1.269}\n",
      "{'country': 'Zimbabwe', 'population': 14439018, 'conf_to_pop': 0.00031858122207479764, 'dead_to_pop': 2.7702714963025883e-05, 'gdp': 16.619960402, 'per_capita': 1.029}\n",
      "{'country': 'Dominica', 'population': 71625, 'conf_to_pop': 0.022338568935427575, 'dead_to_pop': 0.0, 'gdp': 0.581484032, 'per_capita': 7.906}\n",
      "{'country': 'Grenada', 'population': 111454, 'conf_to_pop': 0.019739085183124876, 'dead_to_pop': 0.0, 'gdp': 1.056188593, 'per_capita': 9.841}\n",
      "{'country': 'Mozambique', 'population': 29495962, 'conf_to_pop': 0.0004915927136060184, 'dead_to_pop': 0.0, 'gdp': 11.014858592, 'per_capita': 0.382}\n",
      "{'country': 'Timor-Leste', 'population': 14439018, 'conf_to_pop': 0.00016621628977815528, 'dead_to_pop': 0.0, 'gdp': 1.782974, 'per_capita': 1.405}\n",
      "{'country': 'Belize', 'population': 383071, 'conf_to_pop': 0.004698867833900243, 'dead_to_pop': 0.0005220964259889159, 'gdp': 1.7411, 'per_capita': 4.744}\n",
      "{'country': 'West Bank and Gaza', 'population': 14439018, 'conf_to_pop': 0.0026871633514135105, 'dead_to_pop': 1.3851357481512941e-05, 'gdp': 13.3971, 'per_capita': 2.943}\n",
      "{'country': 'Guinea-Bissau', 'population': 1874309, 'conf_to_pop': 0.05506029155278025, 'dead_to_pop': 0.00021341198276271416, 'gdp': 1.16494451, 'per_capita': 0.641}\n",
      "{'country': 'Mali', 'population': 19077690, 'conf_to_pop': 0.004581267438563055, 'dead_to_pop': 0.0002725696874202275, 'gdp': 14.034980334, 'per_capita': 0.779}\n",
      "{'country': 'Kosovo', 'population': 14439018, 'conf_to_pop': 0.006614023197422428, 'dead_to_pop': 0.0002008446834819376, 'gdp': 6.649888889, 'per_capita': 3.661}\n",
      "{'country': 'Botswana', 'population': 2254126, 'conf_to_pop': 0.0011090773097865868, 'dead_to_pop': 4.436309239146348e-05, 'gdp': 15.581137274, 'per_capita': 6.924}\n",
      "{'country': 'Burundi', 'population': 11175378, 'conf_to_pop': 0.0003758262136636452, 'dead_to_pop': 8.948243182467742e-06, 'gdp': 3.00702903, 'per_capita': 0.285}\n",
      "{'country': 'Sierra Leone', 'population': 7650154, 'conf_to_pop': 0.006784177155126551, 'dead_to_pop': 0.0004313638653548674, 'gdp': 3.736588554, 'per_capita': 0.505}\n",
      "{'country': 'Malawi', 'population': 18143315, 'conf_to_pop': 0.0003858170350897838, 'dead_to_pop': 1.6535015789562163e-05, 'gdp': 5.433038647, 'per_capita': 0.3}\n",
      "{'country': 'Sao Tome and Principe', 'population': 211028, 'conf_to_pop': 0.1165722084273177, 'dead_to_pop': 0.0033170953617529426, 'gdp': 0.342781716, 'per_capita': 1.714}\n",
      "{'country': 'Comoros', 'population': 832322, 'conf_to_pop': 0.001321603898491209, 'dead_to_pop': 0.00012014580895374627, 'gdp': 0.61665449, 'per_capita': 0.775}\n",
      "{'country': 'Tajikistan', 'population': 9100837, 'conf_to_pop': 0.01899825257830681, 'dead_to_pop': 0.0004505080137134639, 'gdp': 6.951657159, 'per_capita': 0.795}\n",
      "{'country': 'Lesotho', 'population': 2108132, 'conf_to_pop': 4.743535983515264e-05, 'dead_to_pop': 0.0, 'gdp': 2.291321667, 'per_capita': 1.039}\n"
     ]
    }
   ],
   "source": [
    "gdp_csv_list = get_countries_gdp_csv(csv_path)\n",
    "per_capita_list = get_countries_per_capita(per_capita_data)\n",
    "states_percentage = get_procent_to_population(data,df,pop_data) \n",
    "countries_with_gdp = get_country_list_by_param(states_percentage,gdp_csv_list)\n",
    "countries_with_gdp_and_capita = get_country_list_by_param(countries_with_gdp,per_capita_list, param=\"per_capita\", divider = 10**3)\n",
    "for c in countries_with_gdp_and_capita:\n",
    "    print(c)"
   ]
  },
  {
   "cell_type": "code",
   "execution_count": 239,
   "metadata": {},
   "outputs": [],
   "source": [
    "#statuses('conf_to_pop' , \"dead_to_pop\")"
   ]
  },
  {
   "cell_type": "code",
   "execution_count": 268,
   "metadata": {},
   "outputs": [],
   "source": [
    "def get_data_by_param_and_status(countries, param = \"gdp\", status='conf_to_pop'):\n",
    "    _sorted = sorted(countries, key=lambda k: k[param]) \n",
    "    _x = []\n",
    "    _y = []\n",
    "    for country in _sorted:\n",
    "        _x.append(country[param])\n",
    "        _y.append(country[status])\n",
    "    #return np.array(_x) , np.array(_x)\n",
    "    return _x , _y"
   ]
  },
  {
   "cell_type": "code",
   "execution_count": 269,
   "metadata": {},
   "outputs": [],
   "source": [
    "def get_dependency_by_param_and_status(countries, param=\"gdp\", status='conf_to_pop', method = \"r2\", functions = functions_to_fit):\n",
    "    x,y = get_data_by_param_and_status(countries,param,status)\n",
    "    name, func , params , res = get_curve_fit_with_params(np.array(x),np.array(y),method,functions)\n",
    "    return {\"criteria\":status,\"param\":param, \"dependency\":name ,\"opt_params\":params, method:res }"
   ]
  },
  {
   "cell_type": "code",
   "execution_count": 260,
   "metadata": {},
   "outputs": [],
   "source": [
    "def print_dependency_by_param_and_status(countries, param = \"gdp\", status='conf_to_pop', method = \"r2\",functions = functions_to_fit):\n",
    "    res = get_dependency_by_param_and_status(countries, param, status, method)\n",
    "    _param = \"ВВП\" if res['param']==\"gdp\" else \"Среднешушевой доход\"\n",
    "    _param_con = \"ВВП\" if res['param']==\"gdp\" else \"Среднешушевого дохода\"\n",
    "    print(f\"Кривая для {_param_con}:\")\n",
    "    criteria = f\"Процент заражённых/{_param}\" if res['criteria'] ==\"conf_to_pop\" else f\"Процент умерших/{_param}\"\n",
    "    print(f\"Критерий: {criteria}, зависимость: {res['dependency']}\")\n",
    "    print(\"Оптимальные параметры:\" , end = \" \")\n",
    "    for param in res['opt_params']:\n",
    "        print(param, end = \", \")\n",
    "    print()\n",
    "    print(f\"{list(res.keys())[-1]}: {res[list(res.keys())[-1]]}\")"
   ]
  },
  {
   "cell_type": "code",
   "execution_count": null,
   "metadata": {
    "scrolled": false
   },
   "outputs": [],
   "source": [
    "#statuses('conf_to_pop' , \"dead_to_pop\")\n",
    "#params('gdp','per_capita')\n",
    "#Функции зависимости стран по процентному количеству заражённых/умерших в зависимости от увеличения ВВП/Среднедушевого дохода\n",
    "#Как и при динамике количества, оптимальные параметры выдаёт кубическая функция, хоть и с достаточно малыми коэффициентами\n",
    "print_dependency_by_param_and_status(countries_with_gdp_and_capita,param=\"gdp\", status='conf_to_pop', method = \"r2\", functions = functions_to_fit)"
   ]
  },
  {
   "cell_type": "code",
   "execution_count": null,
   "metadata": {},
   "outputs": [],
   "source": []
  },
  {
   "cell_type": "code",
   "execution_count": null,
   "metadata": {},
   "outputs": [],
   "source": []
  }
 ],
 "metadata": {
  "kernelspec": {
   "display_name": "Python 3",
   "language": "python",
   "name": "python3"
  },
  "language_info": {
   "codemirror_mode": {
    "name": "ipython",
    "version": 3
   },
   "file_extension": ".py",
   "mimetype": "text/x-python",
   "name": "python",
   "nbconvert_exporter": "python",
   "pygments_lexer": "ipython3",
   "version": "3.7.0"
  }
 },
 "nbformat": 4,
 "nbformat_minor": 4
}
