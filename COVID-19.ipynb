{
 "cells": [
  {
   "cell_type": "code",
   "execution_count": 85,
   "metadata": {},
   "outputs": [],
   "source": [
    "import pandas as pd\n",
    "import matplotlib.pyplot as plt\n",
    "import requests\n",
    "import csv\n",
    "import numpy as np\n",
    "from scipy.optimize import curve_fit\n",
    "from sklearn.metrics import r2_score, mean_squared_error\n",
    "import sympy as sym\n",
    "#import seaborn as sns\n",
    "\n",
    "SOURCE_COVID_19 = \"https://pomber.github.io/covid19/timeseries.json\"\n",
    "SOURCE_COUNTRIES_BY_POPULATION = \"https://raw.githubusercontent.com/samayo/country-json/master/src/country-by-population.json\"\n",
    "SOURCE_GDP = \"https://raw.githubusercontent.com/datasets/gdp/master/data/gdp.csv\"\n",
    "SOURCE_GDP_PER_CAPITA_JSON = \"https://pkgstore.datahub.io/world-bank/ny.gdp.pcap.cd/data_json/data/5fa3074284c7b57091aa9bacc502ecb5/data_json.json\"\n",
    "SOURCE_GDP_PER_CAPITA_CSV = \"https://datahub.io/world-bank/ny.gdp.pcap.cd/r/data.csv\"\n",
    "def get_data_json(source):\n",
    "    return requests.get(source).json()"
   ]
  },
  {
   "cell_type": "code",
   "execution_count": 86,
   "metadata": {},
   "outputs": [],
   "source": [
    "np.warnings.filterwarnings('ignore')"
   ]
  },
  {
   "cell_type": "code",
   "execution_count": 87,
   "metadata": {},
   "outputs": [],
   "source": [
    "data = requests.get(SOURCE_COVID_19).json()"
   ]
  },
  {
   "cell_type": "code",
   "execution_count": 88,
   "metadata": {},
   "outputs": [],
   "source": [
    "df = pd.DataFrame.from_dict(data)"
   ]
  },
  {
   "cell_type": "code",
   "execution_count": 89,
   "metadata": {},
   "outputs": [],
   "source": [
    "def get_average_speed_of_propagation_list(data,status ='confirmed', days = len(data[list(data.keys())[0]]), reverse = False):\n",
    "    min_days = days\n",
    "    speed = {}\n",
    "    for key in data:\n",
    "        if(len(data[key]) < min_days):\n",
    "            min_days = len(data[key])\n",
    "    for key in data:\n",
    "        speed[key] = round(data[key][min_days - 1][status] / min_days,3)\n",
    "    speed = {key:value for key, value in sorted(speed.items(), key = lambda item:item[1], reverse = reverse)}\n",
    "    return speed"
   ]
  },
  {
   "cell_type": "code",
   "execution_count": 90,
   "metadata": {},
   "outputs": [],
   "source": [
    "def get_average_speed_of_propagation_list_non_zero_days(df,status ='confirmed', reverse = False , count = len(df.columns)):\n",
    "    speed = {}\n",
    "    for country_name in df.columns[:count]:\n",
    "        country = pd.DataFrame.from_dict(data[country_name])\n",
    "        country = country.loc[country[status] > 0 , ['date',status]].reset_index(drop = True)\n",
    "        country.index = country.index + 1 # если что, убрать\n",
    "        if country.empty:\n",
    "            continue\n",
    "        speed[country_name] = round(country.iloc[len(country)-1][status] / len(country) , 3)\n",
    "    speed = {key:value for key, value in sorted(speed.items(), key = lambda item:item[1], reverse = reverse)}\n",
    "    return speed"
   ]
  },
  {
   "cell_type": "code",
   "execution_count": null,
   "metadata": {
    "scrolled": true
   },
   "outputs": [],
   "source": [
    "get_average_speed_of_propagation_list_non_zero_days(df,status ='deaths', reverse = False)\n"
   ]
  },
  {
   "cell_type": "code",
   "execution_count": 92,
   "metadata": {},
   "outputs": [],
   "source": [
    "def print_speed_stats(data,days = len(data[list(data.keys())[0]]), reverse = False):\n",
    "    statuses = ['confirmed' , 'deaths' , 'recovered']\n",
    "    for i in range(len(statuses)):\n",
    "        print(f\"Статистика за {days} дней:{statuses[i]}\")\n",
    "        speed = get_average_speed_of_propagation_list(data,status = statuses[i],days = days,reverse = reverse)\n",
    "        print(f\"Средняя скорость для {statuses[i]} к {days} дню (человек в день):\")\n",
    "        for key in speed:\n",
    "            print(f\"{key}:{speed[key]}\")"
   ]
  },
  {
   "cell_type": "code",
   "execution_count": null,
   "metadata": {
    "scrolled": false
   },
   "outputs": [],
   "source": [
    "# Средняя скорость за все дни( с учётом нулевых)\n",
    "print_speed_stats(data)"
   ]
  },
  {
   "cell_type": "code",
   "execution_count": 94,
   "metadata": {},
   "outputs": [],
   "source": [
    "def print_speed_stats_non_zero_days(df, reverse = False , count = len(df.columns)):\n",
    "    statuses = ['confirmed' , 'deaths' , 'recovered']\n",
    "    for i in range(len(statuses)):\n",
    "        print(f\"Статистика за значимые( ненулевые) дни:{statuses[i]}\")\n",
    "        speed = get_average_speed_of_propagation_list_non_zero_days(df,statuses[i],reverse , count)\n",
    "        print(f\"Средняя скорость для {statuses[i]} (человек в день):\")\n",
    "        for key in speed:\n",
    "            print(f\"{key}:{speed[key]}\")"
   ]
  },
  {
   "cell_type": "code",
   "execution_count": null,
   "metadata": {
    "scrolled": true
   },
   "outputs": [],
   "source": [
    "# Средняя скорость за все дни( без нулевых значений)\n",
    "print_speed_stats_non_zero_days(df)"
   ]
  },
  {
   "cell_type": "code",
   "execution_count": 96,
   "metadata": {},
   "outputs": [],
   "source": [
    "def draw_average_speed_of_propagation_list(data,days = len(data[list(data.keys())[0]]), reverse = False):   \n",
    "    statuses = ['confirmed' , 'deaths' , 'recovered']\n",
    "    colors = ['yellow' , 'red' ,'green']\n",
    "    for i in range(3):\n",
    "        fig , ax = plt.subplots()\n",
    "        fig =plt.figure(figsize=(50,40))\n",
    "        speed = get_average_speed_of_propagation_list(data,status = statuses[i],days = days,reverse = reverse)\n",
    "        countries = list(speed.keys())\n",
    "        values = list(speed.values())\n",
    "        ax.bar(countries,values, color=colors[i])\n",
    "        ax.set_title(f\"{statuses[i]} for {days} days\") \n",
    "        plt.show()\n",
    "        "
   ]
  },
  {
   "cell_type": "code",
   "execution_count": 97,
   "metadata": {},
   "outputs": [],
   "source": [
    "def draw_countries_covid_stats(df, count = len(df.columns)):\n",
    "    for country_name in df.columns[:count]:\n",
    "        country = df[country_name]\n",
    "        x = [index for index in country.index]\n",
    "        y = [obj['confirmed'] for obj in country]\n",
    "        y1 = [obj['deaths'] for obj in country] \n",
    "        y2 = [obj['recovered'] for obj in country] \n",
    "        fig, ax = plt.subplots()\n",
    "        ax.plot(x,y,label=\"confirmed\")\n",
    "        ax.plot(x,y1,label=\"deaths\")\n",
    "        ax.plot(x,y2,label=\"recovered\")\n",
    "        ax.set_title(country_name)  # Add a title to the axes.\n",
    "        ax.set_xlabel(\"days\")\n",
    "        ax.set_ylabel(\"amount\")\n",
    "        ax.legend()"
   ]
  },
  {
   "cell_type": "code",
   "execution_count": 98,
   "metadata": {
    "scrolled": false
   },
   "outputs": [],
   "source": [
    "def create_country_stats_excel_file(df):\n",
    "    writer = pd.ExcelWriter('covid-19.xlsx', engine='xlsxwriter')\n",
    "    for country_name in df.columns:\n",
    "        country = pd.DataFrame.from_dict(data[country_name])\n",
    "        country_name = \"\".join([c for c in country_name if c.isalpha()])\n",
    "        country.to_excel(writer ,sheet_name=country_name, index_label=\"day\")\n",
    "        #country.to_csv(f\"{country_name}.csv\" , index_label = \"day\")"
   ]
  },
  {
   "cell_type": "code",
   "execution_count": 99,
   "metadata": {},
   "outputs": [],
   "source": [
    "def create_country_stats_excel_file_without_zeroes(df, by='confirmed'):\n",
    "    writer = pd.ExcelWriter(f\"covid-19_{by}.xlsx\", engine='xlsxwriter')\n",
    "    for country_name in df.columns:\n",
    "        country = pd.DataFrame.from_dict(data[country_name])\n",
    "        country = country.loc[country[by] > 0 , [by,'date']].reset_index(drop = True)\n",
    "        country.index = country.index + 1 # если что, убрать\n",
    "        #print(country)\n",
    "        country_name = \"\".join([c for c in country_name if c.isalpha()])\n",
    "        country.to_excel(writer ,sheet_name=country_name, index_label=\"day\")\n",
    "        #country.to_csv(f\"{country_name}.csv\" , index_label = \"day\")\n",
    "\n",
    "        "
   ]
  },
  {
   "cell_type": "code",
   "execution_count": 100,
   "metadata": {
    "scrolled": false
   },
   "outputs": [],
   "source": [
    "create_country_stats_excel_file_without_zeroes(df)\n",
    "create_country_stats_excel_file_without_zeroes(df, by='deaths')\n",
    "create_country_stats_excel_file_without_zeroes(df, by= 'recovered')"
   ]
  },
  {
   "cell_type": "code",
   "execution_count": 101,
   "metadata": {
    "scrolled": false
   },
   "outputs": [],
   "source": [
    "def linear(x,a,b):\n",
    "    return a*x + b\n",
    "\n",
    "def exp(x,a,b,c):\n",
    "    return a*np.exp(b*x)+c\n",
    "\n",
    "def polynomial_square(x,a,b,c):\n",
    "    return a*np.square(x) + b*x + c\n",
    "\n",
    "def polynomial_cube(x,a,b,c,d):\n",
    "    return a*np.power(x,3) + b*np.square(x) + c*x + d\n",
    "\n",
    "def log(x,a,b,c):\n",
    "    return a*np.log(b*x) + c\n",
    "\n"
   ]
  },
  {
   "cell_type": "code",
   "execution_count": 102,
   "metadata": {},
   "outputs": [],
   "source": [
    "def get_curve_fit_with_params(x,y,method = \"r2\",maxfev = 1000):\n",
    "    functions = {\"linear\":linear , \"exp\":exp , \"polynomial_square\":polynomial_square ,\"polynomial_cube\":polynomial_cube, \"log\":log}\n",
    "    function =functions[\"linear\"]\n",
    "    name = \"linear\"\n",
    "    params = [1,0]\n",
    "    r_square = 0\n",
    "    if method == \"mse\":\n",
    "        mse = mean_squared_error(y, functions[name](x,*params))\n",
    "    for key in functions:\n",
    "        if key == \"exp\":\n",
    "            opt_params , pcov = curve_fit(functions[key],x,y , p0 = (-1, 0.01, 1),maxfev = 5000)\n",
    "        else:\n",
    "            opt_params , pcov = curve_fit(functions[key],x,y,maxfev = 5000)\n",
    "        if method == \"r2\":   \n",
    "            r_square_cur = r2_score(y, functions[key](x,*opt_params))\n",
    "            if r_square_cur > r_square:\n",
    "                r_square = r_square_cur\n",
    "                function = functions[key]\n",
    "                name = key\n",
    "                params = opt_params         \n",
    "        else:\n",
    "            mse_cur = mean_squared_error(y, functions[key](x,*opt_params))\n",
    "            if mse_cur < mse:\n",
    "                mse = mse_cur\n",
    "                function = functions[key]\n",
    "                name = key\n",
    "                params = opt_params   \n",
    "    if method == \"mse\":\n",
    "        return (name, function , params, mse)    \n",
    "    return (name, function , params, r_square)\n",
    "        \n",
    "        "
   ]
  },
  {
   "cell_type": "code",
   "execution_count": 103,
   "metadata": {},
   "outputs": [],
   "source": [
    "def get_country_dependency(country, status, method):\n",
    "    country_name = country['name']\n",
    "    data = country['data']\n",
    "    #print(country_name)\n",
    "    #print(data)\n",
    "    if data.empty:\n",
    "        return None\n",
    "    x = np.array(list(data.index))\n",
    "    y = np.array(list(data[status]))\n",
    "    # \n",
    "    if status ==\"deaths\":\n",
    "        threshold = 4\n",
    "        if(len(x) < threshold) or (len(y) < threshold) or (len(y) != len(x)):\n",
    "            return None\n",
    "    name, func, params, res = get_curve_fit_with_params(x,y, method = method)\n",
    "    mark = method \n",
    "    res = {\"country\": country_name , \"criteria\":status, \"dependency\":name ,\"opt_params\":params, method:res }\n",
    "    #print(res)\n",
    "    return res\n"
   ]
  },
  {
   "cell_type": "code",
   "execution_count": 104,
   "metadata": {},
   "outputs": [],
   "source": [
    "def get_countries_by_status(df , status='confirmed' , count = len(df.columns) ):\n",
    "    countries =[]\n",
    "    for country_name in df.columns[:count]:\n",
    "        country = pd.DataFrame.from_dict(data[country_name])\n",
    "        country = country.loc[country[status] > 0 , ['date',status]].reset_index(drop = True)\n",
    "        country.index = country.index + 1 # если что, убрать\n",
    "        country.index\n",
    "        countries.append({\"name\":country_name  ,\"data\":country})\n",
    "    return countries"
   ]
  },
  {
   "cell_type": "code",
   "execution_count": 105,
   "metadata": {},
   "outputs": [],
   "source": [
    "def get_countries_dependencies_by_status(df , status='confirmed' , count = len(df.columns) , method = \"r2\"):\n",
    "    countries = get_countries_by_status(df,status,count)\n",
    "    dependencies = []\n",
    "    for country in countries:\n",
    "        data = get_country_dependency(country,status, method)\n",
    "        if data is not None:\n",
    "            dependencies.append(data)\n",
    "    return dependencies\n",
    " \n",
    "    # {country:\"Afghanistan\", status:\"confirmed\", dependency:'exp' , function:\"1,2*exp(2*x) + 4\"}"
   ]
  },
  {
   "cell_type": "code",
   "execution_count": 106,
   "metadata": {},
   "outputs": [],
   "source": [
    "def print_countries_dependencies_by_status(df , status='confirmed' , count = len(df.columns) , method = \"r2\"):\n",
    "    countries = get_countries_dependencies_by_status(df,status , count , method)\n",
    "    for country in countries:\n",
    "        print(f\"Страна: {country['country']} , критерий: {country['criteria']}, зависимость: {country['dependency']}\")\n",
    "        print(f\"оптимальные параметры:\" , end = \" \")\n",
    "        for param in country['opt_params']:\n",
    "            print(param, end = ', ')\n",
    "        print()\n",
    "        print(f\"{list(country.keys())[-1]}: {country[list(country.keys())[-1]]}\")"
   ]
  },
  {
   "cell_type": "code",
   "execution_count": null,
   "metadata": {
    "scrolled": false
   },
   "outputs": [],
   "source": [
    "#Функции зависимости стран по количеству заражённых умерших и выздоровевших\n",
    "# methods = ['r2' , 'mse']\n",
    "#statuses ['confirmed' , 'deaths', 'recovered']\n",
    "# Лучшие результаты при кубическом трёхчлене, при его отсутствии - при квадратном трёхчлене\n",
    "print_countries_dependencies_by_status(df , status='confirmed' , count = len(df.columns) , method = \"r2\")"
   ]
  },
  {
   "cell_type": "code",
   "execution_count": 108,
   "metadata": {
    "scrolled": true
   },
   "outputs": [],
   "source": [
    "pop_data = requests.get(SOURCE_COUNTRIES_BY_POPULATION).json()"
   ]
  },
  {
   "cell_type": "code",
   "execution_count": 109,
   "metadata": {},
   "outputs": [],
   "source": [
    "data[\"United States\"] = data.pop(\"US\")\n",
    "df = df.rename(columns={\"US\": \"United States\"})"
   ]
  },
  {
   "cell_type": "code",
   "execution_count": 110,
   "metadata": {
    "scrolled": true
   },
   "outputs": [],
   "source": [
    "def get_procent_to_population(data,df,pop_data, count = len(df.columns)):\n",
    "    result = []\n",
    "    for country_name in df.columns[:count]: \n",
    "        country = pd.DataFrame.from_dict(data[country_name])    \n",
    "        for state in pop_data:\n",
    "            if state['country'] == country_name:\n",
    "                population = state['population']\n",
    "                break\n",
    "        population = int(state['population'])\n",
    "        confirmed = int(country.iloc[len(country)-1]['confirmed']) / population * 100\n",
    "        dead = int(country.iloc[len(country)-1]['deaths']) / population * 100\n",
    "        result.append({\"country\":country_name ,\"population\":population , \"conf_to_pop\":confirmed, \"dead_to_pop\":dead})\n",
    "    return result"
   ]
  },
  {
   "cell_type": "code",
   "execution_count": 111,
   "metadata": {},
   "outputs": [],
   "source": [
    "def print_procent_to_population(data,df,pop_data, count = len(df.columns)):\n",
    "    countries = get_procent_to_population(data,df,pop_data,count) \n",
    "    for country in countries:\n",
    "        print(f\"Страна: {country['country']} , население: {country['population']} , процент заразившихся: {country['conf_to_pop']} , процент умерших: {country['dead_to_pop']}\")\n",
    "    "
   ]
  },
  {
   "cell_type": "code",
   "execution_count": null,
   "metadata": {
    "scrolled": false
   },
   "outputs": [],
   "source": [
    "# Кол-во заразившихся и умерших в процентах от всего населения\n",
    "print_procent_to_population(data,df,pop_data)"
   ]
  },
  {
   "cell_type": "code",
   "execution_count": 121,
   "metadata": {},
   "outputs": [],
   "source": [
    "#Проанализировать данные по странам по количеству зараженных и погибших в процентном отношении от всего населения в зависимости от валового внутреннего продукта страны и от среднедушевых доходов."
   ]
  },
  {
   "cell_type": "code",
   "execution_count": null,
   "metadata": {},
   "outputs": [],
   "source": []
  },
  {
   "cell_type": "code",
   "execution_count": 122,
   "metadata": {
    "scrolled": true
   },
   "outputs": [],
   "source": [
    "gdp_data_response = requests.get(SOURCE_GDP)\n",
    "csv_path = \"gdp.csv\""
   ]
  },
  {
   "cell_type": "code",
   "execution_count": 123,
   "metadata": {},
   "outputs": [],
   "source": [
    "per_capita_data = requests.get(SOURCE_GDP_PER_CAPITA_JSON).json()"
   ]
  },
  {
   "cell_type": "code",
   "execution_count": 124,
   "metadata": {
    "scrolled": true
   },
   "outputs": [],
   "source": [
    "def set_csv_file(csv_path):\n",
    "    csv_gdp_file = open(csv_path,'wb')\n",
    "    csv_gdp_file.write(gdp_data_response.content)\n",
    "    csv_gdp_file.close()\n",
    "    "
   ]
  },
  {
   "cell_type": "code",
   "execution_count": 125,
   "metadata": {
    "scrolled": true
   },
   "outputs": [],
   "source": [
    "set_csv_file(csv_path)"
   ]
  },
  {
   "cell_type": "code",
   "execution_count": 126,
   "metadata": {},
   "outputs": [],
   "source": [
    "def change(country):\n",
    "    if country == \"Bahamas, The\":\n",
    "        return \"Bahamas\"\n",
    "    if country ==\"Brunei Darussalam\":\n",
    "        return \"Brunei\"\n",
    "    elif country == \"Congo, Dem. Rep.\":\n",
    "        return \"Congo (Kinshasa)\"\n",
    "    elif country == \"Congo, Rep.\":\n",
    "        return \"Congo (Brazzaville)\"\n",
    "    elif country ==\"Egypt, Arab Rep.\":\n",
    "        return \"Egypt\"\n",
    "    elif country == \"Korea, Rep.\":\n",
    "        return \"Korea, South\"\n",
    "    elif country == \"Kyrgyz Republic\":\n",
    "        return \"Kyrgyzstan\"\n",
    "    elif country ==\"Russian Federation\":\n",
    "        return \"Russia\"\n",
    "    elif country == \"St. Vincent and the Grenadines\":\n",
    "        return \"Saint Vincent and the Grenadines\"\n",
    "    elif country == \"Venezuela, RB\":\n",
    "        return \"Venezuela\"\n",
    "    elif country == \"Yemen, Rep.\":\n",
    "        return \"Yemen\"\n",
    "    return country\n",
    "    "
   ]
  },
  {
   "cell_type": "code",
   "execution_count": 127,
   "metadata": {},
   "outputs": [],
   "source": [
    "\n",
    "def get_countries_gdp_csv(csv_path):\n",
    "    countries = []\n",
    "    length = 0\n",
    "    with open(csv_path,\"r\") as csv_file:\n",
    "        for line in csv_file:\n",
    "            length +=1\n",
    "    count = 0\n",
    "    with open(csv_path,\"r\") as csv_file:\n",
    "        line = csv_file.readline().split(\",\")\n",
    "        while (line[0] != \"Afghanistan\"):\n",
    "            line = csv_file.readline().split(\",\")\n",
    "        while(count< length):\n",
    "            line = csv_file.readline().split(\",\")\n",
    "            if len(line) < 4:\n",
    "                break\n",
    "            if line[2] == \"2016\":\n",
    "                countries.append({\"country\":change((line[0])) , \"gdp\":int(round(float(line[3])))})\n",
    "            count+=1\n",
    "    return countries"
   ]
  },
  {
   "cell_type": "code",
   "execution_count": 128,
   "metadata": {
    "scrolled": true
   },
   "outputs": [],
   "source": [
    "def get_countries_per_capita(per_capita_data):\n",
    "    countries = []\n",
    "    length = len(per_capita_data)\n",
    "    count = 0\n",
    "    _iter = iter(per_capita_data)\n",
    "    key = next(_iter)\n",
    "\n",
    "    while key['Country Name']!= 'Afghanistan':\n",
    "        key = next(_iter)\n",
    "        count+=1\n",
    "    while(count + 1 < length):\n",
    "        key = next(_iter)\n",
    "        count+=1\n",
    "        if(int(key['Year']) == 2016):\n",
    "            countries.append({\"country\":change((key['Country Name'])) , \"per_capita\":int(key['Value'])})\n",
    "    return countries"
   ]
  },
  {
   "cell_type": "code",
   "execution_count": null,
   "metadata": {
    "scrolled": false
   },
   "outputs": [],
   "source": [
    "get_countries_per_capita(per_capita_data)"
   ]
  },
  {
   "cell_type": "code",
   "execution_count": 130,
   "metadata": {},
   "outputs": [],
   "source": [
    "# ВВП в миллиардах долларов\n",
    "# Среднедушевой доход в тысячах долларов"
   ]
  },
  {
   "cell_type": "code",
   "execution_count": 145,
   "metadata": {},
   "outputs": [],
   "source": [
    "def get_country_list_by_param(percentage_list,param_list,param = \"gdp\", divider = 10**9):\n",
    "    _list = []\n",
    "    for country in percentage_list:\n",
    "        for state in param_list:\n",
    "            if country['country'] == state['country']:\n",
    "                country[param] = float(state[param]) / divider\n",
    "                _list.append(country)\n",
    "                break\n",
    "    return _list"
   ]
  },
  {
   "cell_type": "code",
   "execution_count": 163,
   "metadata": {
    "scrolled": false
   },
   "outputs": [],
   "source": [
    "gdp_csv_list = get_countries_gdp_csv(csv_path)\n",
    "per_capita_list = get_countries_per_capita(per_capita_data)\n",
    "states_percentage = get_procent_to_population(data,df,pop_data) \n",
    "countries_with_gdp = get_country_list_by_param(states_percentage,gdp_csv_list)\n",
    "countries_with_gdp_and_capita = get_country_list_by_param(countries_with_gdp,per_capita_list, param=\"per_capita\", divider = 10**3)"
   ]
  },
  {
   "cell_type": "code",
   "execution_count": 135,
   "metadata": {},
   "outputs": [],
   "source": [
    "#statuses('conf_to_pop' , \"dead_to_pop\")"
   ]
  },
  {
   "cell_type": "code",
   "execution_count": 156,
   "metadata": {},
   "outputs": [],
   "source": [
    "def get_data_by_param_and_status(countries, param = \"gdp\", status='conf_to_pop'):\n",
    "    _sorted = sorted(countries, key=lambda k: k[param]) \n",
    "    _x = []\n",
    "    _y = []\n",
    "    for country in _sorted:\n",
    "        _x.append(country[param])\n",
    "        _y.append(country[status])\n",
    "    #return np.array(_x) , np.array(_x)\n",
    "    return _x , _y"
   ]
  },
  {
   "cell_type": "code",
   "execution_count": 169,
   "metadata": {},
   "outputs": [],
   "source": [
    "def get_dependency_by_param_and_status(countries, param=\"gdp\", status='conf_to_pop', method = \"r2\"):\n",
    "    x,y = get_data_by_param_and_status(countries,param,status)\n",
    "    name, func , params , res = get_curve_fit_with_params(np.array(x),np.array(y),method)\n",
    "    return {\"criteria\":status,\"param\":param, \"dependency\":name ,\"opt_params\":params, method:res }"
   ]
  },
  {
   "cell_type": "code",
   "execution_count": 175,
   "metadata": {},
   "outputs": [],
   "source": [
    "def print_dependency_by_param_and_status(countries, param = \"gdp\", status='conf_to_pop', method = \"r2\"):\n",
    "    res = get_dependency_by_param_and_status(countries, param, status, method)\n",
    "    _param = \"ВВП\" if res['param']==\"gdp\" else \"Среднешушевой доход\"\n",
    "    _param_con = \"ВВП\" if res['param']==\"gdp\" else \"Среднешушевого дохода\"\n",
    "    print(f\"Кривая для {_param_con}:\")\n",
    "    criteria = f\"Процент заражённых/{_param}\" if res['criteria'] ==\"conf_to_pop\" else f\"Процент умерших/{_param}\"\n",
    "    print(f\"Критерий: {criteria}, зависимость: {res['dependency']}\")\n",
    "    print(\"Оптимальные параметры:\" , end = \" \")\n",
    "    for param in res['opt_params']:\n",
    "        print(param, end = \", \")"
   ]
  },
  {
   "cell_type": "code",
   "execution_count": null,
   "metadata": {},
   "outputs": [],
   "source": [
    "\n"
   ]
  },
  {
   "cell_type": "code",
   "execution_count": null,
   "metadata": {},
   "outputs": [],
   "source": []
  },
  {
   "cell_type": "code",
   "execution_count": 176,
   "metadata": {},
   "outputs": [],
   "source": [
    "#statuses('conf_to_pop' , \"dead_to_pop\")\n",
    "#params('gdp','per_capita')"
   ]
  },
  {
   "cell_type": "code",
   "execution_count": 181,
   "metadata": {
    "scrolled": true
   },
   "outputs": [
    {
     "name": "stdout",
     "output_type": "stream",
     "text": [
      "Кривая для ВВП:\n",
      "Критерий: Процент заражённых/ВВП, зависимость: polynomial_cube\n",
      "Оптимальные параметры: 1.2103010680067706e-12, -3.056313949914963e-08, 0.00017061935522433622, 0.08954109339445318, "
     ]
    }
   ],
   "source": [
    "print_dependency_by_param_and_status(countries_with_gdp_and_capita,param=\"gdp\", status='conf_to_pop', method = \"r2\")"
   ]
  },
  {
   "cell_type": "code",
   "execution_count": null,
   "metadata": {},
   "outputs": [],
   "source": []
  }
 ],
 "metadata": {
  "kernelspec": {
   "display_name": "Python 3",
   "language": "python",
   "name": "python3"
  },
  "language_info": {
   "codemirror_mode": {
    "name": "ipython",
    "version": 3
   },
   "file_extension": ".py",
   "mimetype": "text/x-python",
   "name": "python",
   "nbconvert_exporter": "python",
   "pygments_lexer": "ipython3",
   "version": "3.7.0"
  }
 },
 "nbformat": 4,
 "nbformat_minor": 4
}
