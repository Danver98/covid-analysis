{
 "cells": [
  {
   "cell_type": "code",
   "execution_count": 361,
   "metadata": {},
   "outputs": [],
   "source": [
    "import pandas as pd\n",
    "import matplotlib.pyplot as plt\n",
    "import requests\n",
    "import csv\n",
    "import numpy as np\n",
    "from scipy.optimize import curve_fit\n",
    "from sklearn.metrics import r2_score, mean_squared_error\n",
    "import sympy as sym\n",
    "#import seaborn as sns\n",
    "\n",
    "SOURCE_COVID_19 = \"https://pomber.github.io/covid19/timeseries.json\"\n",
    "SOURCE_COUNTRIES_BY_POPULATION = \"https://raw.githubusercontent.com/samayo/country-json/master/src/country-by-population.json\"\n",
    "SOURCE_GDP = \"https://raw.githubusercontent.com/datasets/gdp/master/data/gdp.csv\"\n",
    "SOURCE_GDP_PER_CAPITA_JSON = \"https://pkgstore.datahub.io/world-bank/ny.gdp.pcap.cd/data_json/data/5fa3074284c7b57091aa9bacc502ecb5/data_json.json\"\n",
    "SOURCE_GDP_PER_CAPITA_CSV = \"https://datahub.io/world-bank/ny.gdp.pcap.cd/r/data.csv\"\n",
    "def get_data_json(source):\n",
    "    return requests.get(source).json()"
   ]
  },
  {
   "cell_type": "code",
   "execution_count": 362,
   "metadata": {},
   "outputs": [],
   "source": [
    "np.warnings.filterwarnings('ignore')"
   ]
  },
  {
   "cell_type": "code",
   "execution_count": 363,
   "metadata": {},
   "outputs": [],
   "source": [
    "data = requests.get(SOURCE_COVID_19).json()"
   ]
  },
  {
   "cell_type": "code",
   "execution_count": 364,
   "metadata": {},
   "outputs": [],
   "source": [
    "df = pd.DataFrame.from_dict(data)"
   ]
  },
  {
   "cell_type": "code",
   "execution_count": 365,
   "metadata": {},
   "outputs": [],
   "source": [
    "def get_average_speed_of_propagation_list(data,status ='confirmed', days = len(data[list(data.keys())[0]]), reverse = False):\n",
    "    min_days = days\n",
    "    speed = {}\n",
    "    for key in data:\n",
    "        if(len(data[key]) < min_days):\n",
    "            min_days = len(data[key])\n",
    "    for key in data:\n",
    "        speed[key] = round(data[key][min_days - 1][status] / min_days,3)\n",
    "    speed = {key:value for key, value in sorted(speed.items(), key = lambda item:item[1], reverse = reverse)}\n",
    "    return speed"
   ]
  },
  {
   "cell_type": "code",
   "execution_count": 366,
   "metadata": {},
   "outputs": [],
   "source": [
    "def get_average_speed_of_propagation_list_non_zero_days(df,status ='confirmed', reverse = False , count = len(df.columns)):\n",
    "    speed = {}\n",
    "    for country_name in df.columns[:count]:\n",
    "        country = pd.DataFrame.from_dict(data[country_name])\n",
    "        country = country.loc[country[status] > 0 , ['date',status]].reset_index(drop = True)\n",
    "        country.index = country.index + 1 # если что, убрать\n",
    "        if country.empty:\n",
    "            continue\n",
    "        speed[country_name] = round(country.iloc[len(country)-1][status] / len(country) , 3)\n",
    "    speed = {key:value for key, value in sorted(speed.items(), key = lambda item:item[1], reverse = reverse)}\n",
    "    return speed"
   ]
  },
  {
   "cell_type": "code",
   "execution_count": 367,
   "metadata": {
    "scrolled": false
   },
   "outputs": [
    {
     "data": {
      "text/plain": [
       "{'Gambia': 0.018,\n",
       " 'Brunei': 0.019,\n",
       " 'Botswana': 0.02,\n",
       " 'Liechtenstein': 0.022,\n",
       " 'Suriname': 0.022,\n",
       " 'Burundi': 0.028,\n",
       " 'West Bank and Gaza': 0.037,\n",
       " 'MS Zaandam': 0.042,\n",
       " 'Benin': 0.047,\n",
       " 'Belize': 0.047,\n",
       " 'Cabo Verde': 0.054,\n",
       " 'Angola': 0.059,\n",
       " 'Syria': 0.059,\n",
       " 'Eswatini': 0.061,\n",
       " 'Libya': 0.064,\n",
       " 'Zimbabwe': 0.07,\n",
       " 'Antigua and Barbuda': 0.071,\n",
       " 'Malawi': 0.071,\n",
       " 'Taiwan*': 0.075,\n",
       " 'Comoros': 0.077,\n",
       " 'Monaco': 0.078,\n",
       " 'Mauritania': 0.08,\n",
       " 'Ethiopia': 0.114,\n",
       " 'Burma': 0.122,\n",
       " 'Trinidad and Tobago': 0.145,\n",
       " 'Diamond Princess': 0.146,\n",
       " 'Malta': 0.146,\n",
       " 'Guyana': 0.147,\n",
       " 'Jamaica': 0.148,\n",
       " 'Zambia': 0.149,\n",
       " 'Nicaragua': 0.151,\n",
       " 'Montenegro': 0.158,\n",
       " 'Barbados': 0.159,\n",
       " 'Iceland': 0.159,\n",
       " 'Costa Rica': 0.164,\n",
       " 'Mauritius': 0.169,\n",
       " 'Jordan': 0.17,\n",
       " 'Sri Lanka': 0.173,\n",
       " 'Guinea-Bissau': 0.174,\n",
       " 'Djibouti': 0.179,\n",
       " 'Gabon': 0.183,\n",
       " 'Paraguay': 0.186,\n",
       " 'Bahrain': 0.188,\n",
       " 'Venezuela': 0.189,\n",
       " 'Maldives': 0.2,\n",
       " 'Togo': 0.226,\n",
       " 'Bahamas': 0.229,\n",
       " 'Uzbekistan': 0.245,\n",
       " 'Equatorial Guinea': 0.259,\n",
       " 'Georgia': 0.267,\n",
       " 'Qatar': 0.288,\n",
       " 'Cyprus': 0.293,\n",
       " 'Kyrgyzstan': 0.304,\n",
       " 'Congo (Brazzaville)': 0.319,\n",
       " 'Lebanon': 0.371,\n",
       " 'Singapore': 0.373,\n",
       " 'Uruguay': 0.385,\n",
       " 'Sao Tome and Principe': 0.389,\n",
       " 'New Zealand': 0.412,\n",
       " 'Latvia': 0.413,\n",
       " 'Tanzania': 0.429,\n",
       " 'Albania': 0.449,\n",
       " 'Guinea': 0.471,\n",
       " 'Haiti': 0.477,\n",
       " 'Liberia': 0.489,\n",
       " 'Ghana': 0.492,\n",
       " 'Madagascar': 0.5,\n",
       " 'Oman': 0.51,\n",
       " 'San Marino': 0.532,\n",
       " 'Kosovo': 0.537,\n",
       " 'Slovakia': 0.538,\n",
       " 'Senegal': 0.542,\n",
       " 'Guatemala': 0.547,\n",
       " \"Cote d'Ivoire\": 0.549,\n",
       " 'Azerbaijan': 0.597,\n",
       " 'El Salvador': 0.612,\n",
       " 'Kazakhstan': 0.636,\n",
       " 'Nepal': 0.667,\n",
       " 'Thailand': 0.709,\n",
       " 'Tunisia': 0.754,\n",
       " 'Burkina Faso': 0.823,\n",
       " 'Andorra': 0.879,\n",
       " 'Kenya': 0.926,\n",
       " 'Lithuania': 1.0,\n",
       " 'Niger': 1.0,\n",
       " 'South Sudan': 1.0,\n",
       " 'Mali': 1.02,\n",
       " 'Congo (Kinshasa)': 1.034,\n",
       " 'Yemen': 1.053,\n",
       " 'Armenia': 1.13,\n",
       " 'Estonia': 1.164,\n",
       " 'Australia': 1.253,\n",
       " 'Sierra Leone': 1.269,\n",
       " 'Cuba': 1.274,\n",
       " 'Somalia': 1.39,\n",
       " 'Croatia': 1.557,\n",
       " 'Sudan': 1.567,\n",
       " 'Slovenia': 1.576,\n",
       " 'Bulgaria': 1.594,\n",
       " 'Luxembourg': 1.621,\n",
       " 'Iraq': 1.671,\n",
       " 'North Macedonia': 1.793,\n",
       " 'Malaysia': 1.794,\n",
       " 'Bosnia and Herzegovina': 2.254,\n",
       " 'Greece': 2.391,\n",
       " 'Tajikistan': 2.412,\n",
       " 'Chad': 2.524,\n",
       " 'Cameroon': 2.545,\n",
       " 'Kuwait': 2.622,\n",
       " 'Honduras': 2.704,\n",
       " 'Morocco': 2.743,\n",
       " 'Korea, South': 2.955,\n",
       " 'Afghanistan': 2.983,\n",
       " 'Nigeria': 3.351,\n",
       " 'Bolivia': 3.412,\n",
       " 'Belarus': 3.49,\n",
       " 'Moldova': 3.5,\n",
       " 'Norway': 3.53,\n",
       " 'United Arab Emirates': 3.733,\n",
       " 'Serbia': 3.85,\n",
       " 'Panama': 4.043,\n",
       " 'Israel': 4.678,\n",
       " 'Finland': 5.085,\n",
       " 'Czechia': 5.121,\n",
       " 'Argentina': 5.306,\n",
       " 'South Africa': 5.396,\n",
       " 'Bangladesh': 5.629,\n",
       " 'Saudi Arabia': 5.714,\n",
       " 'Dominican Republic': 6.889,\n",
       " 'Hungary': 7.108,\n",
       " 'Philippines': 7.766,\n",
       " 'Japan': 7.802,\n",
       " 'Ukraine': 7.985,\n",
       " 'Algeria': 8.162,\n",
       " 'Chile': 8.241,\n",
       " 'Denmark': 8.303,\n",
       " 'Egypt': 8.958,\n",
       " 'Austria': 9.25,\n",
       " 'Colombia': 10.207,\n",
       " 'Poland': 13.765,\n",
       " 'Pakistan': 14.803,\n",
       " 'Indonesia': 17.261,\n",
       " 'Romania': 19.31,\n",
       " 'Portugal': 19.54,\n",
       " 'Ireland': 22.42,\n",
       " 'Switzerland': 25.147,\n",
       " 'China': 39.305,\n",
       " 'Ecuador': 42.409,\n",
       " 'Russia': 44.623,\n",
       " 'India': 45.739,\n",
       " 'Peru': 46.483,\n",
       " 'Sweden': 53.594,\n",
       " 'Turkey': 66.206,\n",
       " 'Netherlands': 77.203,\n",
       " 'Iran': 78.411,\n",
       " 'Canada': 83.944,\n",
       " 'Mexico': 87.41,\n",
       " 'Germany': 112.718,\n",
       " 'Belgium': 131.594,\n",
       " 'Brazil': 267.508,\n",
       " 'France': 300.447,\n",
       " 'Spain': 359.857,\n",
       " 'Italy': 363.716,\n",
       " 'United Kingdom': 471.297,\n",
       " 'US': 1129.338}"
      ]
     },
     "execution_count": 367,
     "metadata": {},
     "output_type": "execute_result"
    }
   ],
   "source": [
    "get_average_speed_of_propagation_list_non_zero_days(df,status ='deaths', reverse = False)\n"
   ]
  },
  {
   "cell_type": "code",
   "execution_count": 368,
   "metadata": {},
   "outputs": [],
   "source": [
    "def print_speed_stats(data,days = len(data[list(data.keys())[0]]), reverse = False):\n",
    "    statuses = ['confirmed' , 'deaths' , 'recovered']\n",
    "    for i in range(len(statuses)):\n",
    "        print(f\"Статистика за {days} дней:{statuses[i]}\")\n",
    "        speed = get_average_speed_of_propagation_list(data,status = statuses[i],days = days,reverse = reverse)\n",
    "        print(f\"Средняя скорость для {statuses[i]} к {days} дню (человек в день):\")\n",
    "        for key in speed:\n",
    "            print(f\"{key}:{speed[key]}\")"
   ]
  },
  {
   "cell_type": "code",
   "execution_count": 369,
   "metadata": {
    "scrolled": false
   },
   "outputs": [
    {
     "name": "stdout",
     "output_type": "stream",
     "text": [
      "Статистика за 118 дней:confirmed\n",
      "Средняя скорость для confirmed к 118 дню (человек в день):\n",
      "Lesotho:0.008\n",
      "Western Sahara:0.051\n",
      "Papua New Guinea:0.068\n",
      "MS Zaandam:0.076\n",
      "Seychelles:0.093\n",
      "Suriname:0.093\n",
      "Comoros:0.093\n",
      "Holy See:0.102\n",
      "Saint Kitts and Nevis:0.127\n",
      "Namibia:0.136\n",
      "Dominica:0.136\n",
      "Saint Vincent and the Grenadines:0.144\n",
      "Fiji:0.153\n",
      "Saint Lucia:0.153\n",
      "Belize:0.153\n",
      "Laos:0.161\n",
      "Bhutan:0.178\n",
      "Grenada:0.186\n",
      "Gambia:0.203\n",
      "Timor-Leste:0.203\n",
      "Antigua and Barbuda:0.212\n",
      "Nicaragua:0.212\n",
      "Botswana:0.212\n",
      "Eritrea:0.331\n",
      "Burundi:0.356\n",
      "Zimbabwe:0.39\n",
      "Angola:0.424\n",
      "Syria:0.492\n",
      "Libya:0.551\n",
      "Malawi:0.593\n",
      "Mauritania:0.686\n",
      "Liechtenstein:0.695\n",
      "Barbados:0.746\n",
      "Bahamas:0.814\n",
      "Monaco:0.822\n",
      "Trinidad and Tobago:0.983\n",
      "Cambodia:1.034\n",
      "Guyana:1.051\n",
      "Yemen:1.102\n",
      "Mongolia:1.186\n",
      "Brunei:1.195\n",
      "Mozambique:1.229\n",
      "Burma:1.619\n",
      "Eswatini:1.737\n",
      "Liberia:1.941\n",
      "Sao Tome and Principe:2.085\n",
      "Uganda:2.102\n",
      "South Sudan:2.458\n",
      "Rwanda:2.517\n",
      "Madagascar:2.729\n",
      "Montenegro:2.746\n",
      "Vietnam:2.746\n",
      "Central African Republic:2.771\n",
      "Cabo Verde:2.78\n",
      "Togo:2.797\n",
      "Mauritius:2.814\n",
      "Benin:2.873\n",
      "Ethiopia:2.983\n",
      "Nepal:3.178\n",
      "West Bank and Gaza:3.288\n",
      "Congo (Brazzaville):3.492\n",
      "Taiwan*:3.729\n",
      "Tanzania:4.314\n",
      "Chad:4.398\n",
      "Sierra Leone:4.398\n",
      "Jamaica:4.407\n",
      "Haiti:4.517\n",
      "Malta:4.729\n",
      "Venezuela:5.237\n",
      "Jordan:5.331\n",
      "San Marino:5.542\n",
      "Georgia:5.941\n",
      "Diamond Princess:6.034\n",
      "Equatorial Guinea:6.093\n",
      "Uruguay:6.246\n",
      "Andorra:6.449\n",
      "Zambia:6.449\n",
      "Paraguay:6.678\n",
      "Burkina Faso:6.746\n",
      "Costa Rica:7.339\n",
      "Mali:7.407\n",
      "Niger:7.703\n",
      "Kenya:7.729\n",
      "Cyprus:7.771\n",
      "Lebanon:7.89\n",
      "Albania:8.034\n",
      "Kosovo:8.093\n",
      "Sri Lanka:8.407\n",
      "Latvia:8.551\n",
      "Guinea-Bissau:8.746\n",
      "Tunisia:8.839\n",
      "Maldives:9.373\n",
      "Kyrgyzstan:10.305\n",
      "El Salvador:11.975\n",
      "Gabon:12.136\n",
      "Somalia:12.331\n",
      "Slovenia:12.424\n",
      "Slovakia:12.669\n",
      "New Zealand:12.703\n",
      "Djibouti:12.864\n",
      "Congo (Kinshasa):13.034\n",
      "Lithuania:13.11\n",
      "Tajikistan:14.653\n",
      "Estonia:15.119\n",
      "Iceland:15.271\n",
      "North Macedonia:15.398\n",
      "Cuba:15.941\n",
      "Guatemala:16.203\n",
      "Cote d'Ivoire:17.958\n",
      "Croatia:18.881\n",
      "Bulgaria:18.941\n",
      "Bosnia and Herzegovina:19.525\n",
      "Senegal:21.559\n",
      "Sudan:21.958\n",
      "Uzbekistan:23.653\n",
      "Guinea:23.695\n",
      "Honduras:23.712\n",
      "Greece:24.034\n",
      "Thailand:25.686\n",
      "Azerbaijan:28.703\n",
      "Cameroon:29.907\n",
      "Hungary:29.958\n",
      "Iraq:30.119\n",
      "Luxembourg:33.449\n",
      "Bolivia:36.127\n",
      "Armenia:40.873\n",
      "Oman:45.585\n",
      "Ghana:48.602\n",
      "Moldova:52.017\n",
      "Nigeria:52.331\n",
      "Finland:54.068\n",
      "Kazakhstan:57.212\n",
      "Malaysia:58.822\n",
      "Morocco:58.915\n",
      "Australia:59.898\n",
      "Afghanistan:59.932\n",
      "Bahrain:60.881\n",
      "Algeria:61.025\n",
      "Norway:69.975\n",
      "Argentina:70.941\n",
      "Czechia:72.763\n",
      "Panama:82.424\n",
      "Serbia:90.669\n",
      "Korea, South:93.881\n",
      "Denmark:94.627\n",
      "Philippines:107.78\n",
      "Dominican Republic:107.839\n",
      "Egypt:108.169\n",
      "Kuwait:132.975\n",
      "Austria:137.873\n",
      "Colombia:138.093\n",
      "Japan:138.178\n",
      "South Africa:139.263\n",
      "Israel:141.042\n",
      "Romania:144.373\n",
      "Indonesia:152.627\n",
      "Ukraine:157.763\n",
      "Poland:160.042\n",
      "Bangladesh:202.288\n",
      "United Arab Emirates:205.0\n",
      "Ireland:205.085\n",
      "Singapore:240.195\n",
      "Portugal:247.534\n",
      "Sweden:257.432\n",
      "Belarus:259.085\n",
      "Switzerland:259.297\n",
      "Ecuador:284.593\n",
      "Qatar:287.873\n",
      "Pakistan:356.992\n",
      "Netherlands:375.771\n",
      "Chile:390.331\n",
      "Mexico:437.568\n",
      "Belgium:470.839\n",
      "Saudi Arabia:485.975\n",
      "Canada:672.975\n",
      "China:712.398\n",
      "Peru:804.517\n",
      "India:850.237\n",
      "Iran:1038.068\n",
      "Turkey:1276.212\n",
      "Germany:1496.195\n",
      "France:1525.856\n",
      "Italy:1914.288\n",
      "Spain:1962.763\n",
      "United Kingdom:2099.229\n",
      "Brazil:2164.136\n",
      "Russia:2463.373\n",
      "US:12782.271\n",
      "Статистика за 118 дней:deaths\n",
      "Средняя скорость для deaths к 118 дню (человек в день):\n",
      "Bhutan:0.0\n",
      "Cambodia:0.0\n",
      "Central African Republic:0.0\n",
      "Eritrea:0.0\n",
      "Fiji:0.0\n",
      "Holy See:0.0\n",
      "Mongolia:0.0\n",
      "Namibia:0.0\n",
      "Papua New Guinea:0.0\n",
      "Rwanda:0.0\n",
      "Saint Lucia:0.0\n",
      "Saint Vincent and the Grenadines:0.0\n",
      "Seychelles:0.0\n",
      "Uganda:0.0\n",
      "Vietnam:0.0\n",
      "Dominica:0.0\n",
      "Grenada:0.0\n",
      "Mozambique:0.0\n",
      "Timor-Leste:0.0\n",
      "Laos:0.0\n",
      "Saint Kitts and Nevis:0.0\n",
      "Western Sahara:0.0\n",
      "Lesotho:0.0\n",
      "Brunei:0.008\n",
      "Gambia:0.008\n",
      "Liechtenstein:0.008\n",
      "Madagascar:0.008\n",
      "Suriname:0.008\n",
      "Botswana:0.008\n",
      "Burundi:0.008\n",
      "Comoros:0.008\n",
      "Benin:0.017\n",
      "Eswatini:0.017\n",
      "Nepal:0.017\n",
      "Belize:0.017\n",
      "West Bank and Gaza:0.017\n",
      "MS Zaandam:0.017\n",
      "Angola:0.025\n",
      "Antigua and Barbuda:0.025\n",
      "Cabo Verde:0.025\n",
      "Syria:0.025\n",
      "Libya:0.025\n",
      "Malawi:0.025\n",
      "Maldives:0.034\n",
      "Mauritania:0.034\n",
      "Monaco:0.034\n",
      "Zimbabwe:0.034\n",
      "Guinea-Bissau:0.034\n",
      "South Sudan:0.034\n",
      "Ethiopia:0.042\n",
      "Malta:0.051\n",
      "Burma:0.051\n",
      "Barbados:0.059\n",
      "Djibouti:0.059\n",
      "Equatorial Guinea:0.059\n",
      "Taiwan*:0.059\n",
      "Zambia:0.059\n",
      "Sao Tome and Principe:0.059\n",
      "Nicaragua:0.068\n",
      "Trinidad and Tobago:0.068\n",
      "Jamaica:0.076\n",
      "Jordan:0.076\n",
      "Montenegro:0.076\n",
      "Sri Lanka:0.076\n",
      "Costa Rica:0.085\n",
      "Guyana:0.085\n",
      "Iceland:0.085\n",
      "Mauritius:0.085\n",
      "Venezuela:0.085\n",
      "Bahamas:0.093\n",
      "Gabon:0.093\n",
      "Paraguay:0.093\n",
      "Bahrain:0.102\n",
      "Georgia:0.102\n",
      "Togo:0.102\n",
      "Diamond Princess:0.11\n",
      "Uzbekistan:0.11\n",
      "Kyrgyzstan:0.119\n",
      "Congo (Brazzaville):0.127\n",
      "Qatar:0.127\n",
      "Guinea:0.136\n",
      "Cyprus:0.144\n",
      "Latvia:0.161\n",
      "Uruguay:0.169\n",
      "Yemen:0.169\n",
      "Haiti:0.178\n",
      "New Zealand:0.178\n",
      "Tanzania:0.178\n",
      "Liberia:0.186\n",
      "Singapore:0.186\n",
      "Oman:0.212\n",
      "Lebanon:0.22\n",
      "Senegal:0.22\n",
      "Cote d'Ivoire:0.237\n",
      "Slovakia:0.237\n",
      "Ghana:0.246\n",
      "Kosovo:0.246\n",
      "El Salvador:0.254\n",
      "Albania:0.263\n",
      "Sierra Leone:0.28\n",
      "Guatemala:0.297\n",
      "Kazakhstan:0.297\n",
      "Azerbaijan:0.339\n",
      "San Marino:0.347\n",
      "Tajikistan:0.347\n",
      "Tunisia:0.39\n",
      "Kenya:0.424\n",
      "Andorra:0.432\n",
      "Burkina Faso:0.432\n",
      "Mali:0.441\n",
      "Chad:0.449\n",
      "Niger:0.466\n",
      "Thailand:0.475\n",
      "Somalia:0.483\n",
      "Lithuania:0.5\n",
      "Armenia:0.517\n",
      "Congo (Kinshasa):0.517\n",
      "Estonia:0.542\n",
      "Cuba:0.669\n",
      "Croatia:0.805\n",
      "Australia:0.839\n",
      "North Macedonia:0.881\n",
      "Slovenia:0.881\n",
      "Sudan:0.89\n",
      "Luxembourg:0.907\n",
      "Bulgaria:0.932\n",
      "Malaysia:0.958\n",
      "Kuwait:1.0\n",
      "Iraq:1.076\n",
      "Bosnia and Herzegovina:1.127\n",
      "Cameroon:1.186\n",
      "Honduras:1.237\n",
      "Greece:1.398\n",
      "Belarus:1.449\n",
      "Afghanistan:1.466\n",
      "Bolivia:1.475\n",
      "Nigeria:1.619\n",
      "Morocco:1.627\n",
      "Moldova:1.839\n",
      "United Arab Emirates:1.898\n",
      "Serbia:1.958\n",
      "Norway:1.975\n",
      "Korea, South:2.229\n",
      "Israel:2.339\n",
      "Panama:2.364\n",
      "South Africa:2.424\n",
      "Czechia:2.517\n",
      "Finland:2.542\n",
      "Saudi Arabia:2.712\n",
      "Bangladesh:2.958\n",
      "Argentina:3.237\n",
      "Dominican Republic:3.678\n",
      "Hungary:3.915\n",
      "Chile:4.051\n",
      "Ukraine:4.534\n",
      "Denmark:4.644\n",
      "Algeria:4.703\n",
      "Colombia:5.017\n",
      "Austria:5.331\n",
      "Egypt:5.466\n",
      "Japan:6.347\n",
      "Philippines:7.042\n",
      "Pakistan:7.653\n",
      "Poland:7.932\n",
      "Romania:9.492\n",
      "Indonesia:10.093\n",
      "Portugal:10.432\n",
      "Ireland:13.11\n",
      "Switzerland:15.983\n",
      "Russia:23.068\n",
      "Peru:23.636\n",
      "Ecuador:23.72\n",
      "India:26.746\n",
      "Sweden:31.339\n",
      "Turkey:35.347\n",
      "China:39.305\n",
      "Mexico:45.186\n",
      "Netherlands:48.415\n",
      "Canada:50.508\n",
      "Iran:59.805\n",
      "Germany:67.822\n",
      "Belgium:76.949\n",
      "Brazil:142.822\n",
      "Spain:234.822\n",
      "France:239.339\n",
      "Italy:271.246\n",
      "United Kingdom:295.559\n",
      "US:765.653\n",
      "Статистика за 118 дней:recovered\n",
      "Средняя скорость для recovered к 118 дню (человек в день):\n",
      "MS Zaandam:0.0\n",
      "Tajikistan:0.0\n",
      "Lesotho:0.0\n",
      "Yemen:0.008\n",
      "Holy See:0.017\n",
      "Comoros:0.025\n",
      "South Sudan:0.034\n",
      "Sao Tome and Principe:0.034\n",
      "Bhutan:0.042\n",
      "Western Sahara:0.051\n",
      "Mauritania:0.059\n",
      "Nicaragua:0.059\n",
      "Papua New Guinea:0.068\n",
      "Suriname:0.076\n",
      "Seychelles:0.093\n",
      "Central African Republic:0.11\n",
      "Gambia:0.11\n",
      "Namibia:0.11\n",
      "Saint Vincent and the Grenadines:0.119\n",
      "Grenada:0.119\n",
      "Laos:0.119\n",
      "Saint Kitts and Nevis:0.119\n",
      "Fiji:0.127\n",
      "Dominica:0.136\n",
      "Belize:0.136\n",
      "Angola:0.144\n",
      "Botswana:0.144\n",
      "Saint Lucia:0.153\n",
      "Zimbabwe:0.153\n",
      "Antigua and Barbuda:0.161\n",
      "Burundi:0.169\n",
      "Haiti:0.178\n",
      "Equatorial Guinea:0.186\n",
      "Mongolia:0.203\n",
      "Timor-Leste:0.203\n",
      "Malawi:0.229\n",
      "Norway:0.271\n",
      "Libya:0.297\n",
      "Nepal:0.305\n",
      "Syria:0.305\n",
      "Guinea-Bissau:0.322\n",
      "Eritrea:0.331\n",
      "Bahamas:0.364\n",
      "Guyana:0.373\n",
      "Mozambique:0.373\n",
      "Liechtenstein:0.466\n",
      "Maldives:0.492\n",
      "Uganda:0.534\n",
      "Barbados:0.576\n",
      "Eswatini:0.661\n",
      "Benin:0.703\n",
      "Cabo Verde:0.72\n",
      "Monaco:0.737\n",
      "Burma:0.856\n",
      "Togo:0.898\n",
      "Trinidad and Tobago:0.907\n",
      "Congo (Brazzaville):0.932\n",
      "Ethiopia:0.983\n",
      "Chad:0.992\n",
      "Madagascar:1.008\n",
      "Cambodia:1.034\n",
      "Liberia:1.042\n",
      "Jamaica:1.11\n",
      "Brunei:1.153\n",
      "Guatemala:1.169\n",
      "Sierra Leone:1.254\n",
      "Somalia:1.381\n",
      "Netherlands:1.415\n",
      "Tanzania:1.551\n",
      "Zambia:1.627\n",
      "Rwanda:1.72\n",
      "San Marino:1.72\n",
      "Paraguay:1.856\n",
      "Sudan:2.093\n",
      "Lebanon:2.127\n",
      "Venezuela:2.144\n",
      "Vietnam:2.229\n",
      "Congo (Kinshasa):2.305\n",
      "Gabon:2.551\n",
      "Montenegro:2.636\n",
      "Mauritius:2.729\n",
      "Kenya:2.847\n",
      "West Bank and Gaza:2.856\n",
      "Honduras:2.881\n",
      "Taiwan*:3.373\n",
      "Jordan:3.5\n",
      "Georgia:3.661\n",
      "Malta:3.864\n",
      "El Salvador:4.017\n",
      "Bolivia:4.263\n",
      "Mali:4.339\n",
      "Cyprus:4.364\n",
      "Sri Lanka:4.737\n",
      "Uruguay:4.822\n",
      "Costa Rica:4.873\n",
      "Bulgaria:5.186\n",
      "Andorra:5.288\n",
      "Diamond Princess:5.517\n",
      "Burkina Faso:5.525\n",
      "Latvia:5.61\n",
      "Kosovo:5.856\n",
      "Niger:6.051\n",
      "Albania:6.161\n",
      "Afghanistan:6.788\n",
      "Tunisia:6.941\n",
      "Kyrgyzstan:7.008\n",
      "Estonia:7.949\n",
      "Lithuania:8.449\n",
      "Djibouti:8.627\n",
      "Cote d'Ivoire:8.814\n",
      "Senegal:9.119\n",
      "United Kingdom:9.237\n",
      "Slovakia:10.042\n",
      "Guinea:10.703\n",
      "North Macedonia:11.025\n",
      "Slovenia:11.314\n",
      "Greece:11.644\n",
      "Hungary:11.864\n",
      "New Zealand:12.144\n",
      "Bosnia and Herzegovina:12.407\n",
      "Oman:12.678\n",
      "Cuba:12.754\n",
      "Cameroon:13.28\n",
      "Nigeria:13.932\n",
      "Ghana:14.864\n",
      "Iceland:15.136\n",
      "Croatia:16.492\n",
      "Armenia:17.11\n",
      "Azerbaijan:17.415\n",
      "Iraq:19.576\n",
      "Uzbekistan:19.61\n",
      "Moldova:20.551\n",
      "Argentina:22.246\n",
      "Philippines:23.127\n",
      "Thailand:24.212\n",
      "Bahrain:24.839\n",
      "Ecuador:29.093\n",
      "Egypt:29.153\n",
      "Kazakhstan:29.398\n",
      "Algeria:30.72\n",
      "Luxembourg:31.483\n",
      "Morocco:31.847\n",
      "Colombia:33.076\n",
      "Indonesia:36.644\n",
      "Kuwait:36.771\n",
      "Bangladesh:38.856\n",
      "Serbia:40.669\n",
      "Qatar:41.517\n",
      "Sweden:42.127\n",
      "Finland:42.373\n",
      "Ukraine:44.712\n",
      "Malaysia:47.585\n",
      "Czechia:47.805\n",
      "Panama:51.534\n",
      "Australia:54.347\n",
      "Portugal:54.492\n",
      "Dominican Republic:56.042\n",
      "South Africa:61.847\n",
      "Poland:64.644\n",
      "Denmark:80.5\n",
      "United Arab Emirates:81.161\n",
      "Singapore:83.347\n",
      "Romania:84.153\n",
      "Korea, South:84.22\n",
      "Belarus:85.847\n",
      "Japan:98.0\n",
      "Pakistan:101.034\n",
      "Israel:112.314\n",
      "Austria:123.847\n",
      "Belgium:124.212\n",
      "Ireland:165.0\n",
      "Chile:170.89\n",
      "Switzerland:233.898\n",
      "Saudi Arabia:243.627\n",
      "Peru:256.831\n",
      "Mexico:299.898\n",
      "India:332.483\n",
      "Canada:332.636\n",
      "France:524.093\n",
      "Russia:594.992\n",
      "China:672.119\n",
      "Iran:810.686\n",
      "Brazil:851.347\n",
      "Turkey:945.568\n",
      "Italy:1079.034\n",
      "Spain:1274.373\n",
      "Germany:1313.907\n",
      "US:2399.814\n"
     ]
    }
   ],
   "source": [
    "# Средняя скорость за все дни( с учётом нулевых)\n",
    "print_speed_stats(data)"
   ]
  },
  {
   "cell_type": "code",
   "execution_count": 370,
   "metadata": {},
   "outputs": [],
   "source": [
    "def print_speed_stats_non_zero_days(df, reverse = False , count = len(df.columns)):\n",
    "    statuses = ['confirmed' , 'deaths' , 'recovered']\n",
    "    for i in range(len(statuses)):\n",
    "        print(f\"Статистика за значимые( ненулевые) дни:{statuses[i]}\")\n",
    "        speed = get_average_speed_of_propagation_list_non_zero_days(df,statuses[i],reverse , count)\n",
    "        print(f\"Средняя скорость для {statuses[i]} (человек в день):\")\n",
    "        for key in speed:\n",
    "            print(f\"{key}:{speed[key]}\")"
   ]
  },
  {
   "cell_type": "code",
   "execution_count": 371,
   "metadata": {
    "scrolled": false
   },
   "outputs": [
    {
     "name": "stdout",
     "output_type": "stream",
     "text": [
      "Статистика за значимые( ненулевые) дни:confirmed\n",
      "Средняя скорость для confirmed (человек в день):\n",
      "Papua New Guinea:0.133\n",
      "Western Sahara:0.136\n",
      "Holy See:0.162\n",
      "Seychelles:0.167\n",
      "Suriname:0.167\n",
      "Lesotho:0.167\n",
      "MS Zaandam:0.173\n",
      "Namibia:0.242\n",
      "Saint Vincent and the Grenadines:0.258\n",
      "Saint Lucia:0.273\n",
      "Saint Kitts and Nevis:0.273\n",
      "Dominica:0.276\n",
      "Bhutan:0.284\n",
      "Fiji:0.295\n",
      "Belize:0.316\n",
      "Laos:0.339\n",
      "Antigua and Barbuda:0.373\n",
      "Grenada:0.379\n",
      "Gambia:0.381\n",
      "Nicaragua:0.41\n",
      "Timor-Leste:0.414\n",
      "Botswana:0.5\n",
      "Comoros:0.579\n",
      "Eritrea:0.661\n",
      "Zimbabwe:0.767\n",
      "Angola:0.833\n",
      "Burundi:0.857\n",
      "Syria:1.0\n",
      "Liechtenstein:1.079\n",
      "Cambodia:1.08\n",
      "Libya:1.161\n",
      "Monaco:1.212\n",
      "Mauritania:1.227\n",
      "Barbados:1.397\n",
      "Malawi:1.489\n",
      "Bahamas:1.5\n",
      "Trinidad and Tobago:1.758\n",
      "Guyana:1.824\n",
      "Brunei:1.986\n",
      "Mongolia:2.0\n",
      "Mozambique:2.5\n",
      "Vietnam:2.769\n",
      "Eswatini:3.106\n",
      "Nepal:3.261\n",
      "Yemen:3.333\n",
      "Liberia:3.578\n",
      "Burma:3.604\n",
      "Taiwan*:3.729\n",
      "Uganda:4.203\n",
      "Togo:4.459\n",
      "Rwanda:4.5\n",
      "Central African Republic:5.031\n",
      "Montenegro:5.143\n",
      "West Bank and Gaza:5.173\n",
      "Ethiopia:5.254\n",
      "Benin:5.297\n",
      "Mauritius:5.355\n",
      "Madagascar:5.367\n",
      "Cabo Verde:5.467\n",
      "Sao Tome and Principe:5.721\n",
      "Congo (Brazzaville):6.338\n",
      "South Sudan:6.591\n",
      "Diamond Princess:6.98\n",
      "Jamaica:7.536\n",
      "Malta:7.644\n",
      "Tanzania:7.953\n",
      "San Marino:7.976\n",
      "Jordan:8.169\n",
      "Georgia:8.446\n",
      "Chad:8.508\n",
      "Sri Lanka:8.779\n",
      "Haiti:8.883\n",
      "Venezuela:9.364\n",
      "Andorra:9.756\n",
      "Lebanon:10.58\n",
      "Sierra Leone:10.592\n",
      "Paraguay:10.944\n",
      "Uruguay:11.0\n",
      "Equatorial Guinea:11.062\n",
      "Burkina Faso:11.371\n",
      "Costa Rica:11.703\n",
      "Zambia:12.274\n",
      "Cyprus:12.915\n",
      "Latvia:12.936\n",
      "Albania:13.352\n",
      "Kenya:13.612\n",
      "Tunisia:13.724\n",
      "Niger:15.15\n",
      "Maldives:15.361\n",
      "Mali:15.891\n",
      "Kosovo:17.685\n",
      "New Zealand:18.506\n",
      "Guinea-Bissau:18.764\n",
      "Lithuania:19.099\n",
      "Slovenia:19.547\n",
      "Kyrgyzstan:19.613\n",
      "Slovakia:20.203\n",
      "Gabon:21.697\n",
      "Estonia:21.756\n",
      "North Macedonia:21.892\n",
      "Iceland:22.247\n",
      "Congo (Kinshasa):22.29\n",
      "Somalia:22.734\n",
      "El Salvador:23.164\n",
      "Djibouti:24.484\n",
      "Thailand:25.686\n",
      "Croatia:26.524\n",
      "Cuba:27.662\n",
      "Guatemala:28.97\n",
      "Cote d'Ivoire:30.71\n",
      "Bosnia and Herzegovina:30.72\n",
      "Bulgaria:31.042\n",
      "Senegal:32.615\n",
      "Greece:34.169\n",
      "Sudan:38.672\n",
      "Honduras:40.551\n",
      "Guinea:41.731\n",
      "Iraq:41.812\n",
      "Azerbaijan:42.873\n",
      "Uzbekistan:42.938\n",
      "Hungary:46.513\n",
      "Cameroon:47.689\n",
      "Luxembourg:49.338\n",
      "Finland:57.477\n",
      "Malaysia:60.357\n",
      "Armenia:61.051\n",
      "Bolivia:61.783\n",
      "Australia:62.0\n",
      "Oman:63.282\n",
      "Nigeria:76.235\n",
      "Afghanistan:83.2\n",
      "Bahrain:84.518\n",
      "Moldova:85.25\n",
      "Algeria:85.726\n",
      "Ghana:86.894\n",
      "Morocco:89.128\n",
      "Tajikistan:91.0\n",
      "Korea, South:93.881\n",
      "Norway:99.482\n",
      "Kazakhstan:100.761\n",
      "Czechia:108.684\n",
      "Argentina:108.714\n",
      "Philippines:115.618\n",
      "Egypt:134.358\n",
      "Denmark:136.171\n",
      "Japan:138.178\n",
      "Panama:138.943\n",
      "Serbia:144.581\n",
      "Dominican Republic:161.076\n",
      "Kuwait:184.6\n",
      "Israel:189.125\n",
      "Austria:193.679\n",
      "Romania:205.253\n",
      "United Arab Emirates:217.928\n",
      "South Africa:219.107\n",
      "Colombia:220.203\n",
      "Indonesia:230.897\n",
      "Ukraine:241.766\n",
      "Singapore:242.248\n",
      "Poland:248.487\n",
      "Sweden:278.688\n",
      "Ireland:302.5\n",
      "Bangladesh:331.528\n",
      "Switzerland:364.25\n",
      "Portugal:374.474\n",
      "Belarus:377.432\n",
      "Qatar:424.612\n",
      "Ecuador:425.089\n",
      "Pakistan:507.53\n",
      "Belgium:529.133\n",
      "Netherlands:540.744\n",
      "Chile:598.169\n",
      "Mexico:637.444\n",
      "Canada:696.588\n",
      "China:712.398\n",
      "Saudi Arabia:735.192\n",
      "India:912.073\n",
      "Peru:1282.878\n",
      "Iran:1361.022\n",
      "France:1552.164\n",
      "Germany:1562.398\n",
      "Italy:2072.349\n",
      "Spain:2144.5\n",
      "Turkey:2182.507\n",
      "United Kingdom:2272.56\n",
      "Russia:2666.771\n",
      "Brazil:3076.723\n",
      "US:12782.271\n",
      "Статистика за значимые( ненулевые) дни:deaths\n",
      "Средняя скорость для deaths (человек в день):\n",
      "Gambia:0.018\n",
      "Brunei:0.019\n",
      "Botswana:0.02\n",
      "Liechtenstein:0.022\n",
      "Suriname:0.022\n",
      "Burundi:0.028\n",
      "West Bank and Gaza:0.037\n",
      "MS Zaandam:0.042\n",
      "Benin:0.047\n",
      "Belize:0.047\n",
      "Cabo Verde:0.054\n",
      "Angola:0.059\n",
      "Syria:0.059\n",
      "Eswatini:0.061\n",
      "Libya:0.064\n",
      "Zimbabwe:0.07\n",
      "Antigua and Barbuda:0.071\n",
      "Malawi:0.071\n",
      "Taiwan*:0.075\n",
      "Comoros:0.077\n",
      "Monaco:0.078\n",
      "Mauritania:0.08\n",
      "Ethiopia:0.114\n",
      "Burma:0.122\n",
      "Trinidad and Tobago:0.145\n",
      "Diamond Princess:0.146\n",
      "Malta:0.146\n",
      "Guyana:0.147\n",
      "Jamaica:0.148\n",
      "Zambia:0.149\n",
      "Nicaragua:0.151\n",
      "Montenegro:0.158\n",
      "Barbados:0.159\n",
      "Iceland:0.159\n",
      "Costa Rica:0.164\n",
      "Mauritius:0.169\n",
      "Jordan:0.17\n",
      "Sri Lanka:0.173\n",
      "Guinea-Bissau:0.174\n",
      "Djibouti:0.179\n",
      "Gabon:0.183\n",
      "Paraguay:0.186\n",
      "Bahrain:0.188\n",
      "Venezuela:0.189\n",
      "Maldives:0.2\n",
      "Togo:0.226\n",
      "Bahamas:0.229\n",
      "Uzbekistan:0.245\n",
      "Equatorial Guinea:0.259\n",
      "Georgia:0.267\n",
      "Qatar:0.288\n",
      "Cyprus:0.293\n",
      "Kyrgyzstan:0.304\n",
      "Congo (Brazzaville):0.319\n",
      "Lebanon:0.371\n",
      "Singapore:0.373\n",
      "Uruguay:0.385\n",
      "Sao Tome and Principe:0.389\n",
      "New Zealand:0.412\n",
      "Latvia:0.413\n",
      "Tanzania:0.429\n",
      "Albania:0.449\n",
      "Guinea:0.471\n",
      "Haiti:0.477\n",
      "Liberia:0.489\n",
      "Ghana:0.492\n",
      "Madagascar:0.5\n",
      "Oman:0.51\n",
      "San Marino:0.532\n",
      "Kosovo:0.537\n",
      "Slovakia:0.538\n",
      "Senegal:0.542\n",
      "Guatemala:0.547\n",
      "Cote d'Ivoire:0.549\n",
      "Azerbaijan:0.597\n",
      "El Salvador:0.612\n",
      "Kazakhstan:0.636\n",
      "Nepal:0.667\n",
      "Thailand:0.709\n",
      "Tunisia:0.754\n",
      "Burkina Faso:0.823\n",
      "Andorra:0.879\n",
      "Kenya:0.926\n",
      "Lithuania:1.0\n",
      "Niger:1.0\n",
      "South Sudan:1.0\n",
      "Mali:1.02\n",
      "Congo (Kinshasa):1.034\n",
      "Yemen:1.053\n",
      "Armenia:1.13\n",
      "Estonia:1.164\n",
      "Australia:1.253\n",
      "Sierra Leone:1.269\n",
      "Cuba:1.274\n",
      "Somalia:1.39\n",
      "Croatia:1.557\n",
      "Sudan:1.567\n",
      "Slovenia:1.576\n",
      "Bulgaria:1.594\n",
      "Luxembourg:1.621\n",
      "Iraq:1.671\n",
      "North Macedonia:1.793\n",
      "Malaysia:1.794\n",
      "Bosnia and Herzegovina:2.254\n",
      "Greece:2.391\n",
      "Tajikistan:2.412\n",
      "Chad:2.524\n",
      "Cameroon:2.545\n",
      "Kuwait:2.622\n",
      "Honduras:2.704\n",
      "Morocco:2.743\n",
      "Korea, South:2.955\n",
      "Afghanistan:2.983\n",
      "Nigeria:3.351\n",
      "Bolivia:3.412\n",
      "Belarus:3.49\n",
      "Moldova:3.5\n",
      "Norway:3.53\n",
      "United Arab Emirates:3.733\n",
      "Serbia:3.85\n",
      "Panama:4.043\n",
      "Israel:4.678\n",
      "Finland:5.085\n",
      "Czechia:5.121\n",
      "Argentina:5.306\n",
      "South Africa:5.396\n",
      "Bangladesh:5.629\n",
      "Saudi Arabia:5.714\n",
      "Dominican Republic:6.889\n",
      "Hungary:7.108\n",
      "Philippines:7.766\n",
      "Japan:7.802\n",
      "Ukraine:7.985\n",
      "Algeria:8.162\n",
      "Chile:8.241\n",
      "Denmark:8.303\n",
      "Egypt:8.958\n",
      "Austria:9.25\n",
      "Colombia:10.207\n",
      "Poland:13.765\n",
      "Pakistan:14.803\n",
      "Indonesia:17.261\n",
      "Romania:19.31\n",
      "Portugal:19.54\n",
      "Ireland:22.42\n",
      "Switzerland:25.147\n",
      "China:39.305\n",
      "Ecuador:42.409\n",
      "Russia:44.623\n",
      "India:45.739\n",
      "Peru:46.483\n",
      "Sweden:53.594\n",
      "Turkey:66.206\n",
      "Netherlands:77.203\n",
      "Iran:78.411\n",
      "Canada:83.944\n",
      "Mexico:87.41\n",
      "Germany:112.718\n",
      "Belgium:131.594\n",
      "Brazil:267.508\n",
      "France:300.447\n",
      "Spain:359.857\n",
      "Italy:363.716\n",
      "United Kingdom:471.297\n",
      "US:1129.338\n",
      "Статистика за значимые( ненулевые) дни:recovered\n",
      "Средняя скорость для recovered (человек в день):\n",
      "Yemen:0.04\n",
      "Holy See:0.049\n",
      "Bhutan:0.106\n",
      "Mauritania:0.137\n",
      "Nicaragua:0.189\n",
      "Sao Tome and Principe:0.19\n",
      "Suriname:0.22\n",
      "Western Sahara:0.231\n",
      "Namibia:0.232\n",
      "Saint Vincent and the Grenadines:0.269\n",
      "Gambia:0.271\n",
      "Saint Lucia:0.34\n",
      "Seychelles:0.344\n",
      "Angola:0.347\n",
      "Central African Republic:0.361\n",
      "South Sudan:0.364\n",
      "Nepal:0.371\n",
      "Dominica:0.372\n",
      "Laos:0.4\n",
      "Grenada:0.438\n",
      "Equatorial Guinea:0.449\n",
      "Norway:0.451\n",
      "Mongolia:0.48\n",
      "Fiji:0.517\n",
      "Saint Kitts and Nevis:0.519\n",
      "Zimbabwe:0.529\n",
      "Papua New Guinea:0.533\n",
      "Belize:0.533\n",
      "Antigua and Barbuda:0.543\n",
      "Haiti:0.6\n",
      "Comoros:0.6\n",
      "Timor-Leste:0.615\n",
      "Burundi:0.69\n",
      "Libya:0.795\n",
      "Bahamas:0.796\n",
      "Syria:0.8\n",
      "Malawi:0.844\n",
      "Botswana:0.85\n",
      "Mozambique:0.978\n",
      "Guyana:1.023\n",
      "Maldives:1.036\n",
      "Cambodia:1.258\n",
      "Eritrea:1.258\n",
      "Guinea-Bissau:1.267\n",
      "Liechtenstein:1.279\n",
      "Monaco:1.5\n",
      "Barbados:1.545\n",
      "Uganda:1.658\n",
      "Benin:1.694\n",
      "Togo:1.767\n",
      "Eswatini:1.814\n",
      "Trinidad and Tobago:1.911\n",
      "Cabo Verde:1.977\n",
      "Jamaica:2.047\n",
      "Ethiopia:2.148\n",
      "Brunei:2.267\n",
      "Congo (Brazzaville):2.34\n",
      "Vietnam:2.435\n",
      "Guatemala:2.509\n",
      "Burma:2.525\n",
      "Netherlands:2.53\n",
      "Madagascar:2.705\n",
      "Liberia:2.733\n",
      "Chad:2.786\n",
      "San Marino:3.076\n",
      "Lebanon:3.303\n",
      "Somalia:3.327\n",
      "Tanzania:3.453\n",
      "Taiwan*:3.864\n",
      "Paraguay:4.132\n",
      "Zambia:4.174\n",
      "Venezuela:4.362\n",
      "Rwanda:4.614\n",
      "Sierra Leone:4.933\n",
      "Sudan:5.041\n",
      "Congo (Kinshasa):5.132\n",
      "Sri Lanka:5.535\n",
      "West Bank and Gaza:5.617\n",
      "Kenya:6.109\n",
      "Jordan:6.164\n",
      "Honduras:6.538\n",
      "Gabon:6.543\n",
      "Georgia:6.75\n",
      "Montenegro:6.761\n",
      "Malta:6.806\n",
      "Mauritius:7.156\n",
      "Diamond Princess:7.483\n",
      "Cyprus:8.879\n",
      "Andorra:9.313\n",
      "Latvia:9.457\n",
      "Costa Rica:9.746\n",
      "Bulgaria:10.373\n",
      "Bolivia:10.479\n",
      "El Salvador:10.533\n",
      "Burkina Faso:11.051\n",
      "United Kingdom:11.237\n",
      "Mali:11.378\n",
      "Uruguay:11.612\n",
      "Albania:12.322\n",
      "Afghanistan:12.516\n",
      "Kosovo:13.038\n",
      "Tunisia:14.121\n",
      "Estonia:14.431\n",
      "Senegal:14.944\n",
      "Lithuania:15.338\n",
      "Niger:16.227\n",
      "Cote d'Ivoire:16.508\n",
      "Kyrgyzstan:16.54\n",
      "Oman:18.7\n",
      "North Macedonia:19.418\n",
      "Slovakia:20.431\n",
      "Greece:20.818\n",
      "Hungary:21.212\n",
      "Djibouti:22.13\n",
      "Bosnia and Herzegovina:23.238\n",
      "Slovenia:24.273\n",
      "Thailand:25.061\n",
      "New Zealand:25.589\n",
      "Iceland:26.265\n",
      "Nigeria:26.516\n",
      "Cuba:26.875\n",
      "Guinea:27.457\n",
      "Philippines:28.134\n",
      "Cameroon:28.491\n",
      "Croatia:29.045\n",
      "Azerbaijan:29.783\n",
      "Armenia:32.048\n",
      "Ghana:32.481\n",
      "Iraq:32.535\n",
      "Moldova:38.492\n",
      "Bahrain:39.608\n",
      "Argentina:39.773\n",
      "Egypt:42.469\n",
      "Uzbekistan:43.66\n",
      "Finland:51.546\n",
      "Algeria:53.309\n",
      "Malaysia:55.049\n",
      "Morocco:56.09\n",
      "Ecuador:58.186\n",
      "Australia:58.3\n",
      "Kuwait:60.264\n",
      "Indonesia:61.771\n",
      "Colombia:61.952\n",
      "Luxembourg:64.052\n",
      "Kazakhstan:64.241\n",
      "Sweden:70.014\n",
      "Bangladesh:71.641\n",
      "Qatar:74.227\n",
      "Czechia:88.141\n",
      "Ukraine:89.424\n",
      "Portugal:95.97\n",
      "Singapore:97.376\n",
      "Korea, South:97.431\n",
      "United Arab Emirates:98.732\n",
      "Japan:101.439\n",
      "Panama:108.589\n",
      "Serbia:114.262\n",
      "Dominican Republic:118.089\n",
      "Poland:119.188\n",
      "Denmark:128.365\n",
      "South Africa:130.321\n",
      "Romania:130.658\n",
      "Belarus:142.676\n",
      "Belgium:159.315\n",
      "Israel:161.622\n",
      "Pakistan:165.583\n",
      "Austria:205.831\n",
      "Ireland:309.048\n",
      "Chile:336.083\n",
      "Switzerland:358.442\n",
      "Canada:404.649\n",
      "Saudi Arabia:410.686\n",
      "India:421.86\n",
      "Mexico:459.584\n",
      "Peru:481.048\n",
      "France:637.557\n",
      "China:672.119\n",
      "Russia:723.804\n",
      "Iran:1152.542\n",
      "Italy:1463.517\n",
      "Brazil:1569.672\n",
      "Spain:1599.745\n",
      "Germany:1615.01\n",
      "Turkey:2028.673\n",
      "US:2831.78\n"
     ]
    }
   ],
   "source": [
    "# Средняя скорость за все дни( без нулевых значений)\n",
    "print_speed_stats_non_zero_days(df)"
   ]
  },
  {
   "cell_type": "code",
   "execution_count": 372,
   "metadata": {},
   "outputs": [],
   "source": [
    "def draw_average_speed_of_propagation_list(data,days = len(data[list(data.keys())[0]]), reverse = False):   \n",
    "    statuses = ['confirmed' , 'deaths' , 'recovered']\n",
    "    colors = ['yellow' , 'red' ,'green']\n",
    "    for i in range(3):\n",
    "        fig , ax = plt.subplots()\n",
    "        fig =plt.figure(figsize=(50,40))\n",
    "        speed = get_average_speed_of_propagation_list(data,status = statuses[i],days = days,reverse = reverse)\n",
    "        countries = list(speed.keys())\n",
    "        values = list(speed.values())\n",
    "        ax.bar(countries,values, color=colors[i])\n",
    "        ax.set_title(f\"{statuses[i]} for {days} days\") \n",
    "        plt.show()\n",
    "        "
   ]
  },
  {
   "cell_type": "code",
   "execution_count": 373,
   "metadata": {},
   "outputs": [],
   "source": [
    "def draw_countries_covid_stats(df, count = len(df.columns)):\n",
    "    for country_name in df.columns[:count]:\n",
    "        country = df[country_name]\n",
    "        x = [index for index in country.index]\n",
    "        y = [obj['confirmed'] for obj in country]\n",
    "        y1 = [obj['deaths'] for obj in country] \n",
    "        y2 = [obj['recovered'] for obj in country] \n",
    "        fig, ax = plt.subplots()\n",
    "        ax.plot(x,y,label=\"confirmed\")\n",
    "        ax.plot(x,y1,label=\"deaths\")\n",
    "        ax.plot(x,y2,label=\"recovered\")\n",
    "        ax.set_title(country_name)  # Add a title to the axes.\n",
    "        ax.set_xlabel(\"days\")\n",
    "        ax.set_ylabel(\"amount\")\n",
    "        ax.legend()"
   ]
  },
  {
   "cell_type": "code",
   "execution_count": 374,
   "metadata": {
    "scrolled": false
   },
   "outputs": [],
   "source": [
    "def create_country_stats_excel_file(df):\n",
    "    writer = pd.ExcelWriter('covid-19.xlsx', engine='xlsxwriter')\n",
    "    for country_name in df.columns:\n",
    "        country = pd.DataFrame.from_dict(data[country_name])\n",
    "        country_name = \"\".join([c for c in country_name if c.isalpha()])\n",
    "        country.to_excel(writer ,sheet_name=country_name, index_label=\"day\")\n",
    "        #country.to_csv(f\"{country_name}.csv\" , index_label = \"day\")"
   ]
  },
  {
   "cell_type": "code",
   "execution_count": 375,
   "metadata": {},
   "outputs": [],
   "source": [
    "def create_country_stats_excel_file_without_zeroes(df, by='confirmed'):\n",
    "    writer = pd.ExcelWriter(f\"covid-19_{by}.xlsx\", engine='xlsxwriter')\n",
    "    for country_name in df.columns:\n",
    "        country = pd.DataFrame.from_dict(data[country_name])\n",
    "        country = country.loc[country[by] > 0 , [by,'date']].reset_index(drop = True)\n",
    "        country.index = country.index + 1 # если что, убрать\n",
    "        #print(country)\n",
    "        country_name = \"\".join([c for c in country_name if c.isalpha()])\n",
    "        country.to_excel(writer ,sheet_name=country_name, index_label=\"day\")\n",
    "        #country.to_csv(f\"{country_name}.csv\" , index_label = \"day\")\n",
    "\n",
    "        "
   ]
  },
  {
   "cell_type": "code",
   "execution_count": 376,
   "metadata": {
    "scrolled": false
   },
   "outputs": [],
   "source": [
    "create_country_stats_excel_file_without_zeroes(df)\n",
    "create_country_stats_excel_file_without_zeroes(df, by='deaths')\n",
    "create_country_stats_excel_file_without_zeroes(df, by= 'recovered')"
   ]
  },
  {
   "cell_type": "code",
   "execution_count": 377,
   "metadata": {
    "scrolled": false
   },
   "outputs": [],
   "source": [
    "# Функции для регрессии\n",
    "def linear(x,a,b):\n",
    "    return a*x + b\n",
    "\n",
    "def exp(x,a,b,c):\n",
    "    return a*np.exp(b*x)+c\n",
    "\n",
    "def polynomial_square(x,a,b,c):\n",
    "    return a*np.square(x) + b*x + c\n",
    "\n",
    "def polynomial_cube(x,a,b,c,d):\n",
    "    return a*np.power(x,3) + b*np.square(x) + c*x + d\n",
    "\n",
    "def log(x,a,b,c):\n",
    "    return a*np.log(b*x) + c\n",
    "\n"
   ]
  },
  {
   "cell_type": "code",
   "execution_count": 378,
   "metadata": {},
   "outputs": [],
   "source": [
    "# Функции для приближения результатов\n",
    "functions_to_fit = {\"linear\":linear , \"exp\":exp , \"polynomial_square\":polynomial_square ,\"polynomial_cube\":polynomial_cube, \"log\":log}"
   ]
  },
  {
   "cell_type": "code",
   "execution_count": 379,
   "metadata": {},
   "outputs": [],
   "source": [
    "def get_curve_fit_with_params(x,y,method = \"r2\",maxfev = 1000,functions = functions_to_fit):\n",
    "    name = list(functions)[0]\n",
    "    function =functions[name]\n",
    "    params = [1,0]\n",
    "    r_square = 0\n",
    "    if method == \"mse\":\n",
    "        mse = mean_squared_error(y, functions[name](x,*params))\n",
    "    for key in functions:\n",
    "        if key == \"exp\":\n",
    "            opt_params , pcov = curve_fit(functions[key],x,y , p0 = (-1, 0.01, 1),maxfev = 5000)\n",
    "        else:\n",
    "            opt_params , pcov = curve_fit(functions[key],x,y,maxfev = 5000)\n",
    "        if method == \"r2\":   \n",
    "            r_square_cur = r2_score(y, functions[key](x,*opt_params))\n",
    "            if r_square_cur > r_square:\n",
    "                r_square = r_square_cur\n",
    "                function = functions[key]\n",
    "                name = key\n",
    "                params = opt_params         \n",
    "        else:\n",
    "            mse_cur = mean_squared_error(y, functions[key](x,*opt_params))\n",
    "            if mse_cur < mse:\n",
    "                mse = mse_cur\n",
    "                function = functions[key]\n",
    "                name = key\n",
    "                params = opt_params   \n",
    "    if method == \"mse\":\n",
    "        return (name, function , params, mse)    \n",
    "    return (name, function , params, r_square)\n",
    "        \n",
    "        "
   ]
  },
  {
   "cell_type": "code",
   "execution_count": 380,
   "metadata": {},
   "outputs": [],
   "source": [
    "def get_country_dependency(country, status, method,functions):\n",
    "    country_name = country['name']\n",
    "    data = country['data']\n",
    "    #print(country_name)\n",
    "    #print(data)\n",
    "    if data.empty:\n",
    "        return None\n",
    "    x = np.array(list(data.index))\n",
    "    y = np.array(list(data[status]))\n",
    "    # \n",
    "    if status ==\"deaths\":\n",
    "        threshold = 4\n",
    "        if(len(x) < threshold) or (len(y) < threshold) or (len(y) != len(x)):\n",
    "            return None\n",
    "    name, func, params, res = get_curve_fit_with_params(x,y,method,functions)\n",
    "    mark = method \n",
    "    res = {\"country\": country_name , \"criteria\":status, \"dependency\":name ,\"opt_params\":params, method:res }\n",
    "    #print(res)\n",
    "    return res\n"
   ]
  },
  {
   "cell_type": "code",
   "execution_count": 381,
   "metadata": {},
   "outputs": [],
   "source": [
    "def get_countries_by_status(df , status='confirmed' , count = len(df.columns) ):\n",
    "    countries =[]\n",
    "    for country_name in df.columns[:count]:\n",
    "        country = pd.DataFrame.from_dict(data[country_name])\n",
    "        country = country.loc[country[status] > 0 , ['date',status]].reset_index(drop = True)\n",
    "        country.index = country.index + 1 # если что, убрать\n",
    "        country.index\n",
    "        countries.append({\"name\":country_name  ,\"data\":country})\n",
    "    return countries"
   ]
  },
  {
   "cell_type": "code",
   "execution_count": 382,
   "metadata": {},
   "outputs": [],
   "source": [
    "def get_countries_dependencies_by_status(df , status='confirmed' , count = len(df.columns) , method = \"r2\", functions = functions_to_fit):\n",
    "    countries = get_countries_by_status(df,status,count)\n",
    "    dependencies = []\n",
    "    for country in countries:\n",
    "        data = get_country_dependency(country,status, method,functions)\n",
    "        if data is not None:\n",
    "            dependencies.append(data)\n",
    "    return dependencies"
   ]
  },
  {
   "cell_type": "code",
   "execution_count": 383,
   "metadata": {},
   "outputs": [],
   "source": [
    "def print_countries_dependencies_by_status(df , status='confirmed' , count = len(df.columns) , method = \"r2\",functions = functions_to_fit):\n",
    "    countries = get_countries_dependencies_by_status(df,status , count , method,functions)\n",
    "    for country in countries:\n",
    "        print(f\"Страна: {country['country']} , критерий: {country['criteria']}, зависимость: {country['dependency']}\")\n",
    "        print(f\"оптимальные параметры:\" , end = \" \")\n",
    "        for param in country['opt_params']:\n",
    "            print(param, end = ', ')\n",
    "        print()\n",
    "        print(f\"{list(country.keys())[-1]}: {country[list(country.keys())[-1]]}\")"
   ]
  },
  {
   "cell_type": "code",
   "execution_count": 384,
   "metadata": {
    "scrolled": true
   },
   "outputs": [
    {
     "name": "stdout",
     "output_type": "stream",
     "text": [
      "Страна: Afghanistan , критерий: confirmed, зависимость: polynomial_cube\n",
      "оптимальные параметры: 0.03237995962936768, -2.4307317824961707, 56.470743423007555, -289.3735473157819, \n",
      "r2: 0.9954564879162676\n",
      "Страна: Albania , критерий: confirmed, зависимость: polynomial_cube\n",
      "оптимальные параметры: -0.004148004471307587, 0.43807421701956273, 2.8699522847334826, -3.3708594276365975, \n",
      "r2: 0.9979906898728447\n",
      "Страна: Algeria , критерий: confirmed, зависимость: polynomial_cube\n",
      "оптимальные параметры: -0.00034758804603862714, 1.4038540982290866, -31.32512010094255, 116.87566578102499, \n",
      "r2: 0.9986015927864055\n",
      "Страна: Andorra , критерий: confirmed, зависимость: polynomial_cube\n",
      "оптимальные параметры: -0.006178488662731851, 0.5810529203146664, 1.5538764894151185, -55.77185621410188, \n",
      "r2: 0.9784251300170255\n",
      "Страна: Angola , критерий: confirmed, зависимость: polynomial_cube\n",
      "оптимальные параметры: 0.00020484547812387653, -0.01464214143302831, 1.0356267653163156, -1.6744590295345647, \n",
      "r2: 0.9811882266155629\n",
      "Страна: Antigua and Barbuda , критерий: confirmed, зависимость: polynomial_cube\n",
      "оптимальные параметры: -0.0001512933874853075, 0.005969330303081198, 0.6640027428163291, -3.155372276434979, \n",
      "r2: 0.9585499337899914\n",
      "Страна: Argentina , критерий: confirmed, зависимость: polynomial_cube\n",
      "оптимальные параметры: 0.004743684388416103, 0.9315203828526063, 5.5474584349462335, -121.85261310554263, \n",
      "r2: 0.9965958921382461\n",
      "Страна: Armenia , критерий: confirmed, зависимость: polynomial_cube\n",
      "оптимальные параметры: 0.01287264205130556, -0.6198086215101315, 28.351834221011753, -183.18104680166516, \n",
      "r2: 0.9949006168667881\n",
      "Страна: Australia , критерий: confirmed, зависимость: polynomial_cube\n",
      "оптимальные параметры: -0.03131774119898245, 5.8094794721685385, -209.40822815357612, 1409.8090012493562, \n",
      "r2: 0.9538209085313711\n",
      "Страна: Austria , критерий: confirmed, зависимость: polynomial_cube\n",
      "оптимальные параметры: -0.10750018958339691, 11.167190851754656, 0.9300087206874581, -1088.3537754086856, \n",
      "r2: 0.967264940283054\n",
      "Страна: Azerbaijan , критерий: confirmed, зависимость: polynomial_cube\n",
      "оптимальные параметры: -0.0036621155294302987, 0.9619774601595659, -13.838355895899351, 18.223296357281313, \n",
      "r2: 0.9877515415010174\n",
      "Страна: Bahamas , критерий: confirmed, зависимость: polynomial_cube\n",
      "оптимальные параметры: -0.0007873923331222757, 0.06891872544074608, 0.3026767184441742, -1.1106904392194656, \n",
      "r2: 0.9952495186276081\n",
      "Страна: Bahrain , критерий: confirmed, зависимость: polynomial_cube\n",
      "оптимальные параметры: 0.0209797729605804, -1.1733267682670463, 33.37916542840753, -136.2838691519989, \n",
      "r2: 0.9964400630514866\n",
      "Страна: Bangladesh , критерий: confirmed, зависимость: polynomial_cube\n",
      "оптимальные параметры: 0.12137898831119642, -4.7579798340810955, 41.09039338162071, -22.136918127194374, \n",
      "r2: 0.9993887123353057\n",
      "Страна: Barbados , критерий: confirmed, зависимость: polynomial_cube\n",
      "оптимальные параметры: 0.00037209031154944314, -0.0708087365366874, 4.522670709838534, -11.934501929656204, \n",
      "r2: 0.9823994867021377\n",
      "Страна: Belarus , критерий: confirmed, зависимость: polynomial_cube\n",
      "оптимальные параметры: 0.0764516106189499, -0.30632588415929507, -87.59370617841131, 744.5246793384265, \n",
      "r2: 0.9957341397800078\n",
      "Страна: Belgium , критерий: confirmed, зависимость: polynomial_cube\n",
      "оптимальные параметры: -0.1481949303549495, 31.029230568471228, -1138.1603582297876, 7677.00519343246, \n",
      "r2: 0.9805504139999465\n",
      "Страна: Benin , критерий: confirmed, зависимость: polynomial_cube\n",
      "оптимальные параметры: 0.004618486871469929, -0.279131739032233, 5.606564993878234, -19.070844665255034, \n",
      "r2: 0.9337114222737096\n",
      "Страна: Bhutan , критерий: confirmed, зависимость: polynomial_cube\n",
      "оптимальные параметры: 0.00018922948986142235, -0.017692183601956023, 0.5592697886479969, -2.0099161954770812, \n",
      "r2: 0.8534093668778739\n",
      "Страна: Bolivia , критерий: confirmed, зависимость: polynomial_cube\n",
      "оптимальные параметры: 0.030442040540804127, -1.6718324799815143, 33.673350922941204, -133.94604401882103, \n",
      "r2: 0.9981156741620257\n",
      "Страна: Bosnia and Herzegovina , критерий: confirmed, зависимость: polynomial_cube\n",
      "оптимальные параметры: -0.010807327464181782, 1.4192464924268346, -15.495185045542023, 26.95847134808452, \n",
      "r2: 0.9981813296355605\n",
      "Страна: Brazil , критерий: confirmed, зависимость: polynomial_cube\n",
      "оптимальные параметры: 1.0991701368640856, -72.37853644740117, 1525.4583971061288, -7343.318085365518, \n",
      "r2: 0.997993708353741\n",
      "Страна: Brunei , критерий: confirmed, зависимость: polynomial_cube\n",
      "оптимальные параметры: 0.0015838389140485677, -0.22746383446610277, 10.472566140651528, -15.549723208534235, \n",
      "r2: 0.9904241953874272\n",
      "Страна: Bulgaria , критерий: confirmed, зависимость: polynomial_cube\n",
      "оптимальные параметры: -0.002034486316802475, 0.5583313256936384, 2.517975875807663, 4.29802972426609, \n",
      "r2: 0.9961962724910923\n",
      "Страна: Burkina Faso , критерий: confirmed, зависимость: polynomial_cube\n",
      "оптимальные параметры: -0.0026145882095793826, 0.17480296764835834, 12.530164644975896, -71.71287552026476, \n",
      "r2: 0.9900458124697286\n",
      "Страна: Cabo Verde , критерий: confirmed, зависимость: polynomial_cube\n",
      "оптимальные параметры: 0.0005186665656340406, 0.10238588175396424, -2.282214065716631, 11.939788981546666, \n",
      "r2: 0.9921864140905813\n",
      "Страна: Cambodia , критерий: confirmed, зависимость: polynomial_cube\n",
      "оптимальные параметры: -0.0006736308770717547, 0.11417020354582219, -3.5763723350075836, 21.035140364299465, \n",
      "r2: 0.9374923586259656\n",
      "Страна: Cameroon , критерий: confirmed, зависимость: polynomial_cube\n",
      "оптимальные параметры: -0.0011242908469155655, 0.7977211177662662, -8.572390423027084, -1.5376681911364196, \n",
      "r2: 0.993166402440341\n",
      "Страна: Canada , критерий: confirmed, зависимость: polynomial_cube\n",
      "оптимальные параметры: 0.03221095949424624, 6.821212631306611, -468.26185654465604, 4341.500863804788, \n",
      "r2: 0.988104675829021\n",
      "Страна: Central African Republic , критерий: confirmed, зависимость: polynomial_cube\n",
      "оптимальные параметры: 0.004531974100238423, -0.30796269982300717, 5.964979196305021, -22.450465260603988, \n",
      "r2: 0.9394242851324347\n",
      "Страна: Chad , критерий: confirmed, зависимость: polynomial_cube\n",
      "оптимальные параметры: 0.007617073400413066, -0.4289122595397983, 7.1544372592685335, -22.71791014753759, \n",
      "r2: 0.9858280236501133\n",
      "Страна: Chile , критерий: confirmed, зависимость: polynomial_cube\n",
      "оптимальные параметры: 0.1877207976957097, -10.900010311212393, 317.0890153317196, -1821.4552770172465, \n",
      "r2: 0.9928109592907128\n",
      "Страна: China , критерий: confirmed, зависимость: polynomial_cube\n",
      "оптимальные параметры: 0.2425441995984788, -57.20862778200155, 4284.069529625706, -17833.022267494256, \n",
      "r2: 0.9615673504481846\n",
      "Страна: Colombia , критерий: confirmed, зависимость: polynomial_cube\n",
      "оптимальные параметры: 0.055114495901242656, -2.0185524189052377, 68.67857521774681, -393.51518961510885, \n",
      "r2: 0.9978225213569578\n",
      "Страна: Congo (Brazzaville) , критерий: confirmed, зависимость: polynomial_cube\n",
      "оптимальные параметры: -0.0008130448107379618, 0.16966765162059283, -1.5220136371946387, 1.7482792744620985, \n",
      "r2: 0.9824681471374723\n",
      "Страна: Congo (Kinshasa) , критерий: confirmed, зависимость: polynomial_cube\n",
      "оптимальные параметры: 0.008929513731688155, -0.497942566579066, 14.721299679258998, -65.00852861962413, \n",
      "r2: 0.9960302008114172\n",
      "Страна: Costa Rica , критерий: confirmed, зависимость: polynomial_cube\n",
      "оптимальные параметры: -0.0026236940890834366, 0.1706650749092463, 13.744227217030687, -86.0143267473756, \n",
      "r2: 0.9838853417460867\n",
      "Страна: Cote d'Ivoire , критерий: confirmed, зависимость: polynomial_cube\n",
      "оптимальные параметры: -0.005162036008527826, 0.9352335796666675, -9.489979330611876, 17.13759613919952, \n",
      "r2: 0.99823829198778\n",
      "Страна: Croatia , критерий: confirmed, зависимость: polynomial_cube\n",
      "оптимальные параметры: -0.017637902306721243, 2.1693779838792064, -34.66008447817949, 86.91900392909245, \n",
      "r2: 0.989908534767876\n",
      "Страна: Diamond Princess , критерий: confirmed, зависимость: exp\n",
      "оптимальные параметры: -918.1686836428773, -0.11946650239211219, 720.1528601795519, \n",
      "r2: 0.9369375435977818\n",
      "Страна: Cuba , критерий: confirmed, зависимость: polynomial_cube\n",
      "оптимальные параметры: -0.019480339553884063, 2.156652930418389, -30.94267417374667, 99.08698588518641, \n",
      "r2: 0.9985601885787911\n",
      "Страна: Cyprus , критерий: confirmed, зависимость: polynomial_cube\n",
      "оптимальные параметры: -0.007385709397180973, 0.6312865459226115, 4.892007269673977, -44.50076417593276, \n",
      "r2: 0.9869921570155368\n",
      "Страна: Czechia , критерий: confirmed, зависимость: polynomial_cube\n",
      "оптимальные параметры: -0.056515610126484095, 6.020564141894544, -20.882091489853078, -275.72654327747927, \n",
      "r2: 0.9881122627041049\n",
      "Страна: Denmark , критерий: confirmed, зависимость: polynomial_cube\n",
      "оптимальные параметры: -0.05351350326573989, 6.97967195458018, -82.10774459649045, 211.6537597343317, \n",
      "r2: 0.9970749208978862\n",
      "Страна: Djibouti , критерий: confirmed, зависимость: polynomial_cube\n",
      "оптимальные параметры: -0.023508968102383898, 2.286129746679356, -32.2631577908951, 80.55252803214364, \n",
      "r2: 0.9656599271715941\n",
      "Страна: Dominican Republic , критерий: confirmed, зависимость: polynomial_cube\n",
      "оптимальные параметры: -0.007381619963235719, 3.5553278623320015, -76.85903116896915, 293.5459796705229, \n",
      "r2: 0.999117368912598\n",
      "Страна: Ecuador , критерий: confirmed, зависимость: polynomial_cube\n",
      "оптимальные параметры: -0.1248630292947472, 23.17234725776704, -638.8812558821322, 3431.130578664359, \n",
      "r2: 0.9556896966897\n",
      "Страна: Egypt , критерий: confirmed, зависимость: polynomial_cube\n",
      "оптимальные параметры: 0.028134507070223802, -1.5728123350813803, 30.761965021892145, -148.5933646300006, \n",
      "r2: 0.9994453183733119\n",
      "Страна: El Salvador , критерий: confirmed, зависимость: polynomial_cube\n",
      "оптимальные параметры: 0.013246665922576856, -0.6484850636455118, 14.361477850157044, -52.18623183689408, \n",
      "r2: 0.9973914588587454\n",
      "Страна: Equatorial Guinea , критерий: confirmed, зависимость: polynomial_cube\n",
      "оптимальные параметры: 0.0004703273660344731, 0.21135458027173704, -6.014942339872828, 33.73133197455773, \n",
      "r2: 0.9722408378223107\n",
      "Страна: Eritrea , критерий: confirmed, зависимость: polynomial_cube\n",
      "оптимальные параметры: 0.0004315880212496642, -0.0641234368664012, 3.0831578883521686, -8.698391041151249, \n",
      "r2: 0.9728694608592208\n",
      "Страна: Estonia , критерий: confirmed, зависимость: polynomial_cube\n",
      "оптимальные параметры: -0.011986801760357935, 1.3268321573329498, -7.9829165438907665, -32.970838621871216, \n",
      "r2: 0.9914143268062544\n",
      "Страна: Eswatini , критерий: confirmed, зависимость: polynomial_cube\n",
      "оптимальные параметры: 0.0006285973932219635, 0.02663759876216809, -1.1424494059038857, 9.454545454594516, \n",
      "r2: 0.9787673338326935\n",
      "Страна: Ethiopia , критерий: confirmed, зависимость: polynomial_cube\n",
      "оптимальные параметры: 0.0018200278120010793, -0.10898936874726228, 4.259329189622965, -18.26705850126697, \n",
      "r2: 0.9780095734940802\n",
      "Страна: Fiji , критерий: confirmed, зависимость: polynomial_cube\n",
      "оптимальные параметры: 3.642530743390441e-05, -0.01311205041679487, 0.9780432731179609, -2.100688746358048, \n",
      "r2: 0.9499599865473511\n",
      "Страна: Finland , критерий: confirmed, зависимость: polynomial_cube\n",
      "оптимальные параметры: -0.006568230489655047, 1.9539216042002971, -79.80709184819291, 580.2908154202564, \n",
      "r2: 0.9897085426948519\n",
      "Страна: France , критерий: confirmed, зависимость: polynomial_cube\n",
      "оптимальные параметры: -0.3913170558191652, 91.14647419443214, -3862.767695529863, 30031.96151115883, \n",
      "r2: 0.960800424600218\n",
      "Страна: Gabon , критерий: confirmed, зависимость: polynomial_cube\n",
      "оптимальные параметры: 0.016661582737803618, -1.0825741350336813, 21.38103584572658, -88.02981933252977, \n",
      "r2: 0.9852715430395536\n",
      "Страна: Gambia , критерий: confirmed, зависимость: polynomial_cube\n",
      "оптимальные параметры: 6.495119425789838e-05, -0.001083368147033292, 0.20755162062791876, 0.5723273547386696, \n",
      "r2: 0.9656529018716765\n",
      "Страна: Georgia , критерий: confirmed, зависимость: polynomial_cube\n",
      "оптимальные параметры: -0.002576894788471451, 0.41825295231128756, -8.957347204916221, 45.66969231950294, \n",
      "r2: 0.9949835227148731\n",
      "Страна: Germany , критерий: confirmed, зависимость: polynomial_cube\n",
      "оптимальные параметры: -0.5515624977541744, 111.3157272275394, -4203.813113838055, 29349.32465830442, \n",
      "r2: 0.9742364387093402\n",
      "Страна: Ghana , критерий: confirmed, зависимость: polynomial_cube\n",
      "оптимальные параметры: 0.03997534773988609, -1.5659011709759354, 28.37847184442382, -80.62014374529902, \n",
      "r2: 0.9883964212102256\n",
      "Страна: Greece , критерий: confirmed, зависимость: polynomial_cube\n",
      "оптимальные параметры: -0.015206523728284571, 1.669736627135486, -1.2686925300724403, -98.65966848453644, \n",
      "r2: 0.9897728720536554\n",
      "Страна: Guatemala , критерий: confirmed, зависимость: polynomial_cube\n",
      "оптимальные параметры: 0.013015886690824319, -0.6290292604433638, 13.293441319164177, -51.30540986802965, \n",
      "r2: 0.9909194996311228\n",
      "Страна: Guinea , критерий: confirmed, зависимость: polynomial_cube\n",
      "оптимальные параметры: -0.003972923288393382, 1.3345617431779915, -31.20342337556565, 134.88211042718473, \n",
      "r2: 0.9957838683328757\n",
      "Страна: Guyana , критерий: confirmed, зависимость: polynomial_cube\n",
      "оптимальные параметры: -0.000447880165887371, 0.05752843372406069, -0.1338697070196022, 2.2031226016923937, \n",
      "r2: 0.9849393750056431\n",
      "Страна: Haiti , критерий: confirmed, зависимость: polynomial_cube\n",
      "оптимальные параметры: 0.008320244333844706, -0.5735409405099765, 12.220767998829405, -44.72691459811995, \n",
      "r2: 0.9397817170751123\n",
      "Страна: Holy See , критерий: confirmed, зависимость: polynomial_cube\n",
      "оптимальные параметры: -2.404765998188914e-05, 0.0015202906730616376, 0.18769932629291985, -0.3948335090907638, \n",
      "r2: 0.9557649401350882\n",
      "Страна: Honduras , критерий: confirmed, зависимость: polynomial_cube\n",
      "оптимальные параметры: 0.02164049102631649, -1.3530024680026949, 34.376000641070135, -151.44990115725835, \n",
      "r2: 0.9875037068740858\n",
      "Страна: Hungary , критерий: confirmed, зависимость: polynomial_cube\n",
      "оптимальные параметры: -0.022866529730851903, 3.0649094338012337, -57.685304157047035, 232.02987197770526, \n",
      "r2: 0.9971477265456816\n",
      "Страна: Iceland , критерий: confirmed, зависимость: polynomial_cube\n",
      "оптимальные параметры: -0.011233380093284007, 0.9411043520895133, 19.15496525346941, -193.60543714810564, \n",
      "r2: 0.9684257988086161\n",
      "Страна: India , критерий: confirmed, зависимость: polynomial_cube\n",
      "оптимальные параметры: 0.25790958596340774, -27.04251370164959, 772.7705772665447, -4713.991826012405, \n",
      "r2: 0.9961274722597576\n",
      "Страна: Indonesia , критерий: confirmed, зависимость: polynomial_cube\n",
      "оптимальные параметры: -0.012073198145803321, 5.09135095295221, -100.27207643116634, 401.4038592995016, \n",
      "r2: 0.999034042903468\n",
      "Страна: Iran , критерий: confirmed, зависимость: polynomial_cube\n",
      "оптимальные параметры: -0.3614504742266591, 52.82655956028734, -566.3743470853714, 541.6005788230561, \n",
      "r2: 0.993762150854986\n",
      "Страна: Iraq , критерий: confirmed, зависимость: polynomial_cube\n",
      "оптимальные параметры: -0.0018612195165157441, 0.6728251219507402, -4.147169392737631, -17.106348575505386, \n",
      "r2: 0.9930748435800155\n",
      "Страна: Ireland , критерий: confirmed, зависимость: polynomial_cube\n",
      "оптимальные параметры: -0.17739506061372823, 24.57691441929033, -559.8545173485525, 2525.0893157530236, \n",
      "r2: 0.9915262353880642\n",
      "Страна: Israel , критерий: confirmed, зависимость: polynomial_cube\n",
      "оптимальные параметры: -0.13369310197463324, 18.39792956900126, -427.1726368492443, 1836.1933195859474, \n",
      "r2: 0.9903409146808683\n",
      "Страна: Italy , критерий: confirmed, зависимость: polynomial_cube\n",
      "оптимальные параметры: -0.7276716966284458, 135.55528724770733, -4317.970083445254, 25487.17875380978, \n",
      "r2: 0.9920281994819882\n",
      "Страна: Jamaica , критерий: confirmed, зависимость: polynomial_cube\n",
      "оптимальные параметры: -0.004731797854315989, 0.6319377601871025, -14.065769355135124, 73.94300064438914, \n",
      "r2: 0.9716161759625205\n",
      "Страна: Japan , критерий: confirmed, зависимость: polynomial_cube\n",
      "оптимальные параметры: -0.004214268560709833, 3.182983479496132, -167.16955777067452, 1520.1952895815252, \n",
      "r2: 0.9598179202248945\n",
      "Страна: Jordan , критерий: confirmed, зависимость: polynomial_cube\n",
      "оптимальные параметры: -1.5314557800572004e-05, -0.058073847666705536, 13.279588741418545, -89.4681864369202, \n",
      "r2: 0.9669651352632563\n",
      "Страна: Kazakhstan , критерий: confirmed, зависимость: polynomial_cube\n",
      "оптимальные параметры: -0.0065876347497813015, 2.438987552226383, -39.35713598473442, 170.49327444977078, \n",
      "r2: 0.997338891403424\n",
      "Страна: Kenya , критерий: confirmed, зависимость: polynomial_cube\n",
      "оптимальные параметры: 0.0029059227530144455, -0.09448594874485206, 7.227918176910914, -36.404499192311086, \n",
      "r2: 0.9941781026769726\n",
      "Страна: Korea, South , критерий: confirmed, зависимость: polynomial_cube\n",
      "оптимальные параметры: -0.027667443201099706, 3.9292778622522877, 8.901523546062355, -925.1422053007893, \n",
      "r2: 0.9476841305837833\n",
      "Страна: Kuwait , критерий: confirmed, зависимость: polynomial_cube\n",
      "оптимальные параметры: 0.08179378442393431, -6.7920810577184305, 167.07503416597092, -840.2147520213676, \n",
      "r2: 0.9876711325094246\n",
      "Страна: Kyrgyzstan , критерий: confirmed, зависимость: polynomial_cube\n",
      "оптимальные параметры: -0.0038911209427925364, 0.4651284422951816, 5.108548208558675, -28.69795373275647, \n",
      "r2: 0.9942831151006001\n",
      "Страна: Latvia , критерий: confirmed, зависимость: polynomial_cube\n",
      "оптимальные параметры: -0.004390097050886332, 0.44563582611994956, 4.8131559310743, -61.19159437063544, \n",
      "r2: 0.9889358458015859\n",
      "Страна: Lebanon , критерий: confirmed, зависимость: polynomial_cube\n",
      "оптимальные параметры: -0.002651872708084868, 0.31535159761387366, 2.9138859104827777, -53.13926471677352, \n",
      "r2: 0.9760188548075039\n",
      "Страна: Liberia , критерий: confirmed, зависимость: polynomial_cube\n",
      "оптимальные параметры: -0.0018206611527039407, 0.22819832167254706, -3.7493569043548405, 13.648638779596574, \n",
      "r2: 0.9964452072385587\n",
      "Страна: Liechtenstein , критерий: confirmed, зависимость: polynomial_cube\n",
      "оптимальные параметры: 0.00013016925368958615, -0.047721847427703724, 4.182103116082419, -22.222819156030972, \n",
      "r2: 0.9490576620459907\n",
      "Страна: Lithuania , критерий: confirmed, зависимость: polynomial_cube\n",
      "оптимальные параметры: -0.012874146821829857, 1.497506421747459, -20.16519395984828, 28.019086515811154, \n",
      "r2: 0.9864444399904085\n",
      "Страна: Luxembourg , критерий: confirmed, зависимость: polynomial_cube\n",
      "оптимальные параметры: -0.02641061397404816, 2.4715075257513424, 19.301695084694284, -358.9019914412667, \n",
      "r2: 0.9721220187778165\n",
      "Страна: Madagascar , критерий: confirmed, зависимость: polynomial_cube\n",
      "оптимальные параметры: 0.004319809978621136, -0.36400292579676186, 11.73732215753559, -34.2975873348137, \n",
      "r2: 0.9725680156660904\n",
      "Страна: Malaysia , критерий: confirmed, зависимость: polynomial_cube\n",
      "оптимальные параметры: -0.01665117558663387, 3.5544164940926284, -135.4204635212476, 959.6626951682258, \n",
      "r2: 0.9820036980188113\n",
      "Страна: Maldives , критерий: confirmed, зависимость: polynomial_cube\n",
      "оптимальные параметры: 0.007379331950814083, -0.33279653867261816, 2.8761047393820327, 12.346013277799067, \n",
      "r2: 0.9833105412220309\n",
      "Страна: Malta , критерий: confirmed, зависимость: polynomial_cube\n",
      "оптимальные параметры: -0.002666647579321335, 0.22444057225613945, 5.155724337830126, -31.819634703266146, \n",
      "r2: 0.9827532565185\n",
      "Страна: Mauritania , критерий: confirmed, зависимость: polynomial_cube\n",
      "оптимальные параметры: 0.0010807584607290047, -0.09388060379154013, 2.314255619700641, -9.149377894405355, \n",
      "r2: 0.6718780622776053\n",
      "Страна: Mauritius , критерий: confirmed, зависимость: polynomial_cube\n",
      "оптимальные параметры: 0.0018636228924888698, -0.3742572415424359, 22.35850673527296, -74.00367485607283, \n",
      "r2: 0.9686940600135241\n",
      "Страна: Mexico , критерий: confirmed, зависимость: polynomial_cube\n",
      "оптимальные параметры: 0.19690674738271274, -9.998007565664379, 164.17445530037793, -620.7465799958983, \n",
      "r2: 0.9997340879487007\n",
      "Страна: Moldova , критерий: confirmed, зависимость: polynomial_cube\n",
      "оптимальные параметры: -0.021383141496515982, 3.458763896272684, -57.35768882432899, 187.23614529936037, \n",
      "r2: 0.9979441905964813\n",
      "Страна: Monaco , критерий: confirmed, зависимость: polynomial_cube\n",
      "оптимальные параметры: -0.0007956732308729286, 0.0750959483860899, 0.1911237874812064, -7.040816145910636, \n",
      "r2: 0.9620946260865125\n",
      "Страна: Mongolia , критерий: confirmed, зависимость: polynomial_cube\n",
      "оптимальные параметры: 0.00122120397181813, -0.10405287314448386, 3.0417913132865912, -12.50293436004804, \n",
      "r2: 0.8172125902278888\n",
      "Страна: Montenegro , критерий: confirmed, зависимость: polynomial_cube\n",
      "оптимальные параметры: -1.6037713221894734e-05, -0.16175357451719385, 16.032438824942147, -59.30981340195868, \n",
      "r2: 0.9768082471766523\n",
      "Страна: Morocco , критерий: confirmed, зависимость: polynomial_cube\n",
      "оптимальные параметры: -0.018103340664595402, 3.5940300955957145, -82.70592066172681, 370.98959636930846, \n",
      "r2: 0.9969169103832267\n",
      "Страна: Namibia , критерий: confirmed, зависимость: polynomial_cube\n",
      "оптимальные параметры: 0.00014171847192199913, -0.022616836119684305, 1.153747469598416, -2.5727952702705728, \n",
      "r2: 0.9505316842173537\n",
      "Страна: Nepal , критерий: confirmed, зависимость: polynomial_cube\n",
      "оптимальные параметры: 0.0009235538498633852, -0.12070373141304484, 4.223989681228419, -29.875448932348753, \n",
      "r2: 0.896799376641421\n",
      "Страна: Netherlands , критерий: confirmed, зависимость: polynomial_cube\n",
      "оптимальные параметры: -0.3094952340788302, 39.537573878657206, -670.7144009810484, 2200.347386601039, \n",
      "r2: 0.9977838405669711\n",
      "Страна: New Zealand , критерий: confirmed, зависимость: polynomial_cube\n",
      "оптимальные параметры: -0.016268127221504836, 1.7783754649905648, -21.898750837716893, 7.811683315790079, \n",
      "r2: 0.9640429066849641\n",
      "Страна: Nicaragua , критерий: confirmed, зависимость: polynomial_cube\n",
      "оптимальные параметры: 0.0001821813519868786, -0.0124941987019509, 0.5225130922478303, -0.3908749633857661, \n",
      "r2: 0.9668727265238505\n",
      "Страна: Niger , критерий: confirmed, зависимость: polynomial_cube\n",
      "оптимальные параметры: -0.004930966542920245, 0.22344706936244207, 20.464367666052784, -125.06845283893888, \n",
      "r2: 0.9637222138846065\n",
      "Страна: Nigeria , критерий: confirmed, зависимость: polynomial_cube\n",
      "оптимальные параметры: 0.03444109743069346, -2.3582225808812236, 47.32964562376392, -202.4196058283457, \n",
      "r2: 0.9947253623906873\n",
      "Страна: North Macedonia , критерий: confirmed, зависимость: polynomial_cube\n",
      "оптимальные параметры: -0.010563903083627535, 1.498734886575693, -32.3349671631229, 134.93754965698784, \n",
      "r2: 0.9942861343607634\n",
      "Страна: Norway , критерий: confirmed, зависимость: polynomial_cube\n",
      "оптимальные параметры: -0.036915599182315795, 3.5172368983106854, 62.02829956984752, -640.4330683180959, \n",
      "r2: 0.9872367761135764\n",
      "Страна: Oman , критерий: confirmed, зависимость: polynomial_cube\n",
      "оптимальные параметры: 0.011638962572765199, -0.28491785117469326, 0.1362766809007433, 19.27149697368068, \n",
      "r2: 0.9938113998408692\n",
      "Страна: Pakistan , критерий: confirmed, зависимость: polynomial_cube\n",
      "оптимальные параметры: 0.14479452074596352, -7.5959065577594975, 159.79476358007736, -779.685432064481, \n",
      "r2: 0.9982765432546341\n",
      "Страна: Panama , критерий: confirmed, зависимость: polynomial_cube\n",
      "оптимальные параметры: -0.03762328365593781, 5.35553536857267, -53.40922545057676, 129.82019533334756, \n",
      "r2: 0.9995992425697275\n",
      "Страна: Papua New Guinea , критерий: confirmed, зависимость: polynomial_cube\n",
      "оптимальные параметры: -0.00023119877813550368, 0.01959426531098291, -0.2564133149390562, 1.5374205377165413, \n",
      "r2: 0.9176117868765332\n",
      "Страна: Paraguay , критерий: confirmed, зависимость: polynomial_cube\n",
      "оптимальные параметры: 0.0046661329663548745, -0.2700167442231707, 7.985299690455814, -33.94370571259614, \n",
      "r2: 0.9748248724619172\n",
      "Страна: Peru , критерий: confirmed, зависимость: polynomial_cube\n",
      "оптимальные параметры: 0.3346542081034122, -6.329960415489517, -52.67379849403113, 719.2300512952888, \n",
      "r2: 0.9987584375821458\n",
      "Страна: Philippines , критерий: confirmed, зависимость: polynomial_cube\n",
      "оптимальные параметры: -0.0028670551257730104, 2.3331532454509967, -109.05908466408727, 840.4101838083928, \n",
      "r2: 0.9902150871153693\n",
      "Страна: Poland , критерий: confirmed, зависимость: polynomial_cube\n",
      "оптимальные параметры: -0.06886003646113603, 10.46816838110988, -160.58785988648756, 472.6017459429965, \n",
      "r2: 0.9987597506381087\n",
      "Страна: Portugal , критерий: confirmed, зависимость: polynomial_cube\n",
      "оптимальные параметры: -0.21171864397015705, 25.245682084231376, -337.55905184067126, 628.5390749614355, \n",
      "r2: 0.9951824994979942\n",
      "Страна: Qatar , критерий: confirmed, зависимость: polynomial_cube\n",
      "оптимальные параметры: 0.12944567334909662, -6.32808078568309, 105.76400400324894, -309.63233159315735, \n",
      "r2: 0.9992658834027303\n",
      "Страна: Romania , критерий: confirmed, зависимость: polynomial_cube\n",
      "оптимальные параметры: -0.06077425305797002, 10.29780168525004, -241.14677920328037, 1071.53854170294, \n",
      "r2: 0.9979114724203741\n",
      "Страна: Russia , критерий: confirmed, зависимость: polynomial_cube\n",
      "оптимальные параметры: 0.8730469178393596, -92.91674825257729, 2636.657965620822, -15689.99482356489, \n",
      "r2: 0.9952667531030547\n",
      "Страна: Rwanda , критерий: confirmed, зависимость: polynomial_cube\n",
      "оптимальные параметры: -0.0005177904291246982, 0.062206654176274356, 2.8929439763128157, -2.236790986723649, \n",
      "r2: 0.9847965578179001\n",
      "Страна: Saint Lucia , критерий: confirmed, зависимость: polynomial_cube\n",
      "оптимальные параметры: 7.202816357991626e-05, -0.0134965240858572, 0.8889794234165674, -2.4954834505677055, \n",
      "r2: 0.9146841298473712\n",
      "Страна: Saint Vincent and the Grenadines , критерий: confirmed, зависимость: polynomial_cube\n",
      "оптимальные параметры: -0.00020426814147223027, 0.017789246411927695, -0.0473724006322247, 0.14529914532937382, \n",
      "r2: 0.9529302139687036\n",
      "Страна: San Marino , критерий: confirmed, зависимость: polynomial_cube\n",
      "оптимальные параметры: -0.0017528645269060394, 0.2256009285480316, 1.4352571019624152, -1.1084096600235664, \n",
      "r2: 0.9952168500895613\n",
      "Страна: Saudi Arabia , критерий: confirmed, зависимость: polynomial_cube\n",
      "оптимальные параметры: 0.20033170591882987, -7.076296611180084, 70.81641255293394, -36.196365038637616, \n",
      "r2: 0.9989649035794549\n",
      "Страна: Senegal , критерий: confirmed, зависимость: polynomial_cube\n",
      "оптимальные параметры: 0.013588461815270625, -0.8826442329151079, 21.421706527996637, -96.48598769684108, \n",
      "r2: 0.9954722618781968\n",
      "Страна: Serbia , критерий: confirmed, зависимость: polynomial_cube\n",
      "оптимальные параметры: -0.10130505896051645, 12.656237671755944, -253.70600945797628, 1023.0606591564296, \n",
      "r2: 0.9946156775260283\n",
      "Страна: Seychelles , критерий: confirmed, зависимость: polynomial_cube\n",
      "оптимальные параметры: 0.0001037324612219015, -0.014589297593703863, 0.6579837960804892, 1.5478341098940709, \n",
      "r2: 0.9666590762430742\n",
      "Страна: Singapore , критерий: confirmed, зависимость: polynomial_cube\n",
      "оптимальные параметры: 0.057220533718373656, -5.532937092103762, 137.92785791552637, -637.4557282773757, \n",
      "r2: 0.9854245420619696\n",
      "Страна: Slovakia , критерий: confirmed, зависимость: polynomial_cube\n",
      "оптимальные параметры: -0.014069999304801462, 1.5310271653507659, -17.97229371651573, 68.0146537624236, \n",
      "r2: 0.9924638294211559\n",
      "Страна: Slovenia , критерий: confirmed, зависимость: polynomial_cube\n",
      "оптимальные параметры: -0.004812911592319891, 0.19611484449082617, 32.766489568868224, -147.2839376366128, \n",
      "r2: 0.992312467893359\n",
      "Страна: Somalia , критерий: confirmed, зависимость: polynomial_cube\n",
      "оптимальные параметры: 0.0014253869017011311, 0.49081786684523665, -14.69980814848422, 70.2665162047807, \n",
      "r2: 0.9950857903135926\n",
      "Страна: South Africa , критерий: confirmed, зависимость: polynomial_cube\n",
      "оптимальные параметры: 0.08616102350582189, -5.753657281718104, 165.4441752777691, -838.742345635113, \n",
      "r2: 0.9946922337828048\n",
      "Страна: Spain , критерий: confirmed, зависимость: polynomial_cube\n",
      "оптимальные параметры: -0.9191626739726508, 170.51782841262292, -5922.5559758815225, 38161.30665909793, \n",
      "r2: 0.9769881237001501\n",
      "Страна: Sri Lanka , критерий: confirmed, зависимость: polynomial_cube\n",
      "оптимальные параметры: 0.0012540040506131556, -0.05989699900311063, 0.39411186057508063, 4.143811522034849, \n",
      "r2: 0.9837578625595423\n",
      "Страна: Sudan , критерий: confirmed, зависимость: polynomial_cube\n",
      "оптимальные параметры: 0.028836888860623976, -1.8220396244889852, 31.933178210432455, -119.34782110294064, \n",
      "r2: 0.995563512826124\n",
      "Страна: Suriname , критерий: confirmed, зависимость: polynomial_cube\n",
      "оптимальные параметры: 0.00017276930623364041, -0.022353564806805355, 0.9082111375147995, -1.4018550106835732, \n",
      "r2: 0.9568616262776717\n",
      "Страна: Sweden , критерий: confirmed, зависимость: polynomial_cube\n",
      "оптимальные параметры: -0.001082111071287306, 4.6591574304436545, -214.71412756585536, 1623.1002895643132, \n",
      "r2: 0.9943598516922653\n",
      "Страна: Switzerland , критерий: confirmed, зависимость: polynomial_cube\n",
      "оптимальные параметры: -0.2090059827781594, 22.64305129740452, -88.3315756599508, -1278.6782313176795, \n",
      "r2: 0.982374352903343\n",
      "Страна: Taiwan* , критерий: confirmed, зависимость: polynomial_cube\n",
      "оптимальные параметры: -0.0015155272466447212, 0.28689207356084145, -9.7929939048144, 73.40176196146096, \n",
      "r2: 0.9656764016646122\n",
      "Страна: Tanzania , критерий: confirmed, зависимость: polynomial_cube\n",
      "оптимальные параметры: -0.009173210609986437, 1.0280203629519222, -21.441896094533952, 94.32782793201541, \n",
      "r2: 0.9631832690211103\n",
      "Страна: Thailand , критерий: confirmed, зависимость: polynomial_cube\n",
      "оптимальные параметры: -0.01018586892513969, 2.06921297546473, -81.56295329260013, 616.5221186526041, \n",
      "r2: 0.9574419847488876\n",
      "Страна: Togo , критерий: confirmed, зависимость: polynomial_cube\n",
      "оптимальные параметры: 0.0018621660003481644, -0.1531800617452448, 5.376377886194935, -29.300658076724517, \n",
      "r2: 0.9542300771632792\n",
      "Страна: Trinidad and Tobago , критерий: confirmed, зависимость: polynomial_cube\n",
      "оптимальные параметры: 0.0012953637048231026, -0.18948637476286379, 8.999975581689105, -22.692647633910404, \n",
      "r2: 0.9815350307207827\n",
      "Страна: Tunisia , критерий: confirmed, зависимость: polynomial_cube\n",
      "оптимальные параметры: -0.009080212657198494, 0.9202818779061849, -4.6232626303481315, -26.911767571566898, \n",
      "r2: 0.9891051162873506\n",
      "Страна: Turkey , критерий: confirmed, зависимость: polynomial_cube\n",
      "оптимальные параметры: -1.5287113086191746, 169.76868280523075, -2445.6821772613976, 6568.927644979093, \n",
      "r2: 0.9971393577517543\n",
      "Страна: Uganda , критерий: confirmed, зависимость: polynomial_cube\n",
      "оптимальные параметры: 0.004365859018755525, -0.3329318200956992, 8.630265149657903, -18.986880556199644, \n",
      "r2: 0.9656917904009097\n",
      "Страна: Ukraine , критерий: confirmed, зависимость: polynomial_cube\n",
      "оптимальные параметры: -0.01198481551800179, 6.4603480355764065, -186.3340329030603, 948.4802017348793, \n",
      "r2: 0.9961614349050103\n",
      "Страна: United Arab Emirates , критерий: confirmed, зависимость: polynomial_cube\n",
      "оптимальные параметры: 0.040101615477797115, -2.806028852787496, 41.75484707318272, -33.65934575130215, \n",
      "r2: 0.9970949783226746\n",
      "Страна: United Kingdom , критерий: confirmed, зависимость: polynomial_cube\n",
      "оптимальные параметры: -0.01357090042501774, 42.39953008764018, -2146.5849022117454, 17389.180177419916, \n",
      "r2: 0.9872322835394067\n",
      "Страна: Uruguay , критерий: confirmed, зависимость: polynomial_cube\n",
      "оптимальные параметры: 0.0021546055492877025, -0.3595248655256962, 26.5838538148371, -62.208733430904125, \n",
      "r2: 0.9952702026691359\n",
      "Страна: US , критерий: confirmed, зависимость: polynomial_cube\n",
      "оптимальные параметры: 0.2745713541625665, 168.88071787335673, -10632.377687165741, 98890.57820850395, \n",
      "r2: 0.9842552519601587\n",
      "Страна: Uzbekistan , критерий: confirmed, зависимость: polynomial_cube\n",
      "оптимальные параметры: -0.027190742266511636, 2.8492767749556553, -30.902565949384048, 65.08891941403083, \n",
      "r2: 0.9891487202326742\n",
      "Страна: Venezuela , критерий: confirmed, зависимость: polynomial_cube\n",
      "оптимальные параметры: 0.0018140463959330777, -0.13989113632679895, 9.4983876224981, -6.843482905981986, \n",
      "r2: 0.9810134360205633\n",
      "Страна: Vietnam , критерий: confirmed, зависимость: polynomial_cube\n",
      "оптимальные параметры: -0.0009409183255583771, 0.1778191492182043, -5.842149621616706, 42.28551404289986, \n",
      "r2: 0.9613655765704473\n",
      "Страна: Zambia , критерий: confirmed, зависимость: polynomial_cube\n",
      "оптимальные параметры: 0.015226891803642673, -1.0969662089196102, 22.897704681989506, -85.76031872668683, \n",
      "r2: 0.9439683581075856\n",
      "Страна: Zimbabwe , критерий: confirmed, зависимость: polynomial_cube\n",
      "оптимальные параметры: -0.0003109900395834586, 0.02582152958351358, 0.21692911617001154, 1.3101192490740026, \n",
      "r2: 0.9671825736935153\n",
      "Страна: Dominica , критерий: confirmed, зависимость: polynomial_cube\n",
      "оптимальные параметры: 0.00032535987574510024, -0.036908036324589534, 1.3099761903252536, 1.6546418081888303, \n",
      "r2: 0.9249100092906893\n",
      "Страна: Grenada , критерий: confirmed, зависимость: polynomial_cube\n",
      "оптимальные параметры: 0.00012068193857958248, -0.015282373942594383, 0.859428033304779, 0.9999526853826128, \n",
      "r2: 0.948822190942652\n",
      "Страна: Mozambique , критерий: confirmed, зависимость: polynomial_cube\n",
      "оптимальные параметры: -0.0002515219277772207, 0.053849294171191, -0.07373690955941159, 2.8308624225112577, \n",
      "r2: 0.9720598757140686\n",
      "Страна: Syria , критерий: confirmed, зависимость: polynomial_cube\n",
      "оптимальные параметры: -3.8110889796216796e-05, -0.00979716575073919, 1.6453778043472025, -3.774412520366087, \n",
      "r2: 0.9709750619270093\n",
      "Страна: Timor-Leste , критерий: confirmed, зависимость: polynomial_cube\n",
      "оптимальные параметры: -0.0008813983281497205, 0.07195982150315462, -0.9203880526050496, 2.7636059446960735, \n",
      "r2: 0.9230327434202844\n",
      "Страна: Belize , критерий: confirmed, зависимость: polynomial_cube\n",
      "оптимальные параметры: -9.50354113804983e-05, -0.0035724963004939198, 0.8403575622669909, -2.63270541816945, \n",
      "r2: 0.9186574705051915\n",
      "Страна: Laos , критерий: confirmed, зависимость: polynomial_cube\n",
      "оптимальные параметры: 0.0002325847900909344, -0.031207734053930847, 1.345791399691942, 0.5492386939419196, \n",
      "r2: 0.9669047769467191\n",
      "Страна: Libya , критерий: confirmed, зависимость: polynomial_cube\n",
      "оптимальные параметры: -0.0008470623148484942, 0.04451412420246629, 1.289699840491102, -3.816452760855679, \n",
      "r2: 0.9732908733086469\n",
      "Страна: West Bank and Gaza , критерий: confirmed, зависимость: polynomial_cube\n",
      "оптимальные параметры: -0.0027705222752332226, 0.2648660888731712, 0.38865286893150575, 0.5182138302799801, \n",
      "r2: 0.978066628800086\n",
      "Страна: Guinea-Bissau , критерий: confirmed, зависимость: polynomial_cube\n",
      "оптимальные параметры: 0.013387372440796574, -0.4120021533588172, 2.9735553448474192, 9.43845420829203, \n",
      "r2: 0.9793822229146483\n",
      "Страна: Mali , критерий: confirmed, зависимость: polynomial_cube\n",
      "оптимальные параметры: -0.007334251343913412, 0.8540924626854447, -9.735848128553922, 40.562328656755454, \n",
      "r2: 0.9979696833530962\n",
      "Страна: Saint Kitts and Nevis , критерий: confirmed, зависимость: polynomial_cube\n",
      "оптимальные параметры: 0.0002106422477170075, -0.026827703682635543, 1.1180534506626392, -0.23125295698776352, \n",
      "r2: 0.9724671637286137\n",
      "Страна: Kosovo , критерий: confirmed, зависимость: polynomial_cube\n",
      "оптимальные параметры: -0.016910269229600372, 1.2401774454907237, -2.4147687307295236, 65.94640649370484, \n",
      "r2: 0.9868641035346103\n",
      "Страна: Burma , критерий: confirmed, зависимость: polynomial_cube\n",
      "оптимальные параметры: -0.0035553606607696686, 0.25186445691294257, -0.1623590985482839, 4.395372662894414, \n",
      "r2: 0.977993202552924\n",
      "Страна: MS Zaandam , критерий: confirmed, зависимость: polynomial_cube\n",
      "оптимальные параметры: 0.00032103383891647695, -0.030196957997266554, 0.8513739210285848, 2.1846154010327035, \n",
      "r2: 0.6758358918181336\n",
      "Страна: Botswana , критерий: confirmed, зависимость: polynomial_cube\n",
      "оптимальные параметры: -5.6363220042765505e-05, -0.009022778430866074, 1.0609526162333343, -0.11572731221598187, \n",
      "r2: 0.961935233830425\n",
      "Страна: Burundi , критерий: confirmed, зависимость: polynomial_cube\n",
      "оптимальные параметры: 0.0002389264230117094, -0.011031407512935854, 0.44282168214838213, 0.6316147180380914, \n",
      "r2: 0.7680118960574767\n",
      "Страна: Sierra Leone , критерий: confirmed, зависимость: polynomial_cube\n",
      "оптимальные параметры: 0.005341174395434578, -0.05526867546511105, 0.7055486579460541, 0.26202590193652586, \n",
      "r2: 0.9983889478769947\n",
      "Страна: Malawi , критерий: confirmed, зависимость: polynomial_cube\n",
      "оптимальные параметры: 0.0001963936956013157, -0.00013608588895119844, 1.0652703572963047, 0.5605920443949395, \n",
      "r2: 0.9798724783114197\n",
      "Страна: South Sudan , критерий: confirmed, зависимость: polynomial_cube\n",
      "оптимальные параметры: 0.008355117011878188, -0.26320855496880435, 2.3958494594218314, -2.3933157030462744, \n",
      "r2: 0.9877118993512283\n",
      "Страна: Western Sahara , критерий: confirmed, зависимость: polynomial_cube\n",
      "оптимальные параметры: 0.00014688259150547511, -0.012748781492752683, 0.3445185163409722, 3.1681534846239066, \n",
      "r2: 0.8170416004872135\n",
      "Страна: Sao Tome and Principe , критерий: confirmed, зависимость: polynomial_cube\n",
      "оптимальные параметры: -0.004279272043921534, 0.5734733958231057, -11.194433172410056, 43.182643221857695, \n",
      "r2: 0.8847203655779499\n",
      "Страна: Yemen , критерий: confirmed, зависимость: polynomial_cube\n",
      "оптимальные параметры: 0.006641133083125417, -0.21410800550987585, 1.914094206778898, -2.8892414681958085, \n",
      "r2: 0.9924807050189781\n",
      "Страна: Comoros , критерий: confirmed, зависимость: polynomial_cube\n",
      "оптимальные параметры: -0.003522062734776066, 0.05627370565239076, 0.7592281729279492, -0.4264705882401274, \n",
      "r2: 0.9379761452034826\n",
      "Страна: Tajikistan , критерий: confirmed, зависимость: polynomial_cube\n",
      "оптимальные параметры: 0.48574756856378587, -10.840966051518247, 131.13200671046448, -186.2832817341565, \n",
      "r2: 0.9915202581212621\n",
      "Страна: Lesotho , критерий: confirmed, зависимость: linear\n",
      "оптимальные параметры: 1, 0, \n",
      "r2: 0\n"
     ]
    }
   ],
   "source": [
    "#Функции зависимости стран по количеству заражённых умерших и выздоровевших\n",
    "# methods = ['r2' , 'mse']\n",
    "#statuses ['confirmed' , 'deaths', 'recovered']\n",
    "# Лучшие результаты при кубическом трёхчлене, при его отсутствии - при квадратном трёхчлене\n",
    "print_countries_dependencies_by_status(df , status='confirmed' , count = len(df.columns) , method = \"r2\")"
   ]
  },
  {
   "cell_type": "code",
   "execution_count": 385,
   "metadata": {
    "scrolled": true
   },
   "outputs": [],
   "source": [
    "pop_data = requests.get(SOURCE_COUNTRIES_BY_POPULATION).json()"
   ]
  },
  {
   "cell_type": "code",
   "execution_count": 386,
   "metadata": {},
   "outputs": [],
   "source": [
    "data[\"United States\"] = data.pop(\"US\")\n",
    "df = df.rename(columns={\"US\": \"United States\"})"
   ]
  },
  {
   "cell_type": "code",
   "execution_count": 387,
   "metadata": {
    "scrolled": true
   },
   "outputs": [],
   "source": [
    "def get_procent_to_population(data,df,pop_data, count = len(df.columns)):\n",
    "    result = []\n",
    "    for country_name in df.columns[:count]: \n",
    "        country = pd.DataFrame.from_dict(data[country_name])    \n",
    "        for state in pop_data:\n",
    "            if state['country'] == country_name:\n",
    "                population = state['population']\n",
    "                break\n",
    "        population = int(state['population'])\n",
    "        confirmed = int(country.iloc[len(country)-1]['confirmed']) / population * 100\n",
    "        dead = int(country.iloc[len(country)-1]['deaths']) / population * 100\n",
    "        result.append({\"country\":country_name ,\"population\":population , \"conf_to_pop\":confirmed, \"dead_to_pop\":dead})\n",
    "    return result"
   ]
  },
  {
   "cell_type": "code",
   "execution_count": 388,
   "metadata": {},
   "outputs": [],
   "source": [
    "def print_procent_to_population(data,df,pop_data, count = len(df.columns)):\n",
    "    countries = get_procent_to_population(data,df,pop_data,count) \n",
    "    for country in countries:\n",
    "        print(f\"Страна: {country['country']} , население: {country['population']} , процент заразившихся: {country['conf_to_pop']} , процент умерших: {country['dead_to_pop']}\")\n",
    "    "
   ]
  },
  {
   "cell_type": "code",
   "execution_count": 389,
   "metadata": {
    "scrolled": true
   },
   "outputs": [
    {
     "name": "stdout",
     "output_type": "stream",
     "text": [
      "Страна: Afghanistan , население: 37172386 , процент заразившихся: 0.019024875077967823 , процент умерших: 0.00046539923479757263\n",
      "Страна: Albania , население: 2866376 , процент заразившихся: 0.03307312090249151 , процент умерших: 0.0010815050084148068\n",
      "Страна: Algeria , население: 42228429 , процент заразившихся: 0.017052493238618942 , процент умерших: 0.0013142804815211098\n",
      "Страна: Andorra , население: 77006 , процент заразившихся: 0.9882346830117134 , процент умерших: 0.06622860556320287\n",
      "Страна: Angola , население: 30809762 , процент заразившихся: 0.0001622862260344627 , процент умерших: 9.737173562067764e-06\n",
      "Страна: Antigua and Barbuda , население: 96286 , процент заразившихся: 0.025964314645950604 , процент умерших: 0.003115717757514073\n",
      "Страна: Argentina , население: 44494502 , процент заразившихся: 0.01881356038101067 , процент умерших: 0.0008585330385313673\n",
      "Страна: Armenia , население: 2951776 , процент заразившихся: 0.16339315720434072 , процент умерших: 0.0020665524755265983\n",
      "Страна: Australia , население: 24982688 , процент заразившихся: 0.028291591361185794 , процент умерших: 0.0003962744121048944\n",
      "Страна: Austria , население: 8840521 , процент заразившихся: 0.1840276155670011 , процент умерших: 0.007114965283154692\n",
      "Страна: Azerbaijan , население: 9939800 , процент заразившихся: 0.034075132296424476 , процент умерших: 0.0004024225839554116\n",
      "Страна: Bahamas , население: 385640 , процент заразившихся: 0.024893683227880926 , процент умерших: 0.0028524012031946894\n",
      "Страна: Bahrain , население: 1569439 , процент заразившихся: 0.4577431808436008 , процент умерших: 0.0007646044223445448\n",
      "Страна: Bangladesh , население: 161356039 , процент заразившихся: 0.014793372561655409 , процент умерших: 0.0002162918736496748\n",
      "Страна: Barbados , население: 286641 , процент заразившихся: 0.030700423177424024 , процент умерших: 0.002442079116386002\n",
      "Страна: Belarus , население: 9483499 , процент заразившихся: 0.322370466849841 , процент умерших: 0.0018031319452872826\n",
      "Страна: Belgium , население: 11433256 , процент заразившихся: 0.48594206234864334 , процент умерших: 0.07941744678856136\n",
      "Страна: Benin , население: 11485048 , процент заразившихся: 0.002951663763181486 , процент умерших: 1.7413945505495493e-05\n",
      "Страна: Bhutan , население: 754394 , процент заразившихся: 0.0027836912806835684 , процент умерших: 0.0\n",
      "Страна: Bolivia , население: 11353142 , процент заразившихся: 0.03754907672254958 , процент умерших: 0.001532615376430595\n",
      "Страна: Bosnia and Herzegovina , население: 3323929 , процент заразившихся: 0.06931555998939809 , процент умерших: 0.004001288836193553\n",
      "Страна: Brazil , население: 209469333 , процент заразившихся: 0.1219118791006987 , процент умерших: 0.008045569133501752\n",
      "Страна: Brunei , население: 428962 , процент заразившихся: 0.0328700444328402 , процент умерших: 0.0002331208825024128\n",
      "Страна: Bulgaria , население: 7025037 , процент заразившихся: 0.03181477905383274 , процент умерших: 0.0015658280518664885\n",
      "Страна: Burkina Faso , население: 19751535 , процент заразившихся: 0.004030066523943582 , процент умерших: 0.0002582077798004054\n",
      "Страна: Cabo Verde , население: 14439018 , процент заразившихся: 0.002271622626968122 , процент умерших: 2.077703622226941e-05\n",
      "Страна: Cambodia , население: 16249798 , процент заразившихся: 0.0007507785635242973 , процент умерших: 0.0\n",
      "Страна: Cameroon , население: 25216237 , процент заразившихся: 0.013994950951642784 , процент умерших: 0.0005551978274950382\n",
      "Страна: Canada , население: 37057765 , процент заразившихся: 0.21428977165784285 , процент умерших: 0.016082999069155952\n",
      "Страна: Central African Republic , население: 4666377 , процент заразившихся: 0.007007577827509436 , процент умерших: 0.0\n",
      "Страна: Chad , население: 15477751 , процент заразившихся: 0.0033532003454507056 , процент умерших: 0.0003424270102290701\n",
      "Страна: Chile , население: 18729160 , процент заразившихся: 0.24592133336465705 , процент умерших: 0.0025521699851995495\n",
      "Страна: China , население: 1392730000 , процент заразившихся: 0.00603584327184738 , процент умерших: 0.00033301501367817164\n",
      "Страна: Colombia , население: 49648685 , процент заразившихся: 0.03282060743401361 , процент умерших: 0.001192378005580611\n",
      "Страна: Congo (Brazzaville) , население: 14439018 , процент заразившихся: 0.0028533796411916654 , процент умерших: 0.00010388518111134704\n",
      "Страна: Congo (Kinshasa) , население: 14439018 , процент заразившихся: 0.01065169390328345 , процент умерших: 0.0004224664031861447\n",
      "Страна: Costa Rica , население: 4999441 , процент заразившихся: 0.017321936592511043 , процент умерших: 0.00020002236250012752\n",
      "Страна: Cote d'Ivoire , население: 14439018 , процент заразившихся: 0.01467551325166296 , процент умерших: 0.00019391900474118113\n",
      "Страна: Croatia , население: 4087843 , процент заразившихся: 0.05450307166884834 , процент умерших: 0.002323964007423964\n",
      "Страна: Diamond Princess , население: 14439018 , процент заразившихся: 0.0049310832634186065 , процент умерших: 9.00338236298341e-05\n",
      "Страна: Cuba , население: 11338138 , процент заразившихся: 0.016590025628546768 , процент умерших: 0.0006967634368182853\n",
      "Страна: Cyprus , население: 1189265 , процент заразившихся: 0.07710644810029724 , процент умерших: 0.001429454326832119\n",
      "Страна: Czechia , население: 14439018 , процент заразившихся: 0.05946387766813505 , процент умерших: 0.0020569265860046716\n",
      "Страна: Denmark , население: 5793636 , процент заразившихся: 0.19272871129632582 , процент умерших: 0.00945865428894739\n",
      "Страна: Djibouti , население: 958920 , процент заразившихся: 0.15830309097734951 , процент умерших: 0.0007299879030576065\n",
      "Страна: Dominican Republic , население: 10627165 , процент заразившихся: 0.11974030703390791 , процент умерших: 0.004083873733022871\n",
      "Страна: Ecuador , население: 17084357 , процент заразившихся: 0.1965657823703871 , процент умерших: 0.016383408518096408\n",
      "Страна: Egypt , население: 98423595 , процент заразившихся: 0.012968435058686894 , процент умерших: 0.0006553306653755129\n",
      "Страна: El Salvador , население: 6420744 , процент заразившихся: 0.02200679547416935 , процент умерших: 0.00046723557269998616\n",
      "Страна: Equatorial Guinea , население: 1308974 , процент заразившихся: 0.054928516532795915 , процент умерших: 0.0005347699801523942\n",
      "Страна: Eritrea , население: 3213972 , процент заразившихся: 0.001213451766225717 , процент умерших: 0.0\n",
      "Страна: Estonia , население: 1321977 , процент заразившихся: 0.1349493977580548 , процент умерших: 0.0048412340002889605\n",
      "Страна: Eswatini , население: 14439018 , процент заразившихся: 0.0014197641418550763 , процент умерших: 1.3851357481512941e-05\n",
      "Страна: Ethiopia , население: 109224559 , процент заразившихся: 0.0003222718436427837 , процент умерших: 4.577725051744086e-06\n",
      "Страна: Fiji , население: 14439018 , процент заразившихся: 0.00012466221733361646 , процент умерших: 0.0\n",
      "Страна: Finland , население: 5515525 , процент заразившихся: 0.11567348529831702 , процент умерших: 0.005439192098666944\n",
      "Страна: France , население: 66977107 , процент заразившихся: 0.26882468960625605 , процент умерших: 0.042166646582689815\n",
      "Страна: Gabon , население: 2119275 , процент заразившихся: 0.06757027757133925 , процент умерших: 0.0005190454282714607\n",
      "Страна: Gambia , население: 2280102 , процент заразившихся: 0.001052584489641253 , процент умерших: 4.385768706838553e-05\n",
      "Страна: Georgia , население: 3726549 , процент заразившихся: 0.018810969612904592 , процент умерших: 0.000322013745156712\n",
      "Страна: Germany , население: 82905782 , процент заразившихся: 0.21295378409192256 , процент умерших: 0.009653126485194964\n",
      "Страна: Ghana , население: 29767108 , процент заразившихся: 0.019266231707829998 , процент умерших: 9.742296765947167e-05\n",
      "Страна: Greece , население: 10731726 , процент заразившихся: 0.026426317630547033 , процент умерших: 0.0015374973233569325\n",
      "Страна: Guatemala , население: 17247807 , процент заразившихся: 0.01108546727128846 , процент умерших: 0.0002029243485853013\n",
      "Страна: Guinea , население: 12414318 , процент заразившихся: 0.022522381011989542 , процент умерших: 0.0001288834392674652\n",
      "Страна: Guyana , население: 779004 , процент заразившихся: 0.01591776165462565 , процент умерших: 0.0012836904560181975\n",
      "Страна: Haiti , население: 11123176 , процент заразившихся: 0.004791796875280945 , процент умерших: 0.00018879499883846124\n",
      "Страна: Holy See , население: 14439018 , процент заразившихся: 8.310814488907764e-05 , процент умерших: 0.0\n",
      "Страна: Honduras , население: 9587522 , процент заразившихся: 0.02918376614937624 , процент умерших: 0.0015228126725550146\n",
      "Страна: Hungary , население: 9775564 , процент заразившихся: 0.03616159640507698 , процент умерших: 0.004726070025217982\n",
      "Страна: Iceland , население: 352721 , процент заразившихся: 0.5108853739924756 , процент умерших: 0.002835101964442151\n",
      "Страна: India , население: 1352617328 , процент заразившихся: 0.007417323283026876 , процент умерших: 0.00023332541544965332\n",
      "Страна: Indonesia , население: 267663435 , процент заразившихся: 0.006728599294856991 , процент умерших: 0.000444961785684324\n",
      "Страна: Iran , население: 81800269 , процент заразившихся: 0.1497452288329272 , процент умерших: 0.008627110993974849\n",
      "Страна: Iraq , население: 38433600 , процент заразившихся: 0.0092471171058657 , процент умерших: 0.00033044003163898255\n",
      "Страна: Ireland , население: 4867309 , процент заразившихся: 0.4971946510895445 , процент умерших: 0.03178347624940188\n",
      "Страна: Israel , население: 8882800 , процент заразившихся: 0.1873620930337281 , процент умерших: 0.0031071283829423157\n",
      "Страна: Italy , население: 60421760 , процент заразившихся: 0.3738487591225413 , процент умерших: 0.05297263767225582\n",
      "Страна: Jamaica , население: 2934855 , процент заразившихся: 0.017718081472508865 , процент умерших: 0.0003066591024088072\n",
      "Страна: Japan , население: 126529100 , процент заразившихся: 0.01288636369024991 , процент умерших: 0.0005919586877643166\n",
      "Страна: Jordan , население: 9956011 , процент заразившихся: 0.0063177913322916175 , процент умерших: 9.039765022356845e-05\n",
      "Страна: Kazakhstan , население: 18272430 , процент заразившихся: 0.036946372212125045 , процент умерших: 0.0001915454047436493\n",
      "Страна: Kenya , население: 51393010 , процент заразившихся: 0.0017745603925514385 , процент умерших: 9.728949520567097e-05\n",
      "Страна: Korea, South , население: 14439018 , процент заразившихся: 0.07672266909010017 , процент умерших: 0.0018214535088189516\n",
      "Страна: Kuwait , население: 4137309 , процент заразившихся: 0.3792561783516774 , процент умерших: 0.0028520954079088606\n",
      "Страна: Kyrgyzstan , население: 6322800 , процент заразившихся: 0.019231985829063075 , процент умерших: 0.0002214208894793446\n",
      "Страна: Latvia , население: 1927174 , процент заразившихся: 0.052356455618434036 , процент умерших: 0.0009858995607039116\n",
      "Страна: Lebanon , население: 6848925 , процент заразившихся: 0.013593374142657424 , процент умерших: 0.00037962161945122774\n",
      "Страна: Liberia , население: 4818977 , процент заразившихся: 0.004752045921779664 , процент умерших: 0.00045652842916660524\n",
      "Страна: Liechtenstein , население: 37910 , процент заразившихся: 0.2163017673437088 , процент умерших: 0.0026378264310208386\n",
      "Страна: Lithuania , население: 2801543 , процент заразившихся: 0.05521957007263498 , процент умерших: 0.0021059823104624844\n",
      "Страна: Luxembourg , население: 607950 , процент заразившихся: 0.6492310222880171 , процент умерших: 0.017600131589768895\n",
      "Страна: Madagascar , население: 26262368 , процент заразившихся: 0.0012260889802473258 , процент умерших: 3.8077297523208873e-06\n",
      "Страна: Malaysia , население: 31528585 , процент заразившихся: 0.022014942947804348 , процент умерших: 0.000358404920487234\n",
      "Страна: Maldives , население: 515696 , процент заразившихся: 0.21446743818063352 , процент умерших: 0.0007756507709968664\n",
      "Страна: Malta , население: 484630 , процент заразившихся: 0.11513938468522378 , процент умерших: 0.0012380578998411158\n",
      "Страна: Mauritania , население: 4403319 , процент заразившихся: 0.0018395215063909747 , процент умерших: 9.084056821683825e-05\n",
      "Страна: Mauritius , население: 1265303 , процент заразившихся: 0.02623877442794335 , процент умерших: 0.000790324530962149\n",
      "Страна: Mexico , население: 126190788 , процент заразившихся: 0.04091661587849028 , процент умерших: 0.004225348049970177\n",
      "Страна: Moldova , население: 2706049 , процент заразившихся: 0.2268251609634563 , процент умерших: 0.0080190713471929\n",
      "Страна: Monaco , население: 38682 , процент заразившихся: 0.25076262861279147 , процент умерших: 0.010340726953104803\n",
      "Страна: Mongolia , население: 3170208 , процент заразившихся: 0.004416114021540542 , процент умерших: 0.0\n",
      "Страна: Montenegro , население: 631219 , процент заразившихся: 0.0513292533969985 , процент умерших: 0.0014258125943610697\n",
      "Страна: Morocco , население: 36029138 , процент заразившихся: 0.01929549355302367 , процент умерших: 0.000532902008368893\n",
      "Страна: Namibia , население: 2448255 , процент заразившихся: 0.0006535266955443775 , процент умерших: 0.0\n",
      "Страна: Nepal , население: 28087871 , процент заразившихся: 0.0013350958497352825 , процент умерших: 7.120511198588174e-06\n",
      "Страна: Netherlands , население: 17231624 , процент заразившихся: 0.2573233956358379 , процент умерших: 0.033154158888332286\n",
      "Страна: New Zealand , население: 4841000 , процент заразившихся: 0.030964676719686016 , процент умерших: 0.00043379467052261935\n",
      "Страна: Nicaragua , население: 6465513 , процент заразившихся: 0.0003866669203201664 , процент умерших: 0.00012373341450245325\n",
      "Страна: Niger , население: 22442948 , процент заразившихся: 0.0040502700447374385 , процент умерших: 0.0002450658442910441\n",
      "Страна: Nigeria , население: 195874740 , процент заразившихся: 0.00315252492485759 , процент умерших: 9.751129727089874e-05\n",
      "Страна: North Macedonia , население: 2084367 , процент заразившихся: 0.08717274836916915 , процент умерших: 0.004989524397574899\n",
      "Страна: Norway , население: 5311916 , процент заразившихся: 0.155442970107208 , процент умерших: 0.00438636454341522\n",
      "Страна: Oman , население: 4829483 , процент заразившихся: 0.11137838149549342 , процент умерших: 0.0005176537530000623\n",
      "Страна: Pakistan , население: 212215030 , процент заразившихся: 0.019850149162384964 , процент умерших: 0.0004255118028162285\n",
      "Страна: Panama , население: 4176873 , процент заразившихся: 0.2328536203997584 , процент умерших: 0.0066796380928986826\n",
      "Страна: Papua New Guinea , население: 8606316 , процент заразившихся: 9.295498794141419e-05 , процент умерших: 0.0\n",
      "Страна: Paraguay , население: 6956071 , процент заразившихся: 0.011328233998761657 , процент умерших: 0.0001581352461756069\n",
      "Страна: Peru , население: 31989256 , процент заразившихся: 0.29676526393736696 , процент умерших: 0.008718552253919255\n",
      "Страна: Philippines , население: 106651922 , процент заразившихся: 0.011924773376329776 , процент умерших: 0.0007791702056714927\n",
      "Страна: Poland , население: 37974750 , процент заразившихся: 0.049730412971777306 , процент умерших: 0.0024647956866075483\n",
      "Страна: Portugal , население: 10283822 , процент заразившихся: 0.28402864226938196 , процент умерших: 0.011970257750474483\n",
      "Страна: Qatar , население: 2781677 , процент заразившихся: 1.2211698195009701 , процент умерших: 0.0005392430537406032\n",
      "Страна: Romania , население: 19466145 , процент заразившихся: 0.08751604388028549 , процент умерших: 0.00575357884162478\n",
      "Страна: Russia , население: 14439018 , процент заразившихся: 2.013142445005609 , процент умерших: 0.01885169753233911\n",
      "Страна: Rwanda , население: 12301939 , процент заразившихся: 0.002414253557914732 , процент умерших: 0.0\n",
      "Страна: Saint Lucia , население: 181889 , процент заразившихся: 0.0098961454513467 , процент умерших: 0.0\n",
      "Страна: Saint Vincent and the Grenadines , население: 110210 , процент заразившихся: 0.015425097541057978 , процент умерших: 0.0\n",
      "Страна: San Marino , население: 33785 , процент заразившихся: 1.9357703122687582 , процент умерших: 0.1213556311972769\n",
      "Страна: Saudi Arabia , население: 33699947 , процент заразившихся: 0.17016347236391796 , процент умерших: 0.0009495563895100488\n",
      "Страна: Senegal , население: 15854360 , процент заразившихся: 0.016046059254362838 , процент умерших: 0.00016399274395182146\n",
      "Страна: Serbia , население: 14439018 , процент заразившихся: 0.07409783684735347 , процент умерших: 0.0015998317891147446\n",
      "Страна: Seychelles , население: 96762 , процент заразившихся: 0.011368099047146607 , процент умерших: 0.0\n",
      "Страна: Singapore , население: 5638676 , процент заразившихся: 0.5026534597838216 , процент умерших: 0.00039016251332759673\n",
      "Страна: Slovakia , население: 5446771 , процент заразившихся: 0.027447454647900563 , процент умерших: 0.0005140660402282379\n",
      "Страна: Slovenia , население: 2073894 , процент заразившихся: 0.07068828011460566 , процент умерших: 0.005014721099535463\n",
      "Страна: Somalia , население: 15008154 , процент заразившихся: 0.009694729944802005 , процент умерших: 0.0003797935442293569\n",
      "Страна: South Africa , население: 57779622 , процент заразившихся: 0.02844082296003944 , процент умерших: 0.0004949842004850776\n",
      "Страна: Spain , население: 46796540 , процент заразившихся: 0.4949212057130719 , процент умерших: 0.05921164257015583\n",
      "Страна: Sri Lanka , население: 14439018 , процент заразившихся: 0.006870273310830418 , процент умерших: 6.233110866680823e-05\n",
      "Страна: Sudan , население: 41801533 , процент заразившихся: 0.006198337271506287 , процент умерших: 0.0002511869600571826\n",
      "Страна: Suriname , население: 575991 , процент заразившихся: 0.0019097520620981927 , процент умерших: 0.0001736138238271084\n",
      "Страна: Sweden , население: 10175214 , процент заразившихся: 0.2985391756871158 , процент умерших: 0.03634321597560504\n",
      "Страна: Switzerland , население: 8513227 , процент заразившихся: 0.35940542875222287 , процент умерших: 0.022153761434999912\n",
      "Страна: Taiwan* , население: 14439018 , процент заразившихся: 0.0030472986459328466 , процент умерших: 4.847975118529528e-05\n",
      "Страна: Tanzania , население: 56318348 , процент заразившихся: 0.0009037907148838954 , процент умерших: 3.728802556495443e-05\n",
      "Страна: Thailand , население: 69428524 , процент заразившихся: 0.004365640842371933 , процент умерших: 8.065849131403111e-05\n",
      "Страна: Togo , население: 7889094 , процент заразившихся: 0.004182989833813617 , процент умерших: 0.00015210872122958606\n",
      "Страна: Trinidad and Tobago , население: 1389858 , процент заразившихся: 0.008346176371974691 , процент умерших: 0.0005755983704810131\n",
      "Страна: Tunisia , население: 11565204 , процент заразившихся: 0.00901843149502594 , процент умерших: 0.000397744821448891\n",
      "Страна: Turkey , население: 82319724 , процент заразившихся: 0.18293671635730946 , процент умерших: 0.005066829427173493\n",
      "Страна: Uganda , население: 42723139 , процент заразившихся: 0.0005804816916659611 , процент умерших: 0.0\n",
      "Страна: Ukraine , население: 44622516 , процент заразившихся: 0.041718848843037004 , процент умерших: 0.0011989462898058013\n",
      "Страна: United Arab Emirates , население: 9630959 , процент заразившихся: 0.2511691722496171 , процент умерших: 0.002325832764940646\n",
      "Страна: United Kingdom , население: 66460344 , процент заразившихся: 0.37271699947866654 , процент умерших: 0.052476406080594465\n",
      "Страна: Uruguay , население: 3449299 , процент заразившихся: 0.021366660298222914 , процент умерших: 0.0005798279592462121\n",
      "Страна: United States , население: 326687501 , процент заразившихся: 0.4616974923690147 , процент умерших: 0.027655481070884315\n",
      "Страна: Uzbekistan , население: 32955400 , процент заразившихся: 0.008469021768814821 , процент умерших: 3.9447252953992364e-05\n",
      "Страна: Venezuela , население: 28870195 , процент заразившихся: 0.0021406159535811934 , процент умерших: 3.463779860163743e-05\n",
      "Страна: Vietnam , население: 95540395 , процент заразившихся: 0.00033912357176249904 , процент умерших: 0.0\n",
      "Страна: Zambia , население: 17351822 , процент заразившихся: 0.0043857065845880625 , процент умерших: 4.0341584877945384e-05\n",
      "Страна: Zimbabwe , население: 14439018 , процент заразившихся: 0.00031858122207479764 , процент умерших: 2.7702714963025883e-05\n",
      "Страна: Dominica , население: 71625 , процент заразившихся: 0.022338568935427575 , процент умерших: 0.0\n",
      "Страна: Grenada , население: 111454 , процент заразившихся: 0.019739085183124876 , процент умерших: 0.0\n",
      "Страна: Mozambique , население: 29495962 , процент заразившихся: 0.0004915927136060184 , процент умерших: 0.0\n",
      "Страна: Syria , население: 16906283 , процент заразившихся: 0.0003430677222190117 , процент умерших: 1.7744882183741983e-05\n",
      "Страна: Timor-Leste , население: 14439018 , процент заразившихся: 0.00016621628977815528 , процент умерших: 0.0\n",
      "Страна: Belize , население: 383071 , процент заразившихся: 0.004698867833900243 , процент умерших: 0.0005220964259889159\n",
      "Страна: Laos , население: 7061507 , процент заразившихся: 0.00026906437960055835 , процент умерших: 0.0\n",
      "Страна: Libya , население: 14439018 , процент заразившихся: 0.00045016911814917056 , процент умерших: 2.077703622226941e-05\n",
      "Страна: West Bank and Gaza , население: 14439018 , процент заразившихся: 0.0026871633514135105 , процент умерших: 1.3851357481512941e-05\n",
      "Страна: Guinea-Bissau , население: 1874309 , процент заразившихся: 0.05506029155278025 , процент умерших: 0.00021341198276271416\n",
      "Страна: Mali , население: 19077690 , процент заразившихся: 0.004581267438563055 , процент умерших: 0.0002725696874202275\n",
      "Страна: Saint Kitts and Nevis , население: 52441 , процент заразившихся: 0.02860357353978757 , процент умерших: 0.0\n",
      "Страна: Kosovo , население: 14439018 , процент заразившихся: 0.006614023197422428 , процент умерших: 0.0002008446834819376\n",
      "Страна: Burma , население: 14439018 , процент заразившихся: 0.0013228046394844857 , процент умерших: 4.155407244453882e-05\n",
      "Страна: MS Zaandam , население: 14439018 , процент заразившихся: 6.233110866680823e-05 , процент умерших: 1.3851357481512941e-05\n",
      "Страна: Botswana , население: 2254126 , процент заразившихся: 0.0011090773097865868 , процент умерших: 4.436309239146348e-05\n",
      "Страна: Burundi , население: 11175378 , процент заразившихся: 0.0003758262136636452 , процент умерших: 8.948243182467742e-06\n",
      "Страна: Sierra Leone , население: 7650154 , процент заразившихся: 0.006784177155126551 , процент умерших: 0.0004313638653548674\n",
      "Страна: Malawi , население: 18143315 , процент заразившихся: 0.0003858170350897838 , процент умерших: 1.6535015789562163e-05\n",
      "Страна: South Sudan , население: 10975920 , процент заразившихся: 0.002642147537518495 , процент умерших: 3.644341431059993e-05\n",
      "Страна: Western Sahara , население: 652271 , процент заразившихся: 0.0009198630630520137 , процент умерших: 0.0\n",
      "Страна: Sao Tome and Principe , население: 211028 , процент заразившихся: 0.1165722084273177 , процент умерших: 0.0033170953617529426\n",
      "Страна: Yemen , население: 28498687 , процент заразившихся: 0.00045616136631136726 , процент умерших: 7.017867174021035e-05\n",
      "Страна: Comoros , население: 832322 , процент заразившихся: 0.001321603898491209 , процент умерших: 0.00012014580895374627\n",
      "Страна: Tajikistan , население: 9100837 , процент заразившихся: 0.01899825257830681 , процент умерших: 0.0004505080137134639\n",
      "Страна: Lesotho , население: 2108132 , процент заразившихся: 4.743535983515264e-05 , процент умерших: 0.0\n"
     ]
    }
   ],
   "source": [
    "# Кол-во заразившихся и умерших в процентах от всего населения\n",
    "print_procent_to_population(data,df,pop_data)"
   ]
  },
  {
   "cell_type": "code",
   "execution_count": 390,
   "metadata": {
    "scrolled": true
   },
   "outputs": [],
   "source": [
    "gdp_data_response = requests.get(SOURCE_GDP)\n",
    "csv_path = \"gdp.csv\""
   ]
  },
  {
   "cell_type": "code",
   "execution_count": 391,
   "metadata": {},
   "outputs": [],
   "source": [
    "per_capita_data = requests.get(SOURCE_GDP_PER_CAPITA_JSON).json()"
   ]
  },
  {
   "cell_type": "code",
   "execution_count": 392,
   "metadata": {
    "scrolled": true
   },
   "outputs": [],
   "source": [
    "def set_csv_file(csv_path):\n",
    "    csv_gdp_file = open(csv_path,'wb')\n",
    "    csv_gdp_file.write(gdp_data_response.content)\n",
    "    csv_gdp_file.close()\n",
    "    "
   ]
  },
  {
   "cell_type": "code",
   "execution_count": 393,
   "metadata": {
    "scrolled": true
   },
   "outputs": [],
   "source": [
    "set_csv_file(csv_path)"
   ]
  },
  {
   "cell_type": "code",
   "execution_count": 394,
   "metadata": {},
   "outputs": [],
   "source": [
    "def change(country):\n",
    "    if country == \"Bahamas, The\":\n",
    "        return \"Bahamas\"\n",
    "    if country ==\"Brunei Darussalam\":\n",
    "        return \"Brunei\"\n",
    "    elif country == \"Congo, Dem. Rep.\":\n",
    "        return \"Congo (Kinshasa)\"\n",
    "    elif country == \"Congo, Rep.\":\n",
    "        return \"Congo (Brazzaville)\"\n",
    "    elif country ==\"Egypt, Arab Rep.\":\n",
    "        return \"Egypt\"\n",
    "    elif country == \"Korea, Rep.\":\n",
    "        return \"Korea, South\"\n",
    "    elif country == \"Kyrgyz Republic\":\n",
    "        return \"Kyrgyzstan\"\n",
    "    elif country ==\"Russian Federation\":\n",
    "        return \"Russia\"\n",
    "    elif country == \"St. Vincent and the Grenadines\":\n",
    "        return \"Saint Vincent and the Grenadines\"\n",
    "    elif country == \"Venezuela, RB\":\n",
    "        return \"Venezuela\"\n",
    "    elif country == \"Yemen, Rep.\":\n",
    "        return \"Yemen\"\n",
    "    return country\n",
    "    "
   ]
  },
  {
   "cell_type": "code",
   "execution_count": 395,
   "metadata": {},
   "outputs": [],
   "source": [
    "\n",
    "def get_countries_gdp_csv(csv_path):\n",
    "    countries = []\n",
    "    length = 0\n",
    "    with open(csv_path,\"r\") as csv_file:\n",
    "        for line in csv_file:\n",
    "            length +=1\n",
    "    count = 0\n",
    "    with open(csv_path,\"r\") as csv_file:\n",
    "        line = csv_file.readline().split(\",\")\n",
    "        while (line[0] != \"Afghanistan\"):\n",
    "            line = csv_file.readline().split(\",\")\n",
    "        while(count< length):\n",
    "            line = csv_file.readline().split(\",\")\n",
    "            if len(line) < 4:\n",
    "                break\n",
    "            if line[2] == \"2016\":\n",
    "                #countries.append({\"country\":change((line[0])) , \"gdp\":int(line[3])})\n",
    "                countries.append({\"country\":change((line[0])) , \"gdp\":int(round(float(line[3])))}) # было\n",
    "            count+=1\n",
    "    return countries"
   ]
  },
  {
   "cell_type": "code",
   "execution_count": 396,
   "metadata": {
    "scrolled": true
   },
   "outputs": [],
   "source": [
    "def get_countries_per_capita(per_capita_data):\n",
    "    countries = []\n",
    "    length = len(per_capita_data)\n",
    "    count = 0\n",
    "    _iter = iter(per_capita_data)\n",
    "    key = next(_iter)\n",
    "\n",
    "    while key['Country Name']!= 'Afghanistan':\n",
    "        key = next(_iter)\n",
    "        count+=1\n",
    "    while(count + 1 < length):\n",
    "        key = next(_iter)\n",
    "        count+=1\n",
    "        if(int(key['Year']) == 2016):\n",
    "            countries.append({\"country\":change((key['Country Name'])) , \"per_capita\":int(key['Value'])})\n",
    "    return countries"
   ]
  },
  {
   "cell_type": "code",
   "execution_count": 397,
   "metadata": {
    "scrolled": true
   },
   "outputs": [
    {
     "data": {
      "text/plain": [
       "[{'country': 'Afghanistan', 'per_capita': 561},\n",
       " {'country': 'Albania', 'per_capita': 4124},\n",
       " {'country': 'Algeria', 'per_capita': 3916},\n",
       " {'country': 'American Samoa', 'per_capita': 11834},\n",
       " {'country': 'Andorra', 'per_capita': 36988},\n",
       " {'country': 'Angola', 'per_capita': 3308},\n",
       " {'country': 'Antigua and Barbuda', 'per_capita': 14462},\n",
       " {'country': 'Argentina', 'per_capita': 12440},\n",
       " {'country': 'Armenia', 'per_capita': 3614},\n",
       " {'country': 'Australia', 'per_capita': 49755},\n",
       " {'country': 'Austria', 'per_capita': 44757},\n",
       " {'country': 'Azerbaijan', 'per_capita': 3878},\n",
       " {'country': 'Bahamas', 'per_capita': 28785},\n",
       " {'country': 'Bahrain', 'per_capita': 22579},\n",
       " {'country': 'Bangladesh', 'per_capita': 1358},\n",
       " {'country': 'Barbados', 'per_capita': 15891},\n",
       " {'country': 'Belarus', 'per_capita': 4989},\n",
       " {'country': 'Belgium', 'per_capita': 41271},\n",
       " {'country': 'Belize', 'per_capita': 4744},\n",
       " {'country': 'Benin', 'per_capita': 789},\n",
       " {'country': 'Bhutan', 'per_capita': 2773},\n",
       " {'country': 'Bolivia', 'per_capita': 3104},\n",
       " {'country': 'Bosnia and Herzegovina', 'per_capita': 4808},\n",
       " {'country': 'Botswana', 'per_capita': 6924},\n",
       " {'country': 'Brazil', 'per_capita': 8649},\n",
       " {'country': 'Brunei', 'per_capita': 26939},\n",
       " {'country': 'Bulgaria', 'per_capita': 7469},\n",
       " {'country': 'Burkina Faso', 'per_capita': 627},\n",
       " {'country': 'Burundi', 'per_capita': 285},\n",
       " {'country': 'Cabo Verde', 'per_capita': 2997},\n",
       " {'country': 'Cambodia', 'per_capita': 1269},\n",
       " {'country': 'Cameroon', 'per_capita': 1374},\n",
       " {'country': 'Canada', 'per_capita': 42348},\n",
       " {'country': 'Central African Republic', 'per_capita': 382},\n",
       " {'country': 'Chad', 'per_capita': 664},\n",
       " {'country': 'Chile', 'per_capita': 13792},\n",
       " {'country': 'China', 'per_capita': 8123},\n",
       " {'country': 'Colombia', 'per_capita': 5805},\n",
       " {'country': 'Comoros', 'per_capita': 775},\n",
       " {'country': 'Congo (Kinshasa)', 'per_capita': 449},\n",
       " {'country': 'Congo (Brazzaville)', 'per_capita': 1528},\n",
       " {'country': 'Costa Rica', 'per_capita': 11824},\n",
       " {'country': \"Cote d'Ivoire\", 'per_capita': 1534},\n",
       " {'country': 'Croatia', 'per_capita': 12149},\n",
       " {'country': 'Cyprus', 'per_capita': 23541},\n",
       " {'country': 'Czech Republic', 'per_capita': 18483},\n",
       " {'country': 'Denmark', 'per_capita': 53578},\n",
       " {'country': 'Dominica', 'per_capita': 7906},\n",
       " {'country': 'Dominican Republic', 'per_capita': 6722},\n",
       " {'country': 'Ecuador', 'per_capita': 6018},\n",
       " {'country': 'Egypt', 'per_capita': 3477},\n",
       " {'country': 'El Salvador', 'per_capita': 4223},\n",
       " {'country': 'Equatorial Guinea', 'per_capita': 8747},\n",
       " {'country': 'Estonia', 'per_capita': 17736},\n",
       " {'country': 'Ethiopia', 'per_capita': 706},\n",
       " {'country': 'Fiji', 'per_capita': 5233},\n",
       " {'country': 'Finland', 'per_capita': 43433},\n",
       " {'country': 'France', 'per_capita': 36857},\n",
       " {'country': 'Gabon', 'per_capita': 7179},\n",
       " {'country': 'Gambia, The', 'per_capita': 473},\n",
       " {'country': 'Georgia', 'per_capita': 3865},\n",
       " {'country': 'Germany', 'per_capita': 42161},\n",
       " {'country': 'Ghana', 'per_capita': 1513},\n",
       " {'country': 'Greece', 'per_capita': 17890},\n",
       " {'country': 'Grenada', 'per_capita': 9841},\n",
       " {'country': 'Guam', 'per_capita': 35562},\n",
       " {'country': 'Guatemala', 'per_capita': 4146},\n",
       " {'country': 'Guinea', 'per_capita': 661},\n",
       " {'country': 'Guinea-Bissau', 'per_capita': 641},\n",
       " {'country': 'Guyana', 'per_capita': 4529},\n",
       " {'country': 'Haiti', 'per_capita': 739},\n",
       " {'country': 'Honduras', 'per_capita': 2361},\n",
       " {'country': 'Hong Kong SAR, China', 'per_capita': 43740},\n",
       " {'country': 'Hungary', 'per_capita': 12820},\n",
       " {'country': 'Iceland', 'per_capita': 60529},\n",
       " {'country': 'India', 'per_capita': 1709},\n",
       " {'country': 'Indonesia', 'per_capita': 3570},\n",
       " {'country': 'Iran, Islamic Rep.', 'per_capita': 5219},\n",
       " {'country': 'Iraq', 'per_capita': 4609},\n",
       " {'country': 'Ireland', 'per_capita': 64175},\n",
       " {'country': 'Israel', 'per_capita': 37180},\n",
       " {'country': 'Italy', 'per_capita': 30668},\n",
       " {'country': 'Jamaica', 'per_capita': 4878},\n",
       " {'country': 'Japan', 'per_capita': 38972},\n",
       " {'country': 'Jordan', 'per_capita': 4087},\n",
       " {'country': 'Kazakhstan', 'per_capita': 7714},\n",
       " {'country': 'Kenya', 'per_capita': 1455},\n",
       " {'country': 'Kiribati', 'per_capita': 1587},\n",
       " {'country': 'Korea, South', 'per_capita': 27538},\n",
       " {'country': 'Kosovo', 'per_capita': 3661},\n",
       " {'country': 'Kuwait', 'per_capita': 27359},\n",
       " {'country': 'Kyrgyzstan', 'per_capita': 1077},\n",
       " {'country': 'Lao PDR', 'per_capita': 2338},\n",
       " {'country': 'Latvia', 'per_capita': 14071},\n",
       " {'country': 'Lebanon', 'per_capita': 8257},\n",
       " {'country': 'Lesotho', 'per_capita': 1039},\n",
       " {'country': 'Liberia', 'per_capita': 455},\n",
       " {'country': 'Lithuania', 'per_capita': 14912},\n",
       " {'country': 'Luxembourg', 'per_capita': 100738},\n",
       " {'country': 'Macao SAR, China', 'per_capita': 74017},\n",
       " {'country': 'Macedonia, FYR', 'per_capita': 5237},\n",
       " {'country': 'Madagascar', 'per_capita': 401},\n",
       " {'country': 'Malawi', 'per_capita': 300},\n",
       " {'country': 'Malaysia', 'per_capita': 9508},\n",
       " {'country': 'Maldives', 'per_capita': 9875},\n",
       " {'country': 'Mali', 'per_capita': 779},\n",
       " {'country': 'Malta', 'per_capita': 25145},\n",
       " {'country': 'Marshall Islands', 'per_capita': 3665},\n",
       " {'country': 'Mauritania', 'per_capita': 1101},\n",
       " {'country': 'Mauritius', 'per_capita': 9630},\n",
       " {'country': 'Mexico', 'per_capita': 8208},\n",
       " {'country': 'Micronesia, Fed. Sts.', 'per_capita': 3143},\n",
       " {'country': 'Moldova', 'per_capita': 1900},\n",
       " {'country': 'Mongolia', 'per_capita': 3694},\n",
       " {'country': 'Montenegro', 'per_capita': 7028},\n",
       " {'country': 'Morocco', 'per_capita': 2892},\n",
       " {'country': 'Mozambique', 'per_capita': 382},\n",
       " {'country': 'Myanmar', 'per_capita': 1195},\n",
       " {'country': 'Namibia', 'per_capita': 4414},\n",
       " {'country': 'Nauru', 'per_capita': 7821},\n",
       " {'country': 'Nepal', 'per_capita': 729},\n",
       " {'country': 'Netherlands', 'per_capita': 45637},\n",
       " {'country': 'New Zealand', 'per_capita': 39412},\n",
       " {'country': 'Nicaragua', 'per_capita': 2151},\n",
       " {'country': 'Niger', 'per_capita': 364},\n",
       " {'country': 'Nigeria', 'per_capita': 2175},\n",
       " {'country': 'Northern Mariana Islands', 'per_capita': 22572},\n",
       " {'country': 'Norway', 'per_capita': 70867},\n",
       " {'country': 'Oman', 'per_capita': 14982},\n",
       " {'country': 'Pakistan', 'per_capita': 1443},\n",
       " {'country': 'Palau', 'per_capita': 14428},\n",
       " {'country': 'Panama', 'per_capita': 13680},\n",
       " {'country': 'Papua New Guinea', 'per_capita': 2500},\n",
       " {'country': 'Paraguay', 'per_capita': 4077},\n",
       " {'country': 'Peru', 'per_capita': 6049},\n",
       " {'country': 'Philippines', 'per_capita': 2951},\n",
       " {'country': 'Poland', 'per_capita': 12414},\n",
       " {'country': 'Portugal', 'per_capita': 19871},\n",
       " {'country': 'Puerto Rico', 'per_capita': 30790},\n",
       " {'country': 'Qatar', 'per_capita': 59324},\n",
       " {'country': 'Romania', 'per_capita': 9522},\n",
       " {'country': 'Russia', 'per_capita': 8748},\n",
       " {'country': 'Rwanda', 'per_capita': 702},\n",
       " {'country': 'Samoa', 'per_capita': 4030},\n",
       " {'country': 'San Marino', 'per_capita': 47908},\n",
       " {'country': 'Sao Tome and Principe', 'per_capita': 1714},\n",
       " {'country': 'Saudi Arabia', 'per_capita': 20028},\n",
       " {'country': 'Senegal', 'per_capita': 952},\n",
       " {'country': 'Serbia', 'per_capita': 5426},\n",
       " {'country': 'Seychelles', 'per_capita': 15075},\n",
       " {'country': 'Sierra Leone', 'per_capita': 505},\n",
       " {'country': 'Singapore', 'per_capita': 52962},\n",
       " {'country': 'Slovak Republic', 'per_capita': 16529},\n",
       " {'country': 'Slovenia', 'per_capita': 21650},\n",
       " {'country': 'Solomon Islands', 'per_capita': 2005},\n",
       " {'country': 'Somalia', 'per_capita': 434},\n",
       " {'country': 'South Africa', 'per_capita': 5274},\n",
       " {'country': 'Spain', 'per_capita': 26616},\n",
       " {'country': 'Sri Lanka', 'per_capita': 3835},\n",
       " {'country': 'St. Kitts and Nevis', 'per_capita': 16596},\n",
       " {'country': 'St. Lucia', 'per_capita': 9364},\n",
       " {'country': 'Saint Vincent and the Grenadines', 'per_capita': 7006},\n",
       " {'country': 'Sudan', 'per_capita': 2415},\n",
       " {'country': 'Suriname', 'per_capita': 5871},\n",
       " {'country': 'Swaziland', 'per_capita': 2770},\n",
       " {'country': 'Sweden', 'per_capita': 51844},\n",
       " {'country': 'Switzerland', 'per_capita': 79887},\n",
       " {'country': 'Tajikistan', 'per_capita': 795},\n",
       " {'country': 'Tanzania', 'per_capita': 877},\n",
       " {'country': 'Thailand', 'per_capita': 5910},\n",
       " {'country': 'Timor-Leste', 'per_capita': 1405},\n",
       " {'country': 'Togo', 'per_capita': 578},\n",
       " {'country': 'Tonga', 'per_capita': 3748},\n",
       " {'country': 'Trinidad and Tobago', 'per_capita': 16040},\n",
       " {'country': 'Tunisia', 'per_capita': 3688},\n",
       " {'country': 'Turkey', 'per_capita': 10862},\n",
       " {'country': 'Turkmenistan', 'per_capita': 6389},\n",
       " {'country': 'Tuvalu', 'per_capita': 3083},\n",
       " {'country': 'Uganda', 'per_capita': 580},\n",
       " {'country': 'Ukraine', 'per_capita': 2185},\n",
       " {'country': 'United Arab Emirates', 'per_capita': 37622},\n",
       " {'country': 'United Kingdom', 'per_capita': 40412},\n",
       " {'country': 'United States', 'per_capita': 57638},\n",
       " {'country': 'Uruguay', 'per_capita': 15220},\n",
       " {'country': 'Uzbekistan', 'per_capita': 2110},\n",
       " {'country': 'Vanuatu', 'per_capita': 2860},\n",
       " {'country': 'Vietnam', 'per_capita': 2170},\n",
       " {'country': 'West Bank and Gaza', 'per_capita': 2943},\n",
       " {'country': 'Yemen', 'per_capita': 990},\n",
       " {'country': 'Zambia', 'per_capita': 1269},\n",
       " {'country': 'Zimbabwe', 'per_capita': 1029}]"
      ]
     },
     "execution_count": 397,
     "metadata": {},
     "output_type": "execute_result"
    }
   ],
   "source": [
    "get_countries_per_capita(per_capita_data)"
   ]
  },
  {
   "cell_type": "code",
   "execution_count": 398,
   "metadata": {},
   "outputs": [],
   "source": [
    "def get_country_list_by_param(percentage_list,param_list,param = \"gdp\", divider = 10**9):\n",
    "    _list = []\n",
    "    for country in percentage_list:\n",
    "        for state in param_list:\n",
    "            if country['country'] == state['country']:\n",
    "                country[param] = float(state[param]) / divider\n",
    "                _list.append(country)\n",
    "                break\n",
    "    return _list"
   ]
  },
  {
   "cell_type": "code",
   "execution_count": 413,
   "metadata": {
    "scrolled": true
   },
   "outputs": [],
   "source": [
    "# ВВП в миллиардах долларов\n",
    "# Среднедушевой доход в тысячах долларов\n",
    "divider_gdp = 1000000000\n",
    "divider_per_capita = 1000\n",
    "gdp_csv_list = get_countries_gdp_csv(csv_path)\n",
    "per_capita_list = get_countries_per_capita(per_capita_data)\n",
    "states_percentage = get_procent_to_population(data,df,pop_data) \n",
    "countries_with_gdp = get_country_list_by_param(states_percentage,gdp_csv_list,divider = divider_gdp)\n",
    "countries_with_gdp_and_capita = get_country_list_by_param(countries_with_gdp,per_capita_list, param=\"per_capita\", divider = divider_per_capita)\n"
   ]
  },
  {
   "cell_type": "code",
   "execution_count": 414,
   "metadata": {},
   "outputs": [],
   "source": [
    "#statuses('conf_to_pop' , \"dead_to_pop\")"
   ]
  },
  {
   "cell_type": "code",
   "execution_count": 415,
   "metadata": {},
   "outputs": [],
   "source": [
    "def get_data_by_param_and_status(countries, param = \"gdp\", status='conf_to_pop'):\n",
    "    _sorted = sorted(countries, key=lambda k: k[param]) \n",
    "    _x = []\n",
    "    _y = []\n",
    "    for country in _sorted:\n",
    "        _x.append(country[param])\n",
    "        _y.append(country[status])\n",
    "    #return np.array(_x) , np.array(_x)\n",
    "    return _x , _y"
   ]
  },
  {
   "cell_type": "code",
   "execution_count": 416,
   "metadata": {},
   "outputs": [],
   "source": [
    "def get_dependency_by_param_and_status(countries, param=\"gdp\", status='conf_to_pop', method = \"r2\", functions = functions_to_fit):\n",
    "    x,y = get_data_by_param_and_status(countries,param,status)\n",
    "    name, func , params , res = get_curve_fit_with_params(np.array(x),np.array(y),method,functions)\n",
    "    return {\"criteria\":status,\"param\":param, \"dependency\":name ,\"opt_params\":params, method:res }"
   ]
  },
  {
   "cell_type": "code",
   "execution_count": 417,
   "metadata": {},
   "outputs": [],
   "source": [
    "def print_dependency_by_param_and_status(countries, param = \"gdp\", status='conf_to_pop', method = \"r2\",functions = functions_to_fit):\n",
    "    res = get_dependency_by_param_and_status(countries, param, status, method)\n",
    "    _param = \"ВВП\" if res['param']==\"gdp\" else \"Среднешушевой доход\"\n",
    "    _param_con = \"ВВП\" if res['param']==\"gdp\" else \"Среднешушевого дохода\"\n",
    "    print(f\"Кривая для {_param_con}:\")\n",
    "    criteria = f\"Процент заражённых/{_param}\" if res['criteria'] ==\"conf_to_pop\" else f\"Процент умерших/{_param}\"\n",
    "    print(f\"Критерий: {criteria}, зависимость: {res['dependency']}\")\n",
    "    print(\"Оптимальные параметры:\" , end = \" \")\n",
    "    for param in res['opt_params']:\n",
    "        print(param, end = \", \")\n",
    "    print()\n",
    "    print(f\"{list(res.keys())[-1]}: {res[list(res.keys())[-1]]}\")"
   ]
  },
  {
   "cell_type": "code",
   "execution_count": 418,
   "metadata": {
    "scrolled": false
   },
   "outputs": [
    {
     "name": "stdout",
     "output_type": "stream",
     "text": [
      "Кривая для ВВП:\n",
      "Критерий: Процент заражённых/ВВП, зависимость: polynomial_cube\n",
      "Оптимальные параметры: 1.2103010680067706e-12, -3.056313949914963e-08, 0.00017061935522433622, 0.08954109339445318, \n",
      "r2: 0.06275630918519892\n"
     ]
    }
   ],
   "source": [
    "#statuses('conf_to_pop' , \"dead_to_pop\")\n",
    "#params('gdp','per_capita')\n",
    "#Функции зависимости стран по процентному количеству заражённых/умерших в зависимости от увеличения ВВП/Среднедушевого дохода\n",
    "#Как и при динамике количества, оптимальные параметры выдаёт кубическая функция, хоть и с достаточно малыми коэффициентами\n",
    "print_dependency_by_param_and_status(countries_with_gdp_and_capita,param=\"gdp\", status='conf_to_pop', method = \"r2\", functions = functions_to_fit)"
   ]
  },
  {
   "cell_type": "code",
   "execution_count": 420,
   "metadata": {},
   "outputs": [
    {
     "data": {
      "text/html": [
       "        <script type=\"text/javascript\">\n",
       "        window.PlotlyConfig = {MathJaxConfig: 'local'};\n",
       "        if (window.MathJax) {MathJax.Hub.Config({SVG: {font: \"STIX-Web\"}});}\n",
       "        if (typeof require !== 'undefined') {\n",
       "        require.undef(\"plotly\");\n",
       "        requirejs.config({\n",
       "            paths: {\n",
       "                'plotly': ['https://cdn.plot.ly/plotly-latest.min']\n",
       "            }\n",
       "        });\n",
       "        require(['plotly'], function(Plotly) {\n",
       "            window._Plotly = Plotly;\n",
       "        });\n",
       "        }\n",
       "        </script>\n",
       "        "
      ]
     },
     "metadata": {},
     "output_type": "display_data"
    }
   ],
   "source": [
    "import chart_studio.plotly.plotly as py #For World Map\n",
    "import plotly.graph_objs as go\n",
    "from plotly.offline import download_plotlyjs, init_notebook_mode, plot, iplot\n",
    "init_notebook_mode(connected=True)\n",
    "\n",
    "from sklearn.preprocessing import StandardScaler  # For scaling dataset\n",
    "from sklearn.cluster import KMeans, AgglomerativeClustering, AffinityPropagation #For clustering\n",
    "from sklearn.mixture import GaussianMixture #For GMM clustering\n",
    "import seaborn as sns\n",
    "import os                     # For os related operations\n",
    "import sys                    # For data size"
   ]
  },
  {
   "cell_type": "code",
   "execution_count": 421,
   "metadata": {},
   "outputs": [],
   "source": [
    "def get_countries_with_gdp_and_capita(csv_path,per_capita_data,divider_gdp = 1,divider_per_capita = 1):\n",
    "    gdp_csv_list = get_countries_gdp_csv(csv_path)\n",
    "    per_capita_list = get_countries_per_capita(per_capita_data)\n",
    "    states_percentage = get_procent_to_population(data,df,pop_data) \n",
    "    with_gdp = get_country_list_by_param(states_percentage,gdp_csv_list,divider = divider_gdp)\n",
    "    with_gdp_and_capita = get_country_list_by_param(with_gdp,per_capita_list, param=\"per_capita\", divider = divider_per_capita)\n",
    "    return with_gdp_and_capita"
   ]
  },
  {
   "cell_type": "code",
   "execution_count": 422,
   "metadata": {},
   "outputs": [],
   "source": [
    "# ВВП в миллиардах долларов\n",
    "# Среднедушевой доход в тысячах долларов\n",
    "divider_gdp = 1000000000\n",
    "divider_per_capita = 1000\n",
    "gdp_csv_list = get_countries_gdp_csv(csv_path)\n",
    "per_capita_list = get_countries_per_capita(per_capita_data)\n",
    "states_percentage = get_procent_to_population(data,df,pop_data) \n",
    "countries_with_gdp = get_country_list_by_param(states_percentage,gdp_csv_list,divider = divider_gdp)\n",
    "countries_with_gdp_and_capita = get_country_list_by_param(countries_with_gdp,per_capita_list, param=\"per_capita\", divider = divider_per_capita)\n"
   ]
  },
  {
   "cell_type": "code",
   "execution_count": 423,
   "metadata": {},
   "outputs": [],
   "source": [
    "df_cl = pd.DataFrame(countries_with_gdp_and_capita)"
   ]
  },
  {
   "cell_type": "code",
   "execution_count": 424,
   "metadata": {},
   "outputs": [
    {
     "data": {
      "image/png": "[encoded data removed]",
      "text/plain": [
       "<Figure size 432x288 with 2 Axes>"
      ]
     },
     "metadata": {},
     "output_type": "display_data"
    }
   ],
   "source": [
    "df_cl_1 = df_cl[['gdp','per_capita','population','conf_to_pop', 'dead_to_pop']]\n",
    "cor = df_cl_1.corr()\n",
    "sns.set()\n",
    "sns.heatmap(cor, square = True) \n",
    "plt.title(\"Корреляция между параметрами:\")\n",
    "plt.show()"
   ]
  },
  {
   "cell_type": "code",
   "execution_count": 425,
   "metadata": {},
   "outputs": [
    {
     "data": {
      "application/vnd.plotly.v1+json": {
       "config": {
        "linkText": "Export to plot.ly",
        "plotlyServerURL": "https://plot.ly",
        "showLink": false
       },
       "data": [
        {
         "colorbar": {
          "title": {
           "text": "Заражённые"
          }
         },
         "locationmode": "country names",
         "locations": [
          "Afghanistan",
          "Albania",
          "Algeria",
          "Andorra",
          "Angola",
          "Antigua and Barbuda",
          "Argentina",
          "Armenia",
          "Australia",
          "Austria",
          "Azerbaijan",
          "Bahrain",
          "Bangladesh",
          "Barbados",
          "Belarus",
          "Belgium",
          "Benin",
          "Bhutan",
          "Bolivia",
          "Bosnia and Herzegovina",
          "Brazil",
          "Brunei",
          "Bulgaria",
          "Burkina Faso",
          "Cabo Verde",
          "Cambodia",
          "Cameroon",
          "Canada",
          "Central African Republic",
          "Chad",
          "Chile",
          "China",
          "Colombia",
          "Costa Rica",
          "Cote d'Ivoire",
          "Croatia",
          "Cyprus",
          "Denmark",
          "Dominican Republic",
          "Ecuador",
          "El Salvador",
          "Equatorial Guinea",
          "Estonia",
          "Ethiopia",
          "Fiji",
          "Finland",
          "France",
          "Gabon",
          "Georgia",
          "Germany",
          "Ghana",
          "Greece",
          "Guatemala",
          "Guinea",
          "Guyana",
          "Haiti",
          "Honduras",
          "Hungary",
          "Iceland",
          "India",
          "Indonesia",
          "Iraq",
          "Ireland",
          "Israel",
          "Italy",
          "Jamaica",
          "Japan",
          "Jordan",
          "Kazakhstan",
          "Kenya",
          "Kuwait",
          "Kyrgyzstan",
          "Latvia",
          "Lebanon",
          "Liberia",
          "Lithuania",
          "Luxembourg",
          "Madagascar",
          "Malaysia",
          "Maldives",
          "Malta",
          "Mauritania",
          "Mauritius",
          "Mexico",
          "Moldova",
          "Mongolia",
          "Montenegro",
          "Morocco",
          "Namibia",
          "Nepal",
          "Netherlands",
          "New Zealand",
          "Nicaragua",
          "Niger",
          "Nigeria",
          "Norway",
          "Oman",
          "Pakistan",
          "Panama",
          "Papua New Guinea",
          "Paraguay",
          "Peru",
          "Philippines",
          "Poland",
          "Portugal",
          "Qatar",
          "Romania",
          "Russia",
          "Rwanda",
          "Saint Vincent and the Grenadines",
          "San Marino",
          "Saudi Arabia",
          "Senegal",
          "Serbia",
          "Seychelles",
          "Singapore",
          "Slovenia",
          "Somalia",
          "South Africa",
          "Spain",
          "Sri Lanka",
          "Sudan",
          "Suriname",
          "Sweden",
          "Switzerland",
          "Tanzania",
          "Thailand",
          "Togo",
          "Trinidad and Tobago",
          "Tunisia",
          "Turkey",
          "Uganda",
          "Ukraine",
          "United Arab Emirates",
          "United Kingdom",
          "Uruguay",
          "United States",
          "Uzbekistan",
          "Vietnam",
          "Zambia",
          "Zimbabwe",
          "Dominica",
          "Grenada",
          "Mozambique",
          "Timor-Leste",
          "Belize",
          "West Bank and Gaza",
          "Guinea-Bissau",
          "Mali",
          "Kosovo",
          "Botswana",
          "Burundi",
          "Sierra Leone",
          "Malawi",
          "Sao Tome and Principe",
          "Comoros",
          "Tajikistan",
          "Lesotho"
         ],
         "text": [
          "Afghanistan",
          "Albania",
          "Algeria",
          "Andorra",
          "Angola",
          "Antigua and Barbuda",
          "Argentina",
          "Armenia",
          "Australia",
          "Austria",
          "Azerbaijan",
          "Bahrain",
          "Bangladesh",
          "Barbados",
          "Belarus",
          "Belgium",
          "Benin",
          "Bhutan",
          "Bolivia",
          "Bosnia and Herzegovina",
          "Brazil",
          "Brunei",
          "Bulgaria",
          "Burkina Faso",
          "Cabo Verde",
          "Cambodia",
          "Cameroon",
          "Canada",
          "Central African Republic",
          "Chad",
          "Chile",
          "China",
          "Colombia",
          "Costa Rica",
          "Cote d'Ivoire",
          "Croatia",
          "Cyprus",
          "Denmark",
          "Dominican Republic",
          "Ecuador",
          "El Salvador",
          "Equatorial Guinea",
          "Estonia",
          "Ethiopia",
          "Fiji",
          "Finland",
          "France",
          "Gabon",
          "Georgia",
          "Germany",
          "Ghana",
          "Greece",
          "Guatemala",
          "Guinea",
          "Guyana",
          "Haiti",
          "Honduras",
          "Hungary",
          "Iceland",
          "India",
          "Indonesia",
          "Iraq",
          "Ireland",
          "Israel",
          "Italy",
          "Jamaica",
          "Japan",
          "Jordan",
          "Kazakhstan",
          "Kenya",
          "Kuwait",
          "Kyrgyzstan",
          "Latvia",
          "Lebanon",
          "Liberia",
          "Lithuania",
          "Luxembourg",
          "Madagascar",
          "Malaysia",
          "Maldives",
          "Malta",
          "Mauritania",
          "Mauritius",
          "Mexico",
          "Moldova",
          "Mongolia",
          "Montenegro",
          "Morocco",
          "Namibia",
          "Nepal",
          "Netherlands",
          "New Zealand",
          "Nicaragua",
          "Niger",
          "Nigeria",
          "Norway",
          "Oman",
          "Pakistan",
          "Panama",
          "Papua New Guinea",
          "Paraguay",
          "Peru",
          "Philippines",
          "Poland",
          "Portugal",
          "Qatar",
          "Romania",
          "Russia",
          "Rwanda",
          "Saint Vincent and the Grenadines",
          "San Marino",
          "Saudi Arabia",
          "Senegal",
          "Serbia",
          "Seychelles",
          "Singapore",
          "Slovenia",
          "Somalia",
          "South Africa",
          "Spain",
          "Sri Lanka",
          "Sudan",
          "Suriname",
          "Sweden",
          "Switzerland",
          "Tanzania",
          "Thailand",
          "Togo",
          "Trinidad and Tobago",
          "Tunisia",
          "Turkey",
          "Uganda",
          "Ukraine",
          "United Arab Emirates",
          "United Kingdom",
          "Uruguay",
          "United States",
          "Uzbekistan",
          "Vietnam",
          "Zambia",
          "Zimbabwe",
          "Dominica",
          "Grenada",
          "Mozambique",
          "Timor-Leste",
          "Belize",
          "West Bank and Gaza",
          "Guinea-Bissau",
          "Mali",
          "Kosovo",
          "Botswana",
          "Burundi",
          "Sierra Leone",
          "Malawi",
          "Sao Tome and Principe",
          "Comoros",
          "Tajikistan",
          "Lesotho"
         ],
         "type": "choropleth",
         "z": [
          0.019024875077967823,
          0.03307312090249151,
          0.017052493238618942,
          0.9882346830117134,
          0.0001622862260344627,
          0.025964314645950604,
          0.01881356038101067,
          0.16339315720434072,
          0.028291591361185794,
          0.1840276155670011,
          0.034075132296424476,
          0.4577431808436008,
          0.014793372561655409,
          0.030700423177424024,
          0.322370466849841,
          0.48594206234864334,
          0.002951663763181486,
          0.0027836912806835684,
          0.03754907672254958,
          0.06931555998939809,
          0.1219118791006987,
          0.0328700444328402,
          0.03181477905383274,
          0.004030066523943582,
          0.002271622626968122,
          0.0007507785635242973,
          0.013994950951642784,
          0.21428977165784285,
          0.007007577827509436,
          0.0033532003454507056,
          0.24592133336465705,
          0.00603584327184738,
          0.03282060743401361,
          0.017321936592511043,
          0.01467551325166296,
          0.05450307166884834,
          0.07710644810029724,
          0.19272871129632582,
          0.11974030703390791,
          0.1965657823703871,
          0.02200679547416935,
          0.054928516532795915,
          0.1349493977580548,
          0.0003222718436427837,
          0.00012466221733361646,
          0.11567348529831702,
          0.26882468960625605,
          0.06757027757133925,
          0.018810969612904592,
          0.21295378409192256,
          0.019266231707829998,
          0.026426317630547033,
          0.01108546727128846,
          0.022522381011989542,
          0.01591776165462565,
          0.004791796875280945,
          0.02918376614937624,
          0.03616159640507698,
          0.5108853739924756,
          0.007417323283026876,
          0.006728599294856991,
          0.0092471171058657,
          0.4971946510895445,
          0.1873620930337281,
          0.3738487591225413,
          0.017718081472508865,
          0.01288636369024991,
          0.0063177913322916175,
          0.036946372212125045,
          0.0017745603925514385,
          0.3792561783516774,
          0.019231985829063075,
          0.052356455618434036,
          0.013593374142657424,
          0.004752045921779664,
          0.05521957007263498,
          0.6492310222880171,
          0.0012260889802473258,
          0.022014942947804348,
          0.21446743818063352,
          0.11513938468522378,
          0.0018395215063909747,
          0.02623877442794335,
          0.04091661587849028,
          0.2268251609634563,
          0.004416114021540542,
          0.0513292533969985,
          0.01929549355302367,
          0.0006535266955443775,
          0.0013350958497352825,
          0.2573233956358379,
          0.030964676719686016,
          0.0003866669203201664,
          0.0040502700447374385,
          0.00315252492485759,
          0.155442970107208,
          0.11137838149549342,
          0.019850149162384964,
          0.2328536203997584,
          9.295498794141419e-05,
          0.011328233998761657,
          0.29676526393736696,
          0.011924773376329776,
          0.049730412971777306,
          0.28402864226938196,
          1.2211698195009701,
          0.08751604388028549,
          2.013142445005609,
          0.002414253557914732,
          0.015425097541057978,
          1.9357703122687582,
          0.17016347236391796,
          0.016046059254362838,
          0.07409783684735347,
          0.011368099047146607,
          0.5026534597838216,
          0.07068828011460566,
          0.009694729944802005,
          0.02844082296003944,
          0.4949212057130719,
          0.006870273310830418,
          0.006198337271506287,
          0.0019097520620981927,
          0.2985391756871158,
          0.35940542875222287,
          0.0009037907148838954,
          0.004365640842371933,
          0.004182989833813617,
          0.008346176371974691,
          0.00901843149502594,
          0.18293671635730946,
          0.0005804816916659611,
          0.041718848843037004,
          0.2511691722496171,
          0.37271699947866654,
          0.021366660298222914,
          0.4616974923690147,
          0.008469021768814821,
          0.00033912357176249904,
          0.0043857065845880625,
          0.00031858122207479764,
          0.022338568935427575,
          0.019739085183124876,
          0.0004915927136060184,
          0.00016621628977815528,
          0.004698867833900243,
          0.0026871633514135105,
          0.05506029155278025,
          0.004581267438563055,
          0.006614023197422428,
          0.0011090773097865868,
          0.0003758262136636452,
          0.006784177155126551,
          0.0003858170350897838,
          0.1165722084273177,
          0.001321603898491209,
          0.01899825257830681,
          4.743535983515264e-05
         ]
        }
       ],
       "layout": {
        "geo": {
         "projection": {
          "type": "mercator"
         },
         "showframe": false
        },
        "template": {
         "data": {
          "bar": [
           {
            "error_x": {
             "color": "#2a3f5f"
            },
            "error_y": {
             "color": "#2a3f5f"
            },
            "marker": {
             "line": {
              "color": "#E5ECF6",
              "width": 0.5
             }
            },
            "type": "bar"
           }
          ],
          "barpolar": [
           {
            "marker": {
             "line": {
              "color": "#E5ECF6",
              "width": 0.5
             }
            },
            "type": "barpolar"
           }
          ],
          "carpet": [
           {
            "aaxis": {
             "endlinecolor": "#2a3f5f",
             "gridcolor": "white",
             "linecolor": "white",
             "minorgridcolor": "white",
             "startlinecolor": "#2a3f5f"
            },
            "baxis": {
             "endlinecolor": "#2a3f5f",
             "gridcolor": "white",
             "linecolor": "white",
             "minorgridcolor": "white",
             "startlinecolor": "#2a3f5f"
            },
            "type": "carpet"
           }
          ],
          "choropleth": [
           {
            "colorbar": {
             "outlinewidth": 0,
             "ticks": ""
            },
            "type": "choropleth"
           }
          ],
          "contour": [
           {
            "colorbar": {
             "outlinewidth": 0,
             "ticks": ""
            },
            "colorscale": [
             [
              0,
              "#0d0887"
             ],
             [
              0.1111111111111111,
              "#46039f"
             ],
             [
              0.2222222222222222,
              "#7201a8"
             ],
             [
              0.3333333333333333,
              "#9c179e"
             ],
             [
              0.4444444444444444,
              "#bd3786"
             ],
             [
              0.5555555555555556,
              "#d8576b"
             ],
             [
              0.6666666666666666,
              "#ed7953"
             ],
             [
              0.7777777777777778,
              "#fb9f3a"
             ],
             [
              0.8888888888888888,
              "#fdca26"
             ],
             [
              1,
              "#f0f921"
             ]
            ],
            "type": "contour"
           }
          ],
          "contourcarpet": [
           {
            "colorbar": {
             "outlinewidth": 0,
             "ticks": ""
            },
            "type": "contourcarpet"
           }
          ],
          "heatmap": [
           {
            "colorbar": {
             "outlinewidth": 0,
             "ticks": ""
            },
            "colorscale": [
             [
              0,
              "#0d0887"
             ],
             [
              0.1111111111111111,
              "#46039f"
             ],
             [
              0.2222222222222222,
              "#7201a8"
             ],
             [
              0.3333333333333333,
              "#9c179e"
             ],
             [
              0.4444444444444444,
              "#bd3786"
             ],
             [
              0.5555555555555556,
              "#d8576b"
             ],
             [
              0.6666666666666666,
              "#ed7953"
             ],
             [
              0.7777777777777778,
              "#fb9f3a"
             ],
             [
              0.8888888888888888,
              "#fdca26"
             ],
             [
              1,
              "#f0f921"
             ]
            ],
            "type": "heatmap"
           }
          ],
          "heatmapgl": [
           {
            "colorbar": {
             "outlinewidth": 0,
             "ticks": ""
            },
            "colorscale": [
             [
              0,
              "#0d0887"
             ],
             [
              0.1111111111111111,
              "#46039f"
             ],
             [
              0.2222222222222222,
              "#7201a8"
             ],
             [
              0.3333333333333333,
              "#9c179e"
             ],
             [
              0.4444444444444444,
              "#bd3786"
             ],
             [
              0.5555555555555556,
              "#d8576b"
             ],
             [
              0.6666666666666666,
              "#ed7953"
             ],
             [
              0.7777777777777778,
              "#fb9f3a"
             ],
             [
              0.8888888888888888,
              "#fdca26"
             ],
             [
              1,
              "#f0f921"
             ]
            ],
            "type": "heatmapgl"
           }
          ],
          "histogram": [
           {
            "marker": {
             "colorbar": {
              "outlinewidth": 0,
              "ticks": ""
             }
            },
            "type": "histogram"
           }
          ],
          "histogram2d": [
           {
            "colorbar": {
             "outlinewidth": 0,
             "ticks": ""
            },
            "colorscale": [
             [
              0,
              "#0d0887"
             ],
             [
              0.1111111111111111,
              "#46039f"
             ],
             [
              0.2222222222222222,
              "#7201a8"
             ],
             [
              0.3333333333333333,
              "#9c179e"
             ],
             [
              0.4444444444444444,
              "#bd3786"
             ],
             [
              0.5555555555555556,
              "#d8576b"
             ],
             [
              0.6666666666666666,
              "#ed7953"
             ],
             [
              0.7777777777777778,
              "#fb9f3a"
             ],
             [
              0.8888888888888888,
              "#fdca26"
             ],
             [
              1,
              "#f0f921"
             ]
            ],
            "type": "histogram2d"
           }
          ],
          "histogram2dcontour": [
           {
            "colorbar": {
             "outlinewidth": 0,
             "ticks": ""
            },
            "colorscale": [
             [
              0,
              "#0d0887"
             ],
             [
              0.1111111111111111,
              "#46039f"
             ],
             [
              0.2222222222222222,
              "#7201a8"
             ],
             [
              0.3333333333333333,
              "#9c179e"
             ],
             [
              0.4444444444444444,
              "#bd3786"
             ],
             [
              0.5555555555555556,
              "#d8576b"
             ],
             [
              0.6666666666666666,
              "#ed7953"
             ],
             [
              0.7777777777777778,
              "#fb9f3a"
             ],
             [
              0.8888888888888888,
              "#fdca26"
             ],
             [
              1,
              "#f0f921"
             ]
            ],
            "type": "histogram2dcontour"
           }
          ],
          "mesh3d": [
           {
            "colorbar": {
             "outlinewidth": 0,
             "ticks": ""
            },
            "type": "mesh3d"
           }
          ],
          "parcoords": [
           {
            "line": {
             "colorbar": {
              "outlinewidth": 0,
              "ticks": ""
             }
            },
            "type": "parcoords"
           }
          ],
          "pie": [
           {
            "automargin": true,
            "type": "pie"
           }
          ],
          "scatter": [
           {
            "marker": {
             "colorbar": {
              "outlinewidth": 0,
              "ticks": ""
             }
            },
            "type": "scatter"
           }
          ],
          "scatter3d": [
           {
            "line": {
             "colorbar": {
              "outlinewidth": 0,
              "ticks": ""
             }
            },
            "marker": {
             "colorbar": {
              "outlinewidth": 0,
              "ticks": ""
             }
            },
            "type": "scatter3d"
           }
          ],
          "scattercarpet": [
           {
            "marker": {
             "colorbar": {
              "outlinewidth": 0,
              "ticks": ""
             }
            },
            "type": "scattercarpet"
           }
          ],
          "scattergeo": [
           {
            "marker": {
             "colorbar": {
              "outlinewidth": 0,
              "ticks": ""
             }
            },
            "type": "scattergeo"
           }
          ],
          "scattergl": [
           {
            "marker": {
             "colorbar": {
              "outlinewidth": 0,
              "ticks": ""
             }
            },
            "type": "scattergl"
           }
          ],
          "scattermapbox": [
           {
            "marker": {
             "colorbar": {
              "outlinewidth": 0,
              "ticks": ""
             }
            },
            "type": "scattermapbox"
           }
          ],
          "scatterpolar": [
           {
            "marker": {
             "colorbar": {
              "outlinewidth": 0,
              "ticks": ""
             }
            },
            "type": "scatterpolar"
           }
          ],
          "scatterpolargl": [
           {
            "marker": {
             "colorbar": {
              "outlinewidth": 0,
              "ticks": ""
             }
            },
            "type": "scatterpolargl"
           }
          ],
          "scatterternary": [
           {
            "marker": {
             "colorbar": {
              "outlinewidth": 0,
              "ticks": ""
             }
            },
            "type": "scatterternary"
           }
          ],
          "surface": [
           {
            "colorbar": {
             "outlinewidth": 0,
             "ticks": ""
            },
            "colorscale": [
             [
              0,
              "#0d0887"
             ],
             [
              0.1111111111111111,
              "#46039f"
             ],
             [
              0.2222222222222222,
              "#7201a8"
             ],
             [
              0.3333333333333333,
              "#9c179e"
             ],
             [
              0.4444444444444444,
              "#bd3786"
             ],
             [
              0.5555555555555556,
              "#d8576b"
             ],
             [
              0.6666666666666666,
              "#ed7953"
             ],
             [
              0.7777777777777778,
              "#fb9f3a"
             ],
             [
              0.8888888888888888,
              "#fdca26"
             ],
             [
              1,
              "#f0f921"
             ]
            ],
            "type": "surface"
           }
          ],
          "table": [
           {
            "cells": {
             "fill": {
              "color": "#EBF0F8"
             },
             "line": {
              "color": "white"
             }
            },
            "header": {
             "fill": {
              "color": "#C8D4E3"
             },
             "line": {
              "color": "white"
             }
            },
            "type": "table"
           }
          ]
         },
         "layout": {
          "annotationdefaults": {
           "arrowcolor": "#2a3f5f",
           "arrowhead": 0,
           "arrowwidth": 1
          },
          "coloraxis": {
           "colorbar": {
            "outlinewidth": 0,
            "ticks": ""
           }
          },
          "colorscale": {
           "diverging": [
            [
             0,
             "#8e0152"
            ],
            [
             0.1,
             "#c51b7d"
            ],
            [
             0.2,
             "#de77ae"
            ],
            [
             0.3,
             "#f1b6da"
            ],
            [
             0.4,
             "#fde0ef"
            ],
            [
             0.5,
             "#f7f7f7"
            ],
            [
             0.6,
             "#e6f5d0"
            ],
            [
             0.7,
             "#b8e186"
            ],
            [
             0.8,
             "#7fbc41"
            ],
            [
             0.9,
             "#4d9221"
            ],
            [
             1,
             "#276419"
            ]
           ],
           "sequential": [
            [
             0,
             "#0d0887"
            ],
            [
             0.1111111111111111,
             "#46039f"
            ],
            [
             0.2222222222222222,
             "#7201a8"
            ],
            [
             0.3333333333333333,
             "#9c179e"
            ],
            [
             0.4444444444444444,
             "#bd3786"
            ],
            [
             0.5555555555555556,
             "#d8576b"
            ],
            [
             0.6666666666666666,
             "#ed7953"
            ],
            [
             0.7777777777777778,
             "#fb9f3a"
            ],
            [
             0.8888888888888888,
             "#fdca26"
            ],
            [
             1,
             "#f0f921"
            ]
           ],
           "sequentialminus": [
            [
             0,
             "#0d0887"
            ],
            [
             0.1111111111111111,
             "#46039f"
            ],
            [
             0.2222222222222222,
             "#7201a8"
            ],
            [
             0.3333333333333333,
             "#9c179e"
            ],
            [
             0.4444444444444444,
             "#bd3786"
            ],
            [
             0.5555555555555556,
             "#d8576b"
            ],
            [
             0.6666666666666666,
             "#ed7953"
            ],
            [
             0.7777777777777778,
             "#fb9f3a"
            ],
            [
             0.8888888888888888,
             "#fdca26"
            ],
            [
             1,
             "#f0f921"
            ]
           ]
          },
          "colorway": [
           "#636efa",
           "#EF553B",
           "#00cc96",
           "#ab63fa",
           "#FFA15A",
           "#19d3f3",
           "#FF6692",
           "#B6E880",
           "#FF97FF",
           "#FECB52"
          ],
          "font": {
           "color": "#2a3f5f"
          },
          "geo": {
           "bgcolor": "white",
           "lakecolor": "white",
           "landcolor": "#E5ECF6",
           "showlakes": true,
           "showland": true,
           "subunitcolor": "white"
          },
          "hoverlabel": {
           "align": "left"
          },
          "hovermode": "closest",
          "mapbox": {
           "style": "light"
          },
          "paper_bgcolor": "white",
          "plot_bgcolor": "#E5ECF6",
          "polar": {
           "angularaxis": {
            "gridcolor": "white",
            "linecolor": "white",
            "ticks": ""
           },
           "bgcolor": "#E5ECF6",
           "radialaxis": {
            "gridcolor": "white",
            "linecolor": "white",
            "ticks": ""
           }
          },
          "scene": {
           "xaxis": {
            "backgroundcolor": "#E5ECF6",
            "gridcolor": "white",
            "gridwidth": 2,
            "linecolor": "white",
            "showbackground": true,
            "ticks": "",
            "zerolinecolor": "white"
           },
           "yaxis": {
            "backgroundcolor": "#E5ECF6",
            "gridcolor": "white",
            "gridwidth": 2,
            "linecolor": "white",
            "showbackground": true,
            "ticks": "",
            "zerolinecolor": "white"
           },
           "zaxis": {
            "backgroundcolor": "#E5ECF6",
            "gridcolor": "white",
            "gridwidth": 2,
            "linecolor": "white",
            "showbackground": true,
            "ticks": "",
            "zerolinecolor": "white"
           }
          },
          "shapedefaults": {
           "line": {
            "color": "#2a3f5f"
           }
          },
          "ternary": {
           "aaxis": {
            "gridcolor": "white",
            "linecolor": "white",
            "ticks": ""
           },
           "baxis": {
            "gridcolor": "white",
            "linecolor": "white",
            "ticks": ""
           },
           "bgcolor": "#E5ECF6",
           "caxis": {
            "gridcolor": "white",
            "linecolor": "white",
            "ticks": ""
           }
          },
          "title": {
           "x": 0.05
          },
          "xaxis": {
           "automargin": true,
           "gridcolor": "white",
           "linecolor": "white",
           "ticks": "",
           "title": {
            "standoff": 15
           },
           "zerolinecolor": "white",
           "zerolinewidth": 2
          },
          "yaxis": {
           "automargin": true,
           "gridcolor": "white",
           "linecolor": "white",
           "ticks": "",
           "title": {
            "standoff": 15
           },
           "zerolinecolor": "white",
           "zerolinewidth": 2
          }
         }
        },
        "title": {
         "text": "Заражённые по отношению к населению(%)"
        }
       }
      },
      "text/html": [
       "<div>\n",
       "        \n",
       "        \n",
       "            <div id=\"c8dc854e-2033-4cb1-8756-0e4bc5eccf4b\" class=\"plotly-graph-div\" style=\"height:525px; width:100%;\"></div>\n",
       "            <script type=\"text/javascript\">\n",
       "                require([\"plotly\"], function(Plotly) {\n",
       "                    window.PLOTLYENV=window.PLOTLYENV || {};\n",
       "                    \n",
       "                if (document.getElementById(\"c8dc854e-2033-4cb1-8756-0e4bc5eccf4b\")) {\n",
       "                    Plotly.newPlot(\n",
       "                        'c8dc854e-2033-4cb1-8756-0e4bc5eccf4b',\n",
       "                        [{\"colorbar\": {\"title\": {\"text\": \"\\u0417\\u0430\\u0440\\u0430\\u0436\\u0451\\u043d\\u043d\\u044b\\u0435\"}}, \"locationmode\": \"country names\", \"locations\": [\"Afghanistan\", \"Albania\", \"Algeria\", \"Andorra\", \"Angola\", \"Antigua and Barbuda\", \"Argentina\", \"Armenia\", \"Australia\", \"Austria\", \"Azerbaijan\", \"Bahrain\", \"Bangladesh\", \"Barbados\", \"Belarus\", \"Belgium\", \"Benin\", \"Bhutan\", \"Bolivia\", \"Bosnia and Herzegovina\", \"Brazil\", \"Brunei\", \"Bulgaria\", \"Burkina Faso\", \"Cabo Verde\", \"Cambodia\", \"Cameroon\", \"Canada\", \"Central African Republic\", \"Chad\", \"Chile\", \"China\", \"Colombia\", \"Costa Rica\", \"Cote d'Ivoire\", \"Croatia\", \"Cyprus\", \"Denmark\", \"Dominican Republic\", \"Ecuador\", \"El Salvador\", \"Equatorial Guinea\", \"Estonia\", \"Ethiopia\", \"Fiji\", \"Finland\", \"France\", \"Gabon\", \"Georgia\", \"Germany\", \"Ghana\", \"Greece\", \"Guatemala\", \"Guinea\", \"Guyana\", \"Haiti\", \"Honduras\", \"Hungary\", \"Iceland\", \"India\", \"Indonesia\", \"Iraq\", \"Ireland\", \"Israel\", \"Italy\", \"Jamaica\", \"Japan\", \"Jordan\", \"Kazakhstan\", \"Kenya\", \"Kuwait\", \"Kyrgyzstan\", \"Latvia\", \"Lebanon\", \"Liberia\", \"Lithuania\", \"Luxembourg\", \"Madagascar\", \"Malaysia\", \"Maldives\", \"Malta\", \"Mauritania\", \"Mauritius\", \"Mexico\", \"Moldova\", \"Mongolia\", \"Montenegro\", \"Morocco\", \"Namibia\", \"Nepal\", \"Netherlands\", \"New Zealand\", \"Nicaragua\", \"Niger\", \"Nigeria\", \"Norway\", \"Oman\", \"Pakistan\", \"Panama\", \"Papua New Guinea\", \"Paraguay\", \"Peru\", \"Philippines\", \"Poland\", \"Portugal\", \"Qatar\", \"Romania\", \"Russia\", \"Rwanda\", \"Saint Vincent and the Grenadines\", \"San Marino\", \"Saudi Arabia\", \"Senegal\", \"Serbia\", \"Seychelles\", \"Singapore\", \"Slovenia\", \"Somalia\", \"South Africa\", \"Spain\", \"Sri Lanka\", \"Sudan\", \"Suriname\", \"Sweden\", \"Switzerland\", \"Tanzania\", \"Thailand\", \"Togo\", \"Trinidad and Tobago\", \"Tunisia\", \"Turkey\", \"Uganda\", \"Ukraine\", \"United Arab Emirates\", \"United Kingdom\", \"Uruguay\", \"United States\", \"Uzbekistan\", \"Vietnam\", \"Zambia\", \"Zimbabwe\", \"Dominica\", \"Grenada\", \"Mozambique\", \"Timor-Leste\", \"Belize\", \"West Bank and Gaza\", \"Guinea-Bissau\", \"Mali\", \"Kosovo\", \"Botswana\", \"Burundi\", \"Sierra Leone\", \"Malawi\", \"Sao Tome and Principe\", \"Comoros\", \"Tajikistan\", \"Lesotho\"], \"text\": [\"Afghanistan\", \"Albania\", \"Algeria\", \"Andorra\", \"Angola\", \"Antigua and Barbuda\", \"Argentina\", \"Armenia\", \"Australia\", \"Austria\", \"Azerbaijan\", \"Bahrain\", \"Bangladesh\", \"Barbados\", \"Belarus\", \"Belgium\", \"Benin\", \"Bhutan\", \"Bolivia\", \"Bosnia and Herzegovina\", \"Brazil\", \"Brunei\", \"Bulgaria\", \"Burkina Faso\", \"Cabo Verde\", \"Cambodia\", \"Cameroon\", \"Canada\", \"Central African Republic\", \"Chad\", \"Chile\", \"China\", \"Colombia\", \"Costa Rica\", \"Cote d'Ivoire\", \"Croatia\", \"Cyprus\", \"Denmark\", \"Dominican Republic\", \"Ecuador\", \"El Salvador\", \"Equatorial Guinea\", \"Estonia\", \"Ethiopia\", \"Fiji\", \"Finland\", \"France\", \"Gabon\", \"Georgia\", \"Germany\", \"Ghana\", \"Greece\", \"Guatemala\", \"Guinea\", \"Guyana\", \"Haiti\", \"Honduras\", \"Hungary\", \"Iceland\", \"India\", \"Indonesia\", \"Iraq\", \"Ireland\", \"Israel\", \"Italy\", \"Jamaica\", \"Japan\", \"Jordan\", \"Kazakhstan\", \"Kenya\", \"Kuwait\", \"Kyrgyzstan\", \"Latvia\", \"Lebanon\", \"Liberia\", \"Lithuania\", \"Luxembourg\", \"Madagascar\", \"Malaysia\", \"Maldives\", \"Malta\", \"Mauritania\", \"Mauritius\", \"Mexico\", \"Moldova\", \"Mongolia\", \"Montenegro\", \"Morocco\", \"Namibia\", \"Nepal\", \"Netherlands\", \"New Zealand\", \"Nicaragua\", \"Niger\", \"Nigeria\", \"Norway\", \"Oman\", \"Pakistan\", \"Panama\", \"Papua New Guinea\", \"Paraguay\", \"Peru\", \"Philippines\", \"Poland\", \"Portugal\", \"Qatar\", \"Romania\", \"Russia\", \"Rwanda\", \"Saint Vincent and the Grenadines\", \"San Marino\", \"Saudi Arabia\", \"Senegal\", \"Serbia\", \"Seychelles\", \"Singapore\", \"Slovenia\", \"Somalia\", \"South Africa\", \"Spain\", \"Sri Lanka\", \"Sudan\", \"Suriname\", \"Sweden\", \"Switzerland\", \"Tanzania\", \"Thailand\", \"Togo\", \"Trinidad and Tobago\", \"Tunisia\", \"Turkey\", \"Uganda\", \"Ukraine\", \"United Arab Emirates\", \"United Kingdom\", \"Uruguay\", \"United States\", \"Uzbekistan\", \"Vietnam\", \"Zambia\", \"Zimbabwe\", \"Dominica\", \"Grenada\", \"Mozambique\", \"Timor-Leste\", \"Belize\", \"West Bank and Gaza\", \"Guinea-Bissau\", \"Mali\", \"Kosovo\", \"Botswana\", \"Burundi\", \"Sierra Leone\", \"Malawi\", \"Sao Tome and Principe\", \"Comoros\", \"Tajikistan\", \"Lesotho\"], \"type\": \"choropleth\", \"z\": [0.019024875077967823, 0.03307312090249151, 0.017052493238618942, 0.9882346830117134, 0.0001622862260344627, 0.025964314645950604, 0.01881356038101067, 0.16339315720434072, 0.028291591361185794, 0.1840276155670011, 0.034075132296424476, 0.4577431808436008, 0.014793372561655409, 0.030700423177424024, 0.322370466849841, 0.48594206234864334, 0.002951663763181486, 0.0027836912806835684, 0.03754907672254958, 0.06931555998939809, 0.1219118791006987, 0.0328700444328402, 0.03181477905383274, 0.004030066523943582, 0.002271622626968122, 0.0007507785635242973, 0.013994950951642784, 0.21428977165784285, 0.007007577827509436, 0.0033532003454507056, 0.24592133336465705, 0.00603584327184738, 0.03282060743401361, 0.017321936592511043, 0.01467551325166296, 0.05450307166884834, 0.07710644810029724, 0.19272871129632582, 0.11974030703390791, 0.1965657823703871, 0.02200679547416935, 0.054928516532795915, 0.1349493977580548, 0.0003222718436427837, 0.00012466221733361646, 0.11567348529831702, 0.26882468960625605, 0.06757027757133925, 0.018810969612904592, 0.21295378409192256, 0.019266231707829998, 0.026426317630547033, 0.01108546727128846, 0.022522381011989542, 0.01591776165462565, 0.004791796875280945, 0.02918376614937624, 0.03616159640507698, 0.5108853739924756, 0.007417323283026876, 0.006728599294856991, 0.0092471171058657, 0.4971946510895445, 0.1873620930337281, 0.3738487591225413, 0.017718081472508865, 0.01288636369024991, 0.0063177913322916175, 0.036946372212125045, 0.0017745603925514385, 0.3792561783516774, 0.019231985829063075, 0.052356455618434036, 0.013593374142657424, 0.004752045921779664, 0.05521957007263498, 0.6492310222880171, 0.0012260889802473258, 0.022014942947804348, 0.21446743818063352, 0.11513938468522378, 0.0018395215063909747, 0.02623877442794335, 0.04091661587849028, 0.2268251609634563, 0.004416114021540542, 0.0513292533969985, 0.01929549355302367, 0.0006535266955443775, 0.0013350958497352825, 0.2573233956358379, 0.030964676719686016, 0.0003866669203201664, 0.0040502700447374385, 0.00315252492485759, 0.155442970107208, 0.11137838149549342, 0.019850149162384964, 0.2328536203997584, 9.295498794141419e-05, 0.011328233998761657, 0.29676526393736696, 0.011924773376329776, 0.049730412971777306, 0.28402864226938196, 1.2211698195009701, 0.08751604388028549, 2.013142445005609, 0.002414253557914732, 0.015425097541057978, 1.9357703122687582, 0.17016347236391796, 0.016046059254362838, 0.07409783684735347, 0.011368099047146607, 0.5026534597838216, 0.07068828011460566, 0.009694729944802005, 0.02844082296003944, 0.4949212057130719, 0.006870273310830418, 0.006198337271506287, 0.0019097520620981927, 0.2985391756871158, 0.35940542875222287, 0.0009037907148838954, 0.004365640842371933, 0.004182989833813617, 0.008346176371974691, 0.00901843149502594, 0.18293671635730946, 0.0005804816916659611, 0.041718848843037004, 0.2511691722496171, 0.37271699947866654, 0.021366660298222914, 0.4616974923690147, 0.008469021768814821, 0.00033912357176249904, 0.0043857065845880625, 0.00031858122207479764, 0.022338568935427575, 0.019739085183124876, 0.0004915927136060184, 0.00016621628977815528, 0.004698867833900243, 0.0026871633514135105, 0.05506029155278025, 0.004581267438563055, 0.006614023197422428, 0.0011090773097865868, 0.0003758262136636452, 0.006784177155126551, 0.0003858170350897838, 0.1165722084273177, 0.001321603898491209, 0.01899825257830681, 4.743535983515264e-05]}],\n",
       "                        {\"geo\": {\"projection\": {\"type\": \"mercator\"}, \"showframe\": false}, \"template\": {\"data\": {\"bar\": [{\"error_x\": {\"color\": \"#2a3f5f\"}, \"error_y\": {\"color\": \"#2a3f5f\"}, \"marker\": {\"line\": {\"color\": \"#E5ECF6\", \"width\": 0.5}}, \"type\": \"bar\"}], \"barpolar\": [{\"marker\": {\"line\": {\"color\": \"#E5ECF6\", \"width\": 0.5}}, \"type\": \"barpolar\"}], \"carpet\": [{\"aaxis\": {\"endlinecolor\": \"#2a3f5f\", \"gridcolor\": \"white\", \"linecolor\": \"white\", \"minorgridcolor\": \"white\", \"startlinecolor\": \"#2a3f5f\"}, \"baxis\": {\"endlinecolor\": \"#2a3f5f\", \"gridcolor\": \"white\", \"linecolor\": \"white\", \"minorgridcolor\": \"white\", \"startlinecolor\": \"#2a3f5f\"}, \"type\": \"carpet\"}], \"choropleth\": [{\"colorbar\": {\"outlinewidth\": 0, \"ticks\": \"\"}, \"type\": \"choropleth\"}], \"contour\": [{\"colorbar\": {\"outlinewidth\": 0, \"ticks\": \"\"}, \"colorscale\": [[0.0, \"#0d0887\"], [0.1111111111111111, \"#46039f\"], [0.2222222222222222, \"#7201a8\"], [0.3333333333333333, \"#9c179e\"], [0.4444444444444444, \"#bd3786\"], [0.5555555555555556, \"#d8576b\"], [0.6666666666666666, \"#ed7953\"], [0.7777777777777778, \"#fb9f3a\"], [0.8888888888888888, \"#fdca26\"], [1.0, \"#f0f921\"]], \"type\": \"contour\"}], \"contourcarpet\": [{\"colorbar\": {\"outlinewidth\": 0, \"ticks\": \"\"}, \"type\": \"contourcarpet\"}], \"heatmap\": [{\"colorbar\": {\"outlinewidth\": 0, \"ticks\": \"\"}, \"colorscale\": [[0.0, \"#0d0887\"], [0.1111111111111111, \"#46039f\"], [0.2222222222222222, \"#7201a8\"], [0.3333333333333333, \"#9c179e\"], [0.4444444444444444, \"#bd3786\"], [0.5555555555555556, \"#d8576b\"], [0.6666666666666666, \"#ed7953\"], [0.7777777777777778, \"#fb9f3a\"], [0.8888888888888888, \"#fdca26\"], [1.0, \"#f0f921\"]], \"type\": \"heatmap\"}], \"heatmapgl\": [{\"colorbar\": {\"outlinewidth\": 0, \"ticks\": \"\"}, \"colorscale\": [[0.0, \"#0d0887\"], [0.1111111111111111, \"#46039f\"], [0.2222222222222222, \"#7201a8\"], [0.3333333333333333, \"#9c179e\"], [0.4444444444444444, \"#bd3786\"], [0.5555555555555556, \"#d8576b\"], [0.6666666666666666, \"#ed7953\"], [0.7777777777777778, \"#fb9f3a\"], [0.8888888888888888, \"#fdca26\"], [1.0, \"#f0f921\"]], \"type\": \"heatmapgl\"}], \"histogram\": [{\"marker\": {\"colorbar\": {\"outlinewidth\": 0, \"ticks\": \"\"}}, \"type\": \"histogram\"}], \"histogram2d\": [{\"colorbar\": {\"outlinewidth\": 0, \"ticks\": \"\"}, \"colorscale\": [[0.0, \"#0d0887\"], [0.1111111111111111, \"#46039f\"], [0.2222222222222222, \"#7201a8\"], [0.3333333333333333, \"#9c179e\"], [0.4444444444444444, \"#bd3786\"], [0.5555555555555556, \"#d8576b\"], [0.6666666666666666, \"#ed7953\"], [0.7777777777777778, \"#fb9f3a\"], [0.8888888888888888, \"#fdca26\"], [1.0, \"#f0f921\"]], \"type\": \"histogram2d\"}], \"histogram2dcontour\": [{\"colorbar\": {\"outlinewidth\": 0, \"ticks\": \"\"}, \"colorscale\": [[0.0, \"#0d0887\"], [0.1111111111111111, \"#46039f\"], [0.2222222222222222, \"#7201a8\"], [0.3333333333333333, \"#9c179e\"], [0.4444444444444444, \"#bd3786\"], [0.5555555555555556, \"#d8576b\"], [0.6666666666666666, \"#ed7953\"], [0.7777777777777778, \"#fb9f3a\"], [0.8888888888888888, \"#fdca26\"], [1.0, \"#f0f921\"]], \"type\": \"histogram2dcontour\"}], \"mesh3d\": [{\"colorbar\": {\"outlinewidth\": 0, \"ticks\": \"\"}, \"type\": \"mesh3d\"}], \"parcoords\": [{\"line\": {\"colorbar\": {\"outlinewidth\": 0, \"ticks\": \"\"}}, \"type\": \"parcoords\"}], \"pie\": [{\"automargin\": true, \"type\": \"pie\"}], \"scatter\": [{\"marker\": {\"colorbar\": {\"outlinewidth\": 0, \"ticks\": \"\"}}, \"type\": \"scatter\"}], \"scatter3d\": [{\"line\": {\"colorbar\": {\"outlinewidth\": 0, \"ticks\": \"\"}}, \"marker\": {\"colorbar\": {\"outlinewidth\": 0, \"ticks\": \"\"}}, \"type\": \"scatter3d\"}], \"scattercarpet\": [{\"marker\": {\"colorbar\": {\"outlinewidth\": 0, \"ticks\": \"\"}}, \"type\": \"scattercarpet\"}], \"scattergeo\": [{\"marker\": {\"colorbar\": {\"outlinewidth\": 0, \"ticks\": \"\"}}, \"type\": \"scattergeo\"}], \"scattergl\": [{\"marker\": {\"colorbar\": {\"outlinewidth\": 0, \"ticks\": \"\"}}, \"type\": \"scattergl\"}], \"scattermapbox\": [{\"marker\": {\"colorbar\": {\"outlinewidth\": 0, \"ticks\": \"\"}}, \"type\": \"scattermapbox\"}], \"scatterpolar\": [{\"marker\": {\"colorbar\": {\"outlinewidth\": 0, \"ticks\": \"\"}}, \"type\": \"scatterpolar\"}], \"scatterpolargl\": [{\"marker\": {\"colorbar\": {\"outlinewidth\": 0, \"ticks\": \"\"}}, \"type\": \"scatterpolargl\"}], \"scatterternary\": [{\"marker\": {\"colorbar\": {\"outlinewidth\": 0, \"ticks\": \"\"}}, \"type\": \"scatterternary\"}], \"surface\": [{\"colorbar\": {\"outlinewidth\": 0, \"ticks\": \"\"}, \"colorscale\": [[0.0, \"#0d0887\"], [0.1111111111111111, \"#46039f\"], [0.2222222222222222, \"#7201a8\"], [0.3333333333333333, \"#9c179e\"], [0.4444444444444444, \"#bd3786\"], [0.5555555555555556, \"#d8576b\"], [0.6666666666666666, \"#ed7953\"], [0.7777777777777778, \"#fb9f3a\"], [0.8888888888888888, \"#fdca26\"], [1.0, \"#f0f921\"]], \"type\": \"surface\"}], \"table\": [{\"cells\": {\"fill\": {\"color\": \"#EBF0F8\"}, \"line\": {\"color\": \"white\"}}, \"header\": {\"fill\": {\"color\": \"#C8D4E3\"}, \"line\": {\"color\": \"white\"}}, \"type\": \"table\"}]}, \"layout\": {\"annotationdefaults\": {\"arrowcolor\": \"#2a3f5f\", \"arrowhead\": 0, \"arrowwidth\": 1}, \"coloraxis\": {\"colorbar\": {\"outlinewidth\": 0, \"ticks\": \"\"}}, \"colorscale\": {\"diverging\": [[0, \"#8e0152\"], [0.1, \"#c51b7d\"], [0.2, \"#de77ae\"], [0.3, \"#f1b6da\"], [0.4, \"#fde0ef\"], [0.5, \"#f7f7f7\"], [0.6, \"#e6f5d0\"], [0.7, \"#b8e186\"], [0.8, \"#7fbc41\"], [0.9, \"#4d9221\"], [1, \"#276419\"]], \"sequential\": [[0.0, \"#0d0887\"], [0.1111111111111111, \"#46039f\"], [0.2222222222222222, \"#7201a8\"], [0.3333333333333333, \"#9c179e\"], [0.4444444444444444, \"#bd3786\"], [0.5555555555555556, \"#d8576b\"], [0.6666666666666666, \"#ed7953\"], [0.7777777777777778, \"#fb9f3a\"], [0.8888888888888888, \"#fdca26\"], [1.0, \"#f0f921\"]], \"sequentialminus\": [[0.0, \"#0d0887\"], [0.1111111111111111, \"#46039f\"], [0.2222222222222222, \"#7201a8\"], [0.3333333333333333, \"#9c179e\"], [0.4444444444444444, \"#bd3786\"], [0.5555555555555556, \"#d8576b\"], [0.6666666666666666, \"#ed7953\"], [0.7777777777777778, \"#fb9f3a\"], [0.8888888888888888, \"#fdca26\"], [1.0, \"#f0f921\"]]}, \"colorway\": [\"#636efa\", \"#EF553B\", \"#00cc96\", \"#ab63fa\", \"#FFA15A\", \"#19d3f3\", \"#FF6692\", \"#B6E880\", \"#FF97FF\", \"#FECB52\"], \"font\": {\"color\": \"#2a3f5f\"}, \"geo\": {\"bgcolor\": \"white\", \"lakecolor\": \"white\", \"landcolor\": \"#E5ECF6\", \"showlakes\": true, \"showland\": true, \"subunitcolor\": \"white\"}, \"hoverlabel\": {\"align\": \"left\"}, \"hovermode\": \"closest\", \"mapbox\": {\"style\": \"light\"}, \"paper_bgcolor\": \"white\", \"plot_bgcolor\": \"#E5ECF6\", \"polar\": {\"angularaxis\": {\"gridcolor\": \"white\", \"linecolor\": \"white\", \"ticks\": \"\"}, \"bgcolor\": \"#E5ECF6\", \"radialaxis\": {\"gridcolor\": \"white\", \"linecolor\": \"white\", \"ticks\": \"\"}}, \"scene\": {\"xaxis\": {\"backgroundcolor\": \"#E5ECF6\", \"gridcolor\": \"white\", \"gridwidth\": 2, \"linecolor\": \"white\", \"showbackground\": true, \"ticks\": \"\", \"zerolinecolor\": \"white\"}, \"yaxis\": {\"backgroundcolor\": \"#E5ECF6\", \"gridcolor\": \"white\", \"gridwidth\": 2, \"linecolor\": \"white\", \"showbackground\": true, \"ticks\": \"\", \"zerolinecolor\": \"white\"}, \"zaxis\": {\"backgroundcolor\": \"#E5ECF6\", \"gridcolor\": \"white\", \"gridwidth\": 2, \"linecolor\": \"white\", \"showbackground\": true, \"ticks\": \"\", \"zerolinecolor\": \"white\"}}, \"shapedefaults\": {\"line\": {\"color\": \"#2a3f5f\"}}, \"ternary\": {\"aaxis\": {\"gridcolor\": \"white\", \"linecolor\": \"white\", \"ticks\": \"\"}, \"baxis\": {\"gridcolor\": \"white\", \"linecolor\": \"white\", \"ticks\": \"\"}, \"bgcolor\": \"#E5ECF6\", \"caxis\": {\"gridcolor\": \"white\", \"linecolor\": \"white\", \"ticks\": \"\"}}, \"title\": {\"x\": 0.05}, \"xaxis\": {\"automargin\": true, \"gridcolor\": \"white\", \"linecolor\": \"white\", \"ticks\": \"\", \"title\": {\"standoff\": 15}, \"zerolinecolor\": \"white\", \"zerolinewidth\": 2}, \"yaxis\": {\"automargin\": true, \"gridcolor\": \"white\", \"linecolor\": \"white\", \"ticks\": \"\", \"title\": {\"standoff\": 15}, \"zerolinecolor\": \"white\", \"zerolinewidth\": 2}}}, \"title\": {\"text\": \"\\u0417\\u0430\\u0440\\u0430\\u0436\\u0451\\u043d\\u043d\\u044b\\u0435 \\u043f\\u043e \\u043e\\u0442\\u043d\\u043e\\u0448\\u0435\\u043d\\u0438\\u044e \\u043a \\u043d\\u0430\\u0441\\u0435\\u043b\\u0435\\u043d\\u0438\\u044e(%)\"}},\n",
       "                        {\"responsive\": true}\n",
       "                    ).then(function(){\n",
       "                            \n",
       "var gd = document.getElementById('c8dc854e-2033-4cb1-8756-0e4bc5eccf4b');\n",
       "var x = new MutationObserver(function (mutations, observer) {{\n",
       "        var display = window.getComputedStyle(gd).display;\n",
       "        if (!display || display === 'none') {{\n",
       "            console.log([gd, 'removed!']);\n",
       "            Plotly.purge(gd);\n",
       "            observer.disconnect();\n",
       "        }}\n",
       "}});\n",
       "\n",
       "// Listen for the removal of the full notebook cells\n",
       "var notebookContainer = gd.closest('#notebook-container');\n",
       "if (notebookContainer) {{\n",
       "    x.observe(notebookContainer, {childList: true});\n",
       "}}\n",
       "\n",
       "// Listen for the clearing of the current output cell\n",
       "var outputEl = gd.closest('.output');\n",
       "if (outputEl) {{\n",
       "    x.observe(outputEl, {childList: true});\n",
       "}}\n",
       "\n",
       "                        })\n",
       "                };\n",
       "                });\n",
       "            </script>\n",
       "        </div>"
      ]
     },
     "metadata": {},
     "output_type": "display_data"
    }
   ],
   "source": [
    "data = dict(type = 'choropleth', \n",
    "           locations = df_cl['country'],\n",
    "           locationmode = 'country names',\n",
    "           z = df_cl['conf_to_pop'], \n",
    "           text = df_cl['country'],\n",
    "           colorbar = {'title':'Заражённые'})\n",
    "layout = dict(title = 'Заражённые по отношению к населению(%)', \n",
    "             geo = dict(showframe = False, \n",
    "                       projection = {'type': 'mercator'}))\n",
    "choromap3 = go.Figure(data = [data], layout=layout)\n",
    "iplot(choromap3)"
   ]
  },
  {
   "cell_type": "code",
   "execution_count": 426,
   "metadata": {},
   "outputs": [
    {
     "data": {
      "application/vnd.plotly.v1+json": {
       "config": {
        "linkText": "Export to plot.ly",
        "plotlyServerURL": "https://plot.ly",
        "showLink": false
       },
       "data": [
        {
         "colorbar": {
          "title": {
           "text": "Умершие"
          }
         },
         "locationmode": "country names",
         "locations": [
          "Afghanistan",
          "Albania",
          "Algeria",
          "Andorra",
          "Angola",
          "Antigua and Barbuda",
          "Argentina",
          "Armenia",
          "Australia",
          "Austria",
          "Azerbaijan",
          "Bahrain",
          "Bangladesh",
          "Barbados",
          "Belarus",
          "Belgium",
          "Benin",
          "Bhutan",
          "Bolivia",
          "Bosnia and Herzegovina",
          "Brazil",
          "Brunei",
          "Bulgaria",
          "Burkina Faso",
          "Cabo Verde",
          "Cambodia",
          "Cameroon",
          "Canada",
          "Central African Republic",
          "Chad",
          "Chile",
          "China",
          "Colombia",
          "Costa Rica",
          "Cote d'Ivoire",
          "Croatia",
          "Cyprus",
          "Denmark",
          "Dominican Republic",
          "Ecuador",
          "El Salvador",
          "Equatorial Guinea",
          "Estonia",
          "Ethiopia",
          "Fiji",
          "Finland",
          "France",
          "Gabon",
          "Georgia",
          "Germany",
          "Ghana",
          "Greece",
          "Guatemala",
          "Guinea",
          "Guyana",
          "Haiti",
          "Honduras",
          "Hungary",
          "Iceland",
          "India",
          "Indonesia",
          "Iraq",
          "Ireland",
          "Israel",
          "Italy",
          "Jamaica",
          "Japan",
          "Jordan",
          "Kazakhstan",
          "Kenya",
          "Kuwait",
          "Kyrgyzstan",
          "Latvia",
          "Lebanon",
          "Liberia",
          "Lithuania",
          "Luxembourg",
          "Madagascar",
          "Malaysia",
          "Maldives",
          "Malta",
          "Mauritania",
          "Mauritius",
          "Mexico",
          "Moldova",
          "Mongolia",
          "Montenegro",
          "Morocco",
          "Namibia",
          "Nepal",
          "Netherlands",
          "New Zealand",
          "Nicaragua",
          "Niger",
          "Nigeria",
          "Norway",
          "Oman",
          "Pakistan",
          "Panama",
          "Papua New Guinea",
          "Paraguay",
          "Peru",
          "Philippines",
          "Poland",
          "Portugal",
          "Qatar",
          "Romania",
          "Russia",
          "Rwanda",
          "Saint Vincent and the Grenadines",
          "San Marino",
          "Saudi Arabia",
          "Senegal",
          "Serbia",
          "Seychelles",
          "Singapore",
          "Slovenia",
          "Somalia",
          "South Africa",
          "Spain",
          "Sri Lanka",
          "Sudan",
          "Suriname",
          "Sweden",
          "Switzerland",
          "Tanzania",
          "Thailand",
          "Togo",
          "Trinidad and Tobago",
          "Tunisia",
          "Turkey",
          "Uganda",
          "Ukraine",
          "United Arab Emirates",
          "United Kingdom",
          "Uruguay",
          "United States",
          "Uzbekistan",
          "Vietnam",
          "Zambia",
          "Zimbabwe",
          "Dominica",
          "Grenada",
          "Mozambique",
          "Timor-Leste",
          "Belize",
          "West Bank and Gaza",
          "Guinea-Bissau",
          "Mali",
          "Kosovo",
          "Botswana",
          "Burundi",
          "Sierra Leone",
          "Malawi",
          "Sao Tome and Principe",
          "Comoros",
          "Tajikistan",
          "Lesotho"
         ],
         "text": [
          "Afghanistan",
          "Albania",
          "Algeria",
          "Andorra",
          "Angola",
          "Antigua and Barbuda",
          "Argentina",
          "Armenia",
          "Australia",
          "Austria",
          "Azerbaijan",
          "Bahrain",
          "Bangladesh",
          "Barbados",
          "Belarus",
          "Belgium",
          "Benin",
          "Bhutan",
          "Bolivia",
          "Bosnia and Herzegovina",
          "Brazil",
          "Brunei",
          "Bulgaria",
          "Burkina Faso",
          "Cabo Verde",
          "Cambodia",
          "Cameroon",
          "Canada",
          "Central African Republic",
          "Chad",
          "Chile",
          "China",
          "Colombia",
          "Costa Rica",
          "Cote d'Ivoire",
          "Croatia",
          "Cyprus",
          "Denmark",
          "Dominican Republic",
          "Ecuador",
          "El Salvador",
          "Equatorial Guinea",
          "Estonia",
          "Ethiopia",
          "Fiji",
          "Finland",
          "France",
          "Gabon",
          "Georgia",
          "Germany",
          "Ghana",
          "Greece",
          "Guatemala",
          "Guinea",
          "Guyana",
          "Haiti",
          "Honduras",
          "Hungary",
          "Iceland",
          "India",
          "Indonesia",
          "Iraq",
          "Ireland",
          "Israel",
          "Italy",
          "Jamaica",
          "Japan",
          "Jordan",
          "Kazakhstan",
          "Kenya",
          "Kuwait",
          "Kyrgyzstan",
          "Latvia",
          "Lebanon",
          "Liberia",
          "Lithuania",
          "Luxembourg",
          "Madagascar",
          "Malaysia",
          "Maldives",
          "Malta",
          "Mauritania",
          "Mauritius",
          "Mexico",
          "Moldova",
          "Mongolia",
          "Montenegro",
          "Morocco",
          "Namibia",
          "Nepal",
          "Netherlands",
          "New Zealand",
          "Nicaragua",
          "Niger",
          "Nigeria",
          "Norway",
          "Oman",
          "Pakistan",
          "Panama",
          "Papua New Guinea",
          "Paraguay",
          "Peru",
          "Philippines",
          "Poland",
          "Portugal",
          "Qatar",
          "Romania",
          "Russia",
          "Rwanda",
          "Saint Vincent and the Grenadines",
          "San Marino",
          "Saudi Arabia",
          "Senegal",
          "Serbia",
          "Seychelles",
          "Singapore",
          "Slovenia",
          "Somalia",
          "South Africa",
          "Spain",
          "Sri Lanka",
          "Sudan",
          "Suriname",
          "Sweden",
          "Switzerland",
          "Tanzania",
          "Thailand",
          "Togo",
          "Trinidad and Tobago",
          "Tunisia",
          "Turkey",
          "Uganda",
          "Ukraine",
          "United Arab Emirates",
          "United Kingdom",
          "Uruguay",
          "United States",
          "Uzbekistan",
          "Vietnam",
          "Zambia",
          "Zimbabwe",
          "Dominica",
          "Grenada",
          "Mozambique",
          "Timor-Leste",
          "Belize",
          "West Bank and Gaza",
          "Guinea-Bissau",
          "Mali",
          "Kosovo",
          "Botswana",
          "Burundi",
          "Sierra Leone",
          "Malawi",
          "Sao Tome and Principe",
          "Comoros",
          "Tajikistan",
          "Lesotho"
         ],
         "type": "choropleth",
         "z": [
          0.00046539923479757263,
          0.0010815050084148068,
          0.0013142804815211098,
          0.06622860556320287,
          9.737173562067764e-06,
          0.003115717757514073,
          0.0008585330385313673,
          0.0020665524755265983,
          0.0003962744121048944,
          0.007114965283154692,
          0.0004024225839554116,
          0.0007646044223445448,
          0.0002162918736496748,
          0.002442079116386002,
          0.0018031319452872826,
          0.07941744678856136,
          1.7413945505495493e-05,
          0,
          0.001532615376430595,
          0.004001288836193553,
          0.008045569133501752,
          0.0002331208825024128,
          0.0015658280518664885,
          0.0002582077798004054,
          2.077703622226941e-05,
          0,
          0.0005551978274950382,
          0.016082999069155952,
          0,
          0.0003424270102290701,
          0.0025521699851995495,
          0.00033301501367817164,
          0.001192378005580611,
          0.00020002236250012752,
          0.00019391900474118113,
          0.002323964007423964,
          0.001429454326832119,
          0.00945865428894739,
          0.004083873733022871,
          0.016383408518096408,
          0.00046723557269998616,
          0.0005347699801523942,
          0.0048412340002889605,
          4.577725051744086e-06,
          0,
          0.005439192098666944,
          0.042166646582689815,
          0.0005190454282714607,
          0.000322013745156712,
          0.009653126485194964,
          9.742296765947167e-05,
          0.0015374973233569325,
          0.0002029243485853013,
          0.0001288834392674652,
          0.0012836904560181975,
          0.00018879499883846124,
          0.0015228126725550146,
          0.004726070025217982,
          0.002835101964442151,
          0.00023332541544965332,
          0.000444961785684324,
          0.00033044003163898255,
          0.03178347624940188,
          0.0031071283829423157,
          0.05297263767225582,
          0.0003066591024088072,
          0.0005919586877643166,
          9.039765022356845e-05,
          0.0001915454047436493,
          9.728949520567097e-05,
          0.0028520954079088606,
          0.0002214208894793446,
          0.0009858995607039116,
          0.00037962161945122774,
          0.00045652842916660524,
          0.0021059823104624844,
          0.017600131589768895,
          3.8077297523208873e-06,
          0.000358404920487234,
          0.0007756507709968664,
          0.0012380578998411158,
          9.084056821683825e-05,
          0.000790324530962149,
          0.004225348049970177,
          0.0080190713471929,
          0,
          0.0014258125943610697,
          0.000532902008368893,
          0,
          7.120511198588174e-06,
          0.033154158888332286,
          0.00043379467052261935,
          0.00012373341450245325,
          0.0002450658442910441,
          9.751129727089874e-05,
          0.00438636454341522,
          0.0005176537530000623,
          0.0004255118028162285,
          0.0066796380928986826,
          0,
          0.0001581352461756069,
          0.008718552253919255,
          0.0007791702056714927,
          0.0024647956866075483,
          0.011970257750474483,
          0.0005392430537406032,
          0.00575357884162478,
          0.01885169753233911,
          0,
          0,
          0.1213556311972769,
          0.0009495563895100488,
          0.00016399274395182146,
          0.0015998317891147446,
          0,
          0.00039016251332759673,
          0.005014721099535463,
          0.0003797935442293569,
          0.0004949842004850776,
          0.05921164257015583,
          6.233110866680823e-05,
          0.0002511869600571826,
          0.0001736138238271084,
          0.03634321597560504,
          0.022153761434999912,
          3.728802556495443e-05,
          8.065849131403111e-05,
          0.00015210872122958606,
          0.0005755983704810131,
          0.000397744821448891,
          0.005066829427173493,
          0,
          0.0011989462898058013,
          0.002325832764940646,
          0.052476406080594465,
          0.0005798279592462121,
          0.027655481070884315,
          3.9447252953992364e-05,
          0,
          4.0341584877945384e-05,
          2.7702714963025883e-05,
          0,
          0,
          0,
          0,
          0.0005220964259889159,
          1.3851357481512941e-05,
          0.00021341198276271416,
          0.0002725696874202275,
          0.0002008446834819376,
          4.436309239146348e-05,
          8.948243182467742e-06,
          0.0004313638653548674,
          1.6535015789562163e-05,
          0.0033170953617529426,
          0.00012014580895374627,
          0.0004505080137134639,
          0
         ]
        }
       ],
       "layout": {
        "geo": {
         "projection": {
          "type": "mercator"
         },
         "showframe": false
        },
        "template": {
         "data": {
          "bar": [
           {
            "error_x": {
             "color": "#2a3f5f"
            },
            "error_y": {
             "color": "#2a3f5f"
            },
            "marker": {
             "line": {
              "color": "#E5ECF6",
              "width": 0.5
             }
            },
            "type": "bar"
           }
          ],
          "barpolar": [
           {
            "marker": {
             "line": {
              "color": "#E5ECF6",
              "width": 0.5
             }
            },
            "type": "barpolar"
           }
          ],
          "carpet": [
           {
            "aaxis": {
             "endlinecolor": "#2a3f5f",
             "gridcolor": "white",
             "linecolor": "white",
             "minorgridcolor": "white",
             "startlinecolor": "#2a3f5f"
            },
            "baxis": {
             "endlinecolor": "#2a3f5f",
             "gridcolor": "white",
             "linecolor": "white",
             "minorgridcolor": "white",
             "startlinecolor": "#2a3f5f"
            },
            "type": "carpet"
           }
          ],
          "choropleth": [
           {
            "colorbar": {
             "outlinewidth": 0,
             "ticks": ""
            },
            "type": "choropleth"
           }
          ],
          "contour": [
           {
            "colorbar": {
             "outlinewidth": 0,
             "ticks": ""
            },
            "colorscale": [
             [
              0,
              "#0d0887"
             ],
             [
              0.1111111111111111,
              "#46039f"
             ],
             [
              0.2222222222222222,
              "#7201a8"
             ],
             [
              0.3333333333333333,
              "#9c179e"
             ],
             [
              0.4444444444444444,
              "#bd3786"
             ],
             [
              0.5555555555555556,
              "#d8576b"
             ],
             [
              0.6666666666666666,
              "#ed7953"
             ],
             [
              0.7777777777777778,
              "#fb9f3a"
             ],
             [
              0.8888888888888888,
              "#fdca26"
             ],
             [
              1,
              "#f0f921"
             ]
            ],
            "type": "contour"
           }
          ],
          "contourcarpet": [
           {
            "colorbar": {
             "outlinewidth": 0,
             "ticks": ""
            },
            "type": "contourcarpet"
           }
          ],
          "heatmap": [
           {
            "colorbar": {
             "outlinewidth": 0,
             "ticks": ""
            },
            "colorscale": [
             [
              0,
              "#0d0887"
             ],
             [
              0.1111111111111111,
              "#46039f"
             ],
             [
              0.2222222222222222,
              "#7201a8"
             ],
             [
              0.3333333333333333,
              "#9c179e"
             ],
             [
              0.4444444444444444,
              "#bd3786"
             ],
             [
              0.5555555555555556,
              "#d8576b"
             ],
             [
              0.6666666666666666,
              "#ed7953"
             ],
             [
              0.7777777777777778,
              "#fb9f3a"
             ],
             [
              0.8888888888888888,
              "#fdca26"
             ],
             [
              1,
              "#f0f921"
             ]
            ],
            "type": "heatmap"
           }
          ],
          "heatmapgl": [
           {
            "colorbar": {
             "outlinewidth": 0,
             "ticks": ""
            },
            "colorscale": [
             [
              0,
              "#0d0887"
             ],
             [
              0.1111111111111111,
              "#46039f"
             ],
             [
              0.2222222222222222,
              "#7201a8"
             ],
             [
              0.3333333333333333,
              "#9c179e"
             ],
             [
              0.4444444444444444,
              "#bd3786"
             ],
             [
              0.5555555555555556,
              "#d8576b"
             ],
             [
              0.6666666666666666,
              "#ed7953"
             ],
             [
              0.7777777777777778,
              "#fb9f3a"
             ],
             [
              0.8888888888888888,
              "#fdca26"
             ],
             [
              1,
              "#f0f921"
             ]
            ],
            "type": "heatmapgl"
           }
          ],
          "histogram": [
           {
            "marker": {
             "colorbar": {
              "outlinewidth": 0,
              "ticks": ""
             }
            },
            "type": "histogram"
           }
          ],
          "histogram2d": [
           {
            "colorbar": {
             "outlinewidth": 0,
             "ticks": ""
            },
            "colorscale": [
             [
              0,
              "#0d0887"
             ],
             [
              0.1111111111111111,
              "#46039f"
             ],
             [
              0.2222222222222222,
              "#7201a8"
             ],
             [
              0.3333333333333333,
              "#9c179e"
             ],
             [
              0.4444444444444444,
              "#bd3786"
             ],
             [
              0.5555555555555556,
              "#d8576b"
             ],
             [
              0.6666666666666666,
              "#ed7953"
             ],
             [
              0.7777777777777778,
              "#fb9f3a"
             ],
             [
              0.8888888888888888,
              "#fdca26"
             ],
             [
              1,
              "#f0f921"
             ]
            ],
            "type": "histogram2d"
           }
          ],
          "histogram2dcontour": [
           {
            "colorbar": {
             "outlinewidth": 0,
             "ticks": ""
            },
            "colorscale": [
             [
              0,
              "#0d0887"
             ],
             [
              0.1111111111111111,
              "#46039f"
             ],
             [
              0.2222222222222222,
              "#7201a8"
             ],
             [
              0.3333333333333333,
              "#9c179e"
             ],
             [
              0.4444444444444444,
              "#bd3786"
             ],
             [
              0.5555555555555556,
              "#d8576b"
             ],
             [
              0.6666666666666666,
              "#ed7953"
             ],
             [
              0.7777777777777778,
              "#fb9f3a"
             ],
             [
              0.8888888888888888,
              "#fdca26"
             ],
             [
              1,
              "#f0f921"
             ]
            ],
            "type": "histogram2dcontour"
           }
          ],
          "mesh3d": [
           {
            "colorbar": {
             "outlinewidth": 0,
             "ticks": ""
            },
            "type": "mesh3d"
           }
          ],
          "parcoords": [
           {
            "line": {
             "colorbar": {
              "outlinewidth": 0,
              "ticks": ""
             }
            },
            "type": "parcoords"
           }
          ],
          "pie": [
           {
            "automargin": true,
            "type": "pie"
           }
          ],
          "scatter": [
           {
            "marker": {
             "colorbar": {
              "outlinewidth": 0,
              "ticks": ""
             }
            },
            "type": "scatter"
           }
          ],
          "scatter3d": [
           {
            "line": {
             "colorbar": {
              "outlinewidth": 0,
              "ticks": ""
             }
            },
            "marker": {
             "colorbar": {
              "outlinewidth": 0,
              "ticks": ""
             }
            },
            "type": "scatter3d"
           }
          ],
          "scattercarpet": [
           {
            "marker": {
             "colorbar": {
              "outlinewidth": 0,
              "ticks": ""
             }
            },
            "type": "scattercarpet"
           }
          ],
          "scattergeo": [
           {
            "marker": {
             "colorbar": {
              "outlinewidth": 0,
              "ticks": ""
             }
            },
            "type": "scattergeo"
           }
          ],
          "scattergl": [
           {
            "marker": {
             "colorbar": {
              "outlinewidth": 0,
              "ticks": ""
             }
            },
            "type": "scattergl"
           }
          ],
          "scattermapbox": [
           {
            "marker": {
             "colorbar": {
              "outlinewidth": 0,
              "ticks": ""
             }
            },
            "type": "scattermapbox"
           }
          ],
          "scatterpolar": [
           {
            "marker": {
             "colorbar": {
              "outlinewidth": 0,
              "ticks": ""
             }
            },
            "type": "scatterpolar"
           }
          ],
          "scatterpolargl": [
           {
            "marker": {
             "colorbar": {
              "outlinewidth": 0,
              "ticks": ""
             }
            },
            "type": "scatterpolargl"
           }
          ],
          "scatterternary": [
           {
            "marker": {
             "colorbar": {
              "outlinewidth": 0,
              "ticks": ""
             }
            },
            "type": "scatterternary"
           }
          ],
          "surface": [
           {
            "colorbar": {
             "outlinewidth": 0,
             "ticks": ""
            },
            "colorscale": [
             [
              0,
              "#0d0887"
             ],
             [
              0.1111111111111111,
              "#46039f"
             ],
             [
              0.2222222222222222,
              "#7201a8"
             ],
             [
              0.3333333333333333,
              "#9c179e"
             ],
             [
              0.4444444444444444,
              "#bd3786"
             ],
             [
              0.5555555555555556,
              "#d8576b"
             ],
             [
              0.6666666666666666,
              "#ed7953"
             ],
             [
              0.7777777777777778,
              "#fb9f3a"
             ],
             [
              0.8888888888888888,
              "#fdca26"
             ],
             [
              1,
              "#f0f921"
             ]
            ],
            "type": "surface"
           }
          ],
          "table": [
           {
            "cells": {
             "fill": {
              "color": "#EBF0F8"
             },
             "line": {
              "color": "white"
             }
            },
            "header": {
             "fill": {
              "color": "#C8D4E3"
             },
             "line": {
              "color": "white"
             }
            },
            "type": "table"
           }
          ]
         },
         "layout": {
          "annotationdefaults": {
           "arrowcolor": "#2a3f5f",
           "arrowhead": 0,
           "arrowwidth": 1
          },
          "coloraxis": {
           "colorbar": {
            "outlinewidth": 0,
            "ticks": ""
           }
          },
          "colorscale": {
           "diverging": [
            [
             0,
             "#8e0152"
            ],
            [
             0.1,
             "#c51b7d"
            ],
            [
             0.2,
             "#de77ae"
            ],
            [
             0.3,
             "#f1b6da"
            ],
            [
             0.4,
             "#fde0ef"
            ],
            [
             0.5,
             "#f7f7f7"
            ],
            [
             0.6,
             "#e6f5d0"
            ],
            [
             0.7,
             "#b8e186"
            ],
            [
             0.8,
             "#7fbc41"
            ],
            [
             0.9,
             "#4d9221"
            ],
            [
             1,
             "#276419"
            ]
           ],
           "sequential": [
            [
             0,
             "#0d0887"
            ],
            [
             0.1111111111111111,
             "#46039f"
            ],
            [
             0.2222222222222222,
             "#7201a8"
            ],
            [
             0.3333333333333333,
             "#9c179e"
            ],
            [
             0.4444444444444444,
             "#bd3786"
            ],
            [
             0.5555555555555556,
             "#d8576b"
            ],
            [
             0.6666666666666666,
             "#ed7953"
            ],
            [
             0.7777777777777778,
             "#fb9f3a"
            ],
            [
             0.8888888888888888,
             "#fdca26"
            ],
            [
             1,
             "#f0f921"
            ]
           ],
           "sequentialminus": [
            [
             0,
             "#0d0887"
            ],
            [
             0.1111111111111111,
             "#46039f"
            ],
            [
             0.2222222222222222,
             "#7201a8"
            ],
            [
             0.3333333333333333,
             "#9c179e"
            ],
            [
             0.4444444444444444,
             "#bd3786"
            ],
            [
             0.5555555555555556,
             "#d8576b"
            ],
            [
             0.6666666666666666,
             "#ed7953"
            ],
            [
             0.7777777777777778,
             "#fb9f3a"
            ],
            [
             0.8888888888888888,
             "#fdca26"
            ],
            [
             1,
             "#f0f921"
            ]
           ]
          },
          "colorway": [
           "#636efa",
           "#EF553B",
           "#00cc96",
           "#ab63fa",
           "#FFA15A",
           "#19d3f3",
           "#FF6692",
           "#B6E880",
           "#FF97FF",
           "#FECB52"
          ],
          "font": {
           "color": "#2a3f5f"
          },
          "geo": {
           "bgcolor": "white",
           "lakecolor": "white",
           "landcolor": "#E5ECF6",
           "showlakes": true,
           "showland": true,
           "subunitcolor": "white"
          },
          "hoverlabel": {
           "align": "left"
          },
          "hovermode": "closest",
          "mapbox": {
           "style": "light"
          },
          "paper_bgcolor": "white",
          "plot_bgcolor": "#E5ECF6",
          "polar": {
           "angularaxis": {
            "gridcolor": "white",
            "linecolor": "white",
            "ticks": ""
           },
           "bgcolor": "#E5ECF6",
           "radialaxis": {
            "gridcolor": "white",
            "linecolor": "white",
            "ticks": ""
           }
          },
          "scene": {
           "xaxis": {
            "backgroundcolor": "#E5ECF6",
            "gridcolor": "white",
            "gridwidth": 2,
            "linecolor": "white",
            "showbackground": true,
            "ticks": "",
            "zerolinecolor": "white"
           },
           "yaxis": {
            "backgroundcolor": "#E5ECF6",
            "gridcolor": "white",
            "gridwidth": 2,
            "linecolor": "white",
            "showbackground": true,
            "ticks": "",
            "zerolinecolor": "white"
           },
           "zaxis": {
            "backgroundcolor": "#E5ECF6",
            "gridcolor": "white",
            "gridwidth": 2,
            "linecolor": "white",
            "showbackground": true,
            "ticks": "",
            "zerolinecolor": "white"
           }
          },
          "shapedefaults": {
           "line": {
            "color": "#2a3f5f"
           }
          },
          "ternary": {
           "aaxis": {
            "gridcolor": "white",
            "linecolor": "white",
            "ticks": ""
           },
           "baxis": {
            "gridcolor": "white",
            "linecolor": "white",
            "ticks": ""
           },
           "bgcolor": "#E5ECF6",
           "caxis": {
            "gridcolor": "white",
            "linecolor": "white",
            "ticks": ""
           }
          },
          "title": {
           "x": 0.05
          },
          "xaxis": {
           "automargin": true,
           "gridcolor": "white",
           "linecolor": "white",
           "ticks": "",
           "title": {
            "standoff": 15
           },
           "zerolinecolor": "white",
           "zerolinewidth": 2
          },
          "yaxis": {
           "automargin": true,
           "gridcolor": "white",
           "linecolor": "white",
           "ticks": "",
           "title": {
            "standoff": 15
           },
           "zerolinecolor": "white",
           "zerolinewidth": 2
          }
         }
        },
        "title": {
         "text": "Умершие по отношению к населению(%)"
        }
       }
      },
      "text/html": [
       "<div>\n",
       "        \n",
       "        \n",
       "            <div id=\"e34a5ecd-c09b-4530-a08b-bff1bc43b490\" class=\"plotly-graph-div\" style=\"height:525px; width:100%;\"></div>\n",
       "            <script type=\"text/javascript\">\n",
       "                require([\"plotly\"], function(Plotly) {\n",
       "                    window.PLOTLYENV=window.PLOTLYENV || {};\n",
       "                    \n",
       "                if (document.getElementById(\"e34a5ecd-c09b-4530-a08b-bff1bc43b490\")) {\n",
       "                    Plotly.newPlot(\n",
       "                        'e34a5ecd-c09b-4530-a08b-bff1bc43b490',\n",
       "                        [{\"colorbar\": {\"title\": {\"text\": \"\\u0423\\u043c\\u0435\\u0440\\u0448\\u0438\\u0435\"}}, \"locationmode\": \"country names\", \"locations\": [\"Afghanistan\", \"Albania\", \"Algeria\", \"Andorra\", \"Angola\", \"Antigua and Barbuda\", \"Argentina\", \"Armenia\", \"Australia\", \"Austria\", \"Azerbaijan\", \"Bahrain\", \"Bangladesh\", \"Barbados\", \"Belarus\", \"Belgium\", \"Benin\", \"Bhutan\", \"Bolivia\", \"Bosnia and Herzegovina\", \"Brazil\", \"Brunei\", \"Bulgaria\", \"Burkina Faso\", \"Cabo Verde\", \"Cambodia\", \"Cameroon\", \"Canada\", \"Central African Republic\", \"Chad\", \"Chile\", \"China\", \"Colombia\", \"Costa Rica\", \"Cote d'Ivoire\", \"Croatia\", \"Cyprus\", \"Denmark\", \"Dominican Republic\", \"Ecuador\", \"El Salvador\", \"Equatorial Guinea\", \"Estonia\", \"Ethiopia\", \"Fiji\", \"Finland\", \"France\", \"Gabon\", \"Georgia\", \"Germany\", \"Ghana\", \"Greece\", \"Guatemala\", \"Guinea\", \"Guyana\", \"Haiti\", \"Honduras\", \"Hungary\", \"Iceland\", \"India\", \"Indonesia\", \"Iraq\", \"Ireland\", \"Israel\", \"Italy\", \"Jamaica\", \"Japan\", \"Jordan\", \"Kazakhstan\", \"Kenya\", \"Kuwait\", \"Kyrgyzstan\", \"Latvia\", \"Lebanon\", \"Liberia\", \"Lithuania\", \"Luxembourg\", \"Madagascar\", \"Malaysia\", \"Maldives\", \"Malta\", \"Mauritania\", \"Mauritius\", \"Mexico\", \"Moldova\", \"Mongolia\", \"Montenegro\", \"Morocco\", \"Namibia\", \"Nepal\", \"Netherlands\", \"New Zealand\", \"Nicaragua\", \"Niger\", \"Nigeria\", \"Norway\", \"Oman\", \"Pakistan\", \"Panama\", \"Papua New Guinea\", \"Paraguay\", \"Peru\", \"Philippines\", \"Poland\", \"Portugal\", \"Qatar\", \"Romania\", \"Russia\", \"Rwanda\", \"Saint Vincent and the Grenadines\", \"San Marino\", \"Saudi Arabia\", \"Senegal\", \"Serbia\", \"Seychelles\", \"Singapore\", \"Slovenia\", \"Somalia\", \"South Africa\", \"Spain\", \"Sri Lanka\", \"Sudan\", \"Suriname\", \"Sweden\", \"Switzerland\", \"Tanzania\", \"Thailand\", \"Togo\", \"Trinidad and Tobago\", \"Tunisia\", \"Turkey\", \"Uganda\", \"Ukraine\", \"United Arab Emirates\", \"United Kingdom\", \"Uruguay\", \"United States\", \"Uzbekistan\", \"Vietnam\", \"Zambia\", \"Zimbabwe\", \"Dominica\", \"Grenada\", \"Mozambique\", \"Timor-Leste\", \"Belize\", \"West Bank and Gaza\", \"Guinea-Bissau\", \"Mali\", \"Kosovo\", \"Botswana\", \"Burundi\", \"Sierra Leone\", \"Malawi\", \"Sao Tome and Principe\", \"Comoros\", \"Tajikistan\", \"Lesotho\"], \"text\": [\"Afghanistan\", \"Albania\", \"Algeria\", \"Andorra\", \"Angola\", \"Antigua and Barbuda\", \"Argentina\", \"Armenia\", \"Australia\", \"Austria\", \"Azerbaijan\", \"Bahrain\", \"Bangladesh\", \"Barbados\", \"Belarus\", \"Belgium\", \"Benin\", \"Bhutan\", \"Bolivia\", \"Bosnia and Herzegovina\", \"Brazil\", \"Brunei\", \"Bulgaria\", \"Burkina Faso\", \"Cabo Verde\", \"Cambodia\", \"Cameroon\", \"Canada\", \"Central African Republic\", \"Chad\", \"Chile\", \"China\", \"Colombia\", \"Costa Rica\", \"Cote d'Ivoire\", \"Croatia\", \"Cyprus\", \"Denmark\", \"Dominican Republic\", \"Ecuador\", \"El Salvador\", \"Equatorial Guinea\", \"Estonia\", \"Ethiopia\", \"Fiji\", \"Finland\", \"France\", \"Gabon\", \"Georgia\", \"Germany\", \"Ghana\", \"Greece\", \"Guatemala\", \"Guinea\", \"Guyana\", \"Haiti\", \"Honduras\", \"Hungary\", \"Iceland\", \"India\", \"Indonesia\", \"Iraq\", \"Ireland\", \"Israel\", \"Italy\", \"Jamaica\", \"Japan\", \"Jordan\", \"Kazakhstan\", \"Kenya\", \"Kuwait\", \"Kyrgyzstan\", \"Latvia\", \"Lebanon\", \"Liberia\", \"Lithuania\", \"Luxembourg\", \"Madagascar\", \"Malaysia\", \"Maldives\", \"Malta\", \"Mauritania\", \"Mauritius\", \"Mexico\", \"Moldova\", \"Mongolia\", \"Montenegro\", \"Morocco\", \"Namibia\", \"Nepal\", \"Netherlands\", \"New Zealand\", \"Nicaragua\", \"Niger\", \"Nigeria\", \"Norway\", \"Oman\", \"Pakistan\", \"Panama\", \"Papua New Guinea\", \"Paraguay\", \"Peru\", \"Philippines\", \"Poland\", \"Portugal\", \"Qatar\", \"Romania\", \"Russia\", \"Rwanda\", \"Saint Vincent and the Grenadines\", \"San Marino\", \"Saudi Arabia\", \"Senegal\", \"Serbia\", \"Seychelles\", \"Singapore\", \"Slovenia\", \"Somalia\", \"South Africa\", \"Spain\", \"Sri Lanka\", \"Sudan\", \"Suriname\", \"Sweden\", \"Switzerland\", \"Tanzania\", \"Thailand\", \"Togo\", \"Trinidad and Tobago\", \"Tunisia\", \"Turkey\", \"Uganda\", \"Ukraine\", \"United Arab Emirates\", \"United Kingdom\", \"Uruguay\", \"United States\", \"Uzbekistan\", \"Vietnam\", \"Zambia\", \"Zimbabwe\", \"Dominica\", \"Grenada\", \"Mozambique\", \"Timor-Leste\", \"Belize\", \"West Bank and Gaza\", \"Guinea-Bissau\", \"Mali\", \"Kosovo\", \"Botswana\", \"Burundi\", \"Sierra Leone\", \"Malawi\", \"Sao Tome and Principe\", \"Comoros\", \"Tajikistan\", \"Lesotho\"], \"type\": \"choropleth\", \"z\": [0.00046539923479757263, 0.0010815050084148068, 0.0013142804815211098, 0.06622860556320287, 9.737173562067764e-06, 0.003115717757514073, 0.0008585330385313673, 0.0020665524755265983, 0.0003962744121048944, 0.007114965283154692, 0.0004024225839554116, 0.0007646044223445448, 0.0002162918736496748, 0.002442079116386002, 0.0018031319452872826, 0.07941744678856136, 1.7413945505495493e-05, 0.0, 0.001532615376430595, 0.004001288836193553, 0.008045569133501752, 0.0002331208825024128, 0.0015658280518664885, 0.0002582077798004054, 2.077703622226941e-05, 0.0, 0.0005551978274950382, 0.016082999069155952, 0.0, 0.0003424270102290701, 0.0025521699851995495, 0.00033301501367817164, 0.001192378005580611, 0.00020002236250012752, 0.00019391900474118113, 0.002323964007423964, 0.001429454326832119, 0.00945865428894739, 0.004083873733022871, 0.016383408518096408, 0.00046723557269998616, 0.0005347699801523942, 0.0048412340002889605, 4.577725051744086e-06, 0.0, 0.005439192098666944, 0.042166646582689815, 0.0005190454282714607, 0.000322013745156712, 0.009653126485194964, 9.742296765947167e-05, 0.0015374973233569325, 0.0002029243485853013, 0.0001288834392674652, 0.0012836904560181975, 0.00018879499883846124, 0.0015228126725550146, 0.004726070025217982, 0.002835101964442151, 0.00023332541544965332, 0.000444961785684324, 0.00033044003163898255, 0.03178347624940188, 0.0031071283829423157, 0.05297263767225582, 0.0003066591024088072, 0.0005919586877643166, 9.039765022356845e-05, 0.0001915454047436493, 9.728949520567097e-05, 0.0028520954079088606, 0.0002214208894793446, 0.0009858995607039116, 0.00037962161945122774, 0.00045652842916660524, 0.0021059823104624844, 0.017600131589768895, 3.8077297523208873e-06, 0.000358404920487234, 0.0007756507709968664, 0.0012380578998411158, 9.084056821683825e-05, 0.000790324530962149, 0.004225348049970177, 0.0080190713471929, 0.0, 0.0014258125943610697, 0.000532902008368893, 0.0, 7.120511198588174e-06, 0.033154158888332286, 0.00043379467052261935, 0.00012373341450245325, 0.0002450658442910441, 9.751129727089874e-05, 0.00438636454341522, 0.0005176537530000623, 0.0004255118028162285, 0.0066796380928986826, 0.0, 0.0001581352461756069, 0.008718552253919255, 0.0007791702056714927, 0.0024647956866075483, 0.011970257750474483, 0.0005392430537406032, 0.00575357884162478, 0.01885169753233911, 0.0, 0.0, 0.1213556311972769, 0.0009495563895100488, 0.00016399274395182146, 0.0015998317891147446, 0.0, 0.00039016251332759673, 0.005014721099535463, 0.0003797935442293569, 0.0004949842004850776, 0.05921164257015583, 6.233110866680823e-05, 0.0002511869600571826, 0.0001736138238271084, 0.03634321597560504, 0.022153761434999912, 3.728802556495443e-05, 8.065849131403111e-05, 0.00015210872122958606, 0.0005755983704810131, 0.000397744821448891, 0.005066829427173493, 0.0, 0.0011989462898058013, 0.002325832764940646, 0.052476406080594465, 0.0005798279592462121, 0.027655481070884315, 3.9447252953992364e-05, 0.0, 4.0341584877945384e-05, 2.7702714963025883e-05, 0.0, 0.0, 0.0, 0.0, 0.0005220964259889159, 1.3851357481512941e-05, 0.00021341198276271416, 0.0002725696874202275, 0.0002008446834819376, 4.436309239146348e-05, 8.948243182467742e-06, 0.0004313638653548674, 1.6535015789562163e-05, 0.0033170953617529426, 0.00012014580895374627, 0.0004505080137134639, 0.0]}],\n",
       "                        {\"geo\": {\"projection\": {\"type\": \"mercator\"}, \"showframe\": false}, \"template\": {\"data\": {\"bar\": [{\"error_x\": {\"color\": \"#2a3f5f\"}, \"error_y\": {\"color\": \"#2a3f5f\"}, \"marker\": {\"line\": {\"color\": \"#E5ECF6\", \"width\": 0.5}}, \"type\": \"bar\"}], \"barpolar\": [{\"marker\": {\"line\": {\"color\": \"#E5ECF6\", \"width\": 0.5}}, \"type\": \"barpolar\"}], \"carpet\": [{\"aaxis\": {\"endlinecolor\": \"#2a3f5f\", \"gridcolor\": \"white\", \"linecolor\": \"white\", \"minorgridcolor\": \"white\", \"startlinecolor\": \"#2a3f5f\"}, \"baxis\": {\"endlinecolor\": \"#2a3f5f\", \"gridcolor\": \"white\", \"linecolor\": \"white\", \"minorgridcolor\": \"white\", \"startlinecolor\": \"#2a3f5f\"}, \"type\": \"carpet\"}], \"choropleth\": [{\"colorbar\": {\"outlinewidth\": 0, \"ticks\": \"\"}, \"type\": \"choropleth\"}], \"contour\": [{\"colorbar\": {\"outlinewidth\": 0, \"ticks\": \"\"}, \"colorscale\": [[0.0, \"#0d0887\"], [0.1111111111111111, \"#46039f\"], [0.2222222222222222, \"#7201a8\"], [0.3333333333333333, \"#9c179e\"], [0.4444444444444444, \"#bd3786\"], [0.5555555555555556, \"#d8576b\"], [0.6666666666666666, \"#ed7953\"], [0.7777777777777778, \"#fb9f3a\"], [0.8888888888888888, \"#fdca26\"], [1.0, \"#f0f921\"]], \"type\": \"contour\"}], \"contourcarpet\": [{\"colorbar\": {\"outlinewidth\": 0, \"ticks\": \"\"}, \"type\": \"contourcarpet\"}], \"heatmap\": [{\"colorbar\": {\"outlinewidth\": 0, \"ticks\": \"\"}, \"colorscale\": [[0.0, \"#0d0887\"], [0.1111111111111111, \"#46039f\"], [0.2222222222222222, \"#7201a8\"], [0.3333333333333333, \"#9c179e\"], [0.4444444444444444, \"#bd3786\"], [0.5555555555555556, \"#d8576b\"], [0.6666666666666666, \"#ed7953\"], [0.7777777777777778, \"#fb9f3a\"], [0.8888888888888888, \"#fdca26\"], [1.0, \"#f0f921\"]], \"type\": \"heatmap\"}], \"heatmapgl\": [{\"colorbar\": {\"outlinewidth\": 0, \"ticks\": \"\"}, \"colorscale\": [[0.0, \"#0d0887\"], [0.1111111111111111, \"#46039f\"], [0.2222222222222222, \"#7201a8\"], [0.3333333333333333, \"#9c179e\"], [0.4444444444444444, \"#bd3786\"], [0.5555555555555556, \"#d8576b\"], [0.6666666666666666, \"#ed7953\"], [0.7777777777777778, \"#fb9f3a\"], [0.8888888888888888, \"#fdca26\"], [1.0, \"#f0f921\"]], \"type\": \"heatmapgl\"}], \"histogram\": [{\"marker\": {\"colorbar\": {\"outlinewidth\": 0, \"ticks\": \"\"}}, \"type\": \"histogram\"}], \"histogram2d\": [{\"colorbar\": {\"outlinewidth\": 0, \"ticks\": \"\"}, \"colorscale\": [[0.0, \"#0d0887\"], [0.1111111111111111, \"#46039f\"], [0.2222222222222222, \"#7201a8\"], [0.3333333333333333, \"#9c179e\"], [0.4444444444444444, \"#bd3786\"], [0.5555555555555556, \"#d8576b\"], [0.6666666666666666, \"#ed7953\"], [0.7777777777777778, \"#fb9f3a\"], [0.8888888888888888, \"#fdca26\"], [1.0, \"#f0f921\"]], \"type\": \"histogram2d\"}], \"histogram2dcontour\": [{\"colorbar\": {\"outlinewidth\": 0, \"ticks\": \"\"}, \"colorscale\": [[0.0, \"#0d0887\"], [0.1111111111111111, \"#46039f\"], [0.2222222222222222, \"#7201a8\"], [0.3333333333333333, \"#9c179e\"], [0.4444444444444444, \"#bd3786\"], [0.5555555555555556, \"#d8576b\"], [0.6666666666666666, \"#ed7953\"], [0.7777777777777778, \"#fb9f3a\"], [0.8888888888888888, \"#fdca26\"], [1.0, \"#f0f921\"]], \"type\": \"histogram2dcontour\"}], \"mesh3d\": [{\"colorbar\": {\"outlinewidth\": 0, \"ticks\": \"\"}, \"type\": \"mesh3d\"}], \"parcoords\": [{\"line\": {\"colorbar\": {\"outlinewidth\": 0, \"ticks\": \"\"}}, \"type\": \"parcoords\"}], \"pie\": [{\"automargin\": true, \"type\": \"pie\"}], \"scatter\": [{\"marker\": {\"colorbar\": {\"outlinewidth\": 0, \"ticks\": \"\"}}, \"type\": \"scatter\"}], \"scatter3d\": [{\"line\": {\"colorbar\": {\"outlinewidth\": 0, \"ticks\": \"\"}}, \"marker\": {\"colorbar\": {\"outlinewidth\": 0, \"ticks\": \"\"}}, \"type\": \"scatter3d\"}], \"scattercarpet\": [{\"marker\": {\"colorbar\": {\"outlinewidth\": 0, \"ticks\": \"\"}}, \"type\": \"scattercarpet\"}], \"scattergeo\": [{\"marker\": {\"colorbar\": {\"outlinewidth\": 0, \"ticks\": \"\"}}, \"type\": \"scattergeo\"}], \"scattergl\": [{\"marker\": {\"colorbar\": {\"outlinewidth\": 0, \"ticks\": \"\"}}, \"type\": \"scattergl\"}], \"scattermapbox\": [{\"marker\": {\"colorbar\": {\"outlinewidth\": 0, \"ticks\": \"\"}}, \"type\": \"scattermapbox\"}], \"scatterpolar\": [{\"marker\": {\"colorbar\": {\"outlinewidth\": 0, \"ticks\": \"\"}}, \"type\": \"scatterpolar\"}], \"scatterpolargl\": [{\"marker\": {\"colorbar\": {\"outlinewidth\": 0, \"ticks\": \"\"}}, \"type\": \"scatterpolargl\"}], \"scatterternary\": [{\"marker\": {\"colorbar\": {\"outlinewidth\": 0, \"ticks\": \"\"}}, \"type\": \"scatterternary\"}], \"surface\": [{\"colorbar\": {\"outlinewidth\": 0, \"ticks\": \"\"}, \"colorscale\": [[0.0, \"#0d0887\"], [0.1111111111111111, \"#46039f\"], [0.2222222222222222, \"#7201a8\"], [0.3333333333333333, \"#9c179e\"], [0.4444444444444444, \"#bd3786\"], [0.5555555555555556, \"#d8576b\"], [0.6666666666666666, \"#ed7953\"], [0.7777777777777778, \"#fb9f3a\"], [0.8888888888888888, \"#fdca26\"], [1.0, \"#f0f921\"]], \"type\": \"surface\"}], \"table\": [{\"cells\": {\"fill\": {\"color\": \"#EBF0F8\"}, \"line\": {\"color\": \"white\"}}, \"header\": {\"fill\": {\"color\": \"#C8D4E3\"}, \"line\": {\"color\": \"white\"}}, \"type\": \"table\"}]}, \"layout\": {\"annotationdefaults\": {\"arrowcolor\": \"#2a3f5f\", \"arrowhead\": 0, \"arrowwidth\": 1}, \"coloraxis\": {\"colorbar\": {\"outlinewidth\": 0, \"ticks\": \"\"}}, \"colorscale\": {\"diverging\": [[0, \"#8e0152\"], [0.1, \"#c51b7d\"], [0.2, \"#de77ae\"], [0.3, \"#f1b6da\"], [0.4, \"#fde0ef\"], [0.5, \"#f7f7f7\"], [0.6, \"#e6f5d0\"], [0.7, \"#b8e186\"], [0.8, \"#7fbc41\"], [0.9, \"#4d9221\"], [1, \"#276419\"]], \"sequential\": [[0.0, \"#0d0887\"], [0.1111111111111111, \"#46039f\"], [0.2222222222222222, \"#7201a8\"], [0.3333333333333333, \"#9c179e\"], [0.4444444444444444, \"#bd3786\"], [0.5555555555555556, \"#d8576b\"], [0.6666666666666666, \"#ed7953\"], [0.7777777777777778, \"#fb9f3a\"], [0.8888888888888888, \"#fdca26\"], [1.0, \"#f0f921\"]], \"sequentialminus\": [[0.0, \"#0d0887\"], [0.1111111111111111, \"#46039f\"], [0.2222222222222222, \"#7201a8\"], [0.3333333333333333, \"#9c179e\"], [0.4444444444444444, \"#bd3786\"], [0.5555555555555556, \"#d8576b\"], [0.6666666666666666, \"#ed7953\"], [0.7777777777777778, \"#fb9f3a\"], [0.8888888888888888, \"#fdca26\"], [1.0, \"#f0f921\"]]}, \"colorway\": [\"#636efa\", \"#EF553B\", \"#00cc96\", \"#ab63fa\", \"#FFA15A\", \"#19d3f3\", \"#FF6692\", \"#B6E880\", \"#FF97FF\", \"#FECB52\"], \"font\": {\"color\": \"#2a3f5f\"}, \"geo\": {\"bgcolor\": \"white\", \"lakecolor\": \"white\", \"landcolor\": \"#E5ECF6\", \"showlakes\": true, \"showland\": true, \"subunitcolor\": \"white\"}, \"hoverlabel\": {\"align\": \"left\"}, \"hovermode\": \"closest\", \"mapbox\": {\"style\": \"light\"}, \"paper_bgcolor\": \"white\", \"plot_bgcolor\": \"#E5ECF6\", \"polar\": {\"angularaxis\": {\"gridcolor\": \"white\", \"linecolor\": \"white\", \"ticks\": \"\"}, \"bgcolor\": \"#E5ECF6\", \"radialaxis\": {\"gridcolor\": \"white\", \"linecolor\": \"white\", \"ticks\": \"\"}}, \"scene\": {\"xaxis\": {\"backgroundcolor\": \"#E5ECF6\", \"gridcolor\": \"white\", \"gridwidth\": 2, \"linecolor\": \"white\", \"showbackground\": true, \"ticks\": \"\", \"zerolinecolor\": \"white\"}, \"yaxis\": {\"backgroundcolor\": \"#E5ECF6\", \"gridcolor\": \"white\", \"gridwidth\": 2, \"linecolor\": \"white\", \"showbackground\": true, \"ticks\": \"\", \"zerolinecolor\": \"white\"}, \"zaxis\": {\"backgroundcolor\": \"#E5ECF6\", \"gridcolor\": \"white\", \"gridwidth\": 2, \"linecolor\": \"white\", \"showbackground\": true, \"ticks\": \"\", \"zerolinecolor\": \"white\"}}, \"shapedefaults\": {\"line\": {\"color\": \"#2a3f5f\"}}, \"ternary\": {\"aaxis\": {\"gridcolor\": \"white\", \"linecolor\": \"white\", \"ticks\": \"\"}, \"baxis\": {\"gridcolor\": \"white\", \"linecolor\": \"white\", \"ticks\": \"\"}, \"bgcolor\": \"#E5ECF6\", \"caxis\": {\"gridcolor\": \"white\", \"linecolor\": \"white\", \"ticks\": \"\"}}, \"title\": {\"x\": 0.05}, \"xaxis\": {\"automargin\": true, \"gridcolor\": \"white\", \"linecolor\": \"white\", \"ticks\": \"\", \"title\": {\"standoff\": 15}, \"zerolinecolor\": \"white\", \"zerolinewidth\": 2}, \"yaxis\": {\"automargin\": true, \"gridcolor\": \"white\", \"linecolor\": \"white\", \"ticks\": \"\", \"title\": {\"standoff\": 15}, \"zerolinecolor\": \"white\", \"zerolinewidth\": 2}}}, \"title\": {\"text\": \"\\u0423\\u043c\\u0435\\u0440\\u0448\\u0438\\u0435 \\u043f\\u043e \\u043e\\u0442\\u043d\\u043e\\u0448\\u0435\\u043d\\u0438\\u044e \\u043a \\u043d\\u0430\\u0441\\u0435\\u043b\\u0435\\u043d\\u0438\\u044e(%)\"}},\n",
       "                        {\"responsive\": true}\n",
       "                    ).then(function(){\n",
       "                            \n",
       "var gd = document.getElementById('e34a5ecd-c09b-4530-a08b-bff1bc43b490');\n",
       "var x = new MutationObserver(function (mutations, observer) {{\n",
       "        var display = window.getComputedStyle(gd).display;\n",
       "        if (!display || display === 'none') {{\n",
       "            console.log([gd, 'removed!']);\n",
       "            Plotly.purge(gd);\n",
       "            observer.disconnect();\n",
       "        }}\n",
       "}});\n",
       "\n",
       "// Listen for the removal of the full notebook cells\n",
       "var notebookContainer = gd.closest('#notebook-container');\n",
       "if (notebookContainer) {{\n",
       "    x.observe(notebookContainer, {childList: true});\n",
       "}}\n",
       "\n",
       "// Listen for the clearing of the current output cell\n",
       "var outputEl = gd.closest('.output');\n",
       "if (outputEl) {{\n",
       "    x.observe(outputEl, {childList: true});\n",
       "}}\n",
       "\n",
       "                        })\n",
       "                };\n",
       "                });\n",
       "            </script>\n",
       "        </div>"
      ]
     },
     "metadata": {},
     "output_type": "display_data"
    }
   ],
   "source": [
    "data = dict(type = 'choropleth', \n",
    "           locations = df_cl['country'],\n",
    "           locationmode = 'country names',\n",
    "           z = df_cl['dead_to_pop'], \n",
    "           text = df_cl['country'],\n",
    "           colorbar = {'title':'Умершие'})\n",
    "layout = dict(title = 'Умершие по отношению к населению(%)', \n",
    "             geo = dict(showframe = False, \n",
    "                       projection = {'type': 'mercator'}))\n",
    "choromap3 = go.Figure(data = [data], layout=layout)\n",
    "iplot(choromap3)"
   ]
  },
  {
   "cell_type": "code",
   "execution_count": 440,
   "metadata": {},
   "outputs": [
    {
     "data": {
      "application/vnd.plotly.v1+json": {
       "config": {
        "linkText": "Export to plot.ly",
        "plotlyServerURL": "https://plot.ly",
        "showLink": false
       },
       "data": [
        {
         "colorbar": {
          "title": {
           "text": "ВВП(млрд. долларов)"
          }
         },
         "locationmode": "country names",
         "locations": [
          "Afghanistan",
          "Albania",
          "Algeria",
          "Andorra",
          "Angola",
          "Antigua and Barbuda",
          "Argentina",
          "Armenia",
          "Australia",
          "Austria",
          "Azerbaijan",
          "Bahrain",
          "Bangladesh",
          "Barbados",
          "Belarus",
          "Belgium",
          "Benin",
          "Bhutan",
          "Bolivia",
          "Bosnia and Herzegovina",
          "Brazil",
          "Brunei",
          "Bulgaria",
          "Burkina Faso",
          "Cabo Verde",
          "Cambodia",
          "Cameroon",
          "Canada",
          "Central African Republic",
          "Chad",
          "Chile",
          "China",
          "Colombia",
          "Costa Rica",
          "Cote d'Ivoire",
          "Croatia",
          "Cyprus",
          "Denmark",
          "Dominican Republic",
          "Ecuador",
          "El Salvador",
          "Equatorial Guinea",
          "Estonia",
          "Ethiopia",
          "Fiji",
          "Finland",
          "France",
          "Gabon",
          "Georgia",
          "Germany",
          "Ghana",
          "Greece",
          "Guatemala",
          "Guinea",
          "Guyana",
          "Haiti",
          "Honduras",
          "Hungary",
          "Iceland",
          "India",
          "Indonesia",
          "Iraq",
          "Ireland",
          "Israel",
          "Italy",
          "Jamaica",
          "Japan",
          "Jordan",
          "Kazakhstan",
          "Kenya",
          "Kuwait",
          "Kyrgyzstan",
          "Latvia",
          "Lebanon",
          "Liberia",
          "Lithuania",
          "Luxembourg",
          "Madagascar",
          "Malaysia",
          "Maldives",
          "Malta",
          "Mauritania",
          "Mauritius",
          "Mexico",
          "Moldova",
          "Mongolia",
          "Montenegro",
          "Morocco",
          "Namibia",
          "Nepal",
          "Netherlands",
          "New Zealand",
          "Nicaragua",
          "Niger",
          "Nigeria",
          "Norway",
          "Oman",
          "Pakistan",
          "Panama",
          "Papua New Guinea",
          "Paraguay",
          "Peru",
          "Philippines",
          "Poland",
          "Portugal",
          "Qatar",
          "Romania",
          "Russia",
          "Rwanda",
          "Saint Vincent and the Grenadines",
          "San Marino",
          "Saudi Arabia",
          "Senegal",
          "Serbia",
          "Seychelles",
          "Singapore",
          "Slovenia",
          "Somalia",
          "South Africa",
          "Spain",
          "Sri Lanka",
          "Sudan",
          "Suriname",
          "Sweden",
          "Switzerland",
          "Tanzania",
          "Thailand",
          "Togo",
          "Trinidad and Tobago",
          "Tunisia",
          "Turkey",
          "Uganda",
          "Ukraine",
          "United Arab Emirates",
          "United Kingdom",
          "Uruguay",
          "United States",
          "Uzbekistan",
          "Vietnam",
          "Zambia",
          "Zimbabwe",
          "Dominica",
          "Grenada",
          "Mozambique",
          "Timor-Leste",
          "Belize",
          "West Bank and Gaza",
          "Guinea-Bissau",
          "Mali",
          "Kosovo",
          "Botswana",
          "Burundi",
          "Sierra Leone",
          "Malawi",
          "Sao Tome and Principe",
          "Comoros",
          "Tajikistan",
          "Lesotho"
         ],
         "text": [
          "Afghanistan",
          "Albania",
          "Algeria",
          "Andorra",
          "Angola",
          "Antigua and Barbuda",
          "Argentina",
          "Armenia",
          "Australia",
          "Austria",
          "Azerbaijan",
          "Bahrain",
          "Bangladesh",
          "Barbados",
          "Belarus",
          "Belgium",
          "Benin",
          "Bhutan",
          "Bolivia",
          "Bosnia and Herzegovina",
          "Brazil",
          "Brunei",
          "Bulgaria",
          "Burkina Faso",
          "Cabo Verde",
          "Cambodia",
          "Cameroon",
          "Canada",
          "Central African Republic",
          "Chad",
          "Chile",
          "China",
          "Colombia",
          "Costa Rica",
          "Cote d'Ivoire",
          "Croatia",
          "Cyprus",
          "Denmark",
          "Dominican Republic",
          "Ecuador",
          "El Salvador",
          "Equatorial Guinea",
          "Estonia",
          "Ethiopia",
          "Fiji",
          "Finland",
          "France",
          "Gabon",
          "Georgia",
          "Germany",
          "Ghana",
          "Greece",
          "Guatemala",
          "Guinea",
          "Guyana",
          "Haiti",
          "Honduras",
          "Hungary",
          "Iceland",
          "India",
          "Indonesia",
          "Iraq",
          "Ireland",
          "Israel",
          "Italy",
          "Jamaica",
          "Japan",
          "Jordan",
          "Kazakhstan",
          "Kenya",
          "Kuwait",
          "Kyrgyzstan",
          "Latvia",
          "Lebanon",
          "Liberia",
          "Lithuania",
          "Luxembourg",
          "Madagascar",
          "Malaysia",
          "Maldives",
          "Malta",
          "Mauritania",
          "Mauritius",
          "Mexico",
          "Moldova",
          "Mongolia",
          "Montenegro",
          "Morocco",
          "Namibia",
          "Nepal",
          "Netherlands",
          "New Zealand",
          "Nicaragua",
          "Niger",
          "Nigeria",
          "Norway",
          "Oman",
          "Pakistan",
          "Panama",
          "Papua New Guinea",
          "Paraguay",
          "Peru",
          "Philippines",
          "Poland",
          "Portugal",
          "Qatar",
          "Romania",
          "Russia",
          "Rwanda",
          "Saint Vincent and the Grenadines",
          "San Marino",
          "Saudi Arabia",
          "Senegal",
          "Serbia",
          "Seychelles",
          "Singapore",
          "Slovenia",
          "Somalia",
          "South Africa",
          "Spain",
          "Sri Lanka",
          "Sudan",
          "Suriname",
          "Sweden",
          "Switzerland",
          "Tanzania",
          "Thailand",
          "Togo",
          "Trinidad and Tobago",
          "Tunisia",
          "Turkey",
          "Uganda",
          "Ukraine",
          "United Arab Emirates",
          "United Kingdom",
          "Uruguay",
          "United States",
          "Uzbekistan",
          "Vietnam",
          "Zambia",
          "Zimbabwe",
          "Dominica",
          "Grenada",
          "Mozambique",
          "Timor-Leste",
          "Belize",
          "West Bank and Gaza",
          "Guinea-Bissau",
          "Mali",
          "Kosovo",
          "Botswana",
          "Burundi",
          "Sierra Leone",
          "Malawi",
          "Sao Tome and Principe",
          "Comoros",
          "Tajikistan",
          "Lesotho"
         ],
         "type": "choropleth",
         "z": [
          19.469022208,
          11.863865978,
          159.049096745,
          2.858517699,
          95.335111741,
          1.460144704,
          545.476103427,
          10.572298342,
          1204.616439828,
          390.799991147,
          37.847715736,
          32.179069149,
          221.415162446,
          4.52905,
          47.407217531,
          467.955709818,
          8.583031398,
          2.21263883,
          33.806395514,
          16.910277134,
          1796.186586414,
          11.400653732,
          53.237882473,
          11.693235542,
          1.617467436,
          20.016747754,
          32.21749747,
          1529.760492201,
          1.756124677,
          9.600761474,
          247.027912574,
          11199.145157649,
          282.462551367,
          57.435507212,
          36.372613023,
          50.714957391,
          20.047013274,
          306.89965341,
          71.583553488,
          98.613972,
          26.79747,
          10.684804794,
          23.337907619,
          72.374224249,
          4.703632978,
          238.502900312,
          2465.453975282,
          14.21355813,
          14.378016729,
          3477.796274497,
          42.689783734,
          192.690813127,
          68.763255964,
          8.200248003,
          3.502397094,
          8.022638722,
          21.51693891,
          125.816640421,
          20.047413006,
          2263.792499341,
          932.259177765,
          171.489001692,
          304.819020501,
          317.744784695,
          1858.913163928,
          14.056908749,
          4940.158776617,
          38.654727746,
          137.278320084,
          70.529014778,
          110.875579087,
          6.551287938,
          27.572698482,
          49.598825982,
          2.101,
          42.738875963,
          58.631324559,
          10.00119342,
          296.535930381,
          4.224209599,
          10.99904758,
          4.73929873,
          12.168437744,
          1046.922702461,
          6.749515655,
          11.183458131,
          4.374127212,
          103.606321693,
          10.94788069,
          21.131983246,
          777.227541581,
          184.969146624,
          13.230844687,
          7.528387858,
          404.652720165,
          371.076190476,
          66.29336801,
          278.913371202,
          55.1877,
          20.213214172,
          27.424071383,
          192.207342005,
          304.905406845,
          471.364408714,
          204.836597909,
          152.451923077,
          187.59203784,
          1283.162985989,
          8.376048905,
          0.768224227,
          1.590707965,
          646.43838056,
          14.683697631,
          38.299854688,
          1.427323889,
          296.97567861,
          44.708598649,
          6.217,
          295.456189492,
          1237.255019654,
          81.321876307,
          95.584380032,
          3.278425328,
          514.459972806,
          668.851296244,
          47.340071107,
          407.02612731,
          4.399995987,
          21.894706041,
          42.062549395,
          863.711710427,
          24.078931933,
          93.270479389,
          348.743265705,
          2647.898654635,
          52.419720714,
          18624.475,
          67.22033557,
          205.276172135,
          21.063989683,
          16.619960402,
          0.581484032,
          1.056188593,
          11.014858592,
          1.782974,
          1.7411,
          13.3971,
          1.16494451,
          14.034980334,
          6.649888889,
          15.581137274,
          3.00702903,
          3.736588554,
          5.433038647,
          0.342781716,
          0.61665449,
          6.951657159,
          2.291321667
         ]
        }
       ],
       "layout": {
        "geo": {
         "projection": {
          "type": "mercator"
         },
         "showframe": false
        },
        "template": {
         "data": {
          "bar": [
           {
            "error_x": {
             "color": "#2a3f5f"
            },
            "error_y": {
             "color": "#2a3f5f"
            },
            "marker": {
             "line": {
              "color": "#E5ECF6",
              "width": 0.5
             }
            },
            "type": "bar"
           }
          ],
          "barpolar": [
           {
            "marker": {
             "line": {
              "color": "#E5ECF6",
              "width": 0.5
             }
            },
            "type": "barpolar"
           }
          ],
          "carpet": [
           {
            "aaxis": {
             "endlinecolor": "#2a3f5f",
             "gridcolor": "white",
             "linecolor": "white",
             "minorgridcolor": "white",
             "startlinecolor": "#2a3f5f"
            },
            "baxis": {
             "endlinecolor": "#2a3f5f",
             "gridcolor": "white",
             "linecolor": "white",
             "minorgridcolor": "white",
             "startlinecolor": "#2a3f5f"
            },
            "type": "carpet"
           }
          ],
          "choropleth": [
           {
            "colorbar": {
             "outlinewidth": 0,
             "ticks": ""
            },
            "type": "choropleth"
           }
          ],
          "contour": [
           {
            "colorbar": {
             "outlinewidth": 0,
             "ticks": ""
            },
            "colorscale": [
             [
              0,
              "#0d0887"
             ],
             [
              0.1111111111111111,
              "#46039f"
             ],
             [
              0.2222222222222222,
              "#7201a8"
             ],
             [
              0.3333333333333333,
              "#9c179e"
             ],
             [
              0.4444444444444444,
              "#bd3786"
             ],
             [
              0.5555555555555556,
              "#d8576b"
             ],
             [
              0.6666666666666666,
              "#ed7953"
             ],
             [
              0.7777777777777778,
              "#fb9f3a"
             ],
             [
              0.8888888888888888,
              "#fdca26"
             ],
             [
              1,
              "#f0f921"
             ]
            ],
            "type": "contour"
           }
          ],
          "contourcarpet": [
           {
            "colorbar": {
             "outlinewidth": 0,
             "ticks": ""
            },
            "type": "contourcarpet"
           }
          ],
          "heatmap": [
           {
            "colorbar": {
             "outlinewidth": 0,
             "ticks": ""
            },
            "colorscale": [
             [
              0,
              "#0d0887"
             ],
             [
              0.1111111111111111,
              "#46039f"
             ],
             [
              0.2222222222222222,
              "#7201a8"
             ],
             [
              0.3333333333333333,
              "#9c179e"
             ],
             [
              0.4444444444444444,
              "#bd3786"
             ],
             [
              0.5555555555555556,
              "#d8576b"
             ],
             [
              0.6666666666666666,
              "#ed7953"
             ],
             [
              0.7777777777777778,
              "#fb9f3a"
             ],
             [
              0.8888888888888888,
              "#fdca26"
             ],
             [
              1,
              "#f0f921"
             ]
            ],
            "type": "heatmap"
           }
          ],
          "heatmapgl": [
           {
            "colorbar": {
             "outlinewidth": 0,
             "ticks": ""
            },
            "colorscale": [
             [
              0,
              "#0d0887"
             ],
             [
              0.1111111111111111,
              "#46039f"
             ],
             [
              0.2222222222222222,
              "#7201a8"
             ],
             [
              0.3333333333333333,
              "#9c179e"
             ],
             [
              0.4444444444444444,
              "#bd3786"
             ],
             [
              0.5555555555555556,
              "#d8576b"
             ],
             [
              0.6666666666666666,
              "#ed7953"
             ],
             [
              0.7777777777777778,
              "#fb9f3a"
             ],
             [
              0.8888888888888888,
              "#fdca26"
             ],
             [
              1,
              "#f0f921"
             ]
            ],
            "type": "heatmapgl"
           }
          ],
          "histogram": [
           {
            "marker": {
             "colorbar": {
              "outlinewidth": 0,
              "ticks": ""
             }
            },
            "type": "histogram"
           }
          ],
          "histogram2d": [
           {
            "colorbar": {
             "outlinewidth": 0,
             "ticks": ""
            },
            "colorscale": [
             [
              0,
              "#0d0887"
             ],
             [
              0.1111111111111111,
              "#46039f"
             ],
             [
              0.2222222222222222,
              "#7201a8"
             ],
             [
              0.3333333333333333,
              "#9c179e"
             ],
             [
              0.4444444444444444,
              "#bd3786"
             ],
             [
              0.5555555555555556,
              "#d8576b"
             ],
             [
              0.6666666666666666,
              "#ed7953"
             ],
             [
              0.7777777777777778,
              "#fb9f3a"
             ],
             [
              0.8888888888888888,
              "#fdca26"
             ],
             [
              1,
              "#f0f921"
             ]
            ],
            "type": "histogram2d"
           }
          ],
          "histogram2dcontour": [
           {
            "colorbar": {
             "outlinewidth": 0,
             "ticks": ""
            },
            "colorscale": [
             [
              0,
              "#0d0887"
             ],
             [
              0.1111111111111111,
              "#46039f"
             ],
             [
              0.2222222222222222,
              "#7201a8"
             ],
             [
              0.3333333333333333,
              "#9c179e"
             ],
             [
              0.4444444444444444,
              "#bd3786"
             ],
             [
              0.5555555555555556,
              "#d8576b"
             ],
             [
              0.6666666666666666,
              "#ed7953"
             ],
             [
              0.7777777777777778,
              "#fb9f3a"
             ],
             [
              0.8888888888888888,
              "#fdca26"
             ],
             [
              1,
              "#f0f921"
             ]
            ],
            "type": "histogram2dcontour"
           }
          ],
          "mesh3d": [
           {
            "colorbar": {
             "outlinewidth": 0,
             "ticks": ""
            },
            "type": "mesh3d"
           }
          ],
          "parcoords": [
           {
            "line": {
             "colorbar": {
              "outlinewidth": 0,
              "ticks": ""
             }
            },
            "type": "parcoords"
           }
          ],
          "pie": [
           {
            "automargin": true,
            "type": "pie"
           }
          ],
          "scatter": [
           {
            "marker": {
             "colorbar": {
              "outlinewidth": 0,
              "ticks": ""
             }
            },
            "type": "scatter"
           }
          ],
          "scatter3d": [
           {
            "line": {
             "colorbar": {
              "outlinewidth": 0,
              "ticks": ""
             }
            },
            "marker": {
             "colorbar": {
              "outlinewidth": 0,
              "ticks": ""
             }
            },
            "type": "scatter3d"
           }
          ],
          "scattercarpet": [
           {
            "marker": {
             "colorbar": {
              "outlinewidth": 0,
              "ticks": ""
             }
            },
            "type": "scattercarpet"
           }
          ],
          "scattergeo": [
           {
            "marker": {
             "colorbar": {
              "outlinewidth": 0,
              "ticks": ""
             }
            },
            "type": "scattergeo"
           }
          ],
          "scattergl": [
           {
            "marker": {
             "colorbar": {
              "outlinewidth": 0,
              "ticks": ""
             }
            },
            "type": "scattergl"
           }
          ],
          "scattermapbox": [
           {
            "marker": {
             "colorbar": {
              "outlinewidth": 0,
              "ticks": ""
             }
            },
            "type": "scattermapbox"
           }
          ],
          "scatterpolar": [
           {
            "marker": {
             "colorbar": {
              "outlinewidth": 0,
              "ticks": ""
             }
            },
            "type": "scatterpolar"
           }
          ],
          "scatterpolargl": [
           {
            "marker": {
             "colorbar": {
              "outlinewidth": 0,
              "ticks": ""
             }
            },
            "type": "scatterpolargl"
           }
          ],
          "scatterternary": [
           {
            "marker": {
             "colorbar": {
              "outlinewidth": 0,
              "ticks": ""
             }
            },
            "type": "scatterternary"
           }
          ],
          "surface": [
           {
            "colorbar": {
             "outlinewidth": 0,
             "ticks": ""
            },
            "colorscale": [
             [
              0,
              "#0d0887"
             ],
             [
              0.1111111111111111,
              "#46039f"
             ],
             [
              0.2222222222222222,
              "#7201a8"
             ],
             [
              0.3333333333333333,
              "#9c179e"
             ],
             [
              0.4444444444444444,
              "#bd3786"
             ],
             [
              0.5555555555555556,
              "#d8576b"
             ],
             [
              0.6666666666666666,
              "#ed7953"
             ],
             [
              0.7777777777777778,
              "#fb9f3a"
             ],
             [
              0.8888888888888888,
              "#fdca26"
             ],
             [
              1,
              "#f0f921"
             ]
            ],
            "type": "surface"
           }
          ],
          "table": [
           {
            "cells": {
             "fill": {
              "color": "#EBF0F8"
             },
             "line": {
              "color": "white"
             }
            },
            "header": {
             "fill": {
              "color": "#C8D4E3"
             },
             "line": {
              "color": "white"
             }
            },
            "type": "table"
           }
          ]
         },
         "layout": {
          "annotationdefaults": {
           "arrowcolor": "#2a3f5f",
           "arrowhead": 0,
           "arrowwidth": 1
          },
          "coloraxis": {
           "colorbar": {
            "outlinewidth": 0,
            "ticks": ""
           }
          },
          "colorscale": {
           "diverging": [
            [
             0,
             "#8e0152"
            ],
            [
             0.1,
             "#c51b7d"
            ],
            [
             0.2,
             "#de77ae"
            ],
            [
             0.3,
             "#f1b6da"
            ],
            [
             0.4,
             "#fde0ef"
            ],
            [
             0.5,
             "#f7f7f7"
            ],
            [
             0.6,
             "#e6f5d0"
            ],
            [
             0.7,
             "#b8e186"
            ],
            [
             0.8,
             "#7fbc41"
            ],
            [
             0.9,
             "#4d9221"
            ],
            [
             1,
             "#276419"
            ]
           ],
           "sequential": [
            [
             0,
             "#0d0887"
            ],
            [
             0.1111111111111111,
             "#46039f"
            ],
            [
             0.2222222222222222,
             "#7201a8"
            ],
            [
             0.3333333333333333,
             "#9c179e"
            ],
            [
             0.4444444444444444,
             "#bd3786"
            ],
            [
             0.5555555555555556,
             "#d8576b"
            ],
            [
             0.6666666666666666,
             "#ed7953"
            ],
            [
             0.7777777777777778,
             "#fb9f3a"
            ],
            [
             0.8888888888888888,
             "#fdca26"
            ],
            [
             1,
             "#f0f921"
            ]
           ],
           "sequentialminus": [
            [
             0,
             "#0d0887"
            ],
            [
             0.1111111111111111,
             "#46039f"
            ],
            [
             0.2222222222222222,
             "#7201a8"
            ],
            [
             0.3333333333333333,
             "#9c179e"
            ],
            [
             0.4444444444444444,
             "#bd3786"
            ],
            [
             0.5555555555555556,
             "#d8576b"
            ],
            [
             0.6666666666666666,
             "#ed7953"
            ],
            [
             0.7777777777777778,
             "#fb9f3a"
            ],
            [
             0.8888888888888888,
             "#fdca26"
            ],
            [
             1,
             "#f0f921"
            ]
           ]
          },
          "colorway": [
           "#636efa",
           "#EF553B",
           "#00cc96",
           "#ab63fa",
           "#FFA15A",
           "#19d3f3",
           "#FF6692",
           "#B6E880",
           "#FF97FF",
           "#FECB52"
          ],
          "font": {
           "color": "#2a3f5f"
          },
          "geo": {
           "bgcolor": "white",
           "lakecolor": "white",
           "landcolor": "#E5ECF6",
           "showlakes": true,
           "showland": true,
           "subunitcolor": "white"
          },
          "hoverlabel": {
           "align": "left"
          },
          "hovermode": "closest",
          "mapbox": {
           "style": "light"
          },
          "paper_bgcolor": "white",
          "plot_bgcolor": "#E5ECF6",
          "polar": {
           "angularaxis": {
            "gridcolor": "white",
            "linecolor": "white",
            "ticks": ""
           },
           "bgcolor": "#E5ECF6",
           "radialaxis": {
            "gridcolor": "white",
            "linecolor": "white",
            "ticks": ""
           }
          },
          "scene": {
           "xaxis": {
            "backgroundcolor": "#E5ECF6",
            "gridcolor": "white",
            "gridwidth": 2,
            "linecolor": "white",
            "showbackground": true,
            "ticks": "",
            "zerolinecolor": "white"
           },
           "yaxis": {
            "backgroundcolor": "#E5ECF6",
            "gridcolor": "white",
            "gridwidth": 2,
            "linecolor": "white",
            "showbackground": true,
            "ticks": "",
            "zerolinecolor": "white"
           },
           "zaxis": {
            "backgroundcolor": "#E5ECF6",
            "gridcolor": "white",
            "gridwidth": 2,
            "linecolor": "white",
            "showbackground": true,
            "ticks": "",
            "zerolinecolor": "white"
           }
          },
          "shapedefaults": {
           "line": {
            "color": "#2a3f5f"
           }
          },
          "ternary": {
           "aaxis": {
            "gridcolor": "white",
            "linecolor": "white",
            "ticks": ""
           },
           "baxis": {
            "gridcolor": "white",
            "linecolor": "white",
            "ticks": ""
           },
           "bgcolor": "#E5ECF6",
           "caxis": {
            "gridcolor": "white",
            "linecolor": "white",
            "ticks": ""
           }
          },
          "title": {
           "x": 0.05
          },
          "xaxis": {
           "automargin": true,
           "gridcolor": "white",
           "linecolor": "white",
           "ticks": "",
           "title": {
            "standoff": 15
           },
           "zerolinecolor": "white",
           "zerolinewidth": 2
          },
          "yaxis": {
           "automargin": true,
           "gridcolor": "white",
           "linecolor": "white",
           "ticks": "",
           "title": {
            "standoff": 15
           },
           "zerolinecolor": "white",
           "zerolinewidth": 2
          }
         }
        },
        "title": {
         "text": "ВВП в млрд. долларов США"
        }
       }
      },
      "text/html": [
       "<div>\n",
       "        \n",
       "        \n",
       "            <div id=\"b1874399-c25b-4605-8732-d929abb51acf\" class=\"plotly-graph-div\" style=\"height:525px; width:100%;\"></div>\n",
       "            <script type=\"text/javascript\">\n",
       "                require([\"plotly\"], function(Plotly) {\n",
       "                    window.PLOTLYENV=window.PLOTLYENV || {};\n",
       "                    \n",
       "                if (document.getElementById(\"b1874399-c25b-4605-8732-d929abb51acf\")) {\n",
       "                    Plotly.newPlot(\n",
       "                        'b1874399-c25b-4605-8732-d929abb51acf',\n",
       "                        [{\"colorbar\": {\"title\": {\"text\": \"\\u0412\\u0412\\u041f(\\u043c\\u043b\\u0440\\u0434. \\u0434\\u043e\\u043b\\u043b\\u0430\\u0440\\u043e\\u0432)\"}}, \"locationmode\": \"country names\", \"locations\": [\"Afghanistan\", \"Albania\", \"Algeria\", \"Andorra\", \"Angola\", \"Antigua and Barbuda\", \"Argentina\", \"Armenia\", \"Australia\", \"Austria\", \"Azerbaijan\", \"Bahrain\", \"Bangladesh\", \"Barbados\", \"Belarus\", \"Belgium\", \"Benin\", \"Bhutan\", \"Bolivia\", \"Bosnia and Herzegovina\", \"Brazil\", \"Brunei\", \"Bulgaria\", \"Burkina Faso\", \"Cabo Verde\", \"Cambodia\", \"Cameroon\", \"Canada\", \"Central African Republic\", \"Chad\", \"Chile\", \"China\", \"Colombia\", \"Costa Rica\", \"Cote d'Ivoire\", \"Croatia\", \"Cyprus\", \"Denmark\", \"Dominican Republic\", \"Ecuador\", \"El Salvador\", \"Equatorial Guinea\", \"Estonia\", \"Ethiopia\", \"Fiji\", \"Finland\", \"France\", \"Gabon\", \"Georgia\", \"Germany\", \"Ghana\", \"Greece\", \"Guatemala\", \"Guinea\", \"Guyana\", \"Haiti\", \"Honduras\", \"Hungary\", \"Iceland\", \"India\", \"Indonesia\", \"Iraq\", \"Ireland\", \"Israel\", \"Italy\", \"Jamaica\", \"Japan\", \"Jordan\", \"Kazakhstan\", \"Kenya\", \"Kuwait\", \"Kyrgyzstan\", \"Latvia\", \"Lebanon\", \"Liberia\", \"Lithuania\", \"Luxembourg\", \"Madagascar\", \"Malaysia\", \"Maldives\", \"Malta\", \"Mauritania\", \"Mauritius\", \"Mexico\", \"Moldova\", \"Mongolia\", \"Montenegro\", \"Morocco\", \"Namibia\", \"Nepal\", \"Netherlands\", \"New Zealand\", \"Nicaragua\", \"Niger\", \"Nigeria\", \"Norway\", \"Oman\", \"Pakistan\", \"Panama\", \"Papua New Guinea\", \"Paraguay\", \"Peru\", \"Philippines\", \"Poland\", \"Portugal\", \"Qatar\", \"Romania\", \"Russia\", \"Rwanda\", \"Saint Vincent and the Grenadines\", \"San Marino\", \"Saudi Arabia\", \"Senegal\", \"Serbia\", \"Seychelles\", \"Singapore\", \"Slovenia\", \"Somalia\", \"South Africa\", \"Spain\", \"Sri Lanka\", \"Sudan\", \"Suriname\", \"Sweden\", \"Switzerland\", \"Tanzania\", \"Thailand\", \"Togo\", \"Trinidad and Tobago\", \"Tunisia\", \"Turkey\", \"Uganda\", \"Ukraine\", \"United Arab Emirates\", \"United Kingdom\", \"Uruguay\", \"United States\", \"Uzbekistan\", \"Vietnam\", \"Zambia\", \"Zimbabwe\", \"Dominica\", \"Grenada\", \"Mozambique\", \"Timor-Leste\", \"Belize\", \"West Bank and Gaza\", \"Guinea-Bissau\", \"Mali\", \"Kosovo\", \"Botswana\", \"Burundi\", \"Sierra Leone\", \"Malawi\", \"Sao Tome and Principe\", \"Comoros\", \"Tajikistan\", \"Lesotho\"], \"text\": [\"Afghanistan\", \"Albania\", \"Algeria\", \"Andorra\", \"Angola\", \"Antigua and Barbuda\", \"Argentina\", \"Armenia\", \"Australia\", \"Austria\", \"Azerbaijan\", \"Bahrain\", \"Bangladesh\", \"Barbados\", \"Belarus\", \"Belgium\", \"Benin\", \"Bhutan\", \"Bolivia\", \"Bosnia and Herzegovina\", \"Brazil\", \"Brunei\", \"Bulgaria\", \"Burkina Faso\", \"Cabo Verde\", \"Cambodia\", \"Cameroon\", \"Canada\", \"Central African Republic\", \"Chad\", \"Chile\", \"China\", \"Colombia\", \"Costa Rica\", \"Cote d'Ivoire\", \"Croatia\", \"Cyprus\", \"Denmark\", \"Dominican Republic\", \"Ecuador\", \"El Salvador\", \"Equatorial Guinea\", \"Estonia\", \"Ethiopia\", \"Fiji\", \"Finland\", \"France\", \"Gabon\", \"Georgia\", \"Germany\", \"Ghana\", \"Greece\", \"Guatemala\", \"Guinea\", \"Guyana\", \"Haiti\", \"Honduras\", \"Hungary\", \"Iceland\", \"India\", \"Indonesia\", \"Iraq\", \"Ireland\", \"Israel\", \"Italy\", \"Jamaica\", \"Japan\", \"Jordan\", \"Kazakhstan\", \"Kenya\", \"Kuwait\", \"Kyrgyzstan\", \"Latvia\", \"Lebanon\", \"Liberia\", \"Lithuania\", \"Luxembourg\", \"Madagascar\", \"Malaysia\", \"Maldives\", \"Malta\", \"Mauritania\", \"Mauritius\", \"Mexico\", \"Moldova\", \"Mongolia\", \"Montenegro\", \"Morocco\", \"Namibia\", \"Nepal\", \"Netherlands\", \"New Zealand\", \"Nicaragua\", \"Niger\", \"Nigeria\", \"Norway\", \"Oman\", \"Pakistan\", \"Panama\", \"Papua New Guinea\", \"Paraguay\", \"Peru\", \"Philippines\", \"Poland\", \"Portugal\", \"Qatar\", \"Romania\", \"Russia\", \"Rwanda\", \"Saint Vincent and the Grenadines\", \"San Marino\", \"Saudi Arabia\", \"Senegal\", \"Serbia\", \"Seychelles\", \"Singapore\", \"Slovenia\", \"Somalia\", \"South Africa\", \"Spain\", \"Sri Lanka\", \"Sudan\", \"Suriname\", \"Sweden\", \"Switzerland\", \"Tanzania\", \"Thailand\", \"Togo\", \"Trinidad and Tobago\", \"Tunisia\", \"Turkey\", \"Uganda\", \"Ukraine\", \"United Arab Emirates\", \"United Kingdom\", \"Uruguay\", \"United States\", \"Uzbekistan\", \"Vietnam\", \"Zambia\", \"Zimbabwe\", \"Dominica\", \"Grenada\", \"Mozambique\", \"Timor-Leste\", \"Belize\", \"West Bank and Gaza\", \"Guinea-Bissau\", \"Mali\", \"Kosovo\", \"Botswana\", \"Burundi\", \"Sierra Leone\", \"Malawi\", \"Sao Tome and Principe\", \"Comoros\", \"Tajikistan\", \"Lesotho\"], \"type\": \"choropleth\", \"z\": [19.469022208, 11.863865978, 159.049096745, 2.858517699, 95.335111741, 1.460144704, 545.476103427, 10.572298342, 1204.616439828, 390.799991147, 37.847715736, 32.179069149, 221.415162446, 4.52905, 47.407217531, 467.955709818, 8.583031398, 2.21263883, 33.806395514, 16.910277134, 1796.186586414, 11.400653732, 53.237882473, 11.693235542, 1.617467436, 20.016747754, 32.21749747, 1529.760492201, 1.756124677, 9.600761474, 247.027912574, 11199.145157649, 282.462551367, 57.435507212, 36.372613023, 50.714957391, 20.047013274, 306.89965341, 71.583553488, 98.613972, 26.79747, 10.684804794, 23.337907619, 72.374224249, 4.703632978, 238.502900312, 2465.453975282, 14.21355813, 14.378016729, 3477.796274497, 42.689783734, 192.690813127, 68.763255964, 8.200248003, 3.502397094, 8.022638722, 21.51693891, 125.816640421, 20.047413006, 2263.792499341, 932.259177765, 171.489001692, 304.819020501, 317.744784695, 1858.913163928, 14.056908749, 4940.158776617, 38.654727746, 137.278320084, 70.529014778, 110.875579087, 6.551287938, 27.572698482, 49.598825982, 2.101, 42.738875963, 58.631324559, 10.00119342, 296.535930381, 4.224209599, 10.99904758, 4.73929873, 12.168437744, 1046.922702461, 6.749515655, 11.183458131, 4.374127212, 103.606321693, 10.94788069, 21.131983246, 777.227541581, 184.969146624, 13.230844687, 7.528387858, 404.652720165, 371.076190476, 66.29336801, 278.913371202, 55.1877, 20.213214172, 27.424071383, 192.207342005, 304.905406845, 471.364408714, 204.836597909, 152.451923077, 187.59203784, 1283.162985989, 8.376048905, 0.768224227, 1.590707965, 646.43838056, 14.683697631, 38.299854688, 1.427323889, 296.97567861, 44.708598649, 6.217, 295.456189492, 1237.255019654, 81.321876307, 95.584380032, 3.278425328, 514.459972806, 668.851296244, 47.340071107, 407.02612731, 4.399995987, 21.894706041, 42.062549395, 863.711710427, 24.078931933, 93.270479389, 348.743265705, 2647.898654635, 52.419720714, 18624.475, 67.22033557, 205.276172135, 21.063989683, 16.619960402, 0.581484032, 1.056188593, 11.014858592, 1.782974, 1.7411, 13.3971, 1.16494451, 14.034980334, 6.649888889, 15.581137274, 3.00702903, 3.736588554, 5.433038647, 0.342781716, 0.61665449, 6.951657159, 2.291321667]}],\n",
       "                        {\"geo\": {\"projection\": {\"type\": \"mercator\"}, \"showframe\": false}, \"template\": {\"data\": {\"bar\": [{\"error_x\": {\"color\": \"#2a3f5f\"}, \"error_y\": {\"color\": \"#2a3f5f\"}, \"marker\": {\"line\": {\"color\": \"#E5ECF6\", \"width\": 0.5}}, \"type\": \"bar\"}], \"barpolar\": [{\"marker\": {\"line\": {\"color\": \"#E5ECF6\", \"width\": 0.5}}, \"type\": \"barpolar\"}], \"carpet\": [{\"aaxis\": {\"endlinecolor\": \"#2a3f5f\", \"gridcolor\": \"white\", \"linecolor\": \"white\", \"minorgridcolor\": \"white\", \"startlinecolor\": \"#2a3f5f\"}, \"baxis\": {\"endlinecolor\": \"#2a3f5f\", \"gridcolor\": \"white\", \"linecolor\": \"white\", \"minorgridcolor\": \"white\", \"startlinecolor\": \"#2a3f5f\"}, \"type\": \"carpet\"}], \"choropleth\": [{\"colorbar\": {\"outlinewidth\": 0, \"ticks\": \"\"}, \"type\": \"choropleth\"}], \"contour\": [{\"colorbar\": {\"outlinewidth\": 0, \"ticks\": \"\"}, \"colorscale\": [[0.0, \"#0d0887\"], [0.1111111111111111, \"#46039f\"], [0.2222222222222222, \"#7201a8\"], [0.3333333333333333, \"#9c179e\"], [0.4444444444444444, \"#bd3786\"], [0.5555555555555556, \"#d8576b\"], [0.6666666666666666, \"#ed7953\"], [0.7777777777777778, \"#fb9f3a\"], [0.8888888888888888, \"#fdca26\"], [1.0, \"#f0f921\"]], \"type\": \"contour\"}], \"contourcarpet\": [{\"colorbar\": {\"outlinewidth\": 0, \"ticks\": \"\"}, \"type\": \"contourcarpet\"}], \"heatmap\": [{\"colorbar\": {\"outlinewidth\": 0, \"ticks\": \"\"}, \"colorscale\": [[0.0, \"#0d0887\"], [0.1111111111111111, \"#46039f\"], [0.2222222222222222, \"#7201a8\"], [0.3333333333333333, \"#9c179e\"], [0.4444444444444444, \"#bd3786\"], [0.5555555555555556, \"#d8576b\"], [0.6666666666666666, \"#ed7953\"], [0.7777777777777778, \"#fb9f3a\"], [0.8888888888888888, \"#fdca26\"], [1.0, \"#f0f921\"]], \"type\": \"heatmap\"}], \"heatmapgl\": [{\"colorbar\": {\"outlinewidth\": 0, \"ticks\": \"\"}, \"colorscale\": [[0.0, \"#0d0887\"], [0.1111111111111111, \"#46039f\"], [0.2222222222222222, \"#7201a8\"], [0.3333333333333333, \"#9c179e\"], [0.4444444444444444, \"#bd3786\"], [0.5555555555555556, \"#d8576b\"], [0.6666666666666666, \"#ed7953\"], [0.7777777777777778, \"#fb9f3a\"], [0.8888888888888888, \"#fdca26\"], [1.0, \"#f0f921\"]], \"type\": \"heatmapgl\"}], \"histogram\": [{\"marker\": {\"colorbar\": {\"outlinewidth\": 0, \"ticks\": \"\"}}, \"type\": \"histogram\"}], \"histogram2d\": [{\"colorbar\": {\"outlinewidth\": 0, \"ticks\": \"\"}, \"colorscale\": [[0.0, \"#0d0887\"], [0.1111111111111111, \"#46039f\"], [0.2222222222222222, \"#7201a8\"], [0.3333333333333333, \"#9c179e\"], [0.4444444444444444, \"#bd3786\"], [0.5555555555555556, \"#d8576b\"], [0.6666666666666666, \"#ed7953\"], [0.7777777777777778, \"#fb9f3a\"], [0.8888888888888888, \"#fdca26\"], [1.0, \"#f0f921\"]], \"type\": \"histogram2d\"}], \"histogram2dcontour\": [{\"colorbar\": {\"outlinewidth\": 0, \"ticks\": \"\"}, \"colorscale\": [[0.0, \"#0d0887\"], [0.1111111111111111, \"#46039f\"], [0.2222222222222222, \"#7201a8\"], [0.3333333333333333, \"#9c179e\"], [0.4444444444444444, \"#bd3786\"], [0.5555555555555556, \"#d8576b\"], [0.6666666666666666, \"#ed7953\"], [0.7777777777777778, \"#fb9f3a\"], [0.8888888888888888, \"#fdca26\"], [1.0, \"#f0f921\"]], \"type\": \"histogram2dcontour\"}], \"mesh3d\": [{\"colorbar\": {\"outlinewidth\": 0, \"ticks\": \"\"}, \"type\": \"mesh3d\"}], \"parcoords\": [{\"line\": {\"colorbar\": {\"outlinewidth\": 0, \"ticks\": \"\"}}, \"type\": \"parcoords\"}], \"pie\": [{\"automargin\": true, \"type\": \"pie\"}], \"scatter\": [{\"marker\": {\"colorbar\": {\"outlinewidth\": 0, \"ticks\": \"\"}}, \"type\": \"scatter\"}], \"scatter3d\": [{\"line\": {\"colorbar\": {\"outlinewidth\": 0, \"ticks\": \"\"}}, \"marker\": {\"colorbar\": {\"outlinewidth\": 0, \"ticks\": \"\"}}, \"type\": \"scatter3d\"}], \"scattercarpet\": [{\"marker\": {\"colorbar\": {\"outlinewidth\": 0, \"ticks\": \"\"}}, \"type\": \"scattercarpet\"}], \"scattergeo\": [{\"marker\": {\"colorbar\": {\"outlinewidth\": 0, \"ticks\": \"\"}}, \"type\": \"scattergeo\"}], \"scattergl\": [{\"marker\": {\"colorbar\": {\"outlinewidth\": 0, \"ticks\": \"\"}}, \"type\": \"scattergl\"}], \"scattermapbox\": [{\"marker\": {\"colorbar\": {\"outlinewidth\": 0, \"ticks\": \"\"}}, \"type\": \"scattermapbox\"}], \"scatterpolar\": [{\"marker\": {\"colorbar\": {\"outlinewidth\": 0, \"ticks\": \"\"}}, \"type\": \"scatterpolar\"}], \"scatterpolargl\": [{\"marker\": {\"colorbar\": {\"outlinewidth\": 0, \"ticks\": \"\"}}, \"type\": \"scatterpolargl\"}], \"scatterternary\": [{\"marker\": {\"colorbar\": {\"outlinewidth\": 0, \"ticks\": \"\"}}, \"type\": \"scatterternary\"}], \"surface\": [{\"colorbar\": {\"outlinewidth\": 0, \"ticks\": \"\"}, \"colorscale\": [[0.0, \"#0d0887\"], [0.1111111111111111, \"#46039f\"], [0.2222222222222222, \"#7201a8\"], [0.3333333333333333, \"#9c179e\"], [0.4444444444444444, \"#bd3786\"], [0.5555555555555556, \"#d8576b\"], [0.6666666666666666, \"#ed7953\"], [0.7777777777777778, \"#fb9f3a\"], [0.8888888888888888, \"#fdca26\"], [1.0, \"#f0f921\"]], \"type\": \"surface\"}], \"table\": [{\"cells\": {\"fill\": {\"color\": \"#EBF0F8\"}, \"line\": {\"color\": \"white\"}}, \"header\": {\"fill\": {\"color\": \"#C8D4E3\"}, \"line\": {\"color\": \"white\"}}, \"type\": \"table\"}]}, \"layout\": {\"annotationdefaults\": {\"arrowcolor\": \"#2a3f5f\", \"arrowhead\": 0, \"arrowwidth\": 1}, \"coloraxis\": {\"colorbar\": {\"outlinewidth\": 0, \"ticks\": \"\"}}, \"colorscale\": {\"diverging\": [[0, \"#8e0152\"], [0.1, \"#c51b7d\"], [0.2, \"#de77ae\"], [0.3, \"#f1b6da\"], [0.4, \"#fde0ef\"], [0.5, \"#f7f7f7\"], [0.6, \"#e6f5d0\"], [0.7, \"#b8e186\"], [0.8, \"#7fbc41\"], [0.9, \"#4d9221\"], [1, \"#276419\"]], \"sequential\": [[0.0, \"#0d0887\"], [0.1111111111111111, \"#46039f\"], [0.2222222222222222, \"#7201a8\"], [0.3333333333333333, \"#9c179e\"], [0.4444444444444444, \"#bd3786\"], [0.5555555555555556, \"#d8576b\"], [0.6666666666666666, \"#ed7953\"], [0.7777777777777778, \"#fb9f3a\"], [0.8888888888888888, \"#fdca26\"], [1.0, \"#f0f921\"]], \"sequentialminus\": [[0.0, \"#0d0887\"], [0.1111111111111111, \"#46039f\"], [0.2222222222222222, \"#7201a8\"], [0.3333333333333333, \"#9c179e\"], [0.4444444444444444, \"#bd3786\"], [0.5555555555555556, \"#d8576b\"], [0.6666666666666666, \"#ed7953\"], [0.7777777777777778, \"#fb9f3a\"], [0.8888888888888888, \"#fdca26\"], [1.0, \"#f0f921\"]]}, \"colorway\": [\"#636efa\", \"#EF553B\", \"#00cc96\", \"#ab63fa\", \"#FFA15A\", \"#19d3f3\", \"#FF6692\", \"#B6E880\", \"#FF97FF\", \"#FECB52\"], \"font\": {\"color\": \"#2a3f5f\"}, \"geo\": {\"bgcolor\": \"white\", \"lakecolor\": \"white\", \"landcolor\": \"#E5ECF6\", \"showlakes\": true, \"showland\": true, \"subunitcolor\": \"white\"}, \"hoverlabel\": {\"align\": \"left\"}, \"hovermode\": \"closest\", \"mapbox\": {\"style\": \"light\"}, \"paper_bgcolor\": \"white\", \"plot_bgcolor\": \"#E5ECF6\", \"polar\": {\"angularaxis\": {\"gridcolor\": \"white\", \"linecolor\": \"white\", \"ticks\": \"\"}, \"bgcolor\": \"#E5ECF6\", \"radialaxis\": {\"gridcolor\": \"white\", \"linecolor\": \"white\", \"ticks\": \"\"}}, \"scene\": {\"xaxis\": {\"backgroundcolor\": \"#E5ECF6\", \"gridcolor\": \"white\", \"gridwidth\": 2, \"linecolor\": \"white\", \"showbackground\": true, \"ticks\": \"\", \"zerolinecolor\": \"white\"}, \"yaxis\": {\"backgroundcolor\": \"#E5ECF6\", \"gridcolor\": \"white\", \"gridwidth\": 2, \"linecolor\": \"white\", \"showbackground\": true, \"ticks\": \"\", \"zerolinecolor\": \"white\"}, \"zaxis\": {\"backgroundcolor\": \"#E5ECF6\", \"gridcolor\": \"white\", \"gridwidth\": 2, \"linecolor\": \"white\", \"showbackground\": true, \"ticks\": \"\", \"zerolinecolor\": \"white\"}}, \"shapedefaults\": {\"line\": {\"color\": \"#2a3f5f\"}}, \"ternary\": {\"aaxis\": {\"gridcolor\": \"white\", \"linecolor\": \"white\", \"ticks\": \"\"}, \"baxis\": {\"gridcolor\": \"white\", \"linecolor\": \"white\", \"ticks\": \"\"}, \"bgcolor\": \"#E5ECF6\", \"caxis\": {\"gridcolor\": \"white\", \"linecolor\": \"white\", \"ticks\": \"\"}}, \"title\": {\"x\": 0.05}, \"xaxis\": {\"automargin\": true, \"gridcolor\": \"white\", \"linecolor\": \"white\", \"ticks\": \"\", \"title\": {\"standoff\": 15}, \"zerolinecolor\": \"white\", \"zerolinewidth\": 2}, \"yaxis\": {\"automargin\": true, \"gridcolor\": \"white\", \"linecolor\": \"white\", \"ticks\": \"\", \"title\": {\"standoff\": 15}, \"zerolinecolor\": \"white\", \"zerolinewidth\": 2}}}, \"title\": {\"text\": \"\\u0412\\u0412\\u041f \\u0432 \\u043c\\u043b\\u0440\\u0434. \\u0434\\u043e\\u043b\\u043b\\u0430\\u0440\\u043e\\u0432 \\u0421\\u0428\\u0410\"}},\n",
       "                        {\"responsive\": true}\n",
       "                    ).then(function(){\n",
       "                            \n",
       "var gd = document.getElementById('b1874399-c25b-4605-8732-d929abb51acf');\n",
       "var x = new MutationObserver(function (mutations, observer) {{\n",
       "        var display = window.getComputedStyle(gd).display;\n",
       "        if (!display || display === 'none') {{\n",
       "            console.log([gd, 'removed!']);\n",
       "            Plotly.purge(gd);\n",
       "            observer.disconnect();\n",
       "        }}\n",
       "}});\n",
       "\n",
       "// Listen for the removal of the full notebook cells\n",
       "var notebookContainer = gd.closest('#notebook-container');\n",
       "if (notebookContainer) {{\n",
       "    x.observe(notebookContainer, {childList: true});\n",
       "}}\n",
       "\n",
       "// Listen for the clearing of the current output cell\n",
       "var outputEl = gd.closest('.output');\n",
       "if (outputEl) {{\n",
       "    x.observe(outputEl, {childList: true});\n",
       "}}\n",
       "\n",
       "                        })\n",
       "                };\n",
       "                });\n",
       "            </script>\n",
       "        </div>"
      ]
     },
     "metadata": {},
     "output_type": "display_data"
    }
   ],
   "source": [
    "data = dict(type = 'choropleth', \n",
    "           locations = df_cl['country'],\n",
    "           locationmode = 'country names',\n",
    "           z = df_cl['gdp'], \n",
    "           text = df_cl['country'],\n",
    "           colorbar = {'title':'ВВП(млрд. долларов)'})\n",
    "layout = dict(title = 'ВВП в млрд. долларов США', \n",
    "             geo = dict(showframe = False, \n",
    "                       projection = {'type': 'mercator'}))\n",
    "choromap3 = go.Figure(data = [data], layout=layout)\n",
    "iplot(choromap3)"
   ]
  },
  {
   "cell_type": "code",
   "execution_count": 441,
   "metadata": {},
   "outputs": [
    {
     "data": {
      "application/vnd.plotly.v1+json": {
       "config": {
        "linkText": "Export to plot.ly",
        "plotlyServerURL": "https://plot.ly",
        "showLink": false
       },
       "data": [
        {
         "colorbar": {
          "title": {
           "text": "Среднедушевой доход(тыс.долларов)"
          }
         },
         "locationmode": "country names",
         "locations": [
          "Afghanistan",
          "Albania",
          "Algeria",
          "Andorra",
          "Angola",
          "Antigua and Barbuda",
          "Argentina",
          "Armenia",
          "Australia",
          "Austria",
          "Azerbaijan",
          "Bahrain",
          "Bangladesh",
          "Barbados",
          "Belarus",
          "Belgium",
          "Benin",
          "Bhutan",
          "Bolivia",
          "Bosnia and Herzegovina",
          "Brazil",
          "Brunei",
          "Bulgaria",
          "Burkina Faso",
          "Cabo Verde",
          "Cambodia",
          "Cameroon",
          "Canada",
          "Central African Republic",
          "Chad",
          "Chile",
          "China",
          "Colombia",
          "Costa Rica",
          "Cote d'Ivoire",
          "Croatia",
          "Cyprus",
          "Denmark",
          "Dominican Republic",
          "Ecuador",
          "El Salvador",
          "Equatorial Guinea",
          "Estonia",
          "Ethiopia",
          "Fiji",
          "Finland",
          "France",
          "Gabon",
          "Georgia",
          "Germany",
          "Ghana",
          "Greece",
          "Guatemala",
          "Guinea",
          "Guyana",
          "Haiti",
          "Honduras",
          "Hungary",
          "Iceland",
          "India",
          "Indonesia",
          "Iraq",
          "Ireland",
          "Israel",
          "Italy",
          "Jamaica",
          "Japan",
          "Jordan",
          "Kazakhstan",
          "Kenya",
          "Kuwait",
          "Kyrgyzstan",
          "Latvia",
          "Lebanon",
          "Liberia",
          "Lithuania",
          "Luxembourg",
          "Madagascar",
          "Malaysia",
          "Maldives",
          "Malta",
          "Mauritania",
          "Mauritius",
          "Mexico",
          "Moldova",
          "Mongolia",
          "Montenegro",
          "Morocco",
          "Namibia",
          "Nepal",
          "Netherlands",
          "New Zealand",
          "Nicaragua",
          "Niger",
          "Nigeria",
          "Norway",
          "Oman",
          "Pakistan",
          "Panama",
          "Papua New Guinea",
          "Paraguay",
          "Peru",
          "Philippines",
          "Poland",
          "Portugal",
          "Qatar",
          "Romania",
          "Russia",
          "Rwanda",
          "Saint Vincent and the Grenadines",
          "San Marino",
          "Saudi Arabia",
          "Senegal",
          "Serbia",
          "Seychelles",
          "Singapore",
          "Slovenia",
          "Somalia",
          "South Africa",
          "Spain",
          "Sri Lanka",
          "Sudan",
          "Suriname",
          "Sweden",
          "Switzerland",
          "Tanzania",
          "Thailand",
          "Togo",
          "Trinidad and Tobago",
          "Tunisia",
          "Turkey",
          "Uganda",
          "Ukraine",
          "United Arab Emirates",
          "United Kingdom",
          "Uruguay",
          "United States",
          "Uzbekistan",
          "Vietnam",
          "Zambia",
          "Zimbabwe",
          "Dominica",
          "Grenada",
          "Mozambique",
          "Timor-Leste",
          "Belize",
          "West Bank and Gaza",
          "Guinea-Bissau",
          "Mali",
          "Kosovo",
          "Botswana",
          "Burundi",
          "Sierra Leone",
          "Malawi",
          "Sao Tome and Principe",
          "Comoros",
          "Tajikistan",
          "Lesotho"
         ],
         "text": [
          "Afghanistan",
          "Albania",
          "Algeria",
          "Andorra",
          "Angola",
          "Antigua and Barbuda",
          "Argentina",
          "Armenia",
          "Australia",
          "Austria",
          "Azerbaijan",
          "Bahrain",
          "Bangladesh",
          "Barbados",
          "Belarus",
          "Belgium",
          "Benin",
          "Bhutan",
          "Bolivia",
          "Bosnia and Herzegovina",
          "Brazil",
          "Brunei",
          "Bulgaria",
          "Burkina Faso",
          "Cabo Verde",
          "Cambodia",
          "Cameroon",
          "Canada",
          "Central African Republic",
          "Chad",
          "Chile",
          "China",
          "Colombia",
          "Costa Rica",
          "Cote d'Ivoire",
          "Croatia",
          "Cyprus",
          "Denmark",
          "Dominican Republic",
          "Ecuador",
          "El Salvador",
          "Equatorial Guinea",
          "Estonia",
          "Ethiopia",
          "Fiji",
          "Finland",
          "France",
          "Gabon",
          "Georgia",
          "Germany",
          "Ghana",
          "Greece",
          "Guatemala",
          "Guinea",
          "Guyana",
          "Haiti",
          "Honduras",
          "Hungary",
          "Iceland",
          "India",
          "Indonesia",
          "Iraq",
          "Ireland",
          "Israel",
          "Italy",
          "Jamaica",
          "Japan",
          "Jordan",
          "Kazakhstan",
          "Kenya",
          "Kuwait",
          "Kyrgyzstan",
          "Latvia",
          "Lebanon",
          "Liberia",
          "Lithuania",
          "Luxembourg",
          "Madagascar",
          "Malaysia",
          "Maldives",
          "Malta",
          "Mauritania",
          "Mauritius",
          "Mexico",
          "Moldova",
          "Mongolia",
          "Montenegro",
          "Morocco",
          "Namibia",
          "Nepal",
          "Netherlands",
          "New Zealand",
          "Nicaragua",
          "Niger",
          "Nigeria",
          "Norway",
          "Oman",
          "Pakistan",
          "Panama",
          "Papua New Guinea",
          "Paraguay",
          "Peru",
          "Philippines",
          "Poland",
          "Portugal",
          "Qatar",
          "Romania",
          "Russia",
          "Rwanda",
          "Saint Vincent and the Grenadines",
          "San Marino",
          "Saudi Arabia",
          "Senegal",
          "Serbia",
          "Seychelles",
          "Singapore",
          "Slovenia",
          "Somalia",
          "South Africa",
          "Spain",
          "Sri Lanka",
          "Sudan",
          "Suriname",
          "Sweden",
          "Switzerland",
          "Tanzania",
          "Thailand",
          "Togo",
          "Trinidad and Tobago",
          "Tunisia",
          "Turkey",
          "Uganda",
          "Ukraine",
          "United Arab Emirates",
          "United Kingdom",
          "Uruguay",
          "United States",
          "Uzbekistan",
          "Vietnam",
          "Zambia",
          "Zimbabwe",
          "Dominica",
          "Grenada",
          "Mozambique",
          "Timor-Leste",
          "Belize",
          "West Bank and Gaza",
          "Guinea-Bissau",
          "Mali",
          "Kosovo",
          "Botswana",
          "Burundi",
          "Sierra Leone",
          "Malawi",
          "Sao Tome and Principe",
          "Comoros",
          "Tajikistan",
          "Lesotho"
         ],
         "type": "choropleth",
         "z": [
          19.469022208,
          11.863865978,
          159.049096745,
          2.858517699,
          95.335111741,
          1.460144704,
          545.476103427,
          10.572298342,
          1204.616439828,
          390.799991147,
          37.847715736,
          32.179069149,
          221.415162446,
          4.52905,
          47.407217531,
          467.955709818,
          8.583031398,
          2.21263883,
          33.806395514,
          16.910277134,
          1796.186586414,
          11.400653732,
          53.237882473,
          11.693235542,
          1.617467436,
          20.016747754,
          32.21749747,
          1529.760492201,
          1.756124677,
          9.600761474,
          247.027912574,
          11199.145157649,
          282.462551367,
          57.435507212,
          36.372613023,
          50.714957391,
          20.047013274,
          306.89965341,
          71.583553488,
          98.613972,
          26.79747,
          10.684804794,
          23.337907619,
          72.374224249,
          4.703632978,
          238.502900312,
          2465.453975282,
          14.21355813,
          14.378016729,
          3477.796274497,
          42.689783734,
          192.690813127,
          68.763255964,
          8.200248003,
          3.502397094,
          8.022638722,
          21.51693891,
          125.816640421,
          20.047413006,
          2263.792499341,
          932.259177765,
          171.489001692,
          304.819020501,
          317.744784695,
          1858.913163928,
          14.056908749,
          4940.158776617,
          38.654727746,
          137.278320084,
          70.529014778,
          110.875579087,
          6.551287938,
          27.572698482,
          49.598825982,
          2.101,
          42.738875963,
          58.631324559,
          10.00119342,
          296.535930381,
          4.224209599,
          10.99904758,
          4.73929873,
          12.168437744,
          1046.922702461,
          6.749515655,
          11.183458131,
          4.374127212,
          103.606321693,
          10.94788069,
          21.131983246,
          777.227541581,
          184.969146624,
          13.230844687,
          7.528387858,
          404.652720165,
          371.076190476,
          66.29336801,
          278.913371202,
          55.1877,
          20.213214172,
          27.424071383,
          192.207342005,
          304.905406845,
          471.364408714,
          204.836597909,
          152.451923077,
          187.59203784,
          1283.162985989,
          8.376048905,
          0.768224227,
          1.590707965,
          646.43838056,
          14.683697631,
          38.299854688,
          1.427323889,
          296.97567861,
          44.708598649,
          6.217,
          295.456189492,
          1237.255019654,
          81.321876307,
          95.584380032,
          3.278425328,
          514.459972806,
          668.851296244,
          47.340071107,
          407.02612731,
          4.399995987,
          21.894706041,
          42.062549395,
          863.711710427,
          24.078931933,
          93.270479389,
          348.743265705,
          2647.898654635,
          52.419720714,
          18624.475,
          67.22033557,
          205.276172135,
          21.063989683,
          16.619960402,
          0.581484032,
          1.056188593,
          11.014858592,
          1.782974,
          1.7411,
          13.3971,
          1.16494451,
          14.034980334,
          6.649888889,
          15.581137274,
          3.00702903,
          3.736588554,
          5.433038647,
          0.342781716,
          0.61665449,
          6.951657159,
          2.291321667
         ]
        }
       ],
       "layout": {
        "geo": {
         "projection": {
          "type": "mercator"
         },
         "showframe": false
        },
        "template": {
         "data": {
          "bar": [
           {
            "error_x": {
             "color": "#2a3f5f"
            },
            "error_y": {
             "color": "#2a3f5f"
            },
            "marker": {
             "line": {
              "color": "#E5ECF6",
              "width": 0.5
             }
            },
            "type": "bar"
           }
          ],
          "barpolar": [
           {
            "marker": {
             "line": {
              "color": "#E5ECF6",
              "width": 0.5
             }
            },
            "type": "barpolar"
           }
          ],
          "carpet": [
           {
            "aaxis": {
             "endlinecolor": "#2a3f5f",
             "gridcolor": "white",
             "linecolor": "white",
             "minorgridcolor": "white",
             "startlinecolor": "#2a3f5f"
            },
            "baxis": {
             "endlinecolor": "#2a3f5f",
             "gridcolor": "white",
             "linecolor": "white",
             "minorgridcolor": "white",
             "startlinecolor": "#2a3f5f"
            },
            "type": "carpet"
           }
          ],
          "choropleth": [
           {
            "colorbar": {
             "outlinewidth": 0,
             "ticks": ""
            },
            "type": "choropleth"
           }
          ],
          "contour": [
           {
            "colorbar": {
             "outlinewidth": 0,
             "ticks": ""
            },
            "colorscale": [
             [
              0,
              "#0d0887"
             ],
             [
              0.1111111111111111,
              "#46039f"
             ],
             [
              0.2222222222222222,
              "#7201a8"
             ],
             [
              0.3333333333333333,
              "#9c179e"
             ],
             [
              0.4444444444444444,
              "#bd3786"
             ],
             [
              0.5555555555555556,
              "#d8576b"
             ],
             [
              0.6666666666666666,
              "#ed7953"
             ],
             [
              0.7777777777777778,
              "#fb9f3a"
             ],
             [
              0.8888888888888888,
              "#fdca26"
             ],
             [
              1,
              "#f0f921"
             ]
            ],
            "type": "contour"
           }
          ],
          "contourcarpet": [
           {
            "colorbar": {
             "outlinewidth": 0,
             "ticks": ""
            },
            "type": "contourcarpet"
           }
          ],
          "heatmap": [
           {
            "colorbar": {
             "outlinewidth": 0,
             "ticks": ""
            },
            "colorscale": [
             [
              0,
              "#0d0887"
             ],
             [
              0.1111111111111111,
              "#46039f"
             ],
             [
              0.2222222222222222,
              "#7201a8"
             ],
             [
              0.3333333333333333,
              "#9c179e"
             ],
             [
              0.4444444444444444,
              "#bd3786"
             ],
             [
              0.5555555555555556,
              "#d8576b"
             ],
             [
              0.6666666666666666,
              "#ed7953"
             ],
             [
              0.7777777777777778,
              "#fb9f3a"
             ],
             [
              0.8888888888888888,
              "#fdca26"
             ],
             [
              1,
              "#f0f921"
             ]
            ],
            "type": "heatmap"
           }
          ],
          "heatmapgl": [
           {
            "colorbar": {
             "outlinewidth": 0,
             "ticks": ""
            },
            "colorscale": [
             [
              0,
              "#0d0887"
             ],
             [
              0.1111111111111111,
              "#46039f"
             ],
             [
              0.2222222222222222,
              "#7201a8"
             ],
             [
              0.3333333333333333,
              "#9c179e"
             ],
             [
              0.4444444444444444,
              "#bd3786"
             ],
             [
              0.5555555555555556,
              "#d8576b"
             ],
             [
              0.6666666666666666,
              "#ed7953"
             ],
             [
              0.7777777777777778,
              "#fb9f3a"
             ],
             [
              0.8888888888888888,
              "#fdca26"
             ],
             [
              1,
              "#f0f921"
             ]
            ],
            "type": "heatmapgl"
           }
          ],
          "histogram": [
           {
            "marker": {
             "colorbar": {
              "outlinewidth": 0,
              "ticks": ""
             }
            },
            "type": "histogram"
           }
          ],
          "histogram2d": [
           {
            "colorbar": {
             "outlinewidth": 0,
             "ticks": ""
            },
            "colorscale": [
             [
              0,
              "#0d0887"
             ],
             [
              0.1111111111111111,
              "#46039f"
             ],
             [
              0.2222222222222222,
              "#7201a8"
             ],
             [
              0.3333333333333333,
              "#9c179e"
             ],
             [
              0.4444444444444444,
              "#bd3786"
             ],
             [
              0.5555555555555556,
              "#d8576b"
             ],
             [
              0.6666666666666666,
              "#ed7953"
             ],
             [
              0.7777777777777778,
              "#fb9f3a"
             ],
             [
              0.8888888888888888,
              "#fdca26"
             ],
             [
              1,
              "#f0f921"
             ]
            ],
            "type": "histogram2d"
           }
          ],
          "histogram2dcontour": [
           {
            "colorbar": {
             "outlinewidth": 0,
             "ticks": ""
            },
            "colorscale": [
             [
              0,
              "#0d0887"
             ],
             [
              0.1111111111111111,
              "#46039f"
             ],
             [
              0.2222222222222222,
              "#7201a8"
             ],
             [
              0.3333333333333333,
              "#9c179e"
             ],
             [
              0.4444444444444444,
              "#bd3786"
             ],
             [
              0.5555555555555556,
              "#d8576b"
             ],
             [
              0.6666666666666666,
              "#ed7953"
             ],
             [
              0.7777777777777778,
              "#fb9f3a"
             ],
             [
              0.8888888888888888,
              "#fdca26"
             ],
             [
              1,
              "#f0f921"
             ]
            ],
            "type": "histogram2dcontour"
           }
          ],
          "mesh3d": [
           {
            "colorbar": {
             "outlinewidth": 0,
             "ticks": ""
            },
            "type": "mesh3d"
           }
          ],
          "parcoords": [
           {
            "line": {
             "colorbar": {
              "outlinewidth": 0,
              "ticks": ""
             }
            },
            "type": "parcoords"
           }
          ],
          "pie": [
           {
            "automargin": true,
            "type": "pie"
           }
          ],
          "scatter": [
           {
            "marker": {
             "colorbar": {
              "outlinewidth": 0,
              "ticks": ""
             }
            },
            "type": "scatter"
           }
          ],
          "scatter3d": [
           {
            "line": {
             "colorbar": {
              "outlinewidth": 0,
              "ticks": ""
             }
            },
            "marker": {
             "colorbar": {
              "outlinewidth": 0,
              "ticks": ""
             }
            },
            "type": "scatter3d"
           }
          ],
          "scattercarpet": [
           {
            "marker": {
             "colorbar": {
              "outlinewidth": 0,
              "ticks": ""
             }
            },
            "type": "scattercarpet"
           }
          ],
          "scattergeo": [
           {
            "marker": {
             "colorbar": {
              "outlinewidth": 0,
              "ticks": ""
             }
            },
            "type": "scattergeo"
           }
          ],
          "scattergl": [
           {
            "marker": {
             "colorbar": {
              "outlinewidth": 0,
              "ticks": ""
             }
            },
            "type": "scattergl"
           }
          ],
          "scattermapbox": [
           {
            "marker": {
             "colorbar": {
              "outlinewidth": 0,
              "ticks": ""
             }
            },
            "type": "scattermapbox"
           }
          ],
          "scatterpolar": [
           {
            "marker": {
             "colorbar": {
              "outlinewidth": 0,
              "ticks": ""
             }
            },
            "type": "scatterpolar"
           }
          ],
          "scatterpolargl": [
           {
            "marker": {
             "colorbar": {
              "outlinewidth": 0,
              "ticks": ""
             }
            },
            "type": "scatterpolargl"
           }
          ],
          "scatterternary": [
           {
            "marker": {
             "colorbar": {
              "outlinewidth": 0,
              "ticks": ""
             }
            },
            "type": "scatterternary"
           }
          ],
          "surface": [
           {
            "colorbar": {
             "outlinewidth": 0,
             "ticks": ""
            },
            "colorscale": [
             [
              0,
              "#0d0887"
             ],
             [
              0.1111111111111111,
              "#46039f"
             ],
             [
              0.2222222222222222,
              "#7201a8"
             ],
             [
              0.3333333333333333,
              "#9c179e"
             ],
             [
              0.4444444444444444,
              "#bd3786"
             ],
             [
              0.5555555555555556,
              "#d8576b"
             ],
             [
              0.6666666666666666,
              "#ed7953"
             ],
             [
              0.7777777777777778,
              "#fb9f3a"
             ],
             [
              0.8888888888888888,
              "#fdca26"
             ],
             [
              1,
              "#f0f921"
             ]
            ],
            "type": "surface"
           }
          ],
          "table": [
           {
            "cells": {
             "fill": {
              "color": "#EBF0F8"
             },
             "line": {
              "color": "white"
             }
            },
            "header": {
             "fill": {
              "color": "#C8D4E3"
             },
             "line": {
              "color": "white"
             }
            },
            "type": "table"
           }
          ]
         },
         "layout": {
          "annotationdefaults": {
           "arrowcolor": "#2a3f5f",
           "arrowhead": 0,
           "arrowwidth": 1
          },
          "coloraxis": {
           "colorbar": {
            "outlinewidth": 0,
            "ticks": ""
           }
          },
          "colorscale": {
           "diverging": [
            [
             0,
             "#8e0152"
            ],
            [
             0.1,
             "#c51b7d"
            ],
            [
             0.2,
             "#de77ae"
            ],
            [
             0.3,
             "#f1b6da"
            ],
            [
             0.4,
             "#fde0ef"
            ],
            [
             0.5,
             "#f7f7f7"
            ],
            [
             0.6,
             "#e6f5d0"
            ],
            [
             0.7,
             "#b8e186"
            ],
            [
             0.8,
             "#7fbc41"
            ],
            [
             0.9,
             "#4d9221"
            ],
            [
             1,
             "#276419"
            ]
           ],
           "sequential": [
            [
             0,
             "#0d0887"
            ],
            [
             0.1111111111111111,
             "#46039f"
            ],
            [
             0.2222222222222222,
             "#7201a8"
            ],
            [
             0.3333333333333333,
             "#9c179e"
            ],
            [
             0.4444444444444444,
             "#bd3786"
            ],
            [
             0.5555555555555556,
             "#d8576b"
            ],
            [
             0.6666666666666666,
             "#ed7953"
            ],
            [
             0.7777777777777778,
             "#fb9f3a"
            ],
            [
             0.8888888888888888,
             "#fdca26"
            ],
            [
             1,
             "#f0f921"
            ]
           ],
           "sequentialminus": [
            [
             0,
             "#0d0887"
            ],
            [
             0.1111111111111111,
             "#46039f"
            ],
            [
             0.2222222222222222,
             "#7201a8"
            ],
            [
             0.3333333333333333,
             "#9c179e"
            ],
            [
             0.4444444444444444,
             "#bd3786"
            ],
            [
             0.5555555555555556,
             "#d8576b"
            ],
            [
             0.6666666666666666,
             "#ed7953"
            ],
            [
             0.7777777777777778,
             "#fb9f3a"
            ],
            [
             0.8888888888888888,
             "#fdca26"
            ],
            [
             1,
             "#f0f921"
            ]
           ]
          },
          "colorway": [
           "#636efa",
           "#EF553B",
           "#00cc96",
           "#ab63fa",
           "#FFA15A",
           "#19d3f3",
           "#FF6692",
           "#B6E880",
           "#FF97FF",
           "#FECB52"
          ],
          "font": {
           "color": "#2a3f5f"
          },
          "geo": {
           "bgcolor": "white",
           "lakecolor": "white",
           "landcolor": "#E5ECF6",
           "showlakes": true,
           "showland": true,
           "subunitcolor": "white"
          },
          "hoverlabel": {
           "align": "left"
          },
          "hovermode": "closest",
          "mapbox": {
           "style": "light"
          },
          "paper_bgcolor": "white",
          "plot_bgcolor": "#E5ECF6",
          "polar": {
           "angularaxis": {
            "gridcolor": "white",
            "linecolor": "white",
            "ticks": ""
           },
           "bgcolor": "#E5ECF6",
           "radialaxis": {
            "gridcolor": "white",
            "linecolor": "white",
            "ticks": ""
           }
          },
          "scene": {
           "xaxis": {
            "backgroundcolor": "#E5ECF6",
            "gridcolor": "white",
            "gridwidth": 2,
            "linecolor": "white",
            "showbackground": true,
            "ticks": "",
            "zerolinecolor": "white"
           },
           "yaxis": {
            "backgroundcolor": "#E5ECF6",
            "gridcolor": "white",
            "gridwidth": 2,
            "linecolor": "white",
            "showbackground": true,
            "ticks": "",
            "zerolinecolor": "white"
           },
           "zaxis": {
            "backgroundcolor": "#E5ECF6",
            "gridcolor": "white",
            "gridwidth": 2,
            "linecolor": "white",
            "showbackground": true,
            "ticks": "",
            "zerolinecolor": "white"
           }
          },
          "shapedefaults": {
           "line": {
            "color": "#2a3f5f"
           }
          },
          "ternary": {
           "aaxis": {
            "gridcolor": "white",
            "linecolor": "white",
            "ticks": ""
           },
           "baxis": {
            "gridcolor": "white",
            "linecolor": "white",
            "ticks": ""
           },
           "bgcolor": "#E5ECF6",
           "caxis": {
            "gridcolor": "white",
            "linecolor": "white",
            "ticks": ""
           }
          },
          "title": {
           "x": 0.05
          },
          "xaxis": {
           "automargin": true,
           "gridcolor": "white",
           "linecolor": "white",
           "ticks": "",
           "title": {
            "standoff": 15
           },
           "zerolinecolor": "white",
           "zerolinewidth": 2
          },
          "yaxis": {
           "automargin": true,
           "gridcolor": "white",
           "linecolor": "white",
           "ticks": "",
           "title": {
            "standoff": 15
           },
           "zerolinecolor": "white",
           "zerolinewidth": 2
          }
         }
        },
        "title": {
         "text": "Среднедушевой доход в тыс. долларов США"
        }
       }
      },
      "text/html": [
       "<div>\n",
       "        \n",
       "        \n",
       "            <div id=\"edf4d424-8e5b-460d-86f8-5280699594d7\" class=\"plotly-graph-div\" style=\"height:525px; width:100%;\"></div>\n",
       "            <script type=\"text/javascript\">\n",
       "                require([\"plotly\"], function(Plotly) {\n",
       "                    window.PLOTLYENV=window.PLOTLYENV || {};\n",
       "                    \n",
       "                if (document.getElementById(\"edf4d424-8e5b-460d-86f8-5280699594d7\")) {\n",
       "                    Plotly.newPlot(\n",
       "                        'edf4d424-8e5b-460d-86f8-5280699594d7',\n",
       "                        [{\"colorbar\": {\"title\": {\"text\": \"\\u0421\\u0440\\u0435\\u0434\\u043d\\u0435\\u0434\\u0443\\u0448\\u0435\\u0432\\u043e\\u0439 \\u0434\\u043e\\u0445\\u043e\\u0434(\\u0442\\u044b\\u0441.\\u0434\\u043e\\u043b\\u043b\\u0430\\u0440\\u043e\\u0432)\"}}, \"locationmode\": \"country names\", \"locations\": [\"Afghanistan\", \"Albania\", \"Algeria\", \"Andorra\", \"Angola\", \"Antigua and Barbuda\", \"Argentina\", \"Armenia\", \"Australia\", \"Austria\", \"Azerbaijan\", \"Bahrain\", \"Bangladesh\", \"Barbados\", \"Belarus\", \"Belgium\", \"Benin\", \"Bhutan\", \"Bolivia\", \"Bosnia and Herzegovina\", \"Brazil\", \"Brunei\", \"Bulgaria\", \"Burkina Faso\", \"Cabo Verde\", \"Cambodia\", \"Cameroon\", \"Canada\", \"Central African Republic\", \"Chad\", \"Chile\", \"China\", \"Colombia\", \"Costa Rica\", \"Cote d'Ivoire\", \"Croatia\", \"Cyprus\", \"Denmark\", \"Dominican Republic\", \"Ecuador\", \"El Salvador\", \"Equatorial Guinea\", \"Estonia\", \"Ethiopia\", \"Fiji\", \"Finland\", \"France\", \"Gabon\", \"Georgia\", \"Germany\", \"Ghana\", \"Greece\", \"Guatemala\", \"Guinea\", \"Guyana\", \"Haiti\", \"Honduras\", \"Hungary\", \"Iceland\", \"India\", \"Indonesia\", \"Iraq\", \"Ireland\", \"Israel\", \"Italy\", \"Jamaica\", \"Japan\", \"Jordan\", \"Kazakhstan\", \"Kenya\", \"Kuwait\", \"Kyrgyzstan\", \"Latvia\", \"Lebanon\", \"Liberia\", \"Lithuania\", \"Luxembourg\", \"Madagascar\", \"Malaysia\", \"Maldives\", \"Malta\", \"Mauritania\", \"Mauritius\", \"Mexico\", \"Moldova\", \"Mongolia\", \"Montenegro\", \"Morocco\", \"Namibia\", \"Nepal\", \"Netherlands\", \"New Zealand\", \"Nicaragua\", \"Niger\", \"Nigeria\", \"Norway\", \"Oman\", \"Pakistan\", \"Panama\", \"Papua New Guinea\", \"Paraguay\", \"Peru\", \"Philippines\", \"Poland\", \"Portugal\", \"Qatar\", \"Romania\", \"Russia\", \"Rwanda\", \"Saint Vincent and the Grenadines\", \"San Marino\", \"Saudi Arabia\", \"Senegal\", \"Serbia\", \"Seychelles\", \"Singapore\", \"Slovenia\", \"Somalia\", \"South Africa\", \"Spain\", \"Sri Lanka\", \"Sudan\", \"Suriname\", \"Sweden\", \"Switzerland\", \"Tanzania\", \"Thailand\", \"Togo\", \"Trinidad and Tobago\", \"Tunisia\", \"Turkey\", \"Uganda\", \"Ukraine\", \"United Arab Emirates\", \"United Kingdom\", \"Uruguay\", \"United States\", \"Uzbekistan\", \"Vietnam\", \"Zambia\", \"Zimbabwe\", \"Dominica\", \"Grenada\", \"Mozambique\", \"Timor-Leste\", \"Belize\", \"West Bank and Gaza\", \"Guinea-Bissau\", \"Mali\", \"Kosovo\", \"Botswana\", \"Burundi\", \"Sierra Leone\", \"Malawi\", \"Sao Tome and Principe\", \"Comoros\", \"Tajikistan\", \"Lesotho\"], \"text\": [\"Afghanistan\", \"Albania\", \"Algeria\", \"Andorra\", \"Angola\", \"Antigua and Barbuda\", \"Argentina\", \"Armenia\", \"Australia\", \"Austria\", \"Azerbaijan\", \"Bahrain\", \"Bangladesh\", \"Barbados\", \"Belarus\", \"Belgium\", \"Benin\", \"Bhutan\", \"Bolivia\", \"Bosnia and Herzegovina\", \"Brazil\", \"Brunei\", \"Bulgaria\", \"Burkina Faso\", \"Cabo Verde\", \"Cambodia\", \"Cameroon\", \"Canada\", \"Central African Republic\", \"Chad\", \"Chile\", \"China\", \"Colombia\", \"Costa Rica\", \"Cote d'Ivoire\", \"Croatia\", \"Cyprus\", \"Denmark\", \"Dominican Republic\", \"Ecuador\", \"El Salvador\", \"Equatorial Guinea\", \"Estonia\", \"Ethiopia\", \"Fiji\", \"Finland\", \"France\", \"Gabon\", \"Georgia\", \"Germany\", \"Ghana\", \"Greece\", \"Guatemala\", \"Guinea\", \"Guyana\", \"Haiti\", \"Honduras\", \"Hungary\", \"Iceland\", \"India\", \"Indonesia\", \"Iraq\", \"Ireland\", \"Israel\", \"Italy\", \"Jamaica\", \"Japan\", \"Jordan\", \"Kazakhstan\", \"Kenya\", \"Kuwait\", \"Kyrgyzstan\", \"Latvia\", \"Lebanon\", \"Liberia\", \"Lithuania\", \"Luxembourg\", \"Madagascar\", \"Malaysia\", \"Maldives\", \"Malta\", \"Mauritania\", \"Mauritius\", \"Mexico\", \"Moldova\", \"Mongolia\", \"Montenegro\", \"Morocco\", \"Namibia\", \"Nepal\", \"Netherlands\", \"New Zealand\", \"Nicaragua\", \"Niger\", \"Nigeria\", \"Norway\", \"Oman\", \"Pakistan\", \"Panama\", \"Papua New Guinea\", \"Paraguay\", \"Peru\", \"Philippines\", \"Poland\", \"Portugal\", \"Qatar\", \"Romania\", \"Russia\", \"Rwanda\", \"Saint Vincent and the Grenadines\", \"San Marino\", \"Saudi Arabia\", \"Senegal\", \"Serbia\", \"Seychelles\", \"Singapore\", \"Slovenia\", \"Somalia\", \"South Africa\", \"Spain\", \"Sri Lanka\", \"Sudan\", \"Suriname\", \"Sweden\", \"Switzerland\", \"Tanzania\", \"Thailand\", \"Togo\", \"Trinidad and Tobago\", \"Tunisia\", \"Turkey\", \"Uganda\", \"Ukraine\", \"United Arab Emirates\", \"United Kingdom\", \"Uruguay\", \"United States\", \"Uzbekistan\", \"Vietnam\", \"Zambia\", \"Zimbabwe\", \"Dominica\", \"Grenada\", \"Mozambique\", \"Timor-Leste\", \"Belize\", \"West Bank and Gaza\", \"Guinea-Bissau\", \"Mali\", \"Kosovo\", \"Botswana\", \"Burundi\", \"Sierra Leone\", \"Malawi\", \"Sao Tome and Principe\", \"Comoros\", \"Tajikistan\", \"Lesotho\"], \"type\": \"choropleth\", \"z\": [19.469022208, 11.863865978, 159.049096745, 2.858517699, 95.335111741, 1.460144704, 545.476103427, 10.572298342, 1204.616439828, 390.799991147, 37.847715736, 32.179069149, 221.415162446, 4.52905, 47.407217531, 467.955709818, 8.583031398, 2.21263883, 33.806395514, 16.910277134, 1796.186586414, 11.400653732, 53.237882473, 11.693235542, 1.617467436, 20.016747754, 32.21749747, 1529.760492201, 1.756124677, 9.600761474, 247.027912574, 11199.145157649, 282.462551367, 57.435507212, 36.372613023, 50.714957391, 20.047013274, 306.89965341, 71.583553488, 98.613972, 26.79747, 10.684804794, 23.337907619, 72.374224249, 4.703632978, 238.502900312, 2465.453975282, 14.21355813, 14.378016729, 3477.796274497, 42.689783734, 192.690813127, 68.763255964, 8.200248003, 3.502397094, 8.022638722, 21.51693891, 125.816640421, 20.047413006, 2263.792499341, 932.259177765, 171.489001692, 304.819020501, 317.744784695, 1858.913163928, 14.056908749, 4940.158776617, 38.654727746, 137.278320084, 70.529014778, 110.875579087, 6.551287938, 27.572698482, 49.598825982, 2.101, 42.738875963, 58.631324559, 10.00119342, 296.535930381, 4.224209599, 10.99904758, 4.73929873, 12.168437744, 1046.922702461, 6.749515655, 11.183458131, 4.374127212, 103.606321693, 10.94788069, 21.131983246, 777.227541581, 184.969146624, 13.230844687, 7.528387858, 404.652720165, 371.076190476, 66.29336801, 278.913371202, 55.1877, 20.213214172, 27.424071383, 192.207342005, 304.905406845, 471.364408714, 204.836597909, 152.451923077, 187.59203784, 1283.162985989, 8.376048905, 0.768224227, 1.590707965, 646.43838056, 14.683697631, 38.299854688, 1.427323889, 296.97567861, 44.708598649, 6.217, 295.456189492, 1237.255019654, 81.321876307, 95.584380032, 3.278425328, 514.459972806, 668.851296244, 47.340071107, 407.02612731, 4.399995987, 21.894706041, 42.062549395, 863.711710427, 24.078931933, 93.270479389, 348.743265705, 2647.898654635, 52.419720714, 18624.475, 67.22033557, 205.276172135, 21.063989683, 16.619960402, 0.581484032, 1.056188593, 11.014858592, 1.782974, 1.7411, 13.3971, 1.16494451, 14.034980334, 6.649888889, 15.581137274, 3.00702903, 3.736588554, 5.433038647, 0.342781716, 0.61665449, 6.951657159, 2.291321667]}],\n",
       "                        {\"geo\": {\"projection\": {\"type\": \"mercator\"}, \"showframe\": false}, \"template\": {\"data\": {\"bar\": [{\"error_x\": {\"color\": \"#2a3f5f\"}, \"error_y\": {\"color\": \"#2a3f5f\"}, \"marker\": {\"line\": {\"color\": \"#E5ECF6\", \"width\": 0.5}}, \"type\": \"bar\"}], \"barpolar\": [{\"marker\": {\"line\": {\"color\": \"#E5ECF6\", \"width\": 0.5}}, \"type\": \"barpolar\"}], \"carpet\": [{\"aaxis\": {\"endlinecolor\": \"#2a3f5f\", \"gridcolor\": \"white\", \"linecolor\": \"white\", \"minorgridcolor\": \"white\", \"startlinecolor\": \"#2a3f5f\"}, \"baxis\": {\"endlinecolor\": \"#2a3f5f\", \"gridcolor\": \"white\", \"linecolor\": \"white\", \"minorgridcolor\": \"white\", \"startlinecolor\": \"#2a3f5f\"}, \"type\": \"carpet\"}], \"choropleth\": [{\"colorbar\": {\"outlinewidth\": 0, \"ticks\": \"\"}, \"type\": \"choropleth\"}], \"contour\": [{\"colorbar\": {\"outlinewidth\": 0, \"ticks\": \"\"}, \"colorscale\": [[0.0, \"#0d0887\"], [0.1111111111111111, \"#46039f\"], [0.2222222222222222, \"#7201a8\"], [0.3333333333333333, \"#9c179e\"], [0.4444444444444444, \"#bd3786\"], [0.5555555555555556, \"#d8576b\"], [0.6666666666666666, \"#ed7953\"], [0.7777777777777778, \"#fb9f3a\"], [0.8888888888888888, \"#fdca26\"], [1.0, \"#f0f921\"]], \"type\": \"contour\"}], \"contourcarpet\": [{\"colorbar\": {\"outlinewidth\": 0, \"ticks\": \"\"}, \"type\": \"contourcarpet\"}], \"heatmap\": [{\"colorbar\": {\"outlinewidth\": 0, \"ticks\": \"\"}, \"colorscale\": [[0.0, \"#0d0887\"], [0.1111111111111111, \"#46039f\"], [0.2222222222222222, \"#7201a8\"], [0.3333333333333333, \"#9c179e\"], [0.4444444444444444, \"#bd3786\"], [0.5555555555555556, \"#d8576b\"], [0.6666666666666666, \"#ed7953\"], [0.7777777777777778, \"#fb9f3a\"], [0.8888888888888888, \"#fdca26\"], [1.0, \"#f0f921\"]], \"type\": \"heatmap\"}], \"heatmapgl\": [{\"colorbar\": {\"outlinewidth\": 0, \"ticks\": \"\"}, \"colorscale\": [[0.0, \"#0d0887\"], [0.1111111111111111, \"#46039f\"], [0.2222222222222222, \"#7201a8\"], [0.3333333333333333, \"#9c179e\"], [0.4444444444444444, \"#bd3786\"], [0.5555555555555556, \"#d8576b\"], [0.6666666666666666, \"#ed7953\"], [0.7777777777777778, \"#fb9f3a\"], [0.8888888888888888, \"#fdca26\"], [1.0, \"#f0f921\"]], \"type\": \"heatmapgl\"}], \"histogram\": [{\"marker\": {\"colorbar\": {\"outlinewidth\": 0, \"ticks\": \"\"}}, \"type\": \"histogram\"}], \"histogram2d\": [{\"colorbar\": {\"outlinewidth\": 0, \"ticks\": \"\"}, \"colorscale\": [[0.0, \"#0d0887\"], [0.1111111111111111, \"#46039f\"], [0.2222222222222222, \"#7201a8\"], [0.3333333333333333, \"#9c179e\"], [0.4444444444444444, \"#bd3786\"], [0.5555555555555556, \"#d8576b\"], [0.6666666666666666, \"#ed7953\"], [0.7777777777777778, \"#fb9f3a\"], [0.8888888888888888, \"#fdca26\"], [1.0, \"#f0f921\"]], \"type\": \"histogram2d\"}], \"histogram2dcontour\": [{\"colorbar\": {\"outlinewidth\": 0, \"ticks\": \"\"}, \"colorscale\": [[0.0, \"#0d0887\"], [0.1111111111111111, \"#46039f\"], [0.2222222222222222, \"#7201a8\"], [0.3333333333333333, \"#9c179e\"], [0.4444444444444444, \"#bd3786\"], [0.5555555555555556, \"#d8576b\"], [0.6666666666666666, \"#ed7953\"], [0.7777777777777778, \"#fb9f3a\"], [0.8888888888888888, \"#fdca26\"], [1.0, \"#f0f921\"]], \"type\": \"histogram2dcontour\"}], \"mesh3d\": [{\"colorbar\": {\"outlinewidth\": 0, \"ticks\": \"\"}, \"type\": \"mesh3d\"}], \"parcoords\": [{\"line\": {\"colorbar\": {\"outlinewidth\": 0, \"ticks\": \"\"}}, \"type\": \"parcoords\"}], \"pie\": [{\"automargin\": true, \"type\": \"pie\"}], \"scatter\": [{\"marker\": {\"colorbar\": {\"outlinewidth\": 0, \"ticks\": \"\"}}, \"type\": \"scatter\"}], \"scatter3d\": [{\"line\": {\"colorbar\": {\"outlinewidth\": 0, \"ticks\": \"\"}}, \"marker\": {\"colorbar\": {\"outlinewidth\": 0, \"ticks\": \"\"}}, \"type\": \"scatter3d\"}], \"scattercarpet\": [{\"marker\": {\"colorbar\": {\"outlinewidth\": 0, \"ticks\": \"\"}}, \"type\": \"scattercarpet\"}], \"scattergeo\": [{\"marker\": {\"colorbar\": {\"outlinewidth\": 0, \"ticks\": \"\"}}, \"type\": \"scattergeo\"}], \"scattergl\": [{\"marker\": {\"colorbar\": {\"outlinewidth\": 0, \"ticks\": \"\"}}, \"type\": \"scattergl\"}], \"scattermapbox\": [{\"marker\": {\"colorbar\": {\"outlinewidth\": 0, \"ticks\": \"\"}}, \"type\": \"scattermapbox\"}], \"scatterpolar\": [{\"marker\": {\"colorbar\": {\"outlinewidth\": 0, \"ticks\": \"\"}}, \"type\": \"scatterpolar\"}], \"scatterpolargl\": [{\"marker\": {\"colorbar\": {\"outlinewidth\": 0, \"ticks\": \"\"}}, \"type\": \"scatterpolargl\"}], \"scatterternary\": [{\"marker\": {\"colorbar\": {\"outlinewidth\": 0, \"ticks\": \"\"}}, \"type\": \"scatterternary\"}], \"surface\": [{\"colorbar\": {\"outlinewidth\": 0, \"ticks\": \"\"}, \"colorscale\": [[0.0, \"#0d0887\"], [0.1111111111111111, \"#46039f\"], [0.2222222222222222, \"#7201a8\"], [0.3333333333333333, \"#9c179e\"], [0.4444444444444444, \"#bd3786\"], [0.5555555555555556, \"#d8576b\"], [0.6666666666666666, \"#ed7953\"], [0.7777777777777778, \"#fb9f3a\"], [0.8888888888888888, \"#fdca26\"], [1.0, \"#f0f921\"]], \"type\": \"surface\"}], \"table\": [{\"cells\": {\"fill\": {\"color\": \"#EBF0F8\"}, \"line\": {\"color\": \"white\"}}, \"header\": {\"fill\": {\"color\": \"#C8D4E3\"}, \"line\": {\"color\": \"white\"}}, \"type\": \"table\"}]}, \"layout\": {\"annotationdefaults\": {\"arrowcolor\": \"#2a3f5f\", \"arrowhead\": 0, \"arrowwidth\": 1}, \"coloraxis\": {\"colorbar\": {\"outlinewidth\": 0, \"ticks\": \"\"}}, \"colorscale\": {\"diverging\": [[0, \"#8e0152\"], [0.1, \"#c51b7d\"], [0.2, \"#de77ae\"], [0.3, \"#f1b6da\"], [0.4, \"#fde0ef\"], [0.5, \"#f7f7f7\"], [0.6, \"#e6f5d0\"], [0.7, \"#b8e186\"], [0.8, \"#7fbc41\"], [0.9, \"#4d9221\"], [1, \"#276419\"]], \"sequential\": [[0.0, \"#0d0887\"], [0.1111111111111111, \"#46039f\"], [0.2222222222222222, \"#7201a8\"], [0.3333333333333333, \"#9c179e\"], [0.4444444444444444, \"#bd3786\"], [0.5555555555555556, \"#d8576b\"], [0.6666666666666666, \"#ed7953\"], [0.7777777777777778, \"#fb9f3a\"], [0.8888888888888888, \"#fdca26\"], [1.0, \"#f0f921\"]], \"sequentialminus\": [[0.0, \"#0d0887\"], [0.1111111111111111, \"#46039f\"], [0.2222222222222222, \"#7201a8\"], [0.3333333333333333, \"#9c179e\"], [0.4444444444444444, \"#bd3786\"], [0.5555555555555556, \"#d8576b\"], [0.6666666666666666, \"#ed7953\"], [0.7777777777777778, \"#fb9f3a\"], [0.8888888888888888, \"#fdca26\"], [1.0, \"#f0f921\"]]}, \"colorway\": [\"#636efa\", \"#EF553B\", \"#00cc96\", \"#ab63fa\", \"#FFA15A\", \"#19d3f3\", \"#FF6692\", \"#B6E880\", \"#FF97FF\", \"#FECB52\"], \"font\": {\"color\": \"#2a3f5f\"}, \"geo\": {\"bgcolor\": \"white\", \"lakecolor\": \"white\", \"landcolor\": \"#E5ECF6\", \"showlakes\": true, \"showland\": true, \"subunitcolor\": \"white\"}, \"hoverlabel\": {\"align\": \"left\"}, \"hovermode\": \"closest\", \"mapbox\": {\"style\": \"light\"}, \"paper_bgcolor\": \"white\", \"plot_bgcolor\": \"#E5ECF6\", \"polar\": {\"angularaxis\": {\"gridcolor\": \"white\", \"linecolor\": \"white\", \"ticks\": \"\"}, \"bgcolor\": \"#E5ECF6\", \"radialaxis\": {\"gridcolor\": \"white\", \"linecolor\": \"white\", \"ticks\": \"\"}}, \"scene\": {\"xaxis\": {\"backgroundcolor\": \"#E5ECF6\", \"gridcolor\": \"white\", \"gridwidth\": 2, \"linecolor\": \"white\", \"showbackground\": true, \"ticks\": \"\", \"zerolinecolor\": \"white\"}, \"yaxis\": {\"backgroundcolor\": \"#E5ECF6\", \"gridcolor\": \"white\", \"gridwidth\": 2, \"linecolor\": \"white\", \"showbackground\": true, \"ticks\": \"\", \"zerolinecolor\": \"white\"}, \"zaxis\": {\"backgroundcolor\": \"#E5ECF6\", \"gridcolor\": \"white\", \"gridwidth\": 2, \"linecolor\": \"white\", \"showbackground\": true, \"ticks\": \"\", \"zerolinecolor\": \"white\"}}, \"shapedefaults\": {\"line\": {\"color\": \"#2a3f5f\"}}, \"ternary\": {\"aaxis\": {\"gridcolor\": \"white\", \"linecolor\": \"white\", \"ticks\": \"\"}, \"baxis\": {\"gridcolor\": \"white\", \"linecolor\": \"white\", \"ticks\": \"\"}, \"bgcolor\": \"#E5ECF6\", \"caxis\": {\"gridcolor\": \"white\", \"linecolor\": \"white\", \"ticks\": \"\"}}, \"title\": {\"x\": 0.05}, \"xaxis\": {\"automargin\": true, \"gridcolor\": \"white\", \"linecolor\": \"white\", \"ticks\": \"\", \"title\": {\"standoff\": 15}, \"zerolinecolor\": \"white\", \"zerolinewidth\": 2}, \"yaxis\": {\"automargin\": true, \"gridcolor\": \"white\", \"linecolor\": \"white\", \"ticks\": \"\", \"title\": {\"standoff\": 15}, \"zerolinecolor\": \"white\", \"zerolinewidth\": 2}}}, \"title\": {\"text\": \"\\u0421\\u0440\\u0435\\u0434\\u043d\\u0435\\u0434\\u0443\\u0448\\u0435\\u0432\\u043e\\u0439 \\u0434\\u043e\\u0445\\u043e\\u0434 \\u0432 \\u0442\\u044b\\u0441. \\u0434\\u043e\\u043b\\u043b\\u0430\\u0440\\u043e\\u0432 \\u0421\\u0428\\u0410\"}},\n",
       "                        {\"responsive\": true}\n",
       "                    ).then(function(){\n",
       "                            \n",
       "var gd = document.getElementById('edf4d424-8e5b-460d-86f8-5280699594d7');\n",
       "var x = new MutationObserver(function (mutations, observer) {{\n",
       "        var display = window.getComputedStyle(gd).display;\n",
       "        if (!display || display === 'none') {{\n",
       "            console.log([gd, 'removed!']);\n",
       "            Plotly.purge(gd);\n",
       "            observer.disconnect();\n",
       "        }}\n",
       "}});\n",
       "\n",
       "// Listen for the removal of the full notebook cells\n",
       "var notebookContainer = gd.closest('#notebook-container');\n",
       "if (notebookContainer) {{\n",
       "    x.observe(notebookContainer, {childList: true});\n",
       "}}\n",
       "\n",
       "// Listen for the clearing of the current output cell\n",
       "var outputEl = gd.closest('.output');\n",
       "if (outputEl) {{\n",
       "    x.observe(outputEl, {childList: true});\n",
       "}}\n",
       "\n",
       "                        })\n",
       "                };\n",
       "                });\n",
       "            </script>\n",
       "        </div>"
      ]
     },
     "metadata": {},
     "output_type": "display_data"
    }
   ],
   "source": [
    "data = dict(type = 'choropleth', \n",
    "           locations = df_cl['country'],\n",
    "           locationmode = 'country names',\n",
    "           z = df_cl['gdp'], \n",
    "           text = df_cl['country'],\n",
    "           colorbar = {'title':'Среднедушевой доход(тыс.долларов)'})\n",
    "layout = dict(title = 'Среднедушевой доход в тыс. долларов США', \n",
    "             geo = dict(showframe = False, \n",
    "                       projection = {'type': 'mercator'}))\n",
    "choromap3 = go.Figure(data = [data], layout=layout)\n",
    "iplot(choromap3)"
   ]
  },
  {
   "cell_type": "code",
   "execution_count": 492,
   "metadata": {},
   "outputs": [
    {
     "data": {
      "text/plain": [
       "array([[-3.78782560e-01, -2.39409219e-01, -7.06285282e-01,\n",
       "        -4.25024739e-02, -3.78782560e-01, -3.31498552e-01],\n",
       "       [-3.27452654e-01, -2.43618559e-01, -5.12817199e-01,\n",
       "        -2.59690865e-01, -3.27452654e-01, -2.91844060e-01],\n",
       "       [-3.85989308e-01, -1.62153735e-01, -5.24111435e-01,\n",
       "        -1.04931016e-02, -3.85989308e-01, -2.76861904e-01],\n",
       "       [ 3.16254553e+00, -2.48602885e-01,  1.27167202e+00,\n",
       "        -2.77350126e-01,  3.16254553e+00,  3.90122677e+00],\n",
       "       [-4.47703257e-01, -1.97418473e-01, -5.57125354e-01,\n",
       "        -8.27836979e-02, -4.47703257e-01, -3.60826385e-01],\n",
       "       [-3.53427026e-01, -2.49376864e-01,  4.85280283e-02,\n",
       "        -2.77228066e-01, -3.53427026e-01, -1.60915775e-01],\n",
       "       [-3.79554668e-01,  5.17278364e-02, -6.12649732e-02,\n",
       "         3.85321118e-03, -3.79554668e-01, -3.06195232e-01],\n",
       "       [ 1.48714633e-01, -2.44333423e-01, -5.40509796e-01,\n",
       "        -2.59150205e-01,  1.48714633e-01, -2.28443329e-01],\n",
       "       [-3.44923552e-01,  4.16552158e-01,  1.96491003e+00,\n",
       "        -1.19674401e-01, -3.44923552e-01, -3.35947641e-01],\n",
       "       [ 2.24109440e-01, -3.38830794e-02,  1.69352258e+00,\n",
       "        -2.21869068e-01,  2.24109440e-01,  9.64882839e-02],\n",
       "       [-3.23791475e-01, -2.29236887e-01, -5.26174805e-01,\n",
       "        -2.14909628e-01, -3.23791475e-01, -3.35551925e-01],\n",
       "       [ 1.22421964e+00, -2.32374398e-01,  4.89274711e-01,\n",
       "        -2.67901662e-01,  1.22421964e+00, -3.12240771e-01],\n",
       "       [-3.94243751e-01, -1.27635050e-01, -6.63008812e-01,\n",
       "         7.43693526e-01, -3.94243751e-01, -3.47531879e-01],\n",
       "       [-3.36122089e-01, -2.47678270e-01,  1.26121599e-01,\n",
       "        -2.76022945e-01, -3.36122089e-01, -2.04273262e-01],\n",
       "       [ 7.29590731e-01, -2.23945846e-01, -4.65848383e-01,\n",
       "        -2.17798430e-01,  7.29590731e-01, -2.45397897e-01],\n",
       "       [ 1.32725357e+00,  8.82145745e-03,  1.50423553e+00,\n",
       "        -2.05454687e-01,  1.32725357e+00,  4.75010177e+00],\n",
       "       [-4.37511345e-01, -2.45434452e-01, -6.93905063e-01,\n",
       "        -2.05126796e-01, -4.37511345e-01, -3.60332284e-01],\n",
       "       [-4.38125088e-01, -2.48960369e-01, -5.86175431e-01,\n",
       "        -2.73061641e-01, -4.38125088e-01, -3.61453100e-01],\n",
       "       [-3.11098272e-01, -2.31473697e-01, -5.68202393e-01,\n",
       "        -2.05961882e-01, -3.11098272e-01, -2.62809188e-01],\n",
       "       [-1.95028935e-01, -2.40825446e-01, -4.75676540e-01,\n",
       "        -2.56794137e-01, -1.95028935e-01, -1.03917655e-01],\n",
       "       [-2.85091497e-03,  7.43977390e-01, -2.67113276e-01,\n",
       "         1.04829464e+00, -2.85091497e-03,  1.56384854e-01],\n",
       "       [-3.28194661e-01, -2.43874941e-01,  7.26019265e-01,\n",
       "        -2.75121923e-01, -3.28194661e-01, -3.46448712e-01],\n",
       "       [-3.32050422e-01, -2.20718660e-01, -3.31186343e-01,\n",
       "        -2.33362741e-01, -3.32050422e-01, -2.60671517e-01],\n",
       "       [-4.33571044e-01, -2.43713001e-01, -7.02701534e-01,\n",
       "        -1.52792380e-01, -4.33571044e-01, -3.44834041e-01],\n",
       "       [-4.39996100e-01, -2.49289788e-01, -5.74012408e-01,\n",
       "        -1.86425467e-01, -4.39996100e-01, -3.60115825e-01],\n",
       "       [-4.45553006e-01, -2.39106061e-01, -6.67841442e-01,\n",
       "        -1.74961575e-01, -4.45553006e-01, -3.61453100e-01],\n",
       "       [-3.97161048e-01, -2.32353129e-01, -6.62140025e-01,\n",
       "        -1.18195822e-01, -3.97161048e-01, -3.25718834e-01],\n",
       "       [ 3.34682221e-01,  5.96514530e-01,  1.56271578e+00,\n",
       "        -4.32281296e-02,  3.34682221e-01,  6.73698943e-01],\n",
       "       [-4.22691723e-01, -2.49213043e-01, -7.16004841e-01,\n",
       "        -2.48295214e-01, -4.22691723e-01, -3.61453100e-01],\n",
       "       [-4.36044198e-01, -2.44871154e-01, -7.00692464e-01,\n",
       "        -1.79849338e-01, -4.36044198e-01, -3.39413428e-01],\n",
       "       [ 4.50258577e-01, -1.13458775e-01,  1.21475580e-02,\n",
       "        -1.59264948e-01,  4.50258577e-01, -1.97187470e-01],\n",
       "       [-4.26242276e-01,  5.94837438e+00, -2.95674660e-01,\n",
       "         8.53941591e+00, -4.26242276e-01, -3.40019213e-01],\n",
       "       [-3.28375296e-01, -9.38462326e-02, -4.21540228e-01,\n",
       "         3.64838994e-02, -3.28375296e-01, -2.84707928e-01],\n",
       "       [-3.85004808e-01, -2.18395337e-01, -9.47132862e-02,\n",
       "        -2.46186615e-01, -3.85004808e-01, -3.48579036e-01],\n",
       "       [-3.94674389e-01, -2.30053334e-01, -6.53452151e-01,\n",
       "        -1.86425467e-01, -3.94674389e-01, -3.48971867e-01],\n",
       "       [-2.49151253e-01, -2.22115061e-01, -7.70660432e-02,\n",
       "        -2.51957863e-01, -2.49151253e-01, -2.11875519e-01],\n",
       "       [-1.66562353e-01, -2.39089310e-01,  5.41510551e-01,\n",
       "        -2.70308511e-01, -1.66562353e-01, -2.69448955e-01],\n",
       "       [ 2.55901767e-01, -8.03206620e-02,  2.17249591e+00,\n",
       "        -2.41158635e-01,  2.55901767e-01,  2.47335427e-01],\n",
       "       [-1.07854706e-02, -2.10564605e-01, -3.71747853e-01,\n",
       "        -2.10557979e-01, -1.07854706e-02, -9.86022335e-02],\n",
       "       [ 2.69921773e-01, -1.95603673e-01, -4.09974496e-01,\n",
       "        -1.69678054e-01,  2.69921773e-01,  6.93034233e-01],\n",
       "       [-3.67887129e-01, -2.35353033e-01, -5.07441577e-01,\n",
       "        -2.37188468e-01, -3.67887129e-01, -3.31380359e-01],\n",
       "       [-2.47596749e-01, -2.44271152e-01, -2.61791954e-01,\n",
       "        -2.69550643e-01, -2.47596749e-01, -3.27033634e-01],\n",
       "       [ 4.47859647e-02, -2.37267849e-01,  2.26303640e-01,\n",
       "        -2.69468322e-01,  4.47859647e-02, -4.98561617e-02],\n",
       "       [-4.47118696e-01, -2.10126981e-01, -6.98411897e-01,\n",
       "         4.13653621e-01, -4.47118696e-01, -3.61158463e-01],\n",
       "       [-4.47840728e-01, -2.47581641e-01, -4.52599376e-01,\n",
       "        -1.86425467e-01, -4.47840728e-01, -3.61453100e-01],\n",
       "       [-2.56449468e-02, -1.18177242e-01,  1.62163043e+00,\n",
       "        -2.42919331e-01, -2.56449468e-02, -1.13697112e-02],\n",
       "       [ 5.33943552e-01,  1.11440688e+00,  1.26455882e+00,\n",
       "         1.46188645e-01,  5.33943552e-01,  2.35252395e+00],\n",
       "       [-2.01405901e-01, -2.42318040e-01, -3.46933114e-01,\n",
       "        -2.64420697e-01, -2.01405901e-01, -3.28045715e-01],\n",
       "       [-3.79564134e-01, -2.42227015e-01, -5.26880694e-01,\n",
       "        -2.54245184e-01, -3.79564134e-01, -3.40727289e-01],\n",
       "       [ 3.29800749e-01,  1.67472321e+00,  1.55256183e+00,\n",
       "         2.47031713e-01,  3.29800749e-01,  2.59852265e-01],\n",
       "       [-3.77900683e-01, -2.26556875e-01, -6.54592435e-01,\n",
       "        -8.93846505e-02, -3.77900683e-01, -3.55182653e-01],\n",
       "       [-3.51738945e-01, -1.43533548e-01,  2.34665718e-01,\n",
       "        -2.09896013e-01, -3.51738945e-01, -2.62494971e-01],\n",
       "       [-4.07791808e-01, -2.12125598e-01, -5.11622616e-01,\n",
       "        -1.68643266e-01, -4.07791808e-01, -3.48392255e-01],\n",
       "       [-3.66003267e-01, -2.45646317e-01, -7.00855361e-01,\n",
       "        -1.99243668e-01, -3.66003267e-01, -3.53157759e-01],\n",
       "       [-3.90135424e-01, -2.48246508e-01, -4.90826019e-01,\n",
       "        -2.72905838e-01, -3.90135424e-01, -2.78830773e-01],\n",
       "       [-4.30787811e-01, -2.45744621e-01, -6.96620023e-01,\n",
       "        -2.07417776e-01, -4.30787811e-01, -3.49301664e-01],\n",
       "       [-3.41663696e-01, -2.38275728e-01, -6.08546705e-01,\n",
       "        -2.17139870e-01, -3.41663696e-01, -2.63440121e-01],\n",
       "       [-3.16167889e-01, -1.80547402e-01, -4.06312736e-02,\n",
       "        -2.15949392e-01, -3.16167889e-01, -5.72684747e-02],\n",
       "       [ 1.41839220e+00, -2.39089089e-01,  2.54992971e+00,\n",
       "        -2.75604598e-01,  1.41839220e+00, -1.78977084e-01],\n",
       "       [-4.21194583e-01,  1.00279027e+00, -6.43949790e-01,\n",
       "         8.28546604e+00, -4.21194583e-01, -3.46435547e-01],\n",
       "       [-4.23711064e-01,  2.65806486e-01, -5.42898961e-01,\n",
       "         1.41671648e+00, -4.23711064e-01, -3.32813970e-01],\n",
       "       [-4.14508827e-01, -1.55268433e-01, -4.86482082e-01,\n",
       "        -3.45178368e-02, -4.14508827e-01, -3.40184947e-01],\n",
       "       [ 1.36836862e+00, -8.14722612e-02,  2.74790463e+00,\n",
       "        -2.47023131e-01,  1.36836862e+00,  1.68423068e+00],\n",
       "       [ 2.36293055e-01, -7.43180439e-02,  1.28209747e+00,\n",
       "        -2.21601404e-01,  2.36293055e-01, -1.61468614e-01],\n",
       "       [ 9.17683671e-01,  7.78695613e-01,  9.28501017e-01,\n",
       "         1.04687308e-01,  9.17683671e-01,  3.04803128e+00],\n",
       "       [-3.83557362e-01, -2.42404743e-01, -4.71875595e-01,\n",
       "        -2.59257331e-01, -3.83557362e-01, -3.41715562e-01],\n",
       "       [-4.01211638e-01,  2.48411900e+00,  1.37940165e+00,\n",
       "         5.23207178e-01, -4.01211638e-01, -3.23352790e-01],\n",
       "       [-4.25212086e-01, -2.28790218e-01, -5.14826270e-01,\n",
       "        -2.14806997e-01, -4.25212086e-01, -3.55634825e-01],\n",
       "       [-3.13300452e-01, -1.74203534e-01, -3.17883037e-01,\n",
       "        -1.62156466e-01, -3.13300452e-01, -3.49124639e-01],\n",
       "       [-4.41812281e-01, -2.11148277e-01, -6.57741789e-01,\n",
       "         4.75270705e-02, -4.41812281e-01, -3.55191244e-01],\n",
       "       [ 9.37441463e-01, -1.88817057e-01,  7.48824933e-01,\n",
       "        -2.51644698e-01,  9.37441463e-01, -1.77883333e-01],\n",
       "       [-3.78025812e-01, -2.46558992e-01, -6.78266890e-01,\n",
       "        -2.37808543e-01, -3.78025812e-01, -3.47201760e-01],\n",
       "       [-2.56994623e-01, -2.34923956e-01,  2.72970374e-02,\n",
       "        -2.65636872e-01, -2.56994623e-01, -2.97997525e-01],\n",
       "       [-3.98628342e-01, -2.22732823e-01, -2.88398566e-01,\n",
       "        -2.34477691e-01, -3.98628342e-01, -3.37019467e-01],\n",
       "       [-4.30933054e-01, -2.49022160e-01, -7.12040998e-01,\n",
       "        -2.47329117e-01, -4.30933054e-01, -3.32069504e-01],\n",
       "       [-2.46533289e-01, -2.26529703e-01,  7.29626725e-02,\n",
       "        -2.60101318e-01, -2.46533289e-01, -2.25905502e-01],\n",
       "       [ 1.92388371e+00, -2.17733470e-01,  4.73324662e+00,\n",
       "        -2.73988766e-01,  1.92388371e+00,  7.71346329e-01],\n",
       "       [-4.43816302e-01, -2.44649521e-01, -7.14973156e-01,\n",
       "        -1.11572857e-01, -4.43816302e-01, -3.61208022e-01],\n",
       "       [-3.67857359e-01, -8.60568277e-02, -2.20470255e-01,\n",
       "        -7.82328914e-02, -3.67857359e-01, -3.38385040e-01],\n",
       "       [ 3.35331384e-01, -2.47846995e-01, -2.00542445e-01,\n",
       "        -2.74572818e-01,  3.35331384e-01, -3.11529794e-01],\n",
       "       [-2.75964597e-02, -2.44097224e-01,  6.28606483e-01,\n",
       "        -2.74769494e-01, -2.75964597e-02, -2.81767827e-01],\n",
       "       [-4.41574924e-01, -2.47561901e-01, -6.76963709e-01,\n",
       "        -2.49960612e-01, -4.41574924e-01, -3.55606317e-01],\n",
       "       [-3.52424196e-01, -2.43449984e-01, -2.13845752e-01,\n",
       "        -2.69827121e-01, -3.52424196e-01, -3.10585345e-01],\n",
       "       [-2.98793855e-01,  3.29271032e-01, -2.91059228e-01,\n",
       "         5.21065354e-01, -2.98793855e-01, -8.94965046e-02],\n",
       "       [ 3.80484405e-01, -2.46449276e-01, -6.33578641e-01,\n",
       "        -2.60705882e-01,  3.80484405e-01,  1.54679373e-01],\n",
       "       [-4.32160492e-01, -2.43995155e-01, -5.36165859e-01,\n",
       "        -2.57767331e-01, -4.32160492e-01, -3.61453100e-01],\n",
       "       [-2.60747846e-01, -2.47764018e-01, -3.55132295e-01,\n",
       "        -2.73841452e-01, -2.60747846e-01, -2.69683349e-01],\n",
       "       [-3.77793766e-01, -1.92840482e-01, -5.79713825e-01,\n",
       "        -4.97402784e-02, -3.77793766e-01, -3.27153862e-01],\n",
       "       [-4.45908347e-01, -2.44125544e-01, -4.97070428e-01,\n",
       "        -2.62337953e-01, -4.45908347e-01, -3.61453100e-01],\n",
       "       [-4.43418009e-01, -2.38488795e-01, -6.97163015e-01,\n",
       "        -1.00015755e-01, -4.43418009e-01, -3.60994801e-01],\n",
       "       [ 4.91919776e-01,  1.79998793e-01,  1.74130588e+00,\n",
       "        -1.68745719e-01,  4.91919776e-01,  1.77245210e+00],\n",
       "       [-3.35156551e-01, -1.47807375e-01,  1.40329330e+00,\n",
       "        -2.47189691e-01, -3.35156551e-01, -3.33532720e-01],\n",
       "       [-4.46883408e-01, -2.42861957e-01, -6.19949539e-01,\n",
       "        -2.36905039e-01, -4.46883408e-01, -3.53489231e-01],\n",
       "       [-4.33497224e-01, -2.46018182e-01, -7.16982227e-01,\n",
       "        -1.35753276e-01, -4.33497224e-01, -3.45679897e-01],\n",
       "       [-4.36777432e-01, -2.62158009e-02, -6.18646358e-01,\n",
       "         9.62228446e-01, -4.36777432e-01, -3.55176968e-01],\n",
       "       [ 1.19665999e-01, -4.47999081e-02,  3.11127494e+00,\n",
       "        -2.44208363e-01,  1.19665999e-01, -7.91329803e-02],\n",
       "       [-4.13385268e-02, -2.13492644e-01,  7.67636172e-02,\n",
       "        -2.47262604e-01, -4.13385268e-02, -3.28135288e-01],\n",
       "       [-3.75767148e-01, -9.58106508e-02, -6.58393380e-01,\n",
       "         1.06567741e+00, -3.75767148e-01, -3.34065831e-01],\n",
       "       [ 4.02511372e-01, -2.19639465e-01,  6.06604649e-03,\n",
       "        -2.51394222e-01,  4.02511372e-01,  6.84692665e-02],\n",
       "       [-4.47956581e-01, -2.38997320e-01, -6.00999115e-01,\n",
       "        -2.23351800e-01, -4.47956581e-01, -3.61453100e-01],\n",
       "       [-4.06904779e-01, -2.35006218e-01, -5.15369262e-01,\n",
       "        -2.33799359e-01, -4.06904779e-01, -3.51275021e-01],\n",
       "       [ 6.36033667e-01, -1.43801142e-01, -4.08291221e-01,\n",
       "        -7.53164231e-02,  6.36033667e-01,  1.99700149e-01],\n",
       "       [-4.04725126e-01, -8.14244476e-02, -5.76510172e-01,\n",
       "         3.97366478e-01, -4.04725126e-01, -3.11303272e-01],\n",
       "       [-2.66589737e-01,  1.07081213e-02, -6.26767527e-02,\n",
       "        -3.74227766e-02, -2.66589737e-01, -2.02811152e-01],\n",
       "       [ 5.89496213e-01, -1.36811037e-01,  3.42232452e-01,\n",
       "        -2.12731654e-01,  5.89496213e-01,  4.08990069e-01],\n",
       "       [ 4.01365097e+00, -1.65805172e-01,  2.48449916e+00,\n",
       "        -2.60227087e-01,  4.01365097e+00, -3.26745733e-01],\n",
       "       [-1.28527457e-01, -1.46355644e-01, -2.19710066e-01,\n",
       "        -1.54599159e-01, -1.28527457e-01,  8.86520129e-03],\n",
       "       [ 6.90738448e+00,  4.60026497e-01, -2.61737655e-01,\n",
       "        -1.86425467e-01,  6.90738448e+00,  8.51901022e-01],\n",
       "       [-4.39474950e-01, -2.45549014e-01, -6.98629094e-01,\n",
       "        -1.99955130e-01, -4.39474950e-01, -3.61453100e-01],\n",
       "       [-3.91935535e-01, -2.49759831e-01, -3.56326877e-01,\n",
       "        -2.77139915e-01, -3.91935535e-01, -3.61453100e-01],\n",
       "       [ 6.62467984e+00, -2.49304599e-01,  1.86461939e+00,\n",
       "        -2.77623755e-01,  6.62467984e+00,  7.44937428e+00],\n",
       "       [ 1.73452215e-01,  1.07608947e-01,  3.50757428e-01,\n",
       "        -6.44861858e-02,  1.73452215e-01, -3.00336685e-01],\n",
       "       [-3.89666647e-01, -2.42057825e-01, -6.85054291e-01,\n",
       "        -1.77465059e-01, -3.89666647e-01, -3.50898014e-01],\n",
       "       [-1.77555308e-01, -2.28986635e-01, -4.42119628e-01,\n",
       "        -1.86425467e-01, -1.77555308e-01, -2.58482930e-01],\n",
       "       [-4.06759119e-01, -2.49395030e-01,  8.18134437e-02,\n",
       "        -2.77225053e-01, -4.06759119e-01, -3.61453100e-01],\n",
       "       [ 1.38831418e+00, -8.58134337e-02,  2.13904759e+00,\n",
       "        -2.42139673e-01,  1.38831418e+00, -3.36341022e-01],\n",
       "       [-1.90013249e-01, -2.25439491e-01,  4.38830746e-01,\n",
       "        -2.64708001e-01, -1.90013249e-01, -3.86899902e-02],\n",
       "       [-4.12873326e-01, -2.46744015e-01, -7.13181282e-01,\n",
       "        -1.82822316e-01, -4.12873326e-01, -3.37008401e-01],\n",
       "       [-3.44378285e-01, -8.66544482e-02, -4.50373108e-01,\n",
       "         8.79601605e-02, -3.44378285e-01, -3.29594371e-01],\n",
       "       [ 1.36006183e+00,  4.34617124e-01,  7.08480620e-01,\n",
       "         1.84272153e-02,  1.36006183e+00,  3.44959312e+00],\n",
       "       [-4.23193411e-01, -2.05174589e-01, -5.28509671e-01,\n",
       "        -1.86425467e-01, -4.23193411e-01, -3.57441275e-01],\n",
       "       [-4.25648551e-01, -1.97280507e-01, -6.05614548e-01,\n",
       "        -1.31957434e-02, -4.25648551e-01, -3.45285922e-01],\n",
       "       [-4.41318313e-01, -2.48370473e-01, -4.17956480e-01,\n",
       "        -2.74191095e-01, -4.41318313e-01, -3.50278772e-01],\n",
       "       [ 6.42515239e-01,  3.45608718e-02,  2.07834108e+00,\n",
       "        -2.13419242e-01,  6.42515239e-01,  1.97770977e+00],\n",
       "       [ 8.64910194e-01,  1.20014161e-01,  3.60105381e+00,\n",
       "        -2.23941139e-01,  8.64910194e-01,  1.06443217e+00],\n",
       "       [-4.44993925e-01, -2.23983010e-01, -6.89126732e-01,\n",
       "         7.87089608e-02, -4.44993925e-01, -3.59053126e-01],\n",
       "       [-4.32344913e-01, -2.49021556e-02, -4.15838811e-01,\n",
       "         1.61708355e-01, -4.32344913e-01, -3.56261667e-01],\n",
       "       [-4.33012288e-01, -2.47749700e-01, -7.05362196e-01,\n",
       "        -2.27892471e-01, -4.33012288e-01, -3.51662907e-01],\n",
       "       [-4.17800712e-01, -2.38066639e-01,  1.34212181e-01,\n",
       "        -2.69038574e-01, -4.17800712e-01, -3.24405791e-01],\n",
       "       [-4.15344405e-01, -2.26904040e-01, -5.36491654e-01,\n",
       "        -2.04619335e-01, -4.15344405e-01, -3.35853001e-01],\n",
       "       [ 2.20123480e-01,  2.27866487e-01, -1.46949126e-01,\n",
       "         2.43321430e-01,  2.20123480e-01, -3.53361355e-02],\n",
       "       [-4.46175241e-01, -2.36857703e-01, -7.05253597e-01,\n",
       "        -7.36113525e-03, -4.46175241e-01, -3.61453100e-01],\n",
       "       [-2.95862632e-01, -1.98561216e-01, -6.18103366e-01,\n",
       "         4.66365678e-03, -2.95862632e-01, -2.84285172e-01],\n",
       "       [ 4.69433289e-01, -5.71608481e-02,  1.30609772e+00,\n",
       "        -2.16864874e-01,  4.69433289e-01, -2.11755240e-01],\n",
       "       [ 9.13548413e-01,  1.21538729e+00,  1.45759251e+00,\n",
       "         1.42917063e-01,  9.13548413e-01,  3.01609226e+00],\n",
       "       [-3.70226074e-01, -2.21171500e-01,  8.96868290e-02,\n",
       "        -2.56000430e-01, -3.70226074e-01, -3.24133562e-01],\n",
       "       [ 1.23866803e+00,  1.00581834e+01,  2.39295070e+00,\n",
       "         1.79039276e+00,  1.23866803e+00,  1.41854002e+00],\n",
       "       [-4.17351855e-01, -2.12979581e-01, -6.22175807e-01,\n",
       "        -6.91998487e-02, -4.17351855e-01, -3.58914151e-01],\n",
       "       [-4.47057123e-01, -1.36567740e-01, -6.18917854e-01,\n",
       "         3.27020359e-01, -4.47057123e-01, -3.61453100e-01],\n",
       "       [-4.32271596e-01, -2.38526429e-01, -6.67841442e-01,\n",
       "        -1.67984756e-01, -4.32271596e-01, -3.58856589e-01],\n",
       "       [-4.47132181e-01, -2.40986132e-01, -6.80873252e-01,\n",
       "        -1.86425467e-01, -4.47132181e-01, -3.59670066e-01],\n",
       "       [-3.66674885e-01, -2.49863189e-01, -3.07457589e-01,\n",
       "        -2.77384193e-01, -3.66674885e-01, -3.61453100e-01],\n",
       "       [-3.76172957e-01, -2.49600447e-01, -2.02388619e-01,\n",
       "        -2.77132039e-01, -3.76172957e-01, -3.61453100e-01],\n",
       "       [-4.46500027e-01, -2.44088472e-01, -7.16004841e-01,\n",
       "        -9.11012524e-02, -4.46500027e-01, -3.61453100e-01],\n",
       "       [-4.47688897e-01, -2.49198182e-01, -6.60456749e-01,\n",
       "        -1.86425467e-01, -4.47688897e-01, -3.61453100e-01],\n",
       "       [-4.31127358e-01, -2.49221359e-01, -4.79151689e-01,\n",
       "        -2.75412455e-01, -4.31127358e-01, -3.27849343e-01],\n",
       "       [-4.38477784e-01, -2.42769937e-01, -5.76944565e-01,\n",
       "        -1.86425467e-01, -4.38477784e-01, -3.60561583e-01],\n",
       "       [-2.47115266e-01, -2.49540253e-01, -7.01941346e-01,\n",
       "        -2.65971556e-01, -2.47115266e-01, -3.47717238e-01],\n",
       "       [-4.31557050e-01, -2.42416880e-01, -6.94448055e-01,\n",
       "        -1.57058434e-01, -4.31557050e-01, -3.43909663e-01],\n",
       "       [-4.24129705e-01, -2.46504418e-01, -5.37957733e-01,\n",
       "        -1.86425467e-01, -4.24129705e-01, -3.48526109e-01],\n",
       "       [-4.44243843e-01, -2.41561105e-01, -3.60779413e-01,\n",
       "        -2.63566967e-01, -4.44243843e-01, -3.58597752e-01],\n",
       "       [-4.46923018e-01, -2.48520686e-01, -7.21271864e-01,\n",
       "        -2.07087290e-01, -4.46923018e-01, -3.60877163e-01],\n",
       "       [-4.23507992e-01, -2.48116886e-01, -7.09326038e-01,\n",
       "        -2.29405179e-01, -4.23507992e-01, -3.33689174e-01],\n",
       "       [-4.46886513e-01, -2.47177926e-01, -7.20457376e-01,\n",
       "        -1.62973882e-01, -4.46886513e-01, -3.60388854e-01],\n",
       "       [-2.23611650e-02, -2.49995307e-01, -6.43678294e-01,\n",
       "        -2.76501645e-01, -2.23611650e-02, -1.47954484e-01],\n",
       "       [-4.43467307e-01, -2.49843723e-01, -6.94665251e-01,\n",
       "        -2.72568286e-01, -4.43467307e-01, -3.53720140e-01],\n",
       "       [-3.78879834e-01, -2.46337394e-01, -6.93579267e-01,\n",
       "        -2.20221030e-01, -3.78879834e-01, -3.32456997e-01],\n",
       "       [-4.48122902e-01, -2.48916820e-01, -6.80330260e-01,\n",
       "        -2.64491243e-01, -4.48122902e-01, -3.61453100e-01]])"
      ]
     },
     "execution_count": 492,
     "metadata": {},
     "output_type": "execute_result"
    }
   ],
   "source": [
    "scaler = StandardScaler()\n",
    "scaler.fit_transform(df_cl_1)"
   ]
  },
  {
   "cell_type": "code",
   "execution_count": 493,
   "metadata": {},
   "outputs": [],
   "source": [
    "# Кластеризация методом k-средних\n",
    "def do_kmeans(X, nclust=2):\n",
    "    model = KMeans(nclust)\n",
    "    model.fit(X)\n",
    "    clust_labels = model.predict(X)\n",
    "    cent = model.cluster_centers_\n",
    "    return (clust_labels, cent)\n",
    "\n"
   ]
  },
  {
   "cell_type": "code",
   "execution_count": 494,
   "metadata": {},
   "outputs": [],
   "source": [
    "clust_labels, cent = do_kmeans(df_cl_1, 2)\n",
    "kmeans = pd.DataFrame(clust_labels)\n",
    "df_cl_1.insert((df_cl_1.shape[1]),'kmeans',kmeans)"
   ]
  },
  {
   "cell_type": "code",
   "execution_count": 495,
   "metadata": {},
   "outputs": [],
   "source": [
    "# Кластеризация с 2 параметрами\n",
    "def plot_clusterization(df_cl_1,method, param_1 = \"gdp\" , param_2 = \"conf_to_pop\", title=\"\"):\n",
    "    fig = plt.figure()\n",
    "    ax = fig.add_subplot(111)\n",
    "    scatter = ax.scatter(df_cl_1[param_1],df_cl_1[param_2],\n",
    "                         c=method[0],s=50)\n",
    "    ax.set_title(title)\n",
    "    if param_1 == \"gdp\":\n",
    "        xlabel = \"ВВП (млрд.долларов)\"\n",
    "    elif param_1 == \"per_capita\":\n",
    "        xlabel = \"Среднедушевой доход (тыс.долларов)\"\n",
    "    elif param_1 == \"conf_to_pop\":\n",
    "        xlabel = \"Заразившиеся в (%) от населения\"\n",
    "    elif param_1 == \"dead_to_pop\":\n",
    "        xlabel = \"Умершие в (%) от населения\"  \n",
    "    if param_2 == \"gdp\":\n",
    "        ylabel = \"ВВП (млрд.долларов)\"\n",
    "    elif param_2 == \"per_capita\":\n",
    "        ylabel = \"Среднедушевой доход (тыс.долларов)\"\n",
    "    elif param_2 == \"conf_to_pop\":\n",
    "        ylabel = \"Заразившиеся в (%) от населения\"\n",
    "    elif param_2 == \"dead_to_pop\":\n",
    "        ylabel = \"Умершие в (%) от населения\" \n",
    "    ax.set_xlabel(xlabel)\n",
    "    ax.set_ylabel(ylabel)\n",
    "    plt.colorbar(scatter)"
   ]
  },
  {
   "cell_type": "code",
   "execution_count": 496,
   "metadata": {
    "scrolled": true
   },
   "outputs": [
    {
     "data": {
      "image/png": "[encoded data removed]",
      "text/plain": [
       "<Figure size 432x288 with 2 Axes>"
      ]
     },
     "metadata": {},
     "output_type": "display_data"
    }
   ],
   "source": [
    "plot_clusterization(df_cl_1,kmeans, \"per_capita\" , \"dead_to_pop\", \"Кластеризация методом k-средних\")    "
   ]
  },
  {
   "cell_type": "code",
   "execution_count": null,
   "metadata": {
    "scrolled": true
   },
   "outputs": [],
   "source": [
    "df_cl_1 = df_cl[['gdp','per_capita','population','conf_to_pop', 'dead_to_pop']]\n",
    "df_cl_1.insert(0,'country',df_cl.iloc[:,0])\n",
    "df_cl_1.iloc[:,[0,1,2]]\n",
    "data = [dict(type='choropleth',\n",
    "             locations = df_cl_1['country'],\n",
    "             locationmode = 'country names',\n",
    "             z = df_cl_1['kmeans'],\n",
    "             text = df_cl_1['country'],\n",
    "             colorbar = {'title':'Cluster Group'})]\n",
    "layout = dict(title='Clustering of Countries based on K-Means',\n",
    "              geo=dict(showframe = False,\n",
    "                       projection = {'type':'mercator'}))\n",
    "map1 = go.Figure(data = data, layout=layout)\n",
    "iplot(map1)"
   ]
  },
  {
   "cell_type": "code",
   "execution_count": 498,
   "metadata": {},
   "outputs": [],
   "source": [
    "def do_agglomerative(X, nclust=2):\n",
    "    model = AgglomerativeClustering(n_clusters=nclust, affinity = 'euclidean', linkage = 'ward')\n",
    "    clust_labels1 = model.fit_predict(X)\n",
    "    return (clust_labels1)"
   ]
  },
  {
   "cell_type": "code",
   "execution_count": 499,
   "metadata": {},
   "outputs": [],
   "source": [
    "df_cl = pd.DataFrame(countries_with_gdp_and_capita)\n",
    "df_cl_1 = df_cl[['gdp','per_capita','population','conf_to_pop', 'dead_to_pop']]\n",
    "clust_labels1 = do_agglomerative(df_cl_1, 2)\n",
    "agglomerative = pd.DataFrame(clust_labels1)\n",
    "#df_cl_1.insert((df_cl_1.shape[1]),'agglomerative',agglomerative)"
   ]
  },
  {
   "cell_type": "code",
   "execution_count": 500,
   "metadata": {},
   "outputs": [
    {
     "data": {
      "image/png": "[encoded data removed]",
      "text/plain": [
       "<Figure size 432x288 with 2 Axes>"
      ]
     },
     "metadata": {},
     "output_type": "display_data"
    }
   ],
   "source": [
    "#Иерархическая_кластеризация\n",
    "plot_clusterization(df_cl_1,agglomerative, \"per_capita\" , \"dead_to_pop\", \"Иерархическая кластеризация\")"
   ]
  },
  {
   "cell_type": "code",
   "execution_count": null,
   "metadata": {},
   "outputs": [],
   "source": []
  }
 ],
 "metadata": {
  "kernelspec": {
   "display_name": "Python 3",
   "language": "python",
   "name": "python3"
  },
  "language_info": {
   "codemirror_mode": {
    "name": "ipython",
    "version": 3
   },
   "file_extension": ".py",
   "mimetype": "text/x-python",
   "name": "python",
   "nbconvert_exporter": "python",
   "pygments_lexer": "ipython3",
   "version": "3.7.0"
  }
 },
 "nbformat": 4,
 "nbformat_minor": 4
}
