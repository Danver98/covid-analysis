{
 "cells": [
  {
   "cell_type": "code",
   "execution_count": 3,
   "metadata": {},
   "outputs": [],
   "source": [
    "import pandas as pd\n",
    "import matplotlib.pyplot as plt\n",
    "import requests\n",
    "import csv\n",
    "import numpy as np\n",
    "from scipy.optimize import curve_fit\n",
    "from sklearn.metrics import r2_score, mean_squared_error\n",
    "import sympy as sym\n",
    "#import seaborn as sns\n",
    "\n",
    "SOURCE_COVID_19 = \"https://pomber.github.io/covid19/timeseries.json\"\n",
    "SOURCE_COUNTRIES_BY_POPULATION = \"https://raw.githubusercontent.com/samayo/country-json/master/src/country-by-population.json\"\n",
    "SOURCE_GDP = \"https://raw.githubusercontent.com/datasets/gdp/master/data/gdp.csv\"\n",
    "SOURCE_GDP_PER_CAPITA_JSON = \"https://pkgstore.datahub.io/world-bank/ny.gdp.pcap.cd/data_json/data/5fa3074284c7b57091aa9bacc502ecb5/data_json.json\"\n",
    "SOURCE_GDP_PER_CAPITA_CSV = \"https://datahub.io/world-bank/ny.gdp.pcap.cd/r/data.csv\"\n",
    "def get_data_json(source):\n",
    "    return requests.get(source).json()"
   ]
  },
  {
   "cell_type": "code",
   "execution_count": 4,
   "metadata": {},
   "outputs": [],
   "source": [
    "np.warnings.filterwarnings('ignore')"
   ]
  },
  {
   "cell_type": "code",
   "execution_count": 5,
   "metadata": {},
   "outputs": [],
   "source": [
    "data = requests.get(SOURCE_COVID_19).json()"
   ]
  },
  {
   "cell_type": "code",
   "execution_count": 6,
   "metadata": {},
   "outputs": [],
   "source": [
    "df = pd.DataFrame.from_dict(data)"
   ]
  },
  {
   "cell_type": "code",
   "execution_count": 7,
   "metadata": {},
   "outputs": [],
   "source": [
    "def get_average_speed_of_propagation_list(data,status ='confirmed', days = len(data[list(data.keys())[0]]), reverse = False):\n",
    "    min_days = days\n",
    "    speed = {}\n",
    "    for key in data:\n",
    "        if(len(data[key]) < min_days):\n",
    "            min_days = len(data[key])\n",
    "    for key in data:\n",
    "        speed[key] = round(data[key][min_days - 1][status] / min_days,3)\n",
    "    speed = {key:value for key, value in sorted(speed.items(), key = lambda item:item[1], reverse = reverse)}\n",
    "    return speed"
   ]
  },
  {
   "cell_type": "code",
   "execution_count": 8,
   "metadata": {},
   "outputs": [],
   "source": [
    "def get_average_speed_of_propagation_list_non_zero_days(df,status ='confirmed', reverse = False , count = len(df.columns)):\n",
    "    speed = {}\n",
    "    for country_name in df.columns[:count]:\n",
    "        country = pd.DataFrame.from_dict(data[country_name])\n",
    "        country = country.loc[country[status] > 0 , ['date',status]].reset_index(drop = True)\n",
    "        country.index = country.index + 1 # если что, убрать\n",
    "        if country.empty:\n",
    "            continue\n",
    "        speed[country_name] = round(country.iloc[len(country)-1][status] / len(country) , 3)\n",
    "    speed = {key:value for key, value in sorted(speed.items(), key = lambda item:item[1], reverse = reverse)}\n",
    "    return speed"
   ]
  },
  {
   "cell_type": "code",
   "execution_count": null,
   "metadata": {
    "scrolled": true
   },
   "outputs": [],
   "source": [
    "get_average_speed_of_propagation_list_non_zero_days(df,status ='deaths', reverse = False)\n"
   ]
  },
  {
   "cell_type": "code",
   "execution_count": 10,
   "metadata": {},
   "outputs": [],
   "source": [
    "def print_speed_stats(data,days = len(data[list(data.keys())[0]]), reverse = False):\n",
    "    statuses = ['confirmed' , 'deaths' , 'recovered']\n",
    "    for i in range(len(statuses)):\n",
    "        print(f\"Статистика за {days} дней:{statuses[i]}\")\n",
    "        speed = get_average_speed_of_propagation_list(data,status = statuses[i],days = days,reverse = reverse)\n",
    "        print(f\"Средняя скорость для {statuses[i]} к {days} дню (человек в день):\")\n",
    "        for key in speed:\n",
    "            print(f\"{key}:{speed[key]}\")"
   ]
  },
  {
   "cell_type": "code",
   "execution_count": null,
   "metadata": {
    "scrolled": false
   },
   "outputs": [],
   "source": [
    "# Средняя скорость за все дни( с учётом нулевых)\n",
    "print_speed_stats(data)"
   ]
  },
  {
   "cell_type": "code",
   "execution_count": 12,
   "metadata": {},
   "outputs": [],
   "source": [
    "def print_speed_stats_non_zero_days(df, reverse = False , count = len(df.columns)):\n",
    "    statuses = ['confirmed' , 'deaths' , 'recovered']\n",
    "    for i in range(len(statuses)):\n",
    "        print(f\"Статистика за значимые( ненулевые) дни:{statuses[i]}\")\n",
    "        speed = get_average_speed_of_propagation_list_non_zero_days(df,statuses[i],reverse , count)\n",
    "        print(f\"Средняя скорость для {statuses[i]} (человек в день):\")\n",
    "        for key in speed:\n",
    "            print(f\"{key}:{speed[key]}\")"
   ]
  },
  {
   "cell_type": "code",
   "execution_count": null,
   "metadata": {
    "scrolled": true
   },
   "outputs": [],
   "source": [
    "# Средняя скорость за все дни( без нулевых значений)\n",
    "print_speed_stats_non_zero_days(df)"
   ]
  },
  {
   "cell_type": "code",
   "execution_count": 14,
   "metadata": {},
   "outputs": [],
   "source": [
    "def draw_average_speed_of_propagation_list(data,days = len(data[list(data.keys())[0]]), reverse = False):   \n",
    "    statuses = ['confirmed' , 'deaths' , 'recovered']\n",
    "    colors = ['yellow' , 'red' ,'green']\n",
    "    for i in range(3):\n",
    "        fig , ax = plt.subplots()\n",
    "        fig =plt.figure(figsize=(50,40))\n",
    "        speed = get_average_speed_of_propagation_list(data,status = statuses[i],days = days,reverse = reverse)\n",
    "        countries = list(speed.keys())\n",
    "        values = list(speed.values())\n",
    "        ax.bar(countries,values, color=colors[i])\n",
    "        ax.set_title(f\"{statuses[i]} for {days} days\") \n",
    "        plt.show()\n",
    "        "
   ]
  },
  {
   "cell_type": "code",
   "execution_count": 15,
   "metadata": {},
   "outputs": [],
   "source": [
    "def draw_countries_covid_stats(df, count = len(df.columns)):\n",
    "    for country_name in df.columns[:count]:\n",
    "        country = df[country_name]\n",
    "        x = [index for index in country.index]\n",
    "        y = [obj['confirmed'] for obj in country]\n",
    "        y1 = [obj['deaths'] for obj in country] \n",
    "        y2 = [obj['recovered'] for obj in country] \n",
    "        fig, ax = plt.subplots()\n",
    "        ax.plot(x,y,label=\"confirmed\")\n",
    "        ax.plot(x,y1,label=\"deaths\")\n",
    "        ax.plot(x,y2,label=\"recovered\")\n",
    "        ax.set_title(country_name)  # Add a title to the axes.\n",
    "        ax.set_xlabel(\"days\")\n",
    "        ax.set_ylabel(\"amount\")\n",
    "        ax.legend()"
   ]
  },
  {
   "cell_type": "code",
   "execution_count": 16,
   "metadata": {
    "scrolled": false
   },
   "outputs": [],
   "source": [
    "def create_country_stats_excel_file(df):\n",
    "    writer = pd.ExcelWriter('covid-19.xlsx', engine='xlsxwriter')\n",
    "    for country_name in df.columns:\n",
    "        country = pd.DataFrame.from_dict(data[country_name])\n",
    "        country_name = \"\".join([c for c in country_name if c.isalpha()])\n",
    "        country.to_excel(writer ,sheet_name=country_name, index_label=\"day\")\n",
    "        #country.to_csv(f\"{country_name}.csv\" , index_label = \"day\")"
   ]
  },
  {
   "cell_type": "code",
   "execution_count": 17,
   "metadata": {},
   "outputs": [],
   "source": [
    "def create_country_stats_excel_file_without_zeroes(df, by='confirmed'):\n",
    "    writer = pd.ExcelWriter(f\"covid-19_{by}.xlsx\", engine='xlsxwriter')\n",
    "    for country_name in df.columns:\n",
    "        country = pd.DataFrame.from_dict(data[country_name])\n",
    "        country = country.loc[country[by] > 0 , [by,'date']].reset_index(drop = True)\n",
    "        country.index = country.index + 1 # если что, убрать\n",
    "        #print(country)\n",
    "        country_name = \"\".join([c for c in country_name if c.isalpha()])\n",
    "        country.to_excel(writer ,sheet_name=country_name, index_label=\"day\")\n",
    "        #country.to_csv(f\"{country_name}.csv\" , index_label = \"day\")\n",
    "\n",
    "        "
   ]
  },
  {
   "cell_type": "code",
   "execution_count": 18,
   "metadata": {
    "scrolled": false
   },
   "outputs": [
    {
     "name": "stderr",
     "output_type": "stream",
     "text": [
      "Exception ignored in: <function Workbook.__del__ at 0x00000053E6F27D08>\n",
      "Traceback (most recent call last):\n",
      "  File \"c:\\users\\супемэн\\appdata\\local\\programs\\python\\python37\\lib\\site-packages\\xlsxwriter\\workbook.py\", line 154, in __del__\n",
      "    raise Exception(\"Exception caught in workbook destructor. \"\n",
      "Exception: Exception caught in workbook destructor. Explicit close() may be required for workbook.\n"
     ]
    }
   ],
   "source": [
    "create_country_stats_excel_file_without_zeroes(df)\n",
    "create_country_stats_excel_file_without_zeroes(df, by='deaths')\n",
    "create_country_stats_excel_file_without_zeroes(df, by= 'recovered')"
   ]
  },
  {
   "cell_type": "code",
   "execution_count": 19,
   "metadata": {
    "scrolled": false
   },
   "outputs": [],
   "source": [
    "# Функции для регрессии\n",
    "def linear(x,a,b):\n",
    "    return a*x + b\n",
    "\n",
    "def exp(x,a,b,c):\n",
    "    return a*np.exp(b*x)+c\n",
    "\n",
    "def polynomial_square(x,a,b,c):\n",
    "    return a*np.square(x) + b*x + c\n",
    "\n",
    "def polynomial_cube(x,a,b,c,d):\n",
    "    return a*np.power(x,3) + b*np.square(x) + c*x + d\n",
    "\n",
    "def log(x,a,b,c):\n",
    "    return a*np.log(b*x) + c\n",
    "\n"
   ]
  },
  {
   "cell_type": "code",
   "execution_count": 20,
   "metadata": {},
   "outputs": [],
   "source": [
    "# Функции для приближения результатов\n",
    "functions_to_fit = {\"linear\":linear , \"exp\":exp , \"polynomial_square\":polynomial_square ,\"polynomial_cube\":polynomial_cube, \"log\":log}"
   ]
  },
  {
   "cell_type": "code",
   "execution_count": 21,
   "metadata": {},
   "outputs": [],
   "source": [
    "def get_curve_fit_with_params(x,y,method = \"r2\",maxfev = 1000,functions = functions_to_fit):\n",
    "    name = list(functions)[0]\n",
    "    function =functions[name]\n",
    "    params = [1,0]\n",
    "    r_square = 0\n",
    "    if method == \"mse\":\n",
    "        mse = mean_squared_error(y, functions[name](x,*params))\n",
    "    for key in functions:\n",
    "        if key == \"exp\":\n",
    "            opt_params , pcov = curve_fit(functions[key],x,y , p0 = (-1, 0.01, 1),maxfev = 5000)\n",
    "        else:\n",
    "            opt_params , pcov = curve_fit(functions[key],x,y,maxfev = 5000)\n",
    "        if method == \"r2\":   \n",
    "            r_square_cur = r2_score(y, functions[key](x,*opt_params))\n",
    "            if r_square_cur > r_square:\n",
    "                r_square = r_square_cur\n",
    "                function = functions[key]\n",
    "                name = key\n",
    "                params = opt_params         \n",
    "        else:\n",
    "            mse_cur = mean_squared_error(y, functions[key](x,*opt_params))\n",
    "            if mse_cur < mse:\n",
    "                mse = mse_cur\n",
    "                function = functions[key]\n",
    "                name = key\n",
    "                params = opt_params   \n",
    "    if method == \"mse\":\n",
    "        return (name, function , params, mse)    \n",
    "    return (name, function , params, r_square)\n",
    "        \n",
    "        "
   ]
  },
  {
   "cell_type": "code",
   "execution_count": 22,
   "metadata": {},
   "outputs": [],
   "source": [
    "def get_country_dependency(country, status, method,functions):\n",
    "    country_name = country['name']\n",
    "    data = country['data']\n",
    "    #print(country_name)\n",
    "    #print(data)\n",
    "    if data.empty:\n",
    "        return None\n",
    "    x = np.array(list(data.index))\n",
    "    y = np.array(list(data[status]))\n",
    "    # \n",
    "    if status ==\"deaths\":\n",
    "        threshold = 4\n",
    "        if(len(x) < threshold) or (len(y) < threshold) or (len(y) != len(x)):\n",
    "            return None\n",
    "    name, func, params, res = get_curve_fit_with_params(x,y,method,functions)\n",
    "    mark = method \n",
    "    res = {\"country\": country_name , \"criteria\":status, \"dependency\":name ,\"opt_params\":params, method:res }\n",
    "    #print(res)\n",
    "    return res\n"
   ]
  },
  {
   "cell_type": "code",
   "execution_count": 23,
   "metadata": {},
   "outputs": [],
   "source": [
    "def get_countries_by_status(df , status='confirmed' , count = len(df.columns) ):\n",
    "    countries =[]\n",
    "    for country_name in df.columns[:count]:\n",
    "        country = pd.DataFrame.from_dict(data[country_name])\n",
    "        country = country.loc[country[status] > 0 , ['date',status]].reset_index(drop = True)\n",
    "        country.index = country.index + 1 # если что, убрать\n",
    "        country.index\n",
    "        countries.append({\"name\":country_name  ,\"data\":country})\n",
    "    return countries"
   ]
  },
  {
   "cell_type": "code",
   "execution_count": 24,
   "metadata": {},
   "outputs": [],
   "source": [
    "def get_countries_dependencies_by_status(df , status='confirmed' , count = len(df.columns) , method = \"r2\", functions = functions_to_fit):\n",
    "    countries = get_countries_by_status(df,status,count)\n",
    "    dependencies = []\n",
    "    for country in countries:\n",
    "        data = get_country_dependency(country,status, method,functions)\n",
    "        if data is not None:\n",
    "            dependencies.append(data)\n",
    "    return dependencies"
   ]
  },
  {
   "cell_type": "code",
   "execution_count": 25,
   "metadata": {},
   "outputs": [],
   "source": [
    "def print_countries_dependencies_by_status(df , status='confirmed' , count = len(df.columns) , method = \"r2\",functions = functions_to_fit):\n",
    "    countries = get_countries_dependencies_by_status(df,status , count , method,functions)\n",
    "    for country in countries:\n",
    "        print(f\"Страна: {country['country']} , критерий: {country['criteria']}, зависимость: {country['dependency']}\")\n",
    "        print(f\"оптимальные параметры:\" , end = \" \")\n",
    "        for param in country['opt_params']:\n",
    "            print(param, end = ', ')\n",
    "        print()\n",
    "        print(f\"{list(country.keys())[-1]}: {country[list(country.keys())[-1]]}\")"
   ]
  },
  {
   "cell_type": "code",
   "execution_count": null,
   "metadata": {
    "scrolled": false
   },
   "outputs": [],
   "source": [
    "#Функции зависимости стран по количеству заражённых умерших и выздоровевших\n",
    "# methods = ['r2' , 'mse']\n",
    "#statuses ['confirmed' , 'deaths', 'recovered']\n",
    "# Лучшие результаты при кубическом трёхчлене, при его отсутствии - при квадратном трёхчлене\n",
    "print_countries_dependencies_by_status(df , status='confirmed' , count = len(df.columns) , method = \"r2\")"
   ]
  },
  {
   "cell_type": "code",
   "execution_count": 27,
   "metadata": {
    "scrolled": true
   },
   "outputs": [],
   "source": [
    "pop_data = requests.get(SOURCE_COUNTRIES_BY_POPULATION).json()"
   ]
  },
  {
   "cell_type": "code",
   "execution_count": 28,
   "metadata": {},
   "outputs": [],
   "source": [
    "data[\"United States\"] = data.pop(\"US\")\n",
    "df = df.rename(columns={\"US\": \"United States\"})"
   ]
  },
  {
   "cell_type": "code",
   "execution_count": 29,
   "metadata": {
    "scrolled": true
   },
   "outputs": [],
   "source": [
    "def get_procent_to_population(data,df,pop_data, count = len(df.columns)):\n",
    "    result = []\n",
    "    for country_name in df.columns[:count]: \n",
    "        country = pd.DataFrame.from_dict(data[country_name])    \n",
    "        for state in pop_data:\n",
    "            if state['country'] == country_name:\n",
    "                population = state['population']\n",
    "                break\n",
    "        population = int(state['population'])\n",
    "        confirmed = int(country.iloc[len(country)-1]['confirmed']) / population * 100\n",
    "        dead = int(country.iloc[len(country)-1]['deaths']) / population * 100\n",
    "        result.append({\"country\":country_name ,\"population\":population , \"conf_to_pop\":confirmed, \"dead_to_pop\":dead})\n",
    "    return result"
   ]
  },
  {
   "cell_type": "code",
   "execution_count": 30,
   "metadata": {},
   "outputs": [],
   "source": [
    "def print_procent_to_population(data,df,pop_data, count = len(df.columns)):\n",
    "    countries = get_procent_to_population(data,df,pop_data,count) \n",
    "    for country in countries:\n",
    "        print(f\"Страна: {country['country']} , население: {country['population']} , процент заразившихся: {country['conf_to_pop']} , процент умерших: {country['dead_to_pop']}\")\n",
    "    "
   ]
  },
  {
   "cell_type": "code",
   "execution_count": null,
   "metadata": {
    "scrolled": false
   },
   "outputs": [],
   "source": [
    "# Кол-во заразившихся и умерших в процентах от всего населения\n",
    "print_procent_to_population(data,df,pop_data)"
   ]
  },
  {
   "cell_type": "code",
   "execution_count": 32,
   "metadata": {
    "scrolled": true
   },
   "outputs": [],
   "source": [
    "gdp_data_response = requests.get(SOURCE_GDP)\n",
    "csv_path = \"gdp.csv\""
   ]
  },
  {
   "cell_type": "code",
   "execution_count": 33,
   "metadata": {},
   "outputs": [],
   "source": [
    "per_capita_data = requests.get(SOURCE_GDP_PER_CAPITA_JSON).json()"
   ]
  },
  {
   "cell_type": "code",
   "execution_count": 34,
   "metadata": {
    "scrolled": true
   },
   "outputs": [],
   "source": [
    "def set_csv_file(csv_path):\n",
    "    csv_gdp_file = open(csv_path,'wb')\n",
    "    csv_gdp_file.write(gdp_data_response.content)\n",
    "    csv_gdp_file.close()\n",
    "    "
   ]
  },
  {
   "cell_type": "code",
   "execution_count": 35,
   "metadata": {
    "scrolled": true
   },
   "outputs": [],
   "source": [
    "set_csv_file(csv_path)"
   ]
  },
  {
   "cell_type": "code",
   "execution_count": 36,
   "metadata": {},
   "outputs": [],
   "source": [
    "def change(country):\n",
    "    if country == \"Bahamas, The\":\n",
    "        return \"Bahamas\"\n",
    "    if country ==\"Brunei Darussalam\":\n",
    "        return \"Brunei\"\n",
    "    elif country == \"Congo, Dem. Rep.\":\n",
    "        return \"Congo (Kinshasa)\"\n",
    "    elif country == \"Congo, Rep.\":\n",
    "        return \"Congo (Brazzaville)\"\n",
    "    elif country ==\"Egypt, Arab Rep.\":\n",
    "        return \"Egypt\"\n",
    "    elif country == \"Korea, Rep.\":\n",
    "        return \"Korea, South\"\n",
    "    elif country == \"Kyrgyz Republic\":\n",
    "        return \"Kyrgyzstan\"\n",
    "    elif country ==\"Russian Federation\":\n",
    "        return \"Russia\"\n",
    "    elif country == \"St. Vincent and the Grenadines\":\n",
    "        return \"Saint Vincent and the Grenadines\"\n",
    "    elif country == \"Venezuela, RB\":\n",
    "        return \"Venezuela\"\n",
    "    elif country == \"Yemen, Rep.\":\n",
    "        return \"Yemen\"\n",
    "    return country\n",
    "    "
   ]
  },
  {
   "cell_type": "code",
   "execution_count": 37,
   "metadata": {},
   "outputs": [],
   "source": [
    "\n",
    "def get_countries_gdp_csv(csv_path):\n",
    "    countries = []\n",
    "    length = 0\n",
    "    with open(csv_path,\"r\") as csv_file:\n",
    "        for line in csv_file:\n",
    "            length +=1\n",
    "    count = 0\n",
    "    with open(csv_path,\"r\") as csv_file:\n",
    "        line = csv_file.readline().split(\",\")\n",
    "        while (line[0] != \"Afghanistan\"):\n",
    "            line = csv_file.readline().split(\",\")\n",
    "        while(count< length):\n",
    "            line = csv_file.readline().split(\",\")\n",
    "            if len(line) < 4:\n",
    "                break\n",
    "            if line[2] == \"2016\":\n",
    "                #countries.append({\"country\":change((line[0])) , \"gdp\":int(line[3])})\n",
    "                countries.append({\"country\":change((line[0])) , \"gdp\":int(round(float(line[3])))}) # было\n",
    "            count+=1\n",
    "    return countries"
   ]
  },
  {
   "cell_type": "code",
   "execution_count": 38,
   "metadata": {
    "scrolled": true
   },
   "outputs": [],
   "source": [
    "def get_countries_per_capita(per_capita_data):\n",
    "    countries = []\n",
    "    length = len(per_capita_data)\n",
    "    count = 0\n",
    "    _iter = iter(per_capita_data)\n",
    "    key = next(_iter)\n",
    "\n",
    "    while key['Country Name']!= 'Afghanistan':\n",
    "        key = next(_iter)\n",
    "        count+=1\n",
    "    while(count + 1 < length):\n",
    "        key = next(_iter)\n",
    "        count+=1\n",
    "        if(int(key['Year']) == 2016):\n",
    "            countries.append({\"country\":change((key['Country Name'])) , \"per_capita\":int(key['Value'])})\n",
    "    return countries"
   ]
  },
  {
   "cell_type": "code",
   "execution_count": 39,
   "metadata": {
    "collapsed": true
   },
   "outputs": [
    {
     "data": {
      "text/plain": [
       "[{'country': 'Afghanistan', 'per_capita': 561},\n",
       " {'country': 'Albania', 'per_capita': 4124},\n",
       " {'country': 'Algeria', 'per_capita': 3916},\n",
       " {'country': 'American Samoa', 'per_capita': 11834},\n",
       " {'country': 'Andorra', 'per_capita': 36988},\n",
       " {'country': 'Angola', 'per_capita': 3308},\n",
       " {'country': 'Antigua and Barbuda', 'per_capita': 14462},\n",
       " {'country': 'Argentina', 'per_capita': 12440},\n",
       " {'country': 'Armenia', 'per_capita': 3614},\n",
       " {'country': 'Australia', 'per_capita': 49755},\n",
       " {'country': 'Austria', 'per_capita': 44757},\n",
       " {'country': 'Azerbaijan', 'per_capita': 3878},\n",
       " {'country': 'Bahamas', 'per_capita': 28785},\n",
       " {'country': 'Bahrain', 'per_capita': 22579},\n",
       " {'country': 'Bangladesh', 'per_capita': 1358},\n",
       " {'country': 'Barbados', 'per_capita': 15891},\n",
       " {'country': 'Belarus', 'per_capita': 4989},\n",
       " {'country': 'Belgium', 'per_capita': 41271},\n",
       " {'country': 'Belize', 'per_capita': 4744},\n",
       " {'country': 'Benin', 'per_capita': 789},\n",
       " {'country': 'Bhutan', 'per_capita': 2773},\n",
       " {'country': 'Bolivia', 'per_capita': 3104},\n",
       " {'country': 'Bosnia and Herzegovina', 'per_capita': 4808},\n",
       " {'country': 'Botswana', 'per_capita': 6924},\n",
       " {'country': 'Brazil', 'per_capita': 8649},\n",
       " {'country': 'Brunei', 'per_capita': 26939},\n",
       " {'country': 'Bulgaria', 'per_capita': 7469},\n",
       " {'country': 'Burkina Faso', 'per_capita': 627},\n",
       " {'country': 'Burundi', 'per_capita': 285},\n",
       " {'country': 'Cabo Verde', 'per_capita': 2997},\n",
       " {'country': 'Cambodia', 'per_capita': 1269},\n",
       " {'country': 'Cameroon', 'per_capita': 1374},\n",
       " {'country': 'Canada', 'per_capita': 42348},\n",
       " {'country': 'Central African Republic', 'per_capita': 382},\n",
       " {'country': 'Chad', 'per_capita': 664},\n",
       " {'country': 'Chile', 'per_capita': 13792},\n",
       " {'country': 'China', 'per_capita': 8123},\n",
       " {'country': 'Colombia', 'per_capita': 5805},\n",
       " {'country': 'Comoros', 'per_capita': 775},\n",
       " {'country': 'Congo (Kinshasa)', 'per_capita': 449},\n",
       " {'country': 'Congo (Brazzaville)', 'per_capita': 1528},\n",
       " {'country': 'Costa Rica', 'per_capita': 11824},\n",
       " {'country': \"Cote d'Ivoire\", 'per_capita': 1534},\n",
       " {'country': 'Croatia', 'per_capita': 12149},\n",
       " {'country': 'Cyprus', 'per_capita': 23541},\n",
       " {'country': 'Czech Republic', 'per_capita': 18483},\n",
       " {'country': 'Denmark', 'per_capita': 53578},\n",
       " {'country': 'Dominica', 'per_capita': 7906},\n",
       " {'country': 'Dominican Republic', 'per_capita': 6722},\n",
       " {'country': 'Ecuador', 'per_capita': 6018},\n",
       " {'country': 'Egypt', 'per_capita': 3477},\n",
       " {'country': 'El Salvador', 'per_capita': 4223},\n",
       " {'country': 'Equatorial Guinea', 'per_capita': 8747},\n",
       " {'country': 'Estonia', 'per_capita': 17736},\n",
       " {'country': 'Ethiopia', 'per_capita': 706},\n",
       " {'country': 'Fiji', 'per_capita': 5233},\n",
       " {'country': 'Finland', 'per_capita': 43433},\n",
       " {'country': 'France', 'per_capita': 36857},\n",
       " {'country': 'Gabon', 'per_capita': 7179},\n",
       " {'country': 'Gambia, The', 'per_capita': 473},\n",
       " {'country': 'Georgia', 'per_capita': 3865},\n",
       " {'country': 'Germany', 'per_capita': 42161},\n",
       " {'country': 'Ghana', 'per_capita': 1513},\n",
       " {'country': 'Greece', 'per_capita': 17890},\n",
       " {'country': 'Grenada', 'per_capita': 9841},\n",
       " {'country': 'Guam', 'per_capita': 35562},\n",
       " {'country': 'Guatemala', 'per_capita': 4146},\n",
       " {'country': 'Guinea', 'per_capita': 661},\n",
       " {'country': 'Guinea-Bissau', 'per_capita': 641},\n",
       " {'country': 'Guyana', 'per_capita': 4529},\n",
       " {'country': 'Haiti', 'per_capita': 739},\n",
       " {'country': 'Honduras', 'per_capita': 2361},\n",
       " {'country': 'Hong Kong SAR, China', 'per_capita': 43740},\n",
       " {'country': 'Hungary', 'per_capita': 12820},\n",
       " {'country': 'Iceland', 'per_capita': 60529},\n",
       " {'country': 'India', 'per_capita': 1709},\n",
       " {'country': 'Indonesia', 'per_capita': 3570},\n",
       " {'country': 'Iran, Islamic Rep.', 'per_capita': 5219},\n",
       " {'country': 'Iraq', 'per_capita': 4609},\n",
       " {'country': 'Ireland', 'per_capita': 64175},\n",
       " {'country': 'Israel', 'per_capita': 37180},\n",
       " {'country': 'Italy', 'per_capita': 30668},\n",
       " {'country': 'Jamaica', 'per_capita': 4878},\n",
       " {'country': 'Japan', 'per_capita': 38972},\n",
       " {'country': 'Jordan', 'per_capita': 4087},\n",
       " {'country': 'Kazakhstan', 'per_capita': 7714},\n",
       " {'country': 'Kenya', 'per_capita': 1455},\n",
       " {'country': 'Kiribati', 'per_capita': 1587},\n",
       " {'country': 'Korea, South', 'per_capita': 27538},\n",
       " {'country': 'Kosovo', 'per_capita': 3661},\n",
       " {'country': 'Kuwait', 'per_capita': 27359},\n",
       " {'country': 'Kyrgyzstan', 'per_capita': 1077},\n",
       " {'country': 'Lao PDR', 'per_capita': 2338},\n",
       " {'country': 'Latvia', 'per_capita': 14071},\n",
       " {'country': 'Lebanon', 'per_capita': 8257},\n",
       " {'country': 'Lesotho', 'per_capita': 1039},\n",
       " {'country': 'Liberia', 'per_capita': 455},\n",
       " {'country': 'Lithuania', 'per_capita': 14912},\n",
       " {'country': 'Luxembourg', 'per_capita': 100738},\n",
       " {'country': 'Macao SAR, China', 'per_capita': 74017},\n",
       " {'country': 'Macedonia, FYR', 'per_capita': 5237},\n",
       " {'country': 'Madagascar', 'per_capita': 401},\n",
       " {'country': 'Malawi', 'per_capita': 300},\n",
       " {'country': 'Malaysia', 'per_capita': 9508},\n",
       " {'country': 'Maldives', 'per_capita': 9875},\n",
       " {'country': 'Mali', 'per_capita': 779},\n",
       " {'country': 'Malta', 'per_capita': 25145},\n",
       " {'country': 'Marshall Islands', 'per_capita': 3665},\n",
       " {'country': 'Mauritania', 'per_capita': 1101},\n",
       " {'country': 'Mauritius', 'per_capita': 9630},\n",
       " {'country': 'Mexico', 'per_capita': 8208},\n",
       " {'country': 'Micronesia, Fed. Sts.', 'per_capita': 3143},\n",
       " {'country': 'Moldova', 'per_capita': 1900},\n",
       " {'country': 'Mongolia', 'per_capita': 3694},\n",
       " {'country': 'Montenegro', 'per_capita': 7028},\n",
       " {'country': 'Morocco', 'per_capita': 2892},\n",
       " {'country': 'Mozambique', 'per_capita': 382},\n",
       " {'country': 'Myanmar', 'per_capita': 1195},\n",
       " {'country': 'Namibia', 'per_capita': 4414},\n",
       " {'country': 'Nauru', 'per_capita': 7821},\n",
       " {'country': 'Nepal', 'per_capita': 729},\n",
       " {'country': 'Netherlands', 'per_capita': 45637},\n",
       " {'country': 'New Zealand', 'per_capita': 39412},\n",
       " {'country': 'Nicaragua', 'per_capita': 2151},\n",
       " {'country': 'Niger', 'per_capita': 364},\n",
       " {'country': 'Nigeria', 'per_capita': 2175},\n",
       " {'country': 'Northern Mariana Islands', 'per_capita': 22572},\n",
       " {'country': 'Norway', 'per_capita': 70867},\n",
       " {'country': 'Oman', 'per_capita': 14982},\n",
       " {'country': 'Pakistan', 'per_capita': 1443},\n",
       " {'country': 'Palau', 'per_capita': 14428},\n",
       " {'country': 'Panama', 'per_capita': 13680},\n",
       " {'country': 'Papua New Guinea', 'per_capita': 2500},\n",
       " {'country': 'Paraguay', 'per_capita': 4077},\n",
       " {'country': 'Peru', 'per_capita': 6049},\n",
       " {'country': 'Philippines', 'per_capita': 2951},\n",
       " {'country': 'Poland', 'per_capita': 12414},\n",
       " {'country': 'Portugal', 'per_capita': 19871},\n",
       " {'country': 'Puerto Rico', 'per_capita': 30790},\n",
       " {'country': 'Qatar', 'per_capita': 59324},\n",
       " {'country': 'Romania', 'per_capita': 9522},\n",
       " {'country': 'Russia', 'per_capita': 8748},\n",
       " {'country': 'Rwanda', 'per_capita': 702},\n",
       " {'country': 'Samoa', 'per_capita': 4030},\n",
       " {'country': 'San Marino', 'per_capita': 47908},\n",
       " {'country': 'Sao Tome and Principe', 'per_capita': 1714},\n",
       " {'country': 'Saudi Arabia', 'per_capita': 20028},\n",
       " {'country': 'Senegal', 'per_capita': 952},\n",
       " {'country': 'Serbia', 'per_capita': 5426},\n",
       " {'country': 'Seychelles', 'per_capita': 15075},\n",
       " {'country': 'Sierra Leone', 'per_capita': 505},\n",
       " {'country': 'Singapore', 'per_capita': 52962},\n",
       " {'country': 'Slovak Republic', 'per_capita': 16529},\n",
       " {'country': 'Slovenia', 'per_capita': 21650},\n",
       " {'country': 'Solomon Islands', 'per_capita': 2005},\n",
       " {'country': 'Somalia', 'per_capita': 434},\n",
       " {'country': 'South Africa', 'per_capita': 5274},\n",
       " {'country': 'Spain', 'per_capita': 26616},\n",
       " {'country': 'Sri Lanka', 'per_capita': 3835},\n",
       " {'country': 'St. Kitts and Nevis', 'per_capita': 16596},\n",
       " {'country': 'St. Lucia', 'per_capita': 9364},\n",
       " {'country': 'Saint Vincent and the Grenadines', 'per_capita': 7006},\n",
       " {'country': 'Sudan', 'per_capita': 2415},\n",
       " {'country': 'Suriname', 'per_capita': 5871},\n",
       " {'country': 'Swaziland', 'per_capita': 2770},\n",
       " {'country': 'Sweden', 'per_capita': 51844},\n",
       " {'country': 'Switzerland', 'per_capita': 79887},\n",
       " {'country': 'Tajikistan', 'per_capita': 795},\n",
       " {'country': 'Tanzania', 'per_capita': 877},\n",
       " {'country': 'Thailand', 'per_capita': 5910},\n",
       " {'country': 'Timor-Leste', 'per_capita': 1405},\n",
       " {'country': 'Togo', 'per_capita': 578},\n",
       " {'country': 'Tonga', 'per_capita': 3748},\n",
       " {'country': 'Trinidad and Tobago', 'per_capita': 16040},\n",
       " {'country': 'Tunisia', 'per_capita': 3688},\n",
       " {'country': 'Turkey', 'per_capita': 10862},\n",
       " {'country': 'Turkmenistan', 'per_capita': 6389},\n",
       " {'country': 'Tuvalu', 'per_capita': 3083},\n",
       " {'country': 'Uganda', 'per_capita': 580},\n",
       " {'country': 'Ukraine', 'per_capita': 2185},\n",
       " {'country': 'United Arab Emirates', 'per_capita': 37622},\n",
       " {'country': 'United Kingdom', 'per_capita': 40412},\n",
       " {'country': 'United States', 'per_capita': 57638},\n",
       " {'country': 'Uruguay', 'per_capita': 15220},\n",
       " {'country': 'Uzbekistan', 'per_capita': 2110},\n",
       " {'country': 'Vanuatu', 'per_capita': 2860},\n",
       " {'country': 'Vietnam', 'per_capita': 2170},\n",
       " {'country': 'West Bank and Gaza', 'per_capita': 2943},\n",
       " {'country': 'Yemen', 'per_capita': 990},\n",
       " {'country': 'Zambia', 'per_capita': 1269},\n",
       " {'country': 'Zimbabwe', 'per_capita': 1029}]"
      ]
     },
     "execution_count": 39,
     "metadata": {},
     "output_type": "execute_result"
    }
   ],
   "source": [
    "get_countries_per_capita(per_capita_data)"
   ]
  },
  {
   "cell_type": "code",
   "execution_count": 40,
   "metadata": {},
   "outputs": [],
   "source": [
    "def get_country_list_by_param(percentage_list,param_list,param = \"gdp\", divider = 10**9):\n",
    "    _list = []\n",
    "    for country in percentage_list:\n",
    "        for state in param_list:\n",
    "            if country['country'] == state['country']:\n",
    "                country[param] = float(state[param]) / divider\n",
    "                _list.append(country)\n",
    "                break\n",
    "    return _list"
   ]
  },
  {
   "cell_type": "code",
   "execution_count": 41,
   "metadata": {
    "scrolled": true
   },
   "outputs": [],
   "source": [
    "# ВВП в миллиардах долларов\n",
    "# Среднедушевой доход в тысячах долларов\n",
    "divider_gdp = 1000000000\n",
    "divider_per_capita = 1000\n",
    "gdp_csv_list = get_countries_gdp_csv(csv_path)\n",
    "per_capita_list = get_countries_per_capita(per_capita_data)\n",
    "states_percentage = get_procent_to_population(data,df,pop_data) \n",
    "countries_with_gdp = get_country_list_by_param(states_percentage,gdp_csv_list,divider = divider_gdp)\n",
    "countries_with_gdp_and_capita = get_country_list_by_param(countries_with_gdp,per_capita_list, param=\"per_capita\", divider = divider_per_capita)\n"
   ]
  },
  {
   "cell_type": "code",
   "execution_count": 42,
   "metadata": {},
   "outputs": [],
   "source": [
    "#statuses('conf_to_pop' , \"dead_to_pop\")"
   ]
  },
  {
   "cell_type": "code",
   "execution_count": 43,
   "metadata": {},
   "outputs": [],
   "source": [
    "def get_data_by_param_and_status(countries, param = \"gdp\", status='conf_to_pop'):\n",
    "    _sorted = sorted(countries, key=lambda k: k[param]) \n",
    "    _x = []\n",
    "    _y = []\n",
    "    for country in _sorted:\n",
    "        _x.append(country[param])\n",
    "        _y.append(country[status])\n",
    "    #return np.array(_x) , np.array(_x)\n",
    "    return _x , _y"
   ]
  },
  {
   "cell_type": "code",
   "execution_count": 44,
   "metadata": {},
   "outputs": [],
   "source": [
    "def get_dependency_by_param_and_status(countries, param=\"gdp\", status='conf_to_pop', method = \"r2\", functions = functions_to_fit):\n",
    "    x,y = get_data_by_param_and_status(countries,param,status)\n",
    "    name, func , params , res = get_curve_fit_with_params(np.array(x),np.array(y),method,functions)\n",
    "    return {\"criteria\":status,\"param\":param, \"dependency\":name ,\"opt_params\":params, method:res }"
   ]
  },
  {
   "cell_type": "code",
   "execution_count": 45,
   "metadata": {},
   "outputs": [],
   "source": [
    "def print_dependency_by_param_and_status(countries, param = \"gdp\", status='conf_to_pop', method = \"r2\",functions = functions_to_fit):\n",
    "    res = get_dependency_by_param_and_status(countries, param, status, method)\n",
    "    _param = \"ВВП\" if res['param']==\"gdp\" else \"Среднешушевой доход\"\n",
    "    _param_con = \"ВВП\" if res['param']==\"gdp\" else \"Среднешушевого дохода\"\n",
    "    print(f\"Кривая для {_param_con}:\")\n",
    "    criteria = f\"Процент заражённых/{_param}\" if res['criteria'] ==\"conf_to_pop\" else f\"Процент умерших/{_param}\"\n",
    "    print(f\"Критерий: {criteria}, зависимость: {res['dependency']}\")\n",
    "    print(\"Оптимальные параметры:\" , end = \" \")\n",
    "    for param in res['opt_params']:\n",
    "        print(param, end = \", \")\n",
    "    print()\n",
    "    print(f\"{list(res.keys())[-1]}: {res[list(res.keys())[-1]]}\")"
   ]
  },
  {
   "cell_type": "code",
   "execution_count": 46,
   "metadata": {
    "scrolled": false
   },
   "outputs": [
    {
     "name": "stdout",
     "output_type": "stream",
     "text": [
      "Кривая для ВВП:\n",
      "Критерий: Процент заражённых/ВВП, зависимость: polynomial_cube\n",
      "Оптимальные параметры: 1.2323673376037375e-12, -3.112378475050667e-08, 0.0001736725293034877, 0.09135688710116818, \n",
      "r2: 0.06251175622699712\n"
     ]
    }
   ],
   "source": [
    "#statuses('conf_to_pop' , \"dead_to_pop\")\n",
    "#params('gdp','per_capita')\n",
    "#Функции зависимости стран по процентному количеству заражённых/умерших в зависимости от увеличения ВВП/Среднедушевого дохода\n",
    "#Как и при динамике количества, оптимальные параметры выдаёт кубическая функция, хоть и с достаточно малыми коэффициентами\n",
    "print_dependency_by_param_and_status(countries_with_gdp_and_capita,param=\"gdp\", status='conf_to_pop', method = \"r2\", functions = functions_to_fit)"
   ]
  },
  {
   "cell_type": "code",
   "execution_count": 47,
   "metadata": {},
   "outputs": [
    {
     "data": {
      "text/html": [
       "        <script type=\"text/javascript\">\n",
       "        window.PlotlyConfig = {MathJaxConfig: 'local'};\n",
       "        if (window.MathJax) {MathJax.Hub.Config({SVG: {font: \"STIX-Web\"}});}\n",
       "        if (typeof require !== 'undefined') {\n",
       "        require.undef(\"plotly\");\n",
       "        requirejs.config({\n",
       "            paths: {\n",
       "                'plotly': ['https://cdn.plot.ly/plotly-latest.min']\n",
       "            }\n",
       "        });\n",
       "        require(['plotly'], function(Plotly) {\n",
       "            window._Plotly = Plotly;\n",
       "        });\n",
       "        }\n",
       "        </script>\n",
       "        "
      ]
     },
     "metadata": {},
     "output_type": "display_data"
    }
   ],
   "source": [
    "import chart_studio.plotly.plotly as py #For World Map\n",
    "import plotly.graph_objs as go\n",
    "from plotly.offline import download_plotlyjs, init_notebook_mode, plot, iplot\n",
    "init_notebook_mode(connected=True)\n",
    "\n",
    "from sklearn.preprocessing import StandardScaler  # For scaling dataset\n",
    "from sklearn.cluster import KMeans, AgglomerativeClustering, AffinityPropagation #For clustering\n",
    "from sklearn.mixture import GaussianMixture #For GMM clustering\n",
    "import seaborn as sns\n",
    "import os                     # For os related operations\n",
    "import sys                    # For data size"
   ]
  },
  {
   "cell_type": "code",
   "execution_count": 48,
   "metadata": {},
   "outputs": [],
   "source": [
    "def get_countries_with_gdp_and_capita(csv_path,per_capita_data,divider_gdp = 1,divider_per_capita = 1):\n",
    "    gdp_csv_list = get_countries_gdp_csv(csv_path)\n",
    "    per_capita_list = get_countries_per_capita(per_capita_data)\n",
    "    states_percentage = get_procent_to_population(data,df,pop_data) \n",
    "    with_gdp = get_country_list_by_param(states_percentage,gdp_csv_list,divider = divider_gdp)\n",
    "    with_gdp_and_capita = get_country_list_by_param(with_gdp,per_capita_list, param=\"per_capita\", divider = divider_per_capita)\n",
    "    return with_gdp_and_capita"
   ]
  },
  {
   "cell_type": "code",
   "execution_count": 52,
   "metadata": {},
   "outputs": [],
   "source": [
    "# ВВП в миллиардах долларов\n",
    "# Среднедушевой доход в тысячах долларов\n",
    "divider_gdp = 1000000000\n",
    "divider_per_capita = 1000\n",
    "gdp_csv_list = get_countries_gdp_csv(csv_path)\n",
    "per_capita_list = get_countries_per_capita(per_capita_data)\n",
    "states_percentage = get_procent_to_population(data,df,pop_data) \n",
    "countries_with_gdp = get_country_list_by_param(states_percentage,gdp_csv_list,divider = divider_gdp)\n",
    "countries_with_gdp_and_capita = get_country_list_by_param(countries_with_gdp,per_capita_list, param=\"per_capita\", divider = divider_per_capita)"
   ]
  },
  {
   "cell_type": "code",
   "execution_count": 50,
   "metadata": {},
   "outputs": [],
   "source": [
    "df_cl = pd.DataFrame(countries_with_gdp_and_capita)"
   ]
  },
  {
   "cell_type": "code",
   "execution_count": 424,
   "metadata": {},
   "outputs": [
    {
     "data": {
      "image/png": "[encoded data removed]",
      "text/plain": [
       "<Figure size 432x288 with 2 Axes>"
      ]
     },
     "metadata": {},
     "output_type": "display_data"
    }
   ],
   "source": [
    "df_cl_1 = df_cl[['gdp','per_capita','population','conf_to_pop', 'dead_to_pop']]\n",
    "cor = df_cl_1.corr()\n",
    "sns.set()\n",
    "sns.heatmap(cor, square = True) \n",
    "plt.title(\"Корреляция между параметрами:\")\n",
    "plt.show()"
   ]
  },
  {
   "cell_type": "code",
   "execution_count": null,
   "metadata": {},
   "outputs": [],
   "source": []
  },
  {
   "cell_type": "code",
   "execution_count": 425,
   "metadata": {},
   "outputs": [
    {
     "data": {
      "application/vnd.plotly.v1+json": {
       "config": {
        "linkText": "Export to plot.ly",
        "plotlyServerURL": "https://plot.ly",
        "showLink": false
       },
       "data": [
        {
         "colorbar": {
          "title": {
           "text": "Заражённые"
          }
         },
         "locationmode": "country names",
         "locations": [
          "Afghanistan",
          "Albania",
          "Algeria",
          "Andorra",
          "Angola",
          "Antigua and Barbuda",
          "Argentina",
          "Armenia",
          "Australia",
          "Austria",
          "Azerbaijan",
          "Bahrain",
          "Bangladesh",
          "Barbados",
          "Belarus",
          "Belgium",
          "Benin",
          "Bhutan",
          "Bolivia",
          "Bosnia and Herzegovina",
          "Brazil",
          "Brunei",
          "Bulgaria",
          "Burkina Faso",
          "Cabo Verde",
          "Cambodia",
          "Cameroon",
          "Canada",
          "Central African Republic",
          "Chad",
          "Chile",
          "China",
          "Colombia",
          "Costa Rica",
          "Cote d'Ivoire",
          "Croatia",
          "Cyprus",
          "Denmark",
          "Dominican Republic",
          "Ecuador",
          "El Salvador",
          "Equatorial Guinea",
          "Estonia",
          "Ethiopia",
          "Fiji",
          "Finland",
          "France",
          "Gabon",
          "Georgia",
          "Germany",
          "Ghana",
          "Greece",
          "Guatemala",
          "Guinea",
          "Guyana",
          "Haiti",
          "Honduras",
          "Hungary",
          "Iceland",
          "India",
          "Indonesia",
          "Iraq",
          "Ireland",
          "Israel",
          "Italy",
          "Jamaica",
          "Japan",
          "Jordan",
          "Kazakhstan",
          "Kenya",
          "Kuwait",
          "Kyrgyzstan",
          "Latvia",
          "Lebanon",
          "Liberia",
          "Lithuania",
          "Luxembourg",
          "Madagascar",
          "Malaysia",
          "Maldives",
          "Malta",
          "Mauritania",
          "Mauritius",
          "Mexico",
          "Moldova",
          "Mongolia",
          "Montenegro",
          "Morocco",
          "Namibia",
          "Nepal",
          "Netherlands",
          "New Zealand",
          "Nicaragua",
          "Niger",
          "Nigeria",
          "Norway",
          "Oman",
          "Pakistan",
          "Panama",
          "Papua New Guinea",
          "Paraguay",
          "Peru",
          "Philippines",
          "Poland",
          "Portugal",
          "Qatar",
          "Romania",
          "Russia",
          "Rwanda",
          "Saint Vincent and the Grenadines",
          "San Marino",
          "Saudi Arabia",
          "Senegal",
          "Serbia",
          "Seychelles",
          "Singapore",
          "Slovenia",
          "Somalia",
          "South Africa",
          "Spain",
          "Sri Lanka",
          "Sudan",
          "Suriname",
          "Sweden",
          "Switzerland",
          "Tanzania",
          "Thailand",
          "Togo",
          "Trinidad and Tobago",
          "Tunisia",
          "Turkey",
          "Uganda",
          "Ukraine",
          "United Arab Emirates",
          "United Kingdom",
          "Uruguay",
          "United States",
          "Uzbekistan",
          "Vietnam",
          "Zambia",
          "Zimbabwe",
          "Dominica",
          "Grenada",
          "Mozambique",
          "Timor-Leste",
          "Belize",
          "West Bank and Gaza",
          "Guinea-Bissau",
          "Mali",
          "Kosovo",
          "Botswana",
          "Burundi",
          "Sierra Leone",
          "Malawi",
          "Sao Tome and Principe",
          "Comoros",
          "Tajikistan",
          "Lesotho"
         ],
         "text": [
          "Afghanistan",
          "Albania",
          "Algeria",
          "Andorra",
          "Angola",
          "Antigua and Barbuda",
          "Argentina",
          "Armenia",
          "Australia",
          "Austria",
          "Azerbaijan",
          "Bahrain",
          "Bangladesh",
          "Barbados",
          "Belarus",
          "Belgium",
          "Benin",
          "Bhutan",
          "Bolivia",
          "Bosnia and Herzegovina",
          "Brazil",
          "Brunei",
          "Bulgaria",
          "Burkina Faso",
          "Cabo Verde",
          "Cambodia",
          "Cameroon",
          "Canada",
          "Central African Republic",
          "Chad",
          "Chile",
          "China",
          "Colombia",
          "Costa Rica",
          "Cote d'Ivoire",
          "Croatia",
          "Cyprus",
          "Denmark",
          "Dominican Republic",
          "Ecuador",
          "El Salvador",
          "Equatorial Guinea",
          "Estonia",
          "Ethiopia",
          "Fiji",
          "Finland",
          "France",
          "Gabon",
          "Georgia",
          "Germany",
          "Ghana",
          "Greece",
          "Guatemala",
          "Guinea",
          "Guyana",
          "Haiti",
          "Honduras",
          "Hungary",
          "Iceland",
          "India",
          "Indonesia",
          "Iraq",
          "Ireland",
          "Israel",
          "Italy",
          "Jamaica",
          "Japan",
          "Jordan",
          "Kazakhstan",
          "Kenya",
          "Kuwait",
          "Kyrgyzstan",
          "Latvia",
          "Lebanon",
          "Liberia",
          "Lithuania",
          "Luxembourg",
          "Madagascar",
          "Malaysia",
          "Maldives",
          "Malta",
          "Mauritania",
          "Mauritius",
          "Mexico",
          "Moldova",
          "Mongolia",
          "Montenegro",
          "Morocco",
          "Namibia",
          "Nepal",
          "Netherlands",
          "New Zealand",
          "Nicaragua",
          "Niger",
          "Nigeria",
          "Norway",
          "Oman",
          "Pakistan",
          "Panama",
          "Papua New Guinea",
          "Paraguay",
          "Peru",
          "Philippines",
          "Poland",
          "Portugal",
          "Qatar",
          "Romania",
          "Russia",
          "Rwanda",
          "Saint Vincent and the Grenadines",
          "San Marino",
          "Saudi Arabia",
          "Senegal",
          "Serbia",
          "Seychelles",
          "Singapore",
          "Slovenia",
          "Somalia",
          "South Africa",
          "Spain",
          "Sri Lanka",
          "Sudan",
          "Suriname",
          "Sweden",
          "Switzerland",
          "Tanzania",
          "Thailand",
          "Togo",
          "Trinidad and Tobago",
          "Tunisia",
          "Turkey",
          "Uganda",
          "Ukraine",
          "United Arab Emirates",
          "United Kingdom",
          "Uruguay",
          "United States",
          "Uzbekistan",
          "Vietnam",
          "Zambia",
          "Zimbabwe",
          "Dominica",
          "Grenada",
          "Mozambique",
          "Timor-Leste",
          "Belize",
          "West Bank and Gaza",
          "Guinea-Bissau",
          "Mali",
          "Kosovo",
          "Botswana",
          "Burundi",
          "Sierra Leone",
          "Malawi",
          "Sao Tome and Principe",
          "Comoros",
          "Tajikistan",
          "Lesotho"
         ],
         "type": "choropleth",
         "z": [
          0.019024875077967823,
          0.03307312090249151,
          0.017052493238618942,
          0.9882346830117134,
          0.0001622862260344627,
          0.025964314645950604,
          0.01881356038101067,
          0.16339315720434072,
          0.028291591361185794,
          0.1840276155670011,
          0.034075132296424476,
          0.4577431808436008,
          0.014793372561655409,
          0.030700423177424024,
          0.322370466849841,
          0.48594206234864334,
          0.002951663763181486,
          0.0027836912806835684,
          0.03754907672254958,
          0.06931555998939809,
          0.1219118791006987,
          0.0328700444328402,
          0.03181477905383274,
          0.004030066523943582,
          0.002271622626968122,
          0.0007507785635242973,
          0.013994950951642784,
          0.21428977165784285,
          0.007007577827509436,
          0.0033532003454507056,
          0.24592133336465705,
          0.00603584327184738,
          0.03282060743401361,
          0.017321936592511043,
          0.01467551325166296,
          0.05450307166884834,
          0.07710644810029724,
          0.19272871129632582,
          0.11974030703390791,
          0.1965657823703871,
          0.02200679547416935,
          0.054928516532795915,
          0.1349493977580548,
          0.0003222718436427837,
          0.00012466221733361646,
          0.11567348529831702,
          0.26882468960625605,
          0.06757027757133925,
          0.018810969612904592,
          0.21295378409192256,
          0.019266231707829998,
          0.026426317630547033,
          0.01108546727128846,
          0.022522381011989542,
          0.01591776165462565,
          0.004791796875280945,
          0.02918376614937624,
          0.03616159640507698,
          0.5108853739924756,
          0.007417323283026876,
          0.006728599294856991,
          0.0092471171058657,
          0.4971946510895445,
          0.1873620930337281,
          0.3738487591225413,
          0.017718081472508865,
          0.01288636369024991,
          0.0063177913322916175,
          0.036946372212125045,
          0.0017745603925514385,
          0.3792561783516774,
          0.019231985829063075,
          0.052356455618434036,
          0.013593374142657424,
          0.004752045921779664,
          0.05521957007263498,
          0.6492310222880171,
          0.0012260889802473258,
          0.022014942947804348,
          0.21446743818063352,
          0.11513938468522378,
          0.0018395215063909747,
          0.02623877442794335,
          0.04091661587849028,
          0.2268251609634563,
          0.004416114021540542,
          0.0513292533969985,
          0.01929549355302367,
          0.0006535266955443775,
          0.0013350958497352825,
          0.2573233956358379,
          0.030964676719686016,
          0.0003866669203201664,
          0.0040502700447374385,
          0.00315252492485759,
          0.155442970107208,
          0.11137838149549342,
          0.019850149162384964,
          0.2328536203997584,
          9.295498794141419e-05,
          0.011328233998761657,
          0.29676526393736696,
          0.011924773376329776,
          0.049730412971777306,
          0.28402864226938196,
          1.2211698195009701,
          0.08751604388028549,
          2.013142445005609,
          0.002414253557914732,
          0.015425097541057978,
          1.9357703122687582,
          0.17016347236391796,
          0.016046059254362838,
          0.07409783684735347,
          0.011368099047146607,
          0.5026534597838216,
          0.07068828011460566,
          0.009694729944802005,
          0.02844082296003944,
          0.4949212057130719,
          0.006870273310830418,
          0.006198337271506287,
          0.0019097520620981927,
          0.2985391756871158,
          0.35940542875222287,
          0.0009037907148838954,
          0.004365640842371933,
          0.004182989833813617,
          0.008346176371974691,
          0.00901843149502594,
          0.18293671635730946,
          0.0005804816916659611,
          0.041718848843037004,
          0.2511691722496171,
          0.37271699947866654,
          0.021366660298222914,
          0.4616974923690147,
          0.008469021768814821,
          0.00033912357176249904,
          0.0043857065845880625,
          0.00031858122207479764,
          0.022338568935427575,
          0.019739085183124876,
          0.0004915927136060184,
          0.00016621628977815528,
          0.004698867833900243,
          0.0026871633514135105,
          0.05506029155278025,
          0.004581267438563055,
          0.006614023197422428,
          0.0011090773097865868,
          0.0003758262136636452,
          0.006784177155126551,
          0.0003858170350897838,
          0.1165722084273177,
          0.001321603898491209,
          0.01899825257830681,
          4.743535983515264e-05
         ]
        }
       ],
       "layout": {
        "geo": {
         "projection": {
          "type": "mercator"
         },
         "showframe": false
        },
        "template": {
         "data": {
          "bar": [
           {
            "error_x": {
             "color": "#2a3f5f"
            },
            "error_y": {
             "color": "#2a3f5f"
            },
            "marker": {
             "line": {
              "color": "#E5ECF6",
              "width": 0.5
             }
            },
            "type": "bar"
           }
          ],
          "barpolar": [
           {
            "marker": {
             "line": {
              "color": "#E5ECF6",
              "width": 0.5
             }
            },
            "type": "barpolar"
           }
          ],
          "carpet": [
           {
            "aaxis": {
             "endlinecolor": "#2a3f5f",
             "gridcolor": "white",
             "linecolor": "white",
             "minorgridcolor": "white",
             "startlinecolor": "#2a3f5f"
            },
            "baxis": {
             "endlinecolor": "#2a3f5f",
             "gridcolor": "white",
             "linecolor": "white",
             "minorgridcolor": "white",
             "startlinecolor": "#2a3f5f"
            },
            "type": "carpet"
           }
          ],
          "choropleth": [
           {
            "colorbar": {
             "outlinewidth": 0,
             "ticks": ""
            },
            "type": "choropleth"
           }
          ],
          "contour": [
           {
            "colorbar": {
             "outlinewidth": 0,
             "ticks": ""
            },
            "colorscale": [
             [
              0,
              "#0d0887"
             ],
             [
              0.1111111111111111,
              "#46039f"
             ],
             [
              0.2222222222222222,
              "#7201a8"
             ],
             [
              0.3333333333333333,
              "#9c179e"
             ],
             [
              0.4444444444444444,
              "#bd3786"
             ],
             [
              0.5555555555555556,
              "#d8576b"
             ],
             [
              0.6666666666666666,
              "#ed7953"
             ],
             [
              0.7777777777777778,
              "#fb9f3a"
             ],
             [
              0.8888888888888888,
              "#fdca26"
             ],
             [
              1,
              "#f0f921"
             ]
            ],
            "type": "contour"
           }
          ],
          "contourcarpet": [
           {
            "colorbar": {
             "outlinewidth": 0,
             "ticks": ""
            },
            "type": "contourcarpet"
           }
          ],
          "heatmap": [
           {
            "colorbar": {
             "outlinewidth": 0,
             "ticks": ""
            },
            "colorscale": [
             [
              0,
              "#0d0887"
             ],
             [
              0.1111111111111111,
              "#46039f"
             ],
             [
              0.2222222222222222,
              "#7201a8"
             ],
             [
              0.3333333333333333,
              "#9c179e"
             ],
             [
              0.4444444444444444,
              "#bd3786"
             ],
             [
              0.5555555555555556,
              "#d8576b"
             ],
             [
              0.6666666666666666,
              "#ed7953"
             ],
             [
              0.7777777777777778,
              "#fb9f3a"
             ],
             [
              0.8888888888888888,
              "#fdca26"
             ],
             [
              1,
              "#f0f921"
             ]
            ],
            "type": "heatmap"
           }
          ],
          "heatmapgl": [
           {
            "colorbar": {
             "outlinewidth": 0,
             "ticks": ""
            },
            "colorscale": [
             [
              0,
              "#0d0887"
             ],
             [
              0.1111111111111111,
              "#46039f"
             ],
             [
              0.2222222222222222,
              "#7201a8"
             ],
             [
              0.3333333333333333,
              "#9c179e"
             ],
             [
              0.4444444444444444,
              "#bd3786"
             ],
             [
              0.5555555555555556,
              "#d8576b"
             ],
             [
              0.6666666666666666,
              "#ed7953"
             ],
             [
              0.7777777777777778,
              "#fb9f3a"
             ],
             [
              0.8888888888888888,
              "#fdca26"
             ],
             [
              1,
              "#f0f921"
             ]
            ],
            "type": "heatmapgl"
           }
          ],
          "histogram": [
           {
            "marker": {
             "colorbar": {
              "outlinewidth": 0,
              "ticks": ""
             }
            },
            "type": "histogram"
           }
          ],
          "histogram2d": [
           {
            "colorbar": {
             "outlinewidth": 0,
             "ticks": ""
            },
            "colorscale": [
             [
              0,
              "#0d0887"
             ],
             [
              0.1111111111111111,
              "#46039f"
             ],
             [
              0.2222222222222222,
              "#7201a8"
             ],
             [
              0.3333333333333333,
              "#9c179e"
             ],
             [
              0.4444444444444444,
              "#bd3786"
             ],
             [
              0.5555555555555556,
              "#d8576b"
             ],
             [
              0.6666666666666666,
              "#ed7953"
             ],
             [
              0.7777777777777778,
              "#fb9f3a"
             ],
             [
              0.8888888888888888,
              "#fdca26"
             ],
             [
              1,
              "#f0f921"
             ]
            ],
            "type": "histogram2d"
           }
          ],
          "histogram2dcontour": [
           {
            "colorbar": {
             "outlinewidth": 0,
             "ticks": ""
            },
            "colorscale": [
             [
              0,
              "#0d0887"
             ],
             [
              0.1111111111111111,
              "#46039f"
             ],
             [
              0.2222222222222222,
              "#7201a8"
             ],
             [
              0.3333333333333333,
              "#9c179e"
             ],
             [
              0.4444444444444444,
              "#bd3786"
             ],
             [
              0.5555555555555556,
              "#d8576b"
             ],
             [
              0.6666666666666666,
              "#ed7953"
             ],
             [
              0.7777777777777778,
              "#fb9f3a"
             ],
             [
              0.8888888888888888,
              "#fdca26"
             ],
             [
              1,
              "#f0f921"
             ]
            ],
            "type": "histogram2dcontour"
           }
          ],
          "mesh3d": [
           {
            "colorbar": {
             "outlinewidth": 0,
             "ticks": ""
            },
            "type": "mesh3d"
           }
          ],
          "parcoords": [
           {
            "line": {
             "colorbar": {
              "outlinewidth": 0,
              "ticks": ""
             }
            },
            "type": "parcoords"
           }
          ],
          "pie": [
           {
            "automargin": true,
            "type": "pie"
           }
          ],
          "scatter": [
           {
            "marker": {
             "colorbar": {
              "outlinewidth": 0,
              "ticks": ""
             }
            },
            "type": "scatter"
           }
          ],
          "scatter3d": [
           {
            "line": {
             "colorbar": {
              "outlinewidth": 0,
              "ticks": ""
             }
            },
            "marker": {
             "colorbar": {
              "outlinewidth": 0,
              "ticks": ""
             }
            },
            "type": "scatter3d"
           }
          ],
          "scattercarpet": [
           {
            "marker": {
             "colorbar": {
              "outlinewidth": 0,
              "ticks": ""
             }
            },
            "type": "scattercarpet"
           }
          ],
          "scattergeo": [
           {
            "marker": {
             "colorbar": {
              "outlinewidth": 0,
              "ticks": ""
             }
            },
            "type": "scattergeo"
           }
          ],
          "scattergl": [
           {
            "marker": {
             "colorbar": {
              "outlinewidth": 0,
              "ticks": ""
             }
            },
            "type": "scattergl"
           }
          ],
          "scattermapbox": [
           {
            "marker": {
             "colorbar": {
              "outlinewidth": 0,
              "ticks": ""
             }
            },
            "type": "scattermapbox"
           }
          ],
          "scatterpolar": [
           {
            "marker": {
             "colorbar": {
              "outlinewidth": 0,
              "ticks": ""
             }
            },
            "type": "scatterpolar"
           }
          ],
          "scatterpolargl": [
           {
            "marker": {
             "colorbar": {
              "outlinewidth": 0,
              "ticks": ""
             }
            },
            "type": "scatterpolargl"
           }
          ],
          "scatterternary": [
           {
            "marker": {
             "colorbar": {
              "outlinewidth": 0,
              "ticks": ""
             }
            },
            "type": "scatterternary"
           }
          ],
          "surface": [
           {
            "colorbar": {
             "outlinewidth": 0,
             "ticks": ""
            },
            "colorscale": [
             [
              0,
              "#0d0887"
             ],
             [
              0.1111111111111111,
              "#46039f"
             ],
             [
              0.2222222222222222,
              "#7201a8"
             ],
             [
              0.3333333333333333,
              "#9c179e"
             ],
             [
              0.4444444444444444,
              "#bd3786"
             ],
             [
              0.5555555555555556,
              "#d8576b"
             ],
             [
              0.6666666666666666,
              "#ed7953"
             ],
             [
              0.7777777777777778,
              "#fb9f3a"
             ],
             [
              0.8888888888888888,
              "#fdca26"
             ],
             [
              1,
              "#f0f921"
             ]
            ],
            "type": "surface"
           }
          ],
          "table": [
           {
            "cells": {
             "fill": {
              "color": "#EBF0F8"
             },
             "line": {
              "color": "white"
             }
            },
            "header": {
             "fill": {
              "color": "#C8D4E3"
             },
             "line": {
              "color": "white"
             }
            },
            "type": "table"
           }
          ]
         },
         "layout": {
          "annotationdefaults": {
           "arrowcolor": "#2a3f5f",
           "arrowhead": 0,
           "arrowwidth": 1
          },
          "coloraxis": {
           "colorbar": {
            "outlinewidth": 0,
            "ticks": ""
           }
          },
          "colorscale": {
           "diverging": [
            [
             0,
             "#8e0152"
            ],
            [
             0.1,
             "#c51b7d"
            ],
            [
             0.2,
             "#de77ae"
            ],
            [
             0.3,
             "#f1b6da"
            ],
            [
             0.4,
             "#fde0ef"
            ],
            [
             0.5,
             "#f7f7f7"
            ],
            [
             0.6,
             "#e6f5d0"
            ],
            [
             0.7,
             "#b8e186"
            ],
            [
             0.8,
             "#7fbc41"
            ],
            [
             0.9,
             "#4d9221"
            ],
            [
             1,
             "#276419"
            ]
           ],
           "sequential": [
            [
             0,
             "#0d0887"
            ],
            [
             0.1111111111111111,
             "#46039f"
            ],
            [
             0.2222222222222222,
             "#7201a8"
            ],
            [
             0.3333333333333333,
             "#9c179e"
            ],
            [
             0.4444444444444444,
             "#bd3786"
            ],
            [
             0.5555555555555556,
             "#d8576b"
            ],
            [
             0.6666666666666666,
             "#ed7953"
            ],
            [
             0.7777777777777778,
             "#fb9f3a"
            ],
            [
             0.8888888888888888,
             "#fdca26"
            ],
            [
             1,
             "#f0f921"
            ]
           ],
           "sequentialminus": [
            [
             0,
             "#0d0887"
            ],
            [
             0.1111111111111111,
             "#46039f"
            ],
            [
             0.2222222222222222,
             "#7201a8"
            ],
            [
             0.3333333333333333,
             "#9c179e"
            ],
            [
             0.4444444444444444,
             "#bd3786"
            ],
            [
             0.5555555555555556,
             "#d8576b"
            ],
            [
             0.6666666666666666,
             "#ed7953"
            ],
            [
             0.7777777777777778,
             "#fb9f3a"
            ],
            [
             0.8888888888888888,
             "#fdca26"
            ],
            [
             1,
             "#f0f921"
            ]
           ]
          },
          "colorway": [
           "#636efa",
           "#EF553B",
           "#00cc96",
           "#ab63fa",
           "#FFA15A",
           "#19d3f3",
           "#FF6692",
           "#B6E880",
           "#FF97FF",
           "#FECB52"
          ],
          "font": {
           "color": "#2a3f5f"
          },
          "geo": {
           "bgcolor": "white",
           "lakecolor": "white",
           "landcolor": "#E5ECF6",
           "showlakes": true,
           "showland": true,
           "subunitcolor": "white"
          },
          "hoverlabel": {
           "align": "left"
          },
          "hovermode": "closest",
          "mapbox": {
           "style": "light"
          },
          "paper_bgcolor": "white",
          "plot_bgcolor": "#E5ECF6",
          "polar": {
           "angularaxis": {
            "gridcolor": "white",
            "linecolor": "white",
            "ticks": ""
           },
           "bgcolor": "#E5ECF6",
           "radialaxis": {
            "gridcolor": "white",
            "linecolor": "white",
            "ticks": ""
           }
          },
          "scene": {
           "xaxis": {
            "backgroundcolor": "#E5ECF6",
            "gridcolor": "white",
            "gridwidth": 2,
            "linecolor": "white",
            "showbackground": true,
            "ticks": "",
            "zerolinecolor": "white"
           },
           "yaxis": {
            "backgroundcolor": "#E5ECF6",
            "gridcolor": "white",
            "gridwidth": 2,
            "linecolor": "white",
            "showbackground": true,
            "ticks": "",
            "zerolinecolor": "white"
           },
           "zaxis": {
            "backgroundcolor": "#E5ECF6",
            "gridcolor": "white",
            "gridwidth": 2,
            "linecolor": "white",
            "showbackground": true,
            "ticks": "",
            "zerolinecolor": "white"
           }
          },
          "shapedefaults": {
           "line": {
            "color": "#2a3f5f"
           }
          },
          "ternary": {
           "aaxis": {
            "gridcolor": "white",
            "linecolor": "white",
            "ticks": ""
           },
           "baxis": {
            "gridcolor": "white",
            "linecolor": "white",
            "ticks": ""
           },
           "bgcolor": "#E5ECF6",
           "caxis": {
            "gridcolor": "white",
            "linecolor": "white",
            "ticks": ""
           }
          },
          "title": {
           "x": 0.05
          },
          "xaxis": {
           "automargin": true,
           "gridcolor": "white",
           "linecolor": "white",
           "ticks": "",
           "title": {
            "standoff": 15
           },
           "zerolinecolor": "white",
           "zerolinewidth": 2
          },
          "yaxis": {
           "automargin": true,
           "gridcolor": "white",
           "linecolor": "white",
           "ticks": "",
           "title": {
            "standoff": 15
           },
           "zerolinecolor": "white",
           "zerolinewidth": 2
          }
         }
        },
        "title": {
         "text": "Заражённые по отношению к населению(%)"
        }
       }
      },
      "text/html": [
       "<div>\n",
       "        \n",
       "        \n",
       "            <div id=\"c8dc854e-2033-4cb1-8756-0e4bc5eccf4b\" class=\"plotly-graph-div\" style=\"height:525px; width:100%;\"></div>\n",
       "            <script type=\"text/javascript\">\n",
       "                require([\"plotly\"], function(Plotly) {\n",
       "                    window.PLOTLYENV=window.PLOTLYENV || {};\n",
       "                    \n",
       "                if (document.getElementById(\"c8dc854e-2033-4cb1-8756-0e4bc5eccf4b\")) {\n",
       "                    Plotly.newPlot(\n",
       "                        'c8dc854e-2033-4cb1-8756-0e4bc5eccf4b',\n",
       "                        [{\"colorbar\": {\"title\": {\"text\": \"\\u0417\\u0430\\u0440\\u0430\\u0436\\u0451\\u043d\\u043d\\u044b\\u0435\"}}, \"locationmode\": \"country names\", \"locations\": [\"Afghanistan\", \"Albania\", \"Algeria\", \"Andorra\", \"Angola\", \"Antigua and Barbuda\", \"Argentina\", \"Armenia\", \"Australia\", \"Austria\", \"Azerbaijan\", \"Bahrain\", \"Bangladesh\", \"Barbados\", \"Belarus\", \"Belgium\", \"Benin\", \"Bhutan\", \"Bolivia\", \"Bosnia and Herzegovina\", \"Brazil\", \"Brunei\", \"Bulgaria\", \"Burkina Faso\", \"Cabo Verde\", \"Cambodia\", \"Cameroon\", \"Canada\", \"Central African Republic\", \"Chad\", \"Chile\", \"China\", \"Colombia\", \"Costa Rica\", \"Cote d'Ivoire\", \"Croatia\", \"Cyprus\", \"Denmark\", \"Dominican Republic\", \"Ecuador\", \"El Salvador\", \"Equatorial Guinea\", \"Estonia\", \"Ethiopia\", \"Fiji\", \"Finland\", \"France\", \"Gabon\", \"Georgia\", \"Germany\", \"Ghana\", \"Greece\", \"Guatemala\", \"Guinea\", \"Guyana\", \"Haiti\", \"Honduras\", \"Hungary\", \"Iceland\", \"India\", \"Indonesia\", \"Iraq\", \"Ireland\", \"Israel\", \"Italy\", \"Jamaica\", \"Japan\", \"Jordan\", \"Kazakhstan\", \"Kenya\", \"Kuwait\", \"Kyrgyzstan\", \"Latvia\", \"Lebanon\", \"Liberia\", \"Lithuania\", \"Luxembourg\", \"Madagascar\", \"Malaysia\", \"Maldives\", \"Malta\", \"Mauritania\", \"Mauritius\", \"Mexico\", \"Moldova\", \"Mongolia\", \"Montenegro\", \"Morocco\", \"Namibia\", \"Nepal\", \"Netherlands\", \"New Zealand\", \"Nicaragua\", \"Niger\", \"Nigeria\", \"Norway\", \"Oman\", \"Pakistan\", \"Panama\", \"Papua New Guinea\", \"Paraguay\", \"Peru\", \"Philippines\", \"Poland\", \"Portugal\", \"Qatar\", \"Romania\", \"Russia\", \"Rwanda\", \"Saint Vincent and the Grenadines\", \"San Marino\", \"Saudi Arabia\", \"Senegal\", \"Serbia\", \"Seychelles\", \"Singapore\", \"Slovenia\", \"Somalia\", \"South Africa\", \"Spain\", \"Sri Lanka\", \"Sudan\", \"Suriname\", \"Sweden\", \"Switzerland\", \"Tanzania\", \"Thailand\", \"Togo\", \"Trinidad and Tobago\", \"Tunisia\", \"Turkey\", \"Uganda\", \"Ukraine\", \"United Arab Emirates\", \"United Kingdom\", \"Uruguay\", \"United States\", \"Uzbekistan\", \"Vietnam\", \"Zambia\", \"Zimbabwe\", \"Dominica\", \"Grenada\", \"Mozambique\", \"Timor-Leste\", \"Belize\", \"West Bank and Gaza\", \"Guinea-Bissau\", \"Mali\", \"Kosovo\", \"Botswana\", \"Burundi\", \"Sierra Leone\", \"Malawi\", \"Sao Tome and Principe\", \"Comoros\", \"Tajikistan\", \"Lesotho\"], \"text\": [\"Afghanistan\", \"Albania\", \"Algeria\", \"Andorra\", \"Angola\", \"Antigua and Barbuda\", \"Argentina\", \"Armenia\", \"Australia\", \"Austria\", \"Azerbaijan\", \"Bahrain\", \"Bangladesh\", \"Barbados\", \"Belarus\", \"Belgium\", \"Benin\", \"Bhutan\", \"Bolivia\", \"Bosnia and Herzegovina\", \"Brazil\", \"Brunei\", \"Bulgaria\", \"Burkina Faso\", \"Cabo Verde\", \"Cambodia\", \"Cameroon\", \"Canada\", \"Central African Republic\", \"Chad\", \"Chile\", \"China\", \"Colombia\", \"Costa Rica\", \"Cote d'Ivoire\", \"Croatia\", \"Cyprus\", \"Denmark\", \"Dominican Republic\", \"Ecuador\", \"El Salvador\", \"Equatorial Guinea\", \"Estonia\", \"Ethiopia\", \"Fiji\", \"Finland\", \"France\", \"Gabon\", \"Georgia\", \"Germany\", \"Ghana\", \"Greece\", \"Guatemala\", \"Guinea\", \"Guyana\", \"Haiti\", \"Honduras\", \"Hungary\", \"Iceland\", \"India\", \"Indonesia\", \"Iraq\", \"Ireland\", \"Israel\", \"Italy\", \"Jamaica\", \"Japan\", \"Jordan\", \"Kazakhstan\", \"Kenya\", \"Kuwait\", \"Kyrgyzstan\", \"Latvia\", \"Lebanon\", \"Liberia\", \"Lithuania\", \"Luxembourg\", \"Madagascar\", \"Malaysia\", \"Maldives\", \"Malta\", \"Mauritania\", \"Mauritius\", \"Mexico\", \"Moldova\", \"Mongolia\", \"Montenegro\", \"Morocco\", \"Namibia\", \"Nepal\", \"Netherlands\", \"New Zealand\", \"Nicaragua\", \"Niger\", \"Nigeria\", \"Norway\", \"Oman\", \"Pakistan\", \"Panama\", \"Papua New Guinea\", \"Paraguay\", \"Peru\", \"Philippines\", \"Poland\", \"Portugal\", \"Qatar\", \"Romania\", \"Russia\", \"Rwanda\", \"Saint Vincent and the Grenadines\", \"San Marino\", \"Saudi Arabia\", \"Senegal\", \"Serbia\", \"Seychelles\", \"Singapore\", \"Slovenia\", \"Somalia\", \"South Africa\", \"Spain\", \"Sri Lanka\", \"Sudan\", \"Suriname\", \"Sweden\", \"Switzerland\", \"Tanzania\", \"Thailand\", \"Togo\", \"Trinidad and Tobago\", \"Tunisia\", \"Turkey\", \"Uganda\", \"Ukraine\", \"United Arab Emirates\", \"United Kingdom\", \"Uruguay\", \"United States\", \"Uzbekistan\", \"Vietnam\", \"Zambia\", \"Zimbabwe\", \"Dominica\", \"Grenada\", \"Mozambique\", \"Timor-Leste\", \"Belize\", \"West Bank and Gaza\", \"Guinea-Bissau\", \"Mali\", \"Kosovo\", \"Botswana\", \"Burundi\", \"Sierra Leone\", \"Malawi\", \"Sao Tome and Principe\", \"Comoros\", \"Tajikistan\", \"Lesotho\"], \"type\": \"choropleth\", \"z\": [0.019024875077967823, 0.03307312090249151, 0.017052493238618942, 0.9882346830117134, 0.0001622862260344627, 0.025964314645950604, 0.01881356038101067, 0.16339315720434072, 0.028291591361185794, 0.1840276155670011, 0.034075132296424476, 0.4577431808436008, 0.014793372561655409, 0.030700423177424024, 0.322370466849841, 0.48594206234864334, 0.002951663763181486, 0.0027836912806835684, 0.03754907672254958, 0.06931555998939809, 0.1219118791006987, 0.0328700444328402, 0.03181477905383274, 0.004030066523943582, 0.002271622626968122, 0.0007507785635242973, 0.013994950951642784, 0.21428977165784285, 0.007007577827509436, 0.0033532003454507056, 0.24592133336465705, 0.00603584327184738, 0.03282060743401361, 0.017321936592511043, 0.01467551325166296, 0.05450307166884834, 0.07710644810029724, 0.19272871129632582, 0.11974030703390791, 0.1965657823703871, 0.02200679547416935, 0.054928516532795915, 0.1349493977580548, 0.0003222718436427837, 0.00012466221733361646, 0.11567348529831702, 0.26882468960625605, 0.06757027757133925, 0.018810969612904592, 0.21295378409192256, 0.019266231707829998, 0.026426317630547033, 0.01108546727128846, 0.022522381011989542, 0.01591776165462565, 0.004791796875280945, 0.02918376614937624, 0.03616159640507698, 0.5108853739924756, 0.007417323283026876, 0.006728599294856991, 0.0092471171058657, 0.4971946510895445, 0.1873620930337281, 0.3738487591225413, 0.017718081472508865, 0.01288636369024991, 0.0063177913322916175, 0.036946372212125045, 0.0017745603925514385, 0.3792561783516774, 0.019231985829063075, 0.052356455618434036, 0.013593374142657424, 0.004752045921779664, 0.05521957007263498, 0.6492310222880171, 0.0012260889802473258, 0.022014942947804348, 0.21446743818063352, 0.11513938468522378, 0.0018395215063909747, 0.02623877442794335, 0.04091661587849028, 0.2268251609634563, 0.004416114021540542, 0.0513292533969985, 0.01929549355302367, 0.0006535266955443775, 0.0013350958497352825, 0.2573233956358379, 0.030964676719686016, 0.0003866669203201664, 0.0040502700447374385, 0.00315252492485759, 0.155442970107208, 0.11137838149549342, 0.019850149162384964, 0.2328536203997584, 9.295498794141419e-05, 0.011328233998761657, 0.29676526393736696, 0.011924773376329776, 0.049730412971777306, 0.28402864226938196, 1.2211698195009701, 0.08751604388028549, 2.013142445005609, 0.002414253557914732, 0.015425097541057978, 1.9357703122687582, 0.17016347236391796, 0.016046059254362838, 0.07409783684735347, 0.011368099047146607, 0.5026534597838216, 0.07068828011460566, 0.009694729944802005, 0.02844082296003944, 0.4949212057130719, 0.006870273310830418, 0.006198337271506287, 0.0019097520620981927, 0.2985391756871158, 0.35940542875222287, 0.0009037907148838954, 0.004365640842371933, 0.004182989833813617, 0.008346176371974691, 0.00901843149502594, 0.18293671635730946, 0.0005804816916659611, 0.041718848843037004, 0.2511691722496171, 0.37271699947866654, 0.021366660298222914, 0.4616974923690147, 0.008469021768814821, 0.00033912357176249904, 0.0043857065845880625, 0.00031858122207479764, 0.022338568935427575, 0.019739085183124876, 0.0004915927136060184, 0.00016621628977815528, 0.004698867833900243, 0.0026871633514135105, 0.05506029155278025, 0.004581267438563055, 0.006614023197422428, 0.0011090773097865868, 0.0003758262136636452, 0.006784177155126551, 0.0003858170350897838, 0.1165722084273177, 0.001321603898491209, 0.01899825257830681, 4.743535983515264e-05]}],\n",
       "                        {\"geo\": {\"projection\": {\"type\": \"mercator\"}, \"showframe\": false}, \"template\": {\"data\": {\"bar\": [{\"error_x\": {\"color\": \"#2a3f5f\"}, \"error_y\": {\"color\": \"#2a3f5f\"}, \"marker\": {\"line\": {\"color\": \"#E5ECF6\", \"width\": 0.5}}, \"type\": \"bar\"}], \"barpolar\": [{\"marker\": {\"line\": {\"color\": \"#E5ECF6\", \"width\": 0.5}}, \"type\": \"barpolar\"}], \"carpet\": [{\"aaxis\": {\"endlinecolor\": \"#2a3f5f\", \"gridcolor\": \"white\", \"linecolor\": \"white\", \"minorgridcolor\": \"white\", \"startlinecolor\": \"#2a3f5f\"}, \"baxis\": {\"endlinecolor\": \"#2a3f5f\", \"gridcolor\": \"white\", \"linecolor\": \"white\", \"minorgridcolor\": \"white\", \"startlinecolor\": \"#2a3f5f\"}, \"type\": \"carpet\"}], \"choropleth\": [{\"colorbar\": {\"outlinewidth\": 0, \"ticks\": \"\"}, \"type\": \"choropleth\"}], \"contour\": [{\"colorbar\": {\"outlinewidth\": 0, \"ticks\": \"\"}, \"colorscale\": [[0.0, \"#0d0887\"], [0.1111111111111111, \"#46039f\"], [0.2222222222222222, \"#7201a8\"], [0.3333333333333333, \"#9c179e\"], [0.4444444444444444, \"#bd3786\"], [0.5555555555555556, \"#d8576b\"], [0.6666666666666666, \"#ed7953\"], [0.7777777777777778, \"#fb9f3a\"], [0.8888888888888888, \"#fdca26\"], [1.0, \"#f0f921\"]], \"type\": \"contour\"}], \"contourcarpet\": [{\"colorbar\": {\"outlinewidth\": 0, \"ticks\": \"\"}, \"type\": \"contourcarpet\"}], \"heatmap\": [{\"colorbar\": {\"outlinewidth\": 0, \"ticks\": \"\"}, \"colorscale\": [[0.0, \"#0d0887\"], [0.1111111111111111, \"#46039f\"], [0.2222222222222222, \"#7201a8\"], [0.3333333333333333, \"#9c179e\"], [0.4444444444444444, \"#bd3786\"], [0.5555555555555556, \"#d8576b\"], [0.6666666666666666, \"#ed7953\"], [0.7777777777777778, \"#fb9f3a\"], [0.8888888888888888, \"#fdca26\"], [1.0, \"#f0f921\"]], \"type\": \"heatmap\"}], \"heatmapgl\": [{\"colorbar\": {\"outlinewidth\": 0, \"ticks\": \"\"}, \"colorscale\": [[0.0, \"#0d0887\"], [0.1111111111111111, \"#46039f\"], [0.2222222222222222, \"#7201a8\"], [0.3333333333333333, \"#9c179e\"], [0.4444444444444444, \"#bd3786\"], [0.5555555555555556, \"#d8576b\"], [0.6666666666666666, \"#ed7953\"], [0.7777777777777778, \"#fb9f3a\"], [0.8888888888888888, \"#fdca26\"], [1.0, \"#f0f921\"]], \"type\": \"heatmapgl\"}], \"histogram\": [{\"marker\": {\"colorbar\": {\"outlinewidth\": 0, \"ticks\": \"\"}}, \"type\": \"histogram\"}], \"histogram2d\": [{\"colorbar\": {\"outlinewidth\": 0, \"ticks\": \"\"}, \"colorscale\": [[0.0, \"#0d0887\"], [0.1111111111111111, \"#46039f\"], [0.2222222222222222, \"#7201a8\"], [0.3333333333333333, \"#9c179e\"], [0.4444444444444444, \"#bd3786\"], [0.5555555555555556, \"#d8576b\"], [0.6666666666666666, \"#ed7953\"], [0.7777777777777778, \"#fb9f3a\"], [0.8888888888888888, \"#fdca26\"], [1.0, \"#f0f921\"]], \"type\": \"histogram2d\"}], \"histogram2dcontour\": [{\"colorbar\": {\"outlinewidth\": 0, \"ticks\": \"\"}, \"colorscale\": [[0.0, \"#0d0887\"], [0.1111111111111111, \"#46039f\"], [0.2222222222222222, \"#7201a8\"], [0.3333333333333333, \"#9c179e\"], [0.4444444444444444, \"#bd3786\"], [0.5555555555555556, \"#d8576b\"], [0.6666666666666666, \"#ed7953\"], [0.7777777777777778, \"#fb9f3a\"], [0.8888888888888888, \"#fdca26\"], [1.0, \"#f0f921\"]], \"type\": \"histogram2dcontour\"}], \"mesh3d\": [{\"colorbar\": {\"outlinewidth\": 0, \"ticks\": \"\"}, \"type\": \"mesh3d\"}], \"parcoords\": [{\"line\": {\"colorbar\": {\"outlinewidth\": 0, \"ticks\": \"\"}}, \"type\": \"parcoords\"}], \"pie\": [{\"automargin\": true, \"type\": \"pie\"}], \"scatter\": [{\"marker\": {\"colorbar\": {\"outlinewidth\": 0, \"ticks\": \"\"}}, \"type\": \"scatter\"}], \"scatter3d\": [{\"line\": {\"colorbar\": {\"outlinewidth\": 0, \"ticks\": \"\"}}, \"marker\": {\"colorbar\": {\"outlinewidth\": 0, \"ticks\": \"\"}}, \"type\": \"scatter3d\"}], \"scattercarpet\": [{\"marker\": {\"colorbar\": {\"outlinewidth\": 0, \"ticks\": \"\"}}, \"type\": \"scattercarpet\"}], \"scattergeo\": [{\"marker\": {\"colorbar\": {\"outlinewidth\": 0, \"ticks\": \"\"}}, \"type\": \"scattergeo\"}], \"scattergl\": [{\"marker\": {\"colorbar\": {\"outlinewidth\": 0, \"ticks\": \"\"}}, \"type\": \"scattergl\"}], \"scattermapbox\": [{\"marker\": {\"colorbar\": {\"outlinewidth\": 0, \"ticks\": \"\"}}, \"type\": \"scattermapbox\"}], \"scatterpolar\": [{\"marker\": {\"colorbar\": {\"outlinewidth\": 0, \"ticks\": \"\"}}, \"type\": \"scatterpolar\"}], \"scatterpolargl\": [{\"marker\": {\"colorbar\": {\"outlinewidth\": 0, \"ticks\": \"\"}}, \"type\": \"scatterpolargl\"}], \"scatterternary\": [{\"marker\": {\"colorbar\": {\"outlinewidth\": 0, \"ticks\": \"\"}}, \"type\": \"scatterternary\"}], \"surface\": [{\"colorbar\": {\"outlinewidth\": 0, \"ticks\": \"\"}, \"colorscale\": [[0.0, \"#0d0887\"], [0.1111111111111111, \"#46039f\"], [0.2222222222222222, \"#7201a8\"], [0.3333333333333333, \"#9c179e\"], [0.4444444444444444, \"#bd3786\"], [0.5555555555555556, \"#d8576b\"], [0.6666666666666666, \"#ed7953\"], [0.7777777777777778, \"#fb9f3a\"], [0.8888888888888888, \"#fdca26\"], [1.0, \"#f0f921\"]], \"type\": \"surface\"}], \"table\": [{\"cells\": {\"fill\": {\"color\": \"#EBF0F8\"}, \"line\": {\"color\": \"white\"}}, \"header\": {\"fill\": {\"color\": \"#C8D4E3\"}, \"line\": {\"color\": \"white\"}}, \"type\": \"table\"}]}, \"layout\": {\"annotationdefaults\": {\"arrowcolor\": \"#2a3f5f\", \"arrowhead\": 0, \"arrowwidth\": 1}, \"coloraxis\": {\"colorbar\": {\"outlinewidth\": 0, \"ticks\": \"\"}}, \"colorscale\": {\"diverging\": [[0, \"#8e0152\"], [0.1, \"#c51b7d\"], [0.2, \"#de77ae\"], [0.3, \"#f1b6da\"], [0.4, \"#fde0ef\"], [0.5, \"#f7f7f7\"], [0.6, \"#e6f5d0\"], [0.7, \"#b8e186\"], [0.8, \"#7fbc41\"], [0.9, \"#4d9221\"], [1, \"#276419\"]], \"sequential\": [[0.0, \"#0d0887\"], [0.1111111111111111, \"#46039f\"], [0.2222222222222222, \"#7201a8\"], [0.3333333333333333, \"#9c179e\"], [0.4444444444444444, \"#bd3786\"], [0.5555555555555556, \"#d8576b\"], [0.6666666666666666, \"#ed7953\"], [0.7777777777777778, \"#fb9f3a\"], [0.8888888888888888, \"#fdca26\"], [1.0, \"#f0f921\"]], \"sequentialminus\": [[0.0, \"#0d0887\"], [0.1111111111111111, \"#46039f\"], [0.2222222222222222, \"#7201a8\"], [0.3333333333333333, \"#9c179e\"], [0.4444444444444444, \"#bd3786\"], [0.5555555555555556, \"#d8576b\"], [0.6666666666666666, \"#ed7953\"], [0.7777777777777778, \"#fb9f3a\"], [0.8888888888888888, \"#fdca26\"], [1.0, \"#f0f921\"]]}, \"colorway\": [\"#636efa\", \"#EF553B\", \"#00cc96\", \"#ab63fa\", \"#FFA15A\", \"#19d3f3\", \"#FF6692\", \"#B6E880\", \"#FF97FF\", \"#FECB52\"], \"font\": {\"color\": \"#2a3f5f\"}, \"geo\": {\"bgcolor\": \"white\", \"lakecolor\": \"white\", \"landcolor\": \"#E5ECF6\", \"showlakes\": true, \"showland\": true, \"subunitcolor\": \"white\"}, \"hoverlabel\": {\"align\": \"left\"}, \"hovermode\": \"closest\", \"mapbox\": {\"style\": \"light\"}, \"paper_bgcolor\": \"white\", \"plot_bgcolor\": \"#E5ECF6\", \"polar\": {\"angularaxis\": {\"gridcolor\": \"white\", \"linecolor\": \"white\", \"ticks\": \"\"}, \"bgcolor\": \"#E5ECF6\", \"radialaxis\": {\"gridcolor\": \"white\", \"linecolor\": \"white\", \"ticks\": \"\"}}, \"scene\": {\"xaxis\": {\"backgroundcolor\": \"#E5ECF6\", \"gridcolor\": \"white\", \"gridwidth\": 2, \"linecolor\": \"white\", \"showbackground\": true, \"ticks\": \"\", \"zerolinecolor\": \"white\"}, \"yaxis\": {\"backgroundcolor\": \"#E5ECF6\", \"gridcolor\": \"white\", \"gridwidth\": 2, \"linecolor\": \"white\", \"showbackground\": true, \"ticks\": \"\", \"zerolinecolor\": \"white\"}, \"zaxis\": {\"backgroundcolor\": \"#E5ECF6\", \"gridcolor\": \"white\", \"gridwidth\": 2, \"linecolor\": \"white\", \"showbackground\": true, \"ticks\": \"\", \"zerolinecolor\": \"white\"}}, \"shapedefaults\": {\"line\": {\"color\": \"#2a3f5f\"}}, \"ternary\": {\"aaxis\": {\"gridcolor\": \"white\", \"linecolor\": \"white\", \"ticks\": \"\"}, \"baxis\": {\"gridcolor\": \"white\", \"linecolor\": \"white\", \"ticks\": \"\"}, \"bgcolor\": \"#E5ECF6\", \"caxis\": {\"gridcolor\": \"white\", \"linecolor\": \"white\", \"ticks\": \"\"}}, \"title\": {\"x\": 0.05}, \"xaxis\": {\"automargin\": true, \"gridcolor\": \"white\", \"linecolor\": \"white\", \"ticks\": \"\", \"title\": {\"standoff\": 15}, \"zerolinecolor\": \"white\", \"zerolinewidth\": 2}, \"yaxis\": {\"automargin\": true, \"gridcolor\": \"white\", \"linecolor\": \"white\", \"ticks\": \"\", \"title\": {\"standoff\": 15}, \"zerolinecolor\": \"white\", \"zerolinewidth\": 2}}}, \"title\": {\"text\": \"\\u0417\\u0430\\u0440\\u0430\\u0436\\u0451\\u043d\\u043d\\u044b\\u0435 \\u043f\\u043e \\u043e\\u0442\\u043d\\u043e\\u0448\\u0435\\u043d\\u0438\\u044e \\u043a \\u043d\\u0430\\u0441\\u0435\\u043b\\u0435\\u043d\\u0438\\u044e(%)\"}},\n",
       "                        {\"responsive\": true}\n",
       "                    ).then(function(){\n",
       "                            \n",
       "var gd = document.getElementById('c8dc854e-2033-4cb1-8756-0e4bc5eccf4b');\n",
       "var x = new MutationObserver(function (mutations, observer) {{\n",
       "        var display = window.getComputedStyle(gd).display;\n",
       "        if (!display || display === 'none') {{\n",
       "            console.log([gd, 'removed!']);\n",
       "            Plotly.purge(gd);\n",
       "            observer.disconnect();\n",
       "        }}\n",
       "}});\n",
       "\n",
       "// Listen for the removal of the full notebook cells\n",
       "var notebookContainer = gd.closest('#notebook-container');\n",
       "if (notebookContainer) {{\n",
       "    x.observe(notebookContainer, {childList: true});\n",
       "}}\n",
       "\n",
       "// Listen for the clearing of the current output cell\n",
       "var outputEl = gd.closest('.output');\n",
       "if (outputEl) {{\n",
       "    x.observe(outputEl, {childList: true});\n",
       "}}\n",
       "\n",
       "                        })\n",
       "                };\n",
       "                });\n",
       "            </script>\n",
       "        </div>"
      ]
     },
     "metadata": {},
     "output_type": "display_data"
    }
   ],
   "source": [
    "data = dict(type = 'choropleth', \n",
    "           locations = df_cl['country'],\n",
    "           locationmode = 'country names',\n",
    "           z = df_cl['conf_to_pop'], \n",
    "           text = df_cl['country'],\n",
    "           colorbar = {'title':'Заражённые'})\n",
    "layout = dict(title = 'Заражённые по отношению к населению(%)', \n",
    "             geo = dict(showframe = False, \n",
    "                       projection = {'type': 'mercator'}))\n",
    "choromap3 = go.Figure(data = [data], layout=layout)\n",
    "iplot(choromap3)"
   ]
  },
  {
   "cell_type": "code",
   "execution_count": 426,
   "metadata": {},
   "outputs": [
    {
     "data": {
      "application/vnd.plotly.v1+json": {
       "config": {
        "linkText": "Export to plot.ly",
        "plotlyServerURL": "https://plot.ly",
        "showLink": false
       },
       "data": [
        {
         "colorbar": {
          "title": {
           "text": "Умершие"
          }
         },
         "locationmode": "country names",
         "locations": [
          "Afghanistan",
          "Albania",
          "Algeria",
          "Andorra",
          "Angola",
          "Antigua and Barbuda",
          "Argentina",
          "Armenia",
          "Australia",
          "Austria",
          "Azerbaijan",
          "Bahrain",
          "Bangladesh",
          "Barbados",
          "Belarus",
          "Belgium",
          "Benin",
          "Bhutan",
          "Bolivia",
          "Bosnia and Herzegovina",
          "Brazil",
          "Brunei",
          "Bulgaria",
          "Burkina Faso",
          "Cabo Verde",
          "Cambodia",
          "Cameroon",
          "Canada",
          "Central African Republic",
          "Chad",
          "Chile",
          "China",
          "Colombia",
          "Costa Rica",
          "Cote d'Ivoire",
          "Croatia",
          "Cyprus",
          "Denmark",
          "Dominican Republic",
          "Ecuador",
          "El Salvador",
          "Equatorial Guinea",
          "Estonia",
          "Ethiopia",
          "Fiji",
          "Finland",
          "France",
          "Gabon",
          "Georgia",
          "Germany",
          "Ghana",
          "Greece",
          "Guatemala",
          "Guinea",
          "Guyana",
          "Haiti",
          "Honduras",
          "Hungary",
          "Iceland",
          "India",
          "Indonesia",
          "Iraq",
          "Ireland",
          "Israel",
          "Italy",
          "Jamaica",
          "Japan",
          "Jordan",
          "Kazakhstan",
          "Kenya",
          "Kuwait",
          "Kyrgyzstan",
          "Latvia",
          "Lebanon",
          "Liberia",
          "Lithuania",
          "Luxembourg",
          "Madagascar",
          "Malaysia",
          "Maldives",
          "Malta",
          "Mauritania",
          "Mauritius",
          "Mexico",
          "Moldova",
          "Mongolia",
          "Montenegro",
          "Morocco",
          "Namibia",
          "Nepal",
          "Netherlands",
          "New Zealand",
          "Nicaragua",
          "Niger",
          "Nigeria",
          "Norway",
          "Oman",
          "Pakistan",
          "Panama",
          "Papua New Guinea",
          "Paraguay",
          "Peru",
          "Philippines",
          "Poland",
          "Portugal",
          "Qatar",
          "Romania",
          "Russia",
          "Rwanda",
          "Saint Vincent and the Grenadines",
          "San Marino",
          "Saudi Arabia",
          "Senegal",
          "Serbia",
          "Seychelles",
          "Singapore",
          "Slovenia",
          "Somalia",
          "South Africa",
          "Spain",
          "Sri Lanka",
          "Sudan",
          "Suriname",
          "Sweden",
          "Switzerland",
          "Tanzania",
          "Thailand",
          "Togo",
          "Trinidad and Tobago",
          "Tunisia",
          "Turkey",
          "Uganda",
          "Ukraine",
          "United Arab Emirates",
          "United Kingdom",
          "Uruguay",
          "United States",
          "Uzbekistan",
          "Vietnam",
          "Zambia",
          "Zimbabwe",
          "Dominica",
          "Grenada",
          "Mozambique",
          "Timor-Leste",
          "Belize",
          "West Bank and Gaza",
          "Guinea-Bissau",
          "Mali",
          "Kosovo",
          "Botswana",
          "Burundi",
          "Sierra Leone",
          "Malawi",
          "Sao Tome and Principe",
          "Comoros",
          "Tajikistan",
          "Lesotho"
         ],
         "text": [
          "Afghanistan",
          "Albania",
          "Algeria",
          "Andorra",
          "Angola",
          "Antigua and Barbuda",
          "Argentina",
          "Armenia",
          "Australia",
          "Austria",
          "Azerbaijan",
          "Bahrain",
          "Bangladesh",
          "Barbados",
          "Belarus",
          "Belgium",
          "Benin",
          "Bhutan",
          "Bolivia",
          "Bosnia and Herzegovina",
          "Brazil",
          "Brunei",
          "Bulgaria",
          "Burkina Faso",
          "Cabo Verde",
          "Cambodia",
          "Cameroon",
          "Canada",
          "Central African Republic",
          "Chad",
          "Chile",
          "China",
          "Colombia",
          "Costa Rica",
          "Cote d'Ivoire",
          "Croatia",
          "Cyprus",
          "Denmark",
          "Dominican Republic",
          "Ecuador",
          "El Salvador",
          "Equatorial Guinea",
          "Estonia",
          "Ethiopia",
          "Fiji",
          "Finland",
          "France",
          "Gabon",
          "Georgia",
          "Germany",
          "Ghana",
          "Greece",
          "Guatemala",
          "Guinea",
          "Guyana",
          "Haiti",
          "Honduras",
          "Hungary",
          "Iceland",
          "India",
          "Indonesia",
          "Iraq",
          "Ireland",
          "Israel",
          "Italy",
          "Jamaica",
          "Japan",
          "Jordan",
          "Kazakhstan",
          "Kenya",
          "Kuwait",
          "Kyrgyzstan",
          "Latvia",
          "Lebanon",
          "Liberia",
          "Lithuania",
          "Luxembourg",
          "Madagascar",
          "Malaysia",
          "Maldives",
          "Malta",
          "Mauritania",
          "Mauritius",
          "Mexico",
          "Moldova",
          "Mongolia",
          "Montenegro",
          "Morocco",
          "Namibia",
          "Nepal",
          "Netherlands",
          "New Zealand",
          "Nicaragua",
          "Niger",
          "Nigeria",
          "Norway",
          "Oman",
          "Pakistan",
          "Panama",
          "Papua New Guinea",
          "Paraguay",
          "Peru",
          "Philippines",
          "Poland",
          "Portugal",
          "Qatar",
          "Romania",
          "Russia",
          "Rwanda",
          "Saint Vincent and the Grenadines",
          "San Marino",
          "Saudi Arabia",
          "Senegal",
          "Serbia",
          "Seychelles",
          "Singapore",
          "Slovenia",
          "Somalia",
          "South Africa",
          "Spain",
          "Sri Lanka",
          "Sudan",
          "Suriname",
          "Sweden",
          "Switzerland",
          "Tanzania",
          "Thailand",
          "Togo",
          "Trinidad and Tobago",
          "Tunisia",
          "Turkey",
          "Uganda",
          "Ukraine",
          "United Arab Emirates",
          "United Kingdom",
          "Uruguay",
          "United States",
          "Uzbekistan",
          "Vietnam",
          "Zambia",
          "Zimbabwe",
          "Dominica",
          "Grenada",
          "Mozambique",
          "Timor-Leste",
          "Belize",
          "West Bank and Gaza",
          "Guinea-Bissau",
          "Mali",
          "Kosovo",
          "Botswana",
          "Burundi",
          "Sierra Leone",
          "Malawi",
          "Sao Tome and Principe",
          "Comoros",
          "Tajikistan",
          "Lesotho"
         ],
         "type": "choropleth",
         "z": [
          0.00046539923479757263,
          0.0010815050084148068,
          0.0013142804815211098,
          0.06622860556320287,
          9.737173562067764e-06,
          0.003115717757514073,
          0.0008585330385313673,
          0.0020665524755265983,
          0.0003962744121048944,
          0.007114965283154692,
          0.0004024225839554116,
          0.0007646044223445448,
          0.0002162918736496748,
          0.002442079116386002,
          0.0018031319452872826,
          0.07941744678856136,
          1.7413945505495493e-05,
          0,
          0.001532615376430595,
          0.004001288836193553,
          0.008045569133501752,
          0.0002331208825024128,
          0.0015658280518664885,
          0.0002582077798004054,
          2.077703622226941e-05,
          0,
          0.0005551978274950382,
          0.016082999069155952,
          0,
          0.0003424270102290701,
          0.0025521699851995495,
          0.00033301501367817164,
          0.001192378005580611,
          0.00020002236250012752,
          0.00019391900474118113,
          0.002323964007423964,
          0.001429454326832119,
          0.00945865428894739,
          0.004083873733022871,
          0.016383408518096408,
          0.00046723557269998616,
          0.0005347699801523942,
          0.0048412340002889605,
          4.577725051744086e-06,
          0,
          0.005439192098666944,
          0.042166646582689815,
          0.0005190454282714607,
          0.000322013745156712,
          0.009653126485194964,
          9.742296765947167e-05,
          0.0015374973233569325,
          0.0002029243485853013,
          0.0001288834392674652,
          0.0012836904560181975,
          0.00018879499883846124,
          0.0015228126725550146,
          0.004726070025217982,
          0.002835101964442151,
          0.00023332541544965332,
          0.000444961785684324,
          0.00033044003163898255,
          0.03178347624940188,
          0.0031071283829423157,
          0.05297263767225582,
          0.0003066591024088072,
          0.0005919586877643166,
          9.039765022356845e-05,
          0.0001915454047436493,
          9.728949520567097e-05,
          0.0028520954079088606,
          0.0002214208894793446,
          0.0009858995607039116,
          0.00037962161945122774,
          0.00045652842916660524,
          0.0021059823104624844,
          0.017600131589768895,
          3.8077297523208873e-06,
          0.000358404920487234,
          0.0007756507709968664,
          0.0012380578998411158,
          9.084056821683825e-05,
          0.000790324530962149,
          0.004225348049970177,
          0.0080190713471929,
          0,
          0.0014258125943610697,
          0.000532902008368893,
          0,
          7.120511198588174e-06,
          0.033154158888332286,
          0.00043379467052261935,
          0.00012373341450245325,
          0.0002450658442910441,
          9.751129727089874e-05,
          0.00438636454341522,
          0.0005176537530000623,
          0.0004255118028162285,
          0.0066796380928986826,
          0,
          0.0001581352461756069,
          0.008718552253919255,
          0.0007791702056714927,
          0.0024647956866075483,
          0.011970257750474483,
          0.0005392430537406032,
          0.00575357884162478,
          0.01885169753233911,
          0,
          0,
          0.1213556311972769,
          0.0009495563895100488,
          0.00016399274395182146,
          0.0015998317891147446,
          0,
          0.00039016251332759673,
          0.005014721099535463,
          0.0003797935442293569,
          0.0004949842004850776,
          0.05921164257015583,
          6.233110866680823e-05,
          0.0002511869600571826,
          0.0001736138238271084,
          0.03634321597560504,
          0.022153761434999912,
          3.728802556495443e-05,
          8.065849131403111e-05,
          0.00015210872122958606,
          0.0005755983704810131,
          0.000397744821448891,
          0.005066829427173493,
          0,
          0.0011989462898058013,
          0.002325832764940646,
          0.052476406080594465,
          0.0005798279592462121,
          0.027655481070884315,
          3.9447252953992364e-05,
          0,
          4.0341584877945384e-05,
          2.7702714963025883e-05,
          0,
          0,
          0,
          0,
          0.0005220964259889159,
          1.3851357481512941e-05,
          0.00021341198276271416,
          0.0002725696874202275,
          0.0002008446834819376,
          4.436309239146348e-05,
          8.948243182467742e-06,
          0.0004313638653548674,
          1.6535015789562163e-05,
          0.0033170953617529426,
          0.00012014580895374627,
          0.0004505080137134639,
          0
         ]
        }
       ],
       "layout": {
        "geo": {
         "projection": {
          "type": "mercator"
         },
         "showframe": false
        },
        "template": {
         "data": {
          "bar": [
           {
            "error_x": {
             "color": "#2a3f5f"
            },
            "error_y": {
             "color": "#2a3f5f"
            },
            "marker": {
             "line": {
              "color": "#E5ECF6",
              "width": 0.5
             }
            },
            "type": "bar"
           }
          ],
          "barpolar": [
           {
            "marker": {
             "line": {
              "color": "#E5ECF6",
              "width": 0.5
             }
            },
            "type": "barpolar"
           }
          ],
          "carpet": [
           {
            "aaxis": {
             "endlinecolor": "#2a3f5f",
             "gridcolor": "white",
             "linecolor": "white",
             "minorgridcolor": "white",
             "startlinecolor": "#2a3f5f"
            },
            "baxis": {
             "endlinecolor": "#2a3f5f",
             "gridcolor": "white",
             "linecolor": "white",
             "minorgridcolor": "white",
             "startlinecolor": "#2a3f5f"
            },
            "type": "carpet"
           }
          ],
          "choropleth": [
           {
            "colorbar": {
             "outlinewidth": 0,
             "ticks": ""
            },
            "type": "choropleth"
           }
          ],
          "contour": [
           {
            "colorbar": {
             "outlinewidth": 0,
             "ticks": ""
            },
            "colorscale": [
             [
              0,
              "#0d0887"
             ],
             [
              0.1111111111111111,
              "#46039f"
             ],
             [
              0.2222222222222222,
              "#7201a8"
             ],
             [
              0.3333333333333333,
              "#9c179e"
             ],
             [
              0.4444444444444444,
              "#bd3786"
             ],
             [
              0.5555555555555556,
              "#d8576b"
             ],
             [
              0.6666666666666666,
              "#ed7953"
             ],
             [
              0.7777777777777778,
              "#fb9f3a"
             ],
             [
              0.8888888888888888,
              "#fdca26"
             ],
             [
              1,
              "#f0f921"
             ]
            ],
            "type": "contour"
           }
          ],
          "contourcarpet": [
           {
            "colorbar": {
             "outlinewidth": 0,
             "ticks": ""
            },
            "type": "contourcarpet"
           }
          ],
          "heatmap": [
           {
            "colorbar": {
             "outlinewidth": 0,
             "ticks": ""
            },
            "colorscale": [
             [
              0,
              "#0d0887"
             ],
             [
              0.1111111111111111,
              "#46039f"
             ],
             [
              0.2222222222222222,
              "#7201a8"
             ],
             [
              0.3333333333333333,
              "#9c179e"
             ],
             [
              0.4444444444444444,
              "#bd3786"
             ],
             [
              0.5555555555555556,
              "#d8576b"
             ],
             [
              0.6666666666666666,
              "#ed7953"
             ],
             [
              0.7777777777777778,
              "#fb9f3a"
             ],
             [
              0.8888888888888888,
              "#fdca26"
             ],
             [
              1,
              "#f0f921"
             ]
            ],
            "type": "heatmap"
           }
          ],
          "heatmapgl": [
           {
            "colorbar": {
             "outlinewidth": 0,
             "ticks": ""
            },
            "colorscale": [
             [
              0,
              "#0d0887"
             ],
             [
              0.1111111111111111,
              "#46039f"
             ],
             [
              0.2222222222222222,
              "#7201a8"
             ],
             [
              0.3333333333333333,
              "#9c179e"
             ],
             [
              0.4444444444444444,
              "#bd3786"
             ],
             [
              0.5555555555555556,
              "#d8576b"
             ],
             [
              0.6666666666666666,
              "#ed7953"
             ],
             [
              0.7777777777777778,
              "#fb9f3a"
             ],
             [
              0.8888888888888888,
              "#fdca26"
             ],
             [
              1,
              "#f0f921"
             ]
            ],
            "type": "heatmapgl"
           }
          ],
          "histogram": [
           {
            "marker": {
             "colorbar": {
              "outlinewidth": 0,
              "ticks": ""
             }
            },
            "type": "histogram"
           }
          ],
          "histogram2d": [
           {
            "colorbar": {
             "outlinewidth": 0,
             "ticks": ""
            },
            "colorscale": [
             [
              0,
              "#0d0887"
             ],
             [
              0.1111111111111111,
              "#46039f"
             ],
             [
              0.2222222222222222,
              "#7201a8"
             ],
             [
              0.3333333333333333,
              "#9c179e"
             ],
             [
              0.4444444444444444,
              "#bd3786"
             ],
             [
              0.5555555555555556,
              "#d8576b"
             ],
             [
              0.6666666666666666,
              "#ed7953"
             ],
             [
              0.7777777777777778,
              "#fb9f3a"
             ],
             [
              0.8888888888888888,
              "#fdca26"
             ],
             [
              1,
              "#f0f921"
             ]
            ],
            "type": "histogram2d"
           }
          ],
          "histogram2dcontour": [
           {
            "colorbar": {
             "outlinewidth": 0,
             "ticks": ""
            },
            "colorscale": [
             [
              0,
              "#0d0887"
             ],
             [
              0.1111111111111111,
              "#46039f"
             ],
             [
              0.2222222222222222,
              "#7201a8"
             ],
             [
              0.3333333333333333,
              "#9c179e"
             ],
             [
              0.4444444444444444,
              "#bd3786"
             ],
             [
              0.5555555555555556,
              "#d8576b"
             ],
             [
              0.6666666666666666,
              "#ed7953"
             ],
             [
              0.7777777777777778,
              "#fb9f3a"
             ],
             [
              0.8888888888888888,
              "#fdca26"
             ],
             [
              1,
              "#f0f921"
             ]
            ],
            "type": "histogram2dcontour"
           }
          ],
          "mesh3d": [
           {
            "colorbar": {
             "outlinewidth": 0,
             "ticks": ""
            },
            "type": "mesh3d"
           }
          ],
          "parcoords": [
           {
            "line": {
             "colorbar": {
              "outlinewidth": 0,
              "ticks": ""
             }
            },
            "type": "parcoords"
           }
          ],
          "pie": [
           {
            "automargin": true,
            "type": "pie"
           }
          ],
          "scatter": [
           {
            "marker": {
             "colorbar": {
              "outlinewidth": 0,
              "ticks": ""
             }
            },
            "type": "scatter"
           }
          ],
          "scatter3d": [
           {
            "line": {
             "colorbar": {
              "outlinewidth": 0,
              "ticks": ""
             }
            },
            "marker": {
             "colorbar": {
              "outlinewidth": 0,
              "ticks": ""
             }
            },
            "type": "scatter3d"
           }
          ],
          "scattercarpet": [
           {
            "marker": {
             "colorbar": {
              "outlinewidth": 0,
              "ticks": ""
             }
            },
            "type": "scattercarpet"
           }
          ],
          "scattergeo": [
           {
            "marker": {
             "colorbar": {
              "outlinewidth": 0,
              "ticks": ""
             }
            },
            "type": "scattergeo"
           }
          ],
          "scattergl": [
           {
            "marker": {
             "colorbar": {
              "outlinewidth": 0,
              "ticks": ""
             }
            },
            "type": "scattergl"
           }
          ],
          "scattermapbox": [
           {
            "marker": {
             "colorbar": {
              "outlinewidth": 0,
              "ticks": ""
             }
            },
            "type": "scattermapbox"
           }
          ],
          "scatterpolar": [
           {
            "marker": {
             "colorbar": {
              "outlinewidth": 0,
              "ticks": ""
             }
            },
            "type": "scatterpolar"
           }
          ],
          "scatterpolargl": [
           {
            "marker": {
             "colorbar": {
              "outlinewidth": 0,
              "ticks": ""
             }
            },
            "type": "scatterpolargl"
           }
          ],
          "scatterternary": [
           {
            "marker": {
             "colorbar": {
              "outlinewidth": 0,
              "ticks": ""
             }
            },
            "type": "scatterternary"
           }
          ],
          "surface": [
           {
            "colorbar": {
             "outlinewidth": 0,
             "ticks": ""
            },
            "colorscale": [
             [
              0,
              "#0d0887"
             ],
             [
              0.1111111111111111,
              "#46039f"
             ],
             [
              0.2222222222222222,
              "#7201a8"
             ],
             [
              0.3333333333333333,
              "#9c179e"
             ],
             [
              0.4444444444444444,
              "#bd3786"
             ],
             [
              0.5555555555555556,
              "#d8576b"
             ],
             [
              0.6666666666666666,
              "#ed7953"
             ],
             [
              0.7777777777777778,
              "#fb9f3a"
             ],
             [
              0.8888888888888888,
              "#fdca26"
             ],
             [
              1,
              "#f0f921"
             ]
            ],
            "type": "surface"
           }
          ],
          "table": [
           {
            "cells": {
             "fill": {
              "color": "#EBF0F8"
             },
             "line": {
              "color": "white"
             }
            },
            "header": {
             "fill": {
              "color": "#C8D4E3"
             },
             "line": {
              "color": "white"
             }
            },
            "type": "table"
           }
          ]
         },
         "layout": {
          "annotationdefaults": {
           "arrowcolor": "#2a3f5f",
           "arrowhead": 0,
           "arrowwidth": 1
          },
          "coloraxis": {
           "colorbar": {
            "outlinewidth": 0,
            "ticks": ""
           }
          },
          "colorscale": {
           "diverging": [
            [
             0,
             "#8e0152"
            ],
            [
             0.1,
             "#c51b7d"
            ],
            [
             0.2,
             "#de77ae"
            ],
            [
             0.3,
             "#f1b6da"
            ],
            [
             0.4,
             "#fde0ef"
            ],
            [
             0.5,
             "#f7f7f7"
            ],
            [
             0.6,
             "#e6f5d0"
            ],
            [
             0.7,
             "#b8e186"
            ],
            [
             0.8,
             "#7fbc41"
            ],
            [
             0.9,
             "#4d9221"
            ],
            [
             1,
             "#276419"
            ]
           ],
           "sequential": [
            [
             0,
             "#0d0887"
            ],
            [
             0.1111111111111111,
             "#46039f"
            ],
            [
             0.2222222222222222,
             "#7201a8"
            ],
            [
             0.3333333333333333,
             "#9c179e"
            ],
            [
             0.4444444444444444,
             "#bd3786"
            ],
            [
             0.5555555555555556,
             "#d8576b"
            ],
            [
             0.6666666666666666,
             "#ed7953"
            ],
            [
             0.7777777777777778,
             "#fb9f3a"
            ],
            [
             0.8888888888888888,
             "#fdca26"
            ],
            [
             1,
             "#f0f921"
            ]
           ],
           "sequentialminus": [
            [
             0,
             "#0d0887"
            ],
            [
             0.1111111111111111,
             "#46039f"
            ],
            [
             0.2222222222222222,
             "#7201a8"
            ],
            [
             0.3333333333333333,
             "#9c179e"
            ],
            [
             0.4444444444444444,
             "#bd3786"
            ],
            [
             0.5555555555555556,
             "#d8576b"
            ],
            [
             0.6666666666666666,
             "#ed7953"
            ],
            [
             0.7777777777777778,
             "#fb9f3a"
            ],
            [
             0.8888888888888888,
             "#fdca26"
            ],
            [
             1,
             "#f0f921"
            ]
           ]
          },
          "colorway": [
           "#636efa",
           "#EF553B",
           "#00cc96",
           "#ab63fa",
           "#FFA15A",
           "#19d3f3",
           "#FF6692",
           "#B6E880",
           "#FF97FF",
           "#FECB52"
          ],
          "font": {
           "color": "#2a3f5f"
          },
          "geo": {
           "bgcolor": "white",
           "lakecolor": "white",
           "landcolor": "#E5ECF6",
           "showlakes": true,
           "showland": true,
           "subunitcolor": "white"
          },
          "hoverlabel": {
           "align": "left"
          },
          "hovermode": "closest",
          "mapbox": {
           "style": "light"
          },
          "paper_bgcolor": "white",
          "plot_bgcolor": "#E5ECF6",
          "polar": {
           "angularaxis": {
            "gridcolor": "white",
            "linecolor": "white",
            "ticks": ""
           },
           "bgcolor": "#E5ECF6",
           "radialaxis": {
            "gridcolor": "white",
            "linecolor": "white",
            "ticks": ""
           }
          },
          "scene": {
           "xaxis": {
            "backgroundcolor": "#E5ECF6",
            "gridcolor": "white",
            "gridwidth": 2,
            "linecolor": "white",
            "showbackground": true,
            "ticks": "",
            "zerolinecolor": "white"
           },
           "yaxis": {
            "backgroundcolor": "#E5ECF6",
            "gridcolor": "white",
            "gridwidth": 2,
            "linecolor": "white",
            "showbackground": true,
            "ticks": "",
            "zerolinecolor": "white"
           },
           "zaxis": {
            "backgroundcolor": "#E5ECF6",
            "gridcolor": "white",
            "gridwidth": 2,
            "linecolor": "white",
            "showbackground": true,
            "ticks": "",
            "zerolinecolor": "white"
           }
          },
          "shapedefaults": {
           "line": {
            "color": "#2a3f5f"
           }
          },
          "ternary": {
           "aaxis": {
            "gridcolor": "white",
            "linecolor": "white",
            "ticks": ""
           },
           "baxis": {
            "gridcolor": "white",
            "linecolor": "white",
            "ticks": ""
           },
           "bgcolor": "#E5ECF6",
           "caxis": {
            "gridcolor": "white",
            "linecolor": "white",
            "ticks": ""
           }
          },
          "title": {
           "x": 0.05
          },
          "xaxis": {
           "automargin": true,
           "gridcolor": "white",
           "linecolor": "white",
           "ticks": "",
           "title": {
            "standoff": 15
           },
           "zerolinecolor": "white",
           "zerolinewidth": 2
          },
          "yaxis": {
           "automargin": true,
           "gridcolor": "white",
           "linecolor": "white",
           "ticks": "",
           "title": {
            "standoff": 15
           },
           "zerolinecolor": "white",
           "zerolinewidth": 2
          }
         }
        },
        "title": {
         "text": "Умершие по отношению к населению(%)"
        }
       }
      },
      "text/html": [
       "<div>\n",
       "        \n",
       "        \n",
       "            <div id=\"e34a5ecd-c09b-4530-a08b-bff1bc43b490\" class=\"plotly-graph-div\" style=\"height:525px; width:100%;\"></div>\n",
       "            <script type=\"text/javascript\">\n",
       "                require([\"plotly\"], function(Plotly) {\n",
       "                    window.PLOTLYENV=window.PLOTLYENV || {};\n",
       "                    \n",
       "                if (document.getElementById(\"e34a5ecd-c09b-4530-a08b-bff1bc43b490\")) {\n",
       "                    Plotly.newPlot(\n",
       "                        'e34a5ecd-c09b-4530-a08b-bff1bc43b490',\n",
       "                        [{\"colorbar\": {\"title\": {\"text\": \"\\u0423\\u043c\\u0435\\u0440\\u0448\\u0438\\u0435\"}}, \"locationmode\": \"country names\", \"locations\": [\"Afghanistan\", \"Albania\", \"Algeria\", \"Andorra\", \"Angola\", \"Antigua and Barbuda\", \"Argentina\", \"Armenia\", \"Australia\", \"Austria\", \"Azerbaijan\", \"Bahrain\", \"Bangladesh\", \"Barbados\", \"Belarus\", \"Belgium\", \"Benin\", \"Bhutan\", \"Bolivia\", \"Bosnia and Herzegovina\", \"Brazil\", \"Brunei\", \"Bulgaria\", \"Burkina Faso\", \"Cabo Verde\", \"Cambodia\", \"Cameroon\", \"Canada\", \"Central African Republic\", \"Chad\", \"Chile\", \"China\", \"Colombia\", \"Costa Rica\", \"Cote d'Ivoire\", \"Croatia\", \"Cyprus\", \"Denmark\", \"Dominican Republic\", \"Ecuador\", \"El Salvador\", \"Equatorial Guinea\", \"Estonia\", \"Ethiopia\", \"Fiji\", \"Finland\", \"France\", \"Gabon\", \"Georgia\", \"Germany\", \"Ghana\", \"Greece\", \"Guatemala\", \"Guinea\", \"Guyana\", \"Haiti\", \"Honduras\", \"Hungary\", \"Iceland\", \"India\", \"Indonesia\", \"Iraq\", \"Ireland\", \"Israel\", \"Italy\", \"Jamaica\", \"Japan\", \"Jordan\", \"Kazakhstan\", \"Kenya\", \"Kuwait\", \"Kyrgyzstan\", \"Latvia\", \"Lebanon\", \"Liberia\", \"Lithuania\", \"Luxembourg\", \"Madagascar\", \"Malaysia\", \"Maldives\", \"Malta\", \"Mauritania\", \"Mauritius\", \"Mexico\", \"Moldova\", \"Mongolia\", \"Montenegro\", \"Morocco\", \"Namibia\", \"Nepal\", \"Netherlands\", \"New Zealand\", \"Nicaragua\", \"Niger\", \"Nigeria\", \"Norway\", \"Oman\", \"Pakistan\", \"Panama\", \"Papua New Guinea\", \"Paraguay\", \"Peru\", \"Philippines\", \"Poland\", \"Portugal\", \"Qatar\", \"Romania\", \"Russia\", \"Rwanda\", \"Saint Vincent and the Grenadines\", \"San Marino\", \"Saudi Arabia\", \"Senegal\", \"Serbia\", \"Seychelles\", \"Singapore\", \"Slovenia\", \"Somalia\", \"South Africa\", \"Spain\", \"Sri Lanka\", \"Sudan\", \"Suriname\", \"Sweden\", \"Switzerland\", \"Tanzania\", \"Thailand\", \"Togo\", \"Trinidad and Tobago\", \"Tunisia\", \"Turkey\", \"Uganda\", \"Ukraine\", \"United Arab Emirates\", \"United Kingdom\", \"Uruguay\", \"United States\", \"Uzbekistan\", \"Vietnam\", \"Zambia\", \"Zimbabwe\", \"Dominica\", \"Grenada\", \"Mozambique\", \"Timor-Leste\", \"Belize\", \"West Bank and Gaza\", \"Guinea-Bissau\", \"Mali\", \"Kosovo\", \"Botswana\", \"Burundi\", \"Sierra Leone\", \"Malawi\", \"Sao Tome and Principe\", \"Comoros\", \"Tajikistan\", \"Lesotho\"], \"text\": [\"Afghanistan\", \"Albania\", \"Algeria\", \"Andorra\", \"Angola\", \"Antigua and Barbuda\", \"Argentina\", \"Armenia\", \"Australia\", \"Austria\", \"Azerbaijan\", \"Bahrain\", \"Bangladesh\", \"Barbados\", \"Belarus\", \"Belgium\", \"Benin\", \"Bhutan\", \"Bolivia\", \"Bosnia and Herzegovina\", \"Brazil\", \"Brunei\", \"Bulgaria\", \"Burkina Faso\", \"Cabo Verde\", \"Cambodia\", \"Cameroon\", \"Canada\", \"Central African Republic\", \"Chad\", \"Chile\", \"China\", \"Colombia\", \"Costa Rica\", \"Cote d'Ivoire\", \"Croatia\", \"Cyprus\", \"Denmark\", \"Dominican Republic\", \"Ecuador\", \"El Salvador\", \"Equatorial Guinea\", \"Estonia\", \"Ethiopia\", \"Fiji\", \"Finland\", \"France\", \"Gabon\", \"Georgia\", \"Germany\", \"Ghana\", \"Greece\", \"Guatemala\", \"Guinea\", \"Guyana\", \"Haiti\", \"Honduras\", \"Hungary\", \"Iceland\", \"India\", \"Indonesia\", \"Iraq\", \"Ireland\", \"Israel\", \"Italy\", \"Jamaica\", \"Japan\", \"Jordan\", \"Kazakhstan\", \"Kenya\", \"Kuwait\", \"Kyrgyzstan\", \"Latvia\", \"Lebanon\", \"Liberia\", \"Lithuania\", \"Luxembourg\", \"Madagascar\", \"Malaysia\", \"Maldives\", \"Malta\", \"Mauritania\", \"Mauritius\", \"Mexico\", \"Moldova\", \"Mongolia\", \"Montenegro\", \"Morocco\", \"Namibia\", \"Nepal\", \"Netherlands\", \"New Zealand\", \"Nicaragua\", \"Niger\", \"Nigeria\", \"Norway\", \"Oman\", \"Pakistan\", \"Panama\", \"Papua New Guinea\", \"Paraguay\", \"Peru\", \"Philippines\", \"Poland\", \"Portugal\", \"Qatar\", \"Romania\", \"Russia\", \"Rwanda\", \"Saint Vincent and the Grenadines\", \"San Marino\", \"Saudi Arabia\", \"Senegal\", \"Serbia\", \"Seychelles\", \"Singapore\", \"Slovenia\", \"Somalia\", \"South Africa\", \"Spain\", \"Sri Lanka\", \"Sudan\", \"Suriname\", \"Sweden\", \"Switzerland\", \"Tanzania\", \"Thailand\", \"Togo\", \"Trinidad and Tobago\", \"Tunisia\", \"Turkey\", \"Uganda\", \"Ukraine\", \"United Arab Emirates\", \"United Kingdom\", \"Uruguay\", \"United States\", \"Uzbekistan\", \"Vietnam\", \"Zambia\", \"Zimbabwe\", \"Dominica\", \"Grenada\", \"Mozambique\", \"Timor-Leste\", \"Belize\", \"West Bank and Gaza\", \"Guinea-Bissau\", \"Mali\", \"Kosovo\", \"Botswana\", \"Burundi\", \"Sierra Leone\", \"Malawi\", \"Sao Tome and Principe\", \"Comoros\", \"Tajikistan\", \"Lesotho\"], \"type\": \"choropleth\", \"z\": [0.00046539923479757263, 0.0010815050084148068, 0.0013142804815211098, 0.06622860556320287, 9.737173562067764e-06, 0.003115717757514073, 0.0008585330385313673, 0.0020665524755265983, 0.0003962744121048944, 0.007114965283154692, 0.0004024225839554116, 0.0007646044223445448, 0.0002162918736496748, 0.002442079116386002, 0.0018031319452872826, 0.07941744678856136, 1.7413945505495493e-05, 0.0, 0.001532615376430595, 0.004001288836193553, 0.008045569133501752, 0.0002331208825024128, 0.0015658280518664885, 0.0002582077798004054, 2.077703622226941e-05, 0.0, 0.0005551978274950382, 0.016082999069155952, 0.0, 0.0003424270102290701, 0.0025521699851995495, 0.00033301501367817164, 0.001192378005580611, 0.00020002236250012752, 0.00019391900474118113, 0.002323964007423964, 0.001429454326832119, 0.00945865428894739, 0.004083873733022871, 0.016383408518096408, 0.00046723557269998616, 0.0005347699801523942, 0.0048412340002889605, 4.577725051744086e-06, 0.0, 0.005439192098666944, 0.042166646582689815, 0.0005190454282714607, 0.000322013745156712, 0.009653126485194964, 9.742296765947167e-05, 0.0015374973233569325, 0.0002029243485853013, 0.0001288834392674652, 0.0012836904560181975, 0.00018879499883846124, 0.0015228126725550146, 0.004726070025217982, 0.002835101964442151, 0.00023332541544965332, 0.000444961785684324, 0.00033044003163898255, 0.03178347624940188, 0.0031071283829423157, 0.05297263767225582, 0.0003066591024088072, 0.0005919586877643166, 9.039765022356845e-05, 0.0001915454047436493, 9.728949520567097e-05, 0.0028520954079088606, 0.0002214208894793446, 0.0009858995607039116, 0.00037962161945122774, 0.00045652842916660524, 0.0021059823104624844, 0.017600131589768895, 3.8077297523208873e-06, 0.000358404920487234, 0.0007756507709968664, 0.0012380578998411158, 9.084056821683825e-05, 0.000790324530962149, 0.004225348049970177, 0.0080190713471929, 0.0, 0.0014258125943610697, 0.000532902008368893, 0.0, 7.120511198588174e-06, 0.033154158888332286, 0.00043379467052261935, 0.00012373341450245325, 0.0002450658442910441, 9.751129727089874e-05, 0.00438636454341522, 0.0005176537530000623, 0.0004255118028162285, 0.0066796380928986826, 0.0, 0.0001581352461756069, 0.008718552253919255, 0.0007791702056714927, 0.0024647956866075483, 0.011970257750474483, 0.0005392430537406032, 0.00575357884162478, 0.01885169753233911, 0.0, 0.0, 0.1213556311972769, 0.0009495563895100488, 0.00016399274395182146, 0.0015998317891147446, 0.0, 0.00039016251332759673, 0.005014721099535463, 0.0003797935442293569, 0.0004949842004850776, 0.05921164257015583, 6.233110866680823e-05, 0.0002511869600571826, 0.0001736138238271084, 0.03634321597560504, 0.022153761434999912, 3.728802556495443e-05, 8.065849131403111e-05, 0.00015210872122958606, 0.0005755983704810131, 0.000397744821448891, 0.005066829427173493, 0.0, 0.0011989462898058013, 0.002325832764940646, 0.052476406080594465, 0.0005798279592462121, 0.027655481070884315, 3.9447252953992364e-05, 0.0, 4.0341584877945384e-05, 2.7702714963025883e-05, 0.0, 0.0, 0.0, 0.0, 0.0005220964259889159, 1.3851357481512941e-05, 0.00021341198276271416, 0.0002725696874202275, 0.0002008446834819376, 4.436309239146348e-05, 8.948243182467742e-06, 0.0004313638653548674, 1.6535015789562163e-05, 0.0033170953617529426, 0.00012014580895374627, 0.0004505080137134639, 0.0]}],\n",
       "                        {\"geo\": {\"projection\": {\"type\": \"mercator\"}, \"showframe\": false}, \"template\": {\"data\": {\"bar\": [{\"error_x\": {\"color\": \"#2a3f5f\"}, \"error_y\": {\"color\": \"#2a3f5f\"}, \"marker\": {\"line\": {\"color\": \"#E5ECF6\", \"width\": 0.5}}, \"type\": \"bar\"}], \"barpolar\": [{\"marker\": {\"line\": {\"color\": \"#E5ECF6\", \"width\": 0.5}}, \"type\": \"barpolar\"}], \"carpet\": [{\"aaxis\": {\"endlinecolor\": \"#2a3f5f\", \"gridcolor\": \"white\", \"linecolor\": \"white\", \"minorgridcolor\": \"white\", \"startlinecolor\": \"#2a3f5f\"}, \"baxis\": {\"endlinecolor\": \"#2a3f5f\", \"gridcolor\": \"white\", \"linecolor\": \"white\", \"minorgridcolor\": \"white\", \"startlinecolor\": \"#2a3f5f\"}, \"type\": \"carpet\"}], \"choropleth\": [{\"colorbar\": {\"outlinewidth\": 0, \"ticks\": \"\"}, \"type\": \"choropleth\"}], \"contour\": [{\"colorbar\": {\"outlinewidth\": 0, \"ticks\": \"\"}, \"colorscale\": [[0.0, \"#0d0887\"], [0.1111111111111111, \"#46039f\"], [0.2222222222222222, \"#7201a8\"], [0.3333333333333333, \"#9c179e\"], [0.4444444444444444, \"#bd3786\"], [0.5555555555555556, \"#d8576b\"], [0.6666666666666666, \"#ed7953\"], [0.7777777777777778, \"#fb9f3a\"], [0.8888888888888888, \"#fdca26\"], [1.0, \"#f0f921\"]], \"type\": \"contour\"}], \"contourcarpet\": [{\"colorbar\": {\"outlinewidth\": 0, \"ticks\": \"\"}, \"type\": \"contourcarpet\"}], \"heatmap\": [{\"colorbar\": {\"outlinewidth\": 0, \"ticks\": \"\"}, \"colorscale\": [[0.0, \"#0d0887\"], [0.1111111111111111, \"#46039f\"], [0.2222222222222222, \"#7201a8\"], [0.3333333333333333, \"#9c179e\"], [0.4444444444444444, \"#bd3786\"], [0.5555555555555556, \"#d8576b\"], [0.6666666666666666, \"#ed7953\"], [0.7777777777777778, \"#fb9f3a\"], [0.8888888888888888, \"#fdca26\"], [1.0, \"#f0f921\"]], \"type\": \"heatmap\"}], \"heatmapgl\": [{\"colorbar\": {\"outlinewidth\": 0, \"ticks\": \"\"}, \"colorscale\": [[0.0, \"#0d0887\"], [0.1111111111111111, \"#46039f\"], [0.2222222222222222, \"#7201a8\"], [0.3333333333333333, \"#9c179e\"], [0.4444444444444444, \"#bd3786\"], [0.5555555555555556, \"#d8576b\"], [0.6666666666666666, \"#ed7953\"], [0.7777777777777778, \"#fb9f3a\"], [0.8888888888888888, \"#fdca26\"], [1.0, \"#f0f921\"]], \"type\": \"heatmapgl\"}], \"histogram\": [{\"marker\": {\"colorbar\": {\"outlinewidth\": 0, \"ticks\": \"\"}}, \"type\": \"histogram\"}], \"histogram2d\": [{\"colorbar\": {\"outlinewidth\": 0, \"ticks\": \"\"}, \"colorscale\": [[0.0, \"#0d0887\"], [0.1111111111111111, \"#46039f\"], [0.2222222222222222, \"#7201a8\"], [0.3333333333333333, \"#9c179e\"], [0.4444444444444444, \"#bd3786\"], [0.5555555555555556, \"#d8576b\"], [0.6666666666666666, \"#ed7953\"], [0.7777777777777778, \"#fb9f3a\"], [0.8888888888888888, \"#fdca26\"], [1.0, \"#f0f921\"]], \"type\": \"histogram2d\"}], \"histogram2dcontour\": [{\"colorbar\": {\"outlinewidth\": 0, \"ticks\": \"\"}, \"colorscale\": [[0.0, \"#0d0887\"], [0.1111111111111111, \"#46039f\"], [0.2222222222222222, \"#7201a8\"], [0.3333333333333333, \"#9c179e\"], [0.4444444444444444, \"#bd3786\"], [0.5555555555555556, \"#d8576b\"], [0.6666666666666666, \"#ed7953\"], [0.7777777777777778, \"#fb9f3a\"], [0.8888888888888888, \"#fdca26\"], [1.0, \"#f0f921\"]], \"type\": \"histogram2dcontour\"}], \"mesh3d\": [{\"colorbar\": {\"outlinewidth\": 0, \"ticks\": \"\"}, \"type\": \"mesh3d\"}], \"parcoords\": [{\"line\": {\"colorbar\": {\"outlinewidth\": 0, \"ticks\": \"\"}}, \"type\": \"parcoords\"}], \"pie\": [{\"automargin\": true, \"type\": \"pie\"}], \"scatter\": [{\"marker\": {\"colorbar\": {\"outlinewidth\": 0, \"ticks\": \"\"}}, \"type\": \"scatter\"}], \"scatter3d\": [{\"line\": {\"colorbar\": {\"outlinewidth\": 0, \"ticks\": \"\"}}, \"marker\": {\"colorbar\": {\"outlinewidth\": 0, \"ticks\": \"\"}}, \"type\": \"scatter3d\"}], \"scattercarpet\": [{\"marker\": {\"colorbar\": {\"outlinewidth\": 0, \"ticks\": \"\"}}, \"type\": \"scattercarpet\"}], \"scattergeo\": [{\"marker\": {\"colorbar\": {\"outlinewidth\": 0, \"ticks\": \"\"}}, \"type\": \"scattergeo\"}], \"scattergl\": [{\"marker\": {\"colorbar\": {\"outlinewidth\": 0, \"ticks\": \"\"}}, \"type\": \"scattergl\"}], \"scattermapbox\": [{\"marker\": {\"colorbar\": {\"outlinewidth\": 0, \"ticks\": \"\"}}, \"type\": \"scattermapbox\"}], \"scatterpolar\": [{\"marker\": {\"colorbar\": {\"outlinewidth\": 0, \"ticks\": \"\"}}, \"type\": \"scatterpolar\"}], \"scatterpolargl\": [{\"marker\": {\"colorbar\": {\"outlinewidth\": 0, \"ticks\": \"\"}}, \"type\": \"scatterpolargl\"}], \"scatterternary\": [{\"marker\": {\"colorbar\": {\"outlinewidth\": 0, \"ticks\": \"\"}}, \"type\": \"scatterternary\"}], \"surface\": [{\"colorbar\": {\"outlinewidth\": 0, \"ticks\": \"\"}, \"colorscale\": [[0.0, \"#0d0887\"], [0.1111111111111111, \"#46039f\"], [0.2222222222222222, \"#7201a8\"], [0.3333333333333333, \"#9c179e\"], [0.4444444444444444, \"#bd3786\"], [0.5555555555555556, \"#d8576b\"], [0.6666666666666666, \"#ed7953\"], [0.7777777777777778, \"#fb9f3a\"], [0.8888888888888888, \"#fdca26\"], [1.0, \"#f0f921\"]], \"type\": \"surface\"}], \"table\": [{\"cells\": {\"fill\": {\"color\": \"#EBF0F8\"}, \"line\": {\"color\": \"white\"}}, \"header\": {\"fill\": {\"color\": \"#C8D4E3\"}, \"line\": {\"color\": \"white\"}}, \"type\": \"table\"}]}, \"layout\": {\"annotationdefaults\": {\"arrowcolor\": \"#2a3f5f\", \"arrowhead\": 0, \"arrowwidth\": 1}, \"coloraxis\": {\"colorbar\": {\"outlinewidth\": 0, \"ticks\": \"\"}}, \"colorscale\": {\"diverging\": [[0, \"#8e0152\"], [0.1, \"#c51b7d\"], [0.2, \"#de77ae\"], [0.3, \"#f1b6da\"], [0.4, \"#fde0ef\"], [0.5, \"#f7f7f7\"], [0.6, \"#e6f5d0\"], [0.7, \"#b8e186\"], [0.8, \"#7fbc41\"], [0.9, \"#4d9221\"], [1, \"#276419\"]], \"sequential\": [[0.0, \"#0d0887\"], [0.1111111111111111, \"#46039f\"], [0.2222222222222222, \"#7201a8\"], [0.3333333333333333, \"#9c179e\"], [0.4444444444444444, \"#bd3786\"], [0.5555555555555556, \"#d8576b\"], [0.6666666666666666, \"#ed7953\"], [0.7777777777777778, \"#fb9f3a\"], [0.8888888888888888, \"#fdca26\"], [1.0, \"#f0f921\"]], \"sequentialminus\": [[0.0, \"#0d0887\"], [0.1111111111111111, \"#46039f\"], [0.2222222222222222, \"#7201a8\"], [0.3333333333333333, \"#9c179e\"], [0.4444444444444444, \"#bd3786\"], [0.5555555555555556, \"#d8576b\"], [0.6666666666666666, \"#ed7953\"], [0.7777777777777778, \"#fb9f3a\"], [0.8888888888888888, \"#fdca26\"], [1.0, \"#f0f921\"]]}, \"colorway\": [\"#636efa\", \"#EF553B\", \"#00cc96\", \"#ab63fa\", \"#FFA15A\", \"#19d3f3\", \"#FF6692\", \"#B6E880\", \"#FF97FF\", \"#FECB52\"], \"font\": {\"color\": \"#2a3f5f\"}, \"geo\": {\"bgcolor\": \"white\", \"lakecolor\": \"white\", \"landcolor\": \"#E5ECF6\", \"showlakes\": true, \"showland\": true, \"subunitcolor\": \"white\"}, \"hoverlabel\": {\"align\": \"left\"}, \"hovermode\": \"closest\", \"mapbox\": {\"style\": \"light\"}, \"paper_bgcolor\": \"white\", \"plot_bgcolor\": \"#E5ECF6\", \"polar\": {\"angularaxis\": {\"gridcolor\": \"white\", \"linecolor\": \"white\", \"ticks\": \"\"}, \"bgcolor\": \"#E5ECF6\", \"radialaxis\": {\"gridcolor\": \"white\", \"linecolor\": \"white\", \"ticks\": \"\"}}, \"scene\": {\"xaxis\": {\"backgroundcolor\": \"#E5ECF6\", \"gridcolor\": \"white\", \"gridwidth\": 2, \"linecolor\": \"white\", \"showbackground\": true, \"ticks\": \"\", \"zerolinecolor\": \"white\"}, \"yaxis\": {\"backgroundcolor\": \"#E5ECF6\", \"gridcolor\": \"white\", \"gridwidth\": 2, \"linecolor\": \"white\", \"showbackground\": true, \"ticks\": \"\", \"zerolinecolor\": \"white\"}, \"zaxis\": {\"backgroundcolor\": \"#E5ECF6\", \"gridcolor\": \"white\", \"gridwidth\": 2, \"linecolor\": \"white\", \"showbackground\": true, \"ticks\": \"\", \"zerolinecolor\": \"white\"}}, \"shapedefaults\": {\"line\": {\"color\": \"#2a3f5f\"}}, \"ternary\": {\"aaxis\": {\"gridcolor\": \"white\", \"linecolor\": \"white\", \"ticks\": \"\"}, \"baxis\": {\"gridcolor\": \"white\", \"linecolor\": \"white\", \"ticks\": \"\"}, \"bgcolor\": \"#E5ECF6\", \"caxis\": {\"gridcolor\": \"white\", \"linecolor\": \"white\", \"ticks\": \"\"}}, \"title\": {\"x\": 0.05}, \"xaxis\": {\"automargin\": true, \"gridcolor\": \"white\", \"linecolor\": \"white\", \"ticks\": \"\", \"title\": {\"standoff\": 15}, \"zerolinecolor\": \"white\", \"zerolinewidth\": 2}, \"yaxis\": {\"automargin\": true, \"gridcolor\": \"white\", \"linecolor\": \"white\", \"ticks\": \"\", \"title\": {\"standoff\": 15}, \"zerolinecolor\": \"white\", \"zerolinewidth\": 2}}}, \"title\": {\"text\": \"\\u0423\\u043c\\u0435\\u0440\\u0448\\u0438\\u0435 \\u043f\\u043e \\u043e\\u0442\\u043d\\u043e\\u0448\\u0435\\u043d\\u0438\\u044e \\u043a \\u043d\\u0430\\u0441\\u0435\\u043b\\u0435\\u043d\\u0438\\u044e(%)\"}},\n",
       "                        {\"responsive\": true}\n",
       "                    ).then(function(){\n",
       "                            \n",
       "var gd = document.getElementById('e34a5ecd-c09b-4530-a08b-bff1bc43b490');\n",
       "var x = new MutationObserver(function (mutations, observer) {{\n",
       "        var display = window.getComputedStyle(gd).display;\n",
       "        if (!display || display === 'none') {{\n",
       "            console.log([gd, 'removed!']);\n",
       "            Plotly.purge(gd);\n",
       "            observer.disconnect();\n",
       "        }}\n",
       "}});\n",
       "\n",
       "// Listen for the removal of the full notebook cells\n",
       "var notebookContainer = gd.closest('#notebook-container');\n",
       "if (notebookContainer) {{\n",
       "    x.observe(notebookContainer, {childList: true});\n",
       "}}\n",
       "\n",
       "// Listen for the clearing of the current output cell\n",
       "var outputEl = gd.closest('.output');\n",
       "if (outputEl) {{\n",
       "    x.observe(outputEl, {childList: true});\n",
       "}}\n",
       "\n",
       "                        })\n",
       "                };\n",
       "                });\n",
       "            </script>\n",
       "        </div>"
      ]
     },
     "metadata": {},
     "output_type": "display_data"
    }
   ],
   "source": [
    "data = dict(type = 'choropleth', \n",
    "           locations = df_cl['country'],\n",
    "           locationmode = 'country names',\n",
    "           z = df_cl['dead_to_pop'], \n",
    "           text = df_cl['country'],\n",
    "           colorbar = {'title':'Умершие'})\n",
    "layout = dict(title = 'Умершие по отношению к населению(%)', \n",
    "             geo = dict(showframe = False, \n",
    "                       projection = {'type': 'mercator'}))\n",
    "choromap3 = go.Figure(data = [data], layout=layout)\n",
    "iplot(choromap3)"
   ]
  },
  {
   "cell_type": "code",
   "execution_count": 440,
   "metadata": {},
   "outputs": [
    {
     "data": {
      "application/vnd.plotly.v1+json": {
       "config": {
        "linkText": "Export to plot.ly",
        "plotlyServerURL": "https://plot.ly",
        "showLink": false
       },
       "data": [
        {
         "colorbar": {
          "title": {
           "text": "ВВП(млрд. долларов)"
          }
         },
         "locationmode": "country names",
         "locations": [
          "Afghanistan",
          "Albania",
          "Algeria",
          "Andorra",
          "Angola",
          "Antigua and Barbuda",
          "Argentina",
          "Armenia",
          "Australia",
          "Austria",
          "Azerbaijan",
          "Bahrain",
          "Bangladesh",
          "Barbados",
          "Belarus",
          "Belgium",
          "Benin",
          "Bhutan",
          "Bolivia",
          "Bosnia and Herzegovina",
          "Brazil",
          "Brunei",
          "Bulgaria",
          "Burkina Faso",
          "Cabo Verde",
          "Cambodia",
          "Cameroon",
          "Canada",
          "Central African Republic",
          "Chad",
          "Chile",
          "China",
          "Colombia",
          "Costa Rica",
          "Cote d'Ivoire",
          "Croatia",
          "Cyprus",
          "Denmark",
          "Dominican Republic",
          "Ecuador",
          "El Salvador",
          "Equatorial Guinea",
          "Estonia",
          "Ethiopia",
          "Fiji",
          "Finland",
          "France",
          "Gabon",
          "Georgia",
          "Germany",
          "Ghana",
          "Greece",
          "Guatemala",
          "Guinea",
          "Guyana",
          "Haiti",
          "Honduras",
          "Hungary",
          "Iceland",
          "India",
          "Indonesia",
          "Iraq",
          "Ireland",
          "Israel",
          "Italy",
          "Jamaica",
          "Japan",
          "Jordan",
          "Kazakhstan",
          "Kenya",
          "Kuwait",
          "Kyrgyzstan",
          "Latvia",
          "Lebanon",
          "Liberia",
          "Lithuania",
          "Luxembourg",
          "Madagascar",
          "Malaysia",
          "Maldives",
          "Malta",
          "Mauritania",
          "Mauritius",
          "Mexico",
          "Moldova",
          "Mongolia",
          "Montenegro",
          "Morocco",
          "Namibia",
          "Nepal",
          "Netherlands",
          "New Zealand",
          "Nicaragua",
          "Niger",
          "Nigeria",
          "Norway",
          "Oman",
          "Pakistan",
          "Panama",
          "Papua New Guinea",
          "Paraguay",
          "Peru",
          "Philippines",
          "Poland",
          "Portugal",
          "Qatar",
          "Romania",
          "Russia",
          "Rwanda",
          "Saint Vincent and the Grenadines",
          "San Marino",
          "Saudi Arabia",
          "Senegal",
          "Serbia",
          "Seychelles",
          "Singapore",
          "Slovenia",
          "Somalia",
          "South Africa",
          "Spain",
          "Sri Lanka",
          "Sudan",
          "Suriname",
          "Sweden",
          "Switzerland",
          "Tanzania",
          "Thailand",
          "Togo",
          "Trinidad and Tobago",
          "Tunisia",
          "Turkey",
          "Uganda",
          "Ukraine",
          "United Arab Emirates",
          "United Kingdom",
          "Uruguay",
          "United States",
          "Uzbekistan",
          "Vietnam",
          "Zambia",
          "Zimbabwe",
          "Dominica",
          "Grenada",
          "Mozambique",
          "Timor-Leste",
          "Belize",
          "West Bank and Gaza",
          "Guinea-Bissau",
          "Mali",
          "Kosovo",
          "Botswana",
          "Burundi",
          "Sierra Leone",
          "Malawi",
          "Sao Tome and Principe",
          "Comoros",
          "Tajikistan",
          "Lesotho"
         ],
         "text": [
          "Afghanistan",
          "Albania",
          "Algeria",
          "Andorra",
          "Angola",
          "Antigua and Barbuda",
          "Argentina",
          "Armenia",
          "Australia",
          "Austria",
          "Azerbaijan",
          "Bahrain",
          "Bangladesh",
          "Barbados",
          "Belarus",
          "Belgium",
          "Benin",
          "Bhutan",
          "Bolivia",
          "Bosnia and Herzegovina",
          "Brazil",
          "Brunei",
          "Bulgaria",
          "Burkina Faso",
          "Cabo Verde",
          "Cambodia",
          "Cameroon",
          "Canada",
          "Central African Republic",
          "Chad",
          "Chile",
          "China",
          "Colombia",
          "Costa Rica",
          "Cote d'Ivoire",
          "Croatia",
          "Cyprus",
          "Denmark",
          "Dominican Republic",
          "Ecuador",
          "El Salvador",
          "Equatorial Guinea",
          "Estonia",
          "Ethiopia",
          "Fiji",
          "Finland",
          "France",
          "Gabon",
          "Georgia",
          "Germany",
          "Ghana",
          "Greece",
          "Guatemala",
          "Guinea",
          "Guyana",
          "Haiti",
          "Honduras",
          "Hungary",
          "Iceland",
          "India",
          "Indonesia",
          "Iraq",
          "Ireland",
          "Israel",
          "Italy",
          "Jamaica",
          "Japan",
          "Jordan",
          "Kazakhstan",
          "Kenya",
          "Kuwait",
          "Kyrgyzstan",
          "Latvia",
          "Lebanon",
          "Liberia",
          "Lithuania",
          "Luxembourg",
          "Madagascar",
          "Malaysia",
          "Maldives",
          "Malta",
          "Mauritania",
          "Mauritius",
          "Mexico",
          "Moldova",
          "Mongolia",
          "Montenegro",
          "Morocco",
          "Namibia",
          "Nepal",
          "Netherlands",
          "New Zealand",
          "Nicaragua",
          "Niger",
          "Nigeria",
          "Norway",
          "Oman",
          "Pakistan",
          "Panama",
          "Papua New Guinea",
          "Paraguay",
          "Peru",
          "Philippines",
          "Poland",
          "Portugal",
          "Qatar",
          "Romania",
          "Russia",
          "Rwanda",
          "Saint Vincent and the Grenadines",
          "San Marino",
          "Saudi Arabia",
          "Senegal",
          "Serbia",
          "Seychelles",
          "Singapore",
          "Slovenia",
          "Somalia",
          "South Africa",
          "Spain",
          "Sri Lanka",
          "Sudan",
          "Suriname",
          "Sweden",
          "Switzerland",
          "Tanzania",
          "Thailand",
          "Togo",
          "Trinidad and Tobago",
          "Tunisia",
          "Turkey",
          "Uganda",
          "Ukraine",
          "United Arab Emirates",
          "United Kingdom",
          "Uruguay",
          "United States",
          "Uzbekistan",
          "Vietnam",
          "Zambia",
          "Zimbabwe",
          "Dominica",
          "Grenada",
          "Mozambique",
          "Timor-Leste",
          "Belize",
          "West Bank and Gaza",
          "Guinea-Bissau",
          "Mali",
          "Kosovo",
          "Botswana",
          "Burundi",
          "Sierra Leone",
          "Malawi",
          "Sao Tome and Principe",
          "Comoros",
          "Tajikistan",
          "Lesotho"
         ],
         "type": "choropleth",
         "z": [
          19.469022208,
          11.863865978,
          159.049096745,
          2.858517699,
          95.335111741,
          1.460144704,
          545.476103427,
          10.572298342,
          1204.616439828,
          390.799991147,
          37.847715736,
          32.179069149,
          221.415162446,
          4.52905,
          47.407217531,
          467.955709818,
          8.583031398,
          2.21263883,
          33.806395514,
          16.910277134,
          1796.186586414,
          11.400653732,
          53.237882473,
          11.693235542,
          1.617467436,
          20.016747754,
          32.21749747,
          1529.760492201,
          1.756124677,
          9.600761474,
          247.027912574,
          11199.145157649,
          282.462551367,
          57.435507212,
          36.372613023,
          50.714957391,
          20.047013274,
          306.89965341,
          71.583553488,
          98.613972,
          26.79747,
          10.684804794,
          23.337907619,
          72.374224249,
          4.703632978,
          238.502900312,
          2465.453975282,
          14.21355813,
          14.378016729,
          3477.796274497,
          42.689783734,
          192.690813127,
          68.763255964,
          8.200248003,
          3.502397094,
          8.022638722,
          21.51693891,
          125.816640421,
          20.047413006,
          2263.792499341,
          932.259177765,
          171.489001692,
          304.819020501,
          317.744784695,
          1858.913163928,
          14.056908749,
          4940.158776617,
          38.654727746,
          137.278320084,
          70.529014778,
          110.875579087,
          6.551287938,
          27.572698482,
          49.598825982,
          2.101,
          42.738875963,
          58.631324559,
          10.00119342,
          296.535930381,
          4.224209599,
          10.99904758,
          4.73929873,
          12.168437744,
          1046.922702461,
          6.749515655,
          11.183458131,
          4.374127212,
          103.606321693,
          10.94788069,
          21.131983246,
          777.227541581,
          184.969146624,
          13.230844687,
          7.528387858,
          404.652720165,
          371.076190476,
          66.29336801,
          278.913371202,
          55.1877,
          20.213214172,
          27.424071383,
          192.207342005,
          304.905406845,
          471.364408714,
          204.836597909,
          152.451923077,
          187.59203784,
          1283.162985989,
          8.376048905,
          0.768224227,
          1.590707965,
          646.43838056,
          14.683697631,
          38.299854688,
          1.427323889,
          296.97567861,
          44.708598649,
          6.217,
          295.456189492,
          1237.255019654,
          81.321876307,
          95.584380032,
          3.278425328,
          514.459972806,
          668.851296244,
          47.340071107,
          407.02612731,
          4.399995987,
          21.894706041,
          42.062549395,
          863.711710427,
          24.078931933,
          93.270479389,
          348.743265705,
          2647.898654635,
          52.419720714,
          18624.475,
          67.22033557,
          205.276172135,
          21.063989683,
          16.619960402,
          0.581484032,
          1.056188593,
          11.014858592,
          1.782974,
          1.7411,
          13.3971,
          1.16494451,
          14.034980334,
          6.649888889,
          15.581137274,
          3.00702903,
          3.736588554,
          5.433038647,
          0.342781716,
          0.61665449,
          6.951657159,
          2.291321667
         ]
        }
       ],
       "layout": {
        "geo": {
         "projection": {
          "type": "mercator"
         },
         "showframe": false
        },
        "template": {
         "data": {
          "bar": [
           {
            "error_x": {
             "color": "#2a3f5f"
            },
            "error_y": {
             "color": "#2a3f5f"
            },
            "marker": {
             "line": {
              "color": "#E5ECF6",
              "width": 0.5
             }
            },
            "type": "bar"
           }
          ],
          "barpolar": [
           {
            "marker": {
             "line": {
              "color": "#E5ECF6",
              "width": 0.5
             }
            },
            "type": "barpolar"
           }
          ],
          "carpet": [
           {
            "aaxis": {
             "endlinecolor": "#2a3f5f",
             "gridcolor": "white",
             "linecolor": "white",
             "minorgridcolor": "white",
             "startlinecolor": "#2a3f5f"
            },
            "baxis": {
             "endlinecolor": "#2a3f5f",
             "gridcolor": "white",
             "linecolor": "white",
             "minorgridcolor": "white",
             "startlinecolor": "#2a3f5f"
            },
            "type": "carpet"
           }
          ],
          "choropleth": [
           {
            "colorbar": {
             "outlinewidth": 0,
             "ticks": ""
            },
            "type": "choropleth"
           }
          ],
          "contour": [
           {
            "colorbar": {
             "outlinewidth": 0,
             "ticks": ""
            },
            "colorscale": [
             [
              0,
              "#0d0887"
             ],
             [
              0.1111111111111111,
              "#46039f"
             ],
             [
              0.2222222222222222,
              "#7201a8"
             ],
             [
              0.3333333333333333,
              "#9c179e"
             ],
             [
              0.4444444444444444,
              "#bd3786"
             ],
             [
              0.5555555555555556,
              "#d8576b"
             ],
             [
              0.6666666666666666,
              "#ed7953"
             ],
             [
              0.7777777777777778,
              "#fb9f3a"
             ],
             [
              0.8888888888888888,
              "#fdca26"
             ],
             [
              1,
              "#f0f921"
             ]
            ],
            "type": "contour"
           }
          ],
          "contourcarpet": [
           {
            "colorbar": {
             "outlinewidth": 0,
             "ticks": ""
            },
            "type": "contourcarpet"
           }
          ],
          "heatmap": [
           {
            "colorbar": {
             "outlinewidth": 0,
             "ticks": ""
            },
            "colorscale": [
             [
              0,
              "#0d0887"
             ],
             [
              0.1111111111111111,
              "#46039f"
             ],
             [
              0.2222222222222222,
              "#7201a8"
             ],
             [
              0.3333333333333333,
              "#9c179e"
             ],
             [
              0.4444444444444444,
              "#bd3786"
             ],
             [
              0.5555555555555556,
              "#d8576b"
             ],
             [
              0.6666666666666666,
              "#ed7953"
             ],
             [
              0.7777777777777778,
              "#fb9f3a"
             ],
             [
              0.8888888888888888,
              "#fdca26"
             ],
             [
              1,
              "#f0f921"
             ]
            ],
            "type": "heatmap"
           }
          ],
          "heatmapgl": [
           {
            "colorbar": {
             "outlinewidth": 0,
             "ticks": ""
            },
            "colorscale": [
             [
              0,
              "#0d0887"
             ],
             [
              0.1111111111111111,
              "#46039f"
             ],
             [
              0.2222222222222222,
              "#7201a8"
             ],
             [
              0.3333333333333333,
              "#9c179e"
             ],
             [
              0.4444444444444444,
              "#bd3786"
             ],
             [
              0.5555555555555556,
              "#d8576b"
             ],
             [
              0.6666666666666666,
              "#ed7953"
             ],
             [
              0.7777777777777778,
              "#fb9f3a"
             ],
             [
              0.8888888888888888,
              "#fdca26"
             ],
             [
              1,
              "#f0f921"
             ]
            ],
            "type": "heatmapgl"
           }
          ],
          "histogram": [
           {
            "marker": {
             "colorbar": {
              "outlinewidth": 0,
              "ticks": ""
             }
            },
            "type": "histogram"
           }
          ],
          "histogram2d": [
           {
            "colorbar": {
             "outlinewidth": 0,
             "ticks": ""
            },
            "colorscale": [
             [
              0,
              "#0d0887"
             ],
             [
              0.1111111111111111,
              "#46039f"
             ],
             [
              0.2222222222222222,
              "#7201a8"
             ],
             [
              0.3333333333333333,
              "#9c179e"
             ],
             [
              0.4444444444444444,
              "#bd3786"
             ],
             [
              0.5555555555555556,
              "#d8576b"
             ],
             [
              0.6666666666666666,
              "#ed7953"
             ],
             [
              0.7777777777777778,
              "#fb9f3a"
             ],
             [
              0.8888888888888888,
              "#fdca26"
             ],
             [
              1,
              "#f0f921"
             ]
            ],
            "type": "histogram2d"
           }
          ],
          "histogram2dcontour": [
           {
            "colorbar": {
             "outlinewidth": 0,
             "ticks": ""
            },
            "colorscale": [
             [
              0,
              "#0d0887"
             ],
             [
              0.1111111111111111,
              "#46039f"
             ],
             [
              0.2222222222222222,
              "#7201a8"
             ],
             [
              0.3333333333333333,
              "#9c179e"
             ],
             [
              0.4444444444444444,
              "#bd3786"
             ],
             [
              0.5555555555555556,
              "#d8576b"
             ],
             [
              0.6666666666666666,
              "#ed7953"
             ],
             [
              0.7777777777777778,
              "#fb9f3a"
             ],
             [
              0.8888888888888888,
              "#fdca26"
             ],
             [
              1,
              "#f0f921"
             ]
            ],
            "type": "histogram2dcontour"
           }
          ],
          "mesh3d": [
           {
            "colorbar": {
             "outlinewidth": 0,
             "ticks": ""
            },
            "type": "mesh3d"
           }
          ],
          "parcoords": [
           {
            "line": {
             "colorbar": {
              "outlinewidth": 0,
              "ticks": ""
             }
            },
            "type": "parcoords"
           }
          ],
          "pie": [
           {
            "automargin": true,
            "type": "pie"
           }
          ],
          "scatter": [
           {
            "marker": {
             "colorbar": {
              "outlinewidth": 0,
              "ticks": ""
             }
            },
            "type": "scatter"
           }
          ],
          "scatter3d": [
           {
            "line": {
             "colorbar": {
              "outlinewidth": 0,
              "ticks": ""
             }
            },
            "marker": {
             "colorbar": {
              "outlinewidth": 0,
              "ticks": ""
             }
            },
            "type": "scatter3d"
           }
          ],
          "scattercarpet": [
           {
            "marker": {
             "colorbar": {
              "outlinewidth": 0,
              "ticks": ""
             }
            },
            "type": "scattercarpet"
           }
          ],
          "scattergeo": [
           {
            "marker": {
             "colorbar": {
              "outlinewidth": 0,
              "ticks": ""
             }
            },
            "type": "scattergeo"
           }
          ],
          "scattergl": [
           {
            "marker": {
             "colorbar": {
              "outlinewidth": 0,
              "ticks": ""
             }
            },
            "type": "scattergl"
           }
          ],
          "scattermapbox": [
           {
            "marker": {
             "colorbar": {
              "outlinewidth": 0,
              "ticks": ""
             }
            },
            "type": "scattermapbox"
           }
          ],
          "scatterpolar": [
           {
            "marker": {
             "colorbar": {
              "outlinewidth": 0,
              "ticks": ""
             }
            },
            "type": "scatterpolar"
           }
          ],
          "scatterpolargl": [
           {
            "marker": {
             "colorbar": {
              "outlinewidth": 0,
              "ticks": ""
             }
            },
            "type": "scatterpolargl"
           }
          ],
          "scatterternary": [
           {
            "marker": {
             "colorbar": {
              "outlinewidth": 0,
              "ticks": ""
             }
            },
            "type": "scatterternary"
           }
          ],
          "surface": [
           {
            "colorbar": {
             "outlinewidth": 0,
             "ticks": ""
            },
            "colorscale": [
             [
              0,
              "#0d0887"
             ],
             [
              0.1111111111111111,
              "#46039f"
             ],
             [
              0.2222222222222222,
              "#7201a8"
             ],
             [
              0.3333333333333333,
              "#9c179e"
             ],
             [
              0.4444444444444444,
              "#bd3786"
             ],
             [
              0.5555555555555556,
              "#d8576b"
             ],
             [
              0.6666666666666666,
              "#ed7953"
             ],
             [
              0.7777777777777778,
              "#fb9f3a"
             ],
             [
              0.8888888888888888,
              "#fdca26"
             ],
             [
              1,
              "#f0f921"
             ]
            ],
            "type": "surface"
           }
          ],
          "table": [
           {
            "cells": {
             "fill": {
              "color": "#EBF0F8"
             },
             "line": {
              "color": "white"
             }
            },
            "header": {
             "fill": {
              "color": "#C8D4E3"
             },
             "line": {
              "color": "white"
             }
            },
            "type": "table"
           }
          ]
         },
         "layout": {
          "annotationdefaults": {
           "arrowcolor": "#2a3f5f",
           "arrowhead": 0,
           "arrowwidth": 1
          },
          "coloraxis": {
           "colorbar": {
            "outlinewidth": 0,
            "ticks": ""
           }
          },
          "colorscale": {
           "diverging": [
            [
             0,
             "#8e0152"
            ],
            [
             0.1,
             "#c51b7d"
            ],
            [
             0.2,
             "#de77ae"
            ],
            [
             0.3,
             "#f1b6da"
            ],
            [
             0.4,
             "#fde0ef"
            ],
            [
             0.5,
             "#f7f7f7"
            ],
            [
             0.6,
             "#e6f5d0"
            ],
            [
             0.7,
             "#b8e186"
            ],
            [
             0.8,
             "#7fbc41"
            ],
            [
             0.9,
             "#4d9221"
            ],
            [
             1,
             "#276419"
            ]
           ],
           "sequential": [
            [
             0,
             "#0d0887"
            ],
            [
             0.1111111111111111,
             "#46039f"
            ],
            [
             0.2222222222222222,
             "#7201a8"
            ],
            [
             0.3333333333333333,
             "#9c179e"
            ],
            [
             0.4444444444444444,
             "#bd3786"
            ],
            [
             0.5555555555555556,
             "#d8576b"
            ],
            [
             0.6666666666666666,
             "#ed7953"
            ],
            [
             0.7777777777777778,
             "#fb9f3a"
            ],
            [
             0.8888888888888888,
             "#fdca26"
            ],
            [
             1,
             "#f0f921"
            ]
           ],
           "sequentialminus": [
            [
             0,
             "#0d0887"
            ],
            [
             0.1111111111111111,
             "#46039f"
            ],
            [
             0.2222222222222222,
             "#7201a8"
            ],
            [
             0.3333333333333333,
             "#9c179e"
            ],
            [
             0.4444444444444444,
             "#bd3786"
            ],
            [
             0.5555555555555556,
             "#d8576b"
            ],
            [
             0.6666666666666666,
             "#ed7953"
            ],
            [
             0.7777777777777778,
             "#fb9f3a"
            ],
            [
             0.8888888888888888,
             "#fdca26"
            ],
            [
             1,
             "#f0f921"
            ]
           ]
          },
          "colorway": [
           "#636efa",
           "#EF553B",
           "#00cc96",
           "#ab63fa",
           "#FFA15A",
           "#19d3f3",
           "#FF6692",
           "#B6E880",
           "#FF97FF",
           "#FECB52"
          ],
          "font": {
           "color": "#2a3f5f"
          },
          "geo": {
           "bgcolor": "white",
           "lakecolor": "white",
           "landcolor": "#E5ECF6",
           "showlakes": true,
           "showland": true,
           "subunitcolor": "white"
          },
          "hoverlabel": {
           "align": "left"
          },
          "hovermode": "closest",
          "mapbox": {
           "style": "light"
          },
          "paper_bgcolor": "white",
          "plot_bgcolor": "#E5ECF6",
          "polar": {
           "angularaxis": {
            "gridcolor": "white",
            "linecolor": "white",
            "ticks": ""
           },
           "bgcolor": "#E5ECF6",
           "radialaxis": {
            "gridcolor": "white",
            "linecolor": "white",
            "ticks": ""
           }
          },
          "scene": {
           "xaxis": {
            "backgroundcolor": "#E5ECF6",
            "gridcolor": "white",
            "gridwidth": 2,
            "linecolor": "white",
            "showbackground": true,
            "ticks": "",
            "zerolinecolor": "white"
           },
           "yaxis": {
            "backgroundcolor": "#E5ECF6",
            "gridcolor": "white",
            "gridwidth": 2,
            "linecolor": "white",
            "showbackground": true,
            "ticks": "",
            "zerolinecolor": "white"
           },
           "zaxis": {
            "backgroundcolor": "#E5ECF6",
            "gridcolor": "white",
            "gridwidth": 2,
            "linecolor": "white",
            "showbackground": true,
            "ticks": "",
            "zerolinecolor": "white"
           }
          },
          "shapedefaults": {
           "line": {
            "color": "#2a3f5f"
           }
          },
          "ternary": {
           "aaxis": {
            "gridcolor": "white",
            "linecolor": "white",
            "ticks": ""
           },
           "baxis": {
            "gridcolor": "white",
            "linecolor": "white",
            "ticks": ""
           },
           "bgcolor": "#E5ECF6",
           "caxis": {
            "gridcolor": "white",
            "linecolor": "white",
            "ticks": ""
           }
          },
          "title": {
           "x": 0.05
          },
          "xaxis": {
           "automargin": true,
           "gridcolor": "white",
           "linecolor": "white",
           "ticks": "",
           "title": {
            "standoff": 15
           },
           "zerolinecolor": "white",
           "zerolinewidth": 2
          },
          "yaxis": {
           "automargin": true,
           "gridcolor": "white",
           "linecolor": "white",
           "ticks": "",
           "title": {
            "standoff": 15
           },
           "zerolinecolor": "white",
           "zerolinewidth": 2
          }
         }
        },
        "title": {
         "text": "ВВП в млрд. долларов США"
        }
       }
      },
      "text/html": [
       "<div>\n",
       "        \n",
       "        \n",
       "            <div id=\"b1874399-c25b-4605-8732-d929abb51acf\" class=\"plotly-graph-div\" style=\"height:525px; width:100%;\"></div>\n",
       "            <script type=\"text/javascript\">\n",
       "                require([\"plotly\"], function(Plotly) {\n",
       "                    window.PLOTLYENV=window.PLOTLYENV || {};\n",
       "                    \n",
       "                if (document.getElementById(\"b1874399-c25b-4605-8732-d929abb51acf\")) {\n",
       "                    Plotly.newPlot(\n",
       "                        'b1874399-c25b-4605-8732-d929abb51acf',\n",
       "                        [{\"colorbar\": {\"title\": {\"text\": \"\\u0412\\u0412\\u041f(\\u043c\\u043b\\u0440\\u0434. \\u0434\\u043e\\u043b\\u043b\\u0430\\u0440\\u043e\\u0432)\"}}, \"locationmode\": \"country names\", \"locations\": [\"Afghanistan\", \"Albania\", \"Algeria\", \"Andorra\", \"Angola\", \"Antigua and Barbuda\", \"Argentina\", \"Armenia\", \"Australia\", \"Austria\", \"Azerbaijan\", \"Bahrain\", \"Bangladesh\", \"Barbados\", \"Belarus\", \"Belgium\", \"Benin\", \"Bhutan\", \"Bolivia\", \"Bosnia and Herzegovina\", \"Brazil\", \"Brunei\", \"Bulgaria\", \"Burkina Faso\", \"Cabo Verde\", \"Cambodia\", \"Cameroon\", \"Canada\", \"Central African Republic\", \"Chad\", \"Chile\", \"China\", \"Colombia\", \"Costa Rica\", \"Cote d'Ivoire\", \"Croatia\", \"Cyprus\", \"Denmark\", \"Dominican Republic\", \"Ecuador\", \"El Salvador\", \"Equatorial Guinea\", \"Estonia\", \"Ethiopia\", \"Fiji\", \"Finland\", \"France\", \"Gabon\", \"Georgia\", \"Germany\", \"Ghana\", \"Greece\", \"Guatemala\", \"Guinea\", \"Guyana\", \"Haiti\", \"Honduras\", \"Hungary\", \"Iceland\", \"India\", \"Indonesia\", \"Iraq\", \"Ireland\", \"Israel\", \"Italy\", \"Jamaica\", \"Japan\", \"Jordan\", \"Kazakhstan\", \"Kenya\", \"Kuwait\", \"Kyrgyzstan\", \"Latvia\", \"Lebanon\", \"Liberia\", \"Lithuania\", \"Luxembourg\", \"Madagascar\", \"Malaysia\", \"Maldives\", \"Malta\", \"Mauritania\", \"Mauritius\", \"Mexico\", \"Moldova\", \"Mongolia\", \"Montenegro\", \"Morocco\", \"Namibia\", \"Nepal\", \"Netherlands\", \"New Zealand\", \"Nicaragua\", \"Niger\", \"Nigeria\", \"Norway\", \"Oman\", \"Pakistan\", \"Panama\", \"Papua New Guinea\", \"Paraguay\", \"Peru\", \"Philippines\", \"Poland\", \"Portugal\", \"Qatar\", \"Romania\", \"Russia\", \"Rwanda\", \"Saint Vincent and the Grenadines\", \"San Marino\", \"Saudi Arabia\", \"Senegal\", \"Serbia\", \"Seychelles\", \"Singapore\", \"Slovenia\", \"Somalia\", \"South Africa\", \"Spain\", \"Sri Lanka\", \"Sudan\", \"Suriname\", \"Sweden\", \"Switzerland\", \"Tanzania\", \"Thailand\", \"Togo\", \"Trinidad and Tobago\", \"Tunisia\", \"Turkey\", \"Uganda\", \"Ukraine\", \"United Arab Emirates\", \"United Kingdom\", \"Uruguay\", \"United States\", \"Uzbekistan\", \"Vietnam\", \"Zambia\", \"Zimbabwe\", \"Dominica\", \"Grenada\", \"Mozambique\", \"Timor-Leste\", \"Belize\", \"West Bank and Gaza\", \"Guinea-Bissau\", \"Mali\", \"Kosovo\", \"Botswana\", \"Burundi\", \"Sierra Leone\", \"Malawi\", \"Sao Tome and Principe\", \"Comoros\", \"Tajikistan\", \"Lesotho\"], \"text\": [\"Afghanistan\", \"Albania\", \"Algeria\", \"Andorra\", \"Angola\", \"Antigua and Barbuda\", \"Argentina\", \"Armenia\", \"Australia\", \"Austria\", \"Azerbaijan\", \"Bahrain\", \"Bangladesh\", \"Barbados\", \"Belarus\", \"Belgium\", \"Benin\", \"Bhutan\", \"Bolivia\", \"Bosnia and Herzegovina\", \"Brazil\", \"Brunei\", \"Bulgaria\", \"Burkina Faso\", \"Cabo Verde\", \"Cambodia\", \"Cameroon\", \"Canada\", \"Central African Republic\", \"Chad\", \"Chile\", \"China\", \"Colombia\", \"Costa Rica\", \"Cote d'Ivoire\", \"Croatia\", \"Cyprus\", \"Denmark\", \"Dominican Republic\", \"Ecuador\", \"El Salvador\", \"Equatorial Guinea\", \"Estonia\", \"Ethiopia\", \"Fiji\", \"Finland\", \"France\", \"Gabon\", \"Georgia\", \"Germany\", \"Ghana\", \"Greece\", \"Guatemala\", \"Guinea\", \"Guyana\", \"Haiti\", \"Honduras\", \"Hungary\", \"Iceland\", \"India\", \"Indonesia\", \"Iraq\", \"Ireland\", \"Israel\", \"Italy\", \"Jamaica\", \"Japan\", \"Jordan\", \"Kazakhstan\", \"Kenya\", \"Kuwait\", \"Kyrgyzstan\", \"Latvia\", \"Lebanon\", \"Liberia\", \"Lithuania\", \"Luxembourg\", \"Madagascar\", \"Malaysia\", \"Maldives\", \"Malta\", \"Mauritania\", \"Mauritius\", \"Mexico\", \"Moldova\", \"Mongolia\", \"Montenegro\", \"Morocco\", \"Namibia\", \"Nepal\", \"Netherlands\", \"New Zealand\", \"Nicaragua\", \"Niger\", \"Nigeria\", \"Norway\", \"Oman\", \"Pakistan\", \"Panama\", \"Papua New Guinea\", \"Paraguay\", \"Peru\", \"Philippines\", \"Poland\", \"Portugal\", \"Qatar\", \"Romania\", \"Russia\", \"Rwanda\", \"Saint Vincent and the Grenadines\", \"San Marino\", \"Saudi Arabia\", \"Senegal\", \"Serbia\", \"Seychelles\", \"Singapore\", \"Slovenia\", \"Somalia\", \"South Africa\", \"Spain\", \"Sri Lanka\", \"Sudan\", \"Suriname\", \"Sweden\", \"Switzerland\", \"Tanzania\", \"Thailand\", \"Togo\", \"Trinidad and Tobago\", \"Tunisia\", \"Turkey\", \"Uganda\", \"Ukraine\", \"United Arab Emirates\", \"United Kingdom\", \"Uruguay\", \"United States\", \"Uzbekistan\", \"Vietnam\", \"Zambia\", \"Zimbabwe\", \"Dominica\", \"Grenada\", \"Mozambique\", \"Timor-Leste\", \"Belize\", \"West Bank and Gaza\", \"Guinea-Bissau\", \"Mali\", \"Kosovo\", \"Botswana\", \"Burundi\", \"Sierra Leone\", \"Malawi\", \"Sao Tome and Principe\", \"Comoros\", \"Tajikistan\", \"Lesotho\"], \"type\": \"choropleth\", \"z\": [19.469022208, 11.863865978, 159.049096745, 2.858517699, 95.335111741, 1.460144704, 545.476103427, 10.572298342, 1204.616439828, 390.799991147, 37.847715736, 32.179069149, 221.415162446, 4.52905, 47.407217531, 467.955709818, 8.583031398, 2.21263883, 33.806395514, 16.910277134, 1796.186586414, 11.400653732, 53.237882473, 11.693235542, 1.617467436, 20.016747754, 32.21749747, 1529.760492201, 1.756124677, 9.600761474, 247.027912574, 11199.145157649, 282.462551367, 57.435507212, 36.372613023, 50.714957391, 20.047013274, 306.89965341, 71.583553488, 98.613972, 26.79747, 10.684804794, 23.337907619, 72.374224249, 4.703632978, 238.502900312, 2465.453975282, 14.21355813, 14.378016729, 3477.796274497, 42.689783734, 192.690813127, 68.763255964, 8.200248003, 3.502397094, 8.022638722, 21.51693891, 125.816640421, 20.047413006, 2263.792499341, 932.259177765, 171.489001692, 304.819020501, 317.744784695, 1858.913163928, 14.056908749, 4940.158776617, 38.654727746, 137.278320084, 70.529014778, 110.875579087, 6.551287938, 27.572698482, 49.598825982, 2.101, 42.738875963, 58.631324559, 10.00119342, 296.535930381, 4.224209599, 10.99904758, 4.73929873, 12.168437744, 1046.922702461, 6.749515655, 11.183458131, 4.374127212, 103.606321693, 10.94788069, 21.131983246, 777.227541581, 184.969146624, 13.230844687, 7.528387858, 404.652720165, 371.076190476, 66.29336801, 278.913371202, 55.1877, 20.213214172, 27.424071383, 192.207342005, 304.905406845, 471.364408714, 204.836597909, 152.451923077, 187.59203784, 1283.162985989, 8.376048905, 0.768224227, 1.590707965, 646.43838056, 14.683697631, 38.299854688, 1.427323889, 296.97567861, 44.708598649, 6.217, 295.456189492, 1237.255019654, 81.321876307, 95.584380032, 3.278425328, 514.459972806, 668.851296244, 47.340071107, 407.02612731, 4.399995987, 21.894706041, 42.062549395, 863.711710427, 24.078931933, 93.270479389, 348.743265705, 2647.898654635, 52.419720714, 18624.475, 67.22033557, 205.276172135, 21.063989683, 16.619960402, 0.581484032, 1.056188593, 11.014858592, 1.782974, 1.7411, 13.3971, 1.16494451, 14.034980334, 6.649888889, 15.581137274, 3.00702903, 3.736588554, 5.433038647, 0.342781716, 0.61665449, 6.951657159, 2.291321667]}],\n",
       "                        {\"geo\": {\"projection\": {\"type\": \"mercator\"}, \"showframe\": false}, \"template\": {\"data\": {\"bar\": [{\"error_x\": {\"color\": \"#2a3f5f\"}, \"error_y\": {\"color\": \"#2a3f5f\"}, \"marker\": {\"line\": {\"color\": \"#E5ECF6\", \"width\": 0.5}}, \"type\": \"bar\"}], \"barpolar\": [{\"marker\": {\"line\": {\"color\": \"#E5ECF6\", \"width\": 0.5}}, \"type\": \"barpolar\"}], \"carpet\": [{\"aaxis\": {\"endlinecolor\": \"#2a3f5f\", \"gridcolor\": \"white\", \"linecolor\": \"white\", \"minorgridcolor\": \"white\", \"startlinecolor\": \"#2a3f5f\"}, \"baxis\": {\"endlinecolor\": \"#2a3f5f\", \"gridcolor\": \"white\", \"linecolor\": \"white\", \"minorgridcolor\": \"white\", \"startlinecolor\": \"#2a3f5f\"}, \"type\": \"carpet\"}], \"choropleth\": [{\"colorbar\": {\"outlinewidth\": 0, \"ticks\": \"\"}, \"type\": \"choropleth\"}], \"contour\": [{\"colorbar\": {\"outlinewidth\": 0, \"ticks\": \"\"}, \"colorscale\": [[0.0, \"#0d0887\"], [0.1111111111111111, \"#46039f\"], [0.2222222222222222, \"#7201a8\"], [0.3333333333333333, \"#9c179e\"], [0.4444444444444444, \"#bd3786\"], [0.5555555555555556, \"#d8576b\"], [0.6666666666666666, \"#ed7953\"], [0.7777777777777778, \"#fb9f3a\"], [0.8888888888888888, \"#fdca26\"], [1.0, \"#f0f921\"]], \"type\": \"contour\"}], \"contourcarpet\": [{\"colorbar\": {\"outlinewidth\": 0, \"ticks\": \"\"}, \"type\": \"contourcarpet\"}], \"heatmap\": [{\"colorbar\": {\"outlinewidth\": 0, \"ticks\": \"\"}, \"colorscale\": [[0.0, \"#0d0887\"], [0.1111111111111111, \"#46039f\"], [0.2222222222222222, \"#7201a8\"], [0.3333333333333333, \"#9c179e\"], [0.4444444444444444, \"#bd3786\"], [0.5555555555555556, \"#d8576b\"], [0.6666666666666666, \"#ed7953\"], [0.7777777777777778, \"#fb9f3a\"], [0.8888888888888888, \"#fdca26\"], [1.0, \"#f0f921\"]], \"type\": \"heatmap\"}], \"heatmapgl\": [{\"colorbar\": {\"outlinewidth\": 0, \"ticks\": \"\"}, \"colorscale\": [[0.0, \"#0d0887\"], [0.1111111111111111, \"#46039f\"], [0.2222222222222222, \"#7201a8\"], [0.3333333333333333, \"#9c179e\"], [0.4444444444444444, \"#bd3786\"], [0.5555555555555556, \"#d8576b\"], [0.6666666666666666, \"#ed7953\"], [0.7777777777777778, \"#fb9f3a\"], [0.8888888888888888, \"#fdca26\"], [1.0, \"#f0f921\"]], \"type\": \"heatmapgl\"}], \"histogram\": [{\"marker\": {\"colorbar\": {\"outlinewidth\": 0, \"ticks\": \"\"}}, \"type\": \"histogram\"}], \"histogram2d\": [{\"colorbar\": {\"outlinewidth\": 0, \"ticks\": \"\"}, \"colorscale\": [[0.0, \"#0d0887\"], [0.1111111111111111, \"#46039f\"], [0.2222222222222222, \"#7201a8\"], [0.3333333333333333, \"#9c179e\"], [0.4444444444444444, \"#bd3786\"], [0.5555555555555556, \"#d8576b\"], [0.6666666666666666, \"#ed7953\"], [0.7777777777777778, \"#fb9f3a\"], [0.8888888888888888, \"#fdca26\"], [1.0, \"#f0f921\"]], \"type\": \"histogram2d\"}], \"histogram2dcontour\": [{\"colorbar\": {\"outlinewidth\": 0, \"ticks\": \"\"}, \"colorscale\": [[0.0, \"#0d0887\"], [0.1111111111111111, \"#46039f\"], [0.2222222222222222, \"#7201a8\"], [0.3333333333333333, \"#9c179e\"], [0.4444444444444444, \"#bd3786\"], [0.5555555555555556, \"#d8576b\"], [0.6666666666666666, \"#ed7953\"], [0.7777777777777778, \"#fb9f3a\"], [0.8888888888888888, \"#fdca26\"], [1.0, \"#f0f921\"]], \"type\": \"histogram2dcontour\"}], \"mesh3d\": [{\"colorbar\": {\"outlinewidth\": 0, \"ticks\": \"\"}, \"type\": \"mesh3d\"}], \"parcoords\": [{\"line\": {\"colorbar\": {\"outlinewidth\": 0, \"ticks\": \"\"}}, \"type\": \"parcoords\"}], \"pie\": [{\"automargin\": true, \"type\": \"pie\"}], \"scatter\": [{\"marker\": {\"colorbar\": {\"outlinewidth\": 0, \"ticks\": \"\"}}, \"type\": \"scatter\"}], \"scatter3d\": [{\"line\": {\"colorbar\": {\"outlinewidth\": 0, \"ticks\": \"\"}}, \"marker\": {\"colorbar\": {\"outlinewidth\": 0, \"ticks\": \"\"}}, \"type\": \"scatter3d\"}], \"scattercarpet\": [{\"marker\": {\"colorbar\": {\"outlinewidth\": 0, \"ticks\": \"\"}}, \"type\": \"scattercarpet\"}], \"scattergeo\": [{\"marker\": {\"colorbar\": {\"outlinewidth\": 0, \"ticks\": \"\"}}, \"type\": \"scattergeo\"}], \"scattergl\": [{\"marker\": {\"colorbar\": {\"outlinewidth\": 0, \"ticks\": \"\"}}, \"type\": \"scattergl\"}], \"scattermapbox\": [{\"marker\": {\"colorbar\": {\"outlinewidth\": 0, \"ticks\": \"\"}}, \"type\": \"scattermapbox\"}], \"scatterpolar\": [{\"marker\": {\"colorbar\": {\"outlinewidth\": 0, \"ticks\": \"\"}}, \"type\": \"scatterpolar\"}], \"scatterpolargl\": [{\"marker\": {\"colorbar\": {\"outlinewidth\": 0, \"ticks\": \"\"}}, \"type\": \"scatterpolargl\"}], \"scatterternary\": [{\"marker\": {\"colorbar\": {\"outlinewidth\": 0, \"ticks\": \"\"}}, \"type\": \"scatterternary\"}], \"surface\": [{\"colorbar\": {\"outlinewidth\": 0, \"ticks\": \"\"}, \"colorscale\": [[0.0, \"#0d0887\"], [0.1111111111111111, \"#46039f\"], [0.2222222222222222, \"#7201a8\"], [0.3333333333333333, \"#9c179e\"], [0.4444444444444444, \"#bd3786\"], [0.5555555555555556, \"#d8576b\"], [0.6666666666666666, \"#ed7953\"], [0.7777777777777778, \"#fb9f3a\"], [0.8888888888888888, \"#fdca26\"], [1.0, \"#f0f921\"]], \"type\": \"surface\"}], \"table\": [{\"cells\": {\"fill\": {\"color\": \"#EBF0F8\"}, \"line\": {\"color\": \"white\"}}, \"header\": {\"fill\": {\"color\": \"#C8D4E3\"}, \"line\": {\"color\": \"white\"}}, \"type\": \"table\"}]}, \"layout\": {\"annotationdefaults\": {\"arrowcolor\": \"#2a3f5f\", \"arrowhead\": 0, \"arrowwidth\": 1}, \"coloraxis\": {\"colorbar\": {\"outlinewidth\": 0, \"ticks\": \"\"}}, \"colorscale\": {\"diverging\": [[0, \"#8e0152\"], [0.1, \"#c51b7d\"], [0.2, \"#de77ae\"], [0.3, \"#f1b6da\"], [0.4, \"#fde0ef\"], [0.5, \"#f7f7f7\"], [0.6, \"#e6f5d0\"], [0.7, \"#b8e186\"], [0.8, \"#7fbc41\"], [0.9, \"#4d9221\"], [1, \"#276419\"]], \"sequential\": [[0.0, \"#0d0887\"], [0.1111111111111111, \"#46039f\"], [0.2222222222222222, \"#7201a8\"], [0.3333333333333333, \"#9c179e\"], [0.4444444444444444, \"#bd3786\"], [0.5555555555555556, \"#d8576b\"], [0.6666666666666666, \"#ed7953\"], [0.7777777777777778, \"#fb9f3a\"], [0.8888888888888888, \"#fdca26\"], [1.0, \"#f0f921\"]], \"sequentialminus\": [[0.0, \"#0d0887\"], [0.1111111111111111, \"#46039f\"], [0.2222222222222222, \"#7201a8\"], [0.3333333333333333, \"#9c179e\"], [0.4444444444444444, \"#bd3786\"], [0.5555555555555556, \"#d8576b\"], [0.6666666666666666, \"#ed7953\"], [0.7777777777777778, \"#fb9f3a\"], [0.8888888888888888, \"#fdca26\"], [1.0, \"#f0f921\"]]}, \"colorway\": [\"#636efa\", \"#EF553B\", \"#00cc96\", \"#ab63fa\", \"#FFA15A\", \"#19d3f3\", \"#FF6692\", \"#B6E880\", \"#FF97FF\", \"#FECB52\"], \"font\": {\"color\": \"#2a3f5f\"}, \"geo\": {\"bgcolor\": \"white\", \"lakecolor\": \"white\", \"landcolor\": \"#E5ECF6\", \"showlakes\": true, \"showland\": true, \"subunitcolor\": \"white\"}, \"hoverlabel\": {\"align\": \"left\"}, \"hovermode\": \"closest\", \"mapbox\": {\"style\": \"light\"}, \"paper_bgcolor\": \"white\", \"plot_bgcolor\": \"#E5ECF6\", \"polar\": {\"angularaxis\": {\"gridcolor\": \"white\", \"linecolor\": \"white\", \"ticks\": \"\"}, \"bgcolor\": \"#E5ECF6\", \"radialaxis\": {\"gridcolor\": \"white\", \"linecolor\": \"white\", \"ticks\": \"\"}}, \"scene\": {\"xaxis\": {\"backgroundcolor\": \"#E5ECF6\", \"gridcolor\": \"white\", \"gridwidth\": 2, \"linecolor\": \"white\", \"showbackground\": true, \"ticks\": \"\", \"zerolinecolor\": \"white\"}, \"yaxis\": {\"backgroundcolor\": \"#E5ECF6\", \"gridcolor\": \"white\", \"gridwidth\": 2, \"linecolor\": \"white\", \"showbackground\": true, \"ticks\": \"\", \"zerolinecolor\": \"white\"}, \"zaxis\": {\"backgroundcolor\": \"#E5ECF6\", \"gridcolor\": \"white\", \"gridwidth\": 2, \"linecolor\": \"white\", \"showbackground\": true, \"ticks\": \"\", \"zerolinecolor\": \"white\"}}, \"shapedefaults\": {\"line\": {\"color\": \"#2a3f5f\"}}, \"ternary\": {\"aaxis\": {\"gridcolor\": \"white\", \"linecolor\": \"white\", \"ticks\": \"\"}, \"baxis\": {\"gridcolor\": \"white\", \"linecolor\": \"white\", \"ticks\": \"\"}, \"bgcolor\": \"#E5ECF6\", \"caxis\": {\"gridcolor\": \"white\", \"linecolor\": \"white\", \"ticks\": \"\"}}, \"title\": {\"x\": 0.05}, \"xaxis\": {\"automargin\": true, \"gridcolor\": \"white\", \"linecolor\": \"white\", \"ticks\": \"\", \"title\": {\"standoff\": 15}, \"zerolinecolor\": \"white\", \"zerolinewidth\": 2}, \"yaxis\": {\"automargin\": true, \"gridcolor\": \"white\", \"linecolor\": \"white\", \"ticks\": \"\", \"title\": {\"standoff\": 15}, \"zerolinecolor\": \"white\", \"zerolinewidth\": 2}}}, \"title\": {\"text\": \"\\u0412\\u0412\\u041f \\u0432 \\u043c\\u043b\\u0440\\u0434. \\u0434\\u043e\\u043b\\u043b\\u0430\\u0440\\u043e\\u0432 \\u0421\\u0428\\u0410\"}},\n",
       "                        {\"responsive\": true}\n",
       "                    ).then(function(){\n",
       "                            \n",
       "var gd = document.getElementById('b1874399-c25b-4605-8732-d929abb51acf');\n",
       "var x = new MutationObserver(function (mutations, observer) {{\n",
       "        var display = window.getComputedStyle(gd).display;\n",
       "        if (!display || display === 'none') {{\n",
       "            console.log([gd, 'removed!']);\n",
       "            Plotly.purge(gd);\n",
       "            observer.disconnect();\n",
       "        }}\n",
       "}});\n",
       "\n",
       "// Listen for the removal of the full notebook cells\n",
       "var notebookContainer = gd.closest('#notebook-container');\n",
       "if (notebookContainer) {{\n",
       "    x.observe(notebookContainer, {childList: true});\n",
       "}}\n",
       "\n",
       "// Listen for the clearing of the current output cell\n",
       "var outputEl = gd.closest('.output');\n",
       "if (outputEl) {{\n",
       "    x.observe(outputEl, {childList: true});\n",
       "}}\n",
       "\n",
       "                        })\n",
       "                };\n",
       "                });\n",
       "            </script>\n",
       "        </div>"
      ]
     },
     "metadata": {},
     "output_type": "display_data"
    }
   ],
   "source": [
    "data = dict(type = 'choropleth', \n",
    "           locations = df_cl['country'],\n",
    "           locationmode = 'country names',\n",
    "           z = df_cl['gdp'], \n",
    "           text = df_cl['country'],\n",
    "           colorbar = {'title':'ВВП(млрд. долларов)'})\n",
    "layout = dict(title = 'ВВП в млрд. долларов США', \n",
    "             geo = dict(showframe = False, \n",
    "                       projection = {'type': 'mercator'}))\n",
    "choromap3 = go.Figure(data = [data], layout=layout)\n",
    "iplot(choromap3)"
   ]
  },
  {
   "cell_type": "code",
   "execution_count": 441,
   "metadata": {},
   "outputs": [
    {
     "data": {
      "application/vnd.plotly.v1+json": {
       "config": {
        "linkText": "Export to plot.ly",
        "plotlyServerURL": "https://plot.ly",
        "showLink": false
       },
       "data": [
        {
         "colorbar": {
          "title": {
           "text": "Среднедушевой доход(тыс.долларов)"
          }
         },
         "locationmode": "country names",
         "locations": [
          "Afghanistan",
          "Albania",
          "Algeria",
          "Andorra",
          "Angola",
          "Antigua and Barbuda",
          "Argentina",
          "Armenia",
          "Australia",
          "Austria",
          "Azerbaijan",
          "Bahrain",
          "Bangladesh",
          "Barbados",
          "Belarus",
          "Belgium",
          "Benin",
          "Bhutan",
          "Bolivia",
          "Bosnia and Herzegovina",
          "Brazil",
          "Brunei",
          "Bulgaria",
          "Burkina Faso",
          "Cabo Verde",
          "Cambodia",
          "Cameroon",
          "Canada",
          "Central African Republic",
          "Chad",
          "Chile",
          "China",
          "Colombia",
          "Costa Rica",
          "Cote d'Ivoire",
          "Croatia",
          "Cyprus",
          "Denmark",
          "Dominican Republic",
          "Ecuador",
          "El Salvador",
          "Equatorial Guinea",
          "Estonia",
          "Ethiopia",
          "Fiji",
          "Finland",
          "France",
          "Gabon",
          "Georgia",
          "Germany",
          "Ghana",
          "Greece",
          "Guatemala",
          "Guinea",
          "Guyana",
          "Haiti",
          "Honduras",
          "Hungary",
          "Iceland",
          "India",
          "Indonesia",
          "Iraq",
          "Ireland",
          "Israel",
          "Italy",
          "Jamaica",
          "Japan",
          "Jordan",
          "Kazakhstan",
          "Kenya",
          "Kuwait",
          "Kyrgyzstan",
          "Latvia",
          "Lebanon",
          "Liberia",
          "Lithuania",
          "Luxembourg",
          "Madagascar",
          "Malaysia",
          "Maldives",
          "Malta",
          "Mauritania",
          "Mauritius",
          "Mexico",
          "Moldova",
          "Mongolia",
          "Montenegro",
          "Morocco",
          "Namibia",
          "Nepal",
          "Netherlands",
          "New Zealand",
          "Nicaragua",
          "Niger",
          "Nigeria",
          "Norway",
          "Oman",
          "Pakistan",
          "Panama",
          "Papua New Guinea",
          "Paraguay",
          "Peru",
          "Philippines",
          "Poland",
          "Portugal",
          "Qatar",
          "Romania",
          "Russia",
          "Rwanda",
          "Saint Vincent and the Grenadines",
          "San Marino",
          "Saudi Arabia",
          "Senegal",
          "Serbia",
          "Seychelles",
          "Singapore",
          "Slovenia",
          "Somalia",
          "South Africa",
          "Spain",
          "Sri Lanka",
          "Sudan",
          "Suriname",
          "Sweden",
          "Switzerland",
          "Tanzania",
          "Thailand",
          "Togo",
          "Trinidad and Tobago",
          "Tunisia",
          "Turkey",
          "Uganda",
          "Ukraine",
          "United Arab Emirates",
          "United Kingdom",
          "Uruguay",
          "United States",
          "Uzbekistan",
          "Vietnam",
          "Zambia",
          "Zimbabwe",
          "Dominica",
          "Grenada",
          "Mozambique",
          "Timor-Leste",
          "Belize",
          "West Bank and Gaza",
          "Guinea-Bissau",
          "Mali",
          "Kosovo",
          "Botswana",
          "Burundi",
          "Sierra Leone",
          "Malawi",
          "Sao Tome and Principe",
          "Comoros",
          "Tajikistan",
          "Lesotho"
         ],
         "text": [
          "Afghanistan",
          "Albania",
          "Algeria",
          "Andorra",
          "Angola",
          "Antigua and Barbuda",
          "Argentina",
          "Armenia",
          "Australia",
          "Austria",
          "Azerbaijan",
          "Bahrain",
          "Bangladesh",
          "Barbados",
          "Belarus",
          "Belgium",
          "Benin",
          "Bhutan",
          "Bolivia",
          "Bosnia and Herzegovina",
          "Brazil",
          "Brunei",
          "Bulgaria",
          "Burkina Faso",
          "Cabo Verde",
          "Cambodia",
          "Cameroon",
          "Canada",
          "Central African Republic",
          "Chad",
          "Chile",
          "China",
          "Colombia",
          "Costa Rica",
          "Cote d'Ivoire",
          "Croatia",
          "Cyprus",
          "Denmark",
          "Dominican Republic",
          "Ecuador",
          "El Salvador",
          "Equatorial Guinea",
          "Estonia",
          "Ethiopia",
          "Fiji",
          "Finland",
          "France",
          "Gabon",
          "Georgia",
          "Germany",
          "Ghana",
          "Greece",
          "Guatemala",
          "Guinea",
          "Guyana",
          "Haiti",
          "Honduras",
          "Hungary",
          "Iceland",
          "India",
          "Indonesia",
          "Iraq",
          "Ireland",
          "Israel",
          "Italy",
          "Jamaica",
          "Japan",
          "Jordan",
          "Kazakhstan",
          "Kenya",
          "Kuwait",
          "Kyrgyzstan",
          "Latvia",
          "Lebanon",
          "Liberia",
          "Lithuania",
          "Luxembourg",
          "Madagascar",
          "Malaysia",
          "Maldives",
          "Malta",
          "Mauritania",
          "Mauritius",
          "Mexico",
          "Moldova",
          "Mongolia",
          "Montenegro",
          "Morocco",
          "Namibia",
          "Nepal",
          "Netherlands",
          "New Zealand",
          "Nicaragua",
          "Niger",
          "Nigeria",
          "Norway",
          "Oman",
          "Pakistan",
          "Panama",
          "Papua New Guinea",
          "Paraguay",
          "Peru",
          "Philippines",
          "Poland",
          "Portugal",
          "Qatar",
          "Romania",
          "Russia",
          "Rwanda",
          "Saint Vincent and the Grenadines",
          "San Marino",
          "Saudi Arabia",
          "Senegal",
          "Serbia",
          "Seychelles",
          "Singapore",
          "Slovenia",
          "Somalia",
          "South Africa",
          "Spain",
          "Sri Lanka",
          "Sudan",
          "Suriname",
          "Sweden",
          "Switzerland",
          "Tanzania",
          "Thailand",
          "Togo",
          "Trinidad and Tobago",
          "Tunisia",
          "Turkey",
          "Uganda",
          "Ukraine",
          "United Arab Emirates",
          "United Kingdom",
          "Uruguay",
          "United States",
          "Uzbekistan",
          "Vietnam",
          "Zambia",
          "Zimbabwe",
          "Dominica",
          "Grenada",
          "Mozambique",
          "Timor-Leste",
          "Belize",
          "West Bank and Gaza",
          "Guinea-Bissau",
          "Mali",
          "Kosovo",
          "Botswana",
          "Burundi",
          "Sierra Leone",
          "Malawi",
          "Sao Tome and Principe",
          "Comoros",
          "Tajikistan",
          "Lesotho"
         ],
         "type": "choropleth",
         "z": [
          19.469022208,
          11.863865978,
          159.049096745,
          2.858517699,
          95.335111741,
          1.460144704,
          545.476103427,
          10.572298342,
          1204.616439828,
          390.799991147,
          37.847715736,
          32.179069149,
          221.415162446,
          4.52905,
          47.407217531,
          467.955709818,
          8.583031398,
          2.21263883,
          33.806395514,
          16.910277134,
          1796.186586414,
          11.400653732,
          53.237882473,
          11.693235542,
          1.617467436,
          20.016747754,
          32.21749747,
          1529.760492201,
          1.756124677,
          9.600761474,
          247.027912574,
          11199.145157649,
          282.462551367,
          57.435507212,
          36.372613023,
          50.714957391,
          20.047013274,
          306.89965341,
          71.583553488,
          98.613972,
          26.79747,
          10.684804794,
          23.337907619,
          72.374224249,
          4.703632978,
          238.502900312,
          2465.453975282,
          14.21355813,
          14.378016729,
          3477.796274497,
          42.689783734,
          192.690813127,
          68.763255964,
          8.200248003,
          3.502397094,
          8.022638722,
          21.51693891,
          125.816640421,
          20.047413006,
          2263.792499341,
          932.259177765,
          171.489001692,
          304.819020501,
          317.744784695,
          1858.913163928,
          14.056908749,
          4940.158776617,
          38.654727746,
          137.278320084,
          70.529014778,
          110.875579087,
          6.551287938,
          27.572698482,
          49.598825982,
          2.101,
          42.738875963,
          58.631324559,
          10.00119342,
          296.535930381,
          4.224209599,
          10.99904758,
          4.73929873,
          12.168437744,
          1046.922702461,
          6.749515655,
          11.183458131,
          4.374127212,
          103.606321693,
          10.94788069,
          21.131983246,
          777.227541581,
          184.969146624,
          13.230844687,
          7.528387858,
          404.652720165,
          371.076190476,
          66.29336801,
          278.913371202,
          55.1877,
          20.213214172,
          27.424071383,
          192.207342005,
          304.905406845,
          471.364408714,
          204.836597909,
          152.451923077,
          187.59203784,
          1283.162985989,
          8.376048905,
          0.768224227,
          1.590707965,
          646.43838056,
          14.683697631,
          38.299854688,
          1.427323889,
          296.97567861,
          44.708598649,
          6.217,
          295.456189492,
          1237.255019654,
          81.321876307,
          95.584380032,
          3.278425328,
          514.459972806,
          668.851296244,
          47.340071107,
          407.02612731,
          4.399995987,
          21.894706041,
          42.062549395,
          863.711710427,
          24.078931933,
          93.270479389,
          348.743265705,
          2647.898654635,
          52.419720714,
          18624.475,
          67.22033557,
          205.276172135,
          21.063989683,
          16.619960402,
          0.581484032,
          1.056188593,
          11.014858592,
          1.782974,
          1.7411,
          13.3971,
          1.16494451,
          14.034980334,
          6.649888889,
          15.581137274,
          3.00702903,
          3.736588554,
          5.433038647,
          0.342781716,
          0.61665449,
          6.951657159,
          2.291321667
         ]
        }
       ],
       "layout": {
        "geo": {
         "projection": {
          "type": "mercator"
         },
         "showframe": false
        },
        "template": {
         "data": {
          "bar": [
           {
            "error_x": {
             "color": "#2a3f5f"
            },
            "error_y": {
             "color": "#2a3f5f"
            },
            "marker": {
             "line": {
              "color": "#E5ECF6",
              "width": 0.5
             }
            },
            "type": "bar"
           }
          ],
          "barpolar": [
           {
            "marker": {
             "line": {
              "color": "#E5ECF6",
              "width": 0.5
             }
            },
            "type": "barpolar"
           }
          ],
          "carpet": [
           {
            "aaxis": {
             "endlinecolor": "#2a3f5f",
             "gridcolor": "white",
             "linecolor": "white",
             "minorgridcolor": "white",
             "startlinecolor": "#2a3f5f"
            },
            "baxis": {
             "endlinecolor": "#2a3f5f",
             "gridcolor": "white",
             "linecolor": "white",
             "minorgridcolor": "white",
             "startlinecolor": "#2a3f5f"
            },
            "type": "carpet"
           }
          ],
          "choropleth": [
           {
            "colorbar": {
             "outlinewidth": 0,
             "ticks": ""
            },
            "type": "choropleth"
           }
          ],
          "contour": [
           {
            "colorbar": {
             "outlinewidth": 0,
             "ticks": ""
            },
            "colorscale": [
             [
              0,
              "#0d0887"
             ],
             [
              0.1111111111111111,
              "#46039f"
             ],
             [
              0.2222222222222222,
              "#7201a8"
             ],
             [
              0.3333333333333333,
              "#9c179e"
             ],
             [
              0.4444444444444444,
              "#bd3786"
             ],
             [
              0.5555555555555556,
              "#d8576b"
             ],
             [
              0.6666666666666666,
              "#ed7953"
             ],
             [
              0.7777777777777778,
              "#fb9f3a"
             ],
             [
              0.8888888888888888,
              "#fdca26"
             ],
             [
              1,
              "#f0f921"
             ]
            ],
            "type": "contour"
           }
          ],
          "contourcarpet": [
           {
            "colorbar": {
             "outlinewidth": 0,
             "ticks": ""
            },
            "type": "contourcarpet"
           }
          ],
          "heatmap": [
           {
            "colorbar": {
             "outlinewidth": 0,
             "ticks": ""
            },
            "colorscale": [
             [
              0,
              "#0d0887"
             ],
             [
              0.1111111111111111,
              "#46039f"
             ],
             [
              0.2222222222222222,
              "#7201a8"
             ],
             [
              0.3333333333333333,
              "#9c179e"
             ],
             [
              0.4444444444444444,
              "#bd3786"
             ],
             [
              0.5555555555555556,
              "#d8576b"
             ],
             [
              0.6666666666666666,
              "#ed7953"
             ],
             [
              0.7777777777777778,
              "#fb9f3a"
             ],
             [
              0.8888888888888888,
              "#fdca26"
             ],
             [
              1,
              "#f0f921"
             ]
            ],
            "type": "heatmap"
           }
          ],
          "heatmapgl": [
           {
            "colorbar": {
             "outlinewidth": 0,
             "ticks": ""
            },
            "colorscale": [
             [
              0,
              "#0d0887"
             ],
             [
              0.1111111111111111,
              "#46039f"
             ],
             [
              0.2222222222222222,
              "#7201a8"
             ],
             [
              0.3333333333333333,
              "#9c179e"
             ],
             [
              0.4444444444444444,
              "#bd3786"
             ],
             [
              0.5555555555555556,
              "#d8576b"
             ],
             [
              0.6666666666666666,
              "#ed7953"
             ],
             [
              0.7777777777777778,
              "#fb9f3a"
             ],
             [
              0.8888888888888888,
              "#fdca26"
             ],
             [
              1,
              "#f0f921"
             ]
            ],
            "type": "heatmapgl"
           }
          ],
          "histogram": [
           {
            "marker": {
             "colorbar": {
              "outlinewidth": 0,
              "ticks": ""
             }
            },
            "type": "histogram"
           }
          ],
          "histogram2d": [
           {
            "colorbar": {
             "outlinewidth": 0,
             "ticks": ""
            },
            "colorscale": [
             [
              0,
              "#0d0887"
             ],
             [
              0.1111111111111111,
              "#46039f"
             ],
             [
              0.2222222222222222,
              "#7201a8"
             ],
             [
              0.3333333333333333,
              "#9c179e"
             ],
             [
              0.4444444444444444,
              "#bd3786"
             ],
             [
              0.5555555555555556,
              "#d8576b"
             ],
             [
              0.6666666666666666,
              "#ed7953"
             ],
             [
              0.7777777777777778,
              "#fb9f3a"
             ],
             [
              0.8888888888888888,
              "#fdca26"
             ],
             [
              1,
              "#f0f921"
             ]
            ],
            "type": "histogram2d"
           }
          ],
          "histogram2dcontour": [
           {
            "colorbar": {
             "outlinewidth": 0,
             "ticks": ""
            },
            "colorscale": [
             [
              0,
              "#0d0887"
             ],
             [
              0.1111111111111111,
              "#46039f"
             ],
             [
              0.2222222222222222,
              "#7201a8"
             ],
             [
              0.3333333333333333,
              "#9c179e"
             ],
             [
              0.4444444444444444,
              "#bd3786"
             ],
             [
              0.5555555555555556,
              "#d8576b"
             ],
             [
              0.6666666666666666,
              "#ed7953"
             ],
             [
              0.7777777777777778,
              "#fb9f3a"
             ],
             [
              0.8888888888888888,
              "#fdca26"
             ],
             [
              1,
              "#f0f921"
             ]
            ],
            "type": "histogram2dcontour"
           }
          ],
          "mesh3d": [
           {
            "colorbar": {
             "outlinewidth": 0,
             "ticks": ""
            },
            "type": "mesh3d"
           }
          ],
          "parcoords": [
           {
            "line": {
             "colorbar": {
              "outlinewidth": 0,
              "ticks": ""
             }
            },
            "type": "parcoords"
           }
          ],
          "pie": [
           {
            "automargin": true,
            "type": "pie"
           }
          ],
          "scatter": [
           {
            "marker": {
             "colorbar": {
              "outlinewidth": 0,
              "ticks": ""
             }
            },
            "type": "scatter"
           }
          ],
          "scatter3d": [
           {
            "line": {
             "colorbar": {
              "outlinewidth": 0,
              "ticks": ""
             }
            },
            "marker": {
             "colorbar": {
              "outlinewidth": 0,
              "ticks": ""
             }
            },
            "type": "scatter3d"
           }
          ],
          "scattercarpet": [
           {
            "marker": {
             "colorbar": {
              "outlinewidth": 0,
              "ticks": ""
             }
            },
            "type": "scattercarpet"
           }
          ],
          "scattergeo": [
           {
            "marker": {
             "colorbar": {
              "outlinewidth": 0,
              "ticks": ""
             }
            },
            "type": "scattergeo"
           }
          ],
          "scattergl": [
           {
            "marker": {
             "colorbar": {
              "outlinewidth": 0,
              "ticks": ""
             }
            },
            "type": "scattergl"
           }
          ],
          "scattermapbox": [
           {
            "marker": {
             "colorbar": {
              "outlinewidth": 0,
              "ticks": ""
             }
            },
            "type": "scattermapbox"
           }
          ],
          "scatterpolar": [
           {
            "marker": {
             "colorbar": {
              "outlinewidth": 0,
              "ticks": ""
             }
            },
            "type": "scatterpolar"
           }
          ],
          "scatterpolargl": [
           {
            "marker": {
             "colorbar": {
              "outlinewidth": 0,
              "ticks": ""
             }
            },
            "type": "scatterpolargl"
           }
          ],
          "scatterternary": [
           {
            "marker": {
             "colorbar": {
              "outlinewidth": 0,
              "ticks": ""
             }
            },
            "type": "scatterternary"
           }
          ],
          "surface": [
           {
            "colorbar": {
             "outlinewidth": 0,
             "ticks": ""
            },
            "colorscale": [
             [
              0,
              "#0d0887"
             ],
             [
              0.1111111111111111,
              "#46039f"
             ],
             [
              0.2222222222222222,
              "#7201a8"
             ],
             [
              0.3333333333333333,
              "#9c179e"
             ],
             [
              0.4444444444444444,
              "#bd3786"
             ],
             [
              0.5555555555555556,
              "#d8576b"
             ],
             [
              0.6666666666666666,
              "#ed7953"
             ],
             [
              0.7777777777777778,
              "#fb9f3a"
             ],
             [
              0.8888888888888888,
              "#fdca26"
             ],
             [
              1,
              "#f0f921"
             ]
            ],
            "type": "surface"
           }
          ],
          "table": [
           {
            "cells": {
             "fill": {
              "color": "#EBF0F8"
             },
             "line": {
              "color": "white"
             }
            },
            "header": {
             "fill": {
              "color": "#C8D4E3"
             },
             "line": {
              "color": "white"
             }
            },
            "type": "table"
           }
          ]
         },
         "layout": {
          "annotationdefaults": {
           "arrowcolor": "#2a3f5f",
           "arrowhead": 0,
           "arrowwidth": 1
          },
          "coloraxis": {
           "colorbar": {
            "outlinewidth": 0,
            "ticks": ""
           }
          },
          "colorscale": {
           "diverging": [
            [
             0,
             "#8e0152"
            ],
            [
             0.1,
             "#c51b7d"
            ],
            [
             0.2,
             "#de77ae"
            ],
            [
             0.3,
             "#f1b6da"
            ],
            [
             0.4,
             "#fde0ef"
            ],
            [
             0.5,
             "#f7f7f7"
            ],
            [
             0.6,
             "#e6f5d0"
            ],
            [
             0.7,
             "#b8e186"
            ],
            [
             0.8,
             "#7fbc41"
            ],
            [
             0.9,
             "#4d9221"
            ],
            [
             1,
             "#276419"
            ]
           ],
           "sequential": [
            [
             0,
             "#0d0887"
            ],
            [
             0.1111111111111111,
             "#46039f"
            ],
            [
             0.2222222222222222,
             "#7201a8"
            ],
            [
             0.3333333333333333,
             "#9c179e"
            ],
            [
             0.4444444444444444,
             "#bd3786"
            ],
            [
             0.5555555555555556,
             "#d8576b"
            ],
            [
             0.6666666666666666,
             "#ed7953"
            ],
            [
             0.7777777777777778,
             "#fb9f3a"
            ],
            [
             0.8888888888888888,
             "#fdca26"
            ],
            [
             1,
             "#f0f921"
            ]
           ],
           "sequentialminus": [
            [
             0,
             "#0d0887"
            ],
            [
             0.1111111111111111,
             "#46039f"
            ],
            [
             0.2222222222222222,
             "#7201a8"
            ],
            [
             0.3333333333333333,
             "#9c179e"
            ],
            [
             0.4444444444444444,
             "#bd3786"
            ],
            [
             0.5555555555555556,
             "#d8576b"
            ],
            [
             0.6666666666666666,
             "#ed7953"
            ],
            [
             0.7777777777777778,
             "#fb9f3a"
            ],
            [
             0.8888888888888888,
             "#fdca26"
            ],
            [
             1,
             "#f0f921"
            ]
           ]
          },
          "colorway": [
           "#636efa",
           "#EF553B",
           "#00cc96",
           "#ab63fa",
           "#FFA15A",
           "#19d3f3",
           "#FF6692",
           "#B6E880",
           "#FF97FF",
           "#FECB52"
          ],
          "font": {
           "color": "#2a3f5f"
          },
          "geo": {
           "bgcolor": "white",
           "lakecolor": "white",
           "landcolor": "#E5ECF6",
           "showlakes": true,
           "showland": true,
           "subunitcolor": "white"
          },
          "hoverlabel": {
           "align": "left"
          },
          "hovermode": "closest",
          "mapbox": {
           "style": "light"
          },
          "paper_bgcolor": "white",
          "plot_bgcolor": "#E5ECF6",
          "polar": {
           "angularaxis": {
            "gridcolor": "white",
            "linecolor": "white",
            "ticks": ""
           },
           "bgcolor": "#E5ECF6",
           "radialaxis": {
            "gridcolor": "white",
            "linecolor": "white",
            "ticks": ""
           }
          },
          "scene": {
           "xaxis": {
            "backgroundcolor": "#E5ECF6",
            "gridcolor": "white",
            "gridwidth": 2,
            "linecolor": "white",
            "showbackground": true,
            "ticks": "",
            "zerolinecolor": "white"
           },
           "yaxis": {
            "backgroundcolor": "#E5ECF6",
            "gridcolor": "white",
            "gridwidth": 2,
            "linecolor": "white",
            "showbackground": true,
            "ticks": "",
            "zerolinecolor": "white"
           },
           "zaxis": {
            "backgroundcolor": "#E5ECF6",
            "gridcolor": "white",
            "gridwidth": 2,
            "linecolor": "white",
            "showbackground": true,
            "ticks": "",
            "zerolinecolor": "white"
           }
          },
          "shapedefaults": {
           "line": {
            "color": "#2a3f5f"
           }
          },
          "ternary": {
           "aaxis": {
            "gridcolor": "white",
            "linecolor": "white",
            "ticks": ""
           },
           "baxis": {
            "gridcolor": "white",
            "linecolor": "white",
            "ticks": ""
           },
           "bgcolor": "#E5ECF6",
           "caxis": {
            "gridcolor": "white",
            "linecolor": "white",
            "ticks": ""
           }
          },
          "title": {
           "x": 0.05
          },
          "xaxis": {
           "automargin": true,
           "gridcolor": "white",
           "linecolor": "white",
           "ticks": "",
           "title": {
            "standoff": 15
           },
           "zerolinecolor": "white",
           "zerolinewidth": 2
          },
          "yaxis": {
           "automargin": true,
           "gridcolor": "white",
           "linecolor": "white",
           "ticks": "",
           "title": {
            "standoff": 15
           },
           "zerolinecolor": "white",
           "zerolinewidth": 2
          }
         }
        },
        "title": {
         "text": "Среднедушевой доход в тыс. долларов США"
        }
       }
      },
      "text/html": [
       "<div>\n",
       "        \n",
       "        \n",
       "            <div id=\"edf4d424-8e5b-460d-86f8-5280699594d7\" class=\"plotly-graph-div\" style=\"height:525px; width:100%;\"></div>\n",
       "            <script type=\"text/javascript\">\n",
       "                require([\"plotly\"], function(Plotly) {\n",
       "                    window.PLOTLYENV=window.PLOTLYENV || {};\n",
       "                    \n",
       "                if (document.getElementById(\"edf4d424-8e5b-460d-86f8-5280699594d7\")) {\n",
       "                    Plotly.newPlot(\n",
       "                        'edf4d424-8e5b-460d-86f8-5280699594d7',\n",
       "                        [{\"colorbar\": {\"title\": {\"text\": \"\\u0421\\u0440\\u0435\\u0434\\u043d\\u0435\\u0434\\u0443\\u0448\\u0435\\u0432\\u043e\\u0439 \\u0434\\u043e\\u0445\\u043e\\u0434(\\u0442\\u044b\\u0441.\\u0434\\u043e\\u043b\\u043b\\u0430\\u0440\\u043e\\u0432)\"}}, \"locationmode\": \"country names\", \"locations\": [\"Afghanistan\", \"Albania\", \"Algeria\", \"Andorra\", \"Angola\", \"Antigua and Barbuda\", \"Argentina\", \"Armenia\", \"Australia\", \"Austria\", \"Azerbaijan\", \"Bahrain\", \"Bangladesh\", \"Barbados\", \"Belarus\", \"Belgium\", \"Benin\", \"Bhutan\", \"Bolivia\", \"Bosnia and Herzegovina\", \"Brazil\", \"Brunei\", \"Bulgaria\", \"Burkina Faso\", \"Cabo Verde\", \"Cambodia\", \"Cameroon\", \"Canada\", \"Central African Republic\", \"Chad\", \"Chile\", \"China\", \"Colombia\", \"Costa Rica\", \"Cote d'Ivoire\", \"Croatia\", \"Cyprus\", \"Denmark\", \"Dominican Republic\", \"Ecuador\", \"El Salvador\", \"Equatorial Guinea\", \"Estonia\", \"Ethiopia\", \"Fiji\", \"Finland\", \"France\", \"Gabon\", \"Georgia\", \"Germany\", \"Ghana\", \"Greece\", \"Guatemala\", \"Guinea\", \"Guyana\", \"Haiti\", \"Honduras\", \"Hungary\", \"Iceland\", \"India\", \"Indonesia\", \"Iraq\", \"Ireland\", \"Israel\", \"Italy\", \"Jamaica\", \"Japan\", \"Jordan\", \"Kazakhstan\", \"Kenya\", \"Kuwait\", \"Kyrgyzstan\", \"Latvia\", \"Lebanon\", \"Liberia\", \"Lithuania\", \"Luxembourg\", \"Madagascar\", \"Malaysia\", \"Maldives\", \"Malta\", \"Mauritania\", \"Mauritius\", \"Mexico\", \"Moldova\", \"Mongolia\", \"Montenegro\", \"Morocco\", \"Namibia\", \"Nepal\", \"Netherlands\", \"New Zealand\", \"Nicaragua\", \"Niger\", \"Nigeria\", \"Norway\", \"Oman\", \"Pakistan\", \"Panama\", \"Papua New Guinea\", \"Paraguay\", \"Peru\", \"Philippines\", \"Poland\", \"Portugal\", \"Qatar\", \"Romania\", \"Russia\", \"Rwanda\", \"Saint Vincent and the Grenadines\", \"San Marino\", \"Saudi Arabia\", \"Senegal\", \"Serbia\", \"Seychelles\", \"Singapore\", \"Slovenia\", \"Somalia\", \"South Africa\", \"Spain\", \"Sri Lanka\", \"Sudan\", \"Suriname\", \"Sweden\", \"Switzerland\", \"Tanzania\", \"Thailand\", \"Togo\", \"Trinidad and Tobago\", \"Tunisia\", \"Turkey\", \"Uganda\", \"Ukraine\", \"United Arab Emirates\", \"United Kingdom\", \"Uruguay\", \"United States\", \"Uzbekistan\", \"Vietnam\", \"Zambia\", \"Zimbabwe\", \"Dominica\", \"Grenada\", \"Mozambique\", \"Timor-Leste\", \"Belize\", \"West Bank and Gaza\", \"Guinea-Bissau\", \"Mali\", \"Kosovo\", \"Botswana\", \"Burundi\", \"Sierra Leone\", \"Malawi\", \"Sao Tome and Principe\", \"Comoros\", \"Tajikistan\", \"Lesotho\"], \"text\": [\"Afghanistan\", \"Albania\", \"Algeria\", \"Andorra\", \"Angola\", \"Antigua and Barbuda\", \"Argentina\", \"Armenia\", \"Australia\", \"Austria\", \"Azerbaijan\", \"Bahrain\", \"Bangladesh\", \"Barbados\", \"Belarus\", \"Belgium\", \"Benin\", \"Bhutan\", \"Bolivia\", \"Bosnia and Herzegovina\", \"Brazil\", \"Brunei\", \"Bulgaria\", \"Burkina Faso\", \"Cabo Verde\", \"Cambodia\", \"Cameroon\", \"Canada\", \"Central African Republic\", \"Chad\", \"Chile\", \"China\", \"Colombia\", \"Costa Rica\", \"Cote d'Ivoire\", \"Croatia\", \"Cyprus\", \"Denmark\", \"Dominican Republic\", \"Ecuador\", \"El Salvador\", \"Equatorial Guinea\", \"Estonia\", \"Ethiopia\", \"Fiji\", \"Finland\", \"France\", \"Gabon\", \"Georgia\", \"Germany\", \"Ghana\", \"Greece\", \"Guatemala\", \"Guinea\", \"Guyana\", \"Haiti\", \"Honduras\", \"Hungary\", \"Iceland\", \"India\", \"Indonesia\", \"Iraq\", \"Ireland\", \"Israel\", \"Italy\", \"Jamaica\", \"Japan\", \"Jordan\", \"Kazakhstan\", \"Kenya\", \"Kuwait\", \"Kyrgyzstan\", \"Latvia\", \"Lebanon\", \"Liberia\", \"Lithuania\", \"Luxembourg\", \"Madagascar\", \"Malaysia\", \"Maldives\", \"Malta\", \"Mauritania\", \"Mauritius\", \"Mexico\", \"Moldova\", \"Mongolia\", \"Montenegro\", \"Morocco\", \"Namibia\", \"Nepal\", \"Netherlands\", \"New Zealand\", \"Nicaragua\", \"Niger\", \"Nigeria\", \"Norway\", \"Oman\", \"Pakistan\", \"Panama\", \"Papua New Guinea\", \"Paraguay\", \"Peru\", \"Philippines\", \"Poland\", \"Portugal\", \"Qatar\", \"Romania\", \"Russia\", \"Rwanda\", \"Saint Vincent and the Grenadines\", \"San Marino\", \"Saudi Arabia\", \"Senegal\", \"Serbia\", \"Seychelles\", \"Singapore\", \"Slovenia\", \"Somalia\", \"South Africa\", \"Spain\", \"Sri Lanka\", \"Sudan\", \"Suriname\", \"Sweden\", \"Switzerland\", \"Tanzania\", \"Thailand\", \"Togo\", \"Trinidad and Tobago\", \"Tunisia\", \"Turkey\", \"Uganda\", \"Ukraine\", \"United Arab Emirates\", \"United Kingdom\", \"Uruguay\", \"United States\", \"Uzbekistan\", \"Vietnam\", \"Zambia\", \"Zimbabwe\", \"Dominica\", \"Grenada\", \"Mozambique\", \"Timor-Leste\", \"Belize\", \"West Bank and Gaza\", \"Guinea-Bissau\", \"Mali\", \"Kosovo\", \"Botswana\", \"Burundi\", \"Sierra Leone\", \"Malawi\", \"Sao Tome and Principe\", \"Comoros\", \"Tajikistan\", \"Lesotho\"], \"type\": \"choropleth\", \"z\": [19.469022208, 11.863865978, 159.049096745, 2.858517699, 95.335111741, 1.460144704, 545.476103427, 10.572298342, 1204.616439828, 390.799991147, 37.847715736, 32.179069149, 221.415162446, 4.52905, 47.407217531, 467.955709818, 8.583031398, 2.21263883, 33.806395514, 16.910277134, 1796.186586414, 11.400653732, 53.237882473, 11.693235542, 1.617467436, 20.016747754, 32.21749747, 1529.760492201, 1.756124677, 9.600761474, 247.027912574, 11199.145157649, 282.462551367, 57.435507212, 36.372613023, 50.714957391, 20.047013274, 306.89965341, 71.583553488, 98.613972, 26.79747, 10.684804794, 23.337907619, 72.374224249, 4.703632978, 238.502900312, 2465.453975282, 14.21355813, 14.378016729, 3477.796274497, 42.689783734, 192.690813127, 68.763255964, 8.200248003, 3.502397094, 8.022638722, 21.51693891, 125.816640421, 20.047413006, 2263.792499341, 932.259177765, 171.489001692, 304.819020501, 317.744784695, 1858.913163928, 14.056908749, 4940.158776617, 38.654727746, 137.278320084, 70.529014778, 110.875579087, 6.551287938, 27.572698482, 49.598825982, 2.101, 42.738875963, 58.631324559, 10.00119342, 296.535930381, 4.224209599, 10.99904758, 4.73929873, 12.168437744, 1046.922702461, 6.749515655, 11.183458131, 4.374127212, 103.606321693, 10.94788069, 21.131983246, 777.227541581, 184.969146624, 13.230844687, 7.528387858, 404.652720165, 371.076190476, 66.29336801, 278.913371202, 55.1877, 20.213214172, 27.424071383, 192.207342005, 304.905406845, 471.364408714, 204.836597909, 152.451923077, 187.59203784, 1283.162985989, 8.376048905, 0.768224227, 1.590707965, 646.43838056, 14.683697631, 38.299854688, 1.427323889, 296.97567861, 44.708598649, 6.217, 295.456189492, 1237.255019654, 81.321876307, 95.584380032, 3.278425328, 514.459972806, 668.851296244, 47.340071107, 407.02612731, 4.399995987, 21.894706041, 42.062549395, 863.711710427, 24.078931933, 93.270479389, 348.743265705, 2647.898654635, 52.419720714, 18624.475, 67.22033557, 205.276172135, 21.063989683, 16.619960402, 0.581484032, 1.056188593, 11.014858592, 1.782974, 1.7411, 13.3971, 1.16494451, 14.034980334, 6.649888889, 15.581137274, 3.00702903, 3.736588554, 5.433038647, 0.342781716, 0.61665449, 6.951657159, 2.291321667]}],\n",
       "                        {\"geo\": {\"projection\": {\"type\": \"mercator\"}, \"showframe\": false}, \"template\": {\"data\": {\"bar\": [{\"error_x\": {\"color\": \"#2a3f5f\"}, \"error_y\": {\"color\": \"#2a3f5f\"}, \"marker\": {\"line\": {\"color\": \"#E5ECF6\", \"width\": 0.5}}, \"type\": \"bar\"}], \"barpolar\": [{\"marker\": {\"line\": {\"color\": \"#E5ECF6\", \"width\": 0.5}}, \"type\": \"barpolar\"}], \"carpet\": [{\"aaxis\": {\"endlinecolor\": \"#2a3f5f\", \"gridcolor\": \"white\", \"linecolor\": \"white\", \"minorgridcolor\": \"white\", \"startlinecolor\": \"#2a3f5f\"}, \"baxis\": {\"endlinecolor\": \"#2a3f5f\", \"gridcolor\": \"white\", \"linecolor\": \"white\", \"minorgridcolor\": \"white\", \"startlinecolor\": \"#2a3f5f\"}, \"type\": \"carpet\"}], \"choropleth\": [{\"colorbar\": {\"outlinewidth\": 0, \"ticks\": \"\"}, \"type\": \"choropleth\"}], \"contour\": [{\"colorbar\": {\"outlinewidth\": 0, \"ticks\": \"\"}, \"colorscale\": [[0.0, \"#0d0887\"], [0.1111111111111111, \"#46039f\"], [0.2222222222222222, \"#7201a8\"], [0.3333333333333333, \"#9c179e\"], [0.4444444444444444, \"#bd3786\"], [0.5555555555555556, \"#d8576b\"], [0.6666666666666666, \"#ed7953\"], [0.7777777777777778, \"#fb9f3a\"], [0.8888888888888888, \"#fdca26\"], [1.0, \"#f0f921\"]], \"type\": \"contour\"}], \"contourcarpet\": [{\"colorbar\": {\"outlinewidth\": 0, \"ticks\": \"\"}, \"type\": \"contourcarpet\"}], \"heatmap\": [{\"colorbar\": {\"outlinewidth\": 0, \"ticks\": \"\"}, \"colorscale\": [[0.0, \"#0d0887\"], [0.1111111111111111, \"#46039f\"], [0.2222222222222222, \"#7201a8\"], [0.3333333333333333, \"#9c179e\"], [0.4444444444444444, \"#bd3786\"], [0.5555555555555556, \"#d8576b\"], [0.6666666666666666, \"#ed7953\"], [0.7777777777777778, \"#fb9f3a\"], [0.8888888888888888, \"#fdca26\"], [1.0, \"#f0f921\"]], \"type\": \"heatmap\"}], \"heatmapgl\": [{\"colorbar\": {\"outlinewidth\": 0, \"ticks\": \"\"}, \"colorscale\": [[0.0, \"#0d0887\"], [0.1111111111111111, \"#46039f\"], [0.2222222222222222, \"#7201a8\"], [0.3333333333333333, \"#9c179e\"], [0.4444444444444444, \"#bd3786\"], [0.5555555555555556, \"#d8576b\"], [0.6666666666666666, \"#ed7953\"], [0.7777777777777778, \"#fb9f3a\"], [0.8888888888888888, \"#fdca26\"], [1.0, \"#f0f921\"]], \"type\": \"heatmapgl\"}], \"histogram\": [{\"marker\": {\"colorbar\": {\"outlinewidth\": 0, \"ticks\": \"\"}}, \"type\": \"histogram\"}], \"histogram2d\": [{\"colorbar\": {\"outlinewidth\": 0, \"ticks\": \"\"}, \"colorscale\": [[0.0, \"#0d0887\"], [0.1111111111111111, \"#46039f\"], [0.2222222222222222, \"#7201a8\"], [0.3333333333333333, \"#9c179e\"], [0.4444444444444444, \"#bd3786\"], [0.5555555555555556, \"#d8576b\"], [0.6666666666666666, \"#ed7953\"], [0.7777777777777778, \"#fb9f3a\"], [0.8888888888888888, \"#fdca26\"], [1.0, \"#f0f921\"]], \"type\": \"histogram2d\"}], \"histogram2dcontour\": [{\"colorbar\": {\"outlinewidth\": 0, \"ticks\": \"\"}, \"colorscale\": [[0.0, \"#0d0887\"], [0.1111111111111111, \"#46039f\"], [0.2222222222222222, \"#7201a8\"], [0.3333333333333333, \"#9c179e\"], [0.4444444444444444, \"#bd3786\"], [0.5555555555555556, \"#d8576b\"], [0.6666666666666666, \"#ed7953\"], [0.7777777777777778, \"#fb9f3a\"], [0.8888888888888888, \"#fdca26\"], [1.0, \"#f0f921\"]], \"type\": \"histogram2dcontour\"}], \"mesh3d\": [{\"colorbar\": {\"outlinewidth\": 0, \"ticks\": \"\"}, \"type\": \"mesh3d\"}], \"parcoords\": [{\"line\": {\"colorbar\": {\"outlinewidth\": 0, \"ticks\": \"\"}}, \"type\": \"parcoords\"}], \"pie\": [{\"automargin\": true, \"type\": \"pie\"}], \"scatter\": [{\"marker\": {\"colorbar\": {\"outlinewidth\": 0, \"ticks\": \"\"}}, \"type\": \"scatter\"}], \"scatter3d\": [{\"line\": {\"colorbar\": {\"outlinewidth\": 0, \"ticks\": \"\"}}, \"marker\": {\"colorbar\": {\"outlinewidth\": 0, \"ticks\": \"\"}}, \"type\": \"scatter3d\"}], \"scattercarpet\": [{\"marker\": {\"colorbar\": {\"outlinewidth\": 0, \"ticks\": \"\"}}, \"type\": \"scattercarpet\"}], \"scattergeo\": [{\"marker\": {\"colorbar\": {\"outlinewidth\": 0, \"ticks\": \"\"}}, \"type\": \"scattergeo\"}], \"scattergl\": [{\"marker\": {\"colorbar\": {\"outlinewidth\": 0, \"ticks\": \"\"}}, \"type\": \"scattergl\"}], \"scattermapbox\": [{\"marker\": {\"colorbar\": {\"outlinewidth\": 0, \"ticks\": \"\"}}, \"type\": \"scattermapbox\"}], \"scatterpolar\": [{\"marker\": {\"colorbar\": {\"outlinewidth\": 0, \"ticks\": \"\"}}, \"type\": \"scatterpolar\"}], \"scatterpolargl\": [{\"marker\": {\"colorbar\": {\"outlinewidth\": 0, \"ticks\": \"\"}}, \"type\": \"scatterpolargl\"}], \"scatterternary\": [{\"marker\": {\"colorbar\": {\"outlinewidth\": 0, \"ticks\": \"\"}}, \"type\": \"scatterternary\"}], \"surface\": [{\"colorbar\": {\"outlinewidth\": 0, \"ticks\": \"\"}, \"colorscale\": [[0.0, \"#0d0887\"], [0.1111111111111111, \"#46039f\"], [0.2222222222222222, \"#7201a8\"], [0.3333333333333333, \"#9c179e\"], [0.4444444444444444, \"#bd3786\"], [0.5555555555555556, \"#d8576b\"], [0.6666666666666666, \"#ed7953\"], [0.7777777777777778, \"#fb9f3a\"], [0.8888888888888888, \"#fdca26\"], [1.0, \"#f0f921\"]], \"type\": \"surface\"}], \"table\": [{\"cells\": {\"fill\": {\"color\": \"#EBF0F8\"}, \"line\": {\"color\": \"white\"}}, \"header\": {\"fill\": {\"color\": \"#C8D4E3\"}, \"line\": {\"color\": \"white\"}}, \"type\": \"table\"}]}, \"layout\": {\"annotationdefaults\": {\"arrowcolor\": \"#2a3f5f\", \"arrowhead\": 0, \"arrowwidth\": 1}, \"coloraxis\": {\"colorbar\": {\"outlinewidth\": 0, \"ticks\": \"\"}}, \"colorscale\": {\"diverging\": [[0, \"#8e0152\"], [0.1, \"#c51b7d\"], [0.2, \"#de77ae\"], [0.3, \"#f1b6da\"], [0.4, \"#fde0ef\"], [0.5, \"#f7f7f7\"], [0.6, \"#e6f5d0\"], [0.7, \"#b8e186\"], [0.8, \"#7fbc41\"], [0.9, \"#4d9221\"], [1, \"#276419\"]], \"sequential\": [[0.0, \"#0d0887\"], [0.1111111111111111, \"#46039f\"], [0.2222222222222222, \"#7201a8\"], [0.3333333333333333, \"#9c179e\"], [0.4444444444444444, \"#bd3786\"], [0.5555555555555556, \"#d8576b\"], [0.6666666666666666, \"#ed7953\"], [0.7777777777777778, \"#fb9f3a\"], [0.8888888888888888, \"#fdca26\"], [1.0, \"#f0f921\"]], \"sequentialminus\": [[0.0, \"#0d0887\"], [0.1111111111111111, \"#46039f\"], [0.2222222222222222, \"#7201a8\"], [0.3333333333333333, \"#9c179e\"], [0.4444444444444444, \"#bd3786\"], [0.5555555555555556, \"#d8576b\"], [0.6666666666666666, \"#ed7953\"], [0.7777777777777778, \"#fb9f3a\"], [0.8888888888888888, \"#fdca26\"], [1.0, \"#f0f921\"]]}, \"colorway\": [\"#636efa\", \"#EF553B\", \"#00cc96\", \"#ab63fa\", \"#FFA15A\", \"#19d3f3\", \"#FF6692\", \"#B6E880\", \"#FF97FF\", \"#FECB52\"], \"font\": {\"color\": \"#2a3f5f\"}, \"geo\": {\"bgcolor\": \"white\", \"lakecolor\": \"white\", \"landcolor\": \"#E5ECF6\", \"showlakes\": true, \"showland\": true, \"subunitcolor\": \"white\"}, \"hoverlabel\": {\"align\": \"left\"}, \"hovermode\": \"closest\", \"mapbox\": {\"style\": \"light\"}, \"paper_bgcolor\": \"white\", \"plot_bgcolor\": \"#E5ECF6\", \"polar\": {\"angularaxis\": {\"gridcolor\": \"white\", \"linecolor\": \"white\", \"ticks\": \"\"}, \"bgcolor\": \"#E5ECF6\", \"radialaxis\": {\"gridcolor\": \"white\", \"linecolor\": \"white\", \"ticks\": \"\"}}, \"scene\": {\"xaxis\": {\"backgroundcolor\": \"#E5ECF6\", \"gridcolor\": \"white\", \"gridwidth\": 2, \"linecolor\": \"white\", \"showbackground\": true, \"ticks\": \"\", \"zerolinecolor\": \"white\"}, \"yaxis\": {\"backgroundcolor\": \"#E5ECF6\", \"gridcolor\": \"white\", \"gridwidth\": 2, \"linecolor\": \"white\", \"showbackground\": true, \"ticks\": \"\", \"zerolinecolor\": \"white\"}, \"zaxis\": {\"backgroundcolor\": \"#E5ECF6\", \"gridcolor\": \"white\", \"gridwidth\": 2, \"linecolor\": \"white\", \"showbackground\": true, \"ticks\": \"\", \"zerolinecolor\": \"white\"}}, \"shapedefaults\": {\"line\": {\"color\": \"#2a3f5f\"}}, \"ternary\": {\"aaxis\": {\"gridcolor\": \"white\", \"linecolor\": \"white\", \"ticks\": \"\"}, \"baxis\": {\"gridcolor\": \"white\", \"linecolor\": \"white\", \"ticks\": \"\"}, \"bgcolor\": \"#E5ECF6\", \"caxis\": {\"gridcolor\": \"white\", \"linecolor\": \"white\", \"ticks\": \"\"}}, \"title\": {\"x\": 0.05}, \"xaxis\": {\"automargin\": true, \"gridcolor\": \"white\", \"linecolor\": \"white\", \"ticks\": \"\", \"title\": {\"standoff\": 15}, \"zerolinecolor\": \"white\", \"zerolinewidth\": 2}, \"yaxis\": {\"automargin\": true, \"gridcolor\": \"white\", \"linecolor\": \"white\", \"ticks\": \"\", \"title\": {\"standoff\": 15}, \"zerolinecolor\": \"white\", \"zerolinewidth\": 2}}}, \"title\": {\"text\": \"\\u0421\\u0440\\u0435\\u0434\\u043d\\u0435\\u0434\\u0443\\u0448\\u0435\\u0432\\u043e\\u0439 \\u0434\\u043e\\u0445\\u043e\\u0434 \\u0432 \\u0442\\u044b\\u0441. \\u0434\\u043e\\u043b\\u043b\\u0430\\u0440\\u043e\\u0432 \\u0421\\u0428\\u0410\"}},\n",
       "                        {\"responsive\": true}\n",
       "                    ).then(function(){\n",
       "                            \n",
       "var gd = document.getElementById('edf4d424-8e5b-460d-86f8-5280699594d7');\n",
       "var x = new MutationObserver(function (mutations, observer) {{\n",
       "        var display = window.getComputedStyle(gd).display;\n",
       "        if (!display || display === 'none') {{\n",
       "            console.log([gd, 'removed!']);\n",
       "            Plotly.purge(gd);\n",
       "            observer.disconnect();\n",
       "        }}\n",
       "}});\n",
       "\n",
       "// Listen for the removal of the full notebook cells\n",
       "var notebookContainer = gd.closest('#notebook-container');\n",
       "if (notebookContainer) {{\n",
       "    x.observe(notebookContainer, {childList: true});\n",
       "}}\n",
       "\n",
       "// Listen for the clearing of the current output cell\n",
       "var outputEl = gd.closest('.output');\n",
       "if (outputEl) {{\n",
       "    x.observe(outputEl, {childList: true});\n",
       "}}\n",
       "\n",
       "                        })\n",
       "                };\n",
       "                });\n",
       "            </script>\n",
       "        </div>"
      ]
     },
     "metadata": {},
     "output_type": "display_data"
    }
   ],
   "source": [
    "data = dict(type = 'choropleth', \n",
    "           locations = df_cl['country'],\n",
    "           locationmode = 'country names',\n",
    "           z = df_cl['gdp'], \n",
    "           text = df_cl['country'],\n",
    "           colorbar = {'title':'Среднедушевой доход(тыс.долларов)'})\n",
    "layout = dict(title = 'Среднедушевой доход в тыс. долларов США', \n",
    "             geo = dict(showframe = False, \n",
    "                       projection = {'type': 'mercator'}))\n",
    "choromap3 = go.Figure(data = [data], layout=layout)\n",
    "iplot(choromap3)"
   ]
  },
  {
   "cell_type": "code",
   "execution_count": 535,
   "metadata": {},
   "outputs": [],
   "source": [
    "# Кластеризация методом k-средних\n",
    "def do_kmeans(X, nclust=2):\n",
    "    model = KMeans(nclust)\n",
    "    model.fit(X)\n",
    "    clust_labels = model.predict(X)\n",
    "    cent = model.cluster_centers_\n",
    "    return (clust_labels, cent)\n",
    "\n"
   ]
  },
  {
   "cell_type": "code",
   "execution_count": 536,
   "metadata": {},
   "outputs": [],
   "source": [
    "df_cl = pd.DataFrame(countries_with_gdp_and_capita)\n",
    "df_cl_1 = df_cl[['gdp','per_capita','population','conf_to_pop', 'dead_to_pop']]"
   ]
  },
  {
   "cell_type": "code",
   "execution_count": null,
   "metadata": {
    "scrolled": false
   },
   "outputs": [],
   "source": [
    "scaler = StandardScaler()\n",
    "s = scaler.fit_transform(df_cl_1)"
   ]
  },
  {
   "cell_type": "code",
   "execution_count": 538,
   "metadata": {},
   "outputs": [],
   "source": [
    "clust_labels, cent = do_kmeans(df_cl_1, 2)\n",
    "kmeans = pd.DataFrame(clust_labels)\n",
    "df_cl_1.insert((df_cl_1.shape[1]),'kmeans',kmeans)"
   ]
  },
  {
   "cell_type": "code",
   "execution_count": 539,
   "metadata": {},
   "outputs": [],
   "source": [
    "# Кластеризация с 2 параметрами\n",
    "def plot_clusterization(df_cl_1,method, param_1 = \"gdp\" , param_2 = \"conf_to_pop\", title=\"\"):\n",
    "    fig = plt.figure()\n",
    "    ax = fig.add_subplot(111)\n",
    "    scatter = ax.scatter(df_cl_1[param_1],df_cl_1[param_2],\n",
    "                         c=method[0],s=50)\n",
    "    ax.set_title(title)\n",
    "    if param_1 == \"gdp\":\n",
    "        xlabel = \"ВВП (млрд.долларов)\"\n",
    "    elif param_1 == \"per_capita\":\n",
    "        xlabel = \"Среднедушевой доход (тыс.долларов)\"\n",
    "    elif param_1 == \"conf_to_pop\":\n",
    "        xlabel = \"Заразившиеся в (%) от населения\"\n",
    "    elif param_1 == \"dead_to_pop\":\n",
    "        xlabel = \"Умершие в (%) от населения\"  \n",
    "    if param_2 == \"gdp\":\n",
    "        ylabel = \"ВВП (млрд.долларов)\"\n",
    "    elif param_2 == \"per_capita\":\n",
    "        ylabel = \"Среднедушевой доход (тыс.долларов)\"\n",
    "    elif param_2 == \"conf_to_pop\":\n",
    "        ylabel = \"Заразившиеся в (%) от населения\"\n",
    "    elif param_2 == \"dead_to_pop\":\n",
    "        ylabel = \"Умершие в (%) от населения\" \n",
    "    ax.set_xlabel(xlabel)\n",
    "    ax.set_ylabel(ylabel)\n",
    "    plt.colorbar(scatter)"
   ]
  },
  {
   "cell_type": "code",
   "execution_count": 540,
   "metadata": {
    "scrolled": true
   },
   "outputs": [
    {
     "data": {
      "image/png": "[encoded data removed]",
      "text/plain": [
       "<Figure size 432x288 with 2 Axes>"
      ]
     },
     "metadata": {},
     "output_type": "display_data"
    }
   ],
   "source": [
    "plot_clusterization(df_cl_1,kmeans, \"per_capita\" , \"dead_to_pop\", \"Кластеризация методом k-средних\")    "
   ]
  },
  {
   "cell_type": "code",
   "execution_count": 541,
   "metadata": {
    "scrolled": true
   },
   "outputs": [
    {
     "data": {
      "application/vnd.plotly.v1+json": {
       "config": {
        "linkText": "Export to plot.ly",
        "plotlyServerURL": "https://plot.ly",
        "showLink": false
       },
       "data": [
        {
         "colorbar": {
          "title": {
           "text": "Cluster Group"
          }
         },
         "locationmode": "country names",
         "locations": [
          0.019024875077967823,
          0.03307312090249151,
          0.017052493238618942,
          0.9882346830117134,
          0.0001622862260344627,
          0.025964314645950604,
          0.01881356038101067,
          0.16339315720434072,
          0.028291591361185794,
          0.1840276155670011,
          0.034075132296424476,
          0.4577431808436008,
          0.014793372561655409,
          0.030700423177424024,
          0.322370466849841,
          0.48594206234864334,
          0.002951663763181486,
          0.0027836912806835684,
          0.03754907672254958,
          0.06931555998939809,
          0.1219118791006987,
          0.0328700444328402,
          0.03181477905383274,
          0.004030066523943582,
          0.002271622626968122,
          0.0007507785635242973,
          0.013994950951642784,
          0.21428977165784285,
          0.007007577827509436,
          0.0033532003454507056,
          0.24592133336465705,
          0.00603584327184738,
          0.03282060743401361,
          0.017321936592511043,
          0.01467551325166296,
          0.05450307166884834,
          0.07710644810029724,
          0.19272871129632582,
          0.11974030703390791,
          0.1965657823703871,
          0.02200679547416935,
          0.054928516532795915,
          0.1349493977580548,
          0.0003222718436427837,
          0.00012466221733361646,
          0.11567348529831702,
          0.26882468960625605,
          0.06757027757133925,
          0.018810969612904592,
          0.21295378409192256,
          0.019266231707829998,
          0.026426317630547033,
          0.01108546727128846,
          0.022522381011989542,
          0.01591776165462565,
          0.004791796875280945,
          0.02918376614937624,
          0.03616159640507698,
          0.5108853739924756,
          0.007417323283026876,
          0.006728599294856991,
          0.0092471171058657,
          0.4971946510895445,
          0.1873620930337281,
          0.3738487591225413,
          0.017718081472508865,
          0.01288636369024991,
          0.0063177913322916175,
          0.036946372212125045,
          0.0017745603925514385,
          0.3792561783516774,
          0.019231985829063075,
          0.052356455618434036,
          0.013593374142657424,
          0.004752045921779664,
          0.05521957007263498,
          0.6492310222880171,
          0.0012260889802473258,
          0.022014942947804348,
          0.21446743818063352,
          0.11513938468522378,
          0.0018395215063909747,
          0.02623877442794335,
          0.04091661587849028,
          0.2268251609634563,
          0.004416114021540542,
          0.0513292533969985,
          0.01929549355302367,
          0.0006535266955443775,
          0.0013350958497352825,
          0.2573233956358379,
          0.030964676719686016,
          0.0003866669203201664,
          0.0040502700447374385,
          0.00315252492485759,
          0.155442970107208,
          0.11137838149549342,
          0.019850149162384964,
          0.2328536203997584,
          9.295498794141419e-05,
          0.011328233998761657,
          0.29676526393736696,
          0.011924773376329776,
          0.049730412971777306,
          0.28402864226938196,
          1.2211698195009701,
          0.08751604388028549,
          2.013142445005609,
          0.002414253557914732,
          0.015425097541057978,
          1.9357703122687582,
          0.17016347236391796,
          0.016046059254362838,
          0.07409783684735347,
          0.011368099047146607,
          0.5026534597838216,
          0.07068828011460566,
          0.009694729944802005,
          0.02844082296003944,
          0.4949212057130719,
          0.006870273310830418,
          0.006198337271506287,
          0.0019097520620981927,
          0.2985391756871158,
          0.35940542875222287,
          0.0009037907148838954,
          0.004365640842371933,
          0.004182989833813617,
          0.008346176371974691,
          0.00901843149502594,
          0.18293671635730946,
          0.0005804816916659611,
          0.041718848843037004,
          0.2511691722496171,
          0.37271699947866654,
          0.021366660298222914,
          0.4616974923690147,
          0.008469021768814821,
          0.00033912357176249904,
          0.0043857065845880625,
          0.00031858122207479764,
          0.022338568935427575,
          0.019739085183124876,
          0.0004915927136060184,
          0.00016621628977815528,
          0.004698867833900243,
          0.0026871633514135105,
          0.05506029155278025,
          0.004581267438563055,
          0.006614023197422428,
          0.0011090773097865868,
          0.0003758262136636452,
          0.006784177155126551,
          0.0003858170350897838,
          0.1165722084273177,
          0.001321603898491209,
          0.01899825257830681,
          4.743535983515264e-05
         ],
         "text": [
          0.019024875077967823,
          0.03307312090249151,
          0.017052493238618942,
          0.9882346830117134,
          0.0001622862260344627,
          0.025964314645950604,
          0.01881356038101067,
          0.16339315720434072,
          0.028291591361185794,
          0.1840276155670011,
          0.034075132296424476,
          0.4577431808436008,
          0.014793372561655409,
          0.030700423177424024,
          0.322370466849841,
          0.48594206234864334,
          0.002951663763181486,
          0.0027836912806835684,
          0.03754907672254958,
          0.06931555998939809,
          0.1219118791006987,
          0.0328700444328402,
          0.03181477905383274,
          0.004030066523943582,
          0.002271622626968122,
          0.0007507785635242973,
          0.013994950951642784,
          0.21428977165784285,
          0.007007577827509436,
          0.0033532003454507056,
          0.24592133336465705,
          0.00603584327184738,
          0.03282060743401361,
          0.017321936592511043,
          0.01467551325166296,
          0.05450307166884834,
          0.07710644810029724,
          0.19272871129632582,
          0.11974030703390791,
          0.1965657823703871,
          0.02200679547416935,
          0.054928516532795915,
          0.1349493977580548,
          0.0003222718436427837,
          0.00012466221733361646,
          0.11567348529831702,
          0.26882468960625605,
          0.06757027757133925,
          0.018810969612904592,
          0.21295378409192256,
          0.019266231707829998,
          0.026426317630547033,
          0.01108546727128846,
          0.022522381011989542,
          0.01591776165462565,
          0.004791796875280945,
          0.02918376614937624,
          0.03616159640507698,
          0.5108853739924756,
          0.007417323283026876,
          0.006728599294856991,
          0.0092471171058657,
          0.4971946510895445,
          0.1873620930337281,
          0.3738487591225413,
          0.017718081472508865,
          0.01288636369024991,
          0.0063177913322916175,
          0.036946372212125045,
          0.0017745603925514385,
          0.3792561783516774,
          0.019231985829063075,
          0.052356455618434036,
          0.013593374142657424,
          0.004752045921779664,
          0.05521957007263498,
          0.6492310222880171,
          0.0012260889802473258,
          0.022014942947804348,
          0.21446743818063352,
          0.11513938468522378,
          0.0018395215063909747,
          0.02623877442794335,
          0.04091661587849028,
          0.2268251609634563,
          0.004416114021540542,
          0.0513292533969985,
          0.01929549355302367,
          0.0006535266955443775,
          0.0013350958497352825,
          0.2573233956358379,
          0.030964676719686016,
          0.0003866669203201664,
          0.0040502700447374385,
          0.00315252492485759,
          0.155442970107208,
          0.11137838149549342,
          0.019850149162384964,
          0.2328536203997584,
          9.295498794141419e-05,
          0.011328233998761657,
          0.29676526393736696,
          0.011924773376329776,
          0.049730412971777306,
          0.28402864226938196,
          1.2211698195009701,
          0.08751604388028549,
          2.013142445005609,
          0.002414253557914732,
          0.015425097541057978,
          1.9357703122687582,
          0.17016347236391796,
          0.016046059254362838,
          0.07409783684735347,
          0.011368099047146607,
          0.5026534597838216,
          0.07068828011460566,
          0.009694729944802005,
          0.02844082296003944,
          0.4949212057130719,
          0.006870273310830418,
          0.006198337271506287,
          0.0019097520620981927,
          0.2985391756871158,
          0.35940542875222287,
          0.0009037907148838954,
          0.004365640842371933,
          0.004182989833813617,
          0.008346176371974691,
          0.00901843149502594,
          0.18293671635730946,
          0.0005804816916659611,
          0.041718848843037004,
          0.2511691722496171,
          0.37271699947866654,
          0.021366660298222914,
          0.4616974923690147,
          0.008469021768814821,
          0.00033912357176249904,
          0.0043857065845880625,
          0.00031858122207479764,
          0.022338568935427575,
          0.019739085183124876,
          0.0004915927136060184,
          0.00016621628977815528,
          0.004698867833900243,
          0.0026871633514135105,
          0.05506029155278025,
          0.004581267438563055,
          0.006614023197422428,
          0.0011090773097865868,
          0.0003758262136636452,
          0.006784177155126551,
          0.0003858170350897838,
          0.1165722084273177,
          0.001321603898491209,
          0.01899825257830681,
          4.743535983515264e-05
         ],
         "type": "choropleth",
         "z": [
          0,
          0,
          0,
          0,
          0,
          0,
          0,
          0,
          0,
          0,
          0,
          0,
          0,
          0,
          0,
          0,
          0,
          0,
          0,
          0,
          0,
          0,
          0,
          0,
          0,
          0,
          0,
          0,
          0,
          0,
          0,
          1,
          0,
          0,
          0,
          0,
          0,
          0,
          0,
          0,
          0,
          0,
          0,
          0,
          0,
          0,
          0,
          0,
          0,
          0,
          0,
          0,
          0,
          0,
          0,
          0,
          0,
          0,
          0,
          1,
          0,
          0,
          0,
          0,
          0,
          0,
          0,
          0,
          0,
          0,
          0,
          0,
          0,
          0,
          0,
          0,
          0,
          0,
          0,
          0,
          0,
          0,
          0,
          0,
          0,
          0,
          0,
          0,
          0,
          0,
          0,
          0,
          0,
          0,
          0,
          0,
          0,
          0,
          0,
          0,
          0,
          0,
          0,
          0,
          0,
          0,
          0,
          0,
          0,
          0,
          0,
          0,
          0,
          0,
          0,
          0,
          0,
          0,
          0,
          0,
          0,
          0,
          0,
          0,
          0,
          0,
          0,
          0,
          0,
          0,
          0,
          0,
          0,
          0,
          0,
          0,
          0,
          0,
          0,
          0,
          0,
          0,
          0,
          0,
          0,
          0,
          0,
          0,
          0,
          0,
          0,
          0,
          0,
          0,
          0,
          0,
          0,
          0
         ]
        }
       ],
       "layout": {
        "geo": {
         "projection": {
          "type": "mercator"
         },
         "showframe": false
        },
        "template": {
         "data": {
          "bar": [
           {
            "error_x": {
             "color": "#2a3f5f"
            },
            "error_y": {
             "color": "#2a3f5f"
            },
            "marker": {
             "line": {
              "color": "#E5ECF6",
              "width": 0.5
             }
            },
            "type": "bar"
           }
          ],
          "barpolar": [
           {
            "marker": {
             "line": {
              "color": "#E5ECF6",
              "width": 0.5
             }
            },
            "type": "barpolar"
           }
          ],
          "carpet": [
           {
            "aaxis": {
             "endlinecolor": "#2a3f5f",
             "gridcolor": "white",
             "linecolor": "white",
             "minorgridcolor": "white",
             "startlinecolor": "#2a3f5f"
            },
            "baxis": {
             "endlinecolor": "#2a3f5f",
             "gridcolor": "white",
             "linecolor": "white",
             "minorgridcolor": "white",
             "startlinecolor": "#2a3f5f"
            },
            "type": "carpet"
           }
          ],
          "choropleth": [
           {
            "colorbar": {
             "outlinewidth": 0,
             "ticks": ""
            },
            "type": "choropleth"
           }
          ],
          "contour": [
           {
            "colorbar": {
             "outlinewidth": 0,
             "ticks": ""
            },
            "colorscale": [
             [
              0,
              "#0d0887"
             ],
             [
              0.1111111111111111,
              "#46039f"
             ],
             [
              0.2222222222222222,
              "#7201a8"
             ],
             [
              0.3333333333333333,
              "#9c179e"
             ],
             [
              0.4444444444444444,
              "#bd3786"
             ],
             [
              0.5555555555555556,
              "#d8576b"
             ],
             [
              0.6666666666666666,
              "#ed7953"
             ],
             [
              0.7777777777777778,
              "#fb9f3a"
             ],
             [
              0.8888888888888888,
              "#fdca26"
             ],
             [
              1,
              "#f0f921"
             ]
            ],
            "type": "contour"
           }
          ],
          "contourcarpet": [
           {
            "colorbar": {
             "outlinewidth": 0,
             "ticks": ""
            },
            "type": "contourcarpet"
           }
          ],
          "heatmap": [
           {
            "colorbar": {
             "outlinewidth": 0,
             "ticks": ""
            },
            "colorscale": [
             [
              0,
              "#0d0887"
             ],
             [
              0.1111111111111111,
              "#46039f"
             ],
             [
              0.2222222222222222,
              "#7201a8"
             ],
             [
              0.3333333333333333,
              "#9c179e"
             ],
             [
              0.4444444444444444,
              "#bd3786"
             ],
             [
              0.5555555555555556,
              "#d8576b"
             ],
             [
              0.6666666666666666,
              "#ed7953"
             ],
             [
              0.7777777777777778,
              "#fb9f3a"
             ],
             [
              0.8888888888888888,
              "#fdca26"
             ],
             [
              1,
              "#f0f921"
             ]
            ],
            "type": "heatmap"
           }
          ],
          "heatmapgl": [
           {
            "colorbar": {
             "outlinewidth": 0,
             "ticks": ""
            },
            "colorscale": [
             [
              0,
              "#0d0887"
             ],
             [
              0.1111111111111111,
              "#46039f"
             ],
             [
              0.2222222222222222,
              "#7201a8"
             ],
             [
              0.3333333333333333,
              "#9c179e"
             ],
             [
              0.4444444444444444,
              "#bd3786"
             ],
             [
              0.5555555555555556,
              "#d8576b"
             ],
             [
              0.6666666666666666,
              "#ed7953"
             ],
             [
              0.7777777777777778,
              "#fb9f3a"
             ],
             [
              0.8888888888888888,
              "#fdca26"
             ],
             [
              1,
              "#f0f921"
             ]
            ],
            "type": "heatmapgl"
           }
          ],
          "histogram": [
           {
            "marker": {
             "colorbar": {
              "outlinewidth": 0,
              "ticks": ""
             }
            },
            "type": "histogram"
           }
          ],
          "histogram2d": [
           {
            "colorbar": {
             "outlinewidth": 0,
             "ticks": ""
            },
            "colorscale": [
             [
              0,
              "#0d0887"
             ],
             [
              0.1111111111111111,
              "#46039f"
             ],
             [
              0.2222222222222222,
              "#7201a8"
             ],
             [
              0.3333333333333333,
              "#9c179e"
             ],
             [
              0.4444444444444444,
              "#bd3786"
             ],
             [
              0.5555555555555556,
              "#d8576b"
             ],
             [
              0.6666666666666666,
              "#ed7953"
             ],
             [
              0.7777777777777778,
              "#fb9f3a"
             ],
             [
              0.8888888888888888,
              "#fdca26"
             ],
             [
              1,
              "#f0f921"
             ]
            ],
            "type": "histogram2d"
           }
          ],
          "histogram2dcontour": [
           {
            "colorbar": {
             "outlinewidth": 0,
             "ticks": ""
            },
            "colorscale": [
             [
              0,
              "#0d0887"
             ],
             [
              0.1111111111111111,
              "#46039f"
             ],
             [
              0.2222222222222222,
              "#7201a8"
             ],
             [
              0.3333333333333333,
              "#9c179e"
             ],
             [
              0.4444444444444444,
              "#bd3786"
             ],
             [
              0.5555555555555556,
              "#d8576b"
             ],
             [
              0.6666666666666666,
              "#ed7953"
             ],
             [
              0.7777777777777778,
              "#fb9f3a"
             ],
             [
              0.8888888888888888,
              "#fdca26"
             ],
             [
              1,
              "#f0f921"
             ]
            ],
            "type": "histogram2dcontour"
           }
          ],
          "mesh3d": [
           {
            "colorbar": {
             "outlinewidth": 0,
             "ticks": ""
            },
            "type": "mesh3d"
           }
          ],
          "parcoords": [
           {
            "line": {
             "colorbar": {
              "outlinewidth": 0,
              "ticks": ""
             }
            },
            "type": "parcoords"
           }
          ],
          "pie": [
           {
            "automargin": true,
            "type": "pie"
           }
          ],
          "scatter": [
           {
            "marker": {
             "colorbar": {
              "outlinewidth": 0,
              "ticks": ""
             }
            },
            "type": "scatter"
           }
          ],
          "scatter3d": [
           {
            "line": {
             "colorbar": {
              "outlinewidth": 0,
              "ticks": ""
             }
            },
            "marker": {
             "colorbar": {
              "outlinewidth": 0,
              "ticks": ""
             }
            },
            "type": "scatter3d"
           }
          ],
          "scattercarpet": [
           {
            "marker": {
             "colorbar": {
              "outlinewidth": 0,
              "ticks": ""
             }
            },
            "type": "scattercarpet"
           }
          ],
          "scattergeo": [
           {
            "marker": {
             "colorbar": {
              "outlinewidth": 0,
              "ticks": ""
             }
            },
            "type": "scattergeo"
           }
          ],
          "scattergl": [
           {
            "marker": {
             "colorbar": {
              "outlinewidth": 0,
              "ticks": ""
             }
            },
            "type": "scattergl"
           }
          ],
          "scattermapbox": [
           {
            "marker": {
             "colorbar": {
              "outlinewidth": 0,
              "ticks": ""
             }
            },
            "type": "scattermapbox"
           }
          ],
          "scatterpolar": [
           {
            "marker": {
             "colorbar": {
              "outlinewidth": 0,
              "ticks": ""
             }
            },
            "type": "scatterpolar"
           }
          ],
          "scatterpolargl": [
           {
            "marker": {
             "colorbar": {
              "outlinewidth": 0,
              "ticks": ""
             }
            },
            "type": "scatterpolargl"
           }
          ],
          "scatterternary": [
           {
            "marker": {
             "colorbar": {
              "outlinewidth": 0,
              "ticks": ""
             }
            },
            "type": "scatterternary"
           }
          ],
          "surface": [
           {
            "colorbar": {
             "outlinewidth": 0,
             "ticks": ""
            },
            "colorscale": [
             [
              0,
              "#0d0887"
             ],
             [
              0.1111111111111111,
              "#46039f"
             ],
             [
              0.2222222222222222,
              "#7201a8"
             ],
             [
              0.3333333333333333,
              "#9c179e"
             ],
             [
              0.4444444444444444,
              "#bd3786"
             ],
             [
              0.5555555555555556,
              "#d8576b"
             ],
             [
              0.6666666666666666,
              "#ed7953"
             ],
             [
              0.7777777777777778,
              "#fb9f3a"
             ],
             [
              0.8888888888888888,
              "#fdca26"
             ],
             [
              1,
              "#f0f921"
             ]
            ],
            "type": "surface"
           }
          ],
          "table": [
           {
            "cells": {
             "fill": {
              "color": "#EBF0F8"
             },
             "line": {
              "color": "white"
             }
            },
            "header": {
             "fill": {
              "color": "#C8D4E3"
             },
             "line": {
              "color": "white"
             }
            },
            "type": "table"
           }
          ]
         },
         "layout": {
          "annotationdefaults": {
           "arrowcolor": "#2a3f5f",
           "arrowhead": 0,
           "arrowwidth": 1
          },
          "coloraxis": {
           "colorbar": {
            "outlinewidth": 0,
            "ticks": ""
           }
          },
          "colorscale": {
           "diverging": [
            [
             0,
             "#8e0152"
            ],
            [
             0.1,
             "#c51b7d"
            ],
            [
             0.2,
             "#de77ae"
            ],
            [
             0.3,
             "#f1b6da"
            ],
            [
             0.4,
             "#fde0ef"
            ],
            [
             0.5,
             "#f7f7f7"
            ],
            [
             0.6,
             "#e6f5d0"
            ],
            [
             0.7,
             "#b8e186"
            ],
            [
             0.8,
             "#7fbc41"
            ],
            [
             0.9,
             "#4d9221"
            ],
            [
             1,
             "#276419"
            ]
           ],
           "sequential": [
            [
             0,
             "#0d0887"
            ],
            [
             0.1111111111111111,
             "#46039f"
            ],
            [
             0.2222222222222222,
             "#7201a8"
            ],
            [
             0.3333333333333333,
             "#9c179e"
            ],
            [
             0.4444444444444444,
             "#bd3786"
            ],
            [
             0.5555555555555556,
             "#d8576b"
            ],
            [
             0.6666666666666666,
             "#ed7953"
            ],
            [
             0.7777777777777778,
             "#fb9f3a"
            ],
            [
             0.8888888888888888,
             "#fdca26"
            ],
            [
             1,
             "#f0f921"
            ]
           ],
           "sequentialminus": [
            [
             0,
             "#0d0887"
            ],
            [
             0.1111111111111111,
             "#46039f"
            ],
            [
             0.2222222222222222,
             "#7201a8"
            ],
            [
             0.3333333333333333,
             "#9c179e"
            ],
            [
             0.4444444444444444,
             "#bd3786"
            ],
            [
             0.5555555555555556,
             "#d8576b"
            ],
            [
             0.6666666666666666,
             "#ed7953"
            ],
            [
             0.7777777777777778,
             "#fb9f3a"
            ],
            [
             0.8888888888888888,
             "#fdca26"
            ],
            [
             1,
             "#f0f921"
            ]
           ]
          },
          "colorway": [
           "#636efa",
           "#EF553B",
           "#00cc96",
           "#ab63fa",
           "#FFA15A",
           "#19d3f3",
           "#FF6692",
           "#B6E880",
           "#FF97FF",
           "#FECB52"
          ],
          "font": {
           "color": "#2a3f5f"
          },
          "geo": {
           "bgcolor": "white",
           "lakecolor": "white",
           "landcolor": "#E5ECF6",
           "showlakes": true,
           "showland": true,
           "subunitcolor": "white"
          },
          "hoverlabel": {
           "align": "left"
          },
          "hovermode": "closest",
          "mapbox": {
           "style": "light"
          },
          "paper_bgcolor": "white",
          "plot_bgcolor": "#E5ECF6",
          "polar": {
           "angularaxis": {
            "gridcolor": "white",
            "linecolor": "white",
            "ticks": ""
           },
           "bgcolor": "#E5ECF6",
           "radialaxis": {
            "gridcolor": "white",
            "linecolor": "white",
            "ticks": ""
           }
          },
          "scene": {
           "xaxis": {
            "backgroundcolor": "#E5ECF6",
            "gridcolor": "white",
            "gridwidth": 2,
            "linecolor": "white",
            "showbackground": true,
            "ticks": "",
            "zerolinecolor": "white"
           },
           "yaxis": {
            "backgroundcolor": "#E5ECF6",
            "gridcolor": "white",
            "gridwidth": 2,
            "linecolor": "white",
            "showbackground": true,
            "ticks": "",
            "zerolinecolor": "white"
           },
           "zaxis": {
            "backgroundcolor": "#E5ECF6",
            "gridcolor": "white",
            "gridwidth": 2,
            "linecolor": "white",
            "showbackground": true,
            "ticks": "",
            "zerolinecolor": "white"
           }
          },
          "shapedefaults": {
           "line": {
            "color": "#2a3f5f"
           }
          },
          "ternary": {
           "aaxis": {
            "gridcolor": "white",
            "linecolor": "white",
            "ticks": ""
           },
           "baxis": {
            "gridcolor": "white",
            "linecolor": "white",
            "ticks": ""
           },
           "bgcolor": "#E5ECF6",
           "caxis": {
            "gridcolor": "white",
            "linecolor": "white",
            "ticks": ""
           }
          },
          "title": {
           "x": 0.05
          },
          "xaxis": {
           "automargin": true,
           "gridcolor": "white",
           "linecolor": "white",
           "ticks": "",
           "title": {
            "standoff": 15
           },
           "zerolinecolor": "white",
           "zerolinewidth": 2
          },
          "yaxis": {
           "automargin": true,
           "gridcolor": "white",
           "linecolor": "white",
           "ticks": "",
           "title": {
            "standoff": 15
           },
           "zerolinecolor": "white",
           "zerolinewidth": 2
          }
         }
        },
        "title": {
         "text": "Clustering of Countries based on K-Means"
        }
       }
      },
      "text/html": [
       "<div>\n",
       "        \n",
       "        \n",
       "            <div id=\"e482dd7d-3831-4bbe-8175-f405204ce233\" class=\"plotly-graph-div\" style=\"height:525px; width:100%;\"></div>\n",
       "            <script type=\"text/javascript\">\n",
       "                require([\"plotly\"], function(Plotly) {\n",
       "                    window.PLOTLYENV=window.PLOTLYENV || {};\n",
       "                    \n",
       "                if (document.getElementById(\"e482dd7d-3831-4bbe-8175-f405204ce233\")) {\n",
       "                    Plotly.newPlot(\n",
       "                        'e482dd7d-3831-4bbe-8175-f405204ce233',\n",
       "                        [{\"colorbar\": {\"title\": {\"text\": \"Cluster Group\"}}, \"locationmode\": \"country names\", \"locations\": [0.019024875077967823, 0.03307312090249151, 0.017052493238618942, 0.9882346830117134, 0.0001622862260344627, 0.025964314645950604, 0.01881356038101067, 0.16339315720434072, 0.028291591361185794, 0.1840276155670011, 0.034075132296424476, 0.4577431808436008, 0.014793372561655409, 0.030700423177424024, 0.322370466849841, 0.48594206234864334, 0.002951663763181486, 0.0027836912806835684, 0.03754907672254958, 0.06931555998939809, 0.1219118791006987, 0.0328700444328402, 0.03181477905383274, 0.004030066523943582, 0.002271622626968122, 0.0007507785635242973, 0.013994950951642784, 0.21428977165784285, 0.007007577827509436, 0.0033532003454507056, 0.24592133336465705, 0.00603584327184738, 0.03282060743401361, 0.017321936592511043, 0.01467551325166296, 0.05450307166884834, 0.07710644810029724, 0.19272871129632582, 0.11974030703390791, 0.1965657823703871, 0.02200679547416935, 0.054928516532795915, 0.1349493977580548, 0.0003222718436427837, 0.00012466221733361646, 0.11567348529831702, 0.26882468960625605, 0.06757027757133925, 0.018810969612904592, 0.21295378409192256, 0.019266231707829998, 0.026426317630547033, 0.01108546727128846, 0.022522381011989542, 0.01591776165462565, 0.004791796875280945, 0.02918376614937624, 0.03616159640507698, 0.5108853739924756, 0.007417323283026876, 0.006728599294856991, 0.0092471171058657, 0.4971946510895445, 0.1873620930337281, 0.3738487591225413, 0.017718081472508865, 0.01288636369024991, 0.0063177913322916175, 0.036946372212125045, 0.0017745603925514385, 0.3792561783516774, 0.019231985829063075, 0.052356455618434036, 0.013593374142657424, 0.004752045921779664, 0.05521957007263498, 0.6492310222880171, 0.0012260889802473258, 0.022014942947804348, 0.21446743818063352, 0.11513938468522378, 0.0018395215063909747, 0.02623877442794335, 0.04091661587849028, 0.2268251609634563, 0.004416114021540542, 0.0513292533969985, 0.01929549355302367, 0.0006535266955443775, 0.0013350958497352825, 0.2573233956358379, 0.030964676719686016, 0.0003866669203201664, 0.0040502700447374385, 0.00315252492485759, 0.155442970107208, 0.11137838149549342, 0.019850149162384964, 0.2328536203997584, 9.295498794141419e-05, 0.011328233998761657, 0.29676526393736696, 0.011924773376329776, 0.049730412971777306, 0.28402864226938196, 1.2211698195009701, 0.08751604388028549, 2.013142445005609, 0.002414253557914732, 0.015425097541057978, 1.9357703122687582, 0.17016347236391796, 0.016046059254362838, 0.07409783684735347, 0.011368099047146607, 0.5026534597838216, 0.07068828011460566, 0.009694729944802005, 0.02844082296003944, 0.4949212057130719, 0.006870273310830418, 0.006198337271506287, 0.0019097520620981927, 0.2985391756871158, 0.35940542875222287, 0.0009037907148838954, 0.004365640842371933, 0.004182989833813617, 0.008346176371974691, 0.00901843149502594, 0.18293671635730946, 0.0005804816916659611, 0.041718848843037004, 0.2511691722496171, 0.37271699947866654, 0.021366660298222914, 0.4616974923690147, 0.008469021768814821, 0.00033912357176249904, 0.0043857065845880625, 0.00031858122207479764, 0.022338568935427575, 0.019739085183124876, 0.0004915927136060184, 0.00016621628977815528, 0.004698867833900243, 0.0026871633514135105, 0.05506029155278025, 0.004581267438563055, 0.006614023197422428, 0.0011090773097865868, 0.0003758262136636452, 0.006784177155126551, 0.0003858170350897838, 0.1165722084273177, 0.001321603898491209, 0.01899825257830681, 4.743535983515264e-05], \"text\": [0.019024875077967823, 0.03307312090249151, 0.017052493238618942, 0.9882346830117134, 0.0001622862260344627, 0.025964314645950604, 0.01881356038101067, 0.16339315720434072, 0.028291591361185794, 0.1840276155670011, 0.034075132296424476, 0.4577431808436008, 0.014793372561655409, 0.030700423177424024, 0.322370466849841, 0.48594206234864334, 0.002951663763181486, 0.0027836912806835684, 0.03754907672254958, 0.06931555998939809, 0.1219118791006987, 0.0328700444328402, 0.03181477905383274, 0.004030066523943582, 0.002271622626968122, 0.0007507785635242973, 0.013994950951642784, 0.21428977165784285, 0.007007577827509436, 0.0033532003454507056, 0.24592133336465705, 0.00603584327184738, 0.03282060743401361, 0.017321936592511043, 0.01467551325166296, 0.05450307166884834, 0.07710644810029724, 0.19272871129632582, 0.11974030703390791, 0.1965657823703871, 0.02200679547416935, 0.054928516532795915, 0.1349493977580548, 0.0003222718436427837, 0.00012466221733361646, 0.11567348529831702, 0.26882468960625605, 0.06757027757133925, 0.018810969612904592, 0.21295378409192256, 0.019266231707829998, 0.026426317630547033, 0.01108546727128846, 0.022522381011989542, 0.01591776165462565, 0.004791796875280945, 0.02918376614937624, 0.03616159640507698, 0.5108853739924756, 0.007417323283026876, 0.006728599294856991, 0.0092471171058657, 0.4971946510895445, 0.1873620930337281, 0.3738487591225413, 0.017718081472508865, 0.01288636369024991, 0.0063177913322916175, 0.036946372212125045, 0.0017745603925514385, 0.3792561783516774, 0.019231985829063075, 0.052356455618434036, 0.013593374142657424, 0.004752045921779664, 0.05521957007263498, 0.6492310222880171, 0.0012260889802473258, 0.022014942947804348, 0.21446743818063352, 0.11513938468522378, 0.0018395215063909747, 0.02623877442794335, 0.04091661587849028, 0.2268251609634563, 0.004416114021540542, 0.0513292533969985, 0.01929549355302367, 0.0006535266955443775, 0.0013350958497352825, 0.2573233956358379, 0.030964676719686016, 0.0003866669203201664, 0.0040502700447374385, 0.00315252492485759, 0.155442970107208, 0.11137838149549342, 0.019850149162384964, 0.2328536203997584, 9.295498794141419e-05, 0.011328233998761657, 0.29676526393736696, 0.011924773376329776, 0.049730412971777306, 0.28402864226938196, 1.2211698195009701, 0.08751604388028549, 2.013142445005609, 0.002414253557914732, 0.015425097541057978, 1.9357703122687582, 0.17016347236391796, 0.016046059254362838, 0.07409783684735347, 0.011368099047146607, 0.5026534597838216, 0.07068828011460566, 0.009694729944802005, 0.02844082296003944, 0.4949212057130719, 0.006870273310830418, 0.006198337271506287, 0.0019097520620981927, 0.2985391756871158, 0.35940542875222287, 0.0009037907148838954, 0.004365640842371933, 0.004182989833813617, 0.008346176371974691, 0.00901843149502594, 0.18293671635730946, 0.0005804816916659611, 0.041718848843037004, 0.2511691722496171, 0.37271699947866654, 0.021366660298222914, 0.4616974923690147, 0.008469021768814821, 0.00033912357176249904, 0.0043857065845880625, 0.00031858122207479764, 0.022338568935427575, 0.019739085183124876, 0.0004915927136060184, 0.00016621628977815528, 0.004698867833900243, 0.0026871633514135105, 0.05506029155278025, 0.004581267438563055, 0.006614023197422428, 0.0011090773097865868, 0.0003758262136636452, 0.006784177155126551, 0.0003858170350897838, 0.1165722084273177, 0.001321603898491209, 0.01899825257830681, 4.743535983515264e-05], \"type\": \"choropleth\", \"z\": [0, 0, 0, 0, 0, 0, 0, 0, 0, 0, 0, 0, 0, 0, 0, 0, 0, 0, 0, 0, 0, 0, 0, 0, 0, 0, 0, 0, 0, 0, 0, 1, 0, 0, 0, 0, 0, 0, 0, 0, 0, 0, 0, 0, 0, 0, 0, 0, 0, 0, 0, 0, 0, 0, 0, 0, 0, 0, 0, 1, 0, 0, 0, 0, 0, 0, 0, 0, 0, 0, 0, 0, 0, 0, 0, 0, 0, 0, 0, 0, 0, 0, 0, 0, 0, 0, 0, 0, 0, 0, 0, 0, 0, 0, 0, 0, 0, 0, 0, 0, 0, 0, 0, 0, 0, 0, 0, 0, 0, 0, 0, 0, 0, 0, 0, 0, 0, 0, 0, 0, 0, 0, 0, 0, 0, 0, 0, 0, 0, 0, 0, 0, 0, 0, 0, 0, 0, 0, 0, 0, 0, 0, 0, 0, 0, 0, 0, 0, 0, 0, 0, 0, 0, 0, 0, 0, 0, 0]}],\n",
       "                        {\"geo\": {\"projection\": {\"type\": \"mercator\"}, \"showframe\": false}, \"template\": {\"data\": {\"bar\": [{\"error_x\": {\"color\": \"#2a3f5f\"}, \"error_y\": {\"color\": \"#2a3f5f\"}, \"marker\": {\"line\": {\"color\": \"#E5ECF6\", \"width\": 0.5}}, \"type\": \"bar\"}], \"barpolar\": [{\"marker\": {\"line\": {\"color\": \"#E5ECF6\", \"width\": 0.5}}, \"type\": \"barpolar\"}], \"carpet\": [{\"aaxis\": {\"endlinecolor\": \"#2a3f5f\", \"gridcolor\": \"white\", \"linecolor\": \"white\", \"minorgridcolor\": \"white\", \"startlinecolor\": \"#2a3f5f\"}, \"baxis\": {\"endlinecolor\": \"#2a3f5f\", \"gridcolor\": \"white\", \"linecolor\": \"white\", \"minorgridcolor\": \"white\", \"startlinecolor\": \"#2a3f5f\"}, \"type\": \"carpet\"}], \"choropleth\": [{\"colorbar\": {\"outlinewidth\": 0, \"ticks\": \"\"}, \"type\": \"choropleth\"}], \"contour\": [{\"colorbar\": {\"outlinewidth\": 0, \"ticks\": \"\"}, \"colorscale\": [[0.0, \"#0d0887\"], [0.1111111111111111, \"#46039f\"], [0.2222222222222222, \"#7201a8\"], [0.3333333333333333, \"#9c179e\"], [0.4444444444444444, \"#bd3786\"], [0.5555555555555556, \"#d8576b\"], [0.6666666666666666, \"#ed7953\"], [0.7777777777777778, \"#fb9f3a\"], [0.8888888888888888, \"#fdca26\"], [1.0, \"#f0f921\"]], \"type\": \"contour\"}], \"contourcarpet\": [{\"colorbar\": {\"outlinewidth\": 0, \"ticks\": \"\"}, \"type\": \"contourcarpet\"}], \"heatmap\": [{\"colorbar\": {\"outlinewidth\": 0, \"ticks\": \"\"}, \"colorscale\": [[0.0, \"#0d0887\"], [0.1111111111111111, \"#46039f\"], [0.2222222222222222, \"#7201a8\"], [0.3333333333333333, \"#9c179e\"], [0.4444444444444444, \"#bd3786\"], [0.5555555555555556, \"#d8576b\"], [0.6666666666666666, \"#ed7953\"], [0.7777777777777778, \"#fb9f3a\"], [0.8888888888888888, \"#fdca26\"], [1.0, \"#f0f921\"]], \"type\": \"heatmap\"}], \"heatmapgl\": [{\"colorbar\": {\"outlinewidth\": 0, \"ticks\": \"\"}, \"colorscale\": [[0.0, \"#0d0887\"], [0.1111111111111111, \"#46039f\"], [0.2222222222222222, \"#7201a8\"], [0.3333333333333333, \"#9c179e\"], [0.4444444444444444, \"#bd3786\"], [0.5555555555555556, \"#d8576b\"], [0.6666666666666666, \"#ed7953\"], [0.7777777777777778, \"#fb9f3a\"], [0.8888888888888888, \"#fdca26\"], [1.0, \"#f0f921\"]], \"type\": \"heatmapgl\"}], \"histogram\": [{\"marker\": {\"colorbar\": {\"outlinewidth\": 0, \"ticks\": \"\"}}, \"type\": \"histogram\"}], \"histogram2d\": [{\"colorbar\": {\"outlinewidth\": 0, \"ticks\": \"\"}, \"colorscale\": [[0.0, \"#0d0887\"], [0.1111111111111111, \"#46039f\"], [0.2222222222222222, \"#7201a8\"], [0.3333333333333333, \"#9c179e\"], [0.4444444444444444, \"#bd3786\"], [0.5555555555555556, \"#d8576b\"], [0.6666666666666666, \"#ed7953\"], [0.7777777777777778, \"#fb9f3a\"], [0.8888888888888888, \"#fdca26\"], [1.0, \"#f0f921\"]], \"type\": \"histogram2d\"}], \"histogram2dcontour\": [{\"colorbar\": {\"outlinewidth\": 0, \"ticks\": \"\"}, \"colorscale\": [[0.0, \"#0d0887\"], [0.1111111111111111, \"#46039f\"], [0.2222222222222222, \"#7201a8\"], [0.3333333333333333, \"#9c179e\"], [0.4444444444444444, \"#bd3786\"], [0.5555555555555556, \"#d8576b\"], [0.6666666666666666, \"#ed7953\"], [0.7777777777777778, \"#fb9f3a\"], [0.8888888888888888, \"#fdca26\"], [1.0, \"#f0f921\"]], \"type\": \"histogram2dcontour\"}], \"mesh3d\": [{\"colorbar\": {\"outlinewidth\": 0, \"ticks\": \"\"}, \"type\": \"mesh3d\"}], \"parcoords\": [{\"line\": {\"colorbar\": {\"outlinewidth\": 0, \"ticks\": \"\"}}, \"type\": \"parcoords\"}], \"pie\": [{\"automargin\": true, \"type\": \"pie\"}], \"scatter\": [{\"marker\": {\"colorbar\": {\"outlinewidth\": 0, \"ticks\": \"\"}}, \"type\": \"scatter\"}], \"scatter3d\": [{\"line\": {\"colorbar\": {\"outlinewidth\": 0, \"ticks\": \"\"}}, \"marker\": {\"colorbar\": {\"outlinewidth\": 0, \"ticks\": \"\"}}, \"type\": \"scatter3d\"}], \"scattercarpet\": [{\"marker\": {\"colorbar\": {\"outlinewidth\": 0, \"ticks\": \"\"}}, \"type\": \"scattercarpet\"}], \"scattergeo\": [{\"marker\": {\"colorbar\": {\"outlinewidth\": 0, \"ticks\": \"\"}}, \"type\": \"scattergeo\"}], \"scattergl\": [{\"marker\": {\"colorbar\": {\"outlinewidth\": 0, \"ticks\": \"\"}}, \"type\": \"scattergl\"}], \"scattermapbox\": [{\"marker\": {\"colorbar\": {\"outlinewidth\": 0, \"ticks\": \"\"}}, \"type\": \"scattermapbox\"}], \"scatterpolar\": [{\"marker\": {\"colorbar\": {\"outlinewidth\": 0, \"ticks\": \"\"}}, \"type\": \"scatterpolar\"}], \"scatterpolargl\": [{\"marker\": {\"colorbar\": {\"outlinewidth\": 0, \"ticks\": \"\"}}, \"type\": \"scatterpolargl\"}], \"scatterternary\": [{\"marker\": {\"colorbar\": {\"outlinewidth\": 0, \"ticks\": \"\"}}, \"type\": \"scatterternary\"}], \"surface\": [{\"colorbar\": {\"outlinewidth\": 0, \"ticks\": \"\"}, \"colorscale\": [[0.0, \"#0d0887\"], [0.1111111111111111, \"#46039f\"], [0.2222222222222222, \"#7201a8\"], [0.3333333333333333, \"#9c179e\"], [0.4444444444444444, \"#bd3786\"], [0.5555555555555556, \"#d8576b\"], [0.6666666666666666, \"#ed7953\"], [0.7777777777777778, \"#fb9f3a\"], [0.8888888888888888, \"#fdca26\"], [1.0, \"#f0f921\"]], \"type\": \"surface\"}], \"table\": [{\"cells\": {\"fill\": {\"color\": \"#EBF0F8\"}, \"line\": {\"color\": \"white\"}}, \"header\": {\"fill\": {\"color\": \"#C8D4E3\"}, \"line\": {\"color\": \"white\"}}, \"type\": \"table\"}]}, \"layout\": {\"annotationdefaults\": {\"arrowcolor\": \"#2a3f5f\", \"arrowhead\": 0, \"arrowwidth\": 1}, \"coloraxis\": {\"colorbar\": {\"outlinewidth\": 0, \"ticks\": \"\"}}, \"colorscale\": {\"diverging\": [[0, \"#8e0152\"], [0.1, \"#c51b7d\"], [0.2, \"#de77ae\"], [0.3, \"#f1b6da\"], [0.4, \"#fde0ef\"], [0.5, \"#f7f7f7\"], [0.6, \"#e6f5d0\"], [0.7, \"#b8e186\"], [0.8, \"#7fbc41\"], [0.9, \"#4d9221\"], [1, \"#276419\"]], \"sequential\": [[0.0, \"#0d0887\"], [0.1111111111111111, \"#46039f\"], [0.2222222222222222, \"#7201a8\"], [0.3333333333333333, \"#9c179e\"], [0.4444444444444444, \"#bd3786\"], [0.5555555555555556, \"#d8576b\"], [0.6666666666666666, \"#ed7953\"], [0.7777777777777778, \"#fb9f3a\"], [0.8888888888888888, \"#fdca26\"], [1.0, \"#f0f921\"]], \"sequentialminus\": [[0.0, \"#0d0887\"], [0.1111111111111111, \"#46039f\"], [0.2222222222222222, \"#7201a8\"], [0.3333333333333333, \"#9c179e\"], [0.4444444444444444, \"#bd3786\"], [0.5555555555555556, \"#d8576b\"], [0.6666666666666666, \"#ed7953\"], [0.7777777777777778, \"#fb9f3a\"], [0.8888888888888888, \"#fdca26\"], [1.0, \"#f0f921\"]]}, \"colorway\": [\"#636efa\", \"#EF553B\", \"#00cc96\", \"#ab63fa\", \"#FFA15A\", \"#19d3f3\", \"#FF6692\", \"#B6E880\", \"#FF97FF\", \"#FECB52\"], \"font\": {\"color\": \"#2a3f5f\"}, \"geo\": {\"bgcolor\": \"white\", \"lakecolor\": \"white\", \"landcolor\": \"#E5ECF6\", \"showlakes\": true, \"showland\": true, \"subunitcolor\": \"white\"}, \"hoverlabel\": {\"align\": \"left\"}, \"hovermode\": \"closest\", \"mapbox\": {\"style\": \"light\"}, \"paper_bgcolor\": \"white\", \"plot_bgcolor\": \"#E5ECF6\", \"polar\": {\"angularaxis\": {\"gridcolor\": \"white\", \"linecolor\": \"white\", \"ticks\": \"\"}, \"bgcolor\": \"#E5ECF6\", \"radialaxis\": {\"gridcolor\": \"white\", \"linecolor\": \"white\", \"ticks\": \"\"}}, \"scene\": {\"xaxis\": {\"backgroundcolor\": \"#E5ECF6\", \"gridcolor\": \"white\", \"gridwidth\": 2, \"linecolor\": \"white\", \"showbackground\": true, \"ticks\": \"\", \"zerolinecolor\": \"white\"}, \"yaxis\": {\"backgroundcolor\": \"#E5ECF6\", \"gridcolor\": \"white\", \"gridwidth\": 2, \"linecolor\": \"white\", \"showbackground\": true, \"ticks\": \"\", \"zerolinecolor\": \"white\"}, \"zaxis\": {\"backgroundcolor\": \"#E5ECF6\", \"gridcolor\": \"white\", \"gridwidth\": 2, \"linecolor\": \"white\", \"showbackground\": true, \"ticks\": \"\", \"zerolinecolor\": \"white\"}}, \"shapedefaults\": {\"line\": {\"color\": \"#2a3f5f\"}}, \"ternary\": {\"aaxis\": {\"gridcolor\": \"white\", \"linecolor\": \"white\", \"ticks\": \"\"}, \"baxis\": {\"gridcolor\": \"white\", \"linecolor\": \"white\", \"ticks\": \"\"}, \"bgcolor\": \"#E5ECF6\", \"caxis\": {\"gridcolor\": \"white\", \"linecolor\": \"white\", \"ticks\": \"\"}}, \"title\": {\"x\": 0.05}, \"xaxis\": {\"automargin\": true, \"gridcolor\": \"white\", \"linecolor\": \"white\", \"ticks\": \"\", \"title\": {\"standoff\": 15}, \"zerolinecolor\": \"white\", \"zerolinewidth\": 2}, \"yaxis\": {\"automargin\": true, \"gridcolor\": \"white\", \"linecolor\": \"white\", \"ticks\": \"\", \"title\": {\"standoff\": 15}, \"zerolinecolor\": \"white\", \"zerolinewidth\": 2}}}, \"title\": {\"text\": \"Clustering of Countries based on K-Means\"}},\n",
       "                        {\"responsive\": true}\n",
       "                    ).then(function(){\n",
       "                            \n",
       "var gd = document.getElementById('e482dd7d-3831-4bbe-8175-f405204ce233');\n",
       "var x = new MutationObserver(function (mutations, observer) {{\n",
       "        var display = window.getComputedStyle(gd).display;\n",
       "        if (!display || display === 'none') {{\n",
       "            console.log([gd, 'removed!']);\n",
       "            Plotly.purge(gd);\n",
       "            observer.disconnect();\n",
       "        }}\n",
       "}});\n",
       "\n",
       "// Listen for the removal of the full notebook cells\n",
       "var notebookContainer = gd.closest('#notebook-container');\n",
       "if (notebookContainer) {{\n",
       "    x.observe(notebookContainer, {childList: true});\n",
       "}}\n",
       "\n",
       "// Listen for the clearing of the current output cell\n",
       "var outputEl = gd.closest('.output');\n",
       "if (outputEl) {{\n",
       "    x.observe(outputEl, {childList: true});\n",
       "}}\n",
       "\n",
       "                        })\n",
       "                };\n",
       "                });\n",
       "            </script>\n",
       "        </div>"
      ]
     },
     "metadata": {},
     "output_type": "display_data"
    }
   ],
   "source": [
    "#Карта кластеризации( k-средних)\n",
    "df_cl_1.insert(0,'country',df_cl.iloc[:,0])\n",
    "df_cl_1.iloc[:,[0,1,2,3,4,5]]\n",
    "data = [dict(type='choropleth',\n",
    "             locations = df_cl_1['country'],\n",
    "             locationmode = 'country names',\n",
    "             z = df_cl_1['kmeans'],\n",
    "             text = df_cl_1['country'],\n",
    "             colorbar = {'title':'Cluster Group'})]\n",
    "layout = dict(title='Clustering of Countries based on K-Means',\n",
    "              geo=dict(showframe = False,\n",
    "                       projection = {'type':'mercator'}))\n",
    "map1 = go.Figure(data = data, layout=layout)\n",
    "iplot(map1)"
   ]
  },
  {
   "cell_type": "code",
   "execution_count": 542,
   "metadata": {},
   "outputs": [],
   "source": [
    "def do_agglomerative(X, nclust=2):\n",
    "    model = AgglomerativeClustering(n_clusters=nclust, affinity = 'euclidean', linkage = 'ward')\n",
    "    clust_labels1 = model.fit_predict(X)\n",
    "    return (clust_labels1)"
   ]
  },
  {
   "cell_type": "code",
   "execution_count": 549,
   "metadata": {},
   "outputs": [],
   "source": [
    "df_cl = pd.DataFrame(countries_with_gdp_and_capita)\n",
    "df_cl_1 = df_cl[['gdp','per_capita','population','conf_to_pop', 'dead_to_pop']]"
   ]
  },
  {
   "cell_type": "code",
   "execution_count": 550,
   "metadata": {
    "scrolled": false
   },
   "outputs": [],
   "source": [
    "scaler = StandardScaler()\n",
    "s= scaler.fit_transform(df_cl_1)"
   ]
  },
  {
   "cell_type": "code",
   "execution_count": 551,
   "metadata": {},
   "outputs": [],
   "source": [
    "clust_labels1 = do_agglomerative(df_cl_1, 2)\n",
    "agglomerative = pd.DataFrame(clust_labels1)\n",
    "df_cl_1.insert((df_cl_1.shape[1]),'agglomerative',agglomerative)"
   ]
  },
  {
   "cell_type": "code",
   "execution_count": 552,
   "metadata": {},
   "outputs": [
    {
     "data": {
      "image/png": "[encoded data removed]",
      "text/plain": [
       "<Figure size 432x288 with 2 Axes>"
      ]
     },
     "metadata": {},
     "output_type": "display_data"
    }
   ],
   "source": [
    "#Агломеративная_кластеризация\n",
    "plot_clusterization(df_cl_1,agglomerative, \"per_capita\" , \"dead_to_pop\", \"Агломеративная кластеризация\")"
   ]
  },
  {
   "cell_type": "code",
   "execution_count": 553,
   "metadata": {
    "scrolled": false
   },
   "outputs": [
    {
     "data": {
      "application/vnd.plotly.v1+json": {
       "config": {
        "linkText": "Export to plot.ly",
        "plotlyServerURL": "https://plot.ly",
        "showLink": false
       },
       "data": [
        {
         "colorbar": {
          "title": {
           "text": "Cluster Group"
          }
         },
         "locationmode": "country names",
         "locations": [
          0.019024875077967823,
          0.03307312090249151,
          0.017052493238618942,
          0.9882346830117134,
          0.0001622862260344627,
          0.025964314645950604,
          0.01881356038101067,
          0.16339315720434072,
          0.028291591361185794,
          0.1840276155670011,
          0.034075132296424476,
          0.4577431808436008,
          0.014793372561655409,
          0.030700423177424024,
          0.322370466849841,
          0.48594206234864334,
          0.002951663763181486,
          0.0027836912806835684,
          0.03754907672254958,
          0.06931555998939809,
          0.1219118791006987,
          0.0328700444328402,
          0.03181477905383274,
          0.004030066523943582,
          0.002271622626968122,
          0.0007507785635242973,
          0.013994950951642784,
          0.21428977165784285,
          0.007007577827509436,
          0.0033532003454507056,
          0.24592133336465705,
          0.00603584327184738,
          0.03282060743401361,
          0.017321936592511043,
          0.01467551325166296,
          0.05450307166884834,
          0.07710644810029724,
          0.19272871129632582,
          0.11974030703390791,
          0.1965657823703871,
          0.02200679547416935,
          0.054928516532795915,
          0.1349493977580548,
          0.0003222718436427837,
          0.00012466221733361646,
          0.11567348529831702,
          0.26882468960625605,
          0.06757027757133925,
          0.018810969612904592,
          0.21295378409192256,
          0.019266231707829998,
          0.026426317630547033,
          0.01108546727128846,
          0.022522381011989542,
          0.01591776165462565,
          0.004791796875280945,
          0.02918376614937624,
          0.03616159640507698,
          0.5108853739924756,
          0.007417323283026876,
          0.006728599294856991,
          0.0092471171058657,
          0.4971946510895445,
          0.1873620930337281,
          0.3738487591225413,
          0.017718081472508865,
          0.01288636369024991,
          0.0063177913322916175,
          0.036946372212125045,
          0.0017745603925514385,
          0.3792561783516774,
          0.019231985829063075,
          0.052356455618434036,
          0.013593374142657424,
          0.004752045921779664,
          0.05521957007263498,
          0.6492310222880171,
          0.0012260889802473258,
          0.022014942947804348,
          0.21446743818063352,
          0.11513938468522378,
          0.0018395215063909747,
          0.02623877442794335,
          0.04091661587849028,
          0.2268251609634563,
          0.004416114021540542,
          0.0513292533969985,
          0.01929549355302367,
          0.0006535266955443775,
          0.0013350958497352825,
          0.2573233956358379,
          0.030964676719686016,
          0.0003866669203201664,
          0.0040502700447374385,
          0.00315252492485759,
          0.155442970107208,
          0.11137838149549342,
          0.019850149162384964,
          0.2328536203997584,
          9.295498794141419e-05,
          0.011328233998761657,
          0.29676526393736696,
          0.011924773376329776,
          0.049730412971777306,
          0.28402864226938196,
          1.2211698195009701,
          0.08751604388028549,
          2.013142445005609,
          0.002414253557914732,
          0.015425097541057978,
          1.9357703122687582,
          0.17016347236391796,
          0.016046059254362838,
          0.07409783684735347,
          0.011368099047146607,
          0.5026534597838216,
          0.07068828011460566,
          0.009694729944802005,
          0.02844082296003944,
          0.4949212057130719,
          0.006870273310830418,
          0.006198337271506287,
          0.0019097520620981927,
          0.2985391756871158,
          0.35940542875222287,
          0.0009037907148838954,
          0.004365640842371933,
          0.004182989833813617,
          0.008346176371974691,
          0.00901843149502594,
          0.18293671635730946,
          0.0005804816916659611,
          0.041718848843037004,
          0.2511691722496171,
          0.37271699947866654,
          0.021366660298222914,
          0.4616974923690147,
          0.008469021768814821,
          0.00033912357176249904,
          0.0043857065845880625,
          0.00031858122207479764,
          0.022338568935427575,
          0.019739085183124876,
          0.0004915927136060184,
          0.00016621628977815528,
          0.004698867833900243,
          0.0026871633514135105,
          0.05506029155278025,
          0.004581267438563055,
          0.006614023197422428,
          0.0011090773097865868,
          0.0003758262136636452,
          0.006784177155126551,
          0.0003858170350897838,
          0.1165722084273177,
          0.001321603898491209,
          0.01899825257830681,
          4.743535983515264e-05
         ],
         "text": [
          0.019024875077967823,
          0.03307312090249151,
          0.017052493238618942,
          0.9882346830117134,
          0.0001622862260344627,
          0.025964314645950604,
          0.01881356038101067,
          0.16339315720434072,
          0.028291591361185794,
          0.1840276155670011,
          0.034075132296424476,
          0.4577431808436008,
          0.014793372561655409,
          0.030700423177424024,
          0.322370466849841,
          0.48594206234864334,
          0.002951663763181486,
          0.0027836912806835684,
          0.03754907672254958,
          0.06931555998939809,
          0.1219118791006987,
          0.0328700444328402,
          0.03181477905383274,
          0.004030066523943582,
          0.002271622626968122,
          0.0007507785635242973,
          0.013994950951642784,
          0.21428977165784285,
          0.007007577827509436,
          0.0033532003454507056,
          0.24592133336465705,
          0.00603584327184738,
          0.03282060743401361,
          0.017321936592511043,
          0.01467551325166296,
          0.05450307166884834,
          0.07710644810029724,
          0.19272871129632582,
          0.11974030703390791,
          0.1965657823703871,
          0.02200679547416935,
          0.054928516532795915,
          0.1349493977580548,
          0.0003222718436427837,
          0.00012466221733361646,
          0.11567348529831702,
          0.26882468960625605,
          0.06757027757133925,
          0.018810969612904592,
          0.21295378409192256,
          0.019266231707829998,
          0.026426317630547033,
          0.01108546727128846,
          0.022522381011989542,
          0.01591776165462565,
          0.004791796875280945,
          0.02918376614937624,
          0.03616159640507698,
          0.5108853739924756,
          0.007417323283026876,
          0.006728599294856991,
          0.0092471171058657,
          0.4971946510895445,
          0.1873620930337281,
          0.3738487591225413,
          0.017718081472508865,
          0.01288636369024991,
          0.0063177913322916175,
          0.036946372212125045,
          0.0017745603925514385,
          0.3792561783516774,
          0.019231985829063075,
          0.052356455618434036,
          0.013593374142657424,
          0.004752045921779664,
          0.05521957007263498,
          0.6492310222880171,
          0.0012260889802473258,
          0.022014942947804348,
          0.21446743818063352,
          0.11513938468522378,
          0.0018395215063909747,
          0.02623877442794335,
          0.04091661587849028,
          0.2268251609634563,
          0.004416114021540542,
          0.0513292533969985,
          0.01929549355302367,
          0.0006535266955443775,
          0.0013350958497352825,
          0.2573233956358379,
          0.030964676719686016,
          0.0003866669203201664,
          0.0040502700447374385,
          0.00315252492485759,
          0.155442970107208,
          0.11137838149549342,
          0.019850149162384964,
          0.2328536203997584,
          9.295498794141419e-05,
          0.011328233998761657,
          0.29676526393736696,
          0.011924773376329776,
          0.049730412971777306,
          0.28402864226938196,
          1.2211698195009701,
          0.08751604388028549,
          2.013142445005609,
          0.002414253557914732,
          0.015425097541057978,
          1.9357703122687582,
          0.17016347236391796,
          0.016046059254362838,
          0.07409783684735347,
          0.011368099047146607,
          0.5026534597838216,
          0.07068828011460566,
          0.009694729944802005,
          0.02844082296003944,
          0.4949212057130719,
          0.006870273310830418,
          0.006198337271506287,
          0.0019097520620981927,
          0.2985391756871158,
          0.35940542875222287,
          0.0009037907148838954,
          0.004365640842371933,
          0.004182989833813617,
          0.008346176371974691,
          0.00901843149502594,
          0.18293671635730946,
          0.0005804816916659611,
          0.041718848843037004,
          0.2511691722496171,
          0.37271699947866654,
          0.021366660298222914,
          0.4616974923690147,
          0.008469021768814821,
          0.00033912357176249904,
          0.0043857065845880625,
          0.00031858122207479764,
          0.022338568935427575,
          0.019739085183124876,
          0.0004915927136060184,
          0.00016621628977815528,
          0.004698867833900243,
          0.0026871633514135105,
          0.05506029155278025,
          0.004581267438563055,
          0.006614023197422428,
          0.0011090773097865868,
          0.0003758262136636452,
          0.006784177155126551,
          0.0003858170350897838,
          0.1165722084273177,
          0.001321603898491209,
          0.01899825257830681,
          4.743535983515264e-05
         ],
         "type": "choropleth",
         "z": [
          0,
          0,
          0,
          0,
          0,
          0,
          0,
          0,
          0,
          0,
          0,
          0,
          0,
          0,
          0,
          0,
          0,
          0,
          0,
          0,
          0,
          0,
          0,
          0,
          0,
          0,
          0,
          0,
          0,
          0,
          0,
          1,
          0,
          0,
          0,
          0,
          0,
          0,
          0,
          0,
          0,
          0,
          0,
          0,
          0,
          0,
          0,
          0,
          0,
          0,
          0,
          0,
          0,
          0,
          0,
          0,
          0,
          0,
          0,
          1,
          0,
          0,
          0,
          0,
          0,
          0,
          0,
          0,
          0,
          0,
          0,
          0,
          0,
          0,
          0,
          0,
          0,
          0,
          0,
          0,
          0,
          0,
          0,
          0,
          0,
          0,
          0,
          0,
          0,
          0,
          0,
          0,
          0,
          0,
          0,
          0,
          0,
          0,
          0,
          0,
          0,
          0,
          0,
          0,
          0,
          0,
          0,
          0,
          0,
          0,
          0,
          0,
          0,
          0,
          0,
          0,
          0,
          0,
          0,
          0,
          0,
          0,
          0,
          0,
          0,
          0,
          0,
          0,
          0,
          0,
          0,
          0,
          0,
          0,
          0,
          0,
          0,
          0,
          0,
          0,
          0,
          0,
          0,
          0,
          0,
          0,
          0,
          0,
          0,
          0,
          0,
          0,
          0,
          0,
          0,
          0,
          0,
          0
         ]
        }
       ],
       "layout": {
        "geo": {
         "projection": {
          "type": "mercator"
         },
         "showframe": false
        },
        "template": {
         "data": {
          "bar": [
           {
            "error_x": {
             "color": "#2a3f5f"
            },
            "error_y": {
             "color": "#2a3f5f"
            },
            "marker": {
             "line": {
              "color": "#E5ECF6",
              "width": 0.5
             }
            },
            "type": "bar"
           }
          ],
          "barpolar": [
           {
            "marker": {
             "line": {
              "color": "#E5ECF6",
              "width": 0.5
             }
            },
            "type": "barpolar"
           }
          ],
          "carpet": [
           {
            "aaxis": {
             "endlinecolor": "#2a3f5f",
             "gridcolor": "white",
             "linecolor": "white",
             "minorgridcolor": "white",
             "startlinecolor": "#2a3f5f"
            },
            "baxis": {
             "endlinecolor": "#2a3f5f",
             "gridcolor": "white",
             "linecolor": "white",
             "minorgridcolor": "white",
             "startlinecolor": "#2a3f5f"
            },
            "type": "carpet"
           }
          ],
          "choropleth": [
           {
            "colorbar": {
             "outlinewidth": 0,
             "ticks": ""
            },
            "type": "choropleth"
           }
          ],
          "contour": [
           {
            "colorbar": {
             "outlinewidth": 0,
             "ticks": ""
            },
            "colorscale": [
             [
              0,
              "#0d0887"
             ],
             [
              0.1111111111111111,
              "#46039f"
             ],
             [
              0.2222222222222222,
              "#7201a8"
             ],
             [
              0.3333333333333333,
              "#9c179e"
             ],
             [
              0.4444444444444444,
              "#bd3786"
             ],
             [
              0.5555555555555556,
              "#d8576b"
             ],
             [
              0.6666666666666666,
              "#ed7953"
             ],
             [
              0.7777777777777778,
              "#fb9f3a"
             ],
             [
              0.8888888888888888,
              "#fdca26"
             ],
             [
              1,
              "#f0f921"
             ]
            ],
            "type": "contour"
           }
          ],
          "contourcarpet": [
           {
            "colorbar": {
             "outlinewidth": 0,
             "ticks": ""
            },
            "type": "contourcarpet"
           }
          ],
          "heatmap": [
           {
            "colorbar": {
             "outlinewidth": 0,
             "ticks": ""
            },
            "colorscale": [
             [
              0,
              "#0d0887"
             ],
             [
              0.1111111111111111,
              "#46039f"
             ],
             [
              0.2222222222222222,
              "#7201a8"
             ],
             [
              0.3333333333333333,
              "#9c179e"
             ],
             [
              0.4444444444444444,
              "#bd3786"
             ],
             [
              0.5555555555555556,
              "#d8576b"
             ],
             [
              0.6666666666666666,
              "#ed7953"
             ],
             [
              0.7777777777777778,
              "#fb9f3a"
             ],
             [
              0.8888888888888888,
              "#fdca26"
             ],
             [
              1,
              "#f0f921"
             ]
            ],
            "type": "heatmap"
           }
          ],
          "heatmapgl": [
           {
            "colorbar": {
             "outlinewidth": 0,
             "ticks": ""
            },
            "colorscale": [
             [
              0,
              "#0d0887"
             ],
             [
              0.1111111111111111,
              "#46039f"
             ],
             [
              0.2222222222222222,
              "#7201a8"
             ],
             [
              0.3333333333333333,
              "#9c179e"
             ],
             [
              0.4444444444444444,
              "#bd3786"
             ],
             [
              0.5555555555555556,
              "#d8576b"
             ],
             [
              0.6666666666666666,
              "#ed7953"
             ],
             [
              0.7777777777777778,
              "#fb9f3a"
             ],
             [
              0.8888888888888888,
              "#fdca26"
             ],
             [
              1,
              "#f0f921"
             ]
            ],
            "type": "heatmapgl"
           }
          ],
          "histogram": [
           {
            "marker": {
             "colorbar": {
              "outlinewidth": 0,
              "ticks": ""
             }
            },
            "type": "histogram"
           }
          ],
          "histogram2d": [
           {
            "colorbar": {
             "outlinewidth": 0,
             "ticks": ""
            },
            "colorscale": [
             [
              0,
              "#0d0887"
             ],
             [
              0.1111111111111111,
              "#46039f"
             ],
             [
              0.2222222222222222,
              "#7201a8"
             ],
             [
              0.3333333333333333,
              "#9c179e"
             ],
             [
              0.4444444444444444,
              "#bd3786"
             ],
             [
              0.5555555555555556,
              "#d8576b"
             ],
             [
              0.6666666666666666,
              "#ed7953"
             ],
             [
              0.7777777777777778,
              "#fb9f3a"
             ],
             [
              0.8888888888888888,
              "#fdca26"
             ],
             [
              1,
              "#f0f921"
             ]
            ],
            "type": "histogram2d"
           }
          ],
          "histogram2dcontour": [
           {
            "colorbar": {
             "outlinewidth": 0,
             "ticks": ""
            },
            "colorscale": [
             [
              0,
              "#0d0887"
             ],
             [
              0.1111111111111111,
              "#46039f"
             ],
             [
              0.2222222222222222,
              "#7201a8"
             ],
             [
              0.3333333333333333,
              "#9c179e"
             ],
             [
              0.4444444444444444,
              "#bd3786"
             ],
             [
              0.5555555555555556,
              "#d8576b"
             ],
             [
              0.6666666666666666,
              "#ed7953"
             ],
             [
              0.7777777777777778,
              "#fb9f3a"
             ],
             [
              0.8888888888888888,
              "#fdca26"
             ],
             [
              1,
              "#f0f921"
             ]
            ],
            "type": "histogram2dcontour"
           }
          ],
          "mesh3d": [
           {
            "colorbar": {
             "outlinewidth": 0,
             "ticks": ""
            },
            "type": "mesh3d"
           }
          ],
          "parcoords": [
           {
            "line": {
             "colorbar": {
              "outlinewidth": 0,
              "ticks": ""
             }
            },
            "type": "parcoords"
           }
          ],
          "pie": [
           {
            "automargin": true,
            "type": "pie"
           }
          ],
          "scatter": [
           {
            "marker": {
             "colorbar": {
              "outlinewidth": 0,
              "ticks": ""
             }
            },
            "type": "scatter"
           }
          ],
          "scatter3d": [
           {
            "line": {
             "colorbar": {
              "outlinewidth": 0,
              "ticks": ""
             }
            },
            "marker": {
             "colorbar": {
              "outlinewidth": 0,
              "ticks": ""
             }
            },
            "type": "scatter3d"
           }
          ],
          "scattercarpet": [
           {
            "marker": {
             "colorbar": {
              "outlinewidth": 0,
              "ticks": ""
             }
            },
            "type": "scattercarpet"
           }
          ],
          "scattergeo": [
           {
            "marker": {
             "colorbar": {
              "outlinewidth": 0,
              "ticks": ""
             }
            },
            "type": "scattergeo"
           }
          ],
          "scattergl": [
           {
            "marker": {
             "colorbar": {
              "outlinewidth": 0,
              "ticks": ""
             }
            },
            "type": "scattergl"
           }
          ],
          "scattermapbox": [
           {
            "marker": {
             "colorbar": {
              "outlinewidth": 0,
              "ticks": ""
             }
            },
            "type": "scattermapbox"
           }
          ],
          "scatterpolar": [
           {
            "marker": {
             "colorbar": {
              "outlinewidth": 0,
              "ticks": ""
             }
            },
            "type": "scatterpolar"
           }
          ],
          "scatterpolargl": [
           {
            "marker": {
             "colorbar": {
              "outlinewidth": 0,
              "ticks": ""
             }
            },
            "type": "scatterpolargl"
           }
          ],
          "scatterternary": [
           {
            "marker": {
             "colorbar": {
              "outlinewidth": 0,
              "ticks": ""
             }
            },
            "type": "scatterternary"
           }
          ],
          "surface": [
           {
            "colorbar": {
             "outlinewidth": 0,
             "ticks": ""
            },
            "colorscale": [
             [
              0,
              "#0d0887"
             ],
             [
              0.1111111111111111,
              "#46039f"
             ],
             [
              0.2222222222222222,
              "#7201a8"
             ],
             [
              0.3333333333333333,
              "#9c179e"
             ],
             [
              0.4444444444444444,
              "#bd3786"
             ],
             [
              0.5555555555555556,
              "#d8576b"
             ],
             [
              0.6666666666666666,
              "#ed7953"
             ],
             [
              0.7777777777777778,
              "#fb9f3a"
             ],
             [
              0.8888888888888888,
              "#fdca26"
             ],
             [
              1,
              "#f0f921"
             ]
            ],
            "type": "surface"
           }
          ],
          "table": [
           {
            "cells": {
             "fill": {
              "color": "#EBF0F8"
             },
             "line": {
              "color": "white"
             }
            },
            "header": {
             "fill": {
              "color": "#C8D4E3"
             },
             "line": {
              "color": "white"
             }
            },
            "type": "table"
           }
          ]
         },
         "layout": {
          "annotationdefaults": {
           "arrowcolor": "#2a3f5f",
           "arrowhead": 0,
           "arrowwidth": 1
          },
          "coloraxis": {
           "colorbar": {
            "outlinewidth": 0,
            "ticks": ""
           }
          },
          "colorscale": {
           "diverging": [
            [
             0,
             "#8e0152"
            ],
            [
             0.1,
             "#c51b7d"
            ],
            [
             0.2,
             "#de77ae"
            ],
            [
             0.3,
             "#f1b6da"
            ],
            [
             0.4,
             "#fde0ef"
            ],
            [
             0.5,
             "#f7f7f7"
            ],
            [
             0.6,
             "#e6f5d0"
            ],
            [
             0.7,
             "#b8e186"
            ],
            [
             0.8,
             "#7fbc41"
            ],
            [
             0.9,
             "#4d9221"
            ],
            [
             1,
             "#276419"
            ]
           ],
           "sequential": [
            [
             0,
             "#0d0887"
            ],
            [
             0.1111111111111111,
             "#46039f"
            ],
            [
             0.2222222222222222,
             "#7201a8"
            ],
            [
             0.3333333333333333,
             "#9c179e"
            ],
            [
             0.4444444444444444,
             "#bd3786"
            ],
            [
             0.5555555555555556,
             "#d8576b"
            ],
            [
             0.6666666666666666,
             "#ed7953"
            ],
            [
             0.7777777777777778,
             "#fb9f3a"
            ],
            [
             0.8888888888888888,
             "#fdca26"
            ],
            [
             1,
             "#f0f921"
            ]
           ],
           "sequentialminus": [
            [
             0,
             "#0d0887"
            ],
            [
             0.1111111111111111,
             "#46039f"
            ],
            [
             0.2222222222222222,
             "#7201a8"
            ],
            [
             0.3333333333333333,
             "#9c179e"
            ],
            [
             0.4444444444444444,
             "#bd3786"
            ],
            [
             0.5555555555555556,
             "#d8576b"
            ],
            [
             0.6666666666666666,
             "#ed7953"
            ],
            [
             0.7777777777777778,
             "#fb9f3a"
            ],
            [
             0.8888888888888888,
             "#fdca26"
            ],
            [
             1,
             "#f0f921"
            ]
           ]
          },
          "colorway": [
           "#636efa",
           "#EF553B",
           "#00cc96",
           "#ab63fa",
           "#FFA15A",
           "#19d3f3",
           "#FF6692",
           "#B6E880",
           "#FF97FF",
           "#FECB52"
          ],
          "font": {
           "color": "#2a3f5f"
          },
          "geo": {
           "bgcolor": "white",
           "lakecolor": "white",
           "landcolor": "#E5ECF6",
           "showlakes": true,
           "showland": true,
           "subunitcolor": "white"
          },
          "hoverlabel": {
           "align": "left"
          },
          "hovermode": "closest",
          "mapbox": {
           "style": "light"
          },
          "paper_bgcolor": "white",
          "plot_bgcolor": "#E5ECF6",
          "polar": {
           "angularaxis": {
            "gridcolor": "white",
            "linecolor": "white",
            "ticks": ""
           },
           "bgcolor": "#E5ECF6",
           "radialaxis": {
            "gridcolor": "white",
            "linecolor": "white",
            "ticks": ""
           }
          },
          "scene": {
           "xaxis": {
            "backgroundcolor": "#E5ECF6",
            "gridcolor": "white",
            "gridwidth": 2,
            "linecolor": "white",
            "showbackground": true,
            "ticks": "",
            "zerolinecolor": "white"
           },
           "yaxis": {
            "backgroundcolor": "#E5ECF6",
            "gridcolor": "white",
            "gridwidth": 2,
            "linecolor": "white",
            "showbackground": true,
            "ticks": "",
            "zerolinecolor": "white"
           },
           "zaxis": {
            "backgroundcolor": "#E5ECF6",
            "gridcolor": "white",
            "gridwidth": 2,
            "linecolor": "white",
            "showbackground": true,
            "ticks": "",
            "zerolinecolor": "white"
           }
          },
          "shapedefaults": {
           "line": {
            "color": "#2a3f5f"
           }
          },
          "ternary": {
           "aaxis": {
            "gridcolor": "white",
            "linecolor": "white",
            "ticks": ""
           },
           "baxis": {
            "gridcolor": "white",
            "linecolor": "white",
            "ticks": ""
           },
           "bgcolor": "#E5ECF6",
           "caxis": {
            "gridcolor": "white",
            "linecolor": "white",
            "ticks": ""
           }
          },
          "title": {
           "x": 0.05
          },
          "xaxis": {
           "automargin": true,
           "gridcolor": "white",
           "linecolor": "white",
           "ticks": "",
           "title": {
            "standoff": 15
           },
           "zerolinecolor": "white",
           "zerolinewidth": 2
          },
          "yaxis": {
           "automargin": true,
           "gridcolor": "white",
           "linecolor": "white",
           "ticks": "",
           "title": {
            "standoff": 15
           },
           "zerolinecolor": "white",
           "zerolinewidth": 2
          }
         }
        },
        "title": {
         "text": "Grouping of Countries based on Affinity Clustering"
        }
       }
      },
      "text/html": [
       "<div>\n",
       "        \n",
       "        \n",
       "            <div id=\"97e87b02-5940-4165-91b8-a75335fa22ef\" class=\"plotly-graph-div\" style=\"height:525px; width:100%;\"></div>\n",
       "            <script type=\"text/javascript\">\n",
       "                require([\"plotly\"], function(Plotly) {\n",
       "                    window.PLOTLYENV=window.PLOTLYENV || {};\n",
       "                    \n",
       "                if (document.getElementById(\"97e87b02-5940-4165-91b8-a75335fa22ef\")) {\n",
       "                    Plotly.newPlot(\n",
       "                        '97e87b02-5940-4165-91b8-a75335fa22ef',\n",
       "                        [{\"colorbar\": {\"title\": {\"text\": \"Cluster Group\"}}, \"locationmode\": \"country names\", \"locations\": [0.019024875077967823, 0.03307312090249151, 0.017052493238618942, 0.9882346830117134, 0.0001622862260344627, 0.025964314645950604, 0.01881356038101067, 0.16339315720434072, 0.028291591361185794, 0.1840276155670011, 0.034075132296424476, 0.4577431808436008, 0.014793372561655409, 0.030700423177424024, 0.322370466849841, 0.48594206234864334, 0.002951663763181486, 0.0027836912806835684, 0.03754907672254958, 0.06931555998939809, 0.1219118791006987, 0.0328700444328402, 0.03181477905383274, 0.004030066523943582, 0.002271622626968122, 0.0007507785635242973, 0.013994950951642784, 0.21428977165784285, 0.007007577827509436, 0.0033532003454507056, 0.24592133336465705, 0.00603584327184738, 0.03282060743401361, 0.017321936592511043, 0.01467551325166296, 0.05450307166884834, 0.07710644810029724, 0.19272871129632582, 0.11974030703390791, 0.1965657823703871, 0.02200679547416935, 0.054928516532795915, 0.1349493977580548, 0.0003222718436427837, 0.00012466221733361646, 0.11567348529831702, 0.26882468960625605, 0.06757027757133925, 0.018810969612904592, 0.21295378409192256, 0.019266231707829998, 0.026426317630547033, 0.01108546727128846, 0.022522381011989542, 0.01591776165462565, 0.004791796875280945, 0.02918376614937624, 0.03616159640507698, 0.5108853739924756, 0.007417323283026876, 0.006728599294856991, 0.0092471171058657, 0.4971946510895445, 0.1873620930337281, 0.3738487591225413, 0.017718081472508865, 0.01288636369024991, 0.0063177913322916175, 0.036946372212125045, 0.0017745603925514385, 0.3792561783516774, 0.019231985829063075, 0.052356455618434036, 0.013593374142657424, 0.004752045921779664, 0.05521957007263498, 0.6492310222880171, 0.0012260889802473258, 0.022014942947804348, 0.21446743818063352, 0.11513938468522378, 0.0018395215063909747, 0.02623877442794335, 0.04091661587849028, 0.2268251609634563, 0.004416114021540542, 0.0513292533969985, 0.01929549355302367, 0.0006535266955443775, 0.0013350958497352825, 0.2573233956358379, 0.030964676719686016, 0.0003866669203201664, 0.0040502700447374385, 0.00315252492485759, 0.155442970107208, 0.11137838149549342, 0.019850149162384964, 0.2328536203997584, 9.295498794141419e-05, 0.011328233998761657, 0.29676526393736696, 0.011924773376329776, 0.049730412971777306, 0.28402864226938196, 1.2211698195009701, 0.08751604388028549, 2.013142445005609, 0.002414253557914732, 0.015425097541057978, 1.9357703122687582, 0.17016347236391796, 0.016046059254362838, 0.07409783684735347, 0.011368099047146607, 0.5026534597838216, 0.07068828011460566, 0.009694729944802005, 0.02844082296003944, 0.4949212057130719, 0.006870273310830418, 0.006198337271506287, 0.0019097520620981927, 0.2985391756871158, 0.35940542875222287, 0.0009037907148838954, 0.004365640842371933, 0.004182989833813617, 0.008346176371974691, 0.00901843149502594, 0.18293671635730946, 0.0005804816916659611, 0.041718848843037004, 0.2511691722496171, 0.37271699947866654, 0.021366660298222914, 0.4616974923690147, 0.008469021768814821, 0.00033912357176249904, 0.0043857065845880625, 0.00031858122207479764, 0.022338568935427575, 0.019739085183124876, 0.0004915927136060184, 0.00016621628977815528, 0.004698867833900243, 0.0026871633514135105, 0.05506029155278025, 0.004581267438563055, 0.006614023197422428, 0.0011090773097865868, 0.0003758262136636452, 0.006784177155126551, 0.0003858170350897838, 0.1165722084273177, 0.001321603898491209, 0.01899825257830681, 4.743535983515264e-05], \"text\": [0.019024875077967823, 0.03307312090249151, 0.017052493238618942, 0.9882346830117134, 0.0001622862260344627, 0.025964314645950604, 0.01881356038101067, 0.16339315720434072, 0.028291591361185794, 0.1840276155670011, 0.034075132296424476, 0.4577431808436008, 0.014793372561655409, 0.030700423177424024, 0.322370466849841, 0.48594206234864334, 0.002951663763181486, 0.0027836912806835684, 0.03754907672254958, 0.06931555998939809, 0.1219118791006987, 0.0328700444328402, 0.03181477905383274, 0.004030066523943582, 0.002271622626968122, 0.0007507785635242973, 0.013994950951642784, 0.21428977165784285, 0.007007577827509436, 0.0033532003454507056, 0.24592133336465705, 0.00603584327184738, 0.03282060743401361, 0.017321936592511043, 0.01467551325166296, 0.05450307166884834, 0.07710644810029724, 0.19272871129632582, 0.11974030703390791, 0.1965657823703871, 0.02200679547416935, 0.054928516532795915, 0.1349493977580548, 0.0003222718436427837, 0.00012466221733361646, 0.11567348529831702, 0.26882468960625605, 0.06757027757133925, 0.018810969612904592, 0.21295378409192256, 0.019266231707829998, 0.026426317630547033, 0.01108546727128846, 0.022522381011989542, 0.01591776165462565, 0.004791796875280945, 0.02918376614937624, 0.03616159640507698, 0.5108853739924756, 0.007417323283026876, 0.006728599294856991, 0.0092471171058657, 0.4971946510895445, 0.1873620930337281, 0.3738487591225413, 0.017718081472508865, 0.01288636369024991, 0.0063177913322916175, 0.036946372212125045, 0.0017745603925514385, 0.3792561783516774, 0.019231985829063075, 0.052356455618434036, 0.013593374142657424, 0.004752045921779664, 0.05521957007263498, 0.6492310222880171, 0.0012260889802473258, 0.022014942947804348, 0.21446743818063352, 0.11513938468522378, 0.0018395215063909747, 0.02623877442794335, 0.04091661587849028, 0.2268251609634563, 0.004416114021540542, 0.0513292533969985, 0.01929549355302367, 0.0006535266955443775, 0.0013350958497352825, 0.2573233956358379, 0.030964676719686016, 0.0003866669203201664, 0.0040502700447374385, 0.00315252492485759, 0.155442970107208, 0.11137838149549342, 0.019850149162384964, 0.2328536203997584, 9.295498794141419e-05, 0.011328233998761657, 0.29676526393736696, 0.011924773376329776, 0.049730412971777306, 0.28402864226938196, 1.2211698195009701, 0.08751604388028549, 2.013142445005609, 0.002414253557914732, 0.015425097541057978, 1.9357703122687582, 0.17016347236391796, 0.016046059254362838, 0.07409783684735347, 0.011368099047146607, 0.5026534597838216, 0.07068828011460566, 0.009694729944802005, 0.02844082296003944, 0.4949212057130719, 0.006870273310830418, 0.006198337271506287, 0.0019097520620981927, 0.2985391756871158, 0.35940542875222287, 0.0009037907148838954, 0.004365640842371933, 0.004182989833813617, 0.008346176371974691, 0.00901843149502594, 0.18293671635730946, 0.0005804816916659611, 0.041718848843037004, 0.2511691722496171, 0.37271699947866654, 0.021366660298222914, 0.4616974923690147, 0.008469021768814821, 0.00033912357176249904, 0.0043857065845880625, 0.00031858122207479764, 0.022338568935427575, 0.019739085183124876, 0.0004915927136060184, 0.00016621628977815528, 0.004698867833900243, 0.0026871633514135105, 0.05506029155278025, 0.004581267438563055, 0.006614023197422428, 0.0011090773097865868, 0.0003758262136636452, 0.006784177155126551, 0.0003858170350897838, 0.1165722084273177, 0.001321603898491209, 0.01899825257830681, 4.743535983515264e-05], \"type\": \"choropleth\", \"z\": [0, 0, 0, 0, 0, 0, 0, 0, 0, 0, 0, 0, 0, 0, 0, 0, 0, 0, 0, 0, 0, 0, 0, 0, 0, 0, 0, 0, 0, 0, 0, 1, 0, 0, 0, 0, 0, 0, 0, 0, 0, 0, 0, 0, 0, 0, 0, 0, 0, 0, 0, 0, 0, 0, 0, 0, 0, 0, 0, 1, 0, 0, 0, 0, 0, 0, 0, 0, 0, 0, 0, 0, 0, 0, 0, 0, 0, 0, 0, 0, 0, 0, 0, 0, 0, 0, 0, 0, 0, 0, 0, 0, 0, 0, 0, 0, 0, 0, 0, 0, 0, 0, 0, 0, 0, 0, 0, 0, 0, 0, 0, 0, 0, 0, 0, 0, 0, 0, 0, 0, 0, 0, 0, 0, 0, 0, 0, 0, 0, 0, 0, 0, 0, 0, 0, 0, 0, 0, 0, 0, 0, 0, 0, 0, 0, 0, 0, 0, 0, 0, 0, 0, 0, 0, 0, 0, 0, 0]}],\n",
       "                        {\"geo\": {\"projection\": {\"type\": \"mercator\"}, \"showframe\": false}, \"template\": {\"data\": {\"bar\": [{\"error_x\": {\"color\": \"#2a3f5f\"}, \"error_y\": {\"color\": \"#2a3f5f\"}, \"marker\": {\"line\": {\"color\": \"#E5ECF6\", \"width\": 0.5}}, \"type\": \"bar\"}], \"barpolar\": [{\"marker\": {\"line\": {\"color\": \"#E5ECF6\", \"width\": 0.5}}, \"type\": \"barpolar\"}], \"carpet\": [{\"aaxis\": {\"endlinecolor\": \"#2a3f5f\", \"gridcolor\": \"white\", \"linecolor\": \"white\", \"minorgridcolor\": \"white\", \"startlinecolor\": \"#2a3f5f\"}, \"baxis\": {\"endlinecolor\": \"#2a3f5f\", \"gridcolor\": \"white\", \"linecolor\": \"white\", \"minorgridcolor\": \"white\", \"startlinecolor\": \"#2a3f5f\"}, \"type\": \"carpet\"}], \"choropleth\": [{\"colorbar\": {\"outlinewidth\": 0, \"ticks\": \"\"}, \"type\": \"choropleth\"}], \"contour\": [{\"colorbar\": {\"outlinewidth\": 0, \"ticks\": \"\"}, \"colorscale\": [[0.0, \"#0d0887\"], [0.1111111111111111, \"#46039f\"], [0.2222222222222222, \"#7201a8\"], [0.3333333333333333, \"#9c179e\"], [0.4444444444444444, \"#bd3786\"], [0.5555555555555556, \"#d8576b\"], [0.6666666666666666, \"#ed7953\"], [0.7777777777777778, \"#fb9f3a\"], [0.8888888888888888, \"#fdca26\"], [1.0, \"#f0f921\"]], \"type\": \"contour\"}], \"contourcarpet\": [{\"colorbar\": {\"outlinewidth\": 0, \"ticks\": \"\"}, \"type\": \"contourcarpet\"}], \"heatmap\": [{\"colorbar\": {\"outlinewidth\": 0, \"ticks\": \"\"}, \"colorscale\": [[0.0, \"#0d0887\"], [0.1111111111111111, \"#46039f\"], [0.2222222222222222, \"#7201a8\"], [0.3333333333333333, \"#9c179e\"], [0.4444444444444444, \"#bd3786\"], [0.5555555555555556, \"#d8576b\"], [0.6666666666666666, \"#ed7953\"], [0.7777777777777778, \"#fb9f3a\"], [0.8888888888888888, \"#fdca26\"], [1.0, \"#f0f921\"]], \"type\": \"heatmap\"}], \"heatmapgl\": [{\"colorbar\": {\"outlinewidth\": 0, \"ticks\": \"\"}, \"colorscale\": [[0.0, \"#0d0887\"], [0.1111111111111111, \"#46039f\"], [0.2222222222222222, \"#7201a8\"], [0.3333333333333333, \"#9c179e\"], [0.4444444444444444, \"#bd3786\"], [0.5555555555555556, \"#d8576b\"], [0.6666666666666666, \"#ed7953\"], [0.7777777777777778, \"#fb9f3a\"], [0.8888888888888888, \"#fdca26\"], [1.0, \"#f0f921\"]], \"type\": \"heatmapgl\"}], \"histogram\": [{\"marker\": {\"colorbar\": {\"outlinewidth\": 0, \"ticks\": \"\"}}, \"type\": \"histogram\"}], \"histogram2d\": [{\"colorbar\": {\"outlinewidth\": 0, \"ticks\": \"\"}, \"colorscale\": [[0.0, \"#0d0887\"], [0.1111111111111111, \"#46039f\"], [0.2222222222222222, \"#7201a8\"], [0.3333333333333333, \"#9c179e\"], [0.4444444444444444, \"#bd3786\"], [0.5555555555555556, \"#d8576b\"], [0.6666666666666666, \"#ed7953\"], [0.7777777777777778, \"#fb9f3a\"], [0.8888888888888888, \"#fdca26\"], [1.0, \"#f0f921\"]], \"type\": \"histogram2d\"}], \"histogram2dcontour\": [{\"colorbar\": {\"outlinewidth\": 0, \"ticks\": \"\"}, \"colorscale\": [[0.0, \"#0d0887\"], [0.1111111111111111, \"#46039f\"], [0.2222222222222222, \"#7201a8\"], [0.3333333333333333, \"#9c179e\"], [0.4444444444444444, \"#bd3786\"], [0.5555555555555556, \"#d8576b\"], [0.6666666666666666, \"#ed7953\"], [0.7777777777777778, \"#fb9f3a\"], [0.8888888888888888, \"#fdca26\"], [1.0, \"#f0f921\"]], \"type\": \"histogram2dcontour\"}], \"mesh3d\": [{\"colorbar\": {\"outlinewidth\": 0, \"ticks\": \"\"}, \"type\": \"mesh3d\"}], \"parcoords\": [{\"line\": {\"colorbar\": {\"outlinewidth\": 0, \"ticks\": \"\"}}, \"type\": \"parcoords\"}], \"pie\": [{\"automargin\": true, \"type\": \"pie\"}], \"scatter\": [{\"marker\": {\"colorbar\": {\"outlinewidth\": 0, \"ticks\": \"\"}}, \"type\": \"scatter\"}], \"scatter3d\": [{\"line\": {\"colorbar\": {\"outlinewidth\": 0, \"ticks\": \"\"}}, \"marker\": {\"colorbar\": {\"outlinewidth\": 0, \"ticks\": \"\"}}, \"type\": \"scatter3d\"}], \"scattercarpet\": [{\"marker\": {\"colorbar\": {\"outlinewidth\": 0, \"ticks\": \"\"}}, \"type\": \"scattercarpet\"}], \"scattergeo\": [{\"marker\": {\"colorbar\": {\"outlinewidth\": 0, \"ticks\": \"\"}}, \"type\": \"scattergeo\"}], \"scattergl\": [{\"marker\": {\"colorbar\": {\"outlinewidth\": 0, \"ticks\": \"\"}}, \"type\": \"scattergl\"}], \"scattermapbox\": [{\"marker\": {\"colorbar\": {\"outlinewidth\": 0, \"ticks\": \"\"}}, \"type\": \"scattermapbox\"}], \"scatterpolar\": [{\"marker\": {\"colorbar\": {\"outlinewidth\": 0, \"ticks\": \"\"}}, \"type\": \"scatterpolar\"}], \"scatterpolargl\": [{\"marker\": {\"colorbar\": {\"outlinewidth\": 0, \"ticks\": \"\"}}, \"type\": \"scatterpolargl\"}], \"scatterternary\": [{\"marker\": {\"colorbar\": {\"outlinewidth\": 0, \"ticks\": \"\"}}, \"type\": \"scatterternary\"}], \"surface\": [{\"colorbar\": {\"outlinewidth\": 0, \"ticks\": \"\"}, \"colorscale\": [[0.0, \"#0d0887\"], [0.1111111111111111, \"#46039f\"], [0.2222222222222222, \"#7201a8\"], [0.3333333333333333, \"#9c179e\"], [0.4444444444444444, \"#bd3786\"], [0.5555555555555556, \"#d8576b\"], [0.6666666666666666, \"#ed7953\"], [0.7777777777777778, \"#fb9f3a\"], [0.8888888888888888, \"#fdca26\"], [1.0, \"#f0f921\"]], \"type\": \"surface\"}], \"table\": [{\"cells\": {\"fill\": {\"color\": \"#EBF0F8\"}, \"line\": {\"color\": \"white\"}}, \"header\": {\"fill\": {\"color\": \"#C8D4E3\"}, \"line\": {\"color\": \"white\"}}, \"type\": \"table\"}]}, \"layout\": {\"annotationdefaults\": {\"arrowcolor\": \"#2a3f5f\", \"arrowhead\": 0, \"arrowwidth\": 1}, \"coloraxis\": {\"colorbar\": {\"outlinewidth\": 0, \"ticks\": \"\"}}, \"colorscale\": {\"diverging\": [[0, \"#8e0152\"], [0.1, \"#c51b7d\"], [0.2, \"#de77ae\"], [0.3, \"#f1b6da\"], [0.4, \"#fde0ef\"], [0.5, \"#f7f7f7\"], [0.6, \"#e6f5d0\"], [0.7, \"#b8e186\"], [0.8, \"#7fbc41\"], [0.9, \"#4d9221\"], [1, \"#276419\"]], \"sequential\": [[0.0, \"#0d0887\"], [0.1111111111111111, \"#46039f\"], [0.2222222222222222, \"#7201a8\"], [0.3333333333333333, \"#9c179e\"], [0.4444444444444444, \"#bd3786\"], [0.5555555555555556, \"#d8576b\"], [0.6666666666666666, \"#ed7953\"], [0.7777777777777778, \"#fb9f3a\"], [0.8888888888888888, \"#fdca26\"], [1.0, \"#f0f921\"]], \"sequentialminus\": [[0.0, \"#0d0887\"], [0.1111111111111111, \"#46039f\"], [0.2222222222222222, \"#7201a8\"], [0.3333333333333333, \"#9c179e\"], [0.4444444444444444, \"#bd3786\"], [0.5555555555555556, \"#d8576b\"], [0.6666666666666666, \"#ed7953\"], [0.7777777777777778, \"#fb9f3a\"], [0.8888888888888888, \"#fdca26\"], [1.0, \"#f0f921\"]]}, \"colorway\": [\"#636efa\", \"#EF553B\", \"#00cc96\", \"#ab63fa\", \"#FFA15A\", \"#19d3f3\", \"#FF6692\", \"#B6E880\", \"#FF97FF\", \"#FECB52\"], \"font\": {\"color\": \"#2a3f5f\"}, \"geo\": {\"bgcolor\": \"white\", \"lakecolor\": \"white\", \"landcolor\": \"#E5ECF6\", \"showlakes\": true, \"showland\": true, \"subunitcolor\": \"white\"}, \"hoverlabel\": {\"align\": \"left\"}, \"hovermode\": \"closest\", \"mapbox\": {\"style\": \"light\"}, \"paper_bgcolor\": \"white\", \"plot_bgcolor\": \"#E5ECF6\", \"polar\": {\"angularaxis\": {\"gridcolor\": \"white\", \"linecolor\": \"white\", \"ticks\": \"\"}, \"bgcolor\": \"#E5ECF6\", \"radialaxis\": {\"gridcolor\": \"white\", \"linecolor\": \"white\", \"ticks\": \"\"}}, \"scene\": {\"xaxis\": {\"backgroundcolor\": \"#E5ECF6\", \"gridcolor\": \"white\", \"gridwidth\": 2, \"linecolor\": \"white\", \"showbackground\": true, \"ticks\": \"\", \"zerolinecolor\": \"white\"}, \"yaxis\": {\"backgroundcolor\": \"#E5ECF6\", \"gridcolor\": \"white\", \"gridwidth\": 2, \"linecolor\": \"white\", \"showbackground\": true, \"ticks\": \"\", \"zerolinecolor\": \"white\"}, \"zaxis\": {\"backgroundcolor\": \"#E5ECF6\", \"gridcolor\": \"white\", \"gridwidth\": 2, \"linecolor\": \"white\", \"showbackground\": true, \"ticks\": \"\", \"zerolinecolor\": \"white\"}}, \"shapedefaults\": {\"line\": {\"color\": \"#2a3f5f\"}}, \"ternary\": {\"aaxis\": {\"gridcolor\": \"white\", \"linecolor\": \"white\", \"ticks\": \"\"}, \"baxis\": {\"gridcolor\": \"white\", \"linecolor\": \"white\", \"ticks\": \"\"}, \"bgcolor\": \"#E5ECF6\", \"caxis\": {\"gridcolor\": \"white\", \"linecolor\": \"white\", \"ticks\": \"\"}}, \"title\": {\"x\": 0.05}, \"xaxis\": {\"automargin\": true, \"gridcolor\": \"white\", \"linecolor\": \"white\", \"ticks\": \"\", \"title\": {\"standoff\": 15}, \"zerolinecolor\": \"white\", \"zerolinewidth\": 2}, \"yaxis\": {\"automargin\": true, \"gridcolor\": \"white\", \"linecolor\": \"white\", \"ticks\": \"\", \"title\": {\"standoff\": 15}, \"zerolinecolor\": \"white\", \"zerolinewidth\": 2}}}, \"title\": {\"text\": \"Grouping of Countries based on Affinity Clustering\"}},\n",
       "                        {\"responsive\": true}\n",
       "                    ).then(function(){\n",
       "                            \n",
       "var gd = document.getElementById('97e87b02-5940-4165-91b8-a75335fa22ef');\n",
       "var x = new MutationObserver(function (mutations, observer) {{\n",
       "        var display = window.getComputedStyle(gd).display;\n",
       "        if (!display || display === 'none') {{\n",
       "            console.log([gd, 'removed!']);\n",
       "            Plotly.purge(gd);\n",
       "            observer.disconnect();\n",
       "        }}\n",
       "}});\n",
       "\n",
       "// Listen for the removal of the full notebook cells\n",
       "var notebookContainer = gd.closest('#notebook-container');\n",
       "if (notebookContainer) {{\n",
       "    x.observe(notebookContainer, {childList: true});\n",
       "}}\n",
       "\n",
       "// Listen for the clearing of the current output cell\n",
       "var outputEl = gd.closest('.output');\n",
       "if (outputEl) {{\n",
       "    x.observe(outputEl, {childList: true});\n",
       "}}\n",
       "\n",
       "                        })\n",
       "                };\n",
       "                });\n",
       "            </script>\n",
       "        </div>"
      ]
     },
     "metadata": {},
     "output_type": "display_data"
    }
   ],
   "source": [
    "#Карта кластеризации( агломеративная)\n",
    "df_cl_1.insert(0,'country',df_cl.iloc[:,0])\n",
    "df_cl_1.iloc[:,[0,1,2,3,4,5]]\n",
    "data = [dict(type='choropleth',\n",
    "             locations = df_cl_1['country'],\n",
    "             locationmode = 'country names',\n",
    "             z = df_cl_1['agglomerative'],\n",
    "             text = df_cl_1['country'],\n",
    "             colorbar = {'title':'Cluster Group'})]\n",
    "layout = dict(title='Grouping of Countries based on Affinity Clustering',\n",
    "              geo=dict(showframe = False, projection = {'type':'mercator'}))\n",
    "map3 = dict(data=data, layout=layout)\n",
    "iplot(map3)"
   ]
  }
 ],
 "metadata": {
  "kernelspec": {
   "display_name": "Python 3",
   "language": "python",
   "name": "python3"
  },
  "language_info": {
   "codemirror_mode": {
    "name": "ipython",
    "version": 3
   },
   "file_extension": ".py",
   "mimetype": "text/x-python",
   "name": "python",
   "nbconvert_exporter": "python",
   "pygments_lexer": "ipython3",
   "version": "3.7.0"
  }
 },
 "nbformat": 4,
 "nbformat_minor": 4
}
