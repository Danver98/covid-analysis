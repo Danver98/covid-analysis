{
 "cells": [
  {
   "cell_type": "code",
   "execution_count": 3,
   "metadata": {},
   "outputs": [],
   "source": [
    "import pandas as pd\n",
    "import matplotlib.pyplot as plt\n",
    "import requests\n",
    "import csv\n",
    "import numpy as np\n",
    "from scipy.optimize import curve_fit\n",
    "from sklearn.metrics import r2_score, mean_squared_error\n",
    "import sympy as sym\n",
    "#import seaborn as sns\n",
    "\n",
    "SOURCE_COVID_19 = \"https://pomber.github.io/covid19/timeseries.json\"\n",
    "SOURCE_COUNTRIES_BY_POPULATION = \"https://raw.githubusercontent.com/samayo/country-json/master/src/country-by-population.json\"\n",
    "SOURCE_GDP = \"https://raw.githubusercontent.com/datasets/gdp/master/data/gdp.csv\"\n",
    "SOURCE_GDP_PER_CAPITA_JSON = \"https://pkgstore.datahub.io/world-bank/ny.gdp.pcap.cd/data_json/data/5fa3074284c7b57091aa9bacc502ecb5/data_json.json\"\n",
    "SOURCE_GDP_PER_CAPITA_CSV = \"https://datahub.io/world-bank/ny.gdp.pcap.cd/r/data.csv\"\n",
    "def get_data_json(source):\n",
    "    return requests.get(source).json()"
   ]
  },
  {
   "cell_type": "code",
   "execution_count": 4,
   "metadata": {},
   "outputs": [],
   "source": [
    "np.warnings.filterwarnings('ignore')"
   ]
  },
  {
   "cell_type": "code",
   "execution_count": 5,
   "metadata": {},
   "outputs": [],
   "source": [
    "data = requests.get(SOURCE_COVID_19).json()"
   ]
  },
  {
   "cell_type": "code",
   "execution_count": 6,
   "metadata": {},
   "outputs": [],
   "source": [
    "df = pd.DataFrame.from_dict(data)"
   ]
  },
  {
   "cell_type": "code",
   "execution_count": 7,
   "metadata": {},
   "outputs": [],
   "source": [
    "def get_average_speed_of_propagation_list(data,status ='confirmed', days = len(data[list(data.keys())[0]]), reverse = False):\n",
    "    min_days = days\n",
    "    speed = {}\n",
    "    for key in data:\n",
    "        if(len(data[key]) < min_days):\n",
    "            min_days = len(data[key])\n",
    "    for key in data:\n",
    "        speed[key] = round(data[key][min_days - 1][status] / min_days,3)\n",
    "    speed = {key:value for key, value in sorted(speed.items(), key = lambda item:item[1], reverse = reverse)}\n",
    "    return speed"
   ]
  },
  {
   "cell_type": "code",
   "execution_count": 8,
   "metadata": {},
   "outputs": [],
   "source": [
    "def get_average_speed_of_propagation_list_non_zero_days(df,status ='confirmed', reverse = False , count = len(df.columns)):\n",
    "    speed = {}\n",
    "    for country_name in df.columns[:count]:\n",
    "        country = pd.DataFrame.from_dict(data[country_name])\n",
    "        country = country.loc[country[status] > 0 , ['date',status]].reset_index(drop = True)\n",
    "        country.index = country.index + 1 # если что, убрать\n",
    "        if country.empty:\n",
    "            continue\n",
    "        speed[country_name] = round(country.iloc[len(country)-1][status] / len(country) , 3)\n",
    "    speed = {key:value for key, value in sorted(speed.items(), key = lambda item:item[1], reverse = reverse)}\n",
    "    return speed"
   ]
  },
  {
   "cell_type": "code",
   "execution_count": 9,
   "metadata": {
    "scrolled": false
   },
   "outputs": [
    {
     "data": {
      "text/plain": [
       "{'Gambia': 0.017,\n",
       " 'Brunei': 0.019,\n",
       " 'Botswana': 0.02,\n",
       " 'Suriname': 0.021,\n",
       " 'Liechtenstein': 0.022,\n",
       " 'Burundi': 0.027,\n",
       " 'West Bank and Gaza': 0.036,\n",
       " 'MS Zaandam': 0.041,\n",
       " 'Benin': 0.045,\n",
       " 'Belize': 0.045,\n",
       " 'Cabo Verde': 0.053,\n",
       " 'Angola': 0.058,\n",
       " 'Syria': 0.058,\n",
       " 'Eswatini': 0.059,\n",
       " 'Libya': 0.062,\n",
       " 'Zimbabwe': 0.069,\n",
       " 'Antigua and Barbuda': 0.07,\n",
       " 'Malawi': 0.07,\n",
       " 'Comoros': 0.071,\n",
       " 'Taiwan*': 0.074,\n",
       " 'Monaco': 0.077,\n",
       " 'Mauritania': 0.078,\n",
       " 'Ethiopia': 0.111,\n",
       " 'Burma': 0.12,\n",
       " 'Malta': 0.143,\n",
       " 'Trinidad and Tobago': 0.143,\n",
       " 'Diamond Princess': 0.144,\n",
       " 'Guyana': 0.145,\n",
       " 'Jamaica': 0.145,\n",
       " 'Zambia': 0.146,\n",
       " 'Montenegro': 0.155,\n",
       " 'Barbados': 0.156,\n",
       " 'Iceland': 0.156,\n",
       " 'Costa Rica': 0.161,\n",
       " 'Jordan': 0.167,\n",
       " 'Mauritius': 0.167,\n",
       " 'Sri Lanka': 0.17,\n",
       " 'Djibouti': 0.175,\n",
       " 'Paraguay': 0.183,\n",
       " 'Bahrain': 0.185,\n",
       " 'Venezuela': 0.185,\n",
       " 'Maldives': 0.19,\n",
       " 'Gabon': 0.197,\n",
       " 'Togo': 0.222,\n",
       " 'Bahamas': 0.224,\n",
       " 'Uzbekistan': 0.241,\n",
       " 'Equatorial Guinea': 0.25,\n",
       " 'Guinea-Bissau': 0.25,\n",
       " 'Georgia': 0.261,\n",
       " 'Qatar': 0.283,\n",
       " 'Cyprus': 0.288,\n",
       " 'Kyrgyzstan': 0.298,\n",
       " 'Congo (Brazzaville)': 0.312,\n",
       " 'Nicaragua': 0.315,\n",
       " 'Lebanon': 0.366,\n",
       " 'Singapore': 0.367,\n",
       " 'Uruguay': 0.377,\n",
       " 'New Zealand': 0.404,\n",
       " 'Tanzania': 0.42,\n",
       " 'Sao Tome and Principe': 0.421,\n",
       " 'Albania': 0.443,\n",
       " 'Latvia': 0.447,\n",
       " 'Haiti': 0.467,\n",
       " 'Liberia': 0.5,\n",
       " 'Nepal': 0.5,\n",
       " 'Guinea': 0.514,\n",
       " 'Ghana': 0.517,\n",
       " 'San Marino': 0.526,\n",
       " 'Kosovo': 0.527,\n",
       " 'Slovakia': 0.528,\n",
       " \"Cote d'Ivoire\": 0.538,\n",
       " 'Oman': 0.54,\n",
       " 'El Salvador': 0.6,\n",
       " 'Azerbaijan': 0.603,\n",
       " 'Senegal': 0.612,\n",
       " 'Kazakhstan': 0.625,\n",
       " 'Guatemala': 0.662,\n",
       " 'Madagascar': 0.667,\n",
       " 'Thailand': 0.7,\n",
       " 'Tunisia': 0.758,\n",
       " 'South Sudan': 0.8,\n",
       " 'Burkina Faso': 0.81,\n",
       " 'Andorra': 0.864,\n",
       " 'Kenya': 0.909,\n",
       " 'Niger': 0.982,\n",
       " 'Lithuania': 1.0,\n",
       " 'Congo (Kinshasa)': 1.017,\n",
       " 'Mali': 1.019,\n",
       " 'Estonia': 1.143,\n",
       " 'Armenia': 1.164,\n",
       " 'Sierra Leone': 1.222,\n",
       " 'Australia': 1.25,\n",
       " 'Cuba': 1.254,\n",
       " 'Yemen': 1.4,\n",
       " 'Somalia': 1.405,\n",
       " 'Croatia': 1.548,\n",
       " 'Slovenia': 1.552,\n",
       " 'Bulgaria': 1.6,\n",
       " 'Luxembourg': 1.627,\n",
       " 'Sudan': 1.632,\n",
       " 'Iraq': 1.701,\n",
       " 'Malaysia': 1.781,\n",
       " 'North Macedonia': 1.797,\n",
       " 'Bosnia and Herzegovina': 2.233,\n",
       " 'Tajikistan': 2.278,\n",
       " 'Greece': 2.357,\n",
       " 'Cameroon': 2.5,\n",
       " 'Chad': 2.545,\n",
       " 'Kuwait': 2.63,\n",
       " 'Honduras': 2.673,\n",
       " 'Morocco': 2.718,\n",
       " 'Korea, South': 2.922,\n",
       " 'Afghanistan': 3.017,\n",
       " 'Nigeria': 3.31,\n",
       " 'Norway': 3.478,\n",
       " 'Belarus': 3.5,\n",
       " 'Moldova': 3.508,\n",
       " 'Bolivia': 3.635,\n",
       " 'United Arab Emirates': 3.721,\n",
       " 'Serbia': 3.836,\n",
       " 'Panama': 4.014,\n",
       " 'Israel': 4.633,\n",
       " 'Finland': 5.017,\n",
       " 'Czechia': 5.119,\n",
       " 'Argentina': 5.384,\n",
       " 'Saudi Arabia': 5.772,\n",
       " 'South Africa': 5.778,\n",
       " 'Bangladesh': 5.873,\n",
       " 'Dominican Republic': 6.891,\n",
       " 'Hungary': 7.076,\n",
       " 'Philippines': 7.75,\n",
       " 'Japan': 7.918,\n",
       " 'Ukraine': 8.059,\n",
       " 'Algeria': 8.13,\n",
       " 'Denmark': 8.224,\n",
       " 'Chile': 8.627,\n",
       " 'Egypt': 9.027,\n",
       " 'Austria': 9.159,\n",
       " 'Colombia': 10.39,\n",
       " 'Poland': 13.739,\n",
       " 'Pakistan': 15.145,\n",
       " 'Indonesia': 17.443,\n",
       " 'Romania': 19.271,\n",
       " 'Portugal': 19.484,\n",
       " 'Ireland': 22.3,\n",
       " 'Switzerland': 24.882,\n",
       " 'China': 38.975,\n",
       " 'Ecuador': 42.373,\n",
       " 'Russia': 45.758,\n",
       " 'India': 47.171,\n",
       " 'Peru': 47.77,\n",
       " 'Sweden': 53.471,\n",
       " 'Turkey': 65.609,\n",
       " 'Netherlands': 76.453,\n",
       " 'Iran': 78.231,\n",
       " 'Canada': 83.722,\n",
       " 'Mexico': 91.387,\n",
       " 'Germany': 112.236,\n",
       " 'Belgium': 130.114,\n",
       " 'Brazil': 280.984,\n",
       " 'France': 295.0,\n",
       " 'Spain': 356.128,\n",
       " 'Italy': 361.449,\n",
       " 'United Kingdom': 472.293,\n",
       " 'US': 1134.827}"
      ]
     },
     "execution_count": 9,
     "metadata": {},
     "output_type": "execute_result"
    }
   ],
   "source": [
    "get_average_speed_of_propagation_list_non_zero_days(df,status ='deaths', reverse = False)\n"
   ]
  },
  {
   "cell_type": "code",
   "execution_count": 10,
   "metadata": {},
   "outputs": [],
   "source": [
    "def print_speed_stats(data,days = len(data[list(data.keys())[0]]), reverse = False):\n",
    "    statuses = ['confirmed' , 'deaths' , 'recovered']\n",
    "    for i in range(len(statuses)):\n",
    "        print(f\"Статистика за {days} дней:{statuses[i]}\")\n",
    "        speed = get_average_speed_of_propagation_list(data,status = statuses[i],days = days,reverse = reverse)\n",
    "        print(f\"Средняя скорость для {statuses[i]} к {days} дню (человек в день):\")\n",
    "        for key in speed:\n",
    "            print(f\"{key}:{speed[key]}\")"
   ]
  },
  {
   "cell_type": "code",
   "execution_count": 11,
   "metadata": {
    "scrolled": true
   },
   "outputs": [
    {
     "name": "stdout",
     "output_type": "stream",
     "text": [
      "Статистика за 119 дней:confirmed\n",
      "Средняя скорость для confirmed к 119 дню (человек в день):\n",
      "Lesotho:0.008\n",
      "Western Sahara:0.05\n",
      "Papua New Guinea:0.067\n",
      "MS Zaandam:0.076\n",
      "Seychelles:0.092\n",
      "Suriname:0.092\n",
      "Comoros:0.092\n",
      "Holy See:0.101\n",
      "Saint Kitts and Nevis:0.126\n",
      "Namibia:0.134\n",
      "Dominica:0.134\n",
      "Saint Vincent and the Grenadines:0.143\n",
      "Fiji:0.151\n",
      "Saint Lucia:0.151\n",
      "Belize:0.151\n",
      "Laos:0.16\n",
      "Bhutan:0.176\n",
      "Grenada:0.185\n",
      "Gambia:0.202\n",
      "Timor-Leste:0.202\n",
      "Antigua and Barbuda:0.21\n",
      "Botswana:0.21\n",
      "Eritrea:0.328\n",
      "Burundi:0.353\n",
      "Zimbabwe:0.387\n",
      "Angola:0.437\n",
      "Syria:0.487\n",
      "Libya:0.571\n",
      "Malawi:0.588\n",
      "Liechtenstein:0.689\n",
      "Barbados:0.756\n",
      "Bahamas:0.807\n",
      "Monaco:0.815\n",
      "Trinidad and Tobago:0.975\n",
      "Cambodia:1.025\n",
      "Guyana:1.05\n",
      "Benin:1.092\n",
      "Mauritania:1.101\n",
      "Mongolia:1.176\n",
      "Brunei:1.185\n",
      "Mozambique:1.227\n",
      "Yemen:1.403\n",
      "Burma:1.622\n",
      "Eswatini:1.748\n",
      "Liberia:1.958\n",
      "Sao Tome and Principe:2.109\n",
      "Nicaragua:2.134\n",
      "Uganda:2.185\n",
      "South Sudan:2.437\n",
      "Rwanda:2.588\n",
      "Montenegro:2.723\n",
      "Vietnam:2.723\n",
      "Madagascar:2.739\n",
      "Mauritius:2.79\n",
      "Cabo Verde:2.815\n",
      "Togo:2.84\n",
      "Ethiopia:3.067\n",
      "Central African Republic:3.076\n",
      "West Bank and Gaza:3.286\n",
      "Nepal:3.378\n",
      "Congo (Brazzaville):3.529\n",
      "Taiwan*:3.697\n",
      "Tanzania:4.277\n",
      "Jamaica:4.37\n",
      "Haiti:4.479\n",
      "Sierra Leone:4.487\n",
      "Chad:4.58\n",
      "Malta:4.782\n",
      "Jordan:5.454\n",
      "San Marino:5.504\n",
      "Georgia:5.941\n",
      "Diamond Princess:5.983\n",
      "Uruguay:6.202\n",
      "Venezuela:6.294\n",
      "Andorra:6.395\n",
      "Zambia:6.487\n",
      "Burkina Faso:6.689\n",
      "Equatorial Guinea:6.933\n",
      "Paraguay:6.966\n",
      "Costa Rica:7.412\n",
      "Mali:7.571\n",
      "Niger:7.681\n",
      "Cyprus:7.714\n",
      "Albania:7.975\n",
      "Lebanon:8.017\n",
      "Kenya:8.092\n",
      "Kosovo:8.311\n",
      "Latvia:8.504\n",
      "Sri Lanka:8.63\n",
      "Guinea-Bissau:8.723\n",
      "Tunisia:8.773\n",
      "Maldives:9.605\n",
      "Kyrgyzstan:10.445\n",
      "Slovenia:12.328\n",
      "Slovakia:12.563\n",
      "El Salvador:12.588\n",
      "Gabon:12.622\n",
      "Somalia:12.622\n",
      "New Zealand:12.63\n",
      "Lithuania:13.126\n",
      "Djibouti:13.597\n",
      "Congo (Kinshasa):13.689\n",
      "Estonia:15.05\n",
      "Iceland:15.143\n",
      "North Macedonia:15.454\n",
      "Cuba:15.857\n",
      "Tajikistan:16.269\n",
      "Guatemala:17.924\n",
      "Cote d'Ivoire:18.092\n",
      "Croatia:18.756\n",
      "Bulgaria:18.983\n",
      "Bosnia and Herzegovina:19.504\n",
      "Senegal:21.992\n",
      "Sudan:22.924\n",
      "Greece:23.866\n",
      "Uzbekistan:23.992\n",
      "Guinea:24.059\n",
      "Honduras:24.832\n",
      "Thailand:25.487\n",
      "Azerbaijan:29.563\n",
      "Cameroon:29.655\n",
      "Hungary:29.882\n",
      "Iraq:30.345\n",
      "Luxembourg:33.261\n",
      "Bolivia:37.655\n",
      "Armenia:42.361\n",
      "Oman:47.655\n",
      "Ghana:51.227\n",
      "Moldova:53.277\n",
      "Finland:53.773\n",
      "Nigeria:53.79\n",
      "Kazakhstan:56.731\n",
      "Malaysia:58.639\n",
      "Morocco:59.017\n",
      "Australia:59.429\n",
      "Algeria:61.992\n",
      "Bahrain:63.294\n",
      "Afghanistan:64.311\n",
      "Norway:69.471\n",
      "Czechia:72.664\n",
      "Argentina:74.025\n",
      "Panama:82.916\n",
      "Serbia:90.193\n",
      "Korea, South:93.361\n",
      "Denmark:94.471\n",
      "Philippines:108.756\n",
      "Dominican Republic:111.118\n",
      "Egypt:113.311\n",
      "Austria:137.151\n",
      "Japan:137.538\n",
      "Israel:139.992\n",
      "Kuwait:140.874\n",
      "Colombia:142.311\n",
      "Romania:144.462\n",
      "South Africa:144.538\n",
      "Indonesia:155.429\n",
      "Ukraine:158.622\n",
      "Poland:161.916\n",
      "Ireland:203.79\n",
      "United Arab Emirates:210.613\n",
      "Bangladesh:211.101\n",
      "Singapore:241.966\n",
      "Portugal:247.328\n",
      "Switzerland:257.294\n",
      "Sweden:258.815\n",
      "Belarus:264.773\n",
      "Ecuador:286.983\n",
      "Qatar:299.21\n",
      "Pakistan:369.462\n",
      "Netherlands:373.521\n",
      "Chile:416.63\n",
      "Mexico:456.689\n",
      "Belgium:468.832\n",
      "Saudi Arabia:502.975\n",
      "Canada:676.412\n",
      "China:706.412\n",
      "Peru:835.992\n",
      "India:894.748\n",
      "Iran:1047.084\n",
      "Turkey:1274.076\n",
      "Germany:1493.933\n",
      "France:1520.445\n",
      "Italy:1905.034\n",
      "Spain:1949.891\n",
      "United Kingdom:2102.0\n",
      "Brazil:2284.748\n",
      "Russia:2520.513\n",
      "US:12845.109\n",
      "Статистика за 119 дней:deaths\n",
      "Средняя скорость для deaths к 119 дню (человек в день):\n",
      "Bhutan:0.0\n",
      "Cambodia:0.0\n",
      "Central African Republic:0.0\n",
      "Eritrea:0.0\n",
      "Fiji:0.0\n",
      "Holy See:0.0\n",
      "Mongolia:0.0\n",
      "Namibia:0.0\n",
      "Papua New Guinea:0.0\n",
      "Rwanda:0.0\n",
      "Saint Lucia:0.0\n",
      "Saint Vincent and the Grenadines:0.0\n",
      "Seychelles:0.0\n",
      "Uganda:0.0\n",
      "Vietnam:0.0\n",
      "Dominica:0.0\n",
      "Grenada:0.0\n",
      "Mozambique:0.0\n",
      "Timor-Leste:0.0\n",
      "Laos:0.0\n",
      "Saint Kitts and Nevis:0.0\n",
      "Western Sahara:0.0\n",
      "Lesotho:0.0\n",
      "Brunei:0.008\n",
      "Gambia:0.008\n",
      "Liechtenstein:0.008\n",
      "Suriname:0.008\n",
      "Botswana:0.008\n",
      "Burundi:0.008\n",
      "Comoros:0.008\n",
      "Benin:0.017\n",
      "Eswatini:0.017\n",
      "Madagascar:0.017\n",
      "Nepal:0.017\n",
      "Belize:0.017\n",
      "West Bank and Gaza:0.017\n",
      "MS Zaandam:0.017\n",
      "Angola:0.025\n",
      "Antigua and Barbuda:0.025\n",
      "Cabo Verde:0.025\n",
      "Syria:0.025\n",
      "Libya:0.025\n",
      "Malawi:0.025\n",
      "Maldives:0.034\n",
      "Mauritania:0.034\n",
      "Monaco:0.034\n",
      "Zimbabwe:0.034\n",
      "South Sudan:0.034\n",
      "Ethiopia:0.042\n",
      "Malta:0.05\n",
      "Guinea-Bissau:0.05\n",
      "Burma:0.05\n",
      "Barbados:0.059\n",
      "Djibouti:0.059\n",
      "Equatorial Guinea:0.059\n",
      "Taiwan*:0.059\n",
      "Zambia:0.059\n",
      "Trinidad and Tobago:0.067\n",
      "Sao Tome and Principe:0.067\n",
      "Jamaica:0.076\n",
      "Jordan:0.076\n",
      "Montenegro:0.076\n",
      "Sri Lanka:0.076\n",
      "Costa Rica:0.084\n",
      "Guyana:0.084\n",
      "Iceland:0.084\n",
      "Mauritius:0.084\n",
      "Venezuela:0.084\n",
      "Bahamas:0.092\n",
      "Paraguay:0.092\n",
      "Bahrain:0.101\n",
      "Gabon:0.101\n",
      "Georgia:0.101\n",
      "Togo:0.101\n",
      "Diamond Princess:0.109\n",
      "Uzbekistan:0.109\n",
      "Kyrgyzstan:0.118\n",
      "Congo (Brazzaville):0.126\n",
      "Qatar:0.126\n",
      "Cyprus:0.143\n",
      "Nicaragua:0.143\n",
      "Guinea:0.151\n",
      "Uruguay:0.168\n",
      "Haiti:0.176\n",
      "Latvia:0.176\n",
      "New Zealand:0.176\n",
      "Tanzania:0.176\n",
      "Singapore:0.185\n",
      "Liberia:0.193\n",
      "Lebanon:0.218\n",
      "Oman:0.227\n",
      "Cote d'Ivoire:0.235\n",
      "Slovakia:0.235\n",
      "Yemen:0.235\n",
      "Kosovo:0.244\n",
      "El Salvador:0.252\n",
      "Senegal:0.252\n",
      "Albania:0.261\n",
      "Ghana:0.261\n",
      "Sierra Leone:0.277\n",
      "Kazakhstan:0.294\n",
      "Azerbaijan:0.345\n",
      "San Marino:0.345\n",
      "Tajikistan:0.345\n",
      "Guatemala:0.361\n",
      "Tunisia:0.395\n",
      "Kenya:0.42\n",
      "Andorra:0.429\n",
      "Burkina Faso:0.429\n",
      "Mali:0.445\n",
      "Niger:0.462\n",
      "Chad:0.471\n",
      "Thailand:0.471\n",
      "Somalia:0.496\n",
      "Lithuania:0.504\n",
      "Congo (Kinshasa):0.513\n",
      "Armenia:0.538\n",
      "Estonia:0.538\n",
      "Cuba:0.664\n",
      "Croatia:0.807\n",
      "Australia:0.84\n",
      "Slovenia:0.874\n",
      "North Macedonia:0.891\n",
      "Luxembourg:0.916\n",
      "Sudan:0.933\n",
      "Bulgaria:0.941\n",
      "Malaysia:0.958\n",
      "Kuwait:1.017\n",
      "Iraq:1.101\n",
      "Bosnia and Herzegovina:1.126\n",
      "Cameroon:1.176\n",
      "Honduras:1.235\n",
      "Greece:1.387\n",
      "Belarus:1.471\n",
      "Afghanistan:1.496\n",
      "Bolivia:1.588\n",
      "Nigeria:1.613\n",
      "Morocco:1.622\n",
      "Moldova:1.857\n",
      "United Arab Emirates:1.908\n",
      "Norway:1.958\n",
      "Serbia:1.966\n",
      "Korea, South:2.21\n",
      "Israel:2.336\n",
      "Panama:2.361\n",
      "Finland:2.529\n",
      "Czechia:2.538\n",
      "South Africa:2.622\n",
      "Saudi Arabia:2.765\n",
      "Bangladesh:3.109\n",
      "Argentina:3.303\n",
      "Dominican Republic:3.706\n",
      "Hungary:3.924\n",
      "Chile:4.277\n",
      "Ukraine:4.605\n",
      "Denmark:4.63\n",
      "Algeria:4.714\n",
      "Colombia:5.151\n",
      "Austria:5.311\n",
      "Egypt:5.538\n",
      "Japan:6.454\n",
      "Philippines:7.034\n",
      "Pakistan:7.891\n",
      "Poland:7.966\n",
      "Romania:9.555\n",
      "Indonesia:10.261\n",
      "Portugal:10.479\n",
      "Ireland:13.118\n",
      "Switzerland:15.891\n",
      "Russia:23.84\n",
      "Ecuador:23.857\n",
      "Peru:24.487\n",
      "India:27.748\n",
      "Sweden:31.454\n",
      "Turkey:35.286\n",
      "China:38.975\n",
      "Mexico:47.613\n",
      "Netherlands:48.185\n",
      "Canada:50.655\n",
      "Iran:59.824\n",
      "Germany:67.908\n",
      "Belgium:76.538\n",
      "Brazil:151.118\n",
      "Spain:233.429\n",
      "France:235.504\n",
      "Italy:270.328\n",
      "United Kingdom:297.664\n",
      "US:772.445\n",
      "Статистика за 119 дней:recovered\n",
      "Средняя скорость для recovered к 119 дню (человек в день):\n",
      "Spain:0.0\n",
      "MS Zaandam:0.0\n",
      "Lesotho:0.0\n",
      "Holy See:0.017\n",
      "Comoros:0.025\n",
      "South Sudan:0.034\n",
      "Sao Tome and Principe:0.034\n",
      "Bhutan:0.042\n",
      "Yemen:0.042\n",
      "Western Sahara:0.05\n",
      "Mauritania:0.059\n",
      "Papua New Guinea:0.067\n",
      "Suriname:0.076\n",
      "Seychelles:0.092\n",
      "Gambia:0.109\n",
      "Namibia:0.109\n",
      "Saint Vincent and the Grenadines:0.118\n",
      "Grenada:0.118\n",
      "Laos:0.118\n",
      "Fiji:0.126\n",
      "Saint Kitts and Nevis:0.126\n",
      "Dominica:0.134\n",
      "Belize:0.134\n",
      "Angola:0.143\n",
      "Botswana:0.143\n",
      "Central African Republic:0.151\n",
      "Saint Lucia:0.151\n",
      "Zimbabwe:0.151\n",
      "Antigua and Barbuda:0.16\n",
      "Burundi:0.168\n",
      "Haiti:0.176\n",
      "Equatorial Guinea:0.185\n",
      "Timor-Leste:0.202\n",
      "Mongolia:0.218\n",
      "Malawi:0.227\n",
      "Norway:0.269\n",
      "Libya:0.294\n",
      "Syria:0.303\n",
      "Nepal:0.311\n",
      "Eritrea:0.328\n",
      "Guinea-Bissau:0.353\n",
      "Bahamas:0.361\n",
      "Mozambique:0.37\n",
      "Guyana:0.387\n",
      "Liechtenstein:0.462\n",
      "Uganda:0.529\n",
      "Barbados:0.571\n",
      "Benin:0.697\n",
      "Cabo Verde:0.714\n",
      "Eswatini:0.731\n",
      "Monaco:0.731\n",
      "Maldives:0.765\n",
      "Burma:0.874\n",
      "Togo:0.899\n",
      "Trinidad and Tobago:0.899\n",
      "Madagascar:1.0\n",
      "Ethiopia:1.008\n",
      "Cambodia:1.025\n",
      "Liberia:1.05\n",
      "Congo (Brazzaville):1.109\n",
      "Brunei:1.143\n",
      "Chad:1.168\n",
      "Jamaica:1.218\n",
      "Guatemala:1.303\n",
      "Netherlands:1.403\n",
      "Sierra Leone:1.403\n",
      "Somalia:1.496\n",
      "Tanzania:1.538\n",
      "Zambia:1.613\n",
      "Nicaragua:1.672\n",
      "Rwanda:1.756\n",
      "San Marino:1.773\n",
      "Paraguay:1.933\n",
      "Lebanon:2.109\n",
      "Venezuela:2.126\n",
      "Vietnam:2.21\n",
      "Sudan:2.403\n",
      "Congo (Kinshasa):2.437\n",
      "Montenegro:2.622\n",
      "Gabon:2.672\n",
      "Mauritius:2.706\n",
      "West Bank and Gaza:2.908\n",
      "Honduras:2.933\n",
      "Kenya:3.008\n",
      "Taiwan*:3.345\n",
      "Jordan:3.504\n",
      "Georgia:3.832\n",
      "Malta:3.866\n",
      "El Salvador:4.218\n",
      "Cyprus:4.328\n",
      "Mali:4.445\n",
      "Bolivia:4.479\n",
      "Sri Lanka:4.782\n",
      "Costa Rica:4.849\n",
      "Uruguay:4.866\n",
      "Andorra:5.277\n",
      "Tajikistan:5.387\n",
      "Bulgaria:5.429\n",
      "Diamond Princess:5.471\n",
      "Burkina Faso:5.479\n",
      "Latvia:5.832\n",
      "Niger:6.168\n",
      "Albania:6.235\n",
      "Kosovo:6.462\n",
      "Tunisia:6.941\n",
      "Afghanistan:7.143\n",
      "Kyrgyzstan:7.546\n",
      "Estonia:7.882\n",
      "Lithuania:8.613\n",
      "Djibouti:8.681\n",
      "Cote d'Ivoire:8.824\n",
      "United Kingdom:9.235\n",
      "Senegal:9.521\n",
      "Slovakia:10.017\n",
      "Slovenia:11.244\n",
      "North Macedonia:11.353\n",
      "Greece:11.546\n",
      "Hungary:11.866\n",
      "New Zealand:12.16\n",
      "Bosnia and Herzegovina:12.79\n",
      "Guinea:12.815\n",
      "Cuba:12.924\n",
      "Cameroon:13.168\n",
      "Oman:13.227\n",
      "Nigeria:14.571\n",
      "Ghana:14.899\n",
      "Iceland:15.034\n",
      "Croatia:16.529\n",
      "Armenia:18.185\n",
      "Azerbaijan:18.471\n",
      "Uzbekistan:19.647\n",
      "Iraq:19.882\n",
      "Moldova:21.076\n",
      "Philippines:23.891\n",
      "Thailand:24.008\n",
      "Argentina:24.134\n",
      "Bahrain:24.807\n",
      "Ecuador:29.05\n",
      "Kazakhstan:30.235\n",
      "Luxembourg:31.244\n",
      "Egypt:31.445\n",
      "Algeria:31.479\n",
      "Morocco:32.782\n",
      "Colombia:34.034\n",
      "Indonesia:37.538\n",
      "Kuwait:39.336\n",
      "Serbia:41.21\n",
      "Sweden:41.773\n",
      "Bangladesh:41.958\n",
      "Finland:42.017\n",
      "Ukraine:47.328\n",
      "Qatar:47.345\n",
      "Malaysia:47.445\n",
      "Czechia:48.118\n",
      "Panama:52.05\n",
      "Australia:54.042\n",
      "Portugal:54.042\n",
      "Dominican Republic:55.571\n",
      "Poland:66.412\n",
      "South Africa:66.891\n",
      "Denmark:80.79\n",
      "Korea, South:84.588\n",
      "Romania:85.429\n",
      "Singapore:87.101\n",
      "Belarus:89.244\n",
      "United Arab Emirates:90.681\n",
      "Japan:97.176\n",
      "Pakistan:104.95\n",
      "Israel:112.899\n",
      "Austria:123.345\n",
      "Belgium:123.42\n",
      "Ireland:163.613\n",
      "Chile:180.731\n",
      "Switzerland:232.773\n",
      "Saudi Arabia:265.832\n",
      "Peru:306.924\n",
      "Mexico:313.655\n",
      "Canada:336.714\n",
      "India:355.538\n",
      "France:526.706\n",
      "Russia:639.748\n",
      "China:666.471\n",
      "Iran:816.58\n",
      "Brazil:897.429\n",
      "Turkey:948.697\n",
      "Italy:1087.403\n",
      "Germany:1308.244\n",
      "US:2431.866\n"
     ]
    }
   ],
   "source": [
    "# Средняя скорость за все дни( с учётом нулевых)\n",
    "print_speed_stats(data)"
   ]
  },
  {
   "cell_type": "code",
   "execution_count": 12,
   "metadata": {},
   "outputs": [],
   "source": [
    "def print_speed_stats_non_zero_days(df, reverse = False , count = len(df.columns)):\n",
    "    statuses = ['confirmed' , 'deaths' , 'recovered']\n",
    "    for i in range(len(statuses)):\n",
    "        print(f\"Статистика за значимые( ненулевые) дни:{statuses[i]}\")\n",
    "        speed = get_average_speed_of_propagation_list_non_zero_days(df,statuses[i],reverse , count)\n",
    "        print(f\"Средняя скорость для {statuses[i]} (человек в день):\")\n",
    "        for key in speed:\n",
    "            print(f\"{key}:{speed[key]}\")"
   ]
  },
  {
   "cell_type": "code",
   "execution_count": 13,
   "metadata": {
    "scrolled": false
   },
   "outputs": [
    {
     "name": "stdout",
     "output_type": "stream",
     "text": [
      "Статистика за значимые( ненулевые) дни:confirmed\n",
      "Средняя скорость для confirmed (человек в день):\n",
      "Papua New Guinea:0.131\n",
      "Western Sahara:0.133\n",
      "Lesotho:0.143\n",
      "Holy See:0.16\n",
      "Seychelles:0.164\n",
      "Suriname:0.164\n",
      "MS Zaandam:0.17\n",
      "Namibia:0.239\n",
      "Saint Vincent and the Grenadines:0.254\n",
      "Saint Kitts and Nevis:0.268\n",
      "Saint Lucia:0.269\n",
      "Dominica:0.271\n",
      "Bhutan:0.28\n",
      "Fiji:0.29\n",
      "Belize:0.31\n",
      "Laos:0.333\n",
      "Antigua and Barbuda:0.368\n",
      "Grenada:0.373\n",
      "Gambia:0.375\n",
      "Timor-Leste:0.407\n",
      "Botswana:0.49\n",
      "Comoros:0.55\n",
      "Eritrea:0.65\n",
      "Zimbabwe:0.754\n",
      "Burundi:0.84\n",
      "Angola:0.852\n",
      "Syria:0.983\n",
      "Liechtenstein:1.065\n",
      "Cambodia:1.07\n",
      "Libya:1.193\n",
      "Monaco:1.198\n",
      "Barbados:1.406\n",
      "Malawi:1.458\n",
      "Bahamas:1.477\n",
      "Trinidad and Tobago:1.731\n",
      "Guyana:1.812\n",
      "Mauritania:1.955\n",
      "Brunei:1.958\n",
      "Mongolia:1.972\n",
      "Benin:2.0\n",
      "Mozambique:2.475\n",
      "Vietnam:2.746\n",
      "Eswatini:3.104\n",
      "Nepal:3.466\n",
      "Burma:3.574\n",
      "Liberia:3.585\n",
      "Taiwan*:3.697\n",
      "Nicaragua:4.097\n",
      "Yemen:4.175\n",
      "Uganda:4.333\n",
      "Togo:4.507\n",
      "Rwanda:4.597\n",
      "Montenegro:5.062\n",
      "West Bank and Gaza:5.145\n",
      "Mauritius:5.27\n",
      "Madagascar:5.344\n",
      "Ethiopia:5.368\n",
      "Cabo Verde:5.492\n",
      "Central African Republic:5.545\n",
      "Sao Tome and Principe:5.705\n",
      "Congo (Brazzaville):6.364\n",
      "South Sudan:6.444\n",
      "Diamond Princess:6.913\n",
      "Jamaica:7.429\n",
      "Malta:7.689\n",
      "Tanzania:7.831\n",
      "San Marino:7.892\n",
      "Jordan:8.321\n",
      "Georgia:8.417\n",
      "Haiti:8.738\n",
      "Chad:8.79\n",
      "Sri Lanka:9.009\n",
      "Andorra:9.633\n",
      "Sierra Leone:10.68\n",
      "Lebanon:10.719\n",
      "Uruguay:10.853\n",
      "Venezuela:11.179\n",
      "Burkina Faso:11.211\n",
      "Paraguay:11.356\n",
      "Costa Rica:11.76\n",
      "Zambia:12.254\n",
      "Equatorial Guinea:12.5\n",
      "Cyprus:12.75\n",
      "Latvia:12.81\n",
      "Albania:13.181\n",
      "Tunisia:13.558\n",
      "Kenya:14.162\n",
      "Niger:14.984\n",
      "Maldives:15.658\n",
      "Mali:16.089\n",
      "Kosovo:17.982\n",
      "New Zealand:18.329\n",
      "Guinea-Bissau:18.536\n",
      "Lithuania:19.049\n",
      "Slovenia:19.303\n",
      "Kyrgyzstan:19.73\n",
      "Slovakia:19.933\n",
      "Estonia:21.578\n",
      "North Macedonia:21.893\n",
      "Iceland:21.976\n",
      "Gabon:22.418\n",
      "Somalia:23.108\n",
      "Congo (Kinshasa):23.271\n",
      "El Salvador:24.161\n",
      "Thailand:25.487\n",
      "Djibouti:25.683\n",
      "Croatia:26.259\n",
      "Cuba:27.348\n",
      "Bosnia and Herzegovina:30.539\n",
      "Cote d'Ivoire:30.757\n",
      "Bulgaria:30.945\n",
      "Guatemala:31.836\n",
      "Senegal:33.127\n",
      "Greece:33.81\n",
      "Sudan:40.118\n",
      "Iraq:41.988\n",
      "Guinea:42.103\n",
      "Honduras:42.214\n",
      "Uzbekistan:43.258\n",
      "Azerbaijan:43.975\n",
      "Hungary:46.182\n",
      "Cameroon:47.053\n",
      "Luxembourg:48.864\n",
      "Finland:57.134\n",
      "Malaysia:60.155\n",
      "Australia:61.496\n",
      "Armenia:63.012\n",
      "Bolivia:64.014\n",
      "Oman:65.942\n",
      "Nigeria:78.061\n",
      "Algeria:86.788\n",
      "Moldova:86.849\n",
      "Bahrain:87.581\n",
      "Morocco:88.899\n",
      "Afghanistan:88.988\n",
      "Ghana:90.985\n",
      "Korea, South:93.361\n",
      "Tajikistan:96.8\n",
      "Norway:98.417\n",
      "Kazakhstan:99.279\n",
      "Czechia:108.088\n",
      "Argentina:112.936\n",
      "Philippines:116.595\n",
      "Denmark:135.446\n",
      "Japan:137.538\n",
      "Panama:138.972\n",
      "Egypt:140.458\n",
      "Serbia:143.107\n",
      "Dominican Republic:165.288\n",
      "Israel:187.18\n",
      "Austria:192.012\n",
      "Kuwait:194.93\n",
      "Romania:204.655\n",
      "United Arab Emirates:223.777\n",
      "Colombia:225.8\n",
      "South Africa:226.316\n",
      "Indonesia:234.127\n",
      "Ukraine:242.0\n",
      "Singapore:244.017\n",
      "Poland:250.234\n",
      "Sweden:279.991\n",
      "Ireland:299.395\n",
      "Bangladesh:344.123\n",
      "Switzerland:360.212\n",
      "Portugal:372.557\n",
      "Belarus:384.244\n",
      "Ecuador:426.888\n",
      "Qatar:439.58\n",
      "Pakistan:523.405\n",
      "Belgium:526.33\n",
      "Netherlands:535.53\n",
      "Chile:635.628\n",
      "Mexico:662.756\n",
      "Canada:699.939\n",
      "China:706.412\n",
      "Saudi Arabia:757.646\n",
      "India:959.234\n",
      "Peru:1326.44\n",
      "Iran:1369.264\n",
      "France:1546.436\n",
      "Germany:1559.456\n",
      "Italy:2060.9\n",
      "Spain:2128.78\n",
      "Turkey:2165.929\n",
      "United Kingdom:2273.982\n",
      "Russia:2726.736\n",
      "Brazil:3236.726\n",
      "US:12845.109\n",
      "Статистика за значимые( ненулевые) дни:deaths\n",
      "Средняя скорость для deaths (человек в день):\n",
      "Gambia:0.017\n",
      "Brunei:0.019\n",
      "Botswana:0.02\n",
      "Suriname:0.021\n",
      "Liechtenstein:0.022\n",
      "Burundi:0.027\n",
      "West Bank and Gaza:0.036\n",
      "MS Zaandam:0.041\n",
      "Benin:0.045\n",
      "Belize:0.045\n",
      "Cabo Verde:0.053\n",
      "Angola:0.058\n",
      "Syria:0.058\n",
      "Eswatini:0.059\n",
      "Libya:0.062\n",
      "Zimbabwe:0.069\n",
      "Antigua and Barbuda:0.07\n",
      "Malawi:0.07\n",
      "Comoros:0.071\n",
      "Taiwan*:0.074\n",
      "Monaco:0.077\n",
      "Mauritania:0.078\n",
      "Ethiopia:0.111\n",
      "Burma:0.12\n",
      "Malta:0.143\n",
      "Trinidad and Tobago:0.143\n",
      "Diamond Princess:0.144\n",
      "Guyana:0.145\n",
      "Jamaica:0.145\n",
      "Zambia:0.146\n",
      "Montenegro:0.155\n",
      "Barbados:0.156\n",
      "Iceland:0.156\n",
      "Costa Rica:0.161\n",
      "Jordan:0.167\n",
      "Mauritius:0.167\n",
      "Sri Lanka:0.17\n",
      "Djibouti:0.175\n",
      "Paraguay:0.183\n",
      "Bahrain:0.185\n",
      "Venezuela:0.185\n",
      "Maldives:0.19\n",
      "Gabon:0.197\n",
      "Togo:0.222\n",
      "Bahamas:0.224\n",
      "Uzbekistan:0.241\n",
      "Equatorial Guinea:0.25\n",
      "Guinea-Bissau:0.25\n",
      "Georgia:0.261\n",
      "Qatar:0.283\n",
      "Cyprus:0.288\n",
      "Kyrgyzstan:0.298\n",
      "Congo (Brazzaville):0.312\n",
      "Nicaragua:0.315\n",
      "Lebanon:0.366\n",
      "Singapore:0.367\n",
      "Uruguay:0.377\n",
      "New Zealand:0.404\n",
      "Tanzania:0.42\n",
      "Sao Tome and Principe:0.421\n",
      "Albania:0.443\n",
      "Latvia:0.447\n",
      "Haiti:0.467\n",
      "Liberia:0.5\n",
      "Nepal:0.5\n",
      "Guinea:0.514\n",
      "Ghana:0.517\n",
      "San Marino:0.526\n",
      "Kosovo:0.527\n",
      "Slovakia:0.528\n",
      "Cote d'Ivoire:0.538\n",
      "Oman:0.54\n",
      "El Salvador:0.6\n",
      "Azerbaijan:0.603\n",
      "Senegal:0.612\n",
      "Kazakhstan:0.625\n",
      "Guatemala:0.662\n",
      "Madagascar:0.667\n",
      "Thailand:0.7\n",
      "Tunisia:0.758\n",
      "South Sudan:0.8\n",
      "Burkina Faso:0.81\n",
      "Andorra:0.864\n",
      "Kenya:0.909\n",
      "Niger:0.982\n",
      "Lithuania:1.0\n",
      "Congo (Kinshasa):1.017\n",
      "Mali:1.019\n",
      "Estonia:1.143\n",
      "Armenia:1.164\n",
      "Sierra Leone:1.222\n",
      "Australia:1.25\n",
      "Cuba:1.254\n",
      "Yemen:1.4\n",
      "Somalia:1.405\n",
      "Croatia:1.548\n",
      "Slovenia:1.552\n",
      "Bulgaria:1.6\n",
      "Luxembourg:1.627\n",
      "Sudan:1.632\n",
      "Iraq:1.701\n",
      "Malaysia:1.781\n",
      "North Macedonia:1.797\n",
      "Bosnia and Herzegovina:2.233\n",
      "Tajikistan:2.278\n",
      "Greece:2.357\n",
      "Cameroon:2.5\n",
      "Chad:2.545\n",
      "Kuwait:2.63\n",
      "Honduras:2.673\n",
      "Morocco:2.718\n",
      "Korea, South:2.922\n",
      "Afghanistan:3.017\n",
      "Nigeria:3.31\n",
      "Norway:3.478\n",
      "Belarus:3.5\n",
      "Moldova:3.508\n",
      "Bolivia:3.635\n",
      "United Arab Emirates:3.721\n",
      "Serbia:3.836\n",
      "Panama:4.014\n",
      "Israel:4.633\n",
      "Finland:5.017\n",
      "Czechia:5.119\n",
      "Argentina:5.384\n",
      "Saudi Arabia:5.772\n",
      "South Africa:5.778\n",
      "Bangladesh:5.873\n",
      "Dominican Republic:6.891\n",
      "Hungary:7.076\n",
      "Philippines:7.75\n",
      "Japan:7.918\n",
      "Ukraine:8.059\n",
      "Algeria:8.13\n",
      "Denmark:8.224\n",
      "Chile:8.627\n",
      "Egypt:9.027\n",
      "Austria:9.159\n",
      "Colombia:10.39\n",
      "Poland:13.739\n",
      "Pakistan:15.145\n",
      "Indonesia:17.443\n",
      "Romania:19.271\n",
      "Portugal:19.484\n",
      "Ireland:22.3\n",
      "Switzerland:24.882\n",
      "China:38.975\n",
      "Ecuador:42.373\n",
      "Russia:45.758\n",
      "India:47.171\n",
      "Peru:47.77\n",
      "Sweden:53.471\n",
      "Turkey:65.609\n",
      "Netherlands:76.453\n",
      "Iran:78.231\n",
      "Canada:83.722\n",
      "Mexico:91.387\n",
      "Germany:112.236\n",
      "Belgium:130.114\n",
      "Brazil:280.984\n",
      "France:295.0\n",
      "Spain:356.128\n",
      "Italy:361.449\n",
      "United Kingdom:472.293\n",
      "US:1134.827\n",
      "Статистика за значимые( ненулевые) дни:recovered\n",
      "Средняя скорость для recovered (человек в день):\n",
      "Holy See:0.048\n",
      "Bhutan:0.104\n",
      "Mauritania:0.135\n",
      "Sao Tome and Principe:0.182\n",
      "Yemen:0.192\n",
      "Suriname:0.214\n",
      "Western Sahara:0.222\n",
      "Namibia:0.228\n",
      "Saint Vincent and the Grenadines:0.264\n",
      "Gambia:0.265\n",
      "Saint Lucia:0.333\n",
      "Seychelles:0.333\n",
      "South Sudan:0.333\n",
      "Angola:0.34\n",
      "Dominica:0.364\n",
      "Nepal:0.378\n",
      "Laos:0.389\n",
      "Grenada:0.424\n",
      "Equatorial Guinea:0.44\n",
      "Norway:0.444\n",
      "Central African Republic:0.486\n",
      "Fiji:0.5\n",
      "Papua New Guinea:0.5\n",
      "Comoros:0.5\n",
      "Mongolia:0.51\n",
      "Zimbabwe:0.514\n",
      "Belize:0.516\n",
      "Antigua and Barbuda:0.528\n",
      "Saint Kitts and Nevis:0.536\n",
      "Haiti:0.583\n",
      "Timor-Leste:0.6\n",
      "Burundi:0.667\n",
      "Libya:0.778\n",
      "Bahamas:0.782\n",
      "Syria:0.783\n",
      "Botswana:0.81\n",
      "Malawi:0.818\n",
      "Mozambique:0.957\n",
      "Guyana:1.045\n",
      "Eritrea:1.219\n",
      "Cambodia:1.245\n",
      "Liechtenstein:1.25\n",
      "Guinea-Bissau:1.355\n",
      "Monaco:1.475\n",
      "Barbados:1.511\n",
      "Maldives:1.596\n",
      "Uganda:1.615\n",
      "Benin:1.66\n",
      "Togo:1.754\n",
      "Trinidad and Tobago:1.877\n",
      "Cabo Verde:1.932\n",
      "Eswatini:1.977\n",
      "Ethiopia:2.182\n",
      "Brunei:2.23\n",
      "Jamaica:2.231\n",
      "Vietnam:2.413\n",
      "Netherlands:2.493\n",
      "Burma:2.537\n",
      "Madagascar:2.644\n",
      "Liberia:2.717\n",
      "Congo (Brazzaville):2.75\n",
      "Guatemala:2.768\n",
      "San Marino:3.149\n",
      "Chad:3.233\n",
      "Lebanon:3.26\n",
      "Tanzania:3.389\n",
      "Somalia:3.56\n",
      "Taiwan*:3.827\n",
      "Zambia:4.085\n",
      "Paraguay:4.259\n",
      "Venezuela:4.288\n",
      "Rwanda:4.644\n",
      "Nicaragua:5.237\n",
      "Congo (Kinshasa):5.37\n",
      "Sierra Leone:5.387\n",
      "Sri Lanka:5.578\n",
      "West Bank and Gaza:5.672\n",
      "Sudan:5.72\n",
      "Jordan:6.132\n",
      "Kenya:6.393\n",
      "Honduras:6.585\n",
      "Montenegro:6.638\n",
      "Malta:6.765\n",
      "Gabon:6.766\n",
      "Mauritius:7.0\n",
      "Georgia:7.015\n",
      "Diamond Princess:7.398\n",
      "Cyprus:8.729\n",
      "Andorra:9.235\n",
      "Costa Rica:9.617\n",
      "Latvia:9.775\n",
      "Bulgaria:10.767\n",
      "Burkina Faso:10.867\n",
      "Bolivia:10.878\n",
      "El Salvador:10.913\n",
      "United Kingdom:11.214\n",
      "Mali:11.5\n",
      "Uruguay:11.58\n",
      "Albania:12.367\n",
      "Afghanistan:13.077\n",
      "Tunisia:14.0\n",
      "Estonia:14.212\n",
      "Kosovo:14.241\n",
      "Senegal:15.521\n",
      "Lithuania:15.53\n",
      "Niger:16.311\n",
      "Cote d'Ivoire:16.406\n",
      "Kyrgyzstan:17.608\n",
      "Oman:19.432\n",
      "North Macedonia:19.868\n",
      "Slovakia:20.203\n",
      "Greece:20.507\n",
      "Hungary:21.075\n",
      "Djibouti:21.979\n",
      "Bosnia and Herzegovina:23.781\n",
      "Slovenia:23.893\n",
      "Thailand:24.843\n",
      "New Zealand:25.386\n",
      "Iceland:25.928\n",
      "Cuba:26.982\n",
      "Nigeria:27.524\n",
      "Cameroon:27.982\n",
      "Croatia:28.926\n",
      "Philippines:29.01\n",
      "Azerbaijan:31.4\n",
      "Ghana:32.236\n",
      "Guinea:32.447\n",
      "Iraq:32.861\n",
      "Armenia:33.812\n",
      "Moldova:39.188\n",
      "Bahrain:39.36\n",
      "Argentina:42.866\n",
      "Uzbekistan:43.296\n",
      "Egypt:45.634\n",
      "Finland:51.02\n",
      "Algeria:54.29\n",
      "Malaysia:54.816\n",
      "Morocco:57.368\n",
      "Ecuador:57.617\n",
      "Australia:57.937\n",
      "Indonesia:62.915\n",
      "Luxembourg:63.017\n",
      "Colombia:63.281\n",
      "Kuwait:64.123\n",
      "Kazakhstan:65.418\n",
      "Sweden:69.042\n",
      "Bangladesh:76.815\n",
      "Qatar:84.09\n",
      "Czechia:88.092\n",
      "Ukraine:93.867\n",
      "Portugal:94.574\n",
      "Korea, South:97.728\n",
      "Japan:100.557\n",
      "Singapore:101.618\n",
      "Panama:108.667\n",
      "United Arab Emirates:110.112\n",
      "Serbia:114.047\n",
      "Dominican Republic:116.018\n",
      "Poland:121.585\n",
      "Denmark:128.187\n",
      "Romania:132.026\n",
      "South Africa:139.649\n",
      "Belarus:147.5\n",
      "Belgium:157.925\n",
      "Israel:161.867\n",
      "Pakistan:171.082\n",
      "Austria:203.861\n",
      "Ireland:304.219\n",
      "Chile:352.574\n",
      "Switzerland:355.128\n",
      "Canada:408.867\n",
      "Saudi Arabia:445.549\n",
      "India:450.096\n",
      "Mexico:478.526\n",
      "Peru:570.688\n",
      "France:639.571\n",
      "Tajikistan:641.0\n",
      "China:666.471\n",
      "Russia:776.837\n",
      "Iran:1156.821\n",
      "Italy:1470.466\n",
      "Spain:1599.745\n",
      "Germany:1604.959\n",
      "Brazil:1642.985\n",
      "Turkey:2015.982\n",
      "US:2865.267\n"
     ]
    }
   ],
   "source": [
    "# Средняя скорость за все дни( без нулевых значений)\n",
    "print_speed_stats_non_zero_days(df)"
   ]
  },
  {
   "cell_type": "code",
   "execution_count": 14,
   "metadata": {},
   "outputs": [],
   "source": [
    "def draw_average_speed_of_propagation_list(data,days = len(data[list(data.keys())[0]]), reverse = False):   \n",
    "    statuses = ['confirmed' , 'deaths' , 'recovered']\n",
    "    colors = ['yellow' , 'red' ,'green']\n",
    "    for i in range(3):\n",
    "        fig , ax = plt.subplots()\n",
    "        fig =plt.figure(figsize=(50,40))\n",
    "        speed = get_average_speed_of_propagation_list(data,status = statuses[i],days = days,reverse = reverse)\n",
    "        countries = list(speed.keys())\n",
    "        values = list(speed.values())\n",
    "        ax.bar(countries,values, color=colors[i])\n",
    "        ax.set_title(f\"{statuses[i]} for {days} days\") \n",
    "        plt.show()\n",
    "        "
   ]
  },
  {
   "cell_type": "code",
   "execution_count": 15,
   "metadata": {},
   "outputs": [],
   "source": [
    "def draw_countries_covid_stats(df, count = len(df.columns)):\n",
    "    for country_name in df.columns[:count]:\n",
    "        country = df[country_name]\n",
    "        x = [index for index in country.index]\n",
    "        y = [obj['confirmed'] for obj in country]\n",
    "        y1 = [obj['deaths'] for obj in country] \n",
    "        y2 = [obj['recovered'] for obj in country] \n",
    "        fig, ax = plt.subplots()\n",
    "        ax.plot(x,y,label=\"confirmed\")\n",
    "        ax.plot(x,y1,label=\"deaths\")\n",
    "        ax.plot(x,y2,label=\"recovered\")\n",
    "        ax.set_title(country_name)  # Add a title to the axes.\n",
    "        ax.set_xlabel(\"days\")\n",
    "        ax.set_ylabel(\"amount\")\n",
    "        ax.legend()"
   ]
  },
  {
   "cell_type": "code",
   "execution_count": 16,
   "metadata": {
    "scrolled": false
   },
   "outputs": [],
   "source": [
    "def create_country_stats_excel_file(df):\n",
    "    writer = pd.ExcelWriter('covid-19.xlsx', engine='xlsxwriter')\n",
    "    for country_name in df.columns:\n",
    "        country = pd.DataFrame.from_dict(data[country_name])\n",
    "        country_name = \"\".join([c for c in country_name if c.isalpha()])\n",
    "        country.to_excel(writer ,sheet_name=country_name, index_label=\"day\")\n",
    "        #country.to_csv(f\"{country_name}.csv\" , index_label = \"day\")"
   ]
  },
  {
   "cell_type": "code",
   "execution_count": 17,
   "metadata": {},
   "outputs": [],
   "source": [
    "def create_country_stats_excel_file_without_zeroes(df, by='confirmed'):\n",
    "    writer = pd.ExcelWriter(f\"covid-19_{by}.xlsx\", engine='xlsxwriter')\n",
    "    for country_name in df.columns:\n",
    "        country = pd.DataFrame.from_dict(data[country_name])\n",
    "        country = country.loc[country[by] > 0 , [by,'date']].reset_index(drop = True)\n",
    "        country.index = country.index + 1 # если что, убрать\n",
    "        #print(country)\n",
    "        country_name = \"\".join([c for c in country_name if c.isalpha()])\n",
    "        country.to_excel(writer ,sheet_name=country_name, index_label=\"day\")\n",
    "        #country.to_csv(f\"{country_name}.csv\" , index_label = \"day\")\n",
    "\n",
    "        "
   ]
  },
  {
   "cell_type": "code",
   "execution_count": 18,
   "metadata": {
    "scrolled": false
   },
   "outputs": [
    {
     "name": "stderr",
     "output_type": "stream",
     "text": [
      "Exception ignored in: <function Workbook.__del__ at 0x00000053E6F27D08>\n",
      "Traceback (most recent call last):\n",
      "  File \"c:\\users\\супемэн\\appdata\\local\\programs\\python\\python37\\lib\\site-packages\\xlsxwriter\\workbook.py\", line 154, in __del__\n",
      "    raise Exception(\"Exception caught in workbook destructor. \"\n",
      "Exception: Exception caught in workbook destructor. Explicit close() may be required for workbook.\n"
     ]
    }
   ],
   "source": [
    "create_country_stats_excel_file_without_zeroes(df)\n",
    "create_country_stats_excel_file_without_zeroes(df, by='deaths')\n",
    "create_country_stats_excel_file_without_zeroes(df, by= 'recovered')"
   ]
  },
  {
   "cell_type": "code",
   "execution_count": 19,
   "metadata": {
    "scrolled": false
   },
   "outputs": [],
   "source": [
    "# Функции для регрессии\n",
    "def linear(x,a,b):\n",
    "    return a*x + b\n",
    "\n",
    "def exp(x,a,b,c):\n",
    "    return a*np.exp(b*x)+c\n",
    "\n",
    "def polynomial_square(x,a,b,c):\n",
    "    return a*np.square(x) + b*x + c\n",
    "\n",
    "def polynomial_cube(x,a,b,c,d):\n",
    "    return a*np.power(x,3) + b*np.square(x) + c*x + d\n",
    "\n",
    "def log(x,a,b,c):\n",
    "    return a*np.log(b*x) + c\n",
    "\n"
   ]
  },
  {
   "cell_type": "code",
   "execution_count": 20,
   "metadata": {},
   "outputs": [],
   "source": [
    "# Функции для приближения результатов\n",
    "functions_to_fit = {\"linear\":linear , \"exp\":exp , \"polynomial_square\":polynomial_square ,\"polynomial_cube\":polynomial_cube, \"log\":log}"
   ]
  },
  {
   "cell_type": "code",
   "execution_count": 21,
   "metadata": {},
   "outputs": [],
   "source": [
    "def get_curve_fit_with_params(x,y,method = \"r2\",maxfev = 1000,functions = functions_to_fit):\n",
    "    name = list(functions)[0]\n",
    "    function =functions[name]\n",
    "    params = [1,0]\n",
    "    r_square = 0\n",
    "    if method == \"mse\":\n",
    "        mse = mean_squared_error(y, functions[name](x,*params))\n",
    "    for key in functions:\n",
    "        if key == \"exp\":\n",
    "            opt_params , pcov = curve_fit(functions[key],x,y , p0 = (-1, 0.01, 1),maxfev = 5000)\n",
    "        else:\n",
    "            opt_params , pcov = curve_fit(functions[key],x,y,maxfev = 5000)\n",
    "        if method == \"r2\":   \n",
    "            r_square_cur = r2_score(y, functions[key](x,*opt_params))\n",
    "            if r_square_cur > r_square:\n",
    "                r_square = r_square_cur\n",
    "                function = functions[key]\n",
    "                name = key\n",
    "                params = opt_params         \n",
    "        else:\n",
    "            mse_cur = mean_squared_error(y, functions[key](x,*opt_params))\n",
    "            if mse_cur < mse:\n",
    "                mse = mse_cur\n",
    "                function = functions[key]\n",
    "                name = key\n",
    "                params = opt_params   \n",
    "    if method == \"mse\":\n",
    "        return (name, function , params, mse)    \n",
    "    return (name, function , params, r_square)\n",
    "        \n",
    "        "
   ]
  },
  {
   "cell_type": "code",
   "execution_count": 22,
   "metadata": {},
   "outputs": [],
   "source": [
    "def get_country_dependency(country, status, method,functions):\n",
    "    country_name = country['name']\n",
    "    data = country['data']\n",
    "    #print(country_name)\n",
    "    #print(data)\n",
    "    if data.empty:\n",
    "        return None\n",
    "    x = np.array(list(data.index))\n",
    "    y = np.array(list(data[status]))\n",
    "    # \n",
    "    if status ==\"deaths\":\n",
    "        threshold = 4\n",
    "        if(len(x) < threshold) or (len(y) < threshold) or (len(y) != len(x)):\n",
    "            return None\n",
    "    name, func, params, res = get_curve_fit_with_params(x,y,method,functions)\n",
    "    mark = method \n",
    "    res = {\"country\": country_name , \"criteria\":status, \"dependency\":name ,\"opt_params\":params, method:res }\n",
    "    #print(res)\n",
    "    return res\n"
   ]
  },
  {
   "cell_type": "code",
   "execution_count": 23,
   "metadata": {},
   "outputs": [],
   "source": [
    "def get_countries_by_status(df , status='confirmed' , count = len(df.columns) ):\n",
    "    countries =[]\n",
    "    for country_name in df.columns[:count]:\n",
    "        country = pd.DataFrame.from_dict(data[country_name])\n",
    "        country = country.loc[country[status] > 0 , ['date',status]].reset_index(drop = True)\n",
    "        country.index = country.index + 1 # если что, убрать\n",
    "        country.index\n",
    "        countries.append({\"name\":country_name  ,\"data\":country})\n",
    "    return countries"
   ]
  },
  {
   "cell_type": "code",
   "execution_count": 24,
   "metadata": {},
   "outputs": [],
   "source": [
    "def get_countries_dependencies_by_status(df , status='confirmed' , count = len(df.columns) , method = \"r2\", functions = functions_to_fit):\n",
    "    countries = get_countries_by_status(df,status,count)\n",
    "    dependencies = []\n",
    "    for country in countries:\n",
    "        data = get_country_dependency(country,status, method,functions)\n",
    "        if data is not None:\n",
    "            dependencies.append(data)\n",
    "    return dependencies"
   ]
  },
  {
   "cell_type": "code",
   "execution_count": 25,
   "metadata": {},
   "outputs": [],
   "source": [
    "def print_countries_dependencies_by_status(df , status='confirmed' , count = len(df.columns) , method = \"r2\",functions = functions_to_fit):\n",
    "    countries = get_countries_dependencies_by_status(df,status , count , method,functions)\n",
    "    for country in countries:\n",
    "        print(f\"Страна: {country['country']} , критерий: {country['criteria']}, зависимость: {country['dependency']}\")\n",
    "        print(f\"оптимальные параметры:\" , end = \" \")\n",
    "        for param in country['opt_params']:\n",
    "            print(param, end = ', ')\n",
    "        print()\n",
    "        print(f\"{list(country.keys())[-1]}: {country[list(country.keys())[-1]]}\")"
   ]
  },
  {
   "cell_type": "code",
   "execution_count": 26,
   "metadata": {
    "scrolled": true
   },
   "outputs": [
    {
     "name": "stdout",
     "output_type": "stream",
     "text": [
      "Страна: Afghanistan , критерий: confirmed, зависимость: polynomial_cube\n",
      "оптимальные параметры: 0.03349833984503674, -2.555351287366788, 60.09892823346092, -311.1462955637175, \n",
      "r2: 0.9954602716450469\n",
      "Страна: Albania , критерий: confirmed, зависимость: polynomial_cube\n",
      "оптимальные параметры: -0.004037658864148419, 0.42776478457924605, 3.1219974151457204, -4.648188648838689, \n",
      "r2: 0.9979951754309276\n",
      "Страна: Algeria , критерий: confirmed, зависимость: polynomial_cube\n",
      "оптимальные параметры: -0.0003641578193063211, 1.405679140398949, -31.377646282197965, 117.18737446200088, \n",
      "r2: 0.9986903427017919\n",
      "Страна: Andorra , критерий: confirmed, зависимость: polynomial_cube\n",
      "оптимальные параметры: -0.005798617255641458, 0.5421432347598771, 2.5959180264051125, -61.538955381818305, \n",
      "r2: 0.9772709086125443\n",
      "Страна: Angola , критерий: confirmed, зависимость: polynomial_cube\n",
      "оптимальные параметры: 0.0001909694487229255, -0.0135419702385306, 1.0127630190526113, -1.5753507610668451, \n",
      "r2: 0.98219232226601\n",
      "Страна: Antigua and Barbuda , критерий: confirmed, зависимость: polynomial_cube\n",
      "оптимальные параметры: -0.00013344767277497126, 0.0043938080398524025, 0.7004207842845243, -3.3302249944368536, \n",
      "r2: 0.9578368257106441\n",
      "Страна: Argentina , критерий: confirmed, зависимость: polynomial_cube\n",
      "оптимальные параметры: 0.00677604897908024, 0.7259612213968816, 10.98403371497233, -151.57855828419238, \n",
      "r2: 0.9963062728264346\n",
      "Страна: Armenia , критерий: confirmed, зависимость: polynomial_cube\n",
      "оптимальные параметры: 0.01392659466745294, -0.7291185642706088, 31.315699542280846, -199.78188457158183, \n",
      "r2: 0.9947737133960375\n",
      "Страна: Australia , критерий: confirmed, зависимость: polynomial_cube\n",
      "оптимальные параметры: -0.03090410793677929, 5.7479663039256925, -207.02274670266945, 1390.8823835391086, \n",
      "r2: 0.9542530908739812\n",
      "Страна: Austria , критерий: confirmed, зависимость: polynomial_cube\n",
      "оптимальные параметры: -0.10083130676100605, 10.432661043745561, 22.070367267668786, -1213.8080369054946, \n",
      "r2: 0.9660710528274445\n",
      "Страна: Azerbaijan , критерий: confirmed, зависимость: polynomial_cube\n",
      "оптимальные параметры: -0.0026298255467029907, 0.8549142419509208, -10.935408994468725, 1.963667345290469, \n",
      "r2: 0.9876066290553839\n",
      "Страна: Bahamas , критерий: confirmed, зависимость: polynomial_cube\n",
      "оптимальные параметры: -0.0007695373939335948, 0.06741125830686057, 0.33601444055050833, -1.2640877939444803, \n",
      "r2: 0.9953069041427616\n",
      "Страна: Bahrain , критерий: confirmed, зависимость: polynomial_cube\n",
      "оптимальные параметры: 0.021293440178540735, -1.2082782582682636, 34.39674669306823, -142.39037839884992, \n",
      "r2: 0.9967307529629184\n",
      "Страна: Bangladesh , критерий: confirmed, зависимость: polynomial_cube\n",
      "оптимальные параметры: 0.12265353892141462, -4.878697984734591, 44.08194574246017, -37.49707376689589, \n",
      "r2: 0.9994413315455174\n",
      "Страна: Barbados , критерий: confirmed, зависимость: polynomial_cube\n",
      "оптимальные параметры: 0.0004099521535399912, -0.07395667784519812, 4.591238480822968, -12.245433901863796, \n",
      "r2: 0.9823027558248566\n",
      "Страна: Belarus , критерий: confirmed, зависимость: polynomial_cube\n",
      "оптимальные параметры: 0.07026595790041312, 0.3511206333538608, -105.85817132690944, 849.260151168805, \n",
      "r2: 0.9955729149647339\n",
      "Страна: Belgium , критерий: confirmed, зависимость: polynomial_cube\n",
      "оптимальные параметры: -0.1517420713353772, 31.51569561971687, -1155.566178979819, 7804.66212164679, \n",
      "r2: 0.9808733300002916\n",
      "Страна: Benin , критерий: confirmed, зависимость: polynomial_cube\n",
      "оптимальные параметры: 0.002438279637913765, -0.09505995688479496, 1.5358066306498976, -0.3399991137533136, \n",
      "r2: 0.8428505943999438\n",
      "Страна: Bhutan , критерий: confirmed, зависимость: polynomial_cube\n",
      "оптимальные параметры: 0.00019230489202604268, -0.01799137665957116, 0.5668836290797893, -2.0500246205792947, \n",
      "r2: 0.8703726944305387\n",
      "Страна: Bolivia , критерий: confirmed, зависимость: polynomial_cube\n",
      "оптимальные параметры: 0.030485830736727393, -1.6758111320681741, 33.76796902484211, -134.41294259458337, \n",
      "r2: 0.9983422411536542\n",
      "Страна: Bosnia and Herzegovina , критерий: confirmed, зависимость: polynomial_cube\n",
      "оптимальные параметры: -0.010736414243131431, 1.4122564749233393, -15.314974289934774, 25.997143358262676, \n",
      "r2: 0.9982408170492937\n",
      "Страна: Brazil , критерий: confirmed, зависимость: polynomial_cube\n",
      "оптимальные параметры: 1.1261898437830016, -75.3198248805766, 1609.1307347236432, -7834.281917398171, \n",
      "r2: 0.998019725617177\n",
      "Страна: Brunei , критерий: confirmed, зависимость: polynomial_cube\n",
      "оптимальные параметры: 0.0015384026485698013, -0.22321878881802418, 10.368783201116262, -15.023765759764226, \n",
      "r2: 0.9897897590476432\n",
      "Страна: Bulgaria , критерий: confirmed, зависимость: polynomial_cube\n",
      "оптимальные параметры: -0.0025483031516442267, 0.6069971201935567, 1.3119743620342017, 10.490256608091189, \n",
      "r2: 0.9961134363521877\n",
      "Страна: Burkina Faso , критерий: confirmed, зависимость: polynomial_cube\n",
      "оптимальные параметры: -0.002448913799951491, 0.1595372541897313, 12.898293183172163, -73.55396316539856, \n",
      "r2: 0.9901288304961822\n",
      "Страна: Cabo Verde , критерий: confirmed, зависимость: polynomial_cube\n",
      "оптимальные параметры: 0.00018420534061347517, 0.12890387818256227, -2.8333105550326345, 14.328644310697145, \n",
      "r2: 0.9913980274048282\n",
      "Страна: Cambodia , критерий: confirmed, зависимость: polynomial_cube\n",
      "оптимальные параметры: -0.0006555894977048755, 0.11151038746007536, -3.47411107926895, 20.230605366059468, \n",
      "r2: 0.9368479902693401\n",
      "Страна: Cameroon , критерий: confirmed, зависимость: polynomial_cube\n",
      "оптимальные параметры: -0.0004675376362670569, 0.7338284125589947, -6.946457117242058, -10.102780863044256, \n",
      "r2: 0.9934187020120917\n",
      "Страна: Canada , критерий: confirmed, зависимость: polynomial_cube\n",
      "оптимальные параметры: 0.025219195484977197, 7.8609878218279405, -508.5843584095445, 4661.423209341687, \n",
      "r2: 0.987739511047399\n",
      "Страна: Central African Republic , критерий: confirmed, зависимость: polynomial_cube\n",
      "оптимальные параметры: 0.004756824910490034, -0.32723562628351327, 6.397624295839624, -24.470037488240422, \n",
      "r2: 0.9487627054894091\n",
      "Страна: Chad , критерий: confirmed, зависимость: polynomial_cube\n",
      "оптимальные параметры: 0.007251065472397844, -0.39942247791107266, 6.531753200017579, -19.977242782521238, \n",
      "r2: 0.9867312865288226\n",
      "Страна: Chile , критерий: confirmed, зависимость: polynomial_cube\n",
      "оптимальные параметры: 0.20139444050181188, -12.28300161217236, 353.6660098380385, -2021.4498834543244, \n",
      "r2: 0.992688015946133\n",
      "Страна: China , критерий: confirmed, зависимость: polynomial_cube\n",
      "оптимальные параметры: 0.2382257382360674, -56.54420172291076, 4257.417226460097, -17614.453932544366, \n",
      "r2: 0.9611937721804297\n",
      "Страна: Colombia , критерий: confirmed, зависимость: polynomial_cube\n",
      "оптимальные параметры: 0.056261804529392556, -2.1301691562033285, 71.51898353827715, -408.47793245386805, \n",
      "r2: 0.9979937713382248\n",
      "Страна: Congo (Brazzaville) , критерий: confirmed, зависимость: polynomial_cube\n",
      "оптимальные параметры: -0.0007227651540819835, 0.16192939533586015, -1.3483026806982847, 0.9374028749354429, \n",
      "r2: 0.9835681192179525\n",
      "Страна: Congo (Kinshasa) , критерий: confirmed, зависимость: polynomial_cube\n",
      "оптимальные параметры: 0.009147174656207513, -0.5177186162925123, 15.191602748308465, -67.32926671013499, \n",
      "r2: 0.9963760988385708\n",
      "Страна: Costa Rica , критерий: confirmed, зависимость: polynomial_cube\n",
      "оптимальные параметры: -0.0022798624118252064, 0.1372151661245833, 14.595456108608392, -90.49844090686733, \n",
      "r2: 0.9834132044498551\n",
      "Страна: Cote d'Ivoire , критерий: confirmed, зависимость: polynomial_cube\n",
      "оптимальные параметры: -0.005225840932705728, 0.941030712777722, -9.627843541784044, 17.81789517879916, \n",
      "r2: 0.9983340222442897\n",
      "Страна: Croatia , критерий: confirmed, зависимость: polynomial_cube\n",
      "оптимальные параметры: -0.017014244039651905, 2.100686480463422, -32.683087771568445, 75.18681588418846, \n",
      "r2: 0.9893257005409535\n",
      "Страна: Diamond Princess , критерий: confirmed, зависимость: exp\n",
      "оптимальные параметры: -918.1296897458215, -0.11951181014213061, 720.0425118150059, \n",
      "r2: 0.9370023006471528\n",
      "Страна: Cuba , критерий: confirmed, зависимость: polynomial_cube\n",
      "оптимальные параметры: -0.019170753719103262, 2.128922884931569, -30.29245546761029, 95.92178031037612, \n",
      "r2: 0.9985353536308976\n",
      "Страна: Cyprus , критерий: confirmed, зависимость: polynomial_cube\n",
      "оптимальные параметры: -0.0069327109681587284, 0.5889635498395968, 5.926720395626808, -49.744544562237245, \n",
      "r2: 0.9863667816749468\n",
      "Страна: Czechia , критерий: confirmed, зависимость: polynomial_cube\n",
      "оптимальные параметры: -0.05334859238709044, 5.692099159208936, -11.975985175575724, -325.6103301768523, \n",
      "r2: 0.9873692718555724\n",
      "Страна: Denmark , критерий: confirmed, зависимость: polynomial_cube\n",
      "оптимальные параметры: -0.05252279779751334, 6.873100352069352, -79.11156820185806, 194.27282299961797, \n",
      "r2: 0.9970742793287791\n",
      "Страна: Djibouti , критерий: confirmed, зависимость: polynomial_cube\n",
      "оптимальные параметры: -0.020476039499284893, 2.0378628767399247, -26.938201714880584, 56.760502967350284, \n",
      "r2: 0.9615237069135789\n",
      "Страна: Dominican Republic , критерий: confirmed, зависимость: polynomial_cube\n",
      "оптимальные параметры: -0.007053172848236059, 3.5212632070840137, -75.93539114439122, 288.3726016867311, \n",
      "r2: 0.9991686130162791\n",
      "Страна: Ecuador , критерий: confirmed, зависимость: polynomial_cube\n",
      "оптимальные параметры: -0.1329348245462747, 24.009507725522734, -661.5802960349208, 3558.269624686811, \n",
      "r2: 0.9571053481798533\n",
      "Страна: Egypt , критерий: confirmed, зависимость: polynomial_cube\n",
      "оптимальные параметры: 0.028572849678679235, -1.6272920592752276, 32.5296755210546, -160.3796960233123, \n",
      "r2: 0.9994425564429609\n",
      "Страна: El Salvador , критерий: confirmed, зависимость: polynomial_cube\n",
      "оптимальные параметры: 0.013207892504745826, -0.6453610350624261, 14.295513241106574, -51.895896813414346, \n",
      "r2: 0.9977151269662147\n",
      "Страна: Equatorial Guinea , критерий: confirmed, зависимость: polynomial_cube\n",
      "оптимальные параметры: 0.0013635590397619234, 0.13479186351761518, -4.2962368670576785, 25.70847649126228, \n",
      "r2: 0.9715628469402586\n",
      "Страна: Eritrea , критерий: confirmed, зависимость: polynomial_cube\n",
      "оптимальные параметры: 0.0004348224396320851, -0.06437572175934511, 3.088316799584836, -8.720409804972888, \n",
      "r2: 0.97306306828798\n",
      "Страна: Estonia , критерий: confirmed, зависимость: polynomial_cube\n",
      "оптимальные параметры: -0.011437673381479385, 1.2677616331477737, -6.322195432333275, -42.604746901011424, \n",
      "r2: 0.9907196103696568\n",
      "Страна: Eswatini , критерий: confirmed, зависимость: polynomial_cube\n",
      "оптимальные параметры: 0.0004151794793041397, 0.04520495727298568, -1.5654437112871284, 11.45725915877597, \n",
      "r2: 0.9775118470517159\n",
      "Страна: Ethiopia , критерий: confirmed, зависимость: polynomial_cube\n",
      "оптимальные параметры: 0.0019720668176568257, -0.12241224096090941, 4.569597360452703, -19.756736678711373, \n",
      "r2: 0.9796502483218954\n",
      "Страна: Fiji , критерий: confirmed, зависимость: polynomial_cube\n",
      "оптимальные параметры: 4.6622762684529676e-05, -0.013933673946763552, 0.9953920561706708, -2.1770472432088344, \n",
      "r2: 0.9498839975006321\n",
      "Страна: Finland , критерий: confirmed, зависимость: polynomial_cube\n",
      "оптимальные параметры: -0.007011213122331217, 2.0180908027052222, -82.23140923037225, 599.0407514640146, \n",
      "r2: 0.9896435653050856\n",
      "Страна: France , критерий: confirmed, зависимость: polynomial_cube\n",
      "оптимальные параметры: -0.40418496396309633, 93.09320486934998, -3939.559694787684, 30651.474080840842, \n",
      "r2: 0.9612067771557451\n",
      "Страна: Gabon , критерий: confirmed, зависимость: polynomial_cube\n",
      "оптимальные параметры: 0.016699679261472755, -1.0858885312541693, 21.456543066507194, -88.38731604236695, \n",
      "r2: 0.9873910295644545\n",
      "Страна: Gambia , критерий: confirmed, зависимость: polynomial_cube\n",
      "оптимальные параметры: 4.6345557968230366e-05, 0.0004635568171240667, 0.1738568511143559, 0.7251218176515308, \n",
      "r2: 0.966252109518215\n",
      "Страна: Georgia , критерий: confirmed, зависимость: polynomial_cube\n",
      "оптимальные параметры: -0.0026033884679832475, 0.421136978566677, -9.039390560739296, 46.15109761544446, \n",
      "r2: 0.9951519882416715\n",
      "Страна: Germany , критерий: confirmed, зависимость: polynomial_cube\n",
      "оптимальные параметры: -0.55300374529507, 111.5282082935685, -4211.982310792352, 29413.595239358077, \n",
      "r2: 0.974760115754327\n",
      "Страна: Ghana , критерий: confirmed, зависимость: polynomial_cube\n",
      "оптимальные параметры: 0.03540413331161785, -1.1682055157166196, 19.31832484759728, -37.723867550443565, \n",
      "r2: 0.9877028671096604\n",
      "Страна: Greece , критерий: confirmed, зависимость: polynomial_cube\n",
      "оптимальные параметры: -0.014481815438874612, 1.59084695334544, 0.9755219827184131, -111.82803222213049, \n",
      "r2: 0.9892844868006261\n",
      "Страна: Guatemala , критерий: confirmed, зависимость: polynomial_cube\n",
      "оптимальные параметры: 0.014305220151441062, -0.7412012634043759, 15.848899740601938, -63.40450949892762, \n",
      "r2: 0.9906080028324517\n",
      "Страна: Guinea , критерий: confirmed, зависимость: polynomial_cube\n",
      "оптимальные параметры: -0.00440427546481037, 1.3726439781815645, -32.0836899241486, 139.10849905165435, \n",
      "r2: 0.9960184012655217\n",
      "Страна: Guyana , критерий: confirmed, зависимость: polynomial_cube\n",
      "оптимальные параметры: -0.000417977924435764, 0.054850047239648037, -0.07106645646776344, 1.8974020850144786, \n",
      "r2: 0.9854814678946872\n",
      "Страна: Haiti , критерий: confirmed, зависимость: polynomial_cube\n",
      "оптимальные параметры: 0.009035148729854317, -0.6302226468257068, 13.398726232428553, -49.833048413119926, \n",
      "r2: 0.947718806435333\n",
      "Страна: Holy See , критерий: confirmed, зависимость: polynomial_cube\n",
      "оптимальные параметры: -2.4412209640706812e-05, 0.001555756001596688, 0.18679681629417624, -0.3900793577821928, \n",
      "r2: 0.9566811131268048\n",
      "Страна: Honduras , критерий: confirmed, зависимость: polynomial_cube\n",
      "оптимальные параметры: 0.02114288950165366, -1.3077918151904355, 33.30082591813586, -146.14438839815762, \n",
      "r2: 0.9887059747126922\n",
      "Страна: Hungary , критерий: confirmed, зависимость: polynomial_cube\n",
      "оптимальные параметры: -0.022744019445089254, 3.0526759012338984, -57.36583187851019, 230.3043594001723, \n",
      "r2: 0.9972379290025343\n",
      "Страна: Iceland , критерий: confirmed, зависимость: polynomial_cube\n",
      "оптимальные параметры: -0.010396059686913928, 0.8521091546125203, 21.627333179074206, -207.78294626869422, \n",
      "r2: 0.9671061542952349\n",
      "Страна: India , критерий: confirmed, зависимость: polynomial_cube\n",
      "оптимальные параметры: 0.2630472843021333, -27.780140391709573, 800.3923114493512, -4925.7800820108, \n",
      "r2: 0.9961557852004775\n",
      "Страна: Indonesia , критерий: confirmed, зависимость: polynomial_cube\n",
      "оптимальные параметры: -0.011427763385306156, 5.025239992484109, -98.5015566781559, 391.6050531755576, \n",
      "r2: 0.9990851196302062\n",
      "Страна: Iran , критерий: confirmed, зависимость: polynomial_cube\n",
      "оптимальные параметры: -0.3413206113969367, 50.45411144106997, -493.348956128511, 79.03703599767239, \n",
      "r2: 0.9933731652363569\n",
      "Страна: Iraq , критерий: confirmed, зависимость: polynomial_cube\n",
      "оптимальные параметры: -0.0014015814595347287, 0.6216083098873679, -2.6560378733281116, -26.054634798604734, \n",
      "r2: 0.9931799372774998\n",
      "Страна: Ireland , критерий: confirmed, зависимость: polynomial_cube\n",
      "оптимальные параметры: -0.1770927387365897, 24.545170622190685, -558.9832256986339, 2520.151069283022, \n",
      "r2: 0.9917656661870708\n",
      "Страна: Israel , критерий: confirmed, зависимость: polynomial_cube\n",
      "оптимальные параметры: -0.13085245619244912, 18.07044369096947, -417.3107263065809, 1775.039897187064, \n",
      "r2: 0.9901522882581557\n",
      "Страна: Italy , критерий: confirmed, зависимость: polynomial_cube\n",
      "оптимальные параметры: -0.7235942838937643, 134.97512966431546, -4296.438431768465, 25323.521192430188, \n",
      "r2: 0.9921733387648441\n",
      "Страна: Jamaica , критерий: confirmed, зависимость: polynomial_cube\n",
      "оптимальные параметры: -0.004961327657724518, 0.6527921822008228, -14.561717659128083, 76.39028637449833, \n",
      "r2: 0.9720761576579969\n",
      "Страна: Japan , критерий: confirmed, зависимость: polynomial_cube\n",
      "оптимальные параметры: -0.006361099173882501, 3.5132887038370493, -180.41918293499444, 1628.8519073356308, \n",
      "r2: 0.9589753831684377\n",
      "Страна: Jordan , критерий: confirmed, зависимость: polynomial_cube\n",
      "оптимальные параметры: 0.00020644672880620885, -0.08050341779769621, 13.872800183086756, -92.71173037513401, \n",
      "r2: 0.9671258733268548\n",
      "Страна: Kazakhstan , критерий: confirmed, зависимость: polynomial_cube\n",
      "оптимальные параметры: -0.00628579223702741, 2.4123391703861023, -38.74116165692118, 167.53582150980162, \n",
      "r2: 0.99752978505486\n",
      "Страна: Kenya , критерий: confirmed, зависимость: polynomial_cube\n",
      "оптимальные параметры: 0.0030925993599697304, -0.11096682477718044, 7.608871691959373, -38.2335551533045, \n",
      "r2: 0.9945510095998336\n",
      "Страна: Korea, South , критерий: confirmed, зависимость: polynomial_cube\n",
      "оптимальные параметры: -0.02636747188523736, 3.729267989797388, 16.92457508719579, -990.9370963801169, \n",
      "r2: 0.9467836670642384\n",
      "Страна: Kuwait , критерий: confirmed, зависимость: polynomial_cube\n",
      "оптимальные параметры: 0.08524502199712702, -7.176647490024351, 178.27133864540778, -907.4037898732417, \n",
      "r2: 0.9881777025776225\n",
      "Страна: Kyrgyzstan , критерий: confirmed, зависимость: polynomial_cube\n",
      "оптимальные параметры: -0.003270105119861144, 0.41429386136096424, 6.198874560532177, -33.569556713991176, \n",
      "r2: 0.9941200888529496\n",
      "Страна: Latvia , критерий: confirmed, зависимость: polynomial_cube\n",
      "оптимальные параметры: -0.004135866680238243, 0.41959537244069534, 5.510546156386778, -65.05124722056898, \n",
      "r2: 0.9887312091448234\n",
      "Страна: Lebanon , критерий: confirmed, зависимость: polynomial_cube\n",
      "оптимальные параметры: -0.002402620177641479, 0.2866163416041826, 3.779219481173898, -58.505173192166104, \n",
      "r2: 0.9753861861261246\n",
      "Страна: Liberia , критерий: confirmed, зависимость: polynomial_cube\n",
      "оптимальные параметры: -0.0018283918561091145, 0.22885101323712287, -3.7637911945930735, 13.715055347067967, \n",
      "r2: 0.996616178999628\n",
      "Страна: Liechtenstein , критерий: confirmed, зависимость: polynomial_cube\n",
      "оптимальные параметры: 0.00015125574830732516, -0.0498274836515115, 4.237090614809376, -22.5198128775354, \n",
      "r2: 0.9490350749358483\n",
      "Страна: Lithuania , критерий: confirmed, зависимость: polynomial_cube\n",
      "оптимальные параметры: -0.012249881548382247, 1.4311559412554657, -18.321916968874138, 17.449026905949445, \n",
      "r2: 0.9854371058546464\n",
      "Страна: Luxembourg , критерий: confirmed, зависимость: polynomial_cube\n",
      "оптимальные параметры: -0.024676527105778945, 2.289428419969611, 24.29933239677236, -387.2272500519981, \n",
      "r2: 0.9711338296983204\n",
      "Страна: Madagascar , критерий: confirmed, зависимость: polynomial_cube\n",
      "оптимальные параметры: 0.004487462981837886, -0.3772954139090332, 12.013566405983658, -35.49503214504924, \n",
      "r2: 0.9751985027030476\n",
      "Страна: Malaysia , критерий: confirmed, зависимость: polynomial_cube\n",
      "оптимальные параметры: -0.016732249713323544, 3.5665776130960283, -135.89612542253158, 963.4683471046005, \n",
      "r2: 0.9824111212612612\n",
      "Страна: Maldives , критерий: confirmed, зависимость: polynomial_cube\n",
      "оптимальные параметры: 0.0065767692994017635, -0.25678239040320605, 0.9923755447139473, 22.018039745337237, \n",
      "r2: 0.9821001463865807\n",
      "Страна: Malta , критерий: confirmed, зависимость: polynomial_cube\n",
      "оптимальные параметры: -0.0023612505457526467, 0.1951224570335054, 5.892036585766761, -35.649313504252746, \n",
      "r2: 0.981694985124951\n",
      "Страна: Mauritania , критерий: confirmed, зависимость: polynomial_cube\n",
      "оптимальные параметры: 0.001599088329168885, -0.13897530305177286, 3.3415854593047403, -14.013385867858936, \n",
      "r2: 0.6556958584640322\n",
      "Страна: Mauritius , критерий: confirmed, зависимость: polynomial_cube\n",
      "оптимальные параметры: 0.002000014276394735, -0.38542185053936495, 22.597971036447934, -75.07360680940035, \n",
      "r2: 0.9686559638016606\n",
      "Страна: Mexico , критерий: confirmed, зависимость: polynomial_cube\n",
      "оптимальные параметры: 0.19737624265182707, -10.047908205695911, 165.5607406885629, -628.6960738924719, \n",
      "r2: 0.9997598664611457\n",
      "Страна: Moldova , критерий: confirmed, зависимость: polynomial_cube\n",
      "оптимальные параметры: -0.02035318166159983, 3.3612119837425647, -54.94022575548841, 174.82365425462126, \n",
      "r2: 0.9979261400722796\n",
      "Страна: Monaco , критерий: confirmed, зависимость: polynomial_cube\n",
      "оптимальные параметры: -0.0007391126370985767, 0.06915708705458243, 0.35413135796132816, -7.964698863335084, \n",
      "r2: 0.9602630404058202\n",
      "Страна: Mongolia , критерий: confirmed, зависимость: polynomial_cube\n",
      "оптимальные параметры: 0.0013427954965076205, -0.1152566636337462, 3.311967681147696, -13.854142759458355, \n",
      "r2: 0.8410823404896126\n",
      "Страна: Montenegro , критерий: confirmed, зависимость: polynomial_cube\n",
      "оптимальные параметры: 0.0001664675019601436, -0.17692757955089267, 16.362955769636656, -60.80859837338021, \n",
      "r2: 0.9764955842997737\n",
      "Страна: Morocco , критерий: confirmed, зависимость: polynomial_cube\n",
      "оптимальные параметры: -0.01916694768633742, 3.702973843394144, -85.62354666622498, 387.13697428566616, \n",
      "r2: 0.9968818569927855\n",
      "Страна: Namibia , критерий: confirmed, зависимость: polynomial_cube\n",
      "оптимальные параметры: 0.00014283195338373825, -0.02271370902527713, 1.1559543917332158, -2.583244219185267, \n",
      "r2: 0.9507849781735619\n",
      "Страна: Nepal , критерий: confirmed, зависимость: polynomial_cube\n",
      "оптимальные параметры: 0.0010150201645580115, -0.13442367805713995, 4.760622479050115, -34.16891321482091, \n",
      "r2: 0.8973897823009036\n",
      "Страна: Netherlands , критерий: confirmed, зависимость: polynomial_cube\n",
      "оптимальные параметры: -0.302603225426748, 38.79619063207924, -649.8709949395707, 2079.4339361274424, \n",
      "r2: 0.997618169289639\n",
      "Страна: New Zealand , критерий: confirmed, зависимость: polynomial_cube\n",
      "оптимальные параметры: -0.01539573081397605, 1.68565218967623, -19.322813502411645, -6.959732656314776, \n",
      "r2: 0.9622850656005703\n",
      "Страна: Nicaragua , критерий: confirmed, зависимость: polynomial_cube\n",
      "оптимальные параметры: 0.0021345855821688353, -0.1698021967294987, 3.844110515352425, -15.01047782093374, \n",
      "r2: 0.3513509098756651\n",
      "Страна: Niger , критерий: confirmed, зависимость: polynomial_cube\n",
      "оптимальные параметры: -0.004209978267962988, 0.1662829989907153, 21.652350346537823, -130.21803949405606, \n",
      "r2: 0.9639490671518288\n",
      "Страна: Nigeria , критерий: confirmed, зависимость: polynomial_cube\n",
      "оптимальные параметры: 0.033258053314931924, -2.232481892005914, 43.83645436251922, -182.38830286018924, \n",
      "r2: 0.9947391631741318\n",
      "Страна: North Macedonia , критерий: confirmed, зависимость: polynomial_cube\n",
      "оптимальные параметры: -0.01028507963858228, 1.468382959090677, -31.471530314938494, 129.8711642466226, \n",
      "r2: 0.9942201176791127\n",
      "Страна: Norway , критерий: confirmed, зависимость: polynomial_cube\n",
      "оптимальные параметры: -0.03492531754839234, 3.3005805261606924, 68.19163313821565, -676.597622910317, \n",
      "r2: 0.9868307038338607\n",
      "Страна: Oman , критерий: confirmed, зависимость: polynomial_cube\n",
      "оптимальные параметры: 0.012461366745664781, -0.3765571732976938, 2.8042733040905237, 3.260838546735171, \n",
      "r2: 0.9939422373791417\n",
      "Страна: Pakistan , критерий: confirmed, зависимость: polynomial_cube\n",
      "оптимальные параметры: 0.14243421584795135, -7.338970487917978, 152.48557167149994, -736.7973051081224, \n",
      "r2: 0.9983817423568574\n",
      "Страна: Panama , критерий: confirmed, зависимость: polynomial_cube\n",
      "оптимальные параметры: -0.037634598756409066, 5.356577974259043, -53.434367603830104, 129.94593648879803, \n",
      "r2: 0.9996180304867984\n",
      "Страна: Papua New Guinea , критерий: confirmed, зависимость: polynomial_cube\n",
      "оптимальные параметры: -0.00021585507666596753, 0.018377728958390814, -0.23113127775801956, 1.4278296743575767, \n",
      "r2: 0.9154591799308789\n",
      "Страна: Paraguay , критерий: confirmed, зависимость: polynomial_cube\n",
      "оптимальные параметры: 0.004228424427416333, -0.22855949260658326, 6.957935219776865, -28.66869252048833, \n",
      "r2: 0.9751523588575819\n",
      "Страна: Peru , критерий: confirmed, зависимость: polynomial_cube\n",
      "оптимальные параметры: 0.3229504831148319, -5.19135517017184, -81.64887764433597, 871.8653511064346, \n",
      "r2: 0.9987707814364718\n",
      "Страна: Philippines , критерий: confirmed, зависимость: polynomial_cube\n",
      "оптимальные параметры: -0.0034077910097385367, 2.410787468791778, -111.96623527225513, 862.7006147116285, \n",
      "r2: 0.9904996904684132\n",
      "Страна: Poland , критерий: confirmed, зависимость: polynomial_cube\n",
      "оптимальные параметры: -0.06689870395965758, 10.272315321319407, -155.47326510334764, 444.9772182307605, \n",
      "r2: 0.9987444608108141\n",
      "Страна: Portugal , критерий: confirmed, зависимость: polynomial_cube\n",
      "оптимальные параметры: -0.20405495201896406, 24.46070106580205, -316.5364500054145, 512.1910933847184, \n",
      "r2: 0.9948495203232266\n",
      "Страна: Qatar , критерий: confirmed, зависимость: polynomial_cube\n",
      "оптимальные параметры: 0.12967104964713458, -6.35174530302802, 106.413538855176, -313.31372023965014, \n",
      "r2: 0.9993394112006965\n",
      "Страна: Romania , критерий: confirmed, зависимость: polynomial_cube\n",
      "оптимальные параметры: -0.06146703965836409, 10.373216455178675, -243.2921413656734, 1084.1268701101742, \n",
      "r2: 0.9979755170528466\n",
      "Страна: Russia , критерий: confirmed, зависимость: polynomial_cube\n",
      "оптимальные параметры: 0.8620536662747358, -91.35256560138204, 2578.6057450370445, -15248.752089564321, \n",
      "r2: 0.9955134850815198\n",
      "Страна: Rwanda , критерий: confirmed, зависимость: polynomial_cube\n",
      "оптимальные параметры: -0.0005629859594880049, 0.06613866531778911, 2.803366435137887, -1.8126761298596534, \n",
      "r2: 0.9853373549504306\n",
      "Страна: Saint Lucia , критерий: confirmed, зависимость: polynomial_cube\n",
      "оптимальные параметры: 7.111427227402942e-05, -0.013417015607215357, 0.8871680945716904, -2.486907532432738, \n",
      "r2: 0.915748889900872\n",
      "Страна: Saint Vincent and the Grenadines , критерий: confirmed, зависимость: polynomial_cube\n",
      "оптимальные параметры: -0.0001940314545632038, 0.016898654650815415, -0.02708328717646502, 0.049238075345872434, \n",
      "r2: 0.9530495462538807\n",
      "Страна: San Marino , критерий: confirmed, зависимость: polynomial_cube\n",
      "оптимальные параметры: -0.0017938426077255265, 0.23000899924193596, 1.3113276775390048, -0.3894902100936477, \n",
      "r2: 0.9952958789857639\n",
      "Страна: Saudi Arabia , критерий: confirmed, зависимость: polynomial_cube\n",
      "оптимальные параметры: 0.1992895560296568, -6.969550686817626, 67.95764652837494, -20.37474317829063, \n",
      "r2: 0.999062122450672\n",
      "Страна: Senegal , критерий: confirmed, зависимость: polynomial_cube\n",
      "оптимальные параметры: 0.013021864713126208, -0.8246084994803817, 19.867449660475618, -87.88407261984094, \n",
      "r2: 0.9953600092808605\n",
      "Страна: Serbia , критерий: confirmed, зависимость: polynomial_cube\n",
      "оптимальные параметры: -0.10014109229828941, 12.543000351728866, -250.82436101743036, 1007.8806749591721, \n",
      "r2: 0.9947252683968903\n",
      "Страна: Seychelles , критерий: confirmed, зависимость: polynomial_cube\n",
      "оптимальные параметры: 0.0001015675952691534, -0.014400954243378956, 0.6536930312168205, 1.5681492133592245, \n",
      "r2: 0.9665881861564841\n",
      "Страна: Singapore , критерий: confirmed, зависимость: polynomial_cube\n",
      "оптимальные параметры: 0.05459852138401344, -5.132892924518516, 122.01411591191396, -508.0122233547085, \n",
      "r2: 0.9848982845761617\n",
      "Страна: Slovakia , критерий: confirmed, зависимость: polynomial_cube\n",
      "оптимальные параметры: -0.01366652927796963, 1.4917752955976615, -16.973417207237667, 62.75275906059669, \n",
      "r2: 0.9922965027410922\n",
      "Страна: Slovenia , критерий: confirmed, зависимость: polynomial_cube\n",
      "оптимальные параметры: -0.004409046931749039, 0.15630532794884922, 33.79282506128089, -152.75888852115963, \n",
      "r2: 0.9919817272374994\n",
      "Страна: Somalia , критерий: confirmed, зависимость: polynomial_cube\n",
      "оптимальные параметры: 0.0008671748079014385, 0.5379469164787753, -15.74206987218609, 75.062291740611, \n",
      "r2: 0.9951808079100337\n",
      "Страна: South Africa , критерий: confirmed, зависимость: polynomial_cube\n",
      "оптимальные параметры: 0.08956003189146844, -6.088702394017634, 174.08202673095442, -884.8206629143494, \n",
      "r2: 0.9949077684290701\n",
      "Страна: Spain , критерий: confirmed, зависимость: polynomial_cube\n",
      "оптимальные параметры: -0.9155426384679595, 170.0074033628123, -5903.782467676208, 38019.86456955919, \n",
      "r2: 0.9774227220160009\n",
      "Страна: Sri Lanka , критерий: confirmed, зависимость: polynomial_cube\n",
      "оптимальные параметры: 0.0011741301981761376, -0.04812131104382389, -0.05862454558930663, 7.705683276540902, \n",
      "r2: 0.9838724007430757\n",
      "Страна: Sudan , критерий: confirmed, зависимость: polynomial_cube\n",
      "оптимальные параметры: 0.029039584996461643, -1.8399347999223186, 32.34682329230732, -121.33384087410512, \n",
      "r2: 0.9961989664473211\n",
      "Страна: Suriname , критерий: confirmed, зависимость: polynomial_cube\n",
      "оптимальные параметры: 0.00017235098474636032, -0.02231717096751242, 0.9073820321124824, -1.3979295659848339, \n",
      "r2: 0.9573148097940011\n",
      "Страна: Sweden , критерий: confirmed, зависимость: polynomial_cube\n",
      "оптимальные параметры: -0.003021857736096978, 4.935155670179632, -224.9573754893995, 1700.9570652981222, \n",
      "r2: 0.9942611063104416\n",
      "Страна: Switzerland , критерий: confirmed, зависимость: polynomial_cube\n",
      "оптимальные параметры: -0.19858799923365833, 21.495584824145848, -55.306567823878254, -1474.6601471302179, \n",
      "r2: 0.9814834961382847\n",
      "Страна: Taiwan* , критерий: confirmed, зависимость: polynomial_cube\n",
      "оптимальные параметры: -0.0015001258424207412, 0.28452245707264395, -9.697940763348548, 72.62225546969148, \n",
      "r2: 0.9660218847096217\n",
      "Страна: Tanzania , критерий: confirmed, зависимость: polynomial_cube\n",
      "оптимальные параметры: -0.00928636711381598, 1.037574004321523, -21.653175397703997, 95.29999012447891, \n",
      "r2: 0.9641972759348586\n",
      "Страна: Thailand , критерий: confirmed, зависимость: polynomial_cube\n",
      "оптимальные параметры: -0.010195729184901525, 2.070730043652761, -81.62380769649785, 617.0211677722909, \n",
      "r2: 0.9581190458487977\n",
      "Страна: Togo , критерий: confirmed, зависимость: polynomial_cube\n",
      "оптимальные параметры: 0.002026190380178261, -0.1691372906971711, 5.782455386539738, -31.439798428639662, \n",
      "r2: 0.9576034244336571\n",
      "Страна: Trinidad and Tobago , критерий: confirmed, зависимость: polynomial_cube\n",
      "оптимальные параметры: 0.0012743762277059544, -0.18766046426927158, 8.95837840217285, -22.495701129960953, \n",
      "r2: 0.9815443968311277\n",
      "Страна: Tunisia , критерий: confirmed, зависимость: polynomial_cube\n",
      "оптимальные параметры: -0.008652486785932334, 0.877570394475464, -3.5078757654785075, -32.9361031572484, \n",
      "r2: 0.9884374588215366\n",
      "Страна: Turkey , критерий: confirmed, зависимость: polynomial_cube\n",
      "оптимальные параметры: -1.4819491228585755, 165.52000353658156, -2344.6424090400983, 6070.340616274429, \n",
      "r2: 0.9969548049786037\n",
      "Страна: Uganda , критерий: confirmed, зависимость: polynomial_cube\n",
      "оптимальные параметры: 0.004529401484935636, -0.34568813245775076, 8.891115383215247, -20.100212248967512, \n",
      "r2: 0.9704401800478404\n",
      "Страна: Ukraine , критерий: confirmed, зависимость: polynomial_cube\n",
      "оптимальные параметры: -0.016037110441471852, 6.870208778362939, -197.1739260046853, 1007.7502848563938, \n",
      "r2: 0.9960321381966277\n",
      "Страна: United Arab Emirates , критерий: confirmed, зависимость: polynomial_cube\n",
      "оптимальные параметры: 0.03949330118847305, -2.717910182876805, 38.42571677179202, -7.911487533155267, \n",
      "r2: 0.9972292126054534\n",
      "Страна: United Kingdom , критерий: confirmed, зависимость: polynomial_cube\n",
      "оптимальные параметры: -0.03721527879185271, 45.763787352406936, -2271.4441088303215, 18338.208778556553, \n",
      "r2: 0.9870351255273231\n",
      "Страна: Uruguay , критерий: confirmed, зависимость: polynomial_cube\n",
      "оптимальные параметры: 0.002019360154105434, -0.3475846274675882, 26.307856481726002, -60.8835971138767, \n",
      "r2: 0.9952592963804535\n",
      "Страна: US , критерий: confirmed, зависимость: polynomial_cube\n",
      "оптимальные параметры: 0.16878441652830536, 185.1567949182552, -11285.264551163496, 104244.72933817453, \n",
      "r2: 0.9842103297065041\n",
      "Страна: Uzbekistan , критерий: confirmed, зависимость: polynomial_cube\n",
      "оптимальные параметры: -0.025603291744065837, 2.713209587317497, -27.84808436555466, 50.83071095582541, \n",
      "r2: 0.988916020547236\n",
      "Страна: Venezuela , критерий: confirmed, зависимость: polynomial_cube\n",
      "оптимальные параметры: 0.00309806610763963, -0.2516008512453023, 12.0433146911029, -18.892723880669525, \n",
      "r2: 0.9642642813669617\n",
      "Страна: Vietnam , критерий: confirmed, зависимость: polynomial_cube\n",
      "оптимальные параметры: -0.0009127018472040682, 0.1735141206465249, -5.670895742486125, 40.89252308908825, \n",
      "r2: 0.9612950058472461\n",
      "Страна: Zambia , критерий: confirmed, зависимость: polynomial_cube\n",
      "оптимальные параметры: 0.014916295387441325, -1.0715416737077557, 22.352386116975556, -83.32382295436385, \n",
      "r2: 0.9520498639909718\n",
      "Страна: Zimbabwe , критерий: confirmed, зависимость: polynomial_cube\n",
      "оптимальные параметры: -0.0002562339498548226, 0.021480154487278354, 0.30715148065208825, 0.9190295963038536, \n",
      "r2: 0.9663684290343256\n",
      "Страна: Dominica , критерий: confirmed, зависимость: polynomial_cube\n",
      "оптимальные параметры: 0.0003118866801629513, -0.03587444962564025, 1.2891851192100614, 1.7419943410642456, \n",
      "r2: 0.9234794276288079\n",
      "Страна: Grenada , критерий: confirmed, зависимость: polynomial_cube\n",
      "оптимальные параметры: 0.00010715278159760777, -0.014244493869305899, 0.8385505859435826, 1.0876682746085269, \n",
      "r2: 0.9494512639629608\n",
      "Страна: Mozambique , критерий: confirmed, зависимость: polynomial_cube\n",
      "оптимальные параметры: -0.00012888809211375474, 0.044441527063931674, 0.11550461798609313, 2.035774708573493, \n",
      "r2: 0.9735083097784629\n",
      "Страна: Syria , критерий: confirmed, зависимость: polynomial_cube\n",
      "оптимальные параметры: 3.119991660049948e-05, -0.015114294755673274, 1.752334280157679, -4.223784182828146, \n",
      "r2: 0.9701532275425125\n",
      "Страна: Timor-Leste , критерий: confirmed, зависимость: polynomial_cube\n",
      "оптимальные параметры: -0.0008179473081064975, 0.06709222180581809, -0.8224740611293242, 2.3522257081230955, \n",
      "r2: 0.9200565378452839\n",
      "Страна: Belize , критерий: confirmed, зависимость: polynomial_cube\n",
      "оптимальные параметры: -6.762237747150204e-05, -0.005640222487687237, 0.8812617376842258, -2.8018361553339655, \n",
      "r2: 0.9175963414467884\n",
      "Страна: Laos , критерий: confirmed, зависимость: polynomial_cube\n",
      "оптимальные параметры: 0.00023332049887477514, -0.03126228068259144, 1.3468522392421467, 0.5449234133610656, \n",
      "r2: 0.9671233251002939\n",
      "Страна: Libya , критерий: confirmed, зависимость: polynomial_cube\n",
      "оптимальные параметры: -0.0007208916016621043, 0.035159466429442815, 1.4716380391382025, -4.5566064716234385, \n",
      "r2: 0.9711888260968136\n",
      "Страна: West Bank and Gaza , критерий: confirmed, зависимость: polynomial_cube\n",
      "оптимальные параметры: -0.0025869988428239843, 0.24677592196419829, 0.8550383459533519, -1.9697032288817518, \n",
      "r2: 0.9772600006675307\n",
      "Страна: Guinea-Bissau , критерий: confirmed, зависимость: polynomial_cube\n",
      "оптимальные параметры: 0.010862999708922572, -0.22808356860796852, -0.5421746213021936, 23.506711318101033, \n",
      "r2: 0.9768706885023998\n",
      "Страна: Mali , критерий: confirmed, зависимость: polynomial_cube\n",
      "оптимальные параметры: -0.0071391374853754935, 0.8398770218397733, -9.464110121286836, 39.47496310227839, \n",
      "r2: 0.9980666216177149\n",
      "Страна: Saint Kitts and Nevis , критерий: confirmed, зависимость: polynomial_cube\n",
      "оптимальные параметры: 0.00020756348694226024, -0.026603394164895135, 1.113765627429966, -0.21409523188636598, \n",
      "r2: 0.9726316883812685\n",
      "Страна: Kosovo , критерий: confirmed, зависимость: polynomial_cube\n",
      "оптимальные параметры: -0.015290966257121452, 1.1242816184604418, -0.23796287772487879, 57.380941490468764, \n",
      "r2: 0.985496792442113\n",
      "Страна: Burma , критерий: confirmed, зависимость: polynomial_cube\n",
      "оптимальные параметры: -0.003219006283093462, 0.22822354922474652, 0.27379642805103765, 2.708219104429703, \n",
      "r2: 0.9770699165531046\n",
      "Страна: MS Zaandam , критерий: confirmed, зависимость: polynomial_cube\n",
      "оптимальные параметры: 0.0003007248809897804, -0.028795639886218014, 0.825987723405188, 2.281123564006406, \n",
      "r2: 0.6696935417523653\n",
      "Страна: Botswana , критерий: confirmed, зависимость: polynomial_cube\n",
      "оптимальные параметры: -2.035755120899374e-05, -0.01141458357485714, 1.1026883300798382, -0.2688275310410193, \n",
      "r2: 0.9617196176696627\n",
      "Страна: Burundi , критерий: confirmed, зависимость: polynomial_cube\n",
      "оптимальные параметры: 0.0005763865602290696, -0.033014525023169705, 0.8190897351489625, -0.7235866261856498, \n",
      "r2: 0.7756959167107377\n",
      "Страна: Sierra Leone , критерий: confirmed, зависимость: polynomial_cube\n",
      "оптимальные параметры: 0.004723336696867642, -0.015020962529918025, 0.01665962404495691, 2.743191489348359, \n",
      "r2: 0.9980479402216408\n",
      "Страна: Malawi , критерий: confirmed, зависимость: polynomial_cube\n",
      "оптимальные параметры: 0.0001240407745810579, 0.004391139740526184, 0.9907985293065362, 0.8188919724067294, \n",
      "r2: 0.9809685031657236\n",
      "Страна: South Sudan , критерий: confirmed, зависимость: polynomial_cube\n",
      "оптимальные параметры: 0.007042553334193791, -0.18614231617898658, 1.205166694662819, 1.4984731031288723, \n",
      "r2: 0.9858020588860202\n",
      "Страна: Western Sahara , критерий: confirmed, зависимость: polynomial_cube\n",
      "оптимальные параметры: 0.00013969120154731982, -0.012326544257376932, 0.3379949017948834, 3.189476138064338, \n",
      "r2: 0.8161097018851465\n",
      "Страна: Sao Tome and Principe , критерий: confirmed, зависимость: polynomial_cube\n",
      "оптимальные параметры: -0.005762307665850841, 0.6586420129681834, -12.481919954476325, 47.30505852635769, \n",
      "r2: 0.8895266918388005\n",
      "Страна: Yemen , критерий: confirmed, зависимость: polynomial_cube\n",
      "оптимальные параметры: 0.007154735113283794, -0.2409620545153357, 2.284254527087513, -3.9758179232126967, \n",
      "r2: 0.9933288862790908\n",
      "Страна: Comoros , критерий: confirmed, зависимость: polynomial_cube\n",
      "оптимальные параметры: -0.002264535219875846, 0.02285940322252169, 0.9972601643518655, -0.8082559262079027, \n",
      "r2: 0.9346499833840156\n",
      "Страна: Tajikistan , критерий: confirmed, зависимость: polynomial_cube\n",
      "оптимальные параметры: 0.45284178437915745, -9.966612357469561, 124.90341184694569, -176.29308565570352, \n",
      "r2: 0.9935536364660116\n",
      "Страна: Lesotho , критерий: confirmed, зависимость: linear\n",
      "оптимальные параметры: 1, 0, \n",
      "r2: 0\n"
     ]
    }
   ],
   "source": [
    "#Функции зависимости стран по количеству заражённых умерших и выздоровевших\n",
    "# methods = ['r2' , 'mse']\n",
    "#statuses ['confirmed' , 'deaths', 'recovered']\n",
    "# Лучшие результаты при кубическом трёхчлене, при его отсутствии - при квадратном трёхчлене\n",
    "print_countries_dependencies_by_status(df , status='confirmed' , count = len(df.columns) , method = \"r2\")"
   ]
  },
  {
   "cell_type": "code",
   "execution_count": 27,
   "metadata": {
    "scrolled": true
   },
   "outputs": [],
   "source": [
    "pop_data = requests.get(SOURCE_COUNTRIES_BY_POPULATION).json()"
   ]
  },
  {
   "cell_type": "code",
   "execution_count": 28,
   "metadata": {},
   "outputs": [],
   "source": [
    "data[\"United States\"] = data.pop(\"US\")\n",
    "df = df.rename(columns={\"US\": \"United States\"})"
   ]
  },
  {
   "cell_type": "code",
   "execution_count": 29,
   "metadata": {
    "scrolled": true
   },
   "outputs": [],
   "source": [
    "def get_procent_to_population(data,df,pop_data, count = len(df.columns)):\n",
    "    result = []\n",
    "    for country_name in df.columns[:count]: \n",
    "        country = pd.DataFrame.from_dict(data[country_name])    \n",
    "        for state in pop_data:\n",
    "            if state['country'] == country_name:\n",
    "                population = state['population']\n",
    "                break\n",
    "        population = int(state['population'])\n",
    "        confirmed = int(country.iloc[len(country)-1]['confirmed']) / population * 100\n",
    "        dead = int(country.iloc[len(country)-1]['deaths']) / population * 100\n",
    "        result.append({\"country\":country_name ,\"population\":population , \"conf_to_pop\":confirmed, \"dead_to_pop\":dead})\n",
    "    return result"
   ]
  },
  {
   "cell_type": "code",
   "execution_count": 30,
   "metadata": {},
   "outputs": [],
   "source": [
    "def print_procent_to_population(data,df,pop_data, count = len(df.columns)):\n",
    "    countries = get_procent_to_population(data,df,pop_data,count) \n",
    "    for country in countries:\n",
    "        print(f\"Страна: {country['country']} , население: {country['population']} , процент заразившихся: {country['conf_to_pop']} , процент умерших: {country['dead_to_pop']}\")\n",
    "    "
   ]
  },
  {
   "cell_type": "code",
   "execution_count": 31,
   "metadata": {
    "scrolled": true
   },
   "outputs": [
    {
     "name": "stdout",
     "output_type": "stream",
     "text": [
      "Страна: Afghanistan , население: 37172386 , процент заразившихся: 0.02058786325957123 , процент умерших: 0.0004788500797339186\n",
      "Страна: Albania , население: 2866376 , процент заразившихся: 0.03310800816082747 , процент умерших: 0.0010815050084148068\n",
      "Страна: Algeria , население: 42228429 , процент заразившихся: 0.01746927407600221 , процент умерших: 0.001328488919159176\n",
      "Страна: Andorra , население: 77006 , процент заразившихся: 0.9882346830117134 , процент умерших: 0.06622860556320287\n",
      "Страна: Angola , население: 30809762 , процент заразившихся: 0.00016877767507584123 , процент умерших: 9.737173562067764e-06\n",
      "Страна: Antigua and Barbuda , население: 96286 , процент заразившихся: 0.025964314645950604 , процент умерших: 0.003115717757514073\n",
      "Страна: Argentina , население: 44494502 , процент заразившихся: 0.01979795166602831 , процент умерших: 0.0008832551940911711\n",
      "Страна: Armenia , население: 2951776 , процент заразившихся: 0.1707785414611407 , процент умерших: 0.0021681862038311853\n",
      "Страна: Australia , население: 24982688 , процент заразившихся: 0.028307602448543565 , процент умерших: 0.0004002771839443378\n",
      "Страна: Austria , население: 8840521 , процент заразившихся: 0.1846158161945433 , процент умерших: 0.007148899934743665\n",
      "Страна: Azerbaijan , население: 9939800 , процент заразившихся: 0.03539306625887845 , процент умерших: 0.0004124831485542969\n",
      "Страна: Bahamas , население: 385640 , процент заразившихся: 0.024893683227880926 , процент умерших: 0.0028524012031946894\n",
      "Страна: Bahrain , население: 1569439 , процент заразившихся: 0.47991670909159256 , процент умерших: 0.0007646044223445448\n",
      "Страна: Bangladesh , население: 161356039 , процент заразившихся: 0.015568676670353812 , процент умерших: 0.00022930657091799336\n",
      "Страна: Barbados , население: 286641 , процент заразившихся: 0.03139816006782003 , процент умерших: 0.002442079116386002\n",
      "Страна: Belarus , население: 9483499 , процент заразившихся: 0.3322402417082556 , процент умерших: 0.0018453104703232423\n",
      "Страна: Belgium , население: 11433256 , процент заразившихся: 0.4879712305925801 , процент умерших: 0.07966234640420891\n",
      "Страна: Benin , население: 11485048 , процент заразившихся: 0.001131906457857207 , процент умерших: 1.7413945505495493e-05\n",
      "Страна: Bhutan , население: 754394 , процент заразившихся: 0.0027836912806835684 , процент умерших: 0.0\n",
      "Страна: Bolivia , население: 11353142 , процент заразившихся: 0.03946925001026148 , процент умерших: 0.001664737391640129\n",
      "Страна: Bosnia and Herzegovina , население: 3323929 , процент заразившихся: 0.06982700292334763 , процент умерших: 0.0040313737146611735\n",
      "Страна: Brazil , население: 209469333 , процент заразившихся: 0.1297970428921927 , процент умерших: 0.00858502757537305\n",
      "Страна: Brunei , население: 428962 , процент заразившихся: 0.0328700444328402 , процент умерших: 0.0002331208825024128\n",
      "Страна: Bulgaria , население: 7025037 , процент заразившихся: 0.032156414265149064 , процент умерших: 0.0015942976528095154\n",
      "Страна: Burkina Faso , население: 19751535 , процент заразившихся: 0.004030066523943582 , процент умерших: 0.0002582077798004054\n",
      "Страна: Cabo Verde , население: 14439018 , процент заразившихся: 0.002320102378153417 , процент умерших: 2.077703622226941e-05\n",
      "Страна: Cambodia , население: 16249798 , процент заразившихся: 0.0007507785635242973 , процент умерших: 0.0\n",
      "Страна: Cameroon , население: 25216237 , процент заразившихся: 0.013994950951642784 , процент умерших: 0.0005551978274950382\n",
      "Страна: Canada , население: 37057765 , процент заразившихся: 0.21720953759623657 , процент умерших: 0.016266496373971824\n",
      "Страна: Central African Republic , население: 4666377 , процент заразившихся: 0.007843343990423406 , процент умерших: 0.0\n",
      "Страна: Chad , население: 15477751 , процент заразившихся: 0.003521183407072513 , процент умерших: 0.0003618096711854326\n",
      "Страна: Chile , население: 18729160 , процент заразившихся: 0.26471555584980855 , процент умерших: 0.0027176872854949184\n",
      "Страна: China , население: 1392730000 , процент заразившихся: 0.00603584327184738 , процент умерших: 0.00033301501367817164\n",
      "Страна: Colombia , население: 49648685 , процент заразившихся: 0.034109664737344 , процент умерших: 0.0012346751983461394\n",
      "Страна: Congo (Brazzaville) , население: 14439018 , процент заразившихся: 0.0029087850711177173 , процент умерших: 0.00010388518111134704\n",
      "Страна: Congo (Kinshasa) , население: 14439018 , процент заразившихся: 0.01128193066869229 , процент умерших: 0.0004224664031861447\n",
      "Страна: Costa Rica , население: 4999441 , процент заразившихся: 0.017641972372511246 , процент умерших: 0.00020002236250012752\n",
      "Страна: Cote d'Ivoire , население: 14439018 , процент заразившихся: 0.014910986328848679 , процент умерших: 0.00019391900474118113\n",
      "Страна: Croatia , население: 4087843 , процент заразившихся: 0.0546009227849504 , процент умерших: 0.0023484267864494796\n",
      "Страна: Diamond Princess , население: 14439018 , процент заразившихся: 0.0049310832634186065 , процент умерших: 9.00338236298341e-05\n",
      "Страна: Cuba , население: 11338138 , процент заразившихся: 0.0166429443705836 , процент умерших: 0.0006967634368182853\n",
      "Страна: Cyprus , население: 1189265 , процент заразившихся: 0.07719053364893443 , процент умерших: 0.001429454326832119\n",
      "Страна: Czechia , население: 14439018 , процент заразившихся: 0.05988634407132119 , процент умерших: 0.002091554979708454\n",
      "Страна: Denmark , население: 5793636 , процент заразившихся: 0.19404049546778568 , процент умерших: 0.009510435243083962\n",
      "Страна: Djibouti , население: 958920 , процент заразившихся: 0.16873148959245818 , процент умерших: 0.0007299879030576065\n",
      "Страна: Dominican Republic , население: 10627165 , процент заразившихся: 0.12442641099484199 , процент умерших: 0.004149742664200659\n",
      "Страна: Ecuador , население: 17084357 , процент заразившихся: 0.19989631450572004 , процент умерших: 0.016617540829894858\n",
      "Страна: Egypt , население: 98423595 , процент заразившихся: 0.013699966964222349 , процент умерших: 0.0006695548968720356\n",
      "Страна: El Salvador , население: 6420744 , процент заразившихся: 0.023330629596819308 , процент умерших: 0.00046723557269998616\n",
      "Страна: Equatorial Guinea , население: 1308974 , процент заразившихся: 0.06302646194653216 , процент умерших: 0.0005347699801523942\n",
      "Страна: Eritrea , население: 3213972 , процент заразившихся: 0.001213451766225717 , процент умерших: 0.0\n",
      "Страна: Estonia , население: 1321977 , процент заразившихся: 0.1354789077268364 , процент умерших: 0.0048412340002889605\n",
      "Страна: Eswatini , население: 14439018 , процент заразившихся: 0.0014405411780773457 , процент умерших: 1.3851357481512941e-05\n",
      "Страна: Ethiopia , население: 109224559 , процент заразившихся: 0.0003341739287773183 , процент умерших: 4.577725051744086e-06\n",
      "Страна: Fiji , население: 14439018 , процент заразившихся: 0.00012466221733361646 , процент умерших: 0.0\n",
      "Страна: Finland , население: 5515525 , процент заразившихся: 0.11601796746456593 , процент умерших: 0.005457322738995835\n",
      "Страна: France , население: 66977107 , процент заразившихся: 0.2701415574727645 , процент умерших: 0.04184265528219963\n",
      "Страна: Gabon , население: 2119275 , процент заразившихся: 0.07087329393306672 , процент умерших: 0.0005662313762961389\n",
      "Страна: Gambia , население: 2280102 , процент заразившихся: 0.001052584489641253 , процент умерших: 4.385768706838553e-05\n",
      "Страна: Georgia , население: 3726549 , процент заразившихся: 0.018971976485482947 , процент умерших: 0.000322013745156712\n",
      "Страна: Germany , население: 82905782 , процент заразившихся: 0.2144337773691104 , процент умерших: 0.009747209187412285\n",
      "Страна: Ghana , население: 29767108 , процент заразившихся: 0.020478979684556524 , процент умерших: 0.00010414179301529729\n",
      "Страна: Greece , население: 10731726 , процент заразившихся: 0.02646359029293144 , процент умерших: 0.0015374973233569325\n",
      "Страна: Guatemala , население: 17247807 , процент заразившихся: 0.012366789586641362 , процент умерших: 0.00024930705683337014\n",
      "Страна: Guinea , население: 12414318 , процент заразившихся: 0.02306208041392205 , процент умерших: 0.00014499386917589833\n",
      "Страна: Guyana , население: 779004 , процент заразившихся: 0.016046130700227472 , процент умерших: 0.0012836904560181975\n",
      "Страна: Haiti , население: 11123176 , процент заразившихся: 0.004791796875280945 , процент умерших: 0.00018879499883846124\n",
      "Страна: Holy See , население: 14439018 , процент заразившихся: 8.310814488907764e-05 , процент умерших: 0.0\n",
      "Страна: Honduras , население: 9587522 , процент заразившихся: 0.030821311283562112 , процент умерших: 0.0015332428963396381\n",
      "Страна: Hungary , население: 9775564 , процент заразившихся: 0.03637641776985962 , процент умерших: 0.0047772179692138475\n",
      "Страна: Iceland , население: 352721 , процент заразившихся: 0.5108853739924756 , процент умерших: 0.002835101964442151\n",
      "Страна: India , население: 1352617328 , процент заразившихся: 0.007871775541825677 , процент умерших: 0.0002441193034900999\n",
      "Страна: Indonesia , население: 267663435 , процент заразившихся: 0.006910170602869234 , процент умерших: 0.00045616989111717856\n",
      "Страна: Iran , население: 81800269 , процент заразившихся: 0.15232590494292875 , процент умерших: 0.008702905365751305\n",
      "Страна: Iraq , население: 38433600 , процент заразившихся: 0.009395424836601307 , процент умерших: 0.00034084759169060404\n",
      "Страна: Ireland , население: 4867309 , процент заразившихся: 0.4982424579988655 , процент умерших: 0.03207110951862723\n",
      "Страна: Israel , население: 8882800 , процент заразившихся: 0.1875422164182465 , процент умерших: 0.003129643806007115\n",
      "Страна: Italy , население: 60421760 , процент заразившихся: 0.37519430086114675 , процент умерших: 0.05324075300024362\n",
      "Страна: Jamaica , население: 2934855 , процент заразившихся: 0.017718081472508865 , процент умерших: 0.0003066591024088072\n",
      "Страна: Japan , население: 126529100 , процент заразившихся: 0.012935364275885942 , процент умерших: 0.0006069749962656812\n",
      "Страна: Jordan , население: 9956011 , процент заразившихся: 0.006518674999455102 , процент умерших: 9.039765022356845e-05\n",
      "Страна: Kazakhstan , население: 18272430 , процент заразившихся: 0.036946372212125045 , процент умерших: 0.0001915454047436493\n",
      "Страна: Kenya , население: 51393010 , процент заразившихся: 0.0018737956776612229 , процент умерших: 9.728949520567097e-05\n",
      "Страна: Korea, South , население: 14439018 , процент заразившихся: 0.07694429080980437 , процент умерших: 0.0018214535088189516\n",
      "Страна: Kuwait , население: 4137309 , процент заразившихся: 0.40519091032359444 , процент умерших: 0.002924606308109933\n",
      "Страна: Kyrgyzstan , население: 6322800 , процент заразившихся: 0.01965901183020181 , процент умерших: 0.0002214208894793446\n",
      "Страна: Latvia , население: 1927174 , процент заразившихся: 0.05251212397012413 , процент умерших: 0.001089678461830639\n",
      "Страна: Lebanon , население: 6848925 , процент заразившихся: 0.013929193267556587 , процент умерших: 0.00037962161945122774\n",
      "Страна: Liberia , население: 4818977 , процент заразившихся: 0.004835051090719047 , процент умерших: 0.00047727972140145094\n",
      "Страна: Liechtenstein , население: 37910 , процент заразившихся: 0.2163017673437088 , процент умерших: 0.0026378264310208386\n",
      "Страна: Lithuania , население: 2801543 , процент заразившихся: 0.055754989304108486 , процент умерших: 0.002141676925894052\n",
      "Страна: Luxembourg , население: 607950 , процент заразившихся: 0.6510403816103298 , процент умерших: 0.017929106012007565\n",
      "Страна: Madagascar , население: 26262368 , процент заразившихся: 0.0012413198992566093 , процент умерших: 7.615459504641775e-06\n",
      "Страна: Malaysia , население: 31528585 , процент заразившихся: 0.02213229677132672 , процент умерших: 0.00036157664544729805\n",
      "Страна: Maldives , население: 515696 , процент заразившихся: 0.22164220781235458 , процент умерших: 0.0007756507709968664\n",
      "Страна: Malta , население: 484630 , процент заразившихся: 0.11740915750159915 , процент умерших: 0.0012380578998411158\n",
      "Страна: Mauritania , население: 4403319 , процент заразившихся: 0.0029750286091014527 , процент умерших: 9.084056821683825e-05\n",
      "Страна: Mauritius , население: 1265303 , процент заразившихся: 0.02623877442794335 , процент умерших: 0.000790324530962149\n",
      "Страна: Mexico , население: 126190788 , процент заразившихся: 0.043066535094463475 , процент умерших: 0.004490026641247378\n",
      "Страна: Moldova , население: 2706049 , процент заразившихся: 0.23428991862305526 , процент умерших: 0.008166888330551294\n",
      "Страна: Monaco , население: 38682 , процент заразившихся: 0.25076262861279147 , процент умерших: 0.010340726953104803\n",
      "Страна: Mongolia , население: 3170208 , процент заразившихся: 0.004416114021540542 , процент умерших: 0.0\n",
      "Страна: Montenegro , население: 631219 , процент заразившихся: 0.0513292533969985 , процент умерших: 0.0014258125943610697\n",
      "Страна: Morocco , население: 36029138 , процент заразившихся: 0.019492556274868414 , процент умерших: 0.000535677539662481\n",
      "Страна: Namibia , население: 2448255 , процент заразившихся: 0.0006535266955443775 , процент умерших: 0.0\n",
      "Страна: Nepal , население: 28087871 , процент заразившихся: 0.0014312227509162229 , процент умерших: 7.120511198588174e-06\n",
      "Страна: Netherlands , население: 17231624 , процент заразившихся: 0.25795015025861756 , процент умерших: 0.03327602784276165\n",
      "Страна: New Zealand , население: 4841000 , процент заразившихся: 0.03104730427597604 , процент умерших: 0.00043379467052261935\n",
      "Страна: Nicaragua , население: 6465513 , процент заразившихся: 0.0039285359104528905 , процент умерших: 0.00026293350581771315\n",
      "Страна: Niger , население: 22442948 , процент заразившихся: 0.004072548757854806 , процент умерших: 0.0002450658442910441\n",
      "Страна: Nigeria , население: 195874740 , процент заразившихся: 0.0032679047844556166 , процент умерших: 9.802182762310239e-05\n",
      "Страна: North Macedonia , население: 2084367 , процент заразившихся: 0.08822822468404076 , процент умерших: 0.005085476789835955\n",
      "Страна: Norway , население: 5311916 , процент заразившихся: 0.1556312260961958 , процент умерших: 0.00438636454341522\n",
      "Страна: Oman , население: 4829483 , процент заразившихся: 0.11742457733053414 , процент умерших: 0.0005590660532400673\n",
      "Страна: Pakistan , население: 212215030 , процент заразившихся: 0.020717665473552933 , процент умерших: 0.00044247572850989863\n",
      "Страна: Panama , население: 4176873 , процент заразившихся: 0.23622935147896523 , процент умерших: 0.006727520803242043\n",
      "Страна: Papua New Guinea , население: 8606316 , процент заразившихся: 9.295498794141419e-05 , процент умерших: 0.0\n",
      "Страна: Paraguay , население: 6956071 , процент заразившихся: 0.011917647189052555 , процент умерших: 0.0001581352461756069\n",
      "Страна: Peru , население: 31989256 , процент заразившихся: 0.31098878948606995 , процент умерших: 0.009109308450312192\n",
      "Страна: Philippines , население: 106651922 , процент заразившихся: 0.012134802408905486 , процент умерших: 0.0007847959833297706\n",
      "Страна: Poland , население: 37974750 , процент заразившихся: 0.05073897787345538 , процент умерших: 0.0024963956313076453\n",
      "Страна: Portugal , население: 10283822 , процент заразившихся: 0.28619709676032895 , процент умерших: 0.012125841929197141\n",
      "Страна: Qatar , население: 2781677 , процент заразившихся: 1.280019211432528 , процент умерших: 0.0005392430537406032\n",
      "Страна: Romania , население: 19466145 , процент заразившихся: 0.08831229809497464 , процент умерших: 0.005840909949042299\n",
      "Страна: Russia , население: 14439018 , процент заразившихся: 2.0772950071812364 , процент умерших: 0.019648150587526104\n",
      "Страна: Rwanda , население: 12301939 , процент заразившихся: 0.0025036703563560184 , процент умерших: 0.0\n",
      "Страна: Saint Lucia , население: 181889 , процент заразившихся: 0.0098961454513467 , процент умерших: 0.0\n",
      "Страна: Saint Vincent and the Grenadines , население: 110210 , процент заразившихся: 0.015425097541057978 , процент умерших: 0.0\n",
      "Страна: San Marino , население: 33785 , процент заразившихся: 1.9387302057125946 , процент умерших: 0.1213556311972769\n",
      "Страна: Saudi Arabia , население: 33699947 , процент заразившихся: 0.1776085879304202 , процент умерших: 0.0009762626629650189\n",
      "Страна: Senegal , население: 15854360 , процент заразившихся: 0.016506500420073723 , процент умерших: 0.0001892223968674863\n",
      "Страна: Serbia , население: 14439018 , процент заразившихся: 0.07433330992453918 , процент умерших: 0.0016206088253370137\n",
      "Страна: Seychelles , население: 96762 , процент заразившихся: 0.011368099047146607 , процент умерших: 0.0\n",
      "Страна: Singapore , население: 5638676 , процент заразившихся: 0.5106517913070373 , процент умерших: 0.00039016251332759673\n",
      "Страна: Slovakia , население: 5446771 , процент заразившихся: 0.027447454647900563 , процент умерших: 0.0005140660402282379\n",
      "Страна: Slovenia , население: 2073894 , процент заразившихся: 0.07073649858671659 , процент умерших: 0.005014721099535463\n",
      "Страна: Somalia , население: 15008154 , процент заразившихся: 0.010007893042675336 , процент умерших: 0.0003931196335005624\n",
      "Страна: South Africa , население: 57779622 , процент заразившихся: 0.02976828058861306 , процент умерших: 0.0005399827641655392\n",
      "Страна: Spain , население: 46796540 , процент заразившихся: 0.49584221397564865 , процент умерших: 0.059359089368572975\n",
      "Страна: Sri Lanka , население: 14439018 , процент заразившихся: 0.007112672066756894 , процент умерших: 6.233110866680823e-05\n",
      "Страна: Sudan , население: 41801533 , процент заразившихся: 0.0065260764479618495 , процент умерших: 0.00026554050063187876\n",
      "Страна: Suriname , население: 575991 , процент заразившихся: 0.0019097520620981927 , процент умерших: 0.0001736138238271084\n",
      "Страна: Sweden , население: 10175214 , процент заразившихся: 0.30268650860807444 , процент умерших: 0.03678546711646556\n",
      "Страна: Switzerland , население: 8513227 , процент заразившихся: 0.3596521037204811 , процент умерших: 0.022212493570299488\n",
      "Страна: Taiwan* , население: 14439018 , процент заразившихся: 0.0030472986459328466 , процент умерших: 4.847975118529528e-05\n",
      "Страна: Tanzania , население: 56318348 , процент заразившихся: 0.0009037907148838954 , процент умерших: 3.728802556495443e-05\n",
      "Страна: Thailand , население: 69428524 , процент заразившихся: 0.004368521502776006 , процент умерших: 8.065849131403111e-05\n",
      "Страна: Togo , население: 7889094 , процент заразившихся: 0.004284395647966674 , процент умерших: 0.00015210872122958606\n",
      "Страна: Trinidad and Tobago , население: 1389858 , процент заразившихся: 0.008346176371974691 , процент умерших: 0.0005755983704810131\n",
      "Страна: Tunisia , население: 11565204 , процент заразившихся: 0.009027078121579178 , процент умерших: 0.0004063914480021278\n",
      "Страна: Turkey , население: 82319724 , процент заразившихся: 0.18417821711841503 , процент умерших: 0.005100843146655837\n",
      "Страна: Uganda , население: 42723139 , процент заразившихся: 0.0006085695154562496 , процент умерших: 0.0\n",
      "Страна: Ukraine , население: 44622516 , процент заразившихся: 0.042301514329671594 , процент умерших: 0.001228079564137531\n",
      "Страна: United Arab Emirates , население: 9630959 , процент заразившихся: 0.2602336901236938 , процент умерших: 0.002356982310899673\n",
      "Страна: United Kingdom , население: 66460344 , процент заразившихся: 0.3763718105341134 , процент умерших: 0.05329794862331739\n",
      "Страна: Uruguay , население: 3449299 , процент заразившихся: 0.021395651696185226 , процент умерших: 0.0005798279592462121\n",
      "Страна: United States , население: 326687501 , процент заразившихся: 0.4678991376532646 , процент умерших: 0.028137287076679434\n",
      "Страна: Uzbekistan , население: 32955400 , процент заразившихся: 0.0086632236295114 , процент умерших: 3.9447252953992364e-05\n",
      "Страна: Venezuela , население: 28870195 , процент заразившихся: 0.002594371115262644 , процент умерших: 3.463779860163743e-05\n",
      "Страна: Vietnam , население: 95540395 , процент заразившихся: 0.00033912357176249904 , процент умерших: 0.0\n",
      "Страна: Zambia , население: 17351822 , процент заразившихся: 0.0044491005036819764 , процент умерших: 4.0341584877945384e-05\n",
      "Страна: Zimbabwe , население: 14439018 , процент заразившихся: 0.00031858122207479764 , процент умерших: 2.7702714963025883e-05\n",
      "Страна: Dominica , население: 71625 , процент заразившихся: 0.022338568935427575 , процент умерших: 0.0\n",
      "Страна: Grenada , население: 111454 , процент заразившихся: 0.019739085183124876 , процент умерших: 0.0\n",
      "Страна: Mozambique , население: 29495962 , процент заразившихся: 0.0004949830081826117 , процент умерших: 0.0\n",
      "Страна: Syria , население: 16906283 , процент заразившихся: 0.0003430677222190117 , процент умерших: 1.7744882183741983e-05\n",
      "Страна: Timor-Leste , население: 14439018 , процент заразившихся: 0.00016621628977815528 , процент умерших: 0.0\n",
      "Страна: Belize , население: 383071 , процент заразившихся: 0.004698867833900243 , процент умерших: 0.0005220964259889159\n",
      "Страна: Laos , население: 7061507 , процент заразившихся: 0.00026906437960055835 , процент умерших: 0.0\n",
      "Страна: Libya , население: 14439018 , процент заразившихся: 0.00047094615437144 , процент умерших: 2.077703622226941e-05\n",
      "Страна: West Bank and Gaza , население: 14439018 , процент заразившихся: 0.0027079403876357796 , процент умерших: 1.3851357481512941e-05\n",
      "Страна: Guinea-Bissau , население: 1874309 , процент заразившихся: 0.05538040952692432 , процент умерших: 0.0003201179741440712\n",
      "Страна: Mali , население: 19077690 , процент заразившихся: 0.0047227940070312495 , процент умерших: 0.0002778114121783088\n",
      "Страна: Saint Kitts and Nevis , население: 52441 , процент заразившихся: 0.02860357353978757 , процент умерших: 0.0\n",
      "Страна: Kosovo , население: 14439018 , процент заразившихся: 0.006849496274608149 , процент умерших: 0.0002008446834819376\n",
      "Страна: Burma , население: 14439018 , процент заразившихся: 0.0013366559969659986 , процент умерших: 4.155407244453882e-05\n",
      "Страна: MS Zaandam , население: 14439018 , процент заразившихся: 6.233110866680823e-05 , процент умерших: 1.3851357481512941e-05\n",
      "Страна: Botswana , население: 2254126 , процент заразившихся: 0.0011090773097865868 , процент умерших: 4.436309239146348e-05\n",
      "Страна: Burundi , население: 11175378 , процент заразившихся: 0.0003758262136636452 , процент умерших: 8.948243182467742e-06\n",
      "Страна: Sierra Leone , население: 7650154 , процент заразившихся: 0.006980251639378762 , процент умерших: 0.0004313638653548674\n",
      "Страна: Malawi , население: 18143315 , процент заразившихся: 0.0003858170350897838 , процент умерших: 1.6535015789562163e-05\n",
      "Страна: South Sudan , население: 10975920 , процент заразившихся: 0.002642147537518495 , процент умерших: 3.644341431059993e-05\n",
      "Страна: Western Sahara , население: 652271 , процент заразившихся: 0.0009198630630520137 , процент умерших: 0.0\n",
      "Страна: Sao Tome and Principe , население: 211028 , процент заразившихся: 0.11894156225714123 , процент умерших: 0.0037909661277176487\n",
      "Страна: Yemen , население: 28498687 , процент заразившихся: 0.0005859919090307564 , процент умерших: 9.825014043629449e-05\n",
      "Страна: Comoros , население: 832322 , процент заразившихся: 0.001321603898491209 , процент умерших: 0.00012014580895374627\n",
      "Страна: Tajikistan , население: 9100837 , процент заразившихся: 0.021272768647543076 , процент умерших: 0.0004505080137134639\n",
      "Страна: Lesotho , население: 2108132 , процент заразившихся: 4.743535983515264e-05 , процент умерших: 0.0\n"
     ]
    }
   ],
   "source": [
    "# Кол-во заразившихся и умерших в процентах от всего населения\n",
    "print_procent_to_population(data,df,pop_data)"
   ]
  },
  {
   "cell_type": "code",
   "execution_count": 32,
   "metadata": {
    "scrolled": true
   },
   "outputs": [],
   "source": [
    "gdp_data_response = requests.get(SOURCE_GDP)\n",
    "csv_path = \"gdp.csv\""
   ]
  },
  {
   "cell_type": "code",
   "execution_count": 33,
   "metadata": {},
   "outputs": [],
   "source": [
    "per_capita_data = requests.get(SOURCE_GDP_PER_CAPITA_JSON).json()"
   ]
  },
  {
   "cell_type": "code",
   "execution_count": 34,
   "metadata": {
    "scrolled": true
   },
   "outputs": [],
   "source": [
    "def set_csv_file(csv_path):\n",
    "    csv_gdp_file = open(csv_path,'wb')\n",
    "    csv_gdp_file.write(gdp_data_response.content)\n",
    "    csv_gdp_file.close()\n",
    "    "
   ]
  },
  {
   "cell_type": "code",
   "execution_count": 35,
   "metadata": {
    "scrolled": true
   },
   "outputs": [],
   "source": [
    "set_csv_file(csv_path)"
   ]
  },
  {
   "cell_type": "code",
   "execution_count": 36,
   "metadata": {},
   "outputs": [],
   "source": [
    "def change(country):\n",
    "    if country == \"Bahamas, The\":\n",
    "        return \"Bahamas\"\n",
    "    if country ==\"Brunei Darussalam\":\n",
    "        return \"Brunei\"\n",
    "    elif country == \"Congo, Dem. Rep.\":\n",
    "        return \"Congo (Kinshasa)\"\n",
    "    elif country == \"Congo, Rep.\":\n",
    "        return \"Congo (Brazzaville)\"\n",
    "    elif country ==\"Egypt, Arab Rep.\":\n",
    "        return \"Egypt\"\n",
    "    elif country == \"Korea, Rep.\":\n",
    "        return \"Korea, South\"\n",
    "    elif country == \"Kyrgyz Republic\":\n",
    "        return \"Kyrgyzstan\"\n",
    "    elif country ==\"Russian Federation\":\n",
    "        return \"Russia\"\n",
    "    elif country == \"St. Vincent and the Grenadines\":\n",
    "        return \"Saint Vincent and the Grenadines\"\n",
    "    elif country == \"Venezuela, RB\":\n",
    "        return \"Venezuela\"\n",
    "    elif country == \"Yemen, Rep.\":\n",
    "        return \"Yemen\"\n",
    "    return country\n",
    "    "
   ]
  },
  {
   "cell_type": "code",
   "execution_count": 37,
   "metadata": {},
   "outputs": [],
   "source": [
    "\n",
    "def get_countries_gdp_csv(csv_path):\n",
    "    countries = []\n",
    "    length = 0\n",
    "    with open(csv_path,\"r\") as csv_file:\n",
    "        for line in csv_file:\n",
    "            length +=1\n",
    "    count = 0\n",
    "    with open(csv_path,\"r\") as csv_file:\n",
    "        line = csv_file.readline().split(\",\")\n",
    "        while (line[0] != \"Afghanistan\"):\n",
    "            line = csv_file.readline().split(\",\")\n",
    "        while(count< length):\n",
    "            line = csv_file.readline().split(\",\")\n",
    "            if len(line) < 4:\n",
    "                break\n",
    "            if line[2] == \"2016\":\n",
    "                #countries.append({\"country\":change((line[0])) , \"gdp\":int(line[3])})\n",
    "                countries.append({\"country\":change((line[0])) , \"gdp\":int(round(float(line[3])))}) # было\n",
    "            count+=1\n",
    "    return countries"
   ]
  },
  {
   "cell_type": "code",
   "execution_count": 38,
   "metadata": {
    "scrolled": true
   },
   "outputs": [],
   "source": [
    "def get_countries_per_capita(per_capita_data):\n",
    "    countries = []\n",
    "    length = len(per_capita_data)\n",
    "    count = 0\n",
    "    _iter = iter(per_capita_data)\n",
    "    key = next(_iter)\n",
    "\n",
    "    while key['Country Name']!= 'Afghanistan':\n",
    "        key = next(_iter)\n",
    "        count+=1\n",
    "    while(count + 1 < length):\n",
    "        key = next(_iter)\n",
    "        count+=1\n",
    "        if(int(key['Year']) == 2016):\n",
    "            countries.append({\"country\":change((key['Country Name'])) , \"per_capita\":int(key['Value'])})\n",
    "    return countries"
   ]
  },
  {
   "cell_type": "code",
   "execution_count": 39,
   "metadata": {
    "scrolled": true
   },
   "outputs": [
    {
     "data": {
      "text/plain": [
       "[{'country': 'Afghanistan', 'per_capita': 561},\n",
       " {'country': 'Albania', 'per_capita': 4124},\n",
       " {'country': 'Algeria', 'per_capita': 3916},\n",
       " {'country': 'American Samoa', 'per_capita': 11834},\n",
       " {'country': 'Andorra', 'per_capita': 36988},\n",
       " {'country': 'Angola', 'per_capita': 3308},\n",
       " {'country': 'Antigua and Barbuda', 'per_capita': 14462},\n",
       " {'country': 'Argentina', 'per_capita': 12440},\n",
       " {'country': 'Armenia', 'per_capita': 3614},\n",
       " {'country': 'Australia', 'per_capita': 49755},\n",
       " {'country': 'Austria', 'per_capita': 44757},\n",
       " {'country': 'Azerbaijan', 'per_capita': 3878},\n",
       " {'country': 'Bahamas', 'per_capita': 28785},\n",
       " {'country': 'Bahrain', 'per_capita': 22579},\n",
       " {'country': 'Bangladesh', 'per_capita': 1358},\n",
       " {'country': 'Barbados', 'per_capita': 15891},\n",
       " {'country': 'Belarus', 'per_capita': 4989},\n",
       " {'country': 'Belgium', 'per_capita': 41271},\n",
       " {'country': 'Belize', 'per_capita': 4744},\n",
       " {'country': 'Benin', 'per_capita': 789},\n",
       " {'country': 'Bhutan', 'per_capita': 2773},\n",
       " {'country': 'Bolivia', 'per_capita': 3104},\n",
       " {'country': 'Bosnia and Herzegovina', 'per_capita': 4808},\n",
       " {'country': 'Botswana', 'per_capita': 6924},\n",
       " {'country': 'Brazil', 'per_capita': 8649},\n",
       " {'country': 'Brunei', 'per_capita': 26939},\n",
       " {'country': 'Bulgaria', 'per_capita': 7469},\n",
       " {'country': 'Burkina Faso', 'per_capita': 627},\n",
       " {'country': 'Burundi', 'per_capita': 285},\n",
       " {'country': 'Cabo Verde', 'per_capita': 2997},\n",
       " {'country': 'Cambodia', 'per_capita': 1269},\n",
       " {'country': 'Cameroon', 'per_capita': 1374},\n",
       " {'country': 'Canada', 'per_capita': 42348},\n",
       " {'country': 'Central African Republic', 'per_capita': 382},\n",
       " {'country': 'Chad', 'per_capita': 664},\n",
       " {'country': 'Chile', 'per_capita': 13792},\n",
       " {'country': 'China', 'per_capita': 8123},\n",
       " {'country': 'Colombia', 'per_capita': 5805},\n",
       " {'country': 'Comoros', 'per_capita': 775},\n",
       " {'country': 'Congo (Kinshasa)', 'per_capita': 449},\n",
       " {'country': 'Congo (Brazzaville)', 'per_capita': 1528},\n",
       " {'country': 'Costa Rica', 'per_capita': 11824},\n",
       " {'country': \"Cote d'Ivoire\", 'per_capita': 1534},\n",
       " {'country': 'Croatia', 'per_capita': 12149},\n",
       " {'country': 'Cyprus', 'per_capita': 23541},\n",
       " {'country': 'Czech Republic', 'per_capita': 18483},\n",
       " {'country': 'Denmark', 'per_capita': 53578},\n",
       " {'country': 'Dominica', 'per_capita': 7906},\n",
       " {'country': 'Dominican Republic', 'per_capita': 6722},\n",
       " {'country': 'Ecuador', 'per_capita': 6018},\n",
       " {'country': 'Egypt', 'per_capita': 3477},\n",
       " {'country': 'El Salvador', 'per_capita': 4223},\n",
       " {'country': 'Equatorial Guinea', 'per_capita': 8747},\n",
       " {'country': 'Estonia', 'per_capita': 17736},\n",
       " {'country': 'Ethiopia', 'per_capita': 706},\n",
       " {'country': 'Fiji', 'per_capita': 5233},\n",
       " {'country': 'Finland', 'per_capita': 43433},\n",
       " {'country': 'France', 'per_capita': 36857},\n",
       " {'country': 'Gabon', 'per_capita': 7179},\n",
       " {'country': 'Gambia, The', 'per_capita': 473},\n",
       " {'country': 'Georgia', 'per_capita': 3865},\n",
       " {'country': 'Germany', 'per_capita': 42161},\n",
       " {'country': 'Ghana', 'per_capita': 1513},\n",
       " {'country': 'Greece', 'per_capita': 17890},\n",
       " {'country': 'Grenada', 'per_capita': 9841},\n",
       " {'country': 'Guam', 'per_capita': 35562},\n",
       " {'country': 'Guatemala', 'per_capita': 4146},\n",
       " {'country': 'Guinea', 'per_capita': 661},\n",
       " {'country': 'Guinea-Bissau', 'per_capita': 641},\n",
       " {'country': 'Guyana', 'per_capita': 4529},\n",
       " {'country': 'Haiti', 'per_capita': 739},\n",
       " {'country': 'Honduras', 'per_capita': 2361},\n",
       " {'country': 'Hong Kong SAR, China', 'per_capita': 43740},\n",
       " {'country': 'Hungary', 'per_capita': 12820},\n",
       " {'country': 'Iceland', 'per_capita': 60529},\n",
       " {'country': 'India', 'per_capita': 1709},\n",
       " {'country': 'Indonesia', 'per_capita': 3570},\n",
       " {'country': 'Iran, Islamic Rep.', 'per_capita': 5219},\n",
       " {'country': 'Iraq', 'per_capita': 4609},\n",
       " {'country': 'Ireland', 'per_capita': 64175},\n",
       " {'country': 'Israel', 'per_capita': 37180},\n",
       " {'country': 'Italy', 'per_capita': 30668},\n",
       " {'country': 'Jamaica', 'per_capita': 4878},\n",
       " {'country': 'Japan', 'per_capita': 38972},\n",
       " {'country': 'Jordan', 'per_capita': 4087},\n",
       " {'country': 'Kazakhstan', 'per_capita': 7714},\n",
       " {'country': 'Kenya', 'per_capita': 1455},\n",
       " {'country': 'Kiribati', 'per_capita': 1587},\n",
       " {'country': 'Korea, South', 'per_capita': 27538},\n",
       " {'country': 'Kosovo', 'per_capita': 3661},\n",
       " {'country': 'Kuwait', 'per_capita': 27359},\n",
       " {'country': 'Kyrgyzstan', 'per_capita': 1077},\n",
       " {'country': 'Lao PDR', 'per_capita': 2338},\n",
       " {'country': 'Latvia', 'per_capita': 14071},\n",
       " {'country': 'Lebanon', 'per_capita': 8257},\n",
       " {'country': 'Lesotho', 'per_capita': 1039},\n",
       " {'country': 'Liberia', 'per_capita': 455},\n",
       " {'country': 'Lithuania', 'per_capita': 14912},\n",
       " {'country': 'Luxembourg', 'per_capita': 100738},\n",
       " {'country': 'Macao SAR, China', 'per_capita': 74017},\n",
       " {'country': 'Macedonia, FYR', 'per_capita': 5237},\n",
       " {'country': 'Madagascar', 'per_capita': 401},\n",
       " {'country': 'Malawi', 'per_capita': 300},\n",
       " {'country': 'Malaysia', 'per_capita': 9508},\n",
       " {'country': 'Maldives', 'per_capita': 9875},\n",
       " {'country': 'Mali', 'per_capita': 779},\n",
       " {'country': 'Malta', 'per_capita': 25145},\n",
       " {'country': 'Marshall Islands', 'per_capita': 3665},\n",
       " {'country': 'Mauritania', 'per_capita': 1101},\n",
       " {'country': 'Mauritius', 'per_capita': 9630},\n",
       " {'country': 'Mexico', 'per_capita': 8208},\n",
       " {'country': 'Micronesia, Fed. Sts.', 'per_capita': 3143},\n",
       " {'country': 'Moldova', 'per_capita': 1900},\n",
       " {'country': 'Mongolia', 'per_capita': 3694},\n",
       " {'country': 'Montenegro', 'per_capita': 7028},\n",
       " {'country': 'Morocco', 'per_capita': 2892},\n",
       " {'country': 'Mozambique', 'per_capita': 382},\n",
       " {'country': 'Myanmar', 'per_capita': 1195},\n",
       " {'country': 'Namibia', 'per_capita': 4414},\n",
       " {'country': 'Nauru', 'per_capita': 7821},\n",
       " {'country': 'Nepal', 'per_capita': 729},\n",
       " {'country': 'Netherlands', 'per_capita': 45637},\n",
       " {'country': 'New Zealand', 'per_capita': 39412},\n",
       " {'country': 'Nicaragua', 'per_capita': 2151},\n",
       " {'country': 'Niger', 'per_capita': 364},\n",
       " {'country': 'Nigeria', 'per_capita': 2175},\n",
       " {'country': 'Northern Mariana Islands', 'per_capita': 22572},\n",
       " {'country': 'Norway', 'per_capita': 70867},\n",
       " {'country': 'Oman', 'per_capita': 14982},\n",
       " {'country': 'Pakistan', 'per_capita': 1443},\n",
       " {'country': 'Palau', 'per_capita': 14428},\n",
       " {'country': 'Panama', 'per_capita': 13680},\n",
       " {'country': 'Papua New Guinea', 'per_capita': 2500},\n",
       " {'country': 'Paraguay', 'per_capita': 4077},\n",
       " {'country': 'Peru', 'per_capita': 6049},\n",
       " {'country': 'Philippines', 'per_capita': 2951},\n",
       " {'country': 'Poland', 'per_capita': 12414},\n",
       " {'country': 'Portugal', 'per_capita': 19871},\n",
       " {'country': 'Puerto Rico', 'per_capita': 30790},\n",
       " {'country': 'Qatar', 'per_capita': 59324},\n",
       " {'country': 'Romania', 'per_capita': 9522},\n",
       " {'country': 'Russia', 'per_capita': 8748},\n",
       " {'country': 'Rwanda', 'per_capita': 702},\n",
       " {'country': 'Samoa', 'per_capita': 4030},\n",
       " {'country': 'San Marino', 'per_capita': 47908},\n",
       " {'country': 'Sao Tome and Principe', 'per_capita': 1714},\n",
       " {'country': 'Saudi Arabia', 'per_capita': 20028},\n",
       " {'country': 'Senegal', 'per_capita': 952},\n",
       " {'country': 'Serbia', 'per_capita': 5426},\n",
       " {'country': 'Seychelles', 'per_capita': 15075},\n",
       " {'country': 'Sierra Leone', 'per_capita': 505},\n",
       " {'country': 'Singapore', 'per_capita': 52962},\n",
       " {'country': 'Slovak Republic', 'per_capita': 16529},\n",
       " {'country': 'Slovenia', 'per_capita': 21650},\n",
       " {'country': 'Solomon Islands', 'per_capita': 2005},\n",
       " {'country': 'Somalia', 'per_capita': 434},\n",
       " {'country': 'South Africa', 'per_capita': 5274},\n",
       " {'country': 'Spain', 'per_capita': 26616},\n",
       " {'country': 'Sri Lanka', 'per_capita': 3835},\n",
       " {'country': 'St. Kitts and Nevis', 'per_capita': 16596},\n",
       " {'country': 'St. Lucia', 'per_capita': 9364},\n",
       " {'country': 'Saint Vincent and the Grenadines', 'per_capita': 7006},\n",
       " {'country': 'Sudan', 'per_capita': 2415},\n",
       " {'country': 'Suriname', 'per_capita': 5871},\n",
       " {'country': 'Swaziland', 'per_capita': 2770},\n",
       " {'country': 'Sweden', 'per_capita': 51844},\n",
       " {'country': 'Switzerland', 'per_capita': 79887},\n",
       " {'country': 'Tajikistan', 'per_capita': 795},\n",
       " {'country': 'Tanzania', 'per_capita': 877},\n",
       " {'country': 'Thailand', 'per_capita': 5910},\n",
       " {'country': 'Timor-Leste', 'per_capita': 1405},\n",
       " {'country': 'Togo', 'per_capita': 578},\n",
       " {'country': 'Tonga', 'per_capita': 3748},\n",
       " {'country': 'Trinidad and Tobago', 'per_capita': 16040},\n",
       " {'country': 'Tunisia', 'per_capita': 3688},\n",
       " {'country': 'Turkey', 'per_capita': 10862},\n",
       " {'country': 'Turkmenistan', 'per_capita': 6389},\n",
       " {'country': 'Tuvalu', 'per_capita': 3083},\n",
       " {'country': 'Uganda', 'per_capita': 580},\n",
       " {'country': 'Ukraine', 'per_capita': 2185},\n",
       " {'country': 'United Arab Emirates', 'per_capita': 37622},\n",
       " {'country': 'United Kingdom', 'per_capita': 40412},\n",
       " {'country': 'United States', 'per_capita': 57638},\n",
       " {'country': 'Uruguay', 'per_capita': 15220},\n",
       " {'country': 'Uzbekistan', 'per_capita': 2110},\n",
       " {'country': 'Vanuatu', 'per_capita': 2860},\n",
       " {'country': 'Vietnam', 'per_capita': 2170},\n",
       " {'country': 'West Bank and Gaza', 'per_capita': 2943},\n",
       " {'country': 'Yemen', 'per_capita': 990},\n",
       " {'country': 'Zambia', 'per_capita': 1269},\n",
       " {'country': 'Zimbabwe', 'per_capita': 1029}]"
      ]
     },
     "execution_count": 39,
     "metadata": {},
     "output_type": "execute_result"
    }
   ],
   "source": [
    "get_countries_per_capita(per_capita_data)"
   ]
  },
  {
   "cell_type": "code",
   "execution_count": 40,
   "metadata": {},
   "outputs": [],
   "source": [
    "def get_country_list_by_param(percentage_list,param_list,param = \"gdp\", divider = 10**9):\n",
    "    _list = []\n",
    "    for country in percentage_list:\n",
    "        for state in param_list:\n",
    "            if country['country'] == state['country']:\n",
    "                country[param] = float(state[param]) / divider\n",
    "                _list.append(country)\n",
    "                break\n",
    "    return _list"
   ]
  },
  {
   "cell_type": "code",
   "execution_count": 41,
   "metadata": {
    "scrolled": true
   },
   "outputs": [],
   "source": [
    "# ВВП в миллиардах долларов\n",
    "# Среднедушевой доход в тысячах долларов\n",
    "divider_gdp = 1000000000\n",
    "divider_per_capita = 1000\n",
    "gdp_csv_list = get_countries_gdp_csv(csv_path)\n",
    "per_capita_list = get_countries_per_capita(per_capita_data)\n",
    "states_percentage = get_procent_to_population(data,df,pop_data) \n",
    "countries_with_gdp = get_country_list_by_param(states_percentage,gdp_csv_list,divider = divider_gdp)\n",
    "countries_with_gdp_and_capita = get_country_list_by_param(countries_with_gdp,per_capita_list, param=\"per_capita\", divider = divider_per_capita)\n"
   ]
  },
  {
   "cell_type": "code",
   "execution_count": 42,
   "metadata": {},
   "outputs": [],
   "source": [
    "#statuses('conf_to_pop' , \"dead_to_pop\")"
   ]
  },
  {
   "cell_type": "code",
   "execution_count": 43,
   "metadata": {},
   "outputs": [],
   "source": [
    "def get_data_by_param_and_status(countries, param = \"gdp\", status='conf_to_pop'):\n",
    "    _sorted = sorted(countries, key=lambda k: k[param]) \n",
    "    _x = []\n",
    "    _y = []\n",
    "    for country in _sorted:\n",
    "        _x.append(country[param])\n",
    "        _y.append(country[status])\n",
    "    #return np.array(_x) , np.array(_x)\n",
    "    return _x , _y"
   ]
  },
  {
   "cell_type": "code",
   "execution_count": 44,
   "metadata": {},
   "outputs": [],
   "source": [
    "def get_dependency_by_param_and_status(countries, param=\"gdp\", status='conf_to_pop', method = \"r2\", functions = functions_to_fit):\n",
    "    x,y = get_data_by_param_and_status(countries,param,status)\n",
    "    name, func , params , res = get_curve_fit_with_params(np.array(x),np.array(y),method,functions)\n",
    "    return {\"criteria\":status,\"param\":param, \"dependency\":name ,\"opt_params\":params, method:res }"
   ]
  },
  {
   "cell_type": "code",
   "execution_count": 45,
   "metadata": {},
   "outputs": [],
   "source": [
    "def print_dependency_by_param_and_status(countries, param = \"gdp\", status='conf_to_pop', method = \"r2\",functions = functions_to_fit):\n",
    "    res = get_dependency_by_param_and_status(countries, param, status, method)\n",
    "    _param = \"ВВП\" if res['param']==\"gdp\" else \"Среднешушевой доход\"\n",
    "    _param_con = \"ВВП\" if res['param']==\"gdp\" else \"Среднешушевого дохода\"\n",
    "    print(f\"Кривая для {_param_con}:\")\n",
    "    criteria = f\"Процент заражённых/{_param}\" if res['criteria'] ==\"conf_to_pop\" else f\"Процент умерших/{_param}\"\n",
    "    print(f\"Критерий: {criteria}, зависимость: {res['dependency']}\")\n",
    "    print(\"Оптимальные параметры:\" , end = \" \")\n",
    "    for param in res['opt_params']:\n",
    "        print(param, end = \", \")\n",
    "    print()\n",
    "    print(f\"{list(res.keys())[-1]}: {res[list(res.keys())[-1]]}\")"
   ]
  },
  {
   "cell_type": "code",
   "execution_count": 46,
   "metadata": {
    "scrolled": false
   },
   "outputs": [
    {
     "name": "stdout",
     "output_type": "stream",
     "text": [
      "Кривая для ВВП:\n",
      "Критерий: Процент заражённых/ВВП, зависимость: polynomial_cube\n",
      "Оптимальные параметры: 1.2323673376037375e-12, -3.112378475050667e-08, 0.0001736725293034877, 0.09135688710116818, \n",
      "r2: 0.06251175622699712\n"
     ]
    }
   ],
   "source": [
    "#statuses('conf_to_pop' , \"dead_to_pop\")\n",
    "#params('gdp','per_capita')\n",
    "#Функции зависимости стран по процентному количеству заражённых/умерших в зависимости от увеличения ВВП/Среднедушевого дохода\n",
    "#Как и при динамике количества, оптимальные параметры выдаёт кубическая функция, хоть и с достаточно малыми коэффициентами\n",
    "print_dependency_by_param_and_status(countries_with_gdp_and_capita,param=\"gdp\", status='conf_to_pop', method = \"r2\", functions = functions_to_fit)"
   ]
  },
  {
   "cell_type": "code",
   "execution_count": 47,
   "metadata": {},
   "outputs": [
    {
     "data": {
      "text/html": [
       "        <script type=\"text/javascript\">\n",
       "        window.PlotlyConfig = {MathJaxConfig: 'local'};\n",
       "        if (window.MathJax) {MathJax.Hub.Config({SVG: {font: \"STIX-Web\"}});}\n",
       "        if (typeof require !== 'undefined') {\n",
       "        require.undef(\"plotly\");\n",
       "        requirejs.config({\n",
       "            paths: {\n",
       "                'plotly': ['https://cdn.plot.ly/plotly-latest.min']\n",
       "            }\n",
       "        });\n",
       "        require(['plotly'], function(Plotly) {\n",
       "            window._Plotly = Plotly;\n",
       "        });\n",
       "        }\n",
       "        </script>\n",
       "        "
      ]
     },
     "metadata": {},
     "output_type": "display_data"
    }
   ],
   "source": [
    "import chart_studio.plotly.plotly as py #For World Map\n",
    "import plotly.graph_objs as go\n",
    "from plotly.offline import download_plotlyjs, init_notebook_mode, plot, iplot\n",
    "init_notebook_mode(connected=True)\n",
    "\n",
    "from sklearn.preprocessing import StandardScaler  # For scaling dataset\n",
    "from sklearn.cluster import KMeans, AgglomerativeClustering, AffinityPropagation #For clustering\n",
    "from sklearn.mixture import GaussianMixture #For GMM clustering\n",
    "import seaborn as sns\n",
    "import os                     # For os related operations\n",
    "import sys                    # For data size"
   ]
  },
  {
   "cell_type": "code",
   "execution_count": 48,
   "metadata": {},
   "outputs": [],
   "source": [
    "def get_countries_with_gdp_and_capita(csv_path,per_capita_data,divider_gdp = 1,divider_per_capita = 1):\n",
    "    gdp_csv_list = get_countries_gdp_csv(csv_path)\n",
    "    per_capita_list = get_countries_per_capita(per_capita_data)\n",
    "    states_percentage = get_procent_to_population(data,df,pop_data) \n",
    "    with_gdp = get_country_list_by_param(states_percentage,gdp_csv_list,divider = divider_gdp)\n",
    "    with_gdp_and_capita = get_country_list_by_param(with_gdp,per_capita_list, param=\"per_capita\", divider = divider_per_capita)\n",
    "    return with_gdp_and_capita"
   ]
  },
  {
   "cell_type": "code",
   "execution_count": 49,
   "metadata": {},
   "outputs": [],
   "source": [
    "# ВВП в миллиардах долларов\n",
    "# Среднедушевой доход в тысячах долларов\n",
    "divider_gdp = 1000000000\n",
    "divider_per_capita = 1000\n",
    "gdp_csv_list = get_countries_gdp_csv(csv_path)\n",
    "per_capita_list = get_countries_per_capita(per_capita_data)\n",
    "states_percentage = get_procent_to_population(data,df,pop_data) \n",
    "countries_with_gdp = get_country_list_by_param(states_percentage,gdp_csv_list,divider = divider_gdp)\n",
    "countries_with_gdp_and_capita = get_country_list_by_param(countries_with_gdp,per_capita_list, param=\"per_capita\", divider = divider_per_capita)\n",
    "gdp_and_capita = get_country_list_by_param(countries_with_gdp,per_capita_list, param=\"per_capita\", divider = divider_per_capita)"
   ]
  },
  {
   "cell_type": "code",
   "execution_count": 50,
   "metadata": {},
   "outputs": [],
   "source": [
    "df_cl = pd.DataFrame(countries_with_gdp_and_capita)"
   ]
  },
  {
   "cell_type": "code",
   "execution_count": 424,
   "metadata": {},
   "outputs": [
    {
     "data": {
      "image/png": "[encoded data removed]",
      "text/plain": [
       "<Figure size 432x288 with 2 Axes>"
      ]
     },
     "metadata": {},
     "output_type": "display_data"
    }
   ],
   "source": [
    "df_cl_1 = df_cl[['gdp','per_capita','population','conf_to_pop', 'dead_to_pop']]\n",
    "cor = df_cl_1.corr()\n",
    "sns.set()\n",
    "sns.heatmap(cor, square = True) \n",
    "plt.title(\"Корреляция между параметрами:\")\n",
    "plt.show()"
   ]
  },
  {
   "cell_type": "code",
   "execution_count": null,
   "metadata": {},
   "outputs": [],
   "source": []
  },
  {
   "cell_type": "code",
   "execution_count": 425,
   "metadata": {},
   "outputs": [
    {
     "data": {
      "application/vnd.plotly.v1+json": {
       "config": {
        "linkText": "Export to plot.ly",
        "plotlyServerURL": "https://plot.ly",
        "showLink": false
       },
       "data": [
        {
         "colorbar": {
          "title": {
           "text": "Заражённые"
          }
         },
         "locationmode": "country names",
         "locations": [
          "Afghanistan",
          "Albania",
          "Algeria",
          "Andorra",
          "Angola",
          "Antigua and Barbuda",
          "Argentina",
          "Armenia",
          "Australia",
          "Austria",
          "Azerbaijan",
          "Bahrain",
          "Bangladesh",
          "Barbados",
          "Belarus",
          "Belgium",
          "Benin",
          "Bhutan",
          "Bolivia",
          "Bosnia and Herzegovina",
          "Brazil",
          "Brunei",
          "Bulgaria",
          "Burkina Faso",
          "Cabo Verde",
          "Cambodia",
          "Cameroon",
          "Canada",
          "Central African Republic",
          "Chad",
          "Chile",
          "China",
          "Colombia",
          "Costa Rica",
          "Cote d'Ivoire",
          "Croatia",
          "Cyprus",
          "Denmark",
          "Dominican Republic",
          "Ecuador",
          "El Salvador",
          "Equatorial Guinea",
          "Estonia",
          "Ethiopia",
          "Fiji",
          "Finland",
          "France",
          "Gabon",
          "Georgia",
          "Germany",
          "Ghana",
          "Greece",
          "Guatemala",
          "Guinea",
          "Guyana",
          "Haiti",
          "Honduras",
          "Hungary",
          "Iceland",
          "India",
          "Indonesia",
          "Iraq",
          "Ireland",
          "Israel",
          "Italy",
          "Jamaica",
          "Japan",
          "Jordan",
          "Kazakhstan",
          "Kenya",
          "Kuwait",
          "Kyrgyzstan",
          "Latvia",
          "Lebanon",
          "Liberia",
          "Lithuania",
          "Luxembourg",
          "Madagascar",
          "Malaysia",
          "Maldives",
          "Malta",
          "Mauritania",
          "Mauritius",
          "Mexico",
          "Moldova",
          "Mongolia",
          "Montenegro",
          "Morocco",
          "Namibia",
          "Nepal",
          "Netherlands",
          "New Zealand",
          "Nicaragua",
          "Niger",
          "Nigeria",
          "Norway",
          "Oman",
          "Pakistan",
          "Panama",
          "Papua New Guinea",
          "Paraguay",
          "Peru",
          "Philippines",
          "Poland",
          "Portugal",
          "Qatar",
          "Romania",
          "Russia",
          "Rwanda",
          "Saint Vincent and the Grenadines",
          "San Marino",
          "Saudi Arabia",
          "Senegal",
          "Serbia",
          "Seychelles",
          "Singapore",
          "Slovenia",
          "Somalia",
          "South Africa",
          "Spain",
          "Sri Lanka",
          "Sudan",
          "Suriname",
          "Sweden",
          "Switzerland",
          "Tanzania",
          "Thailand",
          "Togo",
          "Trinidad and Tobago",
          "Tunisia",
          "Turkey",
          "Uganda",
          "Ukraine",
          "United Arab Emirates",
          "United Kingdom",
          "Uruguay",
          "United States",
          "Uzbekistan",
          "Vietnam",
          "Zambia",
          "Zimbabwe",
          "Dominica",
          "Grenada",
          "Mozambique",
          "Timor-Leste",
          "Belize",
          "West Bank and Gaza",
          "Guinea-Bissau",
          "Mali",
          "Kosovo",
          "Botswana",
          "Burundi",
          "Sierra Leone",
          "Malawi",
          "Sao Tome and Principe",
          "Comoros",
          "Tajikistan",
          "Lesotho"
         ],
         "text": [
          "Afghanistan",
          "Albania",
          "Algeria",
          "Andorra",
          "Angola",
          "Antigua and Barbuda",
          "Argentina",
          "Armenia",
          "Australia",
          "Austria",
          "Azerbaijan",
          "Bahrain",
          "Bangladesh",
          "Barbados",
          "Belarus",
          "Belgium",
          "Benin",
          "Bhutan",
          "Bolivia",
          "Bosnia and Herzegovina",
          "Brazil",
          "Brunei",
          "Bulgaria",
          "Burkina Faso",
          "Cabo Verde",
          "Cambodia",
          "Cameroon",
          "Canada",
          "Central African Republic",
          "Chad",
          "Chile",
          "China",
          "Colombia",
          "Costa Rica",
          "Cote d'Ivoire",
          "Croatia",
          "Cyprus",
          "Denmark",
          "Dominican Republic",
          "Ecuador",
          "El Salvador",
          "Equatorial Guinea",
          "Estonia",
          "Ethiopia",
          "Fiji",
          "Finland",
          "France",
          "Gabon",
          "Georgia",
          "Germany",
          "Ghana",
          "Greece",
          "Guatemala",
          "Guinea",
          "Guyana",
          "Haiti",
          "Honduras",
          "Hungary",
          "Iceland",
          "India",
          "Indonesia",
          "Iraq",
          "Ireland",
          "Israel",
          "Italy",
          "Jamaica",
          "Japan",
          "Jordan",
          "Kazakhstan",
          "Kenya",
          "Kuwait",
          "Kyrgyzstan",
          "Latvia",
          "Lebanon",
          "Liberia",
          "Lithuania",
          "Luxembourg",
          "Madagascar",
          "Malaysia",
          "Maldives",
          "Malta",
          "Mauritania",
          "Mauritius",
          "Mexico",
          "Moldova",
          "Mongolia",
          "Montenegro",
          "Morocco",
          "Namibia",
          "Nepal",
          "Netherlands",
          "New Zealand",
          "Nicaragua",
          "Niger",
          "Nigeria",
          "Norway",
          "Oman",
          "Pakistan",
          "Panama",
          "Papua New Guinea",
          "Paraguay",
          "Peru",
          "Philippines",
          "Poland",
          "Portugal",
          "Qatar",
          "Romania",
          "Russia",
          "Rwanda",
          "Saint Vincent and the Grenadines",
          "San Marino",
          "Saudi Arabia",
          "Senegal",
          "Serbia",
          "Seychelles",
          "Singapore",
          "Slovenia",
          "Somalia",
          "South Africa",
          "Spain",
          "Sri Lanka",
          "Sudan",
          "Suriname",
          "Sweden",
          "Switzerland",
          "Tanzania",
          "Thailand",
          "Togo",
          "Trinidad and Tobago",
          "Tunisia",
          "Turkey",
          "Uganda",
          "Ukraine",
          "United Arab Emirates",
          "United Kingdom",
          "Uruguay",
          "United States",
          "Uzbekistan",
          "Vietnam",
          "Zambia",
          "Zimbabwe",
          "Dominica",
          "Grenada",
          "Mozambique",
          "Timor-Leste",
          "Belize",
          "West Bank and Gaza",
          "Guinea-Bissau",
          "Mali",
          "Kosovo",
          "Botswana",
          "Burundi",
          "Sierra Leone",
          "Malawi",
          "Sao Tome and Principe",
          "Comoros",
          "Tajikistan",
          "Lesotho"
         ],
         "type": "choropleth",
         "z": [
          0.019024875077967823,
          0.03307312090249151,
          0.017052493238618942,
          0.9882346830117134,
          0.0001622862260344627,
          0.025964314645950604,
          0.01881356038101067,
          0.16339315720434072,
          0.028291591361185794,
          0.1840276155670011,
          0.034075132296424476,
          0.4577431808436008,
          0.014793372561655409,
          0.030700423177424024,
          0.322370466849841,
          0.48594206234864334,
          0.002951663763181486,
          0.0027836912806835684,
          0.03754907672254958,
          0.06931555998939809,
          0.1219118791006987,
          0.0328700444328402,
          0.03181477905383274,
          0.004030066523943582,
          0.002271622626968122,
          0.0007507785635242973,
          0.013994950951642784,
          0.21428977165784285,
          0.007007577827509436,
          0.0033532003454507056,
          0.24592133336465705,
          0.00603584327184738,
          0.03282060743401361,
          0.017321936592511043,
          0.01467551325166296,
          0.05450307166884834,
          0.07710644810029724,
          0.19272871129632582,
          0.11974030703390791,
          0.1965657823703871,
          0.02200679547416935,
          0.054928516532795915,
          0.1349493977580548,
          0.0003222718436427837,
          0.00012466221733361646,
          0.11567348529831702,
          0.26882468960625605,
          0.06757027757133925,
          0.018810969612904592,
          0.21295378409192256,
          0.019266231707829998,
          0.026426317630547033,
          0.01108546727128846,
          0.022522381011989542,
          0.01591776165462565,
          0.004791796875280945,
          0.02918376614937624,
          0.03616159640507698,
          0.5108853739924756,
          0.007417323283026876,
          0.006728599294856991,
          0.0092471171058657,
          0.4971946510895445,
          0.1873620930337281,
          0.3738487591225413,
          0.017718081472508865,
          0.01288636369024991,
          0.0063177913322916175,
          0.036946372212125045,
          0.0017745603925514385,
          0.3792561783516774,
          0.019231985829063075,
          0.052356455618434036,
          0.013593374142657424,
          0.004752045921779664,
          0.05521957007263498,
          0.6492310222880171,
          0.0012260889802473258,
          0.022014942947804348,
          0.21446743818063352,
          0.11513938468522378,
          0.0018395215063909747,
          0.02623877442794335,
          0.04091661587849028,
          0.2268251609634563,
          0.004416114021540542,
          0.0513292533969985,
          0.01929549355302367,
          0.0006535266955443775,
          0.0013350958497352825,
          0.2573233956358379,
          0.030964676719686016,
          0.0003866669203201664,
          0.0040502700447374385,
          0.00315252492485759,
          0.155442970107208,
          0.11137838149549342,
          0.019850149162384964,
          0.2328536203997584,
          9.295498794141419e-05,
          0.011328233998761657,
          0.29676526393736696,
          0.011924773376329776,
          0.049730412971777306,
          0.28402864226938196,
          1.2211698195009701,
          0.08751604388028549,
          2.013142445005609,
          0.002414253557914732,
          0.015425097541057978,
          1.9357703122687582,
          0.17016347236391796,
          0.016046059254362838,
          0.07409783684735347,
          0.011368099047146607,
          0.5026534597838216,
          0.07068828011460566,
          0.009694729944802005,
          0.02844082296003944,
          0.4949212057130719,
          0.006870273310830418,
          0.006198337271506287,
          0.0019097520620981927,
          0.2985391756871158,
          0.35940542875222287,
          0.0009037907148838954,
          0.004365640842371933,
          0.004182989833813617,
          0.008346176371974691,
          0.00901843149502594,
          0.18293671635730946,
          0.0005804816916659611,
          0.041718848843037004,
          0.2511691722496171,
          0.37271699947866654,
          0.021366660298222914,
          0.4616974923690147,
          0.008469021768814821,
          0.00033912357176249904,
          0.0043857065845880625,
          0.00031858122207479764,
          0.022338568935427575,
          0.019739085183124876,
          0.0004915927136060184,
          0.00016621628977815528,
          0.004698867833900243,
          0.0026871633514135105,
          0.05506029155278025,
          0.004581267438563055,
          0.006614023197422428,
          0.0011090773097865868,
          0.0003758262136636452,
          0.006784177155126551,
          0.0003858170350897838,
          0.1165722084273177,
          0.001321603898491209,
          0.01899825257830681,
          4.743535983515264e-05
         ]
        }
       ],
       "layout": {
        "geo": {
         "projection": {
          "type": "mercator"
         },
         "showframe": false
        },
        "template": {
         "data": {
          "bar": [
           {
            "error_x": {
             "color": "#2a3f5f"
            },
            "error_y": {
             "color": "#2a3f5f"
            },
            "marker": {
             "line": {
              "color": "#E5ECF6",
              "width": 0.5
             }
            },
            "type": "bar"
           }
          ],
          "barpolar": [
           {
            "marker": {
             "line": {
              "color": "#E5ECF6",
              "width": 0.5
             }
            },
            "type": "barpolar"
           }
          ],
          "carpet": [
           {
            "aaxis": {
             "endlinecolor": "#2a3f5f",
             "gridcolor": "white",
             "linecolor": "white",
             "minorgridcolor": "white",
             "startlinecolor": "#2a3f5f"
            },
            "baxis": {
             "endlinecolor": "#2a3f5f",
             "gridcolor": "white",
             "linecolor": "white",
             "minorgridcolor": "white",
             "startlinecolor": "#2a3f5f"
            },
            "type": "carpet"
           }
          ],
          "choropleth": [
           {
            "colorbar": {
             "outlinewidth": 0,
             "ticks": ""
            },
            "type": "choropleth"
           }
          ],
          "contour": [
           {
            "colorbar": {
             "outlinewidth": 0,
             "ticks": ""
            },
            "colorscale": [
             [
              0,
              "#0d0887"
             ],
             [
              0.1111111111111111,
              "#46039f"
             ],
             [
              0.2222222222222222,
              "#7201a8"
             ],
             [
              0.3333333333333333,
              "#9c179e"
             ],
             [
              0.4444444444444444,
              "#bd3786"
             ],
             [
              0.5555555555555556,
              "#d8576b"
             ],
             [
              0.6666666666666666,
              "#ed7953"
             ],
             [
              0.7777777777777778,
              "#fb9f3a"
             ],
             [
              0.8888888888888888,
              "#fdca26"
             ],
             [
              1,
              "#f0f921"
             ]
            ],
            "type": "contour"
           }
          ],
          "contourcarpet": [
           {
            "colorbar": {
             "outlinewidth": 0,
             "ticks": ""
            },
            "type": "contourcarpet"
           }
          ],
          "heatmap": [
           {
            "colorbar": {
             "outlinewidth": 0,
             "ticks": ""
            },
            "colorscale": [
             [
              0,
              "#0d0887"
             ],
             [
              0.1111111111111111,
              "#46039f"
             ],
             [
              0.2222222222222222,
              "#7201a8"
             ],
             [
              0.3333333333333333,
              "#9c179e"
             ],
             [
              0.4444444444444444,
              "#bd3786"
             ],
             [
              0.5555555555555556,
              "#d8576b"
             ],
             [
              0.6666666666666666,
              "#ed7953"
             ],
             [
              0.7777777777777778,
              "#fb9f3a"
             ],
             [
              0.8888888888888888,
              "#fdca26"
             ],
             [
              1,
              "#f0f921"
             ]
            ],
            "type": "heatmap"
           }
          ],
          "heatmapgl": [
           {
            "colorbar": {
             "outlinewidth": 0,
             "ticks": ""
            },
            "colorscale": [
             [
              0,
              "#0d0887"
             ],
             [
              0.1111111111111111,
              "#46039f"
             ],
             [
              0.2222222222222222,
              "#7201a8"
             ],
             [
              0.3333333333333333,
              "#9c179e"
             ],
             [
              0.4444444444444444,
              "#bd3786"
             ],
             [
              0.5555555555555556,
              "#d8576b"
             ],
             [
              0.6666666666666666,
              "#ed7953"
             ],
             [
              0.7777777777777778,
              "#fb9f3a"
             ],
             [
              0.8888888888888888,
              "#fdca26"
             ],
             [
              1,
              "#f0f921"
             ]
            ],
            "type": "heatmapgl"
           }
          ],
          "histogram": [
           {
            "marker": {
             "colorbar": {
              "outlinewidth": 0,
              "ticks": ""
             }
            },
            "type": "histogram"
           }
          ],
          "histogram2d": [
           {
            "colorbar": {
             "outlinewidth": 0,
             "ticks": ""
            },
            "colorscale": [
             [
              0,
              "#0d0887"
             ],
             [
              0.1111111111111111,
              "#46039f"
             ],
             [
              0.2222222222222222,
              "#7201a8"
             ],
             [
              0.3333333333333333,
              "#9c179e"
             ],
             [
              0.4444444444444444,
              "#bd3786"
             ],
             [
              0.5555555555555556,
              "#d8576b"
             ],
             [
              0.6666666666666666,
              "#ed7953"
             ],
             [
              0.7777777777777778,
              "#fb9f3a"
             ],
             [
              0.8888888888888888,
              "#fdca26"
             ],
             [
              1,
              "#f0f921"
             ]
            ],
            "type": "histogram2d"
           }
          ],
          "histogram2dcontour": [
           {
            "colorbar": {
             "outlinewidth": 0,
             "ticks": ""
            },
            "colorscale": [
             [
              0,
              "#0d0887"
             ],
             [
              0.1111111111111111,
              "#46039f"
             ],
             [
              0.2222222222222222,
              "#7201a8"
             ],
             [
              0.3333333333333333,
              "#9c179e"
             ],
             [
              0.4444444444444444,
              "#bd3786"
             ],
             [
              0.5555555555555556,
              "#d8576b"
             ],
             [
              0.6666666666666666,
              "#ed7953"
             ],
             [
              0.7777777777777778,
              "#fb9f3a"
             ],
             [
              0.8888888888888888,
              "#fdca26"
             ],
             [
              1,
              "#f0f921"
             ]
            ],
            "type": "histogram2dcontour"
           }
          ],
          "mesh3d": [
           {
            "colorbar": {
             "outlinewidth": 0,
             "ticks": ""
            },
            "type": "mesh3d"
           }
          ],
          "parcoords": [
           {
            "line": {
             "colorbar": {
              "outlinewidth": 0,
              "ticks": ""
             }
            },
            "type": "parcoords"
           }
          ],
          "pie": [
           {
            "automargin": true,
            "type": "pie"
           }
          ],
          "scatter": [
           {
            "marker": {
             "colorbar": {
              "outlinewidth": 0,
              "ticks": ""
             }
            },
            "type": "scatter"
           }
          ],
          "scatter3d": [
           {
            "line": {
             "colorbar": {
              "outlinewidth": 0,
              "ticks": ""
             }
            },
            "marker": {
             "colorbar": {
              "outlinewidth": 0,
              "ticks": ""
             }
            },
            "type": "scatter3d"
           }
          ],
          "scattercarpet": [
           {
            "marker": {
             "colorbar": {
              "outlinewidth": 0,
              "ticks": ""
             }
            },
            "type": "scattercarpet"
           }
          ],
          "scattergeo": [
           {
            "marker": {
             "colorbar": {
              "outlinewidth": 0,
              "ticks": ""
             }
            },
            "type": "scattergeo"
           }
          ],
          "scattergl": [
           {
            "marker": {
             "colorbar": {
              "outlinewidth": 0,
              "ticks": ""
             }
            },
            "type": "scattergl"
           }
          ],
          "scattermapbox": [
           {
            "marker": {
             "colorbar": {
              "outlinewidth": 0,
              "ticks": ""
             }
            },
            "type": "scattermapbox"
           }
          ],
          "scatterpolar": [
           {
            "marker": {
             "colorbar": {
              "outlinewidth": 0,
              "ticks": ""
             }
            },
            "type": "scatterpolar"
           }
          ],
          "scatterpolargl": [
           {
            "marker": {
             "colorbar": {
              "outlinewidth": 0,
              "ticks": ""
             }
            },
            "type": "scatterpolargl"
           }
          ],
          "scatterternary": [
           {
            "marker": {
             "colorbar": {
              "outlinewidth": 0,
              "ticks": ""
             }
            },
            "type": "scatterternary"
           }
          ],
          "surface": [
           {
            "colorbar": {
             "outlinewidth": 0,
             "ticks": ""
            },
            "colorscale": [
             [
              0,
              "#0d0887"
             ],
             [
              0.1111111111111111,
              "#46039f"
             ],
             [
              0.2222222222222222,
              "#7201a8"
             ],
             [
              0.3333333333333333,
              "#9c179e"
             ],
             [
              0.4444444444444444,
              "#bd3786"
             ],
             [
              0.5555555555555556,
              "#d8576b"
             ],
             [
              0.6666666666666666,
              "#ed7953"
             ],
             [
              0.7777777777777778,
              "#fb9f3a"
             ],
             [
              0.8888888888888888,
              "#fdca26"
             ],
             [
              1,
              "#f0f921"
             ]
            ],
            "type": "surface"
           }
          ],
          "table": [
           {
            "cells": {
             "fill": {
              "color": "#EBF0F8"
             },
             "line": {
              "color": "white"
             }
            },
            "header": {
             "fill": {
              "color": "#C8D4E3"
             },
             "line": {
              "color": "white"
             }
            },
            "type": "table"
           }
          ]
         },
         "layout": {
          "annotationdefaults": {
           "arrowcolor": "#2a3f5f",
           "arrowhead": 0,
           "arrowwidth": 1
          },
          "coloraxis": {
           "colorbar": {
            "outlinewidth": 0,
            "ticks": ""
           }
          },
          "colorscale": {
           "diverging": [
            [
             0,
             "#8e0152"
            ],
            [
             0.1,
             "#c51b7d"
            ],
            [
             0.2,
             "#de77ae"
            ],
            [
             0.3,
             "#f1b6da"
            ],
            [
             0.4,
             "#fde0ef"
            ],
            [
             0.5,
             "#f7f7f7"
            ],
            [
             0.6,
             "#e6f5d0"
            ],
            [
             0.7,
             "#b8e186"
            ],
            [
             0.8,
             "#7fbc41"
            ],
            [
             0.9,
             "#4d9221"
            ],
            [
             1,
             "#276419"
            ]
           ],
           "sequential": [
            [
             0,
             "#0d0887"
            ],
            [
             0.1111111111111111,
             "#46039f"
            ],
            [
             0.2222222222222222,
             "#7201a8"
            ],
            [
             0.3333333333333333,
             "#9c179e"
            ],
            [
             0.4444444444444444,
             "#bd3786"
            ],
            [
             0.5555555555555556,
             "#d8576b"
            ],
            [
             0.6666666666666666,
             "#ed7953"
            ],
            [
             0.7777777777777778,
             "#fb9f3a"
            ],
            [
             0.8888888888888888,
             "#fdca26"
            ],
            [
             1,
             "#f0f921"
            ]
           ],
           "sequentialminus": [
            [
             0,
             "#0d0887"
            ],
            [
             0.1111111111111111,
             "#46039f"
            ],
            [
             0.2222222222222222,
             "#7201a8"
            ],
            [
             0.3333333333333333,
             "#9c179e"
            ],
            [
             0.4444444444444444,
             "#bd3786"
            ],
            [
             0.5555555555555556,
             "#d8576b"
            ],
            [
             0.6666666666666666,
             "#ed7953"
            ],
            [
             0.7777777777777778,
             "#fb9f3a"
            ],
            [
             0.8888888888888888,
             "#fdca26"
            ],
            [
             1,
             "#f0f921"
            ]
           ]
          },
          "colorway": [
           "#636efa",
           "#EF553B",
           "#00cc96",
           "#ab63fa",
           "#FFA15A",
           "#19d3f3",
           "#FF6692",
           "#B6E880",
           "#FF97FF",
           "#FECB52"
          ],
          "font": {
           "color": "#2a3f5f"
          },
          "geo": {
           "bgcolor": "white",
           "lakecolor": "white",
           "landcolor": "#E5ECF6",
           "showlakes": true,
           "showland": true,
           "subunitcolor": "white"
          },
          "hoverlabel": {
           "align": "left"
          },
          "hovermode": "closest",
          "mapbox": {
           "style": "light"
          },
          "paper_bgcolor": "white",
          "plot_bgcolor": "#E5ECF6",
          "polar": {
           "angularaxis": {
            "gridcolor": "white",
            "linecolor": "white",
            "ticks": ""
           },
           "bgcolor": "#E5ECF6",
           "radialaxis": {
            "gridcolor": "white",
            "linecolor": "white",
            "ticks": ""
           }
          },
          "scene": {
           "xaxis": {
            "backgroundcolor": "#E5ECF6",
            "gridcolor": "white",
            "gridwidth": 2,
            "linecolor": "white",
            "showbackground": true,
            "ticks": "",
            "zerolinecolor": "white"
           },
           "yaxis": {
            "backgroundcolor": "#E5ECF6",
            "gridcolor": "white",
            "gridwidth": 2,
            "linecolor": "white",
            "showbackground": true,
            "ticks": "",
            "zerolinecolor": "white"
           },
           "zaxis": {
            "backgroundcolor": "#E5ECF6",
            "gridcolor": "white",
            "gridwidth": 2,
            "linecolor": "white",
            "showbackground": true,
            "ticks": "",
            "zerolinecolor": "white"
           }
          },
          "shapedefaults": {
           "line": {
            "color": "#2a3f5f"
           }
          },
          "ternary": {
           "aaxis": {
            "gridcolor": "white",
            "linecolor": "white",
            "ticks": ""
           },
           "baxis": {
            "gridcolor": "white",
            "linecolor": "white",
            "ticks": ""
           },
           "bgcolor": "#E5ECF6",
           "caxis": {
            "gridcolor": "white",
            "linecolor": "white",
            "ticks": ""
           }
          },
          "title": {
           "x": 0.05
          },
          "xaxis": {
           "automargin": true,
           "gridcolor": "white",
           "linecolor": "white",
           "ticks": "",
           "title": {
            "standoff": 15
           },
           "zerolinecolor": "white",
           "zerolinewidth": 2
          },
          "yaxis": {
           "automargin": true,
           "gridcolor": "white",
           "linecolor": "white",
           "ticks": "",
           "title": {
            "standoff": 15
           },
           "zerolinecolor": "white",
           "zerolinewidth": 2
          }
         }
        },
        "title": {
         "text": "Заражённые по отношению к населению(%)"
        }
       }
      },
      "text/html": [
       "<div>\n",
       "        \n",
       "        \n",
       "            <div id=\"c8dc854e-2033-4cb1-8756-0e4bc5eccf4b\" class=\"plotly-graph-div\" style=\"height:525px; width:100%;\"></div>\n",
       "            <script type=\"text/javascript\">\n",
       "                require([\"plotly\"], function(Plotly) {\n",
       "                    window.PLOTLYENV=window.PLOTLYENV || {};\n",
       "                    \n",
       "                if (document.getElementById(\"c8dc854e-2033-4cb1-8756-0e4bc5eccf4b\")) {\n",
       "                    Plotly.newPlot(\n",
       "                        'c8dc854e-2033-4cb1-8756-0e4bc5eccf4b',\n",
       "                        [{\"colorbar\": {\"title\": {\"text\": \"\\u0417\\u0430\\u0440\\u0430\\u0436\\u0451\\u043d\\u043d\\u044b\\u0435\"}}, \"locationmode\": \"country names\", \"locations\": [\"Afghanistan\", \"Albania\", \"Algeria\", \"Andorra\", \"Angola\", \"Antigua and Barbuda\", \"Argentina\", \"Armenia\", \"Australia\", \"Austria\", \"Azerbaijan\", \"Bahrain\", \"Bangladesh\", \"Barbados\", \"Belarus\", \"Belgium\", \"Benin\", \"Bhutan\", \"Bolivia\", \"Bosnia and Herzegovina\", \"Brazil\", \"Brunei\", \"Bulgaria\", \"Burkina Faso\", \"Cabo Verde\", \"Cambodia\", \"Cameroon\", \"Canada\", \"Central African Republic\", \"Chad\", \"Chile\", \"China\", \"Colombia\", \"Costa Rica\", \"Cote d'Ivoire\", \"Croatia\", \"Cyprus\", \"Denmark\", \"Dominican Republic\", \"Ecuador\", \"El Salvador\", \"Equatorial Guinea\", \"Estonia\", \"Ethiopia\", \"Fiji\", \"Finland\", \"France\", \"Gabon\", \"Georgia\", \"Germany\", \"Ghana\", \"Greece\", \"Guatemala\", \"Guinea\", \"Guyana\", \"Haiti\", \"Honduras\", \"Hungary\", \"Iceland\", \"India\", \"Indonesia\", \"Iraq\", \"Ireland\", \"Israel\", \"Italy\", \"Jamaica\", \"Japan\", \"Jordan\", \"Kazakhstan\", \"Kenya\", \"Kuwait\", \"Kyrgyzstan\", \"Latvia\", \"Lebanon\", \"Liberia\", \"Lithuania\", \"Luxembourg\", \"Madagascar\", \"Malaysia\", \"Maldives\", \"Malta\", \"Mauritania\", \"Mauritius\", \"Mexico\", \"Moldova\", \"Mongolia\", \"Montenegro\", \"Morocco\", \"Namibia\", \"Nepal\", \"Netherlands\", \"New Zealand\", \"Nicaragua\", \"Niger\", \"Nigeria\", \"Norway\", \"Oman\", \"Pakistan\", \"Panama\", \"Papua New Guinea\", \"Paraguay\", \"Peru\", \"Philippines\", \"Poland\", \"Portugal\", \"Qatar\", \"Romania\", \"Russia\", \"Rwanda\", \"Saint Vincent and the Grenadines\", \"San Marino\", \"Saudi Arabia\", \"Senegal\", \"Serbia\", \"Seychelles\", \"Singapore\", \"Slovenia\", \"Somalia\", \"South Africa\", \"Spain\", \"Sri Lanka\", \"Sudan\", \"Suriname\", \"Sweden\", \"Switzerland\", \"Tanzania\", \"Thailand\", \"Togo\", \"Trinidad and Tobago\", \"Tunisia\", \"Turkey\", \"Uganda\", \"Ukraine\", \"United Arab Emirates\", \"United Kingdom\", \"Uruguay\", \"United States\", \"Uzbekistan\", \"Vietnam\", \"Zambia\", \"Zimbabwe\", \"Dominica\", \"Grenada\", \"Mozambique\", \"Timor-Leste\", \"Belize\", \"West Bank and Gaza\", \"Guinea-Bissau\", \"Mali\", \"Kosovo\", \"Botswana\", \"Burundi\", \"Sierra Leone\", \"Malawi\", \"Sao Tome and Principe\", \"Comoros\", \"Tajikistan\", \"Lesotho\"], \"text\": [\"Afghanistan\", \"Albania\", \"Algeria\", \"Andorra\", \"Angola\", \"Antigua and Barbuda\", \"Argentina\", \"Armenia\", \"Australia\", \"Austria\", \"Azerbaijan\", \"Bahrain\", \"Bangladesh\", \"Barbados\", \"Belarus\", \"Belgium\", \"Benin\", \"Bhutan\", \"Bolivia\", \"Bosnia and Herzegovina\", \"Brazil\", \"Brunei\", \"Bulgaria\", \"Burkina Faso\", \"Cabo Verde\", \"Cambodia\", \"Cameroon\", \"Canada\", \"Central African Republic\", \"Chad\", \"Chile\", \"China\", \"Colombia\", \"Costa Rica\", \"Cote d'Ivoire\", \"Croatia\", \"Cyprus\", \"Denmark\", \"Dominican Republic\", \"Ecuador\", \"El Salvador\", \"Equatorial Guinea\", \"Estonia\", \"Ethiopia\", \"Fiji\", \"Finland\", \"France\", \"Gabon\", \"Georgia\", \"Germany\", \"Ghana\", \"Greece\", \"Guatemala\", \"Guinea\", \"Guyana\", \"Haiti\", \"Honduras\", \"Hungary\", \"Iceland\", \"India\", \"Indonesia\", \"Iraq\", \"Ireland\", \"Israel\", \"Italy\", \"Jamaica\", \"Japan\", \"Jordan\", \"Kazakhstan\", \"Kenya\", \"Kuwait\", \"Kyrgyzstan\", \"Latvia\", \"Lebanon\", \"Liberia\", \"Lithuania\", \"Luxembourg\", \"Madagascar\", \"Malaysia\", \"Maldives\", \"Malta\", \"Mauritania\", \"Mauritius\", \"Mexico\", \"Moldova\", \"Mongolia\", \"Montenegro\", \"Morocco\", \"Namibia\", \"Nepal\", \"Netherlands\", \"New Zealand\", \"Nicaragua\", \"Niger\", \"Nigeria\", \"Norway\", \"Oman\", \"Pakistan\", \"Panama\", \"Papua New Guinea\", \"Paraguay\", \"Peru\", \"Philippines\", \"Poland\", \"Portugal\", \"Qatar\", \"Romania\", \"Russia\", \"Rwanda\", \"Saint Vincent and the Grenadines\", \"San Marino\", \"Saudi Arabia\", \"Senegal\", \"Serbia\", \"Seychelles\", \"Singapore\", \"Slovenia\", \"Somalia\", \"South Africa\", \"Spain\", \"Sri Lanka\", \"Sudan\", \"Suriname\", \"Sweden\", \"Switzerland\", \"Tanzania\", \"Thailand\", \"Togo\", \"Trinidad and Tobago\", \"Tunisia\", \"Turkey\", \"Uganda\", \"Ukraine\", \"United Arab Emirates\", \"United Kingdom\", \"Uruguay\", \"United States\", \"Uzbekistan\", \"Vietnam\", \"Zambia\", \"Zimbabwe\", \"Dominica\", \"Grenada\", \"Mozambique\", \"Timor-Leste\", \"Belize\", \"West Bank and Gaza\", \"Guinea-Bissau\", \"Mali\", \"Kosovo\", \"Botswana\", \"Burundi\", \"Sierra Leone\", \"Malawi\", \"Sao Tome and Principe\", \"Comoros\", \"Tajikistan\", \"Lesotho\"], \"type\": \"choropleth\", \"z\": [0.019024875077967823, 0.03307312090249151, 0.017052493238618942, 0.9882346830117134, 0.0001622862260344627, 0.025964314645950604, 0.01881356038101067, 0.16339315720434072, 0.028291591361185794, 0.1840276155670011, 0.034075132296424476, 0.4577431808436008, 0.014793372561655409, 0.030700423177424024, 0.322370466849841, 0.48594206234864334, 0.002951663763181486, 0.0027836912806835684, 0.03754907672254958, 0.06931555998939809, 0.1219118791006987, 0.0328700444328402, 0.03181477905383274, 0.004030066523943582, 0.002271622626968122, 0.0007507785635242973, 0.013994950951642784, 0.21428977165784285, 0.007007577827509436, 0.0033532003454507056, 0.24592133336465705, 0.00603584327184738, 0.03282060743401361, 0.017321936592511043, 0.01467551325166296, 0.05450307166884834, 0.07710644810029724, 0.19272871129632582, 0.11974030703390791, 0.1965657823703871, 0.02200679547416935, 0.054928516532795915, 0.1349493977580548, 0.0003222718436427837, 0.00012466221733361646, 0.11567348529831702, 0.26882468960625605, 0.06757027757133925, 0.018810969612904592, 0.21295378409192256, 0.019266231707829998, 0.026426317630547033, 0.01108546727128846, 0.022522381011989542, 0.01591776165462565, 0.004791796875280945, 0.02918376614937624, 0.03616159640507698, 0.5108853739924756, 0.007417323283026876, 0.006728599294856991, 0.0092471171058657, 0.4971946510895445, 0.1873620930337281, 0.3738487591225413, 0.017718081472508865, 0.01288636369024991, 0.0063177913322916175, 0.036946372212125045, 0.0017745603925514385, 0.3792561783516774, 0.019231985829063075, 0.052356455618434036, 0.013593374142657424, 0.004752045921779664, 0.05521957007263498, 0.6492310222880171, 0.0012260889802473258, 0.022014942947804348, 0.21446743818063352, 0.11513938468522378, 0.0018395215063909747, 0.02623877442794335, 0.04091661587849028, 0.2268251609634563, 0.004416114021540542, 0.0513292533969985, 0.01929549355302367, 0.0006535266955443775, 0.0013350958497352825, 0.2573233956358379, 0.030964676719686016, 0.0003866669203201664, 0.0040502700447374385, 0.00315252492485759, 0.155442970107208, 0.11137838149549342, 0.019850149162384964, 0.2328536203997584, 9.295498794141419e-05, 0.011328233998761657, 0.29676526393736696, 0.011924773376329776, 0.049730412971777306, 0.28402864226938196, 1.2211698195009701, 0.08751604388028549, 2.013142445005609, 0.002414253557914732, 0.015425097541057978, 1.9357703122687582, 0.17016347236391796, 0.016046059254362838, 0.07409783684735347, 0.011368099047146607, 0.5026534597838216, 0.07068828011460566, 0.009694729944802005, 0.02844082296003944, 0.4949212057130719, 0.006870273310830418, 0.006198337271506287, 0.0019097520620981927, 0.2985391756871158, 0.35940542875222287, 0.0009037907148838954, 0.004365640842371933, 0.004182989833813617, 0.008346176371974691, 0.00901843149502594, 0.18293671635730946, 0.0005804816916659611, 0.041718848843037004, 0.2511691722496171, 0.37271699947866654, 0.021366660298222914, 0.4616974923690147, 0.008469021768814821, 0.00033912357176249904, 0.0043857065845880625, 0.00031858122207479764, 0.022338568935427575, 0.019739085183124876, 0.0004915927136060184, 0.00016621628977815528, 0.004698867833900243, 0.0026871633514135105, 0.05506029155278025, 0.004581267438563055, 0.006614023197422428, 0.0011090773097865868, 0.0003758262136636452, 0.006784177155126551, 0.0003858170350897838, 0.1165722084273177, 0.001321603898491209, 0.01899825257830681, 4.743535983515264e-05]}],\n",
       "                        {\"geo\": {\"projection\": {\"type\": \"mercator\"}, \"showframe\": false}, \"template\": {\"data\": {\"bar\": [{\"error_x\": {\"color\": \"#2a3f5f\"}, \"error_y\": {\"color\": \"#2a3f5f\"}, \"marker\": {\"line\": {\"color\": \"#E5ECF6\", \"width\": 0.5}}, \"type\": \"bar\"}], \"barpolar\": [{\"marker\": {\"line\": {\"color\": \"#E5ECF6\", \"width\": 0.5}}, \"type\": \"barpolar\"}], \"carpet\": [{\"aaxis\": {\"endlinecolor\": \"#2a3f5f\", \"gridcolor\": \"white\", \"linecolor\": \"white\", \"minorgridcolor\": \"white\", \"startlinecolor\": \"#2a3f5f\"}, \"baxis\": {\"endlinecolor\": \"#2a3f5f\", \"gridcolor\": \"white\", \"linecolor\": \"white\", \"minorgridcolor\": \"white\", \"startlinecolor\": \"#2a3f5f\"}, \"type\": \"carpet\"}], \"choropleth\": [{\"colorbar\": {\"outlinewidth\": 0, \"ticks\": \"\"}, \"type\": \"choropleth\"}], \"contour\": [{\"colorbar\": {\"outlinewidth\": 0, \"ticks\": \"\"}, \"colorscale\": [[0.0, \"#0d0887\"], [0.1111111111111111, \"#46039f\"], [0.2222222222222222, \"#7201a8\"], [0.3333333333333333, \"#9c179e\"], [0.4444444444444444, \"#bd3786\"], [0.5555555555555556, \"#d8576b\"], [0.6666666666666666, \"#ed7953\"], [0.7777777777777778, \"#fb9f3a\"], [0.8888888888888888, \"#fdca26\"], [1.0, \"#f0f921\"]], \"type\": \"contour\"}], \"contourcarpet\": [{\"colorbar\": {\"outlinewidth\": 0, \"ticks\": \"\"}, \"type\": \"contourcarpet\"}], \"heatmap\": [{\"colorbar\": {\"outlinewidth\": 0, \"ticks\": \"\"}, \"colorscale\": [[0.0, \"#0d0887\"], [0.1111111111111111, \"#46039f\"], [0.2222222222222222, \"#7201a8\"], [0.3333333333333333, \"#9c179e\"], [0.4444444444444444, \"#bd3786\"], [0.5555555555555556, \"#d8576b\"], [0.6666666666666666, \"#ed7953\"], [0.7777777777777778, \"#fb9f3a\"], [0.8888888888888888, \"#fdca26\"], [1.0, \"#f0f921\"]], \"type\": \"heatmap\"}], \"heatmapgl\": [{\"colorbar\": {\"outlinewidth\": 0, \"ticks\": \"\"}, \"colorscale\": [[0.0, \"#0d0887\"], [0.1111111111111111, \"#46039f\"], [0.2222222222222222, \"#7201a8\"], [0.3333333333333333, \"#9c179e\"], [0.4444444444444444, \"#bd3786\"], [0.5555555555555556, \"#d8576b\"], [0.6666666666666666, \"#ed7953\"], [0.7777777777777778, \"#fb9f3a\"], [0.8888888888888888, \"#fdca26\"], [1.0, \"#f0f921\"]], \"type\": \"heatmapgl\"}], \"histogram\": [{\"marker\": {\"colorbar\": {\"outlinewidth\": 0, \"ticks\": \"\"}}, \"type\": \"histogram\"}], \"histogram2d\": [{\"colorbar\": {\"outlinewidth\": 0, \"ticks\": \"\"}, \"colorscale\": [[0.0, \"#0d0887\"], [0.1111111111111111, \"#46039f\"], [0.2222222222222222, \"#7201a8\"], [0.3333333333333333, \"#9c179e\"], [0.4444444444444444, \"#bd3786\"], [0.5555555555555556, \"#d8576b\"], [0.6666666666666666, \"#ed7953\"], [0.7777777777777778, \"#fb9f3a\"], [0.8888888888888888, \"#fdca26\"], [1.0, \"#f0f921\"]], \"type\": \"histogram2d\"}], \"histogram2dcontour\": [{\"colorbar\": {\"outlinewidth\": 0, \"ticks\": \"\"}, \"colorscale\": [[0.0, \"#0d0887\"], [0.1111111111111111, \"#46039f\"], [0.2222222222222222, \"#7201a8\"], [0.3333333333333333, \"#9c179e\"], [0.4444444444444444, \"#bd3786\"], [0.5555555555555556, \"#d8576b\"], [0.6666666666666666, \"#ed7953\"], [0.7777777777777778, \"#fb9f3a\"], [0.8888888888888888, \"#fdca26\"], [1.0, \"#f0f921\"]], \"type\": \"histogram2dcontour\"}], \"mesh3d\": [{\"colorbar\": {\"outlinewidth\": 0, \"ticks\": \"\"}, \"type\": \"mesh3d\"}], \"parcoords\": [{\"line\": {\"colorbar\": {\"outlinewidth\": 0, \"ticks\": \"\"}}, \"type\": \"parcoords\"}], \"pie\": [{\"automargin\": true, \"type\": \"pie\"}], \"scatter\": [{\"marker\": {\"colorbar\": {\"outlinewidth\": 0, \"ticks\": \"\"}}, \"type\": \"scatter\"}], \"scatter3d\": [{\"line\": {\"colorbar\": {\"outlinewidth\": 0, \"ticks\": \"\"}}, \"marker\": {\"colorbar\": {\"outlinewidth\": 0, \"ticks\": \"\"}}, \"type\": \"scatter3d\"}], \"scattercarpet\": [{\"marker\": {\"colorbar\": {\"outlinewidth\": 0, \"ticks\": \"\"}}, \"type\": \"scattercarpet\"}], \"scattergeo\": [{\"marker\": {\"colorbar\": {\"outlinewidth\": 0, \"ticks\": \"\"}}, \"type\": \"scattergeo\"}], \"scattergl\": [{\"marker\": {\"colorbar\": {\"outlinewidth\": 0, \"ticks\": \"\"}}, \"type\": \"scattergl\"}], \"scattermapbox\": [{\"marker\": {\"colorbar\": {\"outlinewidth\": 0, \"ticks\": \"\"}}, \"type\": \"scattermapbox\"}], \"scatterpolar\": [{\"marker\": {\"colorbar\": {\"outlinewidth\": 0, \"ticks\": \"\"}}, \"type\": \"scatterpolar\"}], \"scatterpolargl\": [{\"marker\": {\"colorbar\": {\"outlinewidth\": 0, \"ticks\": \"\"}}, \"type\": \"scatterpolargl\"}], \"scatterternary\": [{\"marker\": {\"colorbar\": {\"outlinewidth\": 0, \"ticks\": \"\"}}, \"type\": \"scatterternary\"}], \"surface\": [{\"colorbar\": {\"outlinewidth\": 0, \"ticks\": \"\"}, \"colorscale\": [[0.0, \"#0d0887\"], [0.1111111111111111, \"#46039f\"], [0.2222222222222222, \"#7201a8\"], [0.3333333333333333, \"#9c179e\"], [0.4444444444444444, \"#bd3786\"], [0.5555555555555556, \"#d8576b\"], [0.6666666666666666, \"#ed7953\"], [0.7777777777777778, \"#fb9f3a\"], [0.8888888888888888, \"#fdca26\"], [1.0, \"#f0f921\"]], \"type\": \"surface\"}], \"table\": [{\"cells\": {\"fill\": {\"color\": \"#EBF0F8\"}, \"line\": {\"color\": \"white\"}}, \"header\": {\"fill\": {\"color\": \"#C8D4E3\"}, \"line\": {\"color\": \"white\"}}, \"type\": \"table\"}]}, \"layout\": {\"annotationdefaults\": {\"arrowcolor\": \"#2a3f5f\", \"arrowhead\": 0, \"arrowwidth\": 1}, \"coloraxis\": {\"colorbar\": {\"outlinewidth\": 0, \"ticks\": \"\"}}, \"colorscale\": {\"diverging\": [[0, \"#8e0152\"], [0.1, \"#c51b7d\"], [0.2, \"#de77ae\"], [0.3, \"#f1b6da\"], [0.4, \"#fde0ef\"], [0.5, \"#f7f7f7\"], [0.6, \"#e6f5d0\"], [0.7, \"#b8e186\"], [0.8, \"#7fbc41\"], [0.9, \"#4d9221\"], [1, \"#276419\"]], \"sequential\": [[0.0, \"#0d0887\"], [0.1111111111111111, \"#46039f\"], [0.2222222222222222, \"#7201a8\"], [0.3333333333333333, \"#9c179e\"], [0.4444444444444444, \"#bd3786\"], [0.5555555555555556, \"#d8576b\"], [0.6666666666666666, \"#ed7953\"], [0.7777777777777778, \"#fb9f3a\"], [0.8888888888888888, \"#fdca26\"], [1.0, \"#f0f921\"]], \"sequentialminus\": [[0.0, \"#0d0887\"], [0.1111111111111111, \"#46039f\"], [0.2222222222222222, \"#7201a8\"], [0.3333333333333333, \"#9c179e\"], [0.4444444444444444, \"#bd3786\"], [0.5555555555555556, \"#d8576b\"], [0.6666666666666666, \"#ed7953\"], [0.7777777777777778, \"#fb9f3a\"], [0.8888888888888888, \"#fdca26\"], [1.0, \"#f0f921\"]]}, \"colorway\": [\"#636efa\", \"#EF553B\", \"#00cc96\", \"#ab63fa\", \"#FFA15A\", \"#19d3f3\", \"#FF6692\", \"#B6E880\", \"#FF97FF\", \"#FECB52\"], \"font\": {\"color\": \"#2a3f5f\"}, \"geo\": {\"bgcolor\": \"white\", \"lakecolor\": \"white\", \"landcolor\": \"#E5ECF6\", \"showlakes\": true, \"showland\": true, \"subunitcolor\": \"white\"}, \"hoverlabel\": {\"align\": \"left\"}, \"hovermode\": \"closest\", \"mapbox\": {\"style\": \"light\"}, \"paper_bgcolor\": \"white\", \"plot_bgcolor\": \"#E5ECF6\", \"polar\": {\"angularaxis\": {\"gridcolor\": \"white\", \"linecolor\": \"white\", \"ticks\": \"\"}, \"bgcolor\": \"#E5ECF6\", \"radialaxis\": {\"gridcolor\": \"white\", \"linecolor\": \"white\", \"ticks\": \"\"}}, \"scene\": {\"xaxis\": {\"backgroundcolor\": \"#E5ECF6\", \"gridcolor\": \"white\", \"gridwidth\": 2, \"linecolor\": \"white\", \"showbackground\": true, \"ticks\": \"\", \"zerolinecolor\": \"white\"}, \"yaxis\": {\"backgroundcolor\": \"#E5ECF6\", \"gridcolor\": \"white\", \"gridwidth\": 2, \"linecolor\": \"white\", \"showbackground\": true, \"ticks\": \"\", \"zerolinecolor\": \"white\"}, \"zaxis\": {\"backgroundcolor\": \"#E5ECF6\", \"gridcolor\": \"white\", \"gridwidth\": 2, \"linecolor\": \"white\", \"showbackground\": true, \"ticks\": \"\", \"zerolinecolor\": \"white\"}}, \"shapedefaults\": {\"line\": {\"color\": \"#2a3f5f\"}}, \"ternary\": {\"aaxis\": {\"gridcolor\": \"white\", \"linecolor\": \"white\", \"ticks\": \"\"}, \"baxis\": {\"gridcolor\": \"white\", \"linecolor\": \"white\", \"ticks\": \"\"}, \"bgcolor\": \"#E5ECF6\", \"caxis\": {\"gridcolor\": \"white\", \"linecolor\": \"white\", \"ticks\": \"\"}}, \"title\": {\"x\": 0.05}, \"xaxis\": {\"automargin\": true, \"gridcolor\": \"white\", \"linecolor\": \"white\", \"ticks\": \"\", \"title\": {\"standoff\": 15}, \"zerolinecolor\": \"white\", \"zerolinewidth\": 2}, \"yaxis\": {\"automargin\": true, \"gridcolor\": \"white\", \"linecolor\": \"white\", \"ticks\": \"\", \"title\": {\"standoff\": 15}, \"zerolinecolor\": \"white\", \"zerolinewidth\": 2}}}, \"title\": {\"text\": \"\\u0417\\u0430\\u0440\\u0430\\u0436\\u0451\\u043d\\u043d\\u044b\\u0435 \\u043f\\u043e \\u043e\\u0442\\u043d\\u043e\\u0448\\u0435\\u043d\\u0438\\u044e \\u043a \\u043d\\u0430\\u0441\\u0435\\u043b\\u0435\\u043d\\u0438\\u044e(%)\"}},\n",
       "                        {\"responsive\": true}\n",
       "                    ).then(function(){\n",
       "                            \n",
       "var gd = document.getElementById('c8dc854e-2033-4cb1-8756-0e4bc5eccf4b');\n",
       "var x = new MutationObserver(function (mutations, observer) {{\n",
       "        var display = window.getComputedStyle(gd).display;\n",
       "        if (!display || display === 'none') {{\n",
       "            console.log([gd, 'removed!']);\n",
       "            Plotly.purge(gd);\n",
       "            observer.disconnect();\n",
       "        }}\n",
       "}});\n",
       "\n",
       "// Listen for the removal of the full notebook cells\n",
       "var notebookContainer = gd.closest('#notebook-container');\n",
       "if (notebookContainer) {{\n",
       "    x.observe(notebookContainer, {childList: true});\n",
       "}}\n",
       "\n",
       "// Listen for the clearing of the current output cell\n",
       "var outputEl = gd.closest('.output');\n",
       "if (outputEl) {{\n",
       "    x.observe(outputEl, {childList: true});\n",
       "}}\n",
       "\n",
       "                        })\n",
       "                };\n",
       "                });\n",
       "            </script>\n",
       "        </div>"
      ]
     },
     "metadata": {},
     "output_type": "display_data"
    }
   ],
   "source": [
    "data = dict(type = 'choropleth', \n",
    "           locations = df_cl['country'],\n",
    "           locationmode = 'country names',\n",
    "           z = df_cl['conf_to_pop'], \n",
    "           text = df_cl['country'],\n",
    "           colorbar = {'title':'Заражённые'})\n",
    "layout = dict(title = 'Заражённые по отношению к населению(%)', \n",
    "             geo = dict(showframe = False, \n",
    "                       projection = {'type': 'mercator'}))\n",
    "choromap3 = go.Figure(data = [data], layout=layout)\n",
    "iplot(choromap3)"
   ]
  },
  {
   "cell_type": "code",
   "execution_count": 426,
   "metadata": {},
   "outputs": [
    {
     "data": {
      "application/vnd.plotly.v1+json": {
       "config": {
        "linkText": "Export to plot.ly",
        "plotlyServerURL": "https://plot.ly",
        "showLink": false
       },
       "data": [
        {
         "colorbar": {
          "title": {
           "text": "Умершие"
          }
         },
         "locationmode": "country names",
         "locations": [
          "Afghanistan",
          "Albania",
          "Algeria",
          "Andorra",
          "Angola",
          "Antigua and Barbuda",
          "Argentina",
          "Armenia",
          "Australia",
          "Austria",
          "Azerbaijan",
          "Bahrain",
          "Bangladesh",
          "Barbados",
          "Belarus",
          "Belgium",
          "Benin",
          "Bhutan",
          "Bolivia",
          "Bosnia and Herzegovina",
          "Brazil",
          "Brunei",
          "Bulgaria",
          "Burkina Faso",
          "Cabo Verde",
          "Cambodia",
          "Cameroon",
          "Canada",
          "Central African Republic",
          "Chad",
          "Chile",
          "China",
          "Colombia",
          "Costa Rica",
          "Cote d'Ivoire",
          "Croatia",
          "Cyprus",
          "Denmark",
          "Dominican Republic",
          "Ecuador",
          "El Salvador",
          "Equatorial Guinea",
          "Estonia",
          "Ethiopia",
          "Fiji",
          "Finland",
          "France",
          "Gabon",
          "Georgia",
          "Germany",
          "Ghana",
          "Greece",
          "Guatemala",
          "Guinea",
          "Guyana",
          "Haiti",
          "Honduras",
          "Hungary",
          "Iceland",
          "India",
          "Indonesia",
          "Iraq",
          "Ireland",
          "Israel",
          "Italy",
          "Jamaica",
          "Japan",
          "Jordan",
          "Kazakhstan",
          "Kenya",
          "Kuwait",
          "Kyrgyzstan",
          "Latvia",
          "Lebanon",
          "Liberia",
          "Lithuania",
          "Luxembourg",
          "Madagascar",
          "Malaysia",
          "Maldives",
          "Malta",
          "Mauritania",
          "Mauritius",
          "Mexico",
          "Moldova",
          "Mongolia",
          "Montenegro",
          "Morocco",
          "Namibia",
          "Nepal",
          "Netherlands",
          "New Zealand",
          "Nicaragua",
          "Niger",
          "Nigeria",
          "Norway",
          "Oman",
          "Pakistan",
          "Panama",
          "Papua New Guinea",
          "Paraguay",
          "Peru",
          "Philippines",
          "Poland",
          "Portugal",
          "Qatar",
          "Romania",
          "Russia",
          "Rwanda",
          "Saint Vincent and the Grenadines",
          "San Marino",
          "Saudi Arabia",
          "Senegal",
          "Serbia",
          "Seychelles",
          "Singapore",
          "Slovenia",
          "Somalia",
          "South Africa",
          "Spain",
          "Sri Lanka",
          "Sudan",
          "Suriname",
          "Sweden",
          "Switzerland",
          "Tanzania",
          "Thailand",
          "Togo",
          "Trinidad and Tobago",
          "Tunisia",
          "Turkey",
          "Uganda",
          "Ukraine",
          "United Arab Emirates",
          "United Kingdom",
          "Uruguay",
          "United States",
          "Uzbekistan",
          "Vietnam",
          "Zambia",
          "Zimbabwe",
          "Dominica",
          "Grenada",
          "Mozambique",
          "Timor-Leste",
          "Belize",
          "West Bank and Gaza",
          "Guinea-Bissau",
          "Mali",
          "Kosovo",
          "Botswana",
          "Burundi",
          "Sierra Leone",
          "Malawi",
          "Sao Tome and Principe",
          "Comoros",
          "Tajikistan",
          "Lesotho"
         ],
         "text": [
          "Afghanistan",
          "Albania",
          "Algeria",
          "Andorra",
          "Angola",
          "Antigua and Barbuda",
          "Argentina",
          "Armenia",
          "Australia",
          "Austria",
          "Azerbaijan",
          "Bahrain",
          "Bangladesh",
          "Barbados",
          "Belarus",
          "Belgium",
          "Benin",
          "Bhutan",
          "Bolivia",
          "Bosnia and Herzegovina",
          "Brazil",
          "Brunei",
          "Bulgaria",
          "Burkina Faso",
          "Cabo Verde",
          "Cambodia",
          "Cameroon",
          "Canada",
          "Central African Republic",
          "Chad",
          "Chile",
          "China",
          "Colombia",
          "Costa Rica",
          "Cote d'Ivoire",
          "Croatia",
          "Cyprus",
          "Denmark",
          "Dominican Republic",
          "Ecuador",
          "El Salvador",
          "Equatorial Guinea",
          "Estonia",
          "Ethiopia",
          "Fiji",
          "Finland",
          "France",
          "Gabon",
          "Georgia",
          "Germany",
          "Ghana",
          "Greece",
          "Guatemala",
          "Guinea",
          "Guyana",
          "Haiti",
          "Honduras",
          "Hungary",
          "Iceland",
          "India",
          "Indonesia",
          "Iraq",
          "Ireland",
          "Israel",
          "Italy",
          "Jamaica",
          "Japan",
          "Jordan",
          "Kazakhstan",
          "Kenya",
          "Kuwait",
          "Kyrgyzstan",
          "Latvia",
          "Lebanon",
          "Liberia",
          "Lithuania",
          "Luxembourg",
          "Madagascar",
          "Malaysia",
          "Maldives",
          "Malta",
          "Mauritania",
          "Mauritius",
          "Mexico",
          "Moldova",
          "Mongolia",
          "Montenegro",
          "Morocco",
          "Namibia",
          "Nepal",
          "Netherlands",
          "New Zealand",
          "Nicaragua",
          "Niger",
          "Nigeria",
          "Norway",
          "Oman",
          "Pakistan",
          "Panama",
          "Papua New Guinea",
          "Paraguay",
          "Peru",
          "Philippines",
          "Poland",
          "Portugal",
          "Qatar",
          "Romania",
          "Russia",
          "Rwanda",
          "Saint Vincent and the Grenadines",
          "San Marino",
          "Saudi Arabia",
          "Senegal",
          "Serbia",
          "Seychelles",
          "Singapore",
          "Slovenia",
          "Somalia",
          "South Africa",
          "Spain",
          "Sri Lanka",
          "Sudan",
          "Suriname",
          "Sweden",
          "Switzerland",
          "Tanzania",
          "Thailand",
          "Togo",
          "Trinidad and Tobago",
          "Tunisia",
          "Turkey",
          "Uganda",
          "Ukraine",
          "United Arab Emirates",
          "United Kingdom",
          "Uruguay",
          "United States",
          "Uzbekistan",
          "Vietnam",
          "Zambia",
          "Zimbabwe",
          "Dominica",
          "Grenada",
          "Mozambique",
          "Timor-Leste",
          "Belize",
          "West Bank and Gaza",
          "Guinea-Bissau",
          "Mali",
          "Kosovo",
          "Botswana",
          "Burundi",
          "Sierra Leone",
          "Malawi",
          "Sao Tome and Principe",
          "Comoros",
          "Tajikistan",
          "Lesotho"
         ],
         "type": "choropleth",
         "z": [
          0.00046539923479757263,
          0.0010815050084148068,
          0.0013142804815211098,
          0.06622860556320287,
          9.737173562067764e-06,
          0.003115717757514073,
          0.0008585330385313673,
          0.0020665524755265983,
          0.0003962744121048944,
          0.007114965283154692,
          0.0004024225839554116,
          0.0007646044223445448,
          0.0002162918736496748,
          0.002442079116386002,
          0.0018031319452872826,
          0.07941744678856136,
          1.7413945505495493e-05,
          0,
          0.001532615376430595,
          0.004001288836193553,
          0.008045569133501752,
          0.0002331208825024128,
          0.0015658280518664885,
          0.0002582077798004054,
          2.077703622226941e-05,
          0,
          0.0005551978274950382,
          0.016082999069155952,
          0,
          0.0003424270102290701,
          0.0025521699851995495,
          0.00033301501367817164,
          0.001192378005580611,
          0.00020002236250012752,
          0.00019391900474118113,
          0.002323964007423964,
          0.001429454326832119,
          0.00945865428894739,
          0.004083873733022871,
          0.016383408518096408,
          0.00046723557269998616,
          0.0005347699801523942,
          0.0048412340002889605,
          4.577725051744086e-06,
          0,
          0.005439192098666944,
          0.042166646582689815,
          0.0005190454282714607,
          0.000322013745156712,
          0.009653126485194964,
          9.742296765947167e-05,
          0.0015374973233569325,
          0.0002029243485853013,
          0.0001288834392674652,
          0.0012836904560181975,
          0.00018879499883846124,
          0.0015228126725550146,
          0.004726070025217982,
          0.002835101964442151,
          0.00023332541544965332,
          0.000444961785684324,
          0.00033044003163898255,
          0.03178347624940188,
          0.0031071283829423157,
          0.05297263767225582,
          0.0003066591024088072,
          0.0005919586877643166,
          9.039765022356845e-05,
          0.0001915454047436493,
          9.728949520567097e-05,
          0.0028520954079088606,
          0.0002214208894793446,
          0.0009858995607039116,
          0.00037962161945122774,
          0.00045652842916660524,
          0.0021059823104624844,
          0.017600131589768895,
          3.8077297523208873e-06,
          0.000358404920487234,
          0.0007756507709968664,
          0.0012380578998411158,
          9.084056821683825e-05,
          0.000790324530962149,
          0.004225348049970177,
          0.0080190713471929,
          0,
          0.0014258125943610697,
          0.000532902008368893,
          0,
          7.120511198588174e-06,
          0.033154158888332286,
          0.00043379467052261935,
          0.00012373341450245325,
          0.0002450658442910441,
          9.751129727089874e-05,
          0.00438636454341522,
          0.0005176537530000623,
          0.0004255118028162285,
          0.0066796380928986826,
          0,
          0.0001581352461756069,
          0.008718552253919255,
          0.0007791702056714927,
          0.0024647956866075483,
          0.011970257750474483,
          0.0005392430537406032,
          0.00575357884162478,
          0.01885169753233911,
          0,
          0,
          0.1213556311972769,
          0.0009495563895100488,
          0.00016399274395182146,
          0.0015998317891147446,
          0,
          0.00039016251332759673,
          0.005014721099535463,
          0.0003797935442293569,
          0.0004949842004850776,
          0.05921164257015583,
          6.233110866680823e-05,
          0.0002511869600571826,
          0.0001736138238271084,
          0.03634321597560504,
          0.022153761434999912,
          3.728802556495443e-05,
          8.065849131403111e-05,
          0.00015210872122958606,
          0.0005755983704810131,
          0.000397744821448891,
          0.005066829427173493,
          0,
          0.0011989462898058013,
          0.002325832764940646,
          0.052476406080594465,
          0.0005798279592462121,
          0.027655481070884315,
          3.9447252953992364e-05,
          0,
          4.0341584877945384e-05,
          2.7702714963025883e-05,
          0,
          0,
          0,
          0,
          0.0005220964259889159,
          1.3851357481512941e-05,
          0.00021341198276271416,
          0.0002725696874202275,
          0.0002008446834819376,
          4.436309239146348e-05,
          8.948243182467742e-06,
          0.0004313638653548674,
          1.6535015789562163e-05,
          0.0033170953617529426,
          0.00012014580895374627,
          0.0004505080137134639,
          0
         ]
        }
       ],
       "layout": {
        "geo": {
         "projection": {
          "type": "mercator"
         },
         "showframe": false
        },
        "template": {
         "data": {
          "bar": [
           {
            "error_x": {
             "color": "#2a3f5f"
            },
            "error_y": {
             "color": "#2a3f5f"
            },
            "marker": {
             "line": {
              "color": "#E5ECF6",
              "width": 0.5
             }
            },
            "type": "bar"
           }
          ],
          "barpolar": [
           {
            "marker": {
             "line": {
              "color": "#E5ECF6",
              "width": 0.5
             }
            },
            "type": "barpolar"
           }
          ],
          "carpet": [
           {
            "aaxis": {
             "endlinecolor": "#2a3f5f",
             "gridcolor": "white",
             "linecolor": "white",
             "minorgridcolor": "white",
             "startlinecolor": "#2a3f5f"
            },
            "baxis": {
             "endlinecolor": "#2a3f5f",
             "gridcolor": "white",
             "linecolor": "white",
             "minorgridcolor": "white",
             "startlinecolor": "#2a3f5f"
            },
            "type": "carpet"
           }
          ],
          "choropleth": [
           {
            "colorbar": {
             "outlinewidth": 0,
             "ticks": ""
            },
            "type": "choropleth"
           }
          ],
          "contour": [
           {
            "colorbar": {
             "outlinewidth": 0,
             "ticks": ""
            },
            "colorscale": [
             [
              0,
              "#0d0887"
             ],
             [
              0.1111111111111111,
              "#46039f"
             ],
             [
              0.2222222222222222,
              "#7201a8"
             ],
             [
              0.3333333333333333,
              "#9c179e"
             ],
             [
              0.4444444444444444,
              "#bd3786"
             ],
             [
              0.5555555555555556,
              "#d8576b"
             ],
             [
              0.6666666666666666,
              "#ed7953"
             ],
             [
              0.7777777777777778,
              "#fb9f3a"
             ],
             [
              0.8888888888888888,
              "#fdca26"
             ],
             [
              1,
              "#f0f921"
             ]
            ],
            "type": "contour"
           }
          ],
          "contourcarpet": [
           {
            "colorbar": {
             "outlinewidth": 0,
             "ticks": ""
            },
            "type": "contourcarpet"
           }
          ],
          "heatmap": [
           {
            "colorbar": {
             "outlinewidth": 0,
             "ticks": ""
            },
            "colorscale": [
             [
              0,
              "#0d0887"
             ],
             [
              0.1111111111111111,
              "#46039f"
             ],
             [
              0.2222222222222222,
              "#7201a8"
             ],
             [
              0.3333333333333333,
              "#9c179e"
             ],
             [
              0.4444444444444444,
              "#bd3786"
             ],
             [
              0.5555555555555556,
              "#d8576b"
             ],
             [
              0.6666666666666666,
              "#ed7953"
             ],
             [
              0.7777777777777778,
              "#fb9f3a"
             ],
             [
              0.8888888888888888,
              "#fdca26"
             ],
             [
              1,
              "#f0f921"
             ]
            ],
            "type": "heatmap"
           }
          ],
          "heatmapgl": [
           {
            "colorbar": {
             "outlinewidth": 0,
             "ticks": ""
            },
            "colorscale": [
             [
              0,
              "#0d0887"
             ],
             [
              0.1111111111111111,
              "#46039f"
             ],
             [
              0.2222222222222222,
              "#7201a8"
             ],
             [
              0.3333333333333333,
              "#9c179e"
             ],
             [
              0.4444444444444444,
              "#bd3786"
             ],
             [
              0.5555555555555556,
              "#d8576b"
             ],
             [
              0.6666666666666666,
              "#ed7953"
             ],
             [
              0.7777777777777778,
              "#fb9f3a"
             ],
             [
              0.8888888888888888,
              "#fdca26"
             ],
             [
              1,
              "#f0f921"
             ]
            ],
            "type": "heatmapgl"
           }
          ],
          "histogram": [
           {
            "marker": {
             "colorbar": {
              "outlinewidth": 0,
              "ticks": ""
             }
            },
            "type": "histogram"
           }
          ],
          "histogram2d": [
           {
            "colorbar": {
             "outlinewidth": 0,
             "ticks": ""
            },
            "colorscale": [
             [
              0,
              "#0d0887"
             ],
             [
              0.1111111111111111,
              "#46039f"
             ],
             [
              0.2222222222222222,
              "#7201a8"
             ],
             [
              0.3333333333333333,
              "#9c179e"
             ],
             [
              0.4444444444444444,
              "#bd3786"
             ],
             [
              0.5555555555555556,
              "#d8576b"
             ],
             [
              0.6666666666666666,
              "#ed7953"
             ],
             [
              0.7777777777777778,
              "#fb9f3a"
             ],
             [
              0.8888888888888888,
              "#fdca26"
             ],
             [
              1,
              "#f0f921"
             ]
            ],
            "type": "histogram2d"
           }
          ],
          "histogram2dcontour": [
           {
            "colorbar": {
             "outlinewidth": 0,
             "ticks": ""
            },
            "colorscale": [
             [
              0,
              "#0d0887"
             ],
             [
              0.1111111111111111,
              "#46039f"
             ],
             [
              0.2222222222222222,
              "#7201a8"
             ],
             [
              0.3333333333333333,
              "#9c179e"
             ],
             [
              0.4444444444444444,
              "#bd3786"
             ],
             [
              0.5555555555555556,
              "#d8576b"
             ],
             [
              0.6666666666666666,
              "#ed7953"
             ],
             [
              0.7777777777777778,
              "#fb9f3a"
             ],
             [
              0.8888888888888888,
              "#fdca26"
             ],
             [
              1,
              "#f0f921"
             ]
            ],
            "type": "histogram2dcontour"
           }
          ],
          "mesh3d": [
           {
            "colorbar": {
             "outlinewidth": 0,
             "ticks": ""
            },
            "type": "mesh3d"
           }
          ],
          "parcoords": [
           {
            "line": {
             "colorbar": {
              "outlinewidth": 0,
              "ticks": ""
             }
            },
            "type": "parcoords"
           }
          ],
          "pie": [
           {
            "automargin": true,
            "type": "pie"
           }
          ],
          "scatter": [
           {
            "marker": {
             "colorbar": {
              "outlinewidth": 0,
              "ticks": ""
             }
            },
            "type": "scatter"
           }
          ],
          "scatter3d": [
           {
            "line": {
             "colorbar": {
              "outlinewidth": 0,
              "ticks": ""
             }
            },
            "marker": {
             "colorbar": {
              "outlinewidth": 0,
              "ticks": ""
             }
            },
            "type": "scatter3d"
           }
          ],
          "scattercarpet": [
           {
            "marker": {
             "colorbar": {
              "outlinewidth": 0,
              "ticks": ""
             }
            },
            "type": "scattercarpet"
           }
          ],
          "scattergeo": [
           {
            "marker": {
             "colorbar": {
              "outlinewidth": 0,
              "ticks": ""
             }
            },
            "type": "scattergeo"
           }
          ],
          "scattergl": [
           {
            "marker": {
             "colorbar": {
              "outlinewidth": 0,
              "ticks": ""
             }
            },
            "type": "scattergl"
           }
          ],
          "scattermapbox": [
           {
            "marker": {
             "colorbar": {
              "outlinewidth": 0,
              "ticks": ""
             }
            },
            "type": "scattermapbox"
           }
          ],
          "scatterpolar": [
           {
            "marker": {
             "colorbar": {
              "outlinewidth": 0,
              "ticks": ""
             }
            },
            "type": "scatterpolar"
           }
          ],
          "scatterpolargl": [
           {
            "marker": {
             "colorbar": {
              "outlinewidth": 0,
              "ticks": ""
             }
            },
            "type": "scatterpolargl"
           }
          ],
          "scatterternary": [
           {
            "marker": {
             "colorbar": {
              "outlinewidth": 0,
              "ticks": ""
             }
            },
            "type": "scatterternary"
           }
          ],
          "surface": [
           {
            "colorbar": {
             "outlinewidth": 0,
             "ticks": ""
            },
            "colorscale": [
             [
              0,
              "#0d0887"
             ],
             [
              0.1111111111111111,
              "#46039f"
             ],
             [
              0.2222222222222222,
              "#7201a8"
             ],
             [
              0.3333333333333333,
              "#9c179e"
             ],
             [
              0.4444444444444444,
              "#bd3786"
             ],
             [
              0.5555555555555556,
              "#d8576b"
             ],
             [
              0.6666666666666666,
              "#ed7953"
             ],
             [
              0.7777777777777778,
              "#fb9f3a"
             ],
             [
              0.8888888888888888,
              "#fdca26"
             ],
             [
              1,
              "#f0f921"
             ]
            ],
            "type": "surface"
           }
          ],
          "table": [
           {
            "cells": {
             "fill": {
              "color": "#EBF0F8"
             },
             "line": {
              "color": "white"
             }
            },
            "header": {
             "fill": {
              "color": "#C8D4E3"
             },
             "line": {
              "color": "white"
             }
            },
            "type": "table"
           }
          ]
         },
         "layout": {
          "annotationdefaults": {
           "arrowcolor": "#2a3f5f",
           "arrowhead": 0,
           "arrowwidth": 1
          },
          "coloraxis": {
           "colorbar": {
            "outlinewidth": 0,
            "ticks": ""
           }
          },
          "colorscale": {
           "diverging": [
            [
             0,
             "#8e0152"
            ],
            [
             0.1,
             "#c51b7d"
            ],
            [
             0.2,
             "#de77ae"
            ],
            [
             0.3,
             "#f1b6da"
            ],
            [
             0.4,
             "#fde0ef"
            ],
            [
             0.5,
             "#f7f7f7"
            ],
            [
             0.6,
             "#e6f5d0"
            ],
            [
             0.7,
             "#b8e186"
            ],
            [
             0.8,
             "#7fbc41"
            ],
            [
             0.9,
             "#4d9221"
            ],
            [
             1,
             "#276419"
            ]
           ],
           "sequential": [
            [
             0,
             "#0d0887"
            ],
            [
             0.1111111111111111,
             "#46039f"
            ],
            [
             0.2222222222222222,
             "#7201a8"
            ],
            [
             0.3333333333333333,
             "#9c179e"
            ],
            [
             0.4444444444444444,
             "#bd3786"
            ],
            [
             0.5555555555555556,
             "#d8576b"
            ],
            [
             0.6666666666666666,
             "#ed7953"
            ],
            [
             0.7777777777777778,
             "#fb9f3a"
            ],
            [
             0.8888888888888888,
             "#fdca26"
            ],
            [
             1,
             "#f0f921"
            ]
           ],
           "sequentialminus": [
            [
             0,
             "#0d0887"
            ],
            [
             0.1111111111111111,
             "#46039f"
            ],
            [
             0.2222222222222222,
             "#7201a8"
            ],
            [
             0.3333333333333333,
             "#9c179e"
            ],
            [
             0.4444444444444444,
             "#bd3786"
            ],
            [
             0.5555555555555556,
             "#d8576b"
            ],
            [
             0.6666666666666666,
             "#ed7953"
            ],
            [
             0.7777777777777778,
             "#fb9f3a"
            ],
            [
             0.8888888888888888,
             "#fdca26"
            ],
            [
             1,
             "#f0f921"
            ]
           ]
          },
          "colorway": [
           "#636efa",
           "#EF553B",
           "#00cc96",
           "#ab63fa",
           "#FFA15A",
           "#19d3f3",
           "#FF6692",
           "#B6E880",
           "#FF97FF",
           "#FECB52"
          ],
          "font": {
           "color": "#2a3f5f"
          },
          "geo": {
           "bgcolor": "white",
           "lakecolor": "white",
           "landcolor": "#E5ECF6",
           "showlakes": true,
           "showland": true,
           "subunitcolor": "white"
          },
          "hoverlabel": {
           "align": "left"
          },
          "hovermode": "closest",
          "mapbox": {
           "style": "light"
          },
          "paper_bgcolor": "white",
          "plot_bgcolor": "#E5ECF6",
          "polar": {
           "angularaxis": {
            "gridcolor": "white",
            "linecolor": "white",
            "ticks": ""
           },
           "bgcolor": "#E5ECF6",
           "radialaxis": {
            "gridcolor": "white",
            "linecolor": "white",
            "ticks": ""
           }
          },
          "scene": {
           "xaxis": {
            "backgroundcolor": "#E5ECF6",
            "gridcolor": "white",
            "gridwidth": 2,
            "linecolor": "white",
            "showbackground": true,
            "ticks": "",
            "zerolinecolor": "white"
           },
           "yaxis": {
            "backgroundcolor": "#E5ECF6",
            "gridcolor": "white",
            "gridwidth": 2,
            "linecolor": "white",
            "showbackground": true,
            "ticks": "",
            "zerolinecolor": "white"
           },
           "zaxis": {
            "backgroundcolor": "#E5ECF6",
            "gridcolor": "white",
            "gridwidth": 2,
            "linecolor": "white",
            "showbackground": true,
            "ticks": "",
            "zerolinecolor": "white"
           }
          },
          "shapedefaults": {
           "line": {
            "color": "#2a3f5f"
           }
          },
          "ternary": {
           "aaxis": {
            "gridcolor": "white",
            "linecolor": "white",
            "ticks": ""
           },
           "baxis": {
            "gridcolor": "white",
            "linecolor": "white",
            "ticks": ""
           },
           "bgcolor": "#E5ECF6",
           "caxis": {
            "gridcolor": "white",
            "linecolor": "white",
            "ticks": ""
           }
          },
          "title": {
           "x": 0.05
          },
          "xaxis": {
           "automargin": true,
           "gridcolor": "white",
           "linecolor": "white",
           "ticks": "",
           "title": {
            "standoff": 15
           },
           "zerolinecolor": "white",
           "zerolinewidth": 2
          },
          "yaxis": {
           "automargin": true,
           "gridcolor": "white",
           "linecolor": "white",
           "ticks": "",
           "title": {
            "standoff": 15
           },
           "zerolinecolor": "white",
           "zerolinewidth": 2
          }
         }
        },
        "title": {
         "text": "Умершие по отношению к населению(%)"
        }
       }
      },
      "text/html": [
       "<div>\n",
       "        \n",
       "        \n",
       "            <div id=\"e34a5ecd-c09b-4530-a08b-bff1bc43b490\" class=\"plotly-graph-div\" style=\"height:525px; width:100%;\"></div>\n",
       "            <script type=\"text/javascript\">\n",
       "                require([\"plotly\"], function(Plotly) {\n",
       "                    window.PLOTLYENV=window.PLOTLYENV || {};\n",
       "                    \n",
       "                if (document.getElementById(\"e34a5ecd-c09b-4530-a08b-bff1bc43b490\")) {\n",
       "                    Plotly.newPlot(\n",
       "                        'e34a5ecd-c09b-4530-a08b-bff1bc43b490',\n",
       "                        [{\"colorbar\": {\"title\": {\"text\": \"\\u0423\\u043c\\u0435\\u0440\\u0448\\u0438\\u0435\"}}, \"locationmode\": \"country names\", \"locations\": [\"Afghanistan\", \"Albania\", \"Algeria\", \"Andorra\", \"Angola\", \"Antigua and Barbuda\", \"Argentina\", \"Armenia\", \"Australia\", \"Austria\", \"Azerbaijan\", \"Bahrain\", \"Bangladesh\", \"Barbados\", \"Belarus\", \"Belgium\", \"Benin\", \"Bhutan\", \"Bolivia\", \"Bosnia and Herzegovina\", \"Brazil\", \"Brunei\", \"Bulgaria\", \"Burkina Faso\", \"Cabo Verde\", \"Cambodia\", \"Cameroon\", \"Canada\", \"Central African Republic\", \"Chad\", \"Chile\", \"China\", \"Colombia\", \"Costa Rica\", \"Cote d'Ivoire\", \"Croatia\", \"Cyprus\", \"Denmark\", \"Dominican Republic\", \"Ecuador\", \"El Salvador\", \"Equatorial Guinea\", \"Estonia\", \"Ethiopia\", \"Fiji\", \"Finland\", \"France\", \"Gabon\", \"Georgia\", \"Germany\", \"Ghana\", \"Greece\", \"Guatemala\", \"Guinea\", \"Guyana\", \"Haiti\", \"Honduras\", \"Hungary\", \"Iceland\", \"India\", \"Indonesia\", \"Iraq\", \"Ireland\", \"Israel\", \"Italy\", \"Jamaica\", \"Japan\", \"Jordan\", \"Kazakhstan\", \"Kenya\", \"Kuwait\", \"Kyrgyzstan\", \"Latvia\", \"Lebanon\", \"Liberia\", \"Lithuania\", \"Luxembourg\", \"Madagascar\", \"Malaysia\", \"Maldives\", \"Malta\", \"Mauritania\", \"Mauritius\", \"Mexico\", \"Moldova\", \"Mongolia\", \"Montenegro\", \"Morocco\", \"Namibia\", \"Nepal\", \"Netherlands\", \"New Zealand\", \"Nicaragua\", \"Niger\", \"Nigeria\", \"Norway\", \"Oman\", \"Pakistan\", \"Panama\", \"Papua New Guinea\", \"Paraguay\", \"Peru\", \"Philippines\", \"Poland\", \"Portugal\", \"Qatar\", \"Romania\", \"Russia\", \"Rwanda\", \"Saint Vincent and the Grenadines\", \"San Marino\", \"Saudi Arabia\", \"Senegal\", \"Serbia\", \"Seychelles\", \"Singapore\", \"Slovenia\", \"Somalia\", \"South Africa\", \"Spain\", \"Sri Lanka\", \"Sudan\", \"Suriname\", \"Sweden\", \"Switzerland\", \"Tanzania\", \"Thailand\", \"Togo\", \"Trinidad and Tobago\", \"Tunisia\", \"Turkey\", \"Uganda\", \"Ukraine\", \"United Arab Emirates\", \"United Kingdom\", \"Uruguay\", \"United States\", \"Uzbekistan\", \"Vietnam\", \"Zambia\", \"Zimbabwe\", \"Dominica\", \"Grenada\", \"Mozambique\", \"Timor-Leste\", \"Belize\", \"West Bank and Gaza\", \"Guinea-Bissau\", \"Mali\", \"Kosovo\", \"Botswana\", \"Burundi\", \"Sierra Leone\", \"Malawi\", \"Sao Tome and Principe\", \"Comoros\", \"Tajikistan\", \"Lesotho\"], \"text\": [\"Afghanistan\", \"Albania\", \"Algeria\", \"Andorra\", \"Angola\", \"Antigua and Barbuda\", \"Argentina\", \"Armenia\", \"Australia\", \"Austria\", \"Azerbaijan\", \"Bahrain\", \"Bangladesh\", \"Barbados\", \"Belarus\", \"Belgium\", \"Benin\", \"Bhutan\", \"Bolivia\", \"Bosnia and Herzegovina\", \"Brazil\", \"Brunei\", \"Bulgaria\", \"Burkina Faso\", \"Cabo Verde\", \"Cambodia\", \"Cameroon\", \"Canada\", \"Central African Republic\", \"Chad\", \"Chile\", \"China\", \"Colombia\", \"Costa Rica\", \"Cote d'Ivoire\", \"Croatia\", \"Cyprus\", \"Denmark\", \"Dominican Republic\", \"Ecuador\", \"El Salvador\", \"Equatorial Guinea\", \"Estonia\", \"Ethiopia\", \"Fiji\", \"Finland\", \"France\", \"Gabon\", \"Georgia\", \"Germany\", \"Ghana\", \"Greece\", \"Guatemala\", \"Guinea\", \"Guyana\", \"Haiti\", \"Honduras\", \"Hungary\", \"Iceland\", \"India\", \"Indonesia\", \"Iraq\", \"Ireland\", \"Israel\", \"Italy\", \"Jamaica\", \"Japan\", \"Jordan\", \"Kazakhstan\", \"Kenya\", \"Kuwait\", \"Kyrgyzstan\", \"Latvia\", \"Lebanon\", \"Liberia\", \"Lithuania\", \"Luxembourg\", \"Madagascar\", \"Malaysia\", \"Maldives\", \"Malta\", \"Mauritania\", \"Mauritius\", \"Mexico\", \"Moldova\", \"Mongolia\", \"Montenegro\", \"Morocco\", \"Namibia\", \"Nepal\", \"Netherlands\", \"New Zealand\", \"Nicaragua\", \"Niger\", \"Nigeria\", \"Norway\", \"Oman\", \"Pakistan\", \"Panama\", \"Papua New Guinea\", \"Paraguay\", \"Peru\", \"Philippines\", \"Poland\", \"Portugal\", \"Qatar\", \"Romania\", \"Russia\", \"Rwanda\", \"Saint Vincent and the Grenadines\", \"San Marino\", \"Saudi Arabia\", \"Senegal\", \"Serbia\", \"Seychelles\", \"Singapore\", \"Slovenia\", \"Somalia\", \"South Africa\", \"Spain\", \"Sri Lanka\", \"Sudan\", \"Suriname\", \"Sweden\", \"Switzerland\", \"Tanzania\", \"Thailand\", \"Togo\", \"Trinidad and Tobago\", \"Tunisia\", \"Turkey\", \"Uganda\", \"Ukraine\", \"United Arab Emirates\", \"United Kingdom\", \"Uruguay\", \"United States\", \"Uzbekistan\", \"Vietnam\", \"Zambia\", \"Zimbabwe\", \"Dominica\", \"Grenada\", \"Mozambique\", \"Timor-Leste\", \"Belize\", \"West Bank and Gaza\", \"Guinea-Bissau\", \"Mali\", \"Kosovo\", \"Botswana\", \"Burundi\", \"Sierra Leone\", \"Malawi\", \"Sao Tome and Principe\", \"Comoros\", \"Tajikistan\", \"Lesotho\"], \"type\": \"choropleth\", \"z\": [0.00046539923479757263, 0.0010815050084148068, 0.0013142804815211098, 0.06622860556320287, 9.737173562067764e-06, 0.003115717757514073, 0.0008585330385313673, 0.0020665524755265983, 0.0003962744121048944, 0.007114965283154692, 0.0004024225839554116, 0.0007646044223445448, 0.0002162918736496748, 0.002442079116386002, 0.0018031319452872826, 0.07941744678856136, 1.7413945505495493e-05, 0.0, 0.001532615376430595, 0.004001288836193553, 0.008045569133501752, 0.0002331208825024128, 0.0015658280518664885, 0.0002582077798004054, 2.077703622226941e-05, 0.0, 0.0005551978274950382, 0.016082999069155952, 0.0, 0.0003424270102290701, 0.0025521699851995495, 0.00033301501367817164, 0.001192378005580611, 0.00020002236250012752, 0.00019391900474118113, 0.002323964007423964, 0.001429454326832119, 0.00945865428894739, 0.004083873733022871, 0.016383408518096408, 0.00046723557269998616, 0.0005347699801523942, 0.0048412340002889605, 4.577725051744086e-06, 0.0, 0.005439192098666944, 0.042166646582689815, 0.0005190454282714607, 0.000322013745156712, 0.009653126485194964, 9.742296765947167e-05, 0.0015374973233569325, 0.0002029243485853013, 0.0001288834392674652, 0.0012836904560181975, 0.00018879499883846124, 0.0015228126725550146, 0.004726070025217982, 0.002835101964442151, 0.00023332541544965332, 0.000444961785684324, 0.00033044003163898255, 0.03178347624940188, 0.0031071283829423157, 0.05297263767225582, 0.0003066591024088072, 0.0005919586877643166, 9.039765022356845e-05, 0.0001915454047436493, 9.728949520567097e-05, 0.0028520954079088606, 0.0002214208894793446, 0.0009858995607039116, 0.00037962161945122774, 0.00045652842916660524, 0.0021059823104624844, 0.017600131589768895, 3.8077297523208873e-06, 0.000358404920487234, 0.0007756507709968664, 0.0012380578998411158, 9.084056821683825e-05, 0.000790324530962149, 0.004225348049970177, 0.0080190713471929, 0.0, 0.0014258125943610697, 0.000532902008368893, 0.0, 7.120511198588174e-06, 0.033154158888332286, 0.00043379467052261935, 0.00012373341450245325, 0.0002450658442910441, 9.751129727089874e-05, 0.00438636454341522, 0.0005176537530000623, 0.0004255118028162285, 0.0066796380928986826, 0.0, 0.0001581352461756069, 0.008718552253919255, 0.0007791702056714927, 0.0024647956866075483, 0.011970257750474483, 0.0005392430537406032, 0.00575357884162478, 0.01885169753233911, 0.0, 0.0, 0.1213556311972769, 0.0009495563895100488, 0.00016399274395182146, 0.0015998317891147446, 0.0, 0.00039016251332759673, 0.005014721099535463, 0.0003797935442293569, 0.0004949842004850776, 0.05921164257015583, 6.233110866680823e-05, 0.0002511869600571826, 0.0001736138238271084, 0.03634321597560504, 0.022153761434999912, 3.728802556495443e-05, 8.065849131403111e-05, 0.00015210872122958606, 0.0005755983704810131, 0.000397744821448891, 0.005066829427173493, 0.0, 0.0011989462898058013, 0.002325832764940646, 0.052476406080594465, 0.0005798279592462121, 0.027655481070884315, 3.9447252953992364e-05, 0.0, 4.0341584877945384e-05, 2.7702714963025883e-05, 0.0, 0.0, 0.0, 0.0, 0.0005220964259889159, 1.3851357481512941e-05, 0.00021341198276271416, 0.0002725696874202275, 0.0002008446834819376, 4.436309239146348e-05, 8.948243182467742e-06, 0.0004313638653548674, 1.6535015789562163e-05, 0.0033170953617529426, 0.00012014580895374627, 0.0004505080137134639, 0.0]}],\n",
       "                        {\"geo\": {\"projection\": {\"type\": \"mercator\"}, \"showframe\": false}, \"template\": {\"data\": {\"bar\": [{\"error_x\": {\"color\": \"#2a3f5f\"}, \"error_y\": {\"color\": \"#2a3f5f\"}, \"marker\": {\"line\": {\"color\": \"#E5ECF6\", \"width\": 0.5}}, \"type\": \"bar\"}], \"barpolar\": [{\"marker\": {\"line\": {\"color\": \"#E5ECF6\", \"width\": 0.5}}, \"type\": \"barpolar\"}], \"carpet\": [{\"aaxis\": {\"endlinecolor\": \"#2a3f5f\", \"gridcolor\": \"white\", \"linecolor\": \"white\", \"minorgridcolor\": \"white\", \"startlinecolor\": \"#2a3f5f\"}, \"baxis\": {\"endlinecolor\": \"#2a3f5f\", \"gridcolor\": \"white\", \"linecolor\": \"white\", \"minorgridcolor\": \"white\", \"startlinecolor\": \"#2a3f5f\"}, \"type\": \"carpet\"}], \"choropleth\": [{\"colorbar\": {\"outlinewidth\": 0, \"ticks\": \"\"}, \"type\": \"choropleth\"}], \"contour\": [{\"colorbar\": {\"outlinewidth\": 0, \"ticks\": \"\"}, \"colorscale\": [[0.0, \"#0d0887\"], [0.1111111111111111, \"#46039f\"], [0.2222222222222222, \"#7201a8\"], [0.3333333333333333, \"#9c179e\"], [0.4444444444444444, \"#bd3786\"], [0.5555555555555556, \"#d8576b\"], [0.6666666666666666, \"#ed7953\"], [0.7777777777777778, \"#fb9f3a\"], [0.8888888888888888, \"#fdca26\"], [1.0, \"#f0f921\"]], \"type\": \"contour\"}], \"contourcarpet\": [{\"colorbar\": {\"outlinewidth\": 0, \"ticks\": \"\"}, \"type\": \"contourcarpet\"}], \"heatmap\": [{\"colorbar\": {\"outlinewidth\": 0, \"ticks\": \"\"}, \"colorscale\": [[0.0, \"#0d0887\"], [0.1111111111111111, \"#46039f\"], [0.2222222222222222, \"#7201a8\"], [0.3333333333333333, \"#9c179e\"], [0.4444444444444444, \"#bd3786\"], [0.5555555555555556, \"#d8576b\"], [0.6666666666666666, \"#ed7953\"], [0.7777777777777778, \"#fb9f3a\"], [0.8888888888888888, \"#fdca26\"], [1.0, \"#f0f921\"]], \"type\": \"heatmap\"}], \"heatmapgl\": [{\"colorbar\": {\"outlinewidth\": 0, \"ticks\": \"\"}, \"colorscale\": [[0.0, \"#0d0887\"], [0.1111111111111111, \"#46039f\"], [0.2222222222222222, \"#7201a8\"], [0.3333333333333333, \"#9c179e\"], [0.4444444444444444, \"#bd3786\"], [0.5555555555555556, \"#d8576b\"], [0.6666666666666666, \"#ed7953\"], [0.7777777777777778, \"#fb9f3a\"], [0.8888888888888888, \"#fdca26\"], [1.0, \"#f0f921\"]], \"type\": \"heatmapgl\"}], \"histogram\": [{\"marker\": {\"colorbar\": {\"outlinewidth\": 0, \"ticks\": \"\"}}, \"type\": \"histogram\"}], \"histogram2d\": [{\"colorbar\": {\"outlinewidth\": 0, \"ticks\": \"\"}, \"colorscale\": [[0.0, \"#0d0887\"], [0.1111111111111111, \"#46039f\"], [0.2222222222222222, \"#7201a8\"], [0.3333333333333333, \"#9c179e\"], [0.4444444444444444, \"#bd3786\"], [0.5555555555555556, \"#d8576b\"], [0.6666666666666666, \"#ed7953\"], [0.7777777777777778, \"#fb9f3a\"], [0.8888888888888888, \"#fdca26\"], [1.0, \"#f0f921\"]], \"type\": \"histogram2d\"}], \"histogram2dcontour\": [{\"colorbar\": {\"outlinewidth\": 0, \"ticks\": \"\"}, \"colorscale\": [[0.0, \"#0d0887\"], [0.1111111111111111, \"#46039f\"], [0.2222222222222222, \"#7201a8\"], [0.3333333333333333, \"#9c179e\"], [0.4444444444444444, \"#bd3786\"], [0.5555555555555556, \"#d8576b\"], [0.6666666666666666, \"#ed7953\"], [0.7777777777777778, \"#fb9f3a\"], [0.8888888888888888, \"#fdca26\"], [1.0, \"#f0f921\"]], \"type\": \"histogram2dcontour\"}], \"mesh3d\": [{\"colorbar\": {\"outlinewidth\": 0, \"ticks\": \"\"}, \"type\": \"mesh3d\"}], \"parcoords\": [{\"line\": {\"colorbar\": {\"outlinewidth\": 0, \"ticks\": \"\"}}, \"type\": \"parcoords\"}], \"pie\": [{\"automargin\": true, \"type\": \"pie\"}], \"scatter\": [{\"marker\": {\"colorbar\": {\"outlinewidth\": 0, \"ticks\": \"\"}}, \"type\": \"scatter\"}], \"scatter3d\": [{\"line\": {\"colorbar\": {\"outlinewidth\": 0, \"ticks\": \"\"}}, \"marker\": {\"colorbar\": {\"outlinewidth\": 0, \"ticks\": \"\"}}, \"type\": \"scatter3d\"}], \"scattercarpet\": [{\"marker\": {\"colorbar\": {\"outlinewidth\": 0, \"ticks\": \"\"}}, \"type\": \"scattercarpet\"}], \"scattergeo\": [{\"marker\": {\"colorbar\": {\"outlinewidth\": 0, \"ticks\": \"\"}}, \"type\": \"scattergeo\"}], \"scattergl\": [{\"marker\": {\"colorbar\": {\"outlinewidth\": 0, \"ticks\": \"\"}}, \"type\": \"scattergl\"}], \"scattermapbox\": [{\"marker\": {\"colorbar\": {\"outlinewidth\": 0, \"ticks\": \"\"}}, \"type\": \"scattermapbox\"}], \"scatterpolar\": [{\"marker\": {\"colorbar\": {\"outlinewidth\": 0, \"ticks\": \"\"}}, \"type\": \"scatterpolar\"}], \"scatterpolargl\": [{\"marker\": {\"colorbar\": {\"outlinewidth\": 0, \"ticks\": \"\"}}, \"type\": \"scatterpolargl\"}], \"scatterternary\": [{\"marker\": {\"colorbar\": {\"outlinewidth\": 0, \"ticks\": \"\"}}, \"type\": \"scatterternary\"}], \"surface\": [{\"colorbar\": {\"outlinewidth\": 0, \"ticks\": \"\"}, \"colorscale\": [[0.0, \"#0d0887\"], [0.1111111111111111, \"#46039f\"], [0.2222222222222222, \"#7201a8\"], [0.3333333333333333, \"#9c179e\"], [0.4444444444444444, \"#bd3786\"], [0.5555555555555556, \"#d8576b\"], [0.6666666666666666, \"#ed7953\"], [0.7777777777777778, \"#fb9f3a\"], [0.8888888888888888, \"#fdca26\"], [1.0, \"#f0f921\"]], \"type\": \"surface\"}], \"table\": [{\"cells\": {\"fill\": {\"color\": \"#EBF0F8\"}, \"line\": {\"color\": \"white\"}}, \"header\": {\"fill\": {\"color\": \"#C8D4E3\"}, \"line\": {\"color\": \"white\"}}, \"type\": \"table\"}]}, \"layout\": {\"annotationdefaults\": {\"arrowcolor\": \"#2a3f5f\", \"arrowhead\": 0, \"arrowwidth\": 1}, \"coloraxis\": {\"colorbar\": {\"outlinewidth\": 0, \"ticks\": \"\"}}, \"colorscale\": {\"diverging\": [[0, \"#8e0152\"], [0.1, \"#c51b7d\"], [0.2, \"#de77ae\"], [0.3, \"#f1b6da\"], [0.4, \"#fde0ef\"], [0.5, \"#f7f7f7\"], [0.6, \"#e6f5d0\"], [0.7, \"#b8e186\"], [0.8, \"#7fbc41\"], [0.9, \"#4d9221\"], [1, \"#276419\"]], \"sequential\": [[0.0, \"#0d0887\"], [0.1111111111111111, \"#46039f\"], [0.2222222222222222, \"#7201a8\"], [0.3333333333333333, \"#9c179e\"], [0.4444444444444444, \"#bd3786\"], [0.5555555555555556, \"#d8576b\"], [0.6666666666666666, \"#ed7953\"], [0.7777777777777778, \"#fb9f3a\"], [0.8888888888888888, \"#fdca26\"], [1.0, \"#f0f921\"]], \"sequentialminus\": [[0.0, \"#0d0887\"], [0.1111111111111111, \"#46039f\"], [0.2222222222222222, \"#7201a8\"], [0.3333333333333333, \"#9c179e\"], [0.4444444444444444, \"#bd3786\"], [0.5555555555555556, \"#d8576b\"], [0.6666666666666666, \"#ed7953\"], [0.7777777777777778, \"#fb9f3a\"], [0.8888888888888888, \"#fdca26\"], [1.0, \"#f0f921\"]]}, \"colorway\": [\"#636efa\", \"#EF553B\", \"#00cc96\", \"#ab63fa\", \"#FFA15A\", \"#19d3f3\", \"#FF6692\", \"#B6E880\", \"#FF97FF\", \"#FECB52\"], \"font\": {\"color\": \"#2a3f5f\"}, \"geo\": {\"bgcolor\": \"white\", \"lakecolor\": \"white\", \"landcolor\": \"#E5ECF6\", \"showlakes\": true, \"showland\": true, \"subunitcolor\": \"white\"}, \"hoverlabel\": {\"align\": \"left\"}, \"hovermode\": \"closest\", \"mapbox\": {\"style\": \"light\"}, \"paper_bgcolor\": \"white\", \"plot_bgcolor\": \"#E5ECF6\", \"polar\": {\"angularaxis\": {\"gridcolor\": \"white\", \"linecolor\": \"white\", \"ticks\": \"\"}, \"bgcolor\": \"#E5ECF6\", \"radialaxis\": {\"gridcolor\": \"white\", \"linecolor\": \"white\", \"ticks\": \"\"}}, \"scene\": {\"xaxis\": {\"backgroundcolor\": \"#E5ECF6\", \"gridcolor\": \"white\", \"gridwidth\": 2, \"linecolor\": \"white\", \"showbackground\": true, \"ticks\": \"\", \"zerolinecolor\": \"white\"}, \"yaxis\": {\"backgroundcolor\": \"#E5ECF6\", \"gridcolor\": \"white\", \"gridwidth\": 2, \"linecolor\": \"white\", \"showbackground\": true, \"ticks\": \"\", \"zerolinecolor\": \"white\"}, \"zaxis\": {\"backgroundcolor\": \"#E5ECF6\", \"gridcolor\": \"white\", \"gridwidth\": 2, \"linecolor\": \"white\", \"showbackground\": true, \"ticks\": \"\", \"zerolinecolor\": \"white\"}}, \"shapedefaults\": {\"line\": {\"color\": \"#2a3f5f\"}}, \"ternary\": {\"aaxis\": {\"gridcolor\": \"white\", \"linecolor\": \"white\", \"ticks\": \"\"}, \"baxis\": {\"gridcolor\": \"white\", \"linecolor\": \"white\", \"ticks\": \"\"}, \"bgcolor\": \"#E5ECF6\", \"caxis\": {\"gridcolor\": \"white\", \"linecolor\": \"white\", \"ticks\": \"\"}}, \"title\": {\"x\": 0.05}, \"xaxis\": {\"automargin\": true, \"gridcolor\": \"white\", \"linecolor\": \"white\", \"ticks\": \"\", \"title\": {\"standoff\": 15}, \"zerolinecolor\": \"white\", \"zerolinewidth\": 2}, \"yaxis\": {\"automargin\": true, \"gridcolor\": \"white\", \"linecolor\": \"white\", \"ticks\": \"\", \"title\": {\"standoff\": 15}, \"zerolinecolor\": \"white\", \"zerolinewidth\": 2}}}, \"title\": {\"text\": \"\\u0423\\u043c\\u0435\\u0440\\u0448\\u0438\\u0435 \\u043f\\u043e \\u043e\\u0442\\u043d\\u043e\\u0448\\u0435\\u043d\\u0438\\u044e \\u043a \\u043d\\u0430\\u0441\\u0435\\u043b\\u0435\\u043d\\u0438\\u044e(%)\"}},\n",
       "                        {\"responsive\": true}\n",
       "                    ).then(function(){\n",
       "                            \n",
       "var gd = document.getElementById('e34a5ecd-c09b-4530-a08b-bff1bc43b490');\n",
       "var x = new MutationObserver(function (mutations, observer) {{\n",
       "        var display = window.getComputedStyle(gd).display;\n",
       "        if (!display || display === 'none') {{\n",
       "            console.log([gd, 'removed!']);\n",
       "            Plotly.purge(gd);\n",
       "            observer.disconnect();\n",
       "        }}\n",
       "}});\n",
       "\n",
       "// Listen for the removal of the full notebook cells\n",
       "var notebookContainer = gd.closest('#notebook-container');\n",
       "if (notebookContainer) {{\n",
       "    x.observe(notebookContainer, {childList: true});\n",
       "}}\n",
       "\n",
       "// Listen for the clearing of the current output cell\n",
       "var outputEl = gd.closest('.output');\n",
       "if (outputEl) {{\n",
       "    x.observe(outputEl, {childList: true});\n",
       "}}\n",
       "\n",
       "                        })\n",
       "                };\n",
       "                });\n",
       "            </script>\n",
       "        </div>"
      ]
     },
     "metadata": {},
     "output_type": "display_data"
    }
   ],
   "source": [
    "data = dict(type = 'choropleth', \n",
    "           locations = df_cl['country'],\n",
    "           locationmode = 'country names',\n",
    "           z = df_cl['dead_to_pop'], \n",
    "           text = df_cl['country'],\n",
    "           colorbar = {'title':'Умершие'})\n",
    "layout = dict(title = 'Умершие по отношению к населению(%)', \n",
    "             geo = dict(showframe = False, \n",
    "                       projection = {'type': 'mercator'}))\n",
    "choromap3 = go.Figure(data = [data], layout=layout)\n",
    "iplot(choromap3)"
   ]
  },
  {
   "cell_type": "code",
   "execution_count": 440,
   "metadata": {},
   "outputs": [
    {
     "data": {
      "application/vnd.plotly.v1+json": {
       "config": {
        "linkText": "Export to plot.ly",
        "plotlyServerURL": "https://plot.ly",
        "showLink": false
       },
       "data": [
        {
         "colorbar": {
          "title": {
           "text": "ВВП(млрд. долларов)"
          }
         },
         "locationmode": "country names",
         "locations": [
          "Afghanistan",
          "Albania",
          "Algeria",
          "Andorra",
          "Angola",
          "Antigua and Barbuda",
          "Argentina",
          "Armenia",
          "Australia",
          "Austria",
          "Azerbaijan",
          "Bahrain",
          "Bangladesh",
          "Barbados",
          "Belarus",
          "Belgium",
          "Benin",
          "Bhutan",
          "Bolivia",
          "Bosnia and Herzegovina",
          "Brazil",
          "Brunei",
          "Bulgaria",
          "Burkina Faso",
          "Cabo Verde",
          "Cambodia",
          "Cameroon",
          "Canada",
          "Central African Republic",
          "Chad",
          "Chile",
          "China",
          "Colombia",
          "Costa Rica",
          "Cote d'Ivoire",
          "Croatia",
          "Cyprus",
          "Denmark",
          "Dominican Republic",
          "Ecuador",
          "El Salvador",
          "Equatorial Guinea",
          "Estonia",
          "Ethiopia",
          "Fiji",
          "Finland",
          "France",
          "Gabon",
          "Georgia",
          "Germany",
          "Ghana",
          "Greece",
          "Guatemala",
          "Guinea",
          "Guyana",
          "Haiti",
          "Honduras",
          "Hungary",
          "Iceland",
          "India",
          "Indonesia",
          "Iraq",
          "Ireland",
          "Israel",
          "Italy",
          "Jamaica",
          "Japan",
          "Jordan",
          "Kazakhstan",
          "Kenya",
          "Kuwait",
          "Kyrgyzstan",
          "Latvia",
          "Lebanon",
          "Liberia",
          "Lithuania",
          "Luxembourg",
          "Madagascar",
          "Malaysia",
          "Maldives",
          "Malta",
          "Mauritania",
          "Mauritius",
          "Mexico",
          "Moldova",
          "Mongolia",
          "Montenegro",
          "Morocco",
          "Namibia",
          "Nepal",
          "Netherlands",
          "New Zealand",
          "Nicaragua",
          "Niger",
          "Nigeria",
          "Norway",
          "Oman",
          "Pakistan",
          "Panama",
          "Papua New Guinea",
          "Paraguay",
          "Peru",
          "Philippines",
          "Poland",
          "Portugal",
          "Qatar",
          "Romania",
          "Russia",
          "Rwanda",
          "Saint Vincent and the Grenadines",
          "San Marino",
          "Saudi Arabia",
          "Senegal",
          "Serbia",
          "Seychelles",
          "Singapore",
          "Slovenia",
          "Somalia",
          "South Africa",
          "Spain",
          "Sri Lanka",
          "Sudan",
          "Suriname",
          "Sweden",
          "Switzerland",
          "Tanzania",
          "Thailand",
          "Togo",
          "Trinidad and Tobago",
          "Tunisia",
          "Turkey",
          "Uganda",
          "Ukraine",
          "United Arab Emirates",
          "United Kingdom",
          "Uruguay",
          "United States",
          "Uzbekistan",
          "Vietnam",
          "Zambia",
          "Zimbabwe",
          "Dominica",
          "Grenada",
          "Mozambique",
          "Timor-Leste",
          "Belize",
          "West Bank and Gaza",
          "Guinea-Bissau",
          "Mali",
          "Kosovo",
          "Botswana",
          "Burundi",
          "Sierra Leone",
          "Malawi",
          "Sao Tome and Principe",
          "Comoros",
          "Tajikistan",
          "Lesotho"
         ],
         "text": [
          "Afghanistan",
          "Albania",
          "Algeria",
          "Andorra",
          "Angola",
          "Antigua and Barbuda",
          "Argentina",
          "Armenia",
          "Australia",
          "Austria",
          "Azerbaijan",
          "Bahrain",
          "Bangladesh",
          "Barbados",
          "Belarus",
          "Belgium",
          "Benin",
          "Bhutan",
          "Bolivia",
          "Bosnia and Herzegovina",
          "Brazil",
          "Brunei",
          "Bulgaria",
          "Burkina Faso",
          "Cabo Verde",
          "Cambodia",
          "Cameroon",
          "Canada",
          "Central African Republic",
          "Chad",
          "Chile",
          "China",
          "Colombia",
          "Costa Rica",
          "Cote d'Ivoire",
          "Croatia",
          "Cyprus",
          "Denmark",
          "Dominican Republic",
          "Ecuador",
          "El Salvador",
          "Equatorial Guinea",
          "Estonia",
          "Ethiopia",
          "Fiji",
          "Finland",
          "France",
          "Gabon",
          "Georgia",
          "Germany",
          "Ghana",
          "Greece",
          "Guatemala",
          "Guinea",
          "Guyana",
          "Haiti",
          "Honduras",
          "Hungary",
          "Iceland",
          "India",
          "Indonesia",
          "Iraq",
          "Ireland",
          "Israel",
          "Italy",
          "Jamaica",
          "Japan",
          "Jordan",
          "Kazakhstan",
          "Kenya",
          "Kuwait",
          "Kyrgyzstan",
          "Latvia",
          "Lebanon",
          "Liberia",
          "Lithuania",
          "Luxembourg",
          "Madagascar",
          "Malaysia",
          "Maldives",
          "Malta",
          "Mauritania",
          "Mauritius",
          "Mexico",
          "Moldova",
          "Mongolia",
          "Montenegro",
          "Morocco",
          "Namibia",
          "Nepal",
          "Netherlands",
          "New Zealand",
          "Nicaragua",
          "Niger",
          "Nigeria",
          "Norway",
          "Oman",
          "Pakistan",
          "Panama",
          "Papua New Guinea",
          "Paraguay",
          "Peru",
          "Philippines",
          "Poland",
          "Portugal",
          "Qatar",
          "Romania",
          "Russia",
          "Rwanda",
          "Saint Vincent and the Grenadines",
          "San Marino",
          "Saudi Arabia",
          "Senegal",
          "Serbia",
          "Seychelles",
          "Singapore",
          "Slovenia",
          "Somalia",
          "South Africa",
          "Spain",
          "Sri Lanka",
          "Sudan",
          "Suriname",
          "Sweden",
          "Switzerland",
          "Tanzania",
          "Thailand",
          "Togo",
          "Trinidad and Tobago",
          "Tunisia",
          "Turkey",
          "Uganda",
          "Ukraine",
          "United Arab Emirates",
          "United Kingdom",
          "Uruguay",
          "United States",
          "Uzbekistan",
          "Vietnam",
          "Zambia",
          "Zimbabwe",
          "Dominica",
          "Grenada",
          "Mozambique",
          "Timor-Leste",
          "Belize",
          "West Bank and Gaza",
          "Guinea-Bissau",
          "Mali",
          "Kosovo",
          "Botswana",
          "Burundi",
          "Sierra Leone",
          "Malawi",
          "Sao Tome and Principe",
          "Comoros",
          "Tajikistan",
          "Lesotho"
         ],
         "type": "choropleth",
         "z": [
          19.469022208,
          11.863865978,
          159.049096745,
          2.858517699,
          95.335111741,
          1.460144704,
          545.476103427,
          10.572298342,
          1204.616439828,
          390.799991147,
          37.847715736,
          32.179069149,
          221.415162446,
          4.52905,
          47.407217531,
          467.955709818,
          8.583031398,
          2.21263883,
          33.806395514,
          16.910277134,
          1796.186586414,
          11.400653732,
          53.237882473,
          11.693235542,
          1.617467436,
          20.016747754,
          32.21749747,
          1529.760492201,
          1.756124677,
          9.600761474,
          247.027912574,
          11199.145157649,
          282.462551367,
          57.435507212,
          36.372613023,
          50.714957391,
          20.047013274,
          306.89965341,
          71.583553488,
          98.613972,
          26.79747,
          10.684804794,
          23.337907619,
          72.374224249,
          4.703632978,
          238.502900312,
          2465.453975282,
          14.21355813,
          14.378016729,
          3477.796274497,
          42.689783734,
          192.690813127,
          68.763255964,
          8.200248003,
          3.502397094,
          8.022638722,
          21.51693891,
          125.816640421,
          20.047413006,
          2263.792499341,
          932.259177765,
          171.489001692,
          304.819020501,
          317.744784695,
          1858.913163928,
          14.056908749,
          4940.158776617,
          38.654727746,
          137.278320084,
          70.529014778,
          110.875579087,
          6.551287938,
          27.572698482,
          49.598825982,
          2.101,
          42.738875963,
          58.631324559,
          10.00119342,
          296.535930381,
          4.224209599,
          10.99904758,
          4.73929873,
          12.168437744,
          1046.922702461,
          6.749515655,
          11.183458131,
          4.374127212,
          103.606321693,
          10.94788069,
          21.131983246,
          777.227541581,
          184.969146624,
          13.230844687,
          7.528387858,
          404.652720165,
          371.076190476,
          66.29336801,
          278.913371202,
          55.1877,
          20.213214172,
          27.424071383,
          192.207342005,
          304.905406845,
          471.364408714,
          204.836597909,
          152.451923077,
          187.59203784,
          1283.162985989,
          8.376048905,
          0.768224227,
          1.590707965,
          646.43838056,
          14.683697631,
          38.299854688,
          1.427323889,
          296.97567861,
          44.708598649,
          6.217,
          295.456189492,
          1237.255019654,
          81.321876307,
          95.584380032,
          3.278425328,
          514.459972806,
          668.851296244,
          47.340071107,
          407.02612731,
          4.399995987,
          21.894706041,
          42.062549395,
          863.711710427,
          24.078931933,
          93.270479389,
          348.743265705,
          2647.898654635,
          52.419720714,
          18624.475,
          67.22033557,
          205.276172135,
          21.063989683,
          16.619960402,
          0.581484032,
          1.056188593,
          11.014858592,
          1.782974,
          1.7411,
          13.3971,
          1.16494451,
          14.034980334,
          6.649888889,
          15.581137274,
          3.00702903,
          3.736588554,
          5.433038647,
          0.342781716,
          0.61665449,
          6.951657159,
          2.291321667
         ]
        }
       ],
       "layout": {
        "geo": {
         "projection": {
          "type": "mercator"
         },
         "showframe": false
        },
        "template": {
         "data": {
          "bar": [
           {
            "error_x": {
             "color": "#2a3f5f"
            },
            "error_y": {
             "color": "#2a3f5f"
            },
            "marker": {
             "line": {
              "color": "#E5ECF6",
              "width": 0.5
             }
            },
            "type": "bar"
           }
          ],
          "barpolar": [
           {
            "marker": {
             "line": {
              "color": "#E5ECF6",
              "width": 0.5
             }
            },
            "type": "barpolar"
           }
          ],
          "carpet": [
           {
            "aaxis": {
             "endlinecolor": "#2a3f5f",
             "gridcolor": "white",
             "linecolor": "white",
             "minorgridcolor": "white",
             "startlinecolor": "#2a3f5f"
            },
            "baxis": {
             "endlinecolor": "#2a3f5f",
             "gridcolor": "white",
             "linecolor": "white",
             "minorgridcolor": "white",
             "startlinecolor": "#2a3f5f"
            },
            "type": "carpet"
           }
          ],
          "choropleth": [
           {
            "colorbar": {
             "outlinewidth": 0,
             "ticks": ""
            },
            "type": "choropleth"
           }
          ],
          "contour": [
           {
            "colorbar": {
             "outlinewidth": 0,
             "ticks": ""
            },
            "colorscale": [
             [
              0,
              "#0d0887"
             ],
             [
              0.1111111111111111,
              "#46039f"
             ],
             [
              0.2222222222222222,
              "#7201a8"
             ],
             [
              0.3333333333333333,
              "#9c179e"
             ],
             [
              0.4444444444444444,
              "#bd3786"
             ],
             [
              0.5555555555555556,
              "#d8576b"
             ],
             [
              0.6666666666666666,
              "#ed7953"
             ],
             [
              0.7777777777777778,
              "#fb9f3a"
             ],
             [
              0.8888888888888888,
              "#fdca26"
             ],
             [
              1,
              "#f0f921"
             ]
            ],
            "type": "contour"
           }
          ],
          "contourcarpet": [
           {
            "colorbar": {
             "outlinewidth": 0,
             "ticks": ""
            },
            "type": "contourcarpet"
           }
          ],
          "heatmap": [
           {
            "colorbar": {
             "outlinewidth": 0,
             "ticks": ""
            },
            "colorscale": [
             [
              0,
              "#0d0887"
             ],
             [
              0.1111111111111111,
              "#46039f"
             ],
             [
              0.2222222222222222,
              "#7201a8"
             ],
             [
              0.3333333333333333,
              "#9c179e"
             ],
             [
              0.4444444444444444,
              "#bd3786"
             ],
             [
              0.5555555555555556,
              "#d8576b"
             ],
             [
              0.6666666666666666,
              "#ed7953"
             ],
             [
              0.7777777777777778,
              "#fb9f3a"
             ],
             [
              0.8888888888888888,
              "#fdca26"
             ],
             [
              1,
              "#f0f921"
             ]
            ],
            "type": "heatmap"
           }
          ],
          "heatmapgl": [
           {
            "colorbar": {
             "outlinewidth": 0,
             "ticks": ""
            },
            "colorscale": [
             [
              0,
              "#0d0887"
             ],
             [
              0.1111111111111111,
              "#46039f"
             ],
             [
              0.2222222222222222,
              "#7201a8"
             ],
             [
              0.3333333333333333,
              "#9c179e"
             ],
             [
              0.4444444444444444,
              "#bd3786"
             ],
             [
              0.5555555555555556,
              "#d8576b"
             ],
             [
              0.6666666666666666,
              "#ed7953"
             ],
             [
              0.7777777777777778,
              "#fb9f3a"
             ],
             [
              0.8888888888888888,
              "#fdca26"
             ],
             [
              1,
              "#f0f921"
             ]
            ],
            "type": "heatmapgl"
           }
          ],
          "histogram": [
           {
            "marker": {
             "colorbar": {
              "outlinewidth": 0,
              "ticks": ""
             }
            },
            "type": "histogram"
           }
          ],
          "histogram2d": [
           {
            "colorbar": {
             "outlinewidth": 0,
             "ticks": ""
            },
            "colorscale": [
             [
              0,
              "#0d0887"
             ],
             [
              0.1111111111111111,
              "#46039f"
             ],
             [
              0.2222222222222222,
              "#7201a8"
             ],
             [
              0.3333333333333333,
              "#9c179e"
             ],
             [
              0.4444444444444444,
              "#bd3786"
             ],
             [
              0.5555555555555556,
              "#d8576b"
             ],
             [
              0.6666666666666666,
              "#ed7953"
             ],
             [
              0.7777777777777778,
              "#fb9f3a"
             ],
             [
              0.8888888888888888,
              "#fdca26"
             ],
             [
              1,
              "#f0f921"
             ]
            ],
            "type": "histogram2d"
           }
          ],
          "histogram2dcontour": [
           {
            "colorbar": {
             "outlinewidth": 0,
             "ticks": ""
            },
            "colorscale": [
             [
              0,
              "#0d0887"
             ],
             [
              0.1111111111111111,
              "#46039f"
             ],
             [
              0.2222222222222222,
              "#7201a8"
             ],
             [
              0.3333333333333333,
              "#9c179e"
             ],
             [
              0.4444444444444444,
              "#bd3786"
             ],
             [
              0.5555555555555556,
              "#d8576b"
             ],
             [
              0.6666666666666666,
              "#ed7953"
             ],
             [
              0.7777777777777778,
              "#fb9f3a"
             ],
             [
              0.8888888888888888,
              "#fdca26"
             ],
             [
              1,
              "#f0f921"
             ]
            ],
            "type": "histogram2dcontour"
           }
          ],
          "mesh3d": [
           {
            "colorbar": {
             "outlinewidth": 0,
             "ticks": ""
            },
            "type": "mesh3d"
           }
          ],
          "parcoords": [
           {
            "line": {
             "colorbar": {
              "outlinewidth": 0,
              "ticks": ""
             }
            },
            "type": "parcoords"
           }
          ],
          "pie": [
           {
            "automargin": true,
            "type": "pie"
           }
          ],
          "scatter": [
           {
            "marker": {
             "colorbar": {
              "outlinewidth": 0,
              "ticks": ""
             }
            },
            "type": "scatter"
           }
          ],
          "scatter3d": [
           {
            "line": {
             "colorbar": {
              "outlinewidth": 0,
              "ticks": ""
             }
            },
            "marker": {
             "colorbar": {
              "outlinewidth": 0,
              "ticks": ""
             }
            },
            "type": "scatter3d"
           }
          ],
          "scattercarpet": [
           {
            "marker": {
             "colorbar": {
              "outlinewidth": 0,
              "ticks": ""
             }
            },
            "type": "scattercarpet"
           }
          ],
          "scattergeo": [
           {
            "marker": {
             "colorbar": {
              "outlinewidth": 0,
              "ticks": ""
             }
            },
            "type": "scattergeo"
           }
          ],
          "scattergl": [
           {
            "marker": {
             "colorbar": {
              "outlinewidth": 0,
              "ticks": ""
             }
            },
            "type": "scattergl"
           }
          ],
          "scattermapbox": [
           {
            "marker": {
             "colorbar": {
              "outlinewidth": 0,
              "ticks": ""
             }
            },
            "type": "scattermapbox"
           }
          ],
          "scatterpolar": [
           {
            "marker": {
             "colorbar": {
              "outlinewidth": 0,
              "ticks": ""
             }
            },
            "type": "scatterpolar"
           }
          ],
          "scatterpolargl": [
           {
            "marker": {
             "colorbar": {
              "outlinewidth": 0,
              "ticks": ""
             }
            },
            "type": "scatterpolargl"
           }
          ],
          "scatterternary": [
           {
            "marker": {
             "colorbar": {
              "outlinewidth": 0,
              "ticks": ""
             }
            },
            "type": "scatterternary"
           }
          ],
          "surface": [
           {
            "colorbar": {
             "outlinewidth": 0,
             "ticks": ""
            },
            "colorscale": [
             [
              0,
              "#0d0887"
             ],
             [
              0.1111111111111111,
              "#46039f"
             ],
             [
              0.2222222222222222,
              "#7201a8"
             ],
             [
              0.3333333333333333,
              "#9c179e"
             ],
             [
              0.4444444444444444,
              "#bd3786"
             ],
             [
              0.5555555555555556,
              "#d8576b"
             ],
             [
              0.6666666666666666,
              "#ed7953"
             ],
             [
              0.7777777777777778,
              "#fb9f3a"
             ],
             [
              0.8888888888888888,
              "#fdca26"
             ],
             [
              1,
              "#f0f921"
             ]
            ],
            "type": "surface"
           }
          ],
          "table": [
           {
            "cells": {
             "fill": {
              "color": "#EBF0F8"
             },
             "line": {
              "color": "white"
             }
            },
            "header": {
             "fill": {
              "color": "#C8D4E3"
             },
             "line": {
              "color": "white"
             }
            },
            "type": "table"
           }
          ]
         },
         "layout": {
          "annotationdefaults": {
           "arrowcolor": "#2a3f5f",
           "arrowhead": 0,
           "arrowwidth": 1
          },
          "coloraxis": {
           "colorbar": {
            "outlinewidth": 0,
            "ticks": ""
           }
          },
          "colorscale": {
           "diverging": [
            [
             0,
             "#8e0152"
            ],
            [
             0.1,
             "#c51b7d"
            ],
            [
             0.2,
             "#de77ae"
            ],
            [
             0.3,
             "#f1b6da"
            ],
            [
             0.4,
             "#fde0ef"
            ],
            [
             0.5,
             "#f7f7f7"
            ],
            [
             0.6,
             "#e6f5d0"
            ],
            [
             0.7,
             "#b8e186"
            ],
            [
             0.8,
             "#7fbc41"
            ],
            [
             0.9,
             "#4d9221"
            ],
            [
             1,
             "#276419"
            ]
           ],
           "sequential": [
            [
             0,
             "#0d0887"
            ],
            [
             0.1111111111111111,
             "#46039f"
            ],
            [
             0.2222222222222222,
             "#7201a8"
            ],
            [
             0.3333333333333333,
             "#9c179e"
            ],
            [
             0.4444444444444444,
             "#bd3786"
            ],
            [
             0.5555555555555556,
             "#d8576b"
            ],
            [
             0.6666666666666666,
             "#ed7953"
            ],
            [
             0.7777777777777778,
             "#fb9f3a"
            ],
            [
             0.8888888888888888,
             "#fdca26"
            ],
            [
             1,
             "#f0f921"
            ]
           ],
           "sequentialminus": [
            [
             0,
             "#0d0887"
            ],
            [
             0.1111111111111111,
             "#46039f"
            ],
            [
             0.2222222222222222,
             "#7201a8"
            ],
            [
             0.3333333333333333,
             "#9c179e"
            ],
            [
             0.4444444444444444,
             "#bd3786"
            ],
            [
             0.5555555555555556,
             "#d8576b"
            ],
            [
             0.6666666666666666,
             "#ed7953"
            ],
            [
             0.7777777777777778,
             "#fb9f3a"
            ],
            [
             0.8888888888888888,
             "#fdca26"
            ],
            [
             1,
             "#f0f921"
            ]
           ]
          },
          "colorway": [
           "#636efa",
           "#EF553B",
           "#00cc96",
           "#ab63fa",
           "#FFA15A",
           "#19d3f3",
           "#FF6692",
           "#B6E880",
           "#FF97FF",
           "#FECB52"
          ],
          "font": {
           "color": "#2a3f5f"
          },
          "geo": {
           "bgcolor": "white",
           "lakecolor": "white",
           "landcolor": "#E5ECF6",
           "showlakes": true,
           "showland": true,
           "subunitcolor": "white"
          },
          "hoverlabel": {
           "align": "left"
          },
          "hovermode": "closest",
          "mapbox": {
           "style": "light"
          },
          "paper_bgcolor": "white",
          "plot_bgcolor": "#E5ECF6",
          "polar": {
           "angularaxis": {
            "gridcolor": "white",
            "linecolor": "white",
            "ticks": ""
           },
           "bgcolor": "#E5ECF6",
           "radialaxis": {
            "gridcolor": "white",
            "linecolor": "white",
            "ticks": ""
           }
          },
          "scene": {
           "xaxis": {
            "backgroundcolor": "#E5ECF6",
            "gridcolor": "white",
            "gridwidth": 2,
            "linecolor": "white",
            "showbackground": true,
            "ticks": "",
            "zerolinecolor": "white"
           },
           "yaxis": {
            "backgroundcolor": "#E5ECF6",
            "gridcolor": "white",
            "gridwidth": 2,
            "linecolor": "white",
            "showbackground": true,
            "ticks": "",
            "zerolinecolor": "white"
           },
           "zaxis": {
            "backgroundcolor": "#E5ECF6",
            "gridcolor": "white",
            "gridwidth": 2,
            "linecolor": "white",
            "showbackground": true,
            "ticks": "",
            "zerolinecolor": "white"
           }
          },
          "shapedefaults": {
           "line": {
            "color": "#2a3f5f"
           }
          },
          "ternary": {
           "aaxis": {
            "gridcolor": "white",
            "linecolor": "white",
            "ticks": ""
           },
           "baxis": {
            "gridcolor": "white",
            "linecolor": "white",
            "ticks": ""
           },
           "bgcolor": "#E5ECF6",
           "caxis": {
            "gridcolor": "white",
            "linecolor": "white",
            "ticks": ""
           }
          },
          "title": {
           "x": 0.05
          },
          "xaxis": {
           "automargin": true,
           "gridcolor": "white",
           "linecolor": "white",
           "ticks": "",
           "title": {
            "standoff": 15
           },
           "zerolinecolor": "white",
           "zerolinewidth": 2
          },
          "yaxis": {
           "automargin": true,
           "gridcolor": "white",
           "linecolor": "white",
           "ticks": "",
           "title": {
            "standoff": 15
           },
           "zerolinecolor": "white",
           "zerolinewidth": 2
          }
         }
        },
        "title": {
         "text": "ВВП в млрд. долларов США"
        }
       }
      },
      "text/html": [
       "<div>\n",
       "        \n",
       "        \n",
       "            <div id=\"b1874399-c25b-4605-8732-d929abb51acf\" class=\"plotly-graph-div\" style=\"height:525px; width:100%;\"></div>\n",
       "            <script type=\"text/javascript\">\n",
       "                require([\"plotly\"], function(Plotly) {\n",
       "                    window.PLOTLYENV=window.PLOTLYENV || {};\n",
       "                    \n",
       "                if (document.getElementById(\"b1874399-c25b-4605-8732-d929abb51acf\")) {\n",
       "                    Plotly.newPlot(\n",
       "                        'b1874399-c25b-4605-8732-d929abb51acf',\n",
       "                        [{\"colorbar\": {\"title\": {\"text\": \"\\u0412\\u0412\\u041f(\\u043c\\u043b\\u0440\\u0434. \\u0434\\u043e\\u043b\\u043b\\u0430\\u0440\\u043e\\u0432)\"}}, \"locationmode\": \"country names\", \"locations\": [\"Afghanistan\", \"Albania\", \"Algeria\", \"Andorra\", \"Angola\", \"Antigua and Barbuda\", \"Argentina\", \"Armenia\", \"Australia\", \"Austria\", \"Azerbaijan\", \"Bahrain\", \"Bangladesh\", \"Barbados\", \"Belarus\", \"Belgium\", \"Benin\", \"Bhutan\", \"Bolivia\", \"Bosnia and Herzegovina\", \"Brazil\", \"Brunei\", \"Bulgaria\", \"Burkina Faso\", \"Cabo Verde\", \"Cambodia\", \"Cameroon\", \"Canada\", \"Central African Republic\", \"Chad\", \"Chile\", \"China\", \"Colombia\", \"Costa Rica\", \"Cote d'Ivoire\", \"Croatia\", \"Cyprus\", \"Denmark\", \"Dominican Republic\", \"Ecuador\", \"El Salvador\", \"Equatorial Guinea\", \"Estonia\", \"Ethiopia\", \"Fiji\", \"Finland\", \"France\", \"Gabon\", \"Georgia\", \"Germany\", \"Ghana\", \"Greece\", \"Guatemala\", \"Guinea\", \"Guyana\", \"Haiti\", \"Honduras\", \"Hungary\", \"Iceland\", \"India\", \"Indonesia\", \"Iraq\", \"Ireland\", \"Israel\", \"Italy\", \"Jamaica\", \"Japan\", \"Jordan\", \"Kazakhstan\", \"Kenya\", \"Kuwait\", \"Kyrgyzstan\", \"Latvia\", \"Lebanon\", \"Liberia\", \"Lithuania\", \"Luxembourg\", \"Madagascar\", \"Malaysia\", \"Maldives\", \"Malta\", \"Mauritania\", \"Mauritius\", \"Mexico\", \"Moldova\", \"Mongolia\", \"Montenegro\", \"Morocco\", \"Namibia\", \"Nepal\", \"Netherlands\", \"New Zealand\", \"Nicaragua\", \"Niger\", \"Nigeria\", \"Norway\", \"Oman\", \"Pakistan\", \"Panama\", \"Papua New Guinea\", \"Paraguay\", \"Peru\", \"Philippines\", \"Poland\", \"Portugal\", \"Qatar\", \"Romania\", \"Russia\", \"Rwanda\", \"Saint Vincent and the Grenadines\", \"San Marino\", \"Saudi Arabia\", \"Senegal\", \"Serbia\", \"Seychelles\", \"Singapore\", \"Slovenia\", \"Somalia\", \"South Africa\", \"Spain\", \"Sri Lanka\", \"Sudan\", \"Suriname\", \"Sweden\", \"Switzerland\", \"Tanzania\", \"Thailand\", \"Togo\", \"Trinidad and Tobago\", \"Tunisia\", \"Turkey\", \"Uganda\", \"Ukraine\", \"United Arab Emirates\", \"United Kingdom\", \"Uruguay\", \"United States\", \"Uzbekistan\", \"Vietnam\", \"Zambia\", \"Zimbabwe\", \"Dominica\", \"Grenada\", \"Mozambique\", \"Timor-Leste\", \"Belize\", \"West Bank and Gaza\", \"Guinea-Bissau\", \"Mali\", \"Kosovo\", \"Botswana\", \"Burundi\", \"Sierra Leone\", \"Malawi\", \"Sao Tome and Principe\", \"Comoros\", \"Tajikistan\", \"Lesotho\"], \"text\": [\"Afghanistan\", \"Albania\", \"Algeria\", \"Andorra\", \"Angola\", \"Antigua and Barbuda\", \"Argentina\", \"Armenia\", \"Australia\", \"Austria\", \"Azerbaijan\", \"Bahrain\", \"Bangladesh\", \"Barbados\", \"Belarus\", \"Belgium\", \"Benin\", \"Bhutan\", \"Bolivia\", \"Bosnia and Herzegovina\", \"Brazil\", \"Brunei\", \"Bulgaria\", \"Burkina Faso\", \"Cabo Verde\", \"Cambodia\", \"Cameroon\", \"Canada\", \"Central African Republic\", \"Chad\", \"Chile\", \"China\", \"Colombia\", \"Costa Rica\", \"Cote d'Ivoire\", \"Croatia\", \"Cyprus\", \"Denmark\", \"Dominican Republic\", \"Ecuador\", \"El Salvador\", \"Equatorial Guinea\", \"Estonia\", \"Ethiopia\", \"Fiji\", \"Finland\", \"France\", \"Gabon\", \"Georgia\", \"Germany\", \"Ghana\", \"Greece\", \"Guatemala\", \"Guinea\", \"Guyana\", \"Haiti\", \"Honduras\", \"Hungary\", \"Iceland\", \"India\", \"Indonesia\", \"Iraq\", \"Ireland\", \"Israel\", \"Italy\", \"Jamaica\", \"Japan\", \"Jordan\", \"Kazakhstan\", \"Kenya\", \"Kuwait\", \"Kyrgyzstan\", \"Latvia\", \"Lebanon\", \"Liberia\", \"Lithuania\", \"Luxembourg\", \"Madagascar\", \"Malaysia\", \"Maldives\", \"Malta\", \"Mauritania\", \"Mauritius\", \"Mexico\", \"Moldova\", \"Mongolia\", \"Montenegro\", \"Morocco\", \"Namibia\", \"Nepal\", \"Netherlands\", \"New Zealand\", \"Nicaragua\", \"Niger\", \"Nigeria\", \"Norway\", \"Oman\", \"Pakistan\", \"Panama\", \"Papua New Guinea\", \"Paraguay\", \"Peru\", \"Philippines\", \"Poland\", \"Portugal\", \"Qatar\", \"Romania\", \"Russia\", \"Rwanda\", \"Saint Vincent and the Grenadines\", \"San Marino\", \"Saudi Arabia\", \"Senegal\", \"Serbia\", \"Seychelles\", \"Singapore\", \"Slovenia\", \"Somalia\", \"South Africa\", \"Spain\", \"Sri Lanka\", \"Sudan\", \"Suriname\", \"Sweden\", \"Switzerland\", \"Tanzania\", \"Thailand\", \"Togo\", \"Trinidad and Tobago\", \"Tunisia\", \"Turkey\", \"Uganda\", \"Ukraine\", \"United Arab Emirates\", \"United Kingdom\", \"Uruguay\", \"United States\", \"Uzbekistan\", \"Vietnam\", \"Zambia\", \"Zimbabwe\", \"Dominica\", \"Grenada\", \"Mozambique\", \"Timor-Leste\", \"Belize\", \"West Bank and Gaza\", \"Guinea-Bissau\", \"Mali\", \"Kosovo\", \"Botswana\", \"Burundi\", \"Sierra Leone\", \"Malawi\", \"Sao Tome and Principe\", \"Comoros\", \"Tajikistan\", \"Lesotho\"], \"type\": \"choropleth\", \"z\": [19.469022208, 11.863865978, 159.049096745, 2.858517699, 95.335111741, 1.460144704, 545.476103427, 10.572298342, 1204.616439828, 390.799991147, 37.847715736, 32.179069149, 221.415162446, 4.52905, 47.407217531, 467.955709818, 8.583031398, 2.21263883, 33.806395514, 16.910277134, 1796.186586414, 11.400653732, 53.237882473, 11.693235542, 1.617467436, 20.016747754, 32.21749747, 1529.760492201, 1.756124677, 9.600761474, 247.027912574, 11199.145157649, 282.462551367, 57.435507212, 36.372613023, 50.714957391, 20.047013274, 306.89965341, 71.583553488, 98.613972, 26.79747, 10.684804794, 23.337907619, 72.374224249, 4.703632978, 238.502900312, 2465.453975282, 14.21355813, 14.378016729, 3477.796274497, 42.689783734, 192.690813127, 68.763255964, 8.200248003, 3.502397094, 8.022638722, 21.51693891, 125.816640421, 20.047413006, 2263.792499341, 932.259177765, 171.489001692, 304.819020501, 317.744784695, 1858.913163928, 14.056908749, 4940.158776617, 38.654727746, 137.278320084, 70.529014778, 110.875579087, 6.551287938, 27.572698482, 49.598825982, 2.101, 42.738875963, 58.631324559, 10.00119342, 296.535930381, 4.224209599, 10.99904758, 4.73929873, 12.168437744, 1046.922702461, 6.749515655, 11.183458131, 4.374127212, 103.606321693, 10.94788069, 21.131983246, 777.227541581, 184.969146624, 13.230844687, 7.528387858, 404.652720165, 371.076190476, 66.29336801, 278.913371202, 55.1877, 20.213214172, 27.424071383, 192.207342005, 304.905406845, 471.364408714, 204.836597909, 152.451923077, 187.59203784, 1283.162985989, 8.376048905, 0.768224227, 1.590707965, 646.43838056, 14.683697631, 38.299854688, 1.427323889, 296.97567861, 44.708598649, 6.217, 295.456189492, 1237.255019654, 81.321876307, 95.584380032, 3.278425328, 514.459972806, 668.851296244, 47.340071107, 407.02612731, 4.399995987, 21.894706041, 42.062549395, 863.711710427, 24.078931933, 93.270479389, 348.743265705, 2647.898654635, 52.419720714, 18624.475, 67.22033557, 205.276172135, 21.063989683, 16.619960402, 0.581484032, 1.056188593, 11.014858592, 1.782974, 1.7411, 13.3971, 1.16494451, 14.034980334, 6.649888889, 15.581137274, 3.00702903, 3.736588554, 5.433038647, 0.342781716, 0.61665449, 6.951657159, 2.291321667]}],\n",
       "                        {\"geo\": {\"projection\": {\"type\": \"mercator\"}, \"showframe\": false}, \"template\": {\"data\": {\"bar\": [{\"error_x\": {\"color\": \"#2a3f5f\"}, \"error_y\": {\"color\": \"#2a3f5f\"}, \"marker\": {\"line\": {\"color\": \"#E5ECF6\", \"width\": 0.5}}, \"type\": \"bar\"}], \"barpolar\": [{\"marker\": {\"line\": {\"color\": \"#E5ECF6\", \"width\": 0.5}}, \"type\": \"barpolar\"}], \"carpet\": [{\"aaxis\": {\"endlinecolor\": \"#2a3f5f\", \"gridcolor\": \"white\", \"linecolor\": \"white\", \"minorgridcolor\": \"white\", \"startlinecolor\": \"#2a3f5f\"}, \"baxis\": {\"endlinecolor\": \"#2a3f5f\", \"gridcolor\": \"white\", \"linecolor\": \"white\", \"minorgridcolor\": \"white\", \"startlinecolor\": \"#2a3f5f\"}, \"type\": \"carpet\"}], \"choropleth\": [{\"colorbar\": {\"outlinewidth\": 0, \"ticks\": \"\"}, \"type\": \"choropleth\"}], \"contour\": [{\"colorbar\": {\"outlinewidth\": 0, \"ticks\": \"\"}, \"colorscale\": [[0.0, \"#0d0887\"], [0.1111111111111111, \"#46039f\"], [0.2222222222222222, \"#7201a8\"], [0.3333333333333333, \"#9c179e\"], [0.4444444444444444, \"#bd3786\"], [0.5555555555555556, \"#d8576b\"], [0.6666666666666666, \"#ed7953\"], [0.7777777777777778, \"#fb9f3a\"], [0.8888888888888888, \"#fdca26\"], [1.0, \"#f0f921\"]], \"type\": \"contour\"}], \"contourcarpet\": [{\"colorbar\": {\"outlinewidth\": 0, \"ticks\": \"\"}, \"type\": \"contourcarpet\"}], \"heatmap\": [{\"colorbar\": {\"outlinewidth\": 0, \"ticks\": \"\"}, \"colorscale\": [[0.0, \"#0d0887\"], [0.1111111111111111, \"#46039f\"], [0.2222222222222222, \"#7201a8\"], [0.3333333333333333, \"#9c179e\"], [0.4444444444444444, \"#bd3786\"], [0.5555555555555556, \"#d8576b\"], [0.6666666666666666, \"#ed7953\"], [0.7777777777777778, \"#fb9f3a\"], [0.8888888888888888, \"#fdca26\"], [1.0, \"#f0f921\"]], \"type\": \"heatmap\"}], \"heatmapgl\": [{\"colorbar\": {\"outlinewidth\": 0, \"ticks\": \"\"}, \"colorscale\": [[0.0, \"#0d0887\"], [0.1111111111111111, \"#46039f\"], [0.2222222222222222, \"#7201a8\"], [0.3333333333333333, \"#9c179e\"], [0.4444444444444444, \"#bd3786\"], [0.5555555555555556, \"#d8576b\"], [0.6666666666666666, \"#ed7953\"], [0.7777777777777778, \"#fb9f3a\"], [0.8888888888888888, \"#fdca26\"], [1.0, \"#f0f921\"]], \"type\": \"heatmapgl\"}], \"histogram\": [{\"marker\": {\"colorbar\": {\"outlinewidth\": 0, \"ticks\": \"\"}}, \"type\": \"histogram\"}], \"histogram2d\": [{\"colorbar\": {\"outlinewidth\": 0, \"ticks\": \"\"}, \"colorscale\": [[0.0, \"#0d0887\"], [0.1111111111111111, \"#46039f\"], [0.2222222222222222, \"#7201a8\"], [0.3333333333333333, \"#9c179e\"], [0.4444444444444444, \"#bd3786\"], [0.5555555555555556, \"#d8576b\"], [0.6666666666666666, \"#ed7953\"], [0.7777777777777778, \"#fb9f3a\"], [0.8888888888888888, \"#fdca26\"], [1.0, \"#f0f921\"]], \"type\": \"histogram2d\"}], \"histogram2dcontour\": [{\"colorbar\": {\"outlinewidth\": 0, \"ticks\": \"\"}, \"colorscale\": [[0.0, \"#0d0887\"], [0.1111111111111111, \"#46039f\"], [0.2222222222222222, \"#7201a8\"], [0.3333333333333333, \"#9c179e\"], [0.4444444444444444, \"#bd3786\"], [0.5555555555555556, \"#d8576b\"], [0.6666666666666666, \"#ed7953\"], [0.7777777777777778, \"#fb9f3a\"], [0.8888888888888888, \"#fdca26\"], [1.0, \"#f0f921\"]], \"type\": \"histogram2dcontour\"}], \"mesh3d\": [{\"colorbar\": {\"outlinewidth\": 0, \"ticks\": \"\"}, \"type\": \"mesh3d\"}], \"parcoords\": [{\"line\": {\"colorbar\": {\"outlinewidth\": 0, \"ticks\": \"\"}}, \"type\": \"parcoords\"}], \"pie\": [{\"automargin\": true, \"type\": \"pie\"}], \"scatter\": [{\"marker\": {\"colorbar\": {\"outlinewidth\": 0, \"ticks\": \"\"}}, \"type\": \"scatter\"}], \"scatter3d\": [{\"line\": {\"colorbar\": {\"outlinewidth\": 0, \"ticks\": \"\"}}, \"marker\": {\"colorbar\": {\"outlinewidth\": 0, \"ticks\": \"\"}}, \"type\": \"scatter3d\"}], \"scattercarpet\": [{\"marker\": {\"colorbar\": {\"outlinewidth\": 0, \"ticks\": \"\"}}, \"type\": \"scattercarpet\"}], \"scattergeo\": [{\"marker\": {\"colorbar\": {\"outlinewidth\": 0, \"ticks\": \"\"}}, \"type\": \"scattergeo\"}], \"scattergl\": [{\"marker\": {\"colorbar\": {\"outlinewidth\": 0, \"ticks\": \"\"}}, \"type\": \"scattergl\"}], \"scattermapbox\": [{\"marker\": {\"colorbar\": {\"outlinewidth\": 0, \"ticks\": \"\"}}, \"type\": \"scattermapbox\"}], \"scatterpolar\": [{\"marker\": {\"colorbar\": {\"outlinewidth\": 0, \"ticks\": \"\"}}, \"type\": \"scatterpolar\"}], \"scatterpolargl\": [{\"marker\": {\"colorbar\": {\"outlinewidth\": 0, \"ticks\": \"\"}}, \"type\": \"scatterpolargl\"}], \"scatterternary\": [{\"marker\": {\"colorbar\": {\"outlinewidth\": 0, \"ticks\": \"\"}}, \"type\": \"scatterternary\"}], \"surface\": [{\"colorbar\": {\"outlinewidth\": 0, \"ticks\": \"\"}, \"colorscale\": [[0.0, \"#0d0887\"], [0.1111111111111111, \"#46039f\"], [0.2222222222222222, \"#7201a8\"], [0.3333333333333333, \"#9c179e\"], [0.4444444444444444, \"#bd3786\"], [0.5555555555555556, \"#d8576b\"], [0.6666666666666666, \"#ed7953\"], [0.7777777777777778, \"#fb9f3a\"], [0.8888888888888888, \"#fdca26\"], [1.0, \"#f0f921\"]], \"type\": \"surface\"}], \"table\": [{\"cells\": {\"fill\": {\"color\": \"#EBF0F8\"}, \"line\": {\"color\": \"white\"}}, \"header\": {\"fill\": {\"color\": \"#C8D4E3\"}, \"line\": {\"color\": \"white\"}}, \"type\": \"table\"}]}, \"layout\": {\"annotationdefaults\": {\"arrowcolor\": \"#2a3f5f\", \"arrowhead\": 0, \"arrowwidth\": 1}, \"coloraxis\": {\"colorbar\": {\"outlinewidth\": 0, \"ticks\": \"\"}}, \"colorscale\": {\"diverging\": [[0, \"#8e0152\"], [0.1, \"#c51b7d\"], [0.2, \"#de77ae\"], [0.3, \"#f1b6da\"], [0.4, \"#fde0ef\"], [0.5, \"#f7f7f7\"], [0.6, \"#e6f5d0\"], [0.7, \"#b8e186\"], [0.8, \"#7fbc41\"], [0.9, \"#4d9221\"], [1, \"#276419\"]], \"sequential\": [[0.0, \"#0d0887\"], [0.1111111111111111, \"#46039f\"], [0.2222222222222222, \"#7201a8\"], [0.3333333333333333, \"#9c179e\"], [0.4444444444444444, \"#bd3786\"], [0.5555555555555556, \"#d8576b\"], [0.6666666666666666, \"#ed7953\"], [0.7777777777777778, \"#fb9f3a\"], [0.8888888888888888, \"#fdca26\"], [1.0, \"#f0f921\"]], \"sequentialminus\": [[0.0, \"#0d0887\"], [0.1111111111111111, \"#46039f\"], [0.2222222222222222, \"#7201a8\"], [0.3333333333333333, \"#9c179e\"], [0.4444444444444444, \"#bd3786\"], [0.5555555555555556, \"#d8576b\"], [0.6666666666666666, \"#ed7953\"], [0.7777777777777778, \"#fb9f3a\"], [0.8888888888888888, \"#fdca26\"], [1.0, \"#f0f921\"]]}, \"colorway\": [\"#636efa\", \"#EF553B\", \"#00cc96\", \"#ab63fa\", \"#FFA15A\", \"#19d3f3\", \"#FF6692\", \"#B6E880\", \"#FF97FF\", \"#FECB52\"], \"font\": {\"color\": \"#2a3f5f\"}, \"geo\": {\"bgcolor\": \"white\", \"lakecolor\": \"white\", \"landcolor\": \"#E5ECF6\", \"showlakes\": true, \"showland\": true, \"subunitcolor\": \"white\"}, \"hoverlabel\": {\"align\": \"left\"}, \"hovermode\": \"closest\", \"mapbox\": {\"style\": \"light\"}, \"paper_bgcolor\": \"white\", \"plot_bgcolor\": \"#E5ECF6\", \"polar\": {\"angularaxis\": {\"gridcolor\": \"white\", \"linecolor\": \"white\", \"ticks\": \"\"}, \"bgcolor\": \"#E5ECF6\", \"radialaxis\": {\"gridcolor\": \"white\", \"linecolor\": \"white\", \"ticks\": \"\"}}, \"scene\": {\"xaxis\": {\"backgroundcolor\": \"#E5ECF6\", \"gridcolor\": \"white\", \"gridwidth\": 2, \"linecolor\": \"white\", \"showbackground\": true, \"ticks\": \"\", \"zerolinecolor\": \"white\"}, \"yaxis\": {\"backgroundcolor\": \"#E5ECF6\", \"gridcolor\": \"white\", \"gridwidth\": 2, \"linecolor\": \"white\", \"showbackground\": true, \"ticks\": \"\", \"zerolinecolor\": \"white\"}, \"zaxis\": {\"backgroundcolor\": \"#E5ECF6\", \"gridcolor\": \"white\", \"gridwidth\": 2, \"linecolor\": \"white\", \"showbackground\": true, \"ticks\": \"\", \"zerolinecolor\": \"white\"}}, \"shapedefaults\": {\"line\": {\"color\": \"#2a3f5f\"}}, \"ternary\": {\"aaxis\": {\"gridcolor\": \"white\", \"linecolor\": \"white\", \"ticks\": \"\"}, \"baxis\": {\"gridcolor\": \"white\", \"linecolor\": \"white\", \"ticks\": \"\"}, \"bgcolor\": \"#E5ECF6\", \"caxis\": {\"gridcolor\": \"white\", \"linecolor\": \"white\", \"ticks\": \"\"}}, \"title\": {\"x\": 0.05}, \"xaxis\": {\"automargin\": true, \"gridcolor\": \"white\", \"linecolor\": \"white\", \"ticks\": \"\", \"title\": {\"standoff\": 15}, \"zerolinecolor\": \"white\", \"zerolinewidth\": 2}, \"yaxis\": {\"automargin\": true, \"gridcolor\": \"white\", \"linecolor\": \"white\", \"ticks\": \"\", \"title\": {\"standoff\": 15}, \"zerolinecolor\": \"white\", \"zerolinewidth\": 2}}}, \"title\": {\"text\": \"\\u0412\\u0412\\u041f \\u0432 \\u043c\\u043b\\u0440\\u0434. \\u0434\\u043e\\u043b\\u043b\\u0430\\u0440\\u043e\\u0432 \\u0421\\u0428\\u0410\"}},\n",
       "                        {\"responsive\": true}\n",
       "                    ).then(function(){\n",
       "                            \n",
       "var gd = document.getElementById('b1874399-c25b-4605-8732-d929abb51acf');\n",
       "var x = new MutationObserver(function (mutations, observer) {{\n",
       "        var display = window.getComputedStyle(gd).display;\n",
       "        if (!display || display === 'none') {{\n",
       "            console.log([gd, 'removed!']);\n",
       "            Plotly.purge(gd);\n",
       "            observer.disconnect();\n",
       "        }}\n",
       "}});\n",
       "\n",
       "// Listen for the removal of the full notebook cells\n",
       "var notebookContainer = gd.closest('#notebook-container');\n",
       "if (notebookContainer) {{\n",
       "    x.observe(notebookContainer, {childList: true});\n",
       "}}\n",
       "\n",
       "// Listen for the clearing of the current output cell\n",
       "var outputEl = gd.closest('.output');\n",
       "if (outputEl) {{\n",
       "    x.observe(outputEl, {childList: true});\n",
       "}}\n",
       "\n",
       "                        })\n",
       "                };\n",
       "                });\n",
       "            </script>\n",
       "        </div>"
      ]
     },
     "metadata": {},
     "output_type": "display_data"
    }
   ],
   "source": [
    "data = dict(type = 'choropleth', \n",
    "           locations = df_cl['country'],\n",
    "           locationmode = 'country names',\n",
    "           z = df_cl['gdp'], \n",
    "           text = df_cl['country'],\n",
    "           colorbar = {'title':'ВВП(млрд. долларов)'})\n",
    "layout = dict(title = 'ВВП в млрд. долларов США', \n",
    "             geo = dict(showframe = False, \n",
    "                       projection = {'type': 'mercator'}))\n",
    "choromap3 = go.Figure(data = [data], layout=layout)\n",
    "iplot(choromap3)"
   ]
  },
  {
   "cell_type": "code",
   "execution_count": 441,
   "metadata": {},
   "outputs": [
    {
     "data": {
      "application/vnd.plotly.v1+json": {
       "config": {
        "linkText": "Export to plot.ly",
        "plotlyServerURL": "https://plot.ly",
        "showLink": false
       },
       "data": [
        {
         "colorbar": {
          "title": {
           "text": "Среднедушевой доход(тыс.долларов)"
          }
         },
         "locationmode": "country names",
         "locations": [
          "Afghanistan",
          "Albania",
          "Algeria",
          "Andorra",
          "Angola",
          "Antigua and Barbuda",
          "Argentina",
          "Armenia",
          "Australia",
          "Austria",
          "Azerbaijan",
          "Bahrain",
          "Bangladesh",
          "Barbados",
          "Belarus",
          "Belgium",
          "Benin",
          "Bhutan",
          "Bolivia",
          "Bosnia and Herzegovina",
          "Brazil",
          "Brunei",
          "Bulgaria",
          "Burkina Faso",
          "Cabo Verde",
          "Cambodia",
          "Cameroon",
          "Canada",
          "Central African Republic",
          "Chad",
          "Chile",
          "China",
          "Colombia",
          "Costa Rica",
          "Cote d'Ivoire",
          "Croatia",
          "Cyprus",
          "Denmark",
          "Dominican Republic",
          "Ecuador",
          "El Salvador",
          "Equatorial Guinea",
          "Estonia",
          "Ethiopia",
          "Fiji",
          "Finland",
          "France",
          "Gabon",
          "Georgia",
          "Germany",
          "Ghana",
          "Greece",
          "Guatemala",
          "Guinea",
          "Guyana",
          "Haiti",
          "Honduras",
          "Hungary",
          "Iceland",
          "India",
          "Indonesia",
          "Iraq",
          "Ireland",
          "Israel",
          "Italy",
          "Jamaica",
          "Japan",
          "Jordan",
          "Kazakhstan",
          "Kenya",
          "Kuwait",
          "Kyrgyzstan",
          "Latvia",
          "Lebanon",
          "Liberia",
          "Lithuania",
          "Luxembourg",
          "Madagascar",
          "Malaysia",
          "Maldives",
          "Malta",
          "Mauritania",
          "Mauritius",
          "Mexico",
          "Moldova",
          "Mongolia",
          "Montenegro",
          "Morocco",
          "Namibia",
          "Nepal",
          "Netherlands",
          "New Zealand",
          "Nicaragua",
          "Niger",
          "Nigeria",
          "Norway",
          "Oman",
          "Pakistan",
          "Panama",
          "Papua New Guinea",
          "Paraguay",
          "Peru",
          "Philippines",
          "Poland",
          "Portugal",
          "Qatar",
          "Romania",
          "Russia",
          "Rwanda",
          "Saint Vincent and the Grenadines",
          "San Marino",
          "Saudi Arabia",
          "Senegal",
          "Serbia",
          "Seychelles",
          "Singapore",
          "Slovenia",
          "Somalia",
          "South Africa",
          "Spain",
          "Sri Lanka",
          "Sudan",
          "Suriname",
          "Sweden",
          "Switzerland",
          "Tanzania",
          "Thailand",
          "Togo",
          "Trinidad and Tobago",
          "Tunisia",
          "Turkey",
          "Uganda",
          "Ukraine",
          "United Arab Emirates",
          "United Kingdom",
          "Uruguay",
          "United States",
          "Uzbekistan",
          "Vietnam",
          "Zambia",
          "Zimbabwe",
          "Dominica",
          "Grenada",
          "Mozambique",
          "Timor-Leste",
          "Belize",
          "West Bank and Gaza",
          "Guinea-Bissau",
          "Mali",
          "Kosovo",
          "Botswana",
          "Burundi",
          "Sierra Leone",
          "Malawi",
          "Sao Tome and Principe",
          "Comoros",
          "Tajikistan",
          "Lesotho"
         ],
         "text": [
          "Afghanistan",
          "Albania",
          "Algeria",
          "Andorra",
          "Angola",
          "Antigua and Barbuda",
          "Argentina",
          "Armenia",
          "Australia",
          "Austria",
          "Azerbaijan",
          "Bahrain",
          "Bangladesh",
          "Barbados",
          "Belarus",
          "Belgium",
          "Benin",
          "Bhutan",
          "Bolivia",
          "Bosnia and Herzegovina",
          "Brazil",
          "Brunei",
          "Bulgaria",
          "Burkina Faso",
          "Cabo Verde",
          "Cambodia",
          "Cameroon",
          "Canada",
          "Central African Republic",
          "Chad",
          "Chile",
          "China",
          "Colombia",
          "Costa Rica",
          "Cote d'Ivoire",
          "Croatia",
          "Cyprus",
          "Denmark",
          "Dominican Republic",
          "Ecuador",
          "El Salvador",
          "Equatorial Guinea",
          "Estonia",
          "Ethiopia",
          "Fiji",
          "Finland",
          "France",
          "Gabon",
          "Georgia",
          "Germany",
          "Ghana",
          "Greece",
          "Guatemala",
          "Guinea",
          "Guyana",
          "Haiti",
          "Honduras",
          "Hungary",
          "Iceland",
          "India",
          "Indonesia",
          "Iraq",
          "Ireland",
          "Israel",
          "Italy",
          "Jamaica",
          "Japan",
          "Jordan",
          "Kazakhstan",
          "Kenya",
          "Kuwait",
          "Kyrgyzstan",
          "Latvia",
          "Lebanon",
          "Liberia",
          "Lithuania",
          "Luxembourg",
          "Madagascar",
          "Malaysia",
          "Maldives",
          "Malta",
          "Mauritania",
          "Mauritius",
          "Mexico",
          "Moldova",
          "Mongolia",
          "Montenegro",
          "Morocco",
          "Namibia",
          "Nepal",
          "Netherlands",
          "New Zealand",
          "Nicaragua",
          "Niger",
          "Nigeria",
          "Norway",
          "Oman",
          "Pakistan",
          "Panama",
          "Papua New Guinea",
          "Paraguay",
          "Peru",
          "Philippines",
          "Poland",
          "Portugal",
          "Qatar",
          "Romania",
          "Russia",
          "Rwanda",
          "Saint Vincent and the Grenadines",
          "San Marino",
          "Saudi Arabia",
          "Senegal",
          "Serbia",
          "Seychelles",
          "Singapore",
          "Slovenia",
          "Somalia",
          "South Africa",
          "Spain",
          "Sri Lanka",
          "Sudan",
          "Suriname",
          "Sweden",
          "Switzerland",
          "Tanzania",
          "Thailand",
          "Togo",
          "Trinidad and Tobago",
          "Tunisia",
          "Turkey",
          "Uganda",
          "Ukraine",
          "United Arab Emirates",
          "United Kingdom",
          "Uruguay",
          "United States",
          "Uzbekistan",
          "Vietnam",
          "Zambia",
          "Zimbabwe",
          "Dominica",
          "Grenada",
          "Mozambique",
          "Timor-Leste",
          "Belize",
          "West Bank and Gaza",
          "Guinea-Bissau",
          "Mali",
          "Kosovo",
          "Botswana",
          "Burundi",
          "Sierra Leone",
          "Malawi",
          "Sao Tome and Principe",
          "Comoros",
          "Tajikistan",
          "Lesotho"
         ],
         "type": "choropleth",
         "z": [
          19.469022208,
          11.863865978,
          159.049096745,
          2.858517699,
          95.335111741,
          1.460144704,
          545.476103427,
          10.572298342,
          1204.616439828,
          390.799991147,
          37.847715736,
          32.179069149,
          221.415162446,
          4.52905,
          47.407217531,
          467.955709818,
          8.583031398,
          2.21263883,
          33.806395514,
          16.910277134,
          1796.186586414,
          11.400653732,
          53.237882473,
          11.693235542,
          1.617467436,
          20.016747754,
          32.21749747,
          1529.760492201,
          1.756124677,
          9.600761474,
          247.027912574,
          11199.145157649,
          282.462551367,
          57.435507212,
          36.372613023,
          50.714957391,
          20.047013274,
          306.89965341,
          71.583553488,
          98.613972,
          26.79747,
          10.684804794,
          23.337907619,
          72.374224249,
          4.703632978,
          238.502900312,
          2465.453975282,
          14.21355813,
          14.378016729,
          3477.796274497,
          42.689783734,
          192.690813127,
          68.763255964,
          8.200248003,
          3.502397094,
          8.022638722,
          21.51693891,
          125.816640421,
          20.047413006,
          2263.792499341,
          932.259177765,
          171.489001692,
          304.819020501,
          317.744784695,
          1858.913163928,
          14.056908749,
          4940.158776617,
          38.654727746,
          137.278320084,
          70.529014778,
          110.875579087,
          6.551287938,
          27.572698482,
          49.598825982,
          2.101,
          42.738875963,
          58.631324559,
          10.00119342,
          296.535930381,
          4.224209599,
          10.99904758,
          4.73929873,
          12.168437744,
          1046.922702461,
          6.749515655,
          11.183458131,
          4.374127212,
          103.606321693,
          10.94788069,
          21.131983246,
          777.227541581,
          184.969146624,
          13.230844687,
          7.528387858,
          404.652720165,
          371.076190476,
          66.29336801,
          278.913371202,
          55.1877,
          20.213214172,
          27.424071383,
          192.207342005,
          304.905406845,
          471.364408714,
          204.836597909,
          152.451923077,
          187.59203784,
          1283.162985989,
          8.376048905,
          0.768224227,
          1.590707965,
          646.43838056,
          14.683697631,
          38.299854688,
          1.427323889,
          296.97567861,
          44.708598649,
          6.217,
          295.456189492,
          1237.255019654,
          81.321876307,
          95.584380032,
          3.278425328,
          514.459972806,
          668.851296244,
          47.340071107,
          407.02612731,
          4.399995987,
          21.894706041,
          42.062549395,
          863.711710427,
          24.078931933,
          93.270479389,
          348.743265705,
          2647.898654635,
          52.419720714,
          18624.475,
          67.22033557,
          205.276172135,
          21.063989683,
          16.619960402,
          0.581484032,
          1.056188593,
          11.014858592,
          1.782974,
          1.7411,
          13.3971,
          1.16494451,
          14.034980334,
          6.649888889,
          15.581137274,
          3.00702903,
          3.736588554,
          5.433038647,
          0.342781716,
          0.61665449,
          6.951657159,
          2.291321667
         ]
        }
       ],
       "layout": {
        "geo": {
         "projection": {
          "type": "mercator"
         },
         "showframe": false
        },
        "template": {
         "data": {
          "bar": [
           {
            "error_x": {
             "color": "#2a3f5f"
            },
            "error_y": {
             "color": "#2a3f5f"
            },
            "marker": {
             "line": {
              "color": "#E5ECF6",
              "width": 0.5
             }
            },
            "type": "bar"
           }
          ],
          "barpolar": [
           {
            "marker": {
             "line": {
              "color": "#E5ECF6",
              "width": 0.5
             }
            },
            "type": "barpolar"
           }
          ],
          "carpet": [
           {
            "aaxis": {
             "endlinecolor": "#2a3f5f",
             "gridcolor": "white",
             "linecolor": "white",
             "minorgridcolor": "white",
             "startlinecolor": "#2a3f5f"
            },
            "baxis": {
             "endlinecolor": "#2a3f5f",
             "gridcolor": "white",
             "linecolor": "white",
             "minorgridcolor": "white",
             "startlinecolor": "#2a3f5f"
            },
            "type": "carpet"
           }
          ],
          "choropleth": [
           {
            "colorbar": {
             "outlinewidth": 0,
             "ticks": ""
            },
            "type": "choropleth"
           }
          ],
          "contour": [
           {
            "colorbar": {
             "outlinewidth": 0,
             "ticks": ""
            },
            "colorscale": [
             [
              0,
              "#0d0887"
             ],
             [
              0.1111111111111111,
              "#46039f"
             ],
             [
              0.2222222222222222,
              "#7201a8"
             ],
             [
              0.3333333333333333,
              "#9c179e"
             ],
             [
              0.4444444444444444,
              "#bd3786"
             ],
             [
              0.5555555555555556,
              "#d8576b"
             ],
             [
              0.6666666666666666,
              "#ed7953"
             ],
             [
              0.7777777777777778,
              "#fb9f3a"
             ],
             [
              0.8888888888888888,
              "#fdca26"
             ],
             [
              1,
              "#f0f921"
             ]
            ],
            "type": "contour"
           }
          ],
          "contourcarpet": [
           {
            "colorbar": {
             "outlinewidth": 0,
             "ticks": ""
            },
            "type": "contourcarpet"
           }
          ],
          "heatmap": [
           {
            "colorbar": {
             "outlinewidth": 0,
             "ticks": ""
            },
            "colorscale": [
             [
              0,
              "#0d0887"
             ],
             [
              0.1111111111111111,
              "#46039f"
             ],
             [
              0.2222222222222222,
              "#7201a8"
             ],
             [
              0.3333333333333333,
              "#9c179e"
             ],
             [
              0.4444444444444444,
              "#bd3786"
             ],
             [
              0.5555555555555556,
              "#d8576b"
             ],
             [
              0.6666666666666666,
              "#ed7953"
             ],
             [
              0.7777777777777778,
              "#fb9f3a"
             ],
             [
              0.8888888888888888,
              "#fdca26"
             ],
             [
              1,
              "#f0f921"
             ]
            ],
            "type": "heatmap"
           }
          ],
          "heatmapgl": [
           {
            "colorbar": {
             "outlinewidth": 0,
             "ticks": ""
            },
            "colorscale": [
             [
              0,
              "#0d0887"
             ],
             [
              0.1111111111111111,
              "#46039f"
             ],
             [
              0.2222222222222222,
              "#7201a8"
             ],
             [
              0.3333333333333333,
              "#9c179e"
             ],
             [
              0.4444444444444444,
              "#bd3786"
             ],
             [
              0.5555555555555556,
              "#d8576b"
             ],
             [
              0.6666666666666666,
              "#ed7953"
             ],
             [
              0.7777777777777778,
              "#fb9f3a"
             ],
             [
              0.8888888888888888,
              "#fdca26"
             ],
             [
              1,
              "#f0f921"
             ]
            ],
            "type": "heatmapgl"
           }
          ],
          "histogram": [
           {
            "marker": {
             "colorbar": {
              "outlinewidth": 0,
              "ticks": ""
             }
            },
            "type": "histogram"
           }
          ],
          "histogram2d": [
           {
            "colorbar": {
             "outlinewidth": 0,
             "ticks": ""
            },
            "colorscale": [
             [
              0,
              "#0d0887"
             ],
             [
              0.1111111111111111,
              "#46039f"
             ],
             [
              0.2222222222222222,
              "#7201a8"
             ],
             [
              0.3333333333333333,
              "#9c179e"
             ],
             [
              0.4444444444444444,
              "#bd3786"
             ],
             [
              0.5555555555555556,
              "#d8576b"
             ],
             [
              0.6666666666666666,
              "#ed7953"
             ],
             [
              0.7777777777777778,
              "#fb9f3a"
             ],
             [
              0.8888888888888888,
              "#fdca26"
             ],
             [
              1,
              "#f0f921"
             ]
            ],
            "type": "histogram2d"
           }
          ],
          "histogram2dcontour": [
           {
            "colorbar": {
             "outlinewidth": 0,
             "ticks": ""
            },
            "colorscale": [
             [
              0,
              "#0d0887"
             ],
             [
              0.1111111111111111,
              "#46039f"
             ],
             [
              0.2222222222222222,
              "#7201a8"
             ],
             [
              0.3333333333333333,
              "#9c179e"
             ],
             [
              0.4444444444444444,
              "#bd3786"
             ],
             [
              0.5555555555555556,
              "#d8576b"
             ],
             [
              0.6666666666666666,
              "#ed7953"
             ],
             [
              0.7777777777777778,
              "#fb9f3a"
             ],
             [
              0.8888888888888888,
              "#fdca26"
             ],
             [
              1,
              "#f0f921"
             ]
            ],
            "type": "histogram2dcontour"
           }
          ],
          "mesh3d": [
           {
            "colorbar": {
             "outlinewidth": 0,
             "ticks": ""
            },
            "type": "mesh3d"
           }
          ],
          "parcoords": [
           {
            "line": {
             "colorbar": {
              "outlinewidth": 0,
              "ticks": ""
             }
            },
            "type": "parcoords"
           }
          ],
          "pie": [
           {
            "automargin": true,
            "type": "pie"
           }
          ],
          "scatter": [
           {
            "marker": {
             "colorbar": {
              "outlinewidth": 0,
              "ticks": ""
             }
            },
            "type": "scatter"
           }
          ],
          "scatter3d": [
           {
            "line": {
             "colorbar": {
              "outlinewidth": 0,
              "ticks": ""
             }
            },
            "marker": {
             "colorbar": {
              "outlinewidth": 0,
              "ticks": ""
             }
            },
            "type": "scatter3d"
           }
          ],
          "scattercarpet": [
           {
            "marker": {
             "colorbar": {
              "outlinewidth": 0,
              "ticks": ""
             }
            },
            "type": "scattercarpet"
           }
          ],
          "scattergeo": [
           {
            "marker": {
             "colorbar": {
              "outlinewidth": 0,
              "ticks": ""
             }
            },
            "type": "scattergeo"
           }
          ],
          "scattergl": [
           {
            "marker": {
             "colorbar": {
              "outlinewidth": 0,
              "ticks": ""
             }
            },
            "type": "scattergl"
           }
          ],
          "scattermapbox": [
           {
            "marker": {
             "colorbar": {
              "outlinewidth": 0,
              "ticks": ""
             }
            },
            "type": "scattermapbox"
           }
          ],
          "scatterpolar": [
           {
            "marker": {
             "colorbar": {
              "outlinewidth": 0,
              "ticks": ""
             }
            },
            "type": "scatterpolar"
           }
          ],
          "scatterpolargl": [
           {
            "marker": {
             "colorbar": {
              "outlinewidth": 0,
              "ticks": ""
             }
            },
            "type": "scatterpolargl"
           }
          ],
          "scatterternary": [
           {
            "marker": {
             "colorbar": {
              "outlinewidth": 0,
              "ticks": ""
             }
            },
            "type": "scatterternary"
           }
          ],
          "surface": [
           {
            "colorbar": {
             "outlinewidth": 0,
             "ticks": ""
            },
            "colorscale": [
             [
              0,
              "#0d0887"
             ],
             [
              0.1111111111111111,
              "#46039f"
             ],
             [
              0.2222222222222222,
              "#7201a8"
             ],
             [
              0.3333333333333333,
              "#9c179e"
             ],
             [
              0.4444444444444444,
              "#bd3786"
             ],
             [
              0.5555555555555556,
              "#d8576b"
             ],
             [
              0.6666666666666666,
              "#ed7953"
             ],
             [
              0.7777777777777778,
              "#fb9f3a"
             ],
             [
              0.8888888888888888,
              "#fdca26"
             ],
             [
              1,
              "#f0f921"
             ]
            ],
            "type": "surface"
           }
          ],
          "table": [
           {
            "cells": {
             "fill": {
              "color": "#EBF0F8"
             },
             "line": {
              "color": "white"
             }
            },
            "header": {
             "fill": {
              "color": "#C8D4E3"
             },
             "line": {
              "color": "white"
             }
            },
            "type": "table"
           }
          ]
         },
         "layout": {
          "annotationdefaults": {
           "arrowcolor": "#2a3f5f",
           "arrowhead": 0,
           "arrowwidth": 1
          },
          "coloraxis": {
           "colorbar": {
            "outlinewidth": 0,
            "ticks": ""
           }
          },
          "colorscale": {
           "diverging": [
            [
             0,
             "#8e0152"
            ],
            [
             0.1,
             "#c51b7d"
            ],
            [
             0.2,
             "#de77ae"
            ],
            [
             0.3,
             "#f1b6da"
            ],
            [
             0.4,
             "#fde0ef"
            ],
            [
             0.5,
             "#f7f7f7"
            ],
            [
             0.6,
             "#e6f5d0"
            ],
            [
             0.7,
             "#b8e186"
            ],
            [
             0.8,
             "#7fbc41"
            ],
            [
             0.9,
             "#4d9221"
            ],
            [
             1,
             "#276419"
            ]
           ],
           "sequential": [
            [
             0,
             "#0d0887"
            ],
            [
             0.1111111111111111,
             "#46039f"
            ],
            [
             0.2222222222222222,
             "#7201a8"
            ],
            [
             0.3333333333333333,
             "#9c179e"
            ],
            [
             0.4444444444444444,
             "#bd3786"
            ],
            [
             0.5555555555555556,
             "#d8576b"
            ],
            [
             0.6666666666666666,
             "#ed7953"
            ],
            [
             0.7777777777777778,
             "#fb9f3a"
            ],
            [
             0.8888888888888888,
             "#fdca26"
            ],
            [
             1,
             "#f0f921"
            ]
           ],
           "sequentialminus": [
            [
             0,
             "#0d0887"
            ],
            [
             0.1111111111111111,
             "#46039f"
            ],
            [
             0.2222222222222222,
             "#7201a8"
            ],
            [
             0.3333333333333333,
             "#9c179e"
            ],
            [
             0.4444444444444444,
             "#bd3786"
            ],
            [
             0.5555555555555556,
             "#d8576b"
            ],
            [
             0.6666666666666666,
             "#ed7953"
            ],
            [
             0.7777777777777778,
             "#fb9f3a"
            ],
            [
             0.8888888888888888,
             "#fdca26"
            ],
            [
             1,
             "#f0f921"
            ]
           ]
          },
          "colorway": [
           "#636efa",
           "#EF553B",
           "#00cc96",
           "#ab63fa",
           "#FFA15A",
           "#19d3f3",
           "#FF6692",
           "#B6E880",
           "#FF97FF",
           "#FECB52"
          ],
          "font": {
           "color": "#2a3f5f"
          },
          "geo": {
           "bgcolor": "white",
           "lakecolor": "white",
           "landcolor": "#E5ECF6",
           "showlakes": true,
           "showland": true,
           "subunitcolor": "white"
          },
          "hoverlabel": {
           "align": "left"
          },
          "hovermode": "closest",
          "mapbox": {
           "style": "light"
          },
          "paper_bgcolor": "white",
          "plot_bgcolor": "#E5ECF6",
          "polar": {
           "angularaxis": {
            "gridcolor": "white",
            "linecolor": "white",
            "ticks": ""
           },
           "bgcolor": "#E5ECF6",
           "radialaxis": {
            "gridcolor": "white",
            "linecolor": "white",
            "ticks": ""
           }
          },
          "scene": {
           "xaxis": {
            "backgroundcolor": "#E5ECF6",
            "gridcolor": "white",
            "gridwidth": 2,
            "linecolor": "white",
            "showbackground": true,
            "ticks": "",
            "zerolinecolor": "white"
           },
           "yaxis": {
            "backgroundcolor": "#E5ECF6",
            "gridcolor": "white",
            "gridwidth": 2,
            "linecolor": "white",
            "showbackground": true,
            "ticks": "",
            "zerolinecolor": "white"
           },
           "zaxis": {
            "backgroundcolor": "#E5ECF6",
            "gridcolor": "white",
            "gridwidth": 2,
            "linecolor": "white",
            "showbackground": true,
            "ticks": "",
            "zerolinecolor": "white"
           }
          },
          "shapedefaults": {
           "line": {
            "color": "#2a3f5f"
           }
          },
          "ternary": {
           "aaxis": {
            "gridcolor": "white",
            "linecolor": "white",
            "ticks": ""
           },
           "baxis": {
            "gridcolor": "white",
            "linecolor": "white",
            "ticks": ""
           },
           "bgcolor": "#E5ECF6",
           "caxis": {
            "gridcolor": "white",
            "linecolor": "white",
            "ticks": ""
           }
          },
          "title": {
           "x": 0.05
          },
          "xaxis": {
           "automargin": true,
           "gridcolor": "white",
           "linecolor": "white",
           "ticks": "",
           "title": {
            "standoff": 15
           },
           "zerolinecolor": "white",
           "zerolinewidth": 2
          },
          "yaxis": {
           "automargin": true,
           "gridcolor": "white",
           "linecolor": "white",
           "ticks": "",
           "title": {
            "standoff": 15
           },
           "zerolinecolor": "white",
           "zerolinewidth": 2
          }
         }
        },
        "title": {
         "text": "Среднедушевой доход в тыс. долларов США"
        }
       }
      },
      "text/html": [
       "<div>\n",
       "        \n",
       "        \n",
       "            <div id=\"edf4d424-8e5b-460d-86f8-5280699594d7\" class=\"plotly-graph-div\" style=\"height:525px; width:100%;\"></div>\n",
       "            <script type=\"text/javascript\">\n",
       "                require([\"plotly\"], function(Plotly) {\n",
       "                    window.PLOTLYENV=window.PLOTLYENV || {};\n",
       "                    \n",
       "                if (document.getElementById(\"edf4d424-8e5b-460d-86f8-5280699594d7\")) {\n",
       "                    Plotly.newPlot(\n",
       "                        'edf4d424-8e5b-460d-86f8-5280699594d7',\n",
       "                        [{\"colorbar\": {\"title\": {\"text\": \"\\u0421\\u0440\\u0435\\u0434\\u043d\\u0435\\u0434\\u0443\\u0448\\u0435\\u0432\\u043e\\u0439 \\u0434\\u043e\\u0445\\u043e\\u0434(\\u0442\\u044b\\u0441.\\u0434\\u043e\\u043b\\u043b\\u0430\\u0440\\u043e\\u0432)\"}}, \"locationmode\": \"country names\", \"locations\": [\"Afghanistan\", \"Albania\", \"Algeria\", \"Andorra\", \"Angola\", \"Antigua and Barbuda\", \"Argentina\", \"Armenia\", \"Australia\", \"Austria\", \"Azerbaijan\", \"Bahrain\", \"Bangladesh\", \"Barbados\", \"Belarus\", \"Belgium\", \"Benin\", \"Bhutan\", \"Bolivia\", \"Bosnia and Herzegovina\", \"Brazil\", \"Brunei\", \"Bulgaria\", \"Burkina Faso\", \"Cabo Verde\", \"Cambodia\", \"Cameroon\", \"Canada\", \"Central African Republic\", \"Chad\", \"Chile\", \"China\", \"Colombia\", \"Costa Rica\", \"Cote d'Ivoire\", \"Croatia\", \"Cyprus\", \"Denmark\", \"Dominican Republic\", \"Ecuador\", \"El Salvador\", \"Equatorial Guinea\", \"Estonia\", \"Ethiopia\", \"Fiji\", \"Finland\", \"France\", \"Gabon\", \"Georgia\", \"Germany\", \"Ghana\", \"Greece\", \"Guatemala\", \"Guinea\", \"Guyana\", \"Haiti\", \"Honduras\", \"Hungary\", \"Iceland\", \"India\", \"Indonesia\", \"Iraq\", \"Ireland\", \"Israel\", \"Italy\", \"Jamaica\", \"Japan\", \"Jordan\", \"Kazakhstan\", \"Kenya\", \"Kuwait\", \"Kyrgyzstan\", \"Latvia\", \"Lebanon\", \"Liberia\", \"Lithuania\", \"Luxembourg\", \"Madagascar\", \"Malaysia\", \"Maldives\", \"Malta\", \"Mauritania\", \"Mauritius\", \"Mexico\", \"Moldova\", \"Mongolia\", \"Montenegro\", \"Morocco\", \"Namibia\", \"Nepal\", \"Netherlands\", \"New Zealand\", \"Nicaragua\", \"Niger\", \"Nigeria\", \"Norway\", \"Oman\", \"Pakistan\", \"Panama\", \"Papua New Guinea\", \"Paraguay\", \"Peru\", \"Philippines\", \"Poland\", \"Portugal\", \"Qatar\", \"Romania\", \"Russia\", \"Rwanda\", \"Saint Vincent and the Grenadines\", \"San Marino\", \"Saudi Arabia\", \"Senegal\", \"Serbia\", \"Seychelles\", \"Singapore\", \"Slovenia\", \"Somalia\", \"South Africa\", \"Spain\", \"Sri Lanka\", \"Sudan\", \"Suriname\", \"Sweden\", \"Switzerland\", \"Tanzania\", \"Thailand\", \"Togo\", \"Trinidad and Tobago\", \"Tunisia\", \"Turkey\", \"Uganda\", \"Ukraine\", \"United Arab Emirates\", \"United Kingdom\", \"Uruguay\", \"United States\", \"Uzbekistan\", \"Vietnam\", \"Zambia\", \"Zimbabwe\", \"Dominica\", \"Grenada\", \"Mozambique\", \"Timor-Leste\", \"Belize\", \"West Bank and Gaza\", \"Guinea-Bissau\", \"Mali\", \"Kosovo\", \"Botswana\", \"Burundi\", \"Sierra Leone\", \"Malawi\", \"Sao Tome and Principe\", \"Comoros\", \"Tajikistan\", \"Lesotho\"], \"text\": [\"Afghanistan\", \"Albania\", \"Algeria\", \"Andorra\", \"Angola\", \"Antigua and Barbuda\", \"Argentina\", \"Armenia\", \"Australia\", \"Austria\", \"Azerbaijan\", \"Bahrain\", \"Bangladesh\", \"Barbados\", \"Belarus\", \"Belgium\", \"Benin\", \"Bhutan\", \"Bolivia\", \"Bosnia and Herzegovina\", \"Brazil\", \"Brunei\", \"Bulgaria\", \"Burkina Faso\", \"Cabo Verde\", \"Cambodia\", \"Cameroon\", \"Canada\", \"Central African Republic\", \"Chad\", \"Chile\", \"China\", \"Colombia\", \"Costa Rica\", \"Cote d'Ivoire\", \"Croatia\", \"Cyprus\", \"Denmark\", \"Dominican Republic\", \"Ecuador\", \"El Salvador\", \"Equatorial Guinea\", \"Estonia\", \"Ethiopia\", \"Fiji\", \"Finland\", \"France\", \"Gabon\", \"Georgia\", \"Germany\", \"Ghana\", \"Greece\", \"Guatemala\", \"Guinea\", \"Guyana\", \"Haiti\", \"Honduras\", \"Hungary\", \"Iceland\", \"India\", \"Indonesia\", \"Iraq\", \"Ireland\", \"Israel\", \"Italy\", \"Jamaica\", \"Japan\", \"Jordan\", \"Kazakhstan\", \"Kenya\", \"Kuwait\", \"Kyrgyzstan\", \"Latvia\", \"Lebanon\", \"Liberia\", \"Lithuania\", \"Luxembourg\", \"Madagascar\", \"Malaysia\", \"Maldives\", \"Malta\", \"Mauritania\", \"Mauritius\", \"Mexico\", \"Moldova\", \"Mongolia\", \"Montenegro\", \"Morocco\", \"Namibia\", \"Nepal\", \"Netherlands\", \"New Zealand\", \"Nicaragua\", \"Niger\", \"Nigeria\", \"Norway\", \"Oman\", \"Pakistan\", \"Panama\", \"Papua New Guinea\", \"Paraguay\", \"Peru\", \"Philippines\", \"Poland\", \"Portugal\", \"Qatar\", \"Romania\", \"Russia\", \"Rwanda\", \"Saint Vincent and the Grenadines\", \"San Marino\", \"Saudi Arabia\", \"Senegal\", \"Serbia\", \"Seychelles\", \"Singapore\", \"Slovenia\", \"Somalia\", \"South Africa\", \"Spain\", \"Sri Lanka\", \"Sudan\", \"Suriname\", \"Sweden\", \"Switzerland\", \"Tanzania\", \"Thailand\", \"Togo\", \"Trinidad and Tobago\", \"Tunisia\", \"Turkey\", \"Uganda\", \"Ukraine\", \"United Arab Emirates\", \"United Kingdom\", \"Uruguay\", \"United States\", \"Uzbekistan\", \"Vietnam\", \"Zambia\", \"Zimbabwe\", \"Dominica\", \"Grenada\", \"Mozambique\", \"Timor-Leste\", \"Belize\", \"West Bank and Gaza\", \"Guinea-Bissau\", \"Mali\", \"Kosovo\", \"Botswana\", \"Burundi\", \"Sierra Leone\", \"Malawi\", \"Sao Tome and Principe\", \"Comoros\", \"Tajikistan\", \"Lesotho\"], \"type\": \"choropleth\", \"z\": [19.469022208, 11.863865978, 159.049096745, 2.858517699, 95.335111741, 1.460144704, 545.476103427, 10.572298342, 1204.616439828, 390.799991147, 37.847715736, 32.179069149, 221.415162446, 4.52905, 47.407217531, 467.955709818, 8.583031398, 2.21263883, 33.806395514, 16.910277134, 1796.186586414, 11.400653732, 53.237882473, 11.693235542, 1.617467436, 20.016747754, 32.21749747, 1529.760492201, 1.756124677, 9.600761474, 247.027912574, 11199.145157649, 282.462551367, 57.435507212, 36.372613023, 50.714957391, 20.047013274, 306.89965341, 71.583553488, 98.613972, 26.79747, 10.684804794, 23.337907619, 72.374224249, 4.703632978, 238.502900312, 2465.453975282, 14.21355813, 14.378016729, 3477.796274497, 42.689783734, 192.690813127, 68.763255964, 8.200248003, 3.502397094, 8.022638722, 21.51693891, 125.816640421, 20.047413006, 2263.792499341, 932.259177765, 171.489001692, 304.819020501, 317.744784695, 1858.913163928, 14.056908749, 4940.158776617, 38.654727746, 137.278320084, 70.529014778, 110.875579087, 6.551287938, 27.572698482, 49.598825982, 2.101, 42.738875963, 58.631324559, 10.00119342, 296.535930381, 4.224209599, 10.99904758, 4.73929873, 12.168437744, 1046.922702461, 6.749515655, 11.183458131, 4.374127212, 103.606321693, 10.94788069, 21.131983246, 777.227541581, 184.969146624, 13.230844687, 7.528387858, 404.652720165, 371.076190476, 66.29336801, 278.913371202, 55.1877, 20.213214172, 27.424071383, 192.207342005, 304.905406845, 471.364408714, 204.836597909, 152.451923077, 187.59203784, 1283.162985989, 8.376048905, 0.768224227, 1.590707965, 646.43838056, 14.683697631, 38.299854688, 1.427323889, 296.97567861, 44.708598649, 6.217, 295.456189492, 1237.255019654, 81.321876307, 95.584380032, 3.278425328, 514.459972806, 668.851296244, 47.340071107, 407.02612731, 4.399995987, 21.894706041, 42.062549395, 863.711710427, 24.078931933, 93.270479389, 348.743265705, 2647.898654635, 52.419720714, 18624.475, 67.22033557, 205.276172135, 21.063989683, 16.619960402, 0.581484032, 1.056188593, 11.014858592, 1.782974, 1.7411, 13.3971, 1.16494451, 14.034980334, 6.649888889, 15.581137274, 3.00702903, 3.736588554, 5.433038647, 0.342781716, 0.61665449, 6.951657159, 2.291321667]}],\n",
       "                        {\"geo\": {\"projection\": {\"type\": \"mercator\"}, \"showframe\": false}, \"template\": {\"data\": {\"bar\": [{\"error_x\": {\"color\": \"#2a3f5f\"}, \"error_y\": {\"color\": \"#2a3f5f\"}, \"marker\": {\"line\": {\"color\": \"#E5ECF6\", \"width\": 0.5}}, \"type\": \"bar\"}], \"barpolar\": [{\"marker\": {\"line\": {\"color\": \"#E5ECF6\", \"width\": 0.5}}, \"type\": \"barpolar\"}], \"carpet\": [{\"aaxis\": {\"endlinecolor\": \"#2a3f5f\", \"gridcolor\": \"white\", \"linecolor\": \"white\", \"minorgridcolor\": \"white\", \"startlinecolor\": \"#2a3f5f\"}, \"baxis\": {\"endlinecolor\": \"#2a3f5f\", \"gridcolor\": \"white\", \"linecolor\": \"white\", \"minorgridcolor\": \"white\", \"startlinecolor\": \"#2a3f5f\"}, \"type\": \"carpet\"}], \"choropleth\": [{\"colorbar\": {\"outlinewidth\": 0, \"ticks\": \"\"}, \"type\": \"choropleth\"}], \"contour\": [{\"colorbar\": {\"outlinewidth\": 0, \"ticks\": \"\"}, \"colorscale\": [[0.0, \"#0d0887\"], [0.1111111111111111, \"#46039f\"], [0.2222222222222222, \"#7201a8\"], [0.3333333333333333, \"#9c179e\"], [0.4444444444444444, \"#bd3786\"], [0.5555555555555556, \"#d8576b\"], [0.6666666666666666, \"#ed7953\"], [0.7777777777777778, \"#fb9f3a\"], [0.8888888888888888, \"#fdca26\"], [1.0, \"#f0f921\"]], \"type\": \"contour\"}], \"contourcarpet\": [{\"colorbar\": {\"outlinewidth\": 0, \"ticks\": \"\"}, \"type\": \"contourcarpet\"}], \"heatmap\": [{\"colorbar\": {\"outlinewidth\": 0, \"ticks\": \"\"}, \"colorscale\": [[0.0, \"#0d0887\"], [0.1111111111111111, \"#46039f\"], [0.2222222222222222, \"#7201a8\"], [0.3333333333333333, \"#9c179e\"], [0.4444444444444444, \"#bd3786\"], [0.5555555555555556, \"#d8576b\"], [0.6666666666666666, \"#ed7953\"], [0.7777777777777778, \"#fb9f3a\"], [0.8888888888888888, \"#fdca26\"], [1.0, \"#f0f921\"]], \"type\": \"heatmap\"}], \"heatmapgl\": [{\"colorbar\": {\"outlinewidth\": 0, \"ticks\": \"\"}, \"colorscale\": [[0.0, \"#0d0887\"], [0.1111111111111111, \"#46039f\"], [0.2222222222222222, \"#7201a8\"], [0.3333333333333333, \"#9c179e\"], [0.4444444444444444, \"#bd3786\"], [0.5555555555555556, \"#d8576b\"], [0.6666666666666666, \"#ed7953\"], [0.7777777777777778, \"#fb9f3a\"], [0.8888888888888888, \"#fdca26\"], [1.0, \"#f0f921\"]], \"type\": \"heatmapgl\"}], \"histogram\": [{\"marker\": {\"colorbar\": {\"outlinewidth\": 0, \"ticks\": \"\"}}, \"type\": \"histogram\"}], \"histogram2d\": [{\"colorbar\": {\"outlinewidth\": 0, \"ticks\": \"\"}, \"colorscale\": [[0.0, \"#0d0887\"], [0.1111111111111111, \"#46039f\"], [0.2222222222222222, \"#7201a8\"], [0.3333333333333333, \"#9c179e\"], [0.4444444444444444, \"#bd3786\"], [0.5555555555555556, \"#d8576b\"], [0.6666666666666666, \"#ed7953\"], [0.7777777777777778, \"#fb9f3a\"], [0.8888888888888888, \"#fdca26\"], [1.0, \"#f0f921\"]], \"type\": \"histogram2d\"}], \"histogram2dcontour\": [{\"colorbar\": {\"outlinewidth\": 0, \"ticks\": \"\"}, \"colorscale\": [[0.0, \"#0d0887\"], [0.1111111111111111, \"#46039f\"], [0.2222222222222222, \"#7201a8\"], [0.3333333333333333, \"#9c179e\"], [0.4444444444444444, \"#bd3786\"], [0.5555555555555556, \"#d8576b\"], [0.6666666666666666, \"#ed7953\"], [0.7777777777777778, \"#fb9f3a\"], [0.8888888888888888, \"#fdca26\"], [1.0, \"#f0f921\"]], \"type\": \"histogram2dcontour\"}], \"mesh3d\": [{\"colorbar\": {\"outlinewidth\": 0, \"ticks\": \"\"}, \"type\": \"mesh3d\"}], \"parcoords\": [{\"line\": {\"colorbar\": {\"outlinewidth\": 0, \"ticks\": \"\"}}, \"type\": \"parcoords\"}], \"pie\": [{\"automargin\": true, \"type\": \"pie\"}], \"scatter\": [{\"marker\": {\"colorbar\": {\"outlinewidth\": 0, \"ticks\": \"\"}}, \"type\": \"scatter\"}], \"scatter3d\": [{\"line\": {\"colorbar\": {\"outlinewidth\": 0, \"ticks\": \"\"}}, \"marker\": {\"colorbar\": {\"outlinewidth\": 0, \"ticks\": \"\"}}, \"type\": \"scatter3d\"}], \"scattercarpet\": [{\"marker\": {\"colorbar\": {\"outlinewidth\": 0, \"ticks\": \"\"}}, \"type\": \"scattercarpet\"}], \"scattergeo\": [{\"marker\": {\"colorbar\": {\"outlinewidth\": 0, \"ticks\": \"\"}}, \"type\": \"scattergeo\"}], \"scattergl\": [{\"marker\": {\"colorbar\": {\"outlinewidth\": 0, \"ticks\": \"\"}}, \"type\": \"scattergl\"}], \"scattermapbox\": [{\"marker\": {\"colorbar\": {\"outlinewidth\": 0, \"ticks\": \"\"}}, \"type\": \"scattermapbox\"}], \"scatterpolar\": [{\"marker\": {\"colorbar\": {\"outlinewidth\": 0, \"ticks\": \"\"}}, \"type\": \"scatterpolar\"}], \"scatterpolargl\": [{\"marker\": {\"colorbar\": {\"outlinewidth\": 0, \"ticks\": \"\"}}, \"type\": \"scatterpolargl\"}], \"scatterternary\": [{\"marker\": {\"colorbar\": {\"outlinewidth\": 0, \"ticks\": \"\"}}, \"type\": \"scatterternary\"}], \"surface\": [{\"colorbar\": {\"outlinewidth\": 0, \"ticks\": \"\"}, \"colorscale\": [[0.0, \"#0d0887\"], [0.1111111111111111, \"#46039f\"], [0.2222222222222222, \"#7201a8\"], [0.3333333333333333, \"#9c179e\"], [0.4444444444444444, \"#bd3786\"], [0.5555555555555556, \"#d8576b\"], [0.6666666666666666, \"#ed7953\"], [0.7777777777777778, \"#fb9f3a\"], [0.8888888888888888, \"#fdca26\"], [1.0, \"#f0f921\"]], \"type\": \"surface\"}], \"table\": [{\"cells\": {\"fill\": {\"color\": \"#EBF0F8\"}, \"line\": {\"color\": \"white\"}}, \"header\": {\"fill\": {\"color\": \"#C8D4E3\"}, \"line\": {\"color\": \"white\"}}, \"type\": \"table\"}]}, \"layout\": {\"annotationdefaults\": {\"arrowcolor\": \"#2a3f5f\", \"arrowhead\": 0, \"arrowwidth\": 1}, \"coloraxis\": {\"colorbar\": {\"outlinewidth\": 0, \"ticks\": \"\"}}, \"colorscale\": {\"diverging\": [[0, \"#8e0152\"], [0.1, \"#c51b7d\"], [0.2, \"#de77ae\"], [0.3, \"#f1b6da\"], [0.4, \"#fde0ef\"], [0.5, \"#f7f7f7\"], [0.6, \"#e6f5d0\"], [0.7, \"#b8e186\"], [0.8, \"#7fbc41\"], [0.9, \"#4d9221\"], [1, \"#276419\"]], \"sequential\": [[0.0, \"#0d0887\"], [0.1111111111111111, \"#46039f\"], [0.2222222222222222, \"#7201a8\"], [0.3333333333333333, \"#9c179e\"], [0.4444444444444444, \"#bd3786\"], [0.5555555555555556, \"#d8576b\"], [0.6666666666666666, \"#ed7953\"], [0.7777777777777778, \"#fb9f3a\"], [0.8888888888888888, \"#fdca26\"], [1.0, \"#f0f921\"]], \"sequentialminus\": [[0.0, \"#0d0887\"], [0.1111111111111111, \"#46039f\"], [0.2222222222222222, \"#7201a8\"], [0.3333333333333333, \"#9c179e\"], [0.4444444444444444, \"#bd3786\"], [0.5555555555555556, \"#d8576b\"], [0.6666666666666666, \"#ed7953\"], [0.7777777777777778, \"#fb9f3a\"], [0.8888888888888888, \"#fdca26\"], [1.0, \"#f0f921\"]]}, \"colorway\": [\"#636efa\", \"#EF553B\", \"#00cc96\", \"#ab63fa\", \"#FFA15A\", \"#19d3f3\", \"#FF6692\", \"#B6E880\", \"#FF97FF\", \"#FECB52\"], \"font\": {\"color\": \"#2a3f5f\"}, \"geo\": {\"bgcolor\": \"white\", \"lakecolor\": \"white\", \"landcolor\": \"#E5ECF6\", \"showlakes\": true, \"showland\": true, \"subunitcolor\": \"white\"}, \"hoverlabel\": {\"align\": \"left\"}, \"hovermode\": \"closest\", \"mapbox\": {\"style\": \"light\"}, \"paper_bgcolor\": \"white\", \"plot_bgcolor\": \"#E5ECF6\", \"polar\": {\"angularaxis\": {\"gridcolor\": \"white\", \"linecolor\": \"white\", \"ticks\": \"\"}, \"bgcolor\": \"#E5ECF6\", \"radialaxis\": {\"gridcolor\": \"white\", \"linecolor\": \"white\", \"ticks\": \"\"}}, \"scene\": {\"xaxis\": {\"backgroundcolor\": \"#E5ECF6\", \"gridcolor\": \"white\", \"gridwidth\": 2, \"linecolor\": \"white\", \"showbackground\": true, \"ticks\": \"\", \"zerolinecolor\": \"white\"}, \"yaxis\": {\"backgroundcolor\": \"#E5ECF6\", \"gridcolor\": \"white\", \"gridwidth\": 2, \"linecolor\": \"white\", \"showbackground\": true, \"ticks\": \"\", \"zerolinecolor\": \"white\"}, \"zaxis\": {\"backgroundcolor\": \"#E5ECF6\", \"gridcolor\": \"white\", \"gridwidth\": 2, \"linecolor\": \"white\", \"showbackground\": true, \"ticks\": \"\", \"zerolinecolor\": \"white\"}}, \"shapedefaults\": {\"line\": {\"color\": \"#2a3f5f\"}}, \"ternary\": {\"aaxis\": {\"gridcolor\": \"white\", \"linecolor\": \"white\", \"ticks\": \"\"}, \"baxis\": {\"gridcolor\": \"white\", \"linecolor\": \"white\", \"ticks\": \"\"}, \"bgcolor\": \"#E5ECF6\", \"caxis\": {\"gridcolor\": \"white\", \"linecolor\": \"white\", \"ticks\": \"\"}}, \"title\": {\"x\": 0.05}, \"xaxis\": {\"automargin\": true, \"gridcolor\": \"white\", \"linecolor\": \"white\", \"ticks\": \"\", \"title\": {\"standoff\": 15}, \"zerolinecolor\": \"white\", \"zerolinewidth\": 2}, \"yaxis\": {\"automargin\": true, \"gridcolor\": \"white\", \"linecolor\": \"white\", \"ticks\": \"\", \"title\": {\"standoff\": 15}, \"zerolinecolor\": \"white\", \"zerolinewidth\": 2}}}, \"title\": {\"text\": \"\\u0421\\u0440\\u0435\\u0434\\u043d\\u0435\\u0434\\u0443\\u0448\\u0435\\u0432\\u043e\\u0439 \\u0434\\u043e\\u0445\\u043e\\u0434 \\u0432 \\u0442\\u044b\\u0441. \\u0434\\u043e\\u043b\\u043b\\u0430\\u0440\\u043e\\u0432 \\u0421\\u0428\\u0410\"}},\n",
       "                        {\"responsive\": true}\n",
       "                    ).then(function(){\n",
       "                            \n",
       "var gd = document.getElementById('edf4d424-8e5b-460d-86f8-5280699594d7');\n",
       "var x = new MutationObserver(function (mutations, observer) {{\n",
       "        var display = window.getComputedStyle(gd).display;\n",
       "        if (!display || display === 'none') {{\n",
       "            console.log([gd, 'removed!']);\n",
       "            Plotly.purge(gd);\n",
       "            observer.disconnect();\n",
       "        }}\n",
       "}});\n",
       "\n",
       "// Listen for the removal of the full notebook cells\n",
       "var notebookContainer = gd.closest('#notebook-container');\n",
       "if (notebookContainer) {{\n",
       "    x.observe(notebookContainer, {childList: true});\n",
       "}}\n",
       "\n",
       "// Listen for the clearing of the current output cell\n",
       "var outputEl = gd.closest('.output');\n",
       "if (outputEl) {{\n",
       "    x.observe(outputEl, {childList: true});\n",
       "}}\n",
       "\n",
       "                        })\n",
       "                };\n",
       "                });\n",
       "            </script>\n",
       "        </div>"
      ]
     },
     "metadata": {},
     "output_type": "display_data"
    }
   ],
   "source": [
    "data = dict(type = 'choropleth', \n",
    "           locations = df_cl['country'],\n",
    "           locationmode = 'country names',\n",
    "           z = df_cl['gdp'], \n",
    "           text = df_cl['country'],\n",
    "           colorbar = {'title':'Среднедушевой доход(тыс.долларов)'})\n",
    "layout = dict(title = 'Среднедушевой доход в тыс. долларов США', \n",
    "             geo = dict(showframe = False, \n",
    "                       projection = {'type': 'mercator'}))\n",
    "choromap3 = go.Figure(data = [data], layout=layout)\n",
    "iplot(choromap3)"
   ]
  },
  {
   "cell_type": "code",
   "execution_count": 535,
   "metadata": {},
   "outputs": [],
   "source": [
    "# Кластеризация методом k-средних\n",
    "def do_kmeans(X, nclust=2):\n",
    "    model = KMeans(nclust)\n",
    "    model.fit(X)\n",
    "    clust_labels = model.predict(X)\n",
    "    cent = model.cluster_centers_\n",
    "    return (clust_labels, cent)\n",
    "\n"
   ]
  },
  {
   "cell_type": "code",
   "execution_count": 536,
   "metadata": {},
   "outputs": [],
   "source": [
    "df_cl = pd.DataFrame(countries_with_gdp_and_capita)\n",
    "df_cl_1 = df_cl[['gdp','per_capita','population','conf_to_pop', 'dead_to_pop']]"
   ]
  },
  {
   "cell_type": "code",
   "execution_count": null,
   "metadata": {
    "scrolled": false
   },
   "outputs": [],
   "source": [
    "scaler = StandardScaler()\n",
    "s = scaler.fit_transform(df_cl_1)"
   ]
  },
  {
   "cell_type": "code",
   "execution_count": 538,
   "metadata": {},
   "outputs": [],
   "source": [
    "clust_labels, cent = do_kmeans(df_cl_1, 2)\n",
    "kmeans = pd.DataFrame(clust_labels)\n",
    "df_cl_1.insert((df_cl_1.shape[1]),'kmeans',kmeans)"
   ]
  },
  {
   "cell_type": "code",
   "execution_count": 539,
   "metadata": {},
   "outputs": [],
   "source": [
    "# Кластеризация с 2 параметрами\n",
    "def plot_clusterization(df_cl_1,method, param_1 = \"gdp\" , param_2 = \"conf_to_pop\", title=\"\"):\n",
    "    fig = plt.figure()\n",
    "    ax = fig.add_subplot(111)\n",
    "    scatter = ax.scatter(df_cl_1[param_1],df_cl_1[param_2],\n",
    "                         c=method[0],s=50)\n",
    "    ax.set_title(title)\n",
    "    if param_1 == \"gdp\":\n",
    "        xlabel = \"ВВП (млрд.долларов)\"\n",
    "    elif param_1 == \"per_capita\":\n",
    "        xlabel = \"Среднедушевой доход (тыс.долларов)\"\n",
    "    elif param_1 == \"conf_to_pop\":\n",
    "        xlabel = \"Заразившиеся в (%) от населения\"\n",
    "    elif param_1 == \"dead_to_pop\":\n",
    "        xlabel = \"Умершие в (%) от населения\"  \n",
    "    if param_2 == \"gdp\":\n",
    "        ylabel = \"ВВП (млрд.долларов)\"\n",
    "    elif param_2 == \"per_capita\":\n",
    "        ylabel = \"Среднедушевой доход (тыс.долларов)\"\n",
    "    elif param_2 == \"conf_to_pop\":\n",
    "        ylabel = \"Заразившиеся в (%) от населения\"\n",
    "    elif param_2 == \"dead_to_pop\":\n",
    "        ylabel = \"Умершие в (%) от населения\" \n",
    "    ax.set_xlabel(xlabel)\n",
    "    ax.set_ylabel(ylabel)\n",
    "    plt.colorbar(scatter)"
   ]
  },
  {
   "cell_type": "code",
   "execution_count": 540,
   "metadata": {
    "scrolled": true
   },
   "outputs": [
    {
     "data": {
      "image/png": "[encoded data removed]",
      "text/plain": [
       "<Figure size 432x288 with 2 Axes>"
      ]
     },
     "metadata": {},
     "output_type": "display_data"
    }
   ],
   "source": [
    "plot_clusterization(df_cl_1,kmeans, \"per_capita\" , \"dead_to_pop\", \"Кластеризация методом k-средних\")    "
   ]
  },
  {
   "cell_type": "code",
   "execution_count": 541,
   "metadata": {
    "scrolled": true
   },
   "outputs": [
    {
     "data": {
      "application/vnd.plotly.v1+json": {
       "config": {
        "linkText": "Export to plot.ly",
        "plotlyServerURL": "https://plot.ly",
        "showLink": false
       },
       "data": [
        {
         "colorbar": {
          "title": {
           "text": "Cluster Group"
          }
         },
         "locationmode": "country names",
         "locations": [
          0.019024875077967823,
          0.03307312090249151,
          0.017052493238618942,
          0.9882346830117134,
          0.0001622862260344627,
          0.025964314645950604,
          0.01881356038101067,
          0.16339315720434072,
          0.028291591361185794,
          0.1840276155670011,
          0.034075132296424476,
          0.4577431808436008,
          0.014793372561655409,
          0.030700423177424024,
          0.322370466849841,
          0.48594206234864334,
          0.002951663763181486,
          0.0027836912806835684,
          0.03754907672254958,
          0.06931555998939809,
          0.1219118791006987,
          0.0328700444328402,
          0.03181477905383274,
          0.004030066523943582,
          0.002271622626968122,
          0.0007507785635242973,
          0.013994950951642784,
          0.21428977165784285,
          0.007007577827509436,
          0.0033532003454507056,
          0.24592133336465705,
          0.00603584327184738,
          0.03282060743401361,
          0.017321936592511043,
          0.01467551325166296,
          0.05450307166884834,
          0.07710644810029724,
          0.19272871129632582,
          0.11974030703390791,
          0.1965657823703871,
          0.02200679547416935,
          0.054928516532795915,
          0.1349493977580548,
          0.0003222718436427837,
          0.00012466221733361646,
          0.11567348529831702,
          0.26882468960625605,
          0.06757027757133925,
          0.018810969612904592,
          0.21295378409192256,
          0.019266231707829998,
          0.026426317630547033,
          0.01108546727128846,
          0.022522381011989542,
          0.01591776165462565,
          0.004791796875280945,
          0.02918376614937624,
          0.03616159640507698,
          0.5108853739924756,
          0.007417323283026876,
          0.006728599294856991,
          0.0092471171058657,
          0.4971946510895445,
          0.1873620930337281,
          0.3738487591225413,
          0.017718081472508865,
          0.01288636369024991,
          0.0063177913322916175,
          0.036946372212125045,
          0.0017745603925514385,
          0.3792561783516774,
          0.019231985829063075,
          0.052356455618434036,
          0.013593374142657424,
          0.004752045921779664,
          0.05521957007263498,
          0.6492310222880171,
          0.0012260889802473258,
          0.022014942947804348,
          0.21446743818063352,
          0.11513938468522378,
          0.0018395215063909747,
          0.02623877442794335,
          0.04091661587849028,
          0.2268251609634563,
          0.004416114021540542,
          0.0513292533969985,
          0.01929549355302367,
          0.0006535266955443775,
          0.0013350958497352825,
          0.2573233956358379,
          0.030964676719686016,
          0.0003866669203201664,
          0.0040502700447374385,
          0.00315252492485759,
          0.155442970107208,
          0.11137838149549342,
          0.019850149162384964,
          0.2328536203997584,
          9.295498794141419e-05,
          0.011328233998761657,
          0.29676526393736696,
          0.011924773376329776,
          0.049730412971777306,
          0.28402864226938196,
          1.2211698195009701,
          0.08751604388028549,
          2.013142445005609,
          0.002414253557914732,
          0.015425097541057978,
          1.9357703122687582,
          0.17016347236391796,
          0.016046059254362838,
          0.07409783684735347,
          0.011368099047146607,
          0.5026534597838216,
          0.07068828011460566,
          0.009694729944802005,
          0.02844082296003944,
          0.4949212057130719,
          0.006870273310830418,
          0.006198337271506287,
          0.0019097520620981927,
          0.2985391756871158,
          0.35940542875222287,
          0.0009037907148838954,
          0.004365640842371933,
          0.004182989833813617,
          0.008346176371974691,
          0.00901843149502594,
          0.18293671635730946,
          0.0005804816916659611,
          0.041718848843037004,
          0.2511691722496171,
          0.37271699947866654,
          0.021366660298222914,
          0.4616974923690147,
          0.008469021768814821,
          0.00033912357176249904,
          0.0043857065845880625,
          0.00031858122207479764,
          0.022338568935427575,
          0.019739085183124876,
          0.0004915927136060184,
          0.00016621628977815528,
          0.004698867833900243,
          0.0026871633514135105,
          0.05506029155278025,
          0.004581267438563055,
          0.006614023197422428,
          0.0011090773097865868,
          0.0003758262136636452,
          0.006784177155126551,
          0.0003858170350897838,
          0.1165722084273177,
          0.001321603898491209,
          0.01899825257830681,
          4.743535983515264e-05
         ],
         "text": [
          0.019024875077967823,
          0.03307312090249151,
          0.017052493238618942,
          0.9882346830117134,
          0.0001622862260344627,
          0.025964314645950604,
          0.01881356038101067,
          0.16339315720434072,
          0.028291591361185794,
          0.1840276155670011,
          0.034075132296424476,
          0.4577431808436008,
          0.014793372561655409,
          0.030700423177424024,
          0.322370466849841,
          0.48594206234864334,
          0.002951663763181486,
          0.0027836912806835684,
          0.03754907672254958,
          0.06931555998939809,
          0.1219118791006987,
          0.0328700444328402,
          0.03181477905383274,
          0.004030066523943582,
          0.002271622626968122,
          0.0007507785635242973,
          0.013994950951642784,
          0.21428977165784285,
          0.007007577827509436,
          0.0033532003454507056,
          0.24592133336465705,
          0.00603584327184738,
          0.03282060743401361,
          0.017321936592511043,
          0.01467551325166296,
          0.05450307166884834,
          0.07710644810029724,
          0.19272871129632582,
          0.11974030703390791,
          0.1965657823703871,
          0.02200679547416935,
          0.054928516532795915,
          0.1349493977580548,
          0.0003222718436427837,
          0.00012466221733361646,
          0.11567348529831702,
          0.26882468960625605,
          0.06757027757133925,
          0.018810969612904592,
          0.21295378409192256,
          0.019266231707829998,
          0.026426317630547033,
          0.01108546727128846,
          0.022522381011989542,
          0.01591776165462565,
          0.004791796875280945,
          0.02918376614937624,
          0.03616159640507698,
          0.5108853739924756,
          0.007417323283026876,
          0.006728599294856991,
          0.0092471171058657,
          0.4971946510895445,
          0.1873620930337281,
          0.3738487591225413,
          0.017718081472508865,
          0.01288636369024991,
          0.0063177913322916175,
          0.036946372212125045,
          0.0017745603925514385,
          0.3792561783516774,
          0.019231985829063075,
          0.052356455618434036,
          0.013593374142657424,
          0.004752045921779664,
          0.05521957007263498,
          0.6492310222880171,
          0.0012260889802473258,
          0.022014942947804348,
          0.21446743818063352,
          0.11513938468522378,
          0.0018395215063909747,
          0.02623877442794335,
          0.04091661587849028,
          0.2268251609634563,
          0.004416114021540542,
          0.0513292533969985,
          0.01929549355302367,
          0.0006535266955443775,
          0.0013350958497352825,
          0.2573233956358379,
          0.030964676719686016,
          0.0003866669203201664,
          0.0040502700447374385,
          0.00315252492485759,
          0.155442970107208,
          0.11137838149549342,
          0.019850149162384964,
          0.2328536203997584,
          9.295498794141419e-05,
          0.011328233998761657,
          0.29676526393736696,
          0.011924773376329776,
          0.049730412971777306,
          0.28402864226938196,
          1.2211698195009701,
          0.08751604388028549,
          2.013142445005609,
          0.002414253557914732,
          0.015425097541057978,
          1.9357703122687582,
          0.17016347236391796,
          0.016046059254362838,
          0.07409783684735347,
          0.011368099047146607,
          0.5026534597838216,
          0.07068828011460566,
          0.009694729944802005,
          0.02844082296003944,
          0.4949212057130719,
          0.006870273310830418,
          0.006198337271506287,
          0.0019097520620981927,
          0.2985391756871158,
          0.35940542875222287,
          0.0009037907148838954,
          0.004365640842371933,
          0.004182989833813617,
          0.008346176371974691,
          0.00901843149502594,
          0.18293671635730946,
          0.0005804816916659611,
          0.041718848843037004,
          0.2511691722496171,
          0.37271699947866654,
          0.021366660298222914,
          0.4616974923690147,
          0.008469021768814821,
          0.00033912357176249904,
          0.0043857065845880625,
          0.00031858122207479764,
          0.022338568935427575,
          0.019739085183124876,
          0.0004915927136060184,
          0.00016621628977815528,
          0.004698867833900243,
          0.0026871633514135105,
          0.05506029155278025,
          0.004581267438563055,
          0.006614023197422428,
          0.0011090773097865868,
          0.0003758262136636452,
          0.006784177155126551,
          0.0003858170350897838,
          0.1165722084273177,
          0.001321603898491209,
          0.01899825257830681,
          4.743535983515264e-05
         ],
         "type": "choropleth",
         "z": [
          0,
          0,
          0,
          0,
          0,
          0,
          0,
          0,
          0,
          0,
          0,
          0,
          0,
          0,
          0,
          0,
          0,
          0,
          0,
          0,
          0,
          0,
          0,
          0,
          0,
          0,
          0,
          0,
          0,
          0,
          0,
          1,
          0,
          0,
          0,
          0,
          0,
          0,
          0,
          0,
          0,
          0,
          0,
          0,
          0,
          0,
          0,
          0,
          0,
          0,
          0,
          0,
          0,
          0,
          0,
          0,
          0,
          0,
          0,
          1,
          0,
          0,
          0,
          0,
          0,
          0,
          0,
          0,
          0,
          0,
          0,
          0,
          0,
          0,
          0,
          0,
          0,
          0,
          0,
          0,
          0,
          0,
          0,
          0,
          0,
          0,
          0,
          0,
          0,
          0,
          0,
          0,
          0,
          0,
          0,
          0,
          0,
          0,
          0,
          0,
          0,
          0,
          0,
          0,
          0,
          0,
          0,
          0,
          0,
          0,
          0,
          0,
          0,
          0,
          0,
          0,
          0,
          0,
          0,
          0,
          0,
          0,
          0,
          0,
          0,
          0,
          0,
          0,
          0,
          0,
          0,
          0,
          0,
          0,
          0,
          0,
          0,
          0,
          0,
          0,
          0,
          0,
          0,
          0,
          0,
          0,
          0,
          0,
          0,
          0,
          0,
          0,
          0,
          0,
          0,
          0,
          0,
          0
         ]
        }
       ],
       "layout": {
        "geo": {
         "projection": {
          "type": "mercator"
         },
         "showframe": false
        },
        "template": {
         "data": {
          "bar": [
           {
            "error_x": {
             "color": "#2a3f5f"
            },
            "error_y": {
             "color": "#2a3f5f"
            },
            "marker": {
             "line": {
              "color": "#E5ECF6",
              "width": 0.5
             }
            },
            "type": "bar"
           }
          ],
          "barpolar": [
           {
            "marker": {
             "line": {
              "color": "#E5ECF6",
              "width": 0.5
             }
            },
            "type": "barpolar"
           }
          ],
          "carpet": [
           {
            "aaxis": {
             "endlinecolor": "#2a3f5f",
             "gridcolor": "white",
             "linecolor": "white",
             "minorgridcolor": "white",
             "startlinecolor": "#2a3f5f"
            },
            "baxis": {
             "endlinecolor": "#2a3f5f",
             "gridcolor": "white",
             "linecolor": "white",
             "minorgridcolor": "white",
             "startlinecolor": "#2a3f5f"
            },
            "type": "carpet"
           }
          ],
          "choropleth": [
           {
            "colorbar": {
             "outlinewidth": 0,
             "ticks": ""
            },
            "type": "choropleth"
           }
          ],
          "contour": [
           {
            "colorbar": {
             "outlinewidth": 0,
             "ticks": ""
            },
            "colorscale": [
             [
              0,
              "#0d0887"
             ],
             [
              0.1111111111111111,
              "#46039f"
             ],
             [
              0.2222222222222222,
              "#7201a8"
             ],
             [
              0.3333333333333333,
              "#9c179e"
             ],
             [
              0.4444444444444444,
              "#bd3786"
             ],
             [
              0.5555555555555556,
              "#d8576b"
             ],
             [
              0.6666666666666666,
              "#ed7953"
             ],
             [
              0.7777777777777778,
              "#fb9f3a"
             ],
             [
              0.8888888888888888,
              "#fdca26"
             ],
             [
              1,
              "#f0f921"
             ]
            ],
            "type": "contour"
           }
          ],
          "contourcarpet": [
           {
            "colorbar": {
             "outlinewidth": 0,
             "ticks": ""
            },
            "type": "contourcarpet"
           }
          ],
          "heatmap": [
           {
            "colorbar": {
             "outlinewidth": 0,
             "ticks": ""
            },
            "colorscale": [
             [
              0,
              "#0d0887"
             ],
             [
              0.1111111111111111,
              "#46039f"
             ],
             [
              0.2222222222222222,
              "#7201a8"
             ],
             [
              0.3333333333333333,
              "#9c179e"
             ],
             [
              0.4444444444444444,
              "#bd3786"
             ],
             [
              0.5555555555555556,
              "#d8576b"
             ],
             [
              0.6666666666666666,
              "#ed7953"
             ],
             [
              0.7777777777777778,
              "#fb9f3a"
             ],
             [
              0.8888888888888888,
              "#fdca26"
             ],
             [
              1,
              "#f0f921"
             ]
            ],
            "type": "heatmap"
           }
          ],
          "heatmapgl": [
           {
            "colorbar": {
             "outlinewidth": 0,
             "ticks": ""
            },
            "colorscale": [
             [
              0,
              "#0d0887"
             ],
             [
              0.1111111111111111,
              "#46039f"
             ],
             [
              0.2222222222222222,
              "#7201a8"
             ],
             [
              0.3333333333333333,
              "#9c179e"
             ],
             [
              0.4444444444444444,
              "#bd3786"
             ],
             [
              0.5555555555555556,
              "#d8576b"
             ],
             [
              0.6666666666666666,
              "#ed7953"
             ],
             [
              0.7777777777777778,
              "#fb9f3a"
             ],
             [
              0.8888888888888888,
              "#fdca26"
             ],
             [
              1,
              "#f0f921"
             ]
            ],
            "type": "heatmapgl"
           }
          ],
          "histogram": [
           {
            "marker": {
             "colorbar": {
              "outlinewidth": 0,
              "ticks": ""
             }
            },
            "type": "histogram"
           }
          ],
          "histogram2d": [
           {
            "colorbar": {
             "outlinewidth": 0,
             "ticks": ""
            },
            "colorscale": [
             [
              0,
              "#0d0887"
             ],
             [
              0.1111111111111111,
              "#46039f"
             ],
             [
              0.2222222222222222,
              "#7201a8"
             ],
             [
              0.3333333333333333,
              "#9c179e"
             ],
             [
              0.4444444444444444,
              "#bd3786"
             ],
             [
              0.5555555555555556,
              "#d8576b"
             ],
             [
              0.6666666666666666,
              "#ed7953"
             ],
             [
              0.7777777777777778,
              "#fb9f3a"
             ],
             [
              0.8888888888888888,
              "#fdca26"
             ],
             [
              1,
              "#f0f921"
             ]
            ],
            "type": "histogram2d"
           }
          ],
          "histogram2dcontour": [
           {
            "colorbar": {
             "outlinewidth": 0,
             "ticks": ""
            },
            "colorscale": [
             [
              0,
              "#0d0887"
             ],
             [
              0.1111111111111111,
              "#46039f"
             ],
             [
              0.2222222222222222,
              "#7201a8"
             ],
             [
              0.3333333333333333,
              "#9c179e"
             ],
             [
              0.4444444444444444,
              "#bd3786"
             ],
             [
              0.5555555555555556,
              "#d8576b"
             ],
             [
              0.6666666666666666,
              "#ed7953"
             ],
             [
              0.7777777777777778,
              "#fb9f3a"
             ],
             [
              0.8888888888888888,
              "#fdca26"
             ],
             [
              1,
              "#f0f921"
             ]
            ],
            "type": "histogram2dcontour"
           }
          ],
          "mesh3d": [
           {
            "colorbar": {
             "outlinewidth": 0,
             "ticks": ""
            },
            "type": "mesh3d"
           }
          ],
          "parcoords": [
           {
            "line": {
             "colorbar": {
              "outlinewidth": 0,
              "ticks": ""
             }
            },
            "type": "parcoords"
           }
          ],
          "pie": [
           {
            "automargin": true,
            "type": "pie"
           }
          ],
          "scatter": [
           {
            "marker": {
             "colorbar": {
              "outlinewidth": 0,
              "ticks": ""
             }
            },
            "type": "scatter"
           }
          ],
          "scatter3d": [
           {
            "line": {
             "colorbar": {
              "outlinewidth": 0,
              "ticks": ""
             }
            },
            "marker": {
             "colorbar": {
              "outlinewidth": 0,
              "ticks": ""
             }
            },
            "type": "scatter3d"
           }
          ],
          "scattercarpet": [
           {
            "marker": {
             "colorbar": {
              "outlinewidth": 0,
              "ticks": ""
             }
            },
            "type": "scattercarpet"
           }
          ],
          "scattergeo": [
           {
            "marker": {
             "colorbar": {
              "outlinewidth": 0,
              "ticks": ""
             }
            },
            "type": "scattergeo"
           }
          ],
          "scattergl": [
           {
            "marker": {
             "colorbar": {
              "outlinewidth": 0,
              "ticks": ""
             }
            },
            "type": "scattergl"
           }
          ],
          "scattermapbox": [
           {
            "marker": {
             "colorbar": {
              "outlinewidth": 0,
              "ticks": ""
             }
            },
            "type": "scattermapbox"
           }
          ],
          "scatterpolar": [
           {
            "marker": {
             "colorbar": {
              "outlinewidth": 0,
              "ticks": ""
             }
            },
            "type": "scatterpolar"
           }
          ],
          "scatterpolargl": [
           {
            "marker": {
             "colorbar": {
              "outlinewidth": 0,
              "ticks": ""
             }
            },
            "type": "scatterpolargl"
           }
          ],
          "scatterternary": [
           {
            "marker": {
             "colorbar": {
              "outlinewidth": 0,
              "ticks": ""
             }
            },
            "type": "scatterternary"
           }
          ],
          "surface": [
           {
            "colorbar": {
             "outlinewidth": 0,
             "ticks": ""
            },
            "colorscale": [
             [
              0,
              "#0d0887"
             ],
             [
              0.1111111111111111,
              "#46039f"
             ],
             [
              0.2222222222222222,
              "#7201a8"
             ],
             [
              0.3333333333333333,
              "#9c179e"
             ],
             [
              0.4444444444444444,
              "#bd3786"
             ],
             [
              0.5555555555555556,
              "#d8576b"
             ],
             [
              0.6666666666666666,
              "#ed7953"
             ],
             [
              0.7777777777777778,
              "#fb9f3a"
             ],
             [
              0.8888888888888888,
              "#fdca26"
             ],
             [
              1,
              "#f0f921"
             ]
            ],
            "type": "surface"
           }
          ],
          "table": [
           {
            "cells": {
             "fill": {
              "color": "#EBF0F8"
             },
             "line": {
              "color": "white"
             }
            },
            "header": {
             "fill": {
              "color": "#C8D4E3"
             },
             "line": {
              "color": "white"
             }
            },
            "type": "table"
           }
          ]
         },
         "layout": {
          "annotationdefaults": {
           "arrowcolor": "#2a3f5f",
           "arrowhead": 0,
           "arrowwidth": 1
          },
          "coloraxis": {
           "colorbar": {
            "outlinewidth": 0,
            "ticks": ""
           }
          },
          "colorscale": {
           "diverging": [
            [
             0,
             "#8e0152"
            ],
            [
             0.1,
             "#c51b7d"
            ],
            [
             0.2,
             "#de77ae"
            ],
            [
             0.3,
             "#f1b6da"
            ],
            [
             0.4,
             "#fde0ef"
            ],
            [
             0.5,
             "#f7f7f7"
            ],
            [
             0.6,
             "#e6f5d0"
            ],
            [
             0.7,
             "#b8e186"
            ],
            [
             0.8,
             "#7fbc41"
            ],
            [
             0.9,
             "#4d9221"
            ],
            [
             1,
             "#276419"
            ]
           ],
           "sequential": [
            [
             0,
             "#0d0887"
            ],
            [
             0.1111111111111111,
             "#46039f"
            ],
            [
             0.2222222222222222,
             "#7201a8"
            ],
            [
             0.3333333333333333,
             "#9c179e"
            ],
            [
             0.4444444444444444,
             "#bd3786"
            ],
            [
             0.5555555555555556,
             "#d8576b"
            ],
            [
             0.6666666666666666,
             "#ed7953"
            ],
            [
             0.7777777777777778,
             "#fb9f3a"
            ],
            [
             0.8888888888888888,
             "#fdca26"
            ],
            [
             1,
             "#f0f921"
            ]
           ],
           "sequentialminus": [
            [
             0,
             "#0d0887"
            ],
            [
             0.1111111111111111,
             "#46039f"
            ],
            [
             0.2222222222222222,
             "#7201a8"
            ],
            [
             0.3333333333333333,
             "#9c179e"
            ],
            [
             0.4444444444444444,
             "#bd3786"
            ],
            [
             0.5555555555555556,
             "#d8576b"
            ],
            [
             0.6666666666666666,
             "#ed7953"
            ],
            [
             0.7777777777777778,
             "#fb9f3a"
            ],
            [
             0.8888888888888888,
             "#fdca26"
            ],
            [
             1,
             "#f0f921"
            ]
           ]
          },
          "colorway": [
           "#636efa",
           "#EF553B",
           "#00cc96",
           "#ab63fa",
           "#FFA15A",
           "#19d3f3",
           "#FF6692",
           "#B6E880",
           "#FF97FF",
           "#FECB52"
          ],
          "font": {
           "color": "#2a3f5f"
          },
          "geo": {
           "bgcolor": "white",
           "lakecolor": "white",
           "landcolor": "#E5ECF6",
           "showlakes": true,
           "showland": true,
           "subunitcolor": "white"
          },
          "hoverlabel": {
           "align": "left"
          },
          "hovermode": "closest",
          "mapbox": {
           "style": "light"
          },
          "paper_bgcolor": "white",
          "plot_bgcolor": "#E5ECF6",
          "polar": {
           "angularaxis": {
            "gridcolor": "white",
            "linecolor": "white",
            "ticks": ""
           },
           "bgcolor": "#E5ECF6",
           "radialaxis": {
            "gridcolor": "white",
            "linecolor": "white",
            "ticks": ""
           }
          },
          "scene": {
           "xaxis": {
            "backgroundcolor": "#E5ECF6",
            "gridcolor": "white",
            "gridwidth": 2,
            "linecolor": "white",
            "showbackground": true,
            "ticks": "",
            "zerolinecolor": "white"
           },
           "yaxis": {
            "backgroundcolor": "#E5ECF6",
            "gridcolor": "white",
            "gridwidth": 2,
            "linecolor": "white",
            "showbackground": true,
            "ticks": "",
            "zerolinecolor": "white"
           },
           "zaxis": {
            "backgroundcolor": "#E5ECF6",
            "gridcolor": "white",
            "gridwidth": 2,
            "linecolor": "white",
            "showbackground": true,
            "ticks": "",
            "zerolinecolor": "white"
           }
          },
          "shapedefaults": {
           "line": {
            "color": "#2a3f5f"
           }
          },
          "ternary": {
           "aaxis": {
            "gridcolor": "white",
            "linecolor": "white",
            "ticks": ""
           },
           "baxis": {
            "gridcolor": "white",
            "linecolor": "white",
            "ticks": ""
           },
           "bgcolor": "#E5ECF6",
           "caxis": {
            "gridcolor": "white",
            "linecolor": "white",
            "ticks": ""
           }
          },
          "title": {
           "x": 0.05
          },
          "xaxis": {
           "automargin": true,
           "gridcolor": "white",
           "linecolor": "white",
           "ticks": "",
           "title": {
            "standoff": 15
           },
           "zerolinecolor": "white",
           "zerolinewidth": 2
          },
          "yaxis": {
           "automargin": true,
           "gridcolor": "white",
           "linecolor": "white",
           "ticks": "",
           "title": {
            "standoff": 15
           },
           "zerolinecolor": "white",
           "zerolinewidth": 2
          }
         }
        },
        "title": {
         "text": "Clustering of Countries based on K-Means"
        }
       }
      },
      "text/html": [
       "<div>\n",
       "        \n",
       "        \n",
       "            <div id=\"e482dd7d-3831-4bbe-8175-f405204ce233\" class=\"plotly-graph-div\" style=\"height:525px; width:100%;\"></div>\n",
       "            <script type=\"text/javascript\">\n",
       "                require([\"plotly\"], function(Plotly) {\n",
       "                    window.PLOTLYENV=window.PLOTLYENV || {};\n",
       "                    \n",
       "                if (document.getElementById(\"e482dd7d-3831-4bbe-8175-f405204ce233\")) {\n",
       "                    Plotly.newPlot(\n",
       "                        'e482dd7d-3831-4bbe-8175-f405204ce233',\n",
       "                        [{\"colorbar\": {\"title\": {\"text\": \"Cluster Group\"}}, \"locationmode\": \"country names\", \"locations\": [0.019024875077967823, 0.03307312090249151, 0.017052493238618942, 0.9882346830117134, 0.0001622862260344627, 0.025964314645950604, 0.01881356038101067, 0.16339315720434072, 0.028291591361185794, 0.1840276155670011, 0.034075132296424476, 0.4577431808436008, 0.014793372561655409, 0.030700423177424024, 0.322370466849841, 0.48594206234864334, 0.002951663763181486, 0.0027836912806835684, 0.03754907672254958, 0.06931555998939809, 0.1219118791006987, 0.0328700444328402, 0.03181477905383274, 0.004030066523943582, 0.002271622626968122, 0.0007507785635242973, 0.013994950951642784, 0.21428977165784285, 0.007007577827509436, 0.0033532003454507056, 0.24592133336465705, 0.00603584327184738, 0.03282060743401361, 0.017321936592511043, 0.01467551325166296, 0.05450307166884834, 0.07710644810029724, 0.19272871129632582, 0.11974030703390791, 0.1965657823703871, 0.02200679547416935, 0.054928516532795915, 0.1349493977580548, 0.0003222718436427837, 0.00012466221733361646, 0.11567348529831702, 0.26882468960625605, 0.06757027757133925, 0.018810969612904592, 0.21295378409192256, 0.019266231707829998, 0.026426317630547033, 0.01108546727128846, 0.022522381011989542, 0.01591776165462565, 0.004791796875280945, 0.02918376614937624, 0.03616159640507698, 0.5108853739924756, 0.007417323283026876, 0.006728599294856991, 0.0092471171058657, 0.4971946510895445, 0.1873620930337281, 0.3738487591225413, 0.017718081472508865, 0.01288636369024991, 0.0063177913322916175, 0.036946372212125045, 0.0017745603925514385, 0.3792561783516774, 0.019231985829063075, 0.052356455618434036, 0.013593374142657424, 0.004752045921779664, 0.05521957007263498, 0.6492310222880171, 0.0012260889802473258, 0.022014942947804348, 0.21446743818063352, 0.11513938468522378, 0.0018395215063909747, 0.02623877442794335, 0.04091661587849028, 0.2268251609634563, 0.004416114021540542, 0.0513292533969985, 0.01929549355302367, 0.0006535266955443775, 0.0013350958497352825, 0.2573233956358379, 0.030964676719686016, 0.0003866669203201664, 0.0040502700447374385, 0.00315252492485759, 0.155442970107208, 0.11137838149549342, 0.019850149162384964, 0.2328536203997584, 9.295498794141419e-05, 0.011328233998761657, 0.29676526393736696, 0.011924773376329776, 0.049730412971777306, 0.28402864226938196, 1.2211698195009701, 0.08751604388028549, 2.013142445005609, 0.002414253557914732, 0.015425097541057978, 1.9357703122687582, 0.17016347236391796, 0.016046059254362838, 0.07409783684735347, 0.011368099047146607, 0.5026534597838216, 0.07068828011460566, 0.009694729944802005, 0.02844082296003944, 0.4949212057130719, 0.006870273310830418, 0.006198337271506287, 0.0019097520620981927, 0.2985391756871158, 0.35940542875222287, 0.0009037907148838954, 0.004365640842371933, 0.004182989833813617, 0.008346176371974691, 0.00901843149502594, 0.18293671635730946, 0.0005804816916659611, 0.041718848843037004, 0.2511691722496171, 0.37271699947866654, 0.021366660298222914, 0.4616974923690147, 0.008469021768814821, 0.00033912357176249904, 0.0043857065845880625, 0.00031858122207479764, 0.022338568935427575, 0.019739085183124876, 0.0004915927136060184, 0.00016621628977815528, 0.004698867833900243, 0.0026871633514135105, 0.05506029155278025, 0.004581267438563055, 0.006614023197422428, 0.0011090773097865868, 0.0003758262136636452, 0.006784177155126551, 0.0003858170350897838, 0.1165722084273177, 0.001321603898491209, 0.01899825257830681, 4.743535983515264e-05], \"text\": [0.019024875077967823, 0.03307312090249151, 0.017052493238618942, 0.9882346830117134, 0.0001622862260344627, 0.025964314645950604, 0.01881356038101067, 0.16339315720434072, 0.028291591361185794, 0.1840276155670011, 0.034075132296424476, 0.4577431808436008, 0.014793372561655409, 0.030700423177424024, 0.322370466849841, 0.48594206234864334, 0.002951663763181486, 0.0027836912806835684, 0.03754907672254958, 0.06931555998939809, 0.1219118791006987, 0.0328700444328402, 0.03181477905383274, 0.004030066523943582, 0.002271622626968122, 0.0007507785635242973, 0.013994950951642784, 0.21428977165784285, 0.007007577827509436, 0.0033532003454507056, 0.24592133336465705, 0.00603584327184738, 0.03282060743401361, 0.017321936592511043, 0.01467551325166296, 0.05450307166884834, 0.07710644810029724, 0.19272871129632582, 0.11974030703390791, 0.1965657823703871, 0.02200679547416935, 0.054928516532795915, 0.1349493977580548, 0.0003222718436427837, 0.00012466221733361646, 0.11567348529831702, 0.26882468960625605, 0.06757027757133925, 0.018810969612904592, 0.21295378409192256, 0.019266231707829998, 0.026426317630547033, 0.01108546727128846, 0.022522381011989542, 0.01591776165462565, 0.004791796875280945, 0.02918376614937624, 0.03616159640507698, 0.5108853739924756, 0.007417323283026876, 0.006728599294856991, 0.0092471171058657, 0.4971946510895445, 0.1873620930337281, 0.3738487591225413, 0.017718081472508865, 0.01288636369024991, 0.0063177913322916175, 0.036946372212125045, 0.0017745603925514385, 0.3792561783516774, 0.019231985829063075, 0.052356455618434036, 0.013593374142657424, 0.004752045921779664, 0.05521957007263498, 0.6492310222880171, 0.0012260889802473258, 0.022014942947804348, 0.21446743818063352, 0.11513938468522378, 0.0018395215063909747, 0.02623877442794335, 0.04091661587849028, 0.2268251609634563, 0.004416114021540542, 0.0513292533969985, 0.01929549355302367, 0.0006535266955443775, 0.0013350958497352825, 0.2573233956358379, 0.030964676719686016, 0.0003866669203201664, 0.0040502700447374385, 0.00315252492485759, 0.155442970107208, 0.11137838149549342, 0.019850149162384964, 0.2328536203997584, 9.295498794141419e-05, 0.011328233998761657, 0.29676526393736696, 0.011924773376329776, 0.049730412971777306, 0.28402864226938196, 1.2211698195009701, 0.08751604388028549, 2.013142445005609, 0.002414253557914732, 0.015425097541057978, 1.9357703122687582, 0.17016347236391796, 0.016046059254362838, 0.07409783684735347, 0.011368099047146607, 0.5026534597838216, 0.07068828011460566, 0.009694729944802005, 0.02844082296003944, 0.4949212057130719, 0.006870273310830418, 0.006198337271506287, 0.0019097520620981927, 0.2985391756871158, 0.35940542875222287, 0.0009037907148838954, 0.004365640842371933, 0.004182989833813617, 0.008346176371974691, 0.00901843149502594, 0.18293671635730946, 0.0005804816916659611, 0.041718848843037004, 0.2511691722496171, 0.37271699947866654, 0.021366660298222914, 0.4616974923690147, 0.008469021768814821, 0.00033912357176249904, 0.0043857065845880625, 0.00031858122207479764, 0.022338568935427575, 0.019739085183124876, 0.0004915927136060184, 0.00016621628977815528, 0.004698867833900243, 0.0026871633514135105, 0.05506029155278025, 0.004581267438563055, 0.006614023197422428, 0.0011090773097865868, 0.0003758262136636452, 0.006784177155126551, 0.0003858170350897838, 0.1165722084273177, 0.001321603898491209, 0.01899825257830681, 4.743535983515264e-05], \"type\": \"choropleth\", \"z\": [0, 0, 0, 0, 0, 0, 0, 0, 0, 0, 0, 0, 0, 0, 0, 0, 0, 0, 0, 0, 0, 0, 0, 0, 0, 0, 0, 0, 0, 0, 0, 1, 0, 0, 0, 0, 0, 0, 0, 0, 0, 0, 0, 0, 0, 0, 0, 0, 0, 0, 0, 0, 0, 0, 0, 0, 0, 0, 0, 1, 0, 0, 0, 0, 0, 0, 0, 0, 0, 0, 0, 0, 0, 0, 0, 0, 0, 0, 0, 0, 0, 0, 0, 0, 0, 0, 0, 0, 0, 0, 0, 0, 0, 0, 0, 0, 0, 0, 0, 0, 0, 0, 0, 0, 0, 0, 0, 0, 0, 0, 0, 0, 0, 0, 0, 0, 0, 0, 0, 0, 0, 0, 0, 0, 0, 0, 0, 0, 0, 0, 0, 0, 0, 0, 0, 0, 0, 0, 0, 0, 0, 0, 0, 0, 0, 0, 0, 0, 0, 0, 0, 0, 0, 0, 0, 0, 0, 0]}],\n",
       "                        {\"geo\": {\"projection\": {\"type\": \"mercator\"}, \"showframe\": false}, \"template\": {\"data\": {\"bar\": [{\"error_x\": {\"color\": \"#2a3f5f\"}, \"error_y\": {\"color\": \"#2a3f5f\"}, \"marker\": {\"line\": {\"color\": \"#E5ECF6\", \"width\": 0.5}}, \"type\": \"bar\"}], \"barpolar\": [{\"marker\": {\"line\": {\"color\": \"#E5ECF6\", \"width\": 0.5}}, \"type\": \"barpolar\"}], \"carpet\": [{\"aaxis\": {\"endlinecolor\": \"#2a3f5f\", \"gridcolor\": \"white\", \"linecolor\": \"white\", \"minorgridcolor\": \"white\", \"startlinecolor\": \"#2a3f5f\"}, \"baxis\": {\"endlinecolor\": \"#2a3f5f\", \"gridcolor\": \"white\", \"linecolor\": \"white\", \"minorgridcolor\": \"white\", \"startlinecolor\": \"#2a3f5f\"}, \"type\": \"carpet\"}], \"choropleth\": [{\"colorbar\": {\"outlinewidth\": 0, \"ticks\": \"\"}, \"type\": \"choropleth\"}], \"contour\": [{\"colorbar\": {\"outlinewidth\": 0, \"ticks\": \"\"}, \"colorscale\": [[0.0, \"#0d0887\"], [0.1111111111111111, \"#46039f\"], [0.2222222222222222, \"#7201a8\"], [0.3333333333333333, \"#9c179e\"], [0.4444444444444444, \"#bd3786\"], [0.5555555555555556, \"#d8576b\"], [0.6666666666666666, \"#ed7953\"], [0.7777777777777778, \"#fb9f3a\"], [0.8888888888888888, \"#fdca26\"], [1.0, \"#f0f921\"]], \"type\": \"contour\"}], \"contourcarpet\": [{\"colorbar\": {\"outlinewidth\": 0, \"ticks\": \"\"}, \"type\": \"contourcarpet\"}], \"heatmap\": [{\"colorbar\": {\"outlinewidth\": 0, \"ticks\": \"\"}, \"colorscale\": [[0.0, \"#0d0887\"], [0.1111111111111111, \"#46039f\"], [0.2222222222222222, \"#7201a8\"], [0.3333333333333333, \"#9c179e\"], [0.4444444444444444, \"#bd3786\"], [0.5555555555555556, \"#d8576b\"], [0.6666666666666666, \"#ed7953\"], [0.7777777777777778, \"#fb9f3a\"], [0.8888888888888888, \"#fdca26\"], [1.0, \"#f0f921\"]], \"type\": \"heatmap\"}], \"heatmapgl\": [{\"colorbar\": {\"outlinewidth\": 0, \"ticks\": \"\"}, \"colorscale\": [[0.0, \"#0d0887\"], [0.1111111111111111, \"#46039f\"], [0.2222222222222222, \"#7201a8\"], [0.3333333333333333, \"#9c179e\"], [0.4444444444444444, \"#bd3786\"], [0.5555555555555556, \"#d8576b\"], [0.6666666666666666, \"#ed7953\"], [0.7777777777777778, \"#fb9f3a\"], [0.8888888888888888, \"#fdca26\"], [1.0, \"#f0f921\"]], \"type\": \"heatmapgl\"}], \"histogram\": [{\"marker\": {\"colorbar\": {\"outlinewidth\": 0, \"ticks\": \"\"}}, \"type\": \"histogram\"}], \"histogram2d\": [{\"colorbar\": {\"outlinewidth\": 0, \"ticks\": \"\"}, \"colorscale\": [[0.0, \"#0d0887\"], [0.1111111111111111, \"#46039f\"], [0.2222222222222222, \"#7201a8\"], [0.3333333333333333, \"#9c179e\"], [0.4444444444444444, \"#bd3786\"], [0.5555555555555556, \"#d8576b\"], [0.6666666666666666, \"#ed7953\"], [0.7777777777777778, \"#fb9f3a\"], [0.8888888888888888, \"#fdca26\"], [1.0, \"#f0f921\"]], \"type\": \"histogram2d\"}], \"histogram2dcontour\": [{\"colorbar\": {\"outlinewidth\": 0, \"ticks\": \"\"}, \"colorscale\": [[0.0, \"#0d0887\"], [0.1111111111111111, \"#46039f\"], [0.2222222222222222, \"#7201a8\"], [0.3333333333333333, \"#9c179e\"], [0.4444444444444444, \"#bd3786\"], [0.5555555555555556, \"#d8576b\"], [0.6666666666666666, \"#ed7953\"], [0.7777777777777778, \"#fb9f3a\"], [0.8888888888888888, \"#fdca26\"], [1.0, \"#f0f921\"]], \"type\": \"histogram2dcontour\"}], \"mesh3d\": [{\"colorbar\": {\"outlinewidth\": 0, \"ticks\": \"\"}, \"type\": \"mesh3d\"}], \"parcoords\": [{\"line\": {\"colorbar\": {\"outlinewidth\": 0, \"ticks\": \"\"}}, \"type\": \"parcoords\"}], \"pie\": [{\"automargin\": true, \"type\": \"pie\"}], \"scatter\": [{\"marker\": {\"colorbar\": {\"outlinewidth\": 0, \"ticks\": \"\"}}, \"type\": \"scatter\"}], \"scatter3d\": [{\"line\": {\"colorbar\": {\"outlinewidth\": 0, \"ticks\": \"\"}}, \"marker\": {\"colorbar\": {\"outlinewidth\": 0, \"ticks\": \"\"}}, \"type\": \"scatter3d\"}], \"scattercarpet\": [{\"marker\": {\"colorbar\": {\"outlinewidth\": 0, \"ticks\": \"\"}}, \"type\": \"scattercarpet\"}], \"scattergeo\": [{\"marker\": {\"colorbar\": {\"outlinewidth\": 0, \"ticks\": \"\"}}, \"type\": \"scattergeo\"}], \"scattergl\": [{\"marker\": {\"colorbar\": {\"outlinewidth\": 0, \"ticks\": \"\"}}, \"type\": \"scattergl\"}], \"scattermapbox\": [{\"marker\": {\"colorbar\": {\"outlinewidth\": 0, \"ticks\": \"\"}}, \"type\": \"scattermapbox\"}], \"scatterpolar\": [{\"marker\": {\"colorbar\": {\"outlinewidth\": 0, \"ticks\": \"\"}}, \"type\": \"scatterpolar\"}], \"scatterpolargl\": [{\"marker\": {\"colorbar\": {\"outlinewidth\": 0, \"ticks\": \"\"}}, \"type\": \"scatterpolargl\"}], \"scatterternary\": [{\"marker\": {\"colorbar\": {\"outlinewidth\": 0, \"ticks\": \"\"}}, \"type\": \"scatterternary\"}], \"surface\": [{\"colorbar\": {\"outlinewidth\": 0, \"ticks\": \"\"}, \"colorscale\": [[0.0, \"#0d0887\"], [0.1111111111111111, \"#46039f\"], [0.2222222222222222, \"#7201a8\"], [0.3333333333333333, \"#9c179e\"], [0.4444444444444444, \"#bd3786\"], [0.5555555555555556, \"#d8576b\"], [0.6666666666666666, \"#ed7953\"], [0.7777777777777778, \"#fb9f3a\"], [0.8888888888888888, \"#fdca26\"], [1.0, \"#f0f921\"]], \"type\": \"surface\"}], \"table\": [{\"cells\": {\"fill\": {\"color\": \"#EBF0F8\"}, \"line\": {\"color\": \"white\"}}, \"header\": {\"fill\": {\"color\": \"#C8D4E3\"}, \"line\": {\"color\": \"white\"}}, \"type\": \"table\"}]}, \"layout\": {\"annotationdefaults\": {\"arrowcolor\": \"#2a3f5f\", \"arrowhead\": 0, \"arrowwidth\": 1}, \"coloraxis\": {\"colorbar\": {\"outlinewidth\": 0, \"ticks\": \"\"}}, \"colorscale\": {\"diverging\": [[0, \"#8e0152\"], [0.1, \"#c51b7d\"], [0.2, \"#de77ae\"], [0.3, \"#f1b6da\"], [0.4, \"#fde0ef\"], [0.5, \"#f7f7f7\"], [0.6, \"#e6f5d0\"], [0.7, \"#b8e186\"], [0.8, \"#7fbc41\"], [0.9, \"#4d9221\"], [1, \"#276419\"]], \"sequential\": [[0.0, \"#0d0887\"], [0.1111111111111111, \"#46039f\"], [0.2222222222222222, \"#7201a8\"], [0.3333333333333333, \"#9c179e\"], [0.4444444444444444, \"#bd3786\"], [0.5555555555555556, \"#d8576b\"], [0.6666666666666666, \"#ed7953\"], [0.7777777777777778, \"#fb9f3a\"], [0.8888888888888888, \"#fdca26\"], [1.0, \"#f0f921\"]], \"sequentialminus\": [[0.0, \"#0d0887\"], [0.1111111111111111, \"#46039f\"], [0.2222222222222222, \"#7201a8\"], [0.3333333333333333, \"#9c179e\"], [0.4444444444444444, \"#bd3786\"], [0.5555555555555556, \"#d8576b\"], [0.6666666666666666, \"#ed7953\"], [0.7777777777777778, \"#fb9f3a\"], [0.8888888888888888, \"#fdca26\"], [1.0, \"#f0f921\"]]}, \"colorway\": [\"#636efa\", \"#EF553B\", \"#00cc96\", \"#ab63fa\", \"#FFA15A\", \"#19d3f3\", \"#FF6692\", \"#B6E880\", \"#FF97FF\", \"#FECB52\"], \"font\": {\"color\": \"#2a3f5f\"}, \"geo\": {\"bgcolor\": \"white\", \"lakecolor\": \"white\", \"landcolor\": \"#E5ECF6\", \"showlakes\": true, \"showland\": true, \"subunitcolor\": \"white\"}, \"hoverlabel\": {\"align\": \"left\"}, \"hovermode\": \"closest\", \"mapbox\": {\"style\": \"light\"}, \"paper_bgcolor\": \"white\", \"plot_bgcolor\": \"#E5ECF6\", \"polar\": {\"angularaxis\": {\"gridcolor\": \"white\", \"linecolor\": \"white\", \"ticks\": \"\"}, \"bgcolor\": \"#E5ECF6\", \"radialaxis\": {\"gridcolor\": \"white\", \"linecolor\": \"white\", \"ticks\": \"\"}}, \"scene\": {\"xaxis\": {\"backgroundcolor\": \"#E5ECF6\", \"gridcolor\": \"white\", \"gridwidth\": 2, \"linecolor\": \"white\", \"showbackground\": true, \"ticks\": \"\", \"zerolinecolor\": \"white\"}, \"yaxis\": {\"backgroundcolor\": \"#E5ECF6\", \"gridcolor\": \"white\", \"gridwidth\": 2, \"linecolor\": \"white\", \"showbackground\": true, \"ticks\": \"\", \"zerolinecolor\": \"white\"}, \"zaxis\": {\"backgroundcolor\": \"#E5ECF6\", \"gridcolor\": \"white\", \"gridwidth\": 2, \"linecolor\": \"white\", \"showbackground\": true, \"ticks\": \"\", \"zerolinecolor\": \"white\"}}, \"shapedefaults\": {\"line\": {\"color\": \"#2a3f5f\"}}, \"ternary\": {\"aaxis\": {\"gridcolor\": \"white\", \"linecolor\": \"white\", \"ticks\": \"\"}, \"baxis\": {\"gridcolor\": \"white\", \"linecolor\": \"white\", \"ticks\": \"\"}, \"bgcolor\": \"#E5ECF6\", \"caxis\": {\"gridcolor\": \"white\", \"linecolor\": \"white\", \"ticks\": \"\"}}, \"title\": {\"x\": 0.05}, \"xaxis\": {\"automargin\": true, \"gridcolor\": \"white\", \"linecolor\": \"white\", \"ticks\": \"\", \"title\": {\"standoff\": 15}, \"zerolinecolor\": \"white\", \"zerolinewidth\": 2}, \"yaxis\": {\"automargin\": true, \"gridcolor\": \"white\", \"linecolor\": \"white\", \"ticks\": \"\", \"title\": {\"standoff\": 15}, \"zerolinecolor\": \"white\", \"zerolinewidth\": 2}}}, \"title\": {\"text\": \"Clustering of Countries based on K-Means\"}},\n",
       "                        {\"responsive\": true}\n",
       "                    ).then(function(){\n",
       "                            \n",
       "var gd = document.getElementById('e482dd7d-3831-4bbe-8175-f405204ce233');\n",
       "var x = new MutationObserver(function (mutations, observer) {{\n",
       "        var display = window.getComputedStyle(gd).display;\n",
       "        if (!display || display === 'none') {{\n",
       "            console.log([gd, 'removed!']);\n",
       "            Plotly.purge(gd);\n",
       "            observer.disconnect();\n",
       "        }}\n",
       "}});\n",
       "\n",
       "// Listen for the removal of the full notebook cells\n",
       "var notebookContainer = gd.closest('#notebook-container');\n",
       "if (notebookContainer) {{\n",
       "    x.observe(notebookContainer, {childList: true});\n",
       "}}\n",
       "\n",
       "// Listen for the clearing of the current output cell\n",
       "var outputEl = gd.closest('.output');\n",
       "if (outputEl) {{\n",
       "    x.observe(outputEl, {childList: true});\n",
       "}}\n",
       "\n",
       "                        })\n",
       "                };\n",
       "                });\n",
       "            </script>\n",
       "        </div>"
      ]
     },
     "metadata": {},
     "output_type": "display_data"
    }
   ],
   "source": [
    "#Карта кластеризации( k-средних)\n",
    "df_cl_1.insert(0,'country',df_cl.iloc[:,0])\n",
    "df_cl_1.iloc[:,[0,1,2,3,4,5]]\n",
    "data = [dict(type='choropleth',\n",
    "             locations = df_cl_1['country'],\n",
    "             locationmode = 'country names',\n",
    "             z = df_cl_1['kmeans'],\n",
    "             text = df_cl_1['country'],\n",
    "             colorbar = {'title':'Cluster Group'})]\n",
    "layout = dict(title='Clustering of Countries based on K-Means',\n",
    "              geo=dict(showframe = False,\n",
    "                       projection = {'type':'mercator'}))\n",
    "map1 = go.Figure(data = data, layout=layout)\n",
    "iplot(map1)"
   ]
  },
  {
   "cell_type": "code",
   "execution_count": 542,
   "metadata": {},
   "outputs": [],
   "source": [
    "def do_agglomerative(X, nclust=2):\n",
    "    model = AgglomerativeClustering(n_clusters=nclust, affinity = 'euclidean', linkage = 'ward')\n",
    "    clust_labels1 = model.fit_predict(X)\n",
    "    return (clust_labels1)"
   ]
  },
  {
   "cell_type": "code",
   "execution_count": 549,
   "metadata": {},
   "outputs": [],
   "source": [
    "df_cl = pd.DataFrame(countries_with_gdp_and_capita)\n",
    "df_cl_1 = df_cl[['gdp','per_capita','population','conf_to_pop', 'dead_to_pop']]"
   ]
  },
  {
   "cell_type": "code",
   "execution_count": 550,
   "metadata": {
    "scrolled": false
   },
   "outputs": [],
   "source": [
    "scaler = StandardScaler()\n",
    "s= scaler.fit_transform(df_cl_1)"
   ]
  },
  {
   "cell_type": "code",
   "execution_count": 551,
   "metadata": {},
   "outputs": [],
   "source": [
    "clust_labels1 = do_agglomerative(df_cl_1, 2)\n",
    "agglomerative = pd.DataFrame(clust_labels1)\n",
    "df_cl_1.insert((df_cl_1.shape[1]),'agglomerative',agglomerative)"
   ]
  },
  {
   "cell_type": "code",
   "execution_count": 552,
   "metadata": {},
   "outputs": [
    {
     "data": {
      "image/png": "[encoded data removed]",
      "text/plain": [
       "<Figure size 432x288 with 2 Axes>"
      ]
     },
     "metadata": {},
     "output_type": "display_data"
    }
   ],
   "source": [
    "#Агломеративная_кластеризация\n",
    "plot_clusterization(df_cl_1,agglomerative, \"per_capita\" , \"dead_to_pop\", \"Агломеративная кластеризация\")"
   ]
  },
  {
   "cell_type": "code",
   "execution_count": 553,
   "metadata": {
    "scrolled": false
   },
   "outputs": [
    {
     "data": {
      "application/vnd.plotly.v1+json": {
       "config": {
        "linkText": "Export to plot.ly",
        "plotlyServerURL": "https://plot.ly",
        "showLink": false
       },
       "data": [
        {
         "colorbar": {
          "title": {
           "text": "Cluster Group"
          }
         },
         "locationmode": "country names",
         "locations": [
          0.019024875077967823,
          0.03307312090249151,
          0.017052493238618942,
          0.9882346830117134,
          0.0001622862260344627,
          0.025964314645950604,
          0.01881356038101067,
          0.16339315720434072,
          0.028291591361185794,
          0.1840276155670011,
          0.034075132296424476,
          0.4577431808436008,
          0.014793372561655409,
          0.030700423177424024,
          0.322370466849841,
          0.48594206234864334,
          0.002951663763181486,
          0.0027836912806835684,
          0.03754907672254958,
          0.06931555998939809,
          0.1219118791006987,
          0.0328700444328402,
          0.03181477905383274,
          0.004030066523943582,
          0.002271622626968122,
          0.0007507785635242973,
          0.013994950951642784,
          0.21428977165784285,
          0.007007577827509436,
          0.0033532003454507056,
          0.24592133336465705,
          0.00603584327184738,
          0.03282060743401361,
          0.017321936592511043,
          0.01467551325166296,
          0.05450307166884834,
          0.07710644810029724,
          0.19272871129632582,
          0.11974030703390791,
          0.1965657823703871,
          0.02200679547416935,
          0.054928516532795915,
          0.1349493977580548,
          0.0003222718436427837,
          0.00012466221733361646,
          0.11567348529831702,
          0.26882468960625605,
          0.06757027757133925,
          0.018810969612904592,
          0.21295378409192256,
          0.019266231707829998,
          0.026426317630547033,
          0.01108546727128846,
          0.022522381011989542,
          0.01591776165462565,
          0.004791796875280945,
          0.02918376614937624,
          0.03616159640507698,
          0.5108853739924756,
          0.007417323283026876,
          0.006728599294856991,
          0.0092471171058657,
          0.4971946510895445,
          0.1873620930337281,
          0.3738487591225413,
          0.017718081472508865,
          0.01288636369024991,
          0.0063177913322916175,
          0.036946372212125045,
          0.0017745603925514385,
          0.3792561783516774,
          0.019231985829063075,
          0.052356455618434036,
          0.013593374142657424,
          0.004752045921779664,
          0.05521957007263498,
          0.6492310222880171,
          0.0012260889802473258,
          0.022014942947804348,
          0.21446743818063352,
          0.11513938468522378,
          0.0018395215063909747,
          0.02623877442794335,
          0.04091661587849028,
          0.2268251609634563,
          0.004416114021540542,
          0.0513292533969985,
          0.01929549355302367,
          0.0006535266955443775,
          0.0013350958497352825,
          0.2573233956358379,
          0.030964676719686016,
          0.0003866669203201664,
          0.0040502700447374385,
          0.00315252492485759,
          0.155442970107208,
          0.11137838149549342,
          0.019850149162384964,
          0.2328536203997584,
          9.295498794141419e-05,
          0.011328233998761657,
          0.29676526393736696,
          0.011924773376329776,
          0.049730412971777306,
          0.28402864226938196,
          1.2211698195009701,
          0.08751604388028549,
          2.013142445005609,
          0.002414253557914732,
          0.015425097541057978,
          1.9357703122687582,
          0.17016347236391796,
          0.016046059254362838,
          0.07409783684735347,
          0.011368099047146607,
          0.5026534597838216,
          0.07068828011460566,
          0.009694729944802005,
          0.02844082296003944,
          0.4949212057130719,
          0.006870273310830418,
          0.006198337271506287,
          0.0019097520620981927,
          0.2985391756871158,
          0.35940542875222287,
          0.0009037907148838954,
          0.004365640842371933,
          0.004182989833813617,
          0.008346176371974691,
          0.00901843149502594,
          0.18293671635730946,
          0.0005804816916659611,
          0.041718848843037004,
          0.2511691722496171,
          0.37271699947866654,
          0.021366660298222914,
          0.4616974923690147,
          0.008469021768814821,
          0.00033912357176249904,
          0.0043857065845880625,
          0.00031858122207479764,
          0.022338568935427575,
          0.019739085183124876,
          0.0004915927136060184,
          0.00016621628977815528,
          0.004698867833900243,
          0.0026871633514135105,
          0.05506029155278025,
          0.004581267438563055,
          0.006614023197422428,
          0.0011090773097865868,
          0.0003758262136636452,
          0.006784177155126551,
          0.0003858170350897838,
          0.1165722084273177,
          0.001321603898491209,
          0.01899825257830681,
          4.743535983515264e-05
         ],
         "text": [
          0.019024875077967823,
          0.03307312090249151,
          0.017052493238618942,
          0.9882346830117134,
          0.0001622862260344627,
          0.025964314645950604,
          0.01881356038101067,
          0.16339315720434072,
          0.028291591361185794,
          0.1840276155670011,
          0.034075132296424476,
          0.4577431808436008,
          0.014793372561655409,
          0.030700423177424024,
          0.322370466849841,
          0.48594206234864334,
          0.002951663763181486,
          0.0027836912806835684,
          0.03754907672254958,
          0.06931555998939809,
          0.1219118791006987,
          0.0328700444328402,
          0.03181477905383274,
          0.004030066523943582,
          0.002271622626968122,
          0.0007507785635242973,
          0.013994950951642784,
          0.21428977165784285,
          0.007007577827509436,
          0.0033532003454507056,
          0.24592133336465705,
          0.00603584327184738,
          0.03282060743401361,
          0.017321936592511043,
          0.01467551325166296,
          0.05450307166884834,
          0.07710644810029724,
          0.19272871129632582,
          0.11974030703390791,
          0.1965657823703871,
          0.02200679547416935,
          0.054928516532795915,
          0.1349493977580548,
          0.0003222718436427837,
          0.00012466221733361646,
          0.11567348529831702,
          0.26882468960625605,
          0.06757027757133925,
          0.018810969612904592,
          0.21295378409192256,
          0.019266231707829998,
          0.026426317630547033,
          0.01108546727128846,
          0.022522381011989542,
          0.01591776165462565,
          0.004791796875280945,
          0.02918376614937624,
          0.03616159640507698,
          0.5108853739924756,
          0.007417323283026876,
          0.006728599294856991,
          0.0092471171058657,
          0.4971946510895445,
          0.1873620930337281,
          0.3738487591225413,
          0.017718081472508865,
          0.01288636369024991,
          0.0063177913322916175,
          0.036946372212125045,
          0.0017745603925514385,
          0.3792561783516774,
          0.019231985829063075,
          0.052356455618434036,
          0.013593374142657424,
          0.004752045921779664,
          0.05521957007263498,
          0.6492310222880171,
          0.0012260889802473258,
          0.022014942947804348,
          0.21446743818063352,
          0.11513938468522378,
          0.0018395215063909747,
          0.02623877442794335,
          0.04091661587849028,
          0.2268251609634563,
          0.004416114021540542,
          0.0513292533969985,
          0.01929549355302367,
          0.0006535266955443775,
          0.0013350958497352825,
          0.2573233956358379,
          0.030964676719686016,
          0.0003866669203201664,
          0.0040502700447374385,
          0.00315252492485759,
          0.155442970107208,
          0.11137838149549342,
          0.019850149162384964,
          0.2328536203997584,
          9.295498794141419e-05,
          0.011328233998761657,
          0.29676526393736696,
          0.011924773376329776,
          0.049730412971777306,
          0.28402864226938196,
          1.2211698195009701,
          0.08751604388028549,
          2.013142445005609,
          0.002414253557914732,
          0.015425097541057978,
          1.9357703122687582,
          0.17016347236391796,
          0.016046059254362838,
          0.07409783684735347,
          0.011368099047146607,
          0.5026534597838216,
          0.07068828011460566,
          0.009694729944802005,
          0.02844082296003944,
          0.4949212057130719,
          0.006870273310830418,
          0.006198337271506287,
          0.0019097520620981927,
          0.2985391756871158,
          0.35940542875222287,
          0.0009037907148838954,
          0.004365640842371933,
          0.004182989833813617,
          0.008346176371974691,
          0.00901843149502594,
          0.18293671635730946,
          0.0005804816916659611,
          0.041718848843037004,
          0.2511691722496171,
          0.37271699947866654,
          0.021366660298222914,
          0.4616974923690147,
          0.008469021768814821,
          0.00033912357176249904,
          0.0043857065845880625,
          0.00031858122207479764,
          0.022338568935427575,
          0.019739085183124876,
          0.0004915927136060184,
          0.00016621628977815528,
          0.004698867833900243,
          0.0026871633514135105,
          0.05506029155278025,
          0.004581267438563055,
          0.006614023197422428,
          0.0011090773097865868,
          0.0003758262136636452,
          0.006784177155126551,
          0.0003858170350897838,
          0.1165722084273177,
          0.001321603898491209,
          0.01899825257830681,
          4.743535983515264e-05
         ],
         "type": "choropleth",
         "z": [
          0,
          0,
          0,
          0,
          0,
          0,
          0,
          0,
          0,
          0,
          0,
          0,
          0,
          0,
          0,
          0,
          0,
          0,
          0,
          0,
          0,
          0,
          0,
          0,
          0,
          0,
          0,
          0,
          0,
          0,
          0,
          1,
          0,
          0,
          0,
          0,
          0,
          0,
          0,
          0,
          0,
          0,
          0,
          0,
          0,
          0,
          0,
          0,
          0,
          0,
          0,
          0,
          0,
          0,
          0,
          0,
          0,
          0,
          0,
          1,
          0,
          0,
          0,
          0,
          0,
          0,
          0,
          0,
          0,
          0,
          0,
          0,
          0,
          0,
          0,
          0,
          0,
          0,
          0,
          0,
          0,
          0,
          0,
          0,
          0,
          0,
          0,
          0,
          0,
          0,
          0,
          0,
          0,
          0,
          0,
          0,
          0,
          0,
          0,
          0,
          0,
          0,
          0,
          0,
          0,
          0,
          0,
          0,
          0,
          0,
          0,
          0,
          0,
          0,
          0,
          0,
          0,
          0,
          0,
          0,
          0,
          0,
          0,
          0,
          0,
          0,
          0,
          0,
          0,
          0,
          0,
          0,
          0,
          0,
          0,
          0,
          0,
          0,
          0,
          0,
          0,
          0,
          0,
          0,
          0,
          0,
          0,
          0,
          0,
          0,
          0,
          0,
          0,
          0,
          0,
          0,
          0,
          0
         ]
        }
       ],
       "layout": {
        "geo": {
         "projection": {
          "type": "mercator"
         },
         "showframe": false
        },
        "template": {
         "data": {
          "bar": [
           {
            "error_x": {
             "color": "#2a3f5f"
            },
            "error_y": {
             "color": "#2a3f5f"
            },
            "marker": {
             "line": {
              "color": "#E5ECF6",
              "width": 0.5
             }
            },
            "type": "bar"
           }
          ],
          "barpolar": [
           {
            "marker": {
             "line": {
              "color": "#E5ECF6",
              "width": 0.5
             }
            },
            "type": "barpolar"
           }
          ],
          "carpet": [
           {
            "aaxis": {
             "endlinecolor": "#2a3f5f",
             "gridcolor": "white",
             "linecolor": "white",
             "minorgridcolor": "white",
             "startlinecolor": "#2a3f5f"
            },
            "baxis": {
             "endlinecolor": "#2a3f5f",
             "gridcolor": "white",
             "linecolor": "white",
             "minorgridcolor": "white",
             "startlinecolor": "#2a3f5f"
            },
            "type": "carpet"
           }
          ],
          "choropleth": [
           {
            "colorbar": {
             "outlinewidth": 0,
             "ticks": ""
            },
            "type": "choropleth"
           }
          ],
          "contour": [
           {
            "colorbar": {
             "outlinewidth": 0,
             "ticks": ""
            },
            "colorscale": [
             [
              0,
              "#0d0887"
             ],
             [
              0.1111111111111111,
              "#46039f"
             ],
             [
              0.2222222222222222,
              "#7201a8"
             ],
             [
              0.3333333333333333,
              "#9c179e"
             ],
             [
              0.4444444444444444,
              "#bd3786"
             ],
             [
              0.5555555555555556,
              "#d8576b"
             ],
             [
              0.6666666666666666,
              "#ed7953"
             ],
             [
              0.7777777777777778,
              "#fb9f3a"
             ],
             [
              0.8888888888888888,
              "#fdca26"
             ],
             [
              1,
              "#f0f921"
             ]
            ],
            "type": "contour"
           }
          ],
          "contourcarpet": [
           {
            "colorbar": {
             "outlinewidth": 0,
             "ticks": ""
            },
            "type": "contourcarpet"
           }
          ],
          "heatmap": [
           {
            "colorbar": {
             "outlinewidth": 0,
             "ticks": ""
            },
            "colorscale": [
             [
              0,
              "#0d0887"
             ],
             [
              0.1111111111111111,
              "#46039f"
             ],
             [
              0.2222222222222222,
              "#7201a8"
             ],
             [
              0.3333333333333333,
              "#9c179e"
             ],
             [
              0.4444444444444444,
              "#bd3786"
             ],
             [
              0.5555555555555556,
              "#d8576b"
             ],
             [
              0.6666666666666666,
              "#ed7953"
             ],
             [
              0.7777777777777778,
              "#fb9f3a"
             ],
             [
              0.8888888888888888,
              "#fdca26"
             ],
             [
              1,
              "#f0f921"
             ]
            ],
            "type": "heatmap"
           }
          ],
          "heatmapgl": [
           {
            "colorbar": {
             "outlinewidth": 0,
             "ticks": ""
            },
            "colorscale": [
             [
              0,
              "#0d0887"
             ],
             [
              0.1111111111111111,
              "#46039f"
             ],
             [
              0.2222222222222222,
              "#7201a8"
             ],
             [
              0.3333333333333333,
              "#9c179e"
             ],
             [
              0.4444444444444444,
              "#bd3786"
             ],
             [
              0.5555555555555556,
              "#d8576b"
             ],
             [
              0.6666666666666666,
              "#ed7953"
             ],
             [
              0.7777777777777778,
              "#fb9f3a"
             ],
             [
              0.8888888888888888,
              "#fdca26"
             ],
             [
              1,
              "#f0f921"
             ]
            ],
            "type": "heatmapgl"
           }
          ],
          "histogram": [
           {
            "marker": {
             "colorbar": {
              "outlinewidth": 0,
              "ticks": ""
             }
            },
            "type": "histogram"
           }
          ],
          "histogram2d": [
           {
            "colorbar": {
             "outlinewidth": 0,
             "ticks": ""
            },
            "colorscale": [
             [
              0,
              "#0d0887"
             ],
             [
              0.1111111111111111,
              "#46039f"
             ],
             [
              0.2222222222222222,
              "#7201a8"
             ],
             [
              0.3333333333333333,
              "#9c179e"
             ],
             [
              0.4444444444444444,
              "#bd3786"
             ],
             [
              0.5555555555555556,
              "#d8576b"
             ],
             [
              0.6666666666666666,
              "#ed7953"
             ],
             [
              0.7777777777777778,
              "#fb9f3a"
             ],
             [
              0.8888888888888888,
              "#fdca26"
             ],
             [
              1,
              "#f0f921"
             ]
            ],
            "type": "histogram2d"
           }
          ],
          "histogram2dcontour": [
           {
            "colorbar": {
             "outlinewidth": 0,
             "ticks": ""
            },
            "colorscale": [
             [
              0,
              "#0d0887"
             ],
             [
              0.1111111111111111,
              "#46039f"
             ],
             [
              0.2222222222222222,
              "#7201a8"
             ],
             [
              0.3333333333333333,
              "#9c179e"
             ],
             [
              0.4444444444444444,
              "#bd3786"
             ],
             [
              0.5555555555555556,
              "#d8576b"
             ],
             [
              0.6666666666666666,
              "#ed7953"
             ],
             [
              0.7777777777777778,
              "#fb9f3a"
             ],
             [
              0.8888888888888888,
              "#fdca26"
             ],
             [
              1,
              "#f0f921"
             ]
            ],
            "type": "histogram2dcontour"
           }
          ],
          "mesh3d": [
           {
            "colorbar": {
             "outlinewidth": 0,
             "ticks": ""
            },
            "type": "mesh3d"
           }
          ],
          "parcoords": [
           {
            "line": {
             "colorbar": {
              "outlinewidth": 0,
              "ticks": ""
             }
            },
            "type": "parcoords"
           }
          ],
          "pie": [
           {
            "automargin": true,
            "type": "pie"
           }
          ],
          "scatter": [
           {
            "marker": {
             "colorbar": {
              "outlinewidth": 0,
              "ticks": ""
             }
            },
            "type": "scatter"
           }
          ],
          "scatter3d": [
           {
            "line": {
             "colorbar": {
              "outlinewidth": 0,
              "ticks": ""
             }
            },
            "marker": {
             "colorbar": {
              "outlinewidth": 0,
              "ticks": ""
             }
            },
            "type": "scatter3d"
           }
          ],
          "scattercarpet": [
           {
            "marker": {
             "colorbar": {
              "outlinewidth": 0,
              "ticks": ""
             }
            },
            "type": "scattercarpet"
           }
          ],
          "scattergeo": [
           {
            "marker": {
             "colorbar": {
              "outlinewidth": 0,
              "ticks": ""
             }
            },
            "type": "scattergeo"
           }
          ],
          "scattergl": [
           {
            "marker": {
             "colorbar": {
              "outlinewidth": 0,
              "ticks": ""
             }
            },
            "type": "scattergl"
           }
          ],
          "scattermapbox": [
           {
            "marker": {
             "colorbar": {
              "outlinewidth": 0,
              "ticks": ""
             }
            },
            "type": "scattermapbox"
           }
          ],
          "scatterpolar": [
           {
            "marker": {
             "colorbar": {
              "outlinewidth": 0,
              "ticks": ""
             }
            },
            "type": "scatterpolar"
           }
          ],
          "scatterpolargl": [
           {
            "marker": {
             "colorbar": {
              "outlinewidth": 0,
              "ticks": ""
             }
            },
            "type": "scatterpolargl"
           }
          ],
          "scatterternary": [
           {
            "marker": {
             "colorbar": {
              "outlinewidth": 0,
              "ticks": ""
             }
            },
            "type": "scatterternary"
           }
          ],
          "surface": [
           {
            "colorbar": {
             "outlinewidth": 0,
             "ticks": ""
            },
            "colorscale": [
             [
              0,
              "#0d0887"
             ],
             [
              0.1111111111111111,
              "#46039f"
             ],
             [
              0.2222222222222222,
              "#7201a8"
             ],
             [
              0.3333333333333333,
              "#9c179e"
             ],
             [
              0.4444444444444444,
              "#bd3786"
             ],
             [
              0.5555555555555556,
              "#d8576b"
             ],
             [
              0.6666666666666666,
              "#ed7953"
             ],
             [
              0.7777777777777778,
              "#fb9f3a"
             ],
             [
              0.8888888888888888,
              "#fdca26"
             ],
             [
              1,
              "#f0f921"
             ]
            ],
            "type": "surface"
           }
          ],
          "table": [
           {
            "cells": {
             "fill": {
              "color": "#EBF0F8"
             },
             "line": {
              "color": "white"
             }
            },
            "header": {
             "fill": {
              "color": "#C8D4E3"
             },
             "line": {
              "color": "white"
             }
            },
            "type": "table"
           }
          ]
         },
         "layout": {
          "annotationdefaults": {
           "arrowcolor": "#2a3f5f",
           "arrowhead": 0,
           "arrowwidth": 1
          },
          "coloraxis": {
           "colorbar": {
            "outlinewidth": 0,
            "ticks": ""
           }
          },
          "colorscale": {
           "diverging": [
            [
             0,
             "#8e0152"
            ],
            [
             0.1,
             "#c51b7d"
            ],
            [
             0.2,
             "#de77ae"
            ],
            [
             0.3,
             "#f1b6da"
            ],
            [
             0.4,
             "#fde0ef"
            ],
            [
             0.5,
             "#f7f7f7"
            ],
            [
             0.6,
             "#e6f5d0"
            ],
            [
             0.7,
             "#b8e186"
            ],
            [
             0.8,
             "#7fbc41"
            ],
            [
             0.9,
             "#4d9221"
            ],
            [
             1,
             "#276419"
            ]
           ],
           "sequential": [
            [
             0,
             "#0d0887"
            ],
            [
             0.1111111111111111,
             "#46039f"
            ],
            [
             0.2222222222222222,
             "#7201a8"
            ],
            [
             0.3333333333333333,
             "#9c179e"
            ],
            [
             0.4444444444444444,
             "#bd3786"
            ],
            [
             0.5555555555555556,
             "#d8576b"
            ],
            [
             0.6666666666666666,
             "#ed7953"
            ],
            [
             0.7777777777777778,
             "#fb9f3a"
            ],
            [
             0.8888888888888888,
             "#fdca26"
            ],
            [
             1,
             "#f0f921"
            ]
           ],
           "sequentialminus": [
            [
             0,
             "#0d0887"
            ],
            [
             0.1111111111111111,
             "#46039f"
            ],
            [
             0.2222222222222222,
             "#7201a8"
            ],
            [
             0.3333333333333333,
             "#9c179e"
            ],
            [
             0.4444444444444444,
             "#bd3786"
            ],
            [
             0.5555555555555556,
             "#d8576b"
            ],
            [
             0.6666666666666666,
             "#ed7953"
            ],
            [
             0.7777777777777778,
             "#fb9f3a"
            ],
            [
             0.8888888888888888,
             "#fdca26"
            ],
            [
             1,
             "#f0f921"
            ]
           ]
          },
          "colorway": [
           "#636efa",
           "#EF553B",
           "#00cc96",
           "#ab63fa",
           "#FFA15A",
           "#19d3f3",
           "#FF6692",
           "#B6E880",
           "#FF97FF",
           "#FECB52"
          ],
          "font": {
           "color": "#2a3f5f"
          },
          "geo": {
           "bgcolor": "white",
           "lakecolor": "white",
           "landcolor": "#E5ECF6",
           "showlakes": true,
           "showland": true,
           "subunitcolor": "white"
          },
          "hoverlabel": {
           "align": "left"
          },
          "hovermode": "closest",
          "mapbox": {
           "style": "light"
          },
          "paper_bgcolor": "white",
          "plot_bgcolor": "#E5ECF6",
          "polar": {
           "angularaxis": {
            "gridcolor": "white",
            "linecolor": "white",
            "ticks": ""
           },
           "bgcolor": "#E5ECF6",
           "radialaxis": {
            "gridcolor": "white",
            "linecolor": "white",
            "ticks": ""
           }
          },
          "scene": {
           "xaxis": {
            "backgroundcolor": "#E5ECF6",
            "gridcolor": "white",
            "gridwidth": 2,
            "linecolor": "white",
            "showbackground": true,
            "ticks": "",
            "zerolinecolor": "white"
           },
           "yaxis": {
            "backgroundcolor": "#E5ECF6",
            "gridcolor": "white",
            "gridwidth": 2,
            "linecolor": "white",
            "showbackground": true,
            "ticks": "",
            "zerolinecolor": "white"
           },
           "zaxis": {
            "backgroundcolor": "#E5ECF6",
            "gridcolor": "white",
            "gridwidth": 2,
            "linecolor": "white",
            "showbackground": true,
            "ticks": "",
            "zerolinecolor": "white"
           }
          },
          "shapedefaults": {
           "line": {
            "color": "#2a3f5f"
           }
          },
          "ternary": {
           "aaxis": {
            "gridcolor": "white",
            "linecolor": "white",
            "ticks": ""
           },
           "baxis": {
            "gridcolor": "white",
            "linecolor": "white",
            "ticks": ""
           },
           "bgcolor": "#E5ECF6",
           "caxis": {
            "gridcolor": "white",
            "linecolor": "white",
            "ticks": ""
           }
          },
          "title": {
           "x": 0.05
          },
          "xaxis": {
           "automargin": true,
           "gridcolor": "white",
           "linecolor": "white",
           "ticks": "",
           "title": {
            "standoff": 15
           },
           "zerolinecolor": "white",
           "zerolinewidth": 2
          },
          "yaxis": {
           "automargin": true,
           "gridcolor": "white",
           "linecolor": "white",
           "ticks": "",
           "title": {
            "standoff": 15
           },
           "zerolinecolor": "white",
           "zerolinewidth": 2
          }
         }
        },
        "title": {
         "text": "Grouping of Countries based on Affinity Clustering"
        }
       }
      },
      "text/html": [
       "<div>\n",
       "        \n",
       "        \n",
       "            <div id=\"97e87b02-5940-4165-91b8-a75335fa22ef\" class=\"plotly-graph-div\" style=\"height:525px; width:100%;\"></div>\n",
       "            <script type=\"text/javascript\">\n",
       "                require([\"plotly\"], function(Plotly) {\n",
       "                    window.PLOTLYENV=window.PLOTLYENV || {};\n",
       "                    \n",
       "                if (document.getElementById(\"97e87b02-5940-4165-91b8-a75335fa22ef\")) {\n",
       "                    Plotly.newPlot(\n",
       "                        '97e87b02-5940-4165-91b8-a75335fa22ef',\n",
       "                        [{\"colorbar\": {\"title\": {\"text\": \"Cluster Group\"}}, \"locationmode\": \"country names\", \"locations\": [0.019024875077967823, 0.03307312090249151, 0.017052493238618942, 0.9882346830117134, 0.0001622862260344627, 0.025964314645950604, 0.01881356038101067, 0.16339315720434072, 0.028291591361185794, 0.1840276155670011, 0.034075132296424476, 0.4577431808436008, 0.014793372561655409, 0.030700423177424024, 0.322370466849841, 0.48594206234864334, 0.002951663763181486, 0.0027836912806835684, 0.03754907672254958, 0.06931555998939809, 0.1219118791006987, 0.0328700444328402, 0.03181477905383274, 0.004030066523943582, 0.002271622626968122, 0.0007507785635242973, 0.013994950951642784, 0.21428977165784285, 0.007007577827509436, 0.0033532003454507056, 0.24592133336465705, 0.00603584327184738, 0.03282060743401361, 0.017321936592511043, 0.01467551325166296, 0.05450307166884834, 0.07710644810029724, 0.19272871129632582, 0.11974030703390791, 0.1965657823703871, 0.02200679547416935, 0.054928516532795915, 0.1349493977580548, 0.0003222718436427837, 0.00012466221733361646, 0.11567348529831702, 0.26882468960625605, 0.06757027757133925, 0.018810969612904592, 0.21295378409192256, 0.019266231707829998, 0.026426317630547033, 0.01108546727128846, 0.022522381011989542, 0.01591776165462565, 0.004791796875280945, 0.02918376614937624, 0.03616159640507698, 0.5108853739924756, 0.007417323283026876, 0.006728599294856991, 0.0092471171058657, 0.4971946510895445, 0.1873620930337281, 0.3738487591225413, 0.017718081472508865, 0.01288636369024991, 0.0063177913322916175, 0.036946372212125045, 0.0017745603925514385, 0.3792561783516774, 0.019231985829063075, 0.052356455618434036, 0.013593374142657424, 0.004752045921779664, 0.05521957007263498, 0.6492310222880171, 0.0012260889802473258, 0.022014942947804348, 0.21446743818063352, 0.11513938468522378, 0.0018395215063909747, 0.02623877442794335, 0.04091661587849028, 0.2268251609634563, 0.004416114021540542, 0.0513292533969985, 0.01929549355302367, 0.0006535266955443775, 0.0013350958497352825, 0.2573233956358379, 0.030964676719686016, 0.0003866669203201664, 0.0040502700447374385, 0.00315252492485759, 0.155442970107208, 0.11137838149549342, 0.019850149162384964, 0.2328536203997584, 9.295498794141419e-05, 0.011328233998761657, 0.29676526393736696, 0.011924773376329776, 0.049730412971777306, 0.28402864226938196, 1.2211698195009701, 0.08751604388028549, 2.013142445005609, 0.002414253557914732, 0.015425097541057978, 1.9357703122687582, 0.17016347236391796, 0.016046059254362838, 0.07409783684735347, 0.011368099047146607, 0.5026534597838216, 0.07068828011460566, 0.009694729944802005, 0.02844082296003944, 0.4949212057130719, 0.006870273310830418, 0.006198337271506287, 0.0019097520620981927, 0.2985391756871158, 0.35940542875222287, 0.0009037907148838954, 0.004365640842371933, 0.004182989833813617, 0.008346176371974691, 0.00901843149502594, 0.18293671635730946, 0.0005804816916659611, 0.041718848843037004, 0.2511691722496171, 0.37271699947866654, 0.021366660298222914, 0.4616974923690147, 0.008469021768814821, 0.00033912357176249904, 0.0043857065845880625, 0.00031858122207479764, 0.022338568935427575, 0.019739085183124876, 0.0004915927136060184, 0.00016621628977815528, 0.004698867833900243, 0.0026871633514135105, 0.05506029155278025, 0.004581267438563055, 0.006614023197422428, 0.0011090773097865868, 0.0003758262136636452, 0.006784177155126551, 0.0003858170350897838, 0.1165722084273177, 0.001321603898491209, 0.01899825257830681, 4.743535983515264e-05], \"text\": [0.019024875077967823, 0.03307312090249151, 0.017052493238618942, 0.9882346830117134, 0.0001622862260344627, 0.025964314645950604, 0.01881356038101067, 0.16339315720434072, 0.028291591361185794, 0.1840276155670011, 0.034075132296424476, 0.4577431808436008, 0.014793372561655409, 0.030700423177424024, 0.322370466849841, 0.48594206234864334, 0.002951663763181486, 0.0027836912806835684, 0.03754907672254958, 0.06931555998939809, 0.1219118791006987, 0.0328700444328402, 0.03181477905383274, 0.004030066523943582, 0.002271622626968122, 0.0007507785635242973, 0.013994950951642784, 0.21428977165784285, 0.007007577827509436, 0.0033532003454507056, 0.24592133336465705, 0.00603584327184738, 0.03282060743401361, 0.017321936592511043, 0.01467551325166296, 0.05450307166884834, 0.07710644810029724, 0.19272871129632582, 0.11974030703390791, 0.1965657823703871, 0.02200679547416935, 0.054928516532795915, 0.1349493977580548, 0.0003222718436427837, 0.00012466221733361646, 0.11567348529831702, 0.26882468960625605, 0.06757027757133925, 0.018810969612904592, 0.21295378409192256, 0.019266231707829998, 0.026426317630547033, 0.01108546727128846, 0.022522381011989542, 0.01591776165462565, 0.004791796875280945, 0.02918376614937624, 0.03616159640507698, 0.5108853739924756, 0.007417323283026876, 0.006728599294856991, 0.0092471171058657, 0.4971946510895445, 0.1873620930337281, 0.3738487591225413, 0.017718081472508865, 0.01288636369024991, 0.0063177913322916175, 0.036946372212125045, 0.0017745603925514385, 0.3792561783516774, 0.019231985829063075, 0.052356455618434036, 0.013593374142657424, 0.004752045921779664, 0.05521957007263498, 0.6492310222880171, 0.0012260889802473258, 0.022014942947804348, 0.21446743818063352, 0.11513938468522378, 0.0018395215063909747, 0.02623877442794335, 0.04091661587849028, 0.2268251609634563, 0.004416114021540542, 0.0513292533969985, 0.01929549355302367, 0.0006535266955443775, 0.0013350958497352825, 0.2573233956358379, 0.030964676719686016, 0.0003866669203201664, 0.0040502700447374385, 0.00315252492485759, 0.155442970107208, 0.11137838149549342, 0.019850149162384964, 0.2328536203997584, 9.295498794141419e-05, 0.011328233998761657, 0.29676526393736696, 0.011924773376329776, 0.049730412971777306, 0.28402864226938196, 1.2211698195009701, 0.08751604388028549, 2.013142445005609, 0.002414253557914732, 0.015425097541057978, 1.9357703122687582, 0.17016347236391796, 0.016046059254362838, 0.07409783684735347, 0.011368099047146607, 0.5026534597838216, 0.07068828011460566, 0.009694729944802005, 0.02844082296003944, 0.4949212057130719, 0.006870273310830418, 0.006198337271506287, 0.0019097520620981927, 0.2985391756871158, 0.35940542875222287, 0.0009037907148838954, 0.004365640842371933, 0.004182989833813617, 0.008346176371974691, 0.00901843149502594, 0.18293671635730946, 0.0005804816916659611, 0.041718848843037004, 0.2511691722496171, 0.37271699947866654, 0.021366660298222914, 0.4616974923690147, 0.008469021768814821, 0.00033912357176249904, 0.0043857065845880625, 0.00031858122207479764, 0.022338568935427575, 0.019739085183124876, 0.0004915927136060184, 0.00016621628977815528, 0.004698867833900243, 0.0026871633514135105, 0.05506029155278025, 0.004581267438563055, 0.006614023197422428, 0.0011090773097865868, 0.0003758262136636452, 0.006784177155126551, 0.0003858170350897838, 0.1165722084273177, 0.001321603898491209, 0.01899825257830681, 4.743535983515264e-05], \"type\": \"choropleth\", \"z\": [0, 0, 0, 0, 0, 0, 0, 0, 0, 0, 0, 0, 0, 0, 0, 0, 0, 0, 0, 0, 0, 0, 0, 0, 0, 0, 0, 0, 0, 0, 0, 1, 0, 0, 0, 0, 0, 0, 0, 0, 0, 0, 0, 0, 0, 0, 0, 0, 0, 0, 0, 0, 0, 0, 0, 0, 0, 0, 0, 1, 0, 0, 0, 0, 0, 0, 0, 0, 0, 0, 0, 0, 0, 0, 0, 0, 0, 0, 0, 0, 0, 0, 0, 0, 0, 0, 0, 0, 0, 0, 0, 0, 0, 0, 0, 0, 0, 0, 0, 0, 0, 0, 0, 0, 0, 0, 0, 0, 0, 0, 0, 0, 0, 0, 0, 0, 0, 0, 0, 0, 0, 0, 0, 0, 0, 0, 0, 0, 0, 0, 0, 0, 0, 0, 0, 0, 0, 0, 0, 0, 0, 0, 0, 0, 0, 0, 0, 0, 0, 0, 0, 0, 0, 0, 0, 0, 0, 0]}],\n",
       "                        {\"geo\": {\"projection\": {\"type\": \"mercator\"}, \"showframe\": false}, \"template\": {\"data\": {\"bar\": [{\"error_x\": {\"color\": \"#2a3f5f\"}, \"error_y\": {\"color\": \"#2a3f5f\"}, \"marker\": {\"line\": {\"color\": \"#E5ECF6\", \"width\": 0.5}}, \"type\": \"bar\"}], \"barpolar\": [{\"marker\": {\"line\": {\"color\": \"#E5ECF6\", \"width\": 0.5}}, \"type\": \"barpolar\"}], \"carpet\": [{\"aaxis\": {\"endlinecolor\": \"#2a3f5f\", \"gridcolor\": \"white\", \"linecolor\": \"white\", \"minorgridcolor\": \"white\", \"startlinecolor\": \"#2a3f5f\"}, \"baxis\": {\"endlinecolor\": \"#2a3f5f\", \"gridcolor\": \"white\", \"linecolor\": \"white\", \"minorgridcolor\": \"white\", \"startlinecolor\": \"#2a3f5f\"}, \"type\": \"carpet\"}], \"choropleth\": [{\"colorbar\": {\"outlinewidth\": 0, \"ticks\": \"\"}, \"type\": \"choropleth\"}], \"contour\": [{\"colorbar\": {\"outlinewidth\": 0, \"ticks\": \"\"}, \"colorscale\": [[0.0, \"#0d0887\"], [0.1111111111111111, \"#46039f\"], [0.2222222222222222, \"#7201a8\"], [0.3333333333333333, \"#9c179e\"], [0.4444444444444444, \"#bd3786\"], [0.5555555555555556, \"#d8576b\"], [0.6666666666666666, \"#ed7953\"], [0.7777777777777778, \"#fb9f3a\"], [0.8888888888888888, \"#fdca26\"], [1.0, \"#f0f921\"]], \"type\": \"contour\"}], \"contourcarpet\": [{\"colorbar\": {\"outlinewidth\": 0, \"ticks\": \"\"}, \"type\": \"contourcarpet\"}], \"heatmap\": [{\"colorbar\": {\"outlinewidth\": 0, \"ticks\": \"\"}, \"colorscale\": [[0.0, \"#0d0887\"], [0.1111111111111111, \"#46039f\"], [0.2222222222222222, \"#7201a8\"], [0.3333333333333333, \"#9c179e\"], [0.4444444444444444, \"#bd3786\"], [0.5555555555555556, \"#d8576b\"], [0.6666666666666666, \"#ed7953\"], [0.7777777777777778, \"#fb9f3a\"], [0.8888888888888888, \"#fdca26\"], [1.0, \"#f0f921\"]], \"type\": \"heatmap\"}], \"heatmapgl\": [{\"colorbar\": {\"outlinewidth\": 0, \"ticks\": \"\"}, \"colorscale\": [[0.0, \"#0d0887\"], [0.1111111111111111, \"#46039f\"], [0.2222222222222222, \"#7201a8\"], [0.3333333333333333, \"#9c179e\"], [0.4444444444444444, \"#bd3786\"], [0.5555555555555556, \"#d8576b\"], [0.6666666666666666, \"#ed7953\"], [0.7777777777777778, \"#fb9f3a\"], [0.8888888888888888, \"#fdca26\"], [1.0, \"#f0f921\"]], \"type\": \"heatmapgl\"}], \"histogram\": [{\"marker\": {\"colorbar\": {\"outlinewidth\": 0, \"ticks\": \"\"}}, \"type\": \"histogram\"}], \"histogram2d\": [{\"colorbar\": {\"outlinewidth\": 0, \"ticks\": \"\"}, \"colorscale\": [[0.0, \"#0d0887\"], [0.1111111111111111, \"#46039f\"], [0.2222222222222222, \"#7201a8\"], [0.3333333333333333, \"#9c179e\"], [0.4444444444444444, \"#bd3786\"], [0.5555555555555556, \"#d8576b\"], [0.6666666666666666, \"#ed7953\"], [0.7777777777777778, \"#fb9f3a\"], [0.8888888888888888, \"#fdca26\"], [1.0, \"#f0f921\"]], \"type\": \"histogram2d\"}], \"histogram2dcontour\": [{\"colorbar\": {\"outlinewidth\": 0, \"ticks\": \"\"}, \"colorscale\": [[0.0, \"#0d0887\"], [0.1111111111111111, \"#46039f\"], [0.2222222222222222, \"#7201a8\"], [0.3333333333333333, \"#9c179e\"], [0.4444444444444444, \"#bd3786\"], [0.5555555555555556, \"#d8576b\"], [0.6666666666666666, \"#ed7953\"], [0.7777777777777778, \"#fb9f3a\"], [0.8888888888888888, \"#fdca26\"], [1.0, \"#f0f921\"]], \"type\": \"histogram2dcontour\"}], \"mesh3d\": [{\"colorbar\": {\"outlinewidth\": 0, \"ticks\": \"\"}, \"type\": \"mesh3d\"}], \"parcoords\": [{\"line\": {\"colorbar\": {\"outlinewidth\": 0, \"ticks\": \"\"}}, \"type\": \"parcoords\"}], \"pie\": [{\"automargin\": true, \"type\": \"pie\"}], \"scatter\": [{\"marker\": {\"colorbar\": {\"outlinewidth\": 0, \"ticks\": \"\"}}, \"type\": \"scatter\"}], \"scatter3d\": [{\"line\": {\"colorbar\": {\"outlinewidth\": 0, \"ticks\": \"\"}}, \"marker\": {\"colorbar\": {\"outlinewidth\": 0, \"ticks\": \"\"}}, \"type\": \"scatter3d\"}], \"scattercarpet\": [{\"marker\": {\"colorbar\": {\"outlinewidth\": 0, \"ticks\": \"\"}}, \"type\": \"scattercarpet\"}], \"scattergeo\": [{\"marker\": {\"colorbar\": {\"outlinewidth\": 0, \"ticks\": \"\"}}, \"type\": \"scattergeo\"}], \"scattergl\": [{\"marker\": {\"colorbar\": {\"outlinewidth\": 0, \"ticks\": \"\"}}, \"type\": \"scattergl\"}], \"scattermapbox\": [{\"marker\": {\"colorbar\": {\"outlinewidth\": 0, \"ticks\": \"\"}}, \"type\": \"scattermapbox\"}], \"scatterpolar\": [{\"marker\": {\"colorbar\": {\"outlinewidth\": 0, \"ticks\": \"\"}}, \"type\": \"scatterpolar\"}], \"scatterpolargl\": [{\"marker\": {\"colorbar\": {\"outlinewidth\": 0, \"ticks\": \"\"}}, \"type\": \"scatterpolargl\"}], \"scatterternary\": [{\"marker\": {\"colorbar\": {\"outlinewidth\": 0, \"ticks\": \"\"}}, \"type\": \"scatterternary\"}], \"surface\": [{\"colorbar\": {\"outlinewidth\": 0, \"ticks\": \"\"}, \"colorscale\": [[0.0, \"#0d0887\"], [0.1111111111111111, \"#46039f\"], [0.2222222222222222, \"#7201a8\"], [0.3333333333333333, \"#9c179e\"], [0.4444444444444444, \"#bd3786\"], [0.5555555555555556, \"#d8576b\"], [0.6666666666666666, \"#ed7953\"], [0.7777777777777778, \"#fb9f3a\"], [0.8888888888888888, \"#fdca26\"], [1.0, \"#f0f921\"]], \"type\": \"surface\"}], \"table\": [{\"cells\": {\"fill\": {\"color\": \"#EBF0F8\"}, \"line\": {\"color\": \"white\"}}, \"header\": {\"fill\": {\"color\": \"#C8D4E3\"}, \"line\": {\"color\": \"white\"}}, \"type\": \"table\"}]}, \"layout\": {\"annotationdefaults\": {\"arrowcolor\": \"#2a3f5f\", \"arrowhead\": 0, \"arrowwidth\": 1}, \"coloraxis\": {\"colorbar\": {\"outlinewidth\": 0, \"ticks\": \"\"}}, \"colorscale\": {\"diverging\": [[0, \"#8e0152\"], [0.1, \"#c51b7d\"], [0.2, \"#de77ae\"], [0.3, \"#f1b6da\"], [0.4, \"#fde0ef\"], [0.5, \"#f7f7f7\"], [0.6, \"#e6f5d0\"], [0.7, \"#b8e186\"], [0.8, \"#7fbc41\"], [0.9, \"#4d9221\"], [1, \"#276419\"]], \"sequential\": [[0.0, \"#0d0887\"], [0.1111111111111111, \"#46039f\"], [0.2222222222222222, \"#7201a8\"], [0.3333333333333333, \"#9c179e\"], [0.4444444444444444, \"#bd3786\"], [0.5555555555555556, \"#d8576b\"], [0.6666666666666666, \"#ed7953\"], [0.7777777777777778, \"#fb9f3a\"], [0.8888888888888888, \"#fdca26\"], [1.0, \"#f0f921\"]], \"sequentialminus\": [[0.0, \"#0d0887\"], [0.1111111111111111, \"#46039f\"], [0.2222222222222222, \"#7201a8\"], [0.3333333333333333, \"#9c179e\"], [0.4444444444444444, \"#bd3786\"], [0.5555555555555556, \"#d8576b\"], [0.6666666666666666, \"#ed7953\"], [0.7777777777777778, \"#fb9f3a\"], [0.8888888888888888, \"#fdca26\"], [1.0, \"#f0f921\"]]}, \"colorway\": [\"#636efa\", \"#EF553B\", \"#00cc96\", \"#ab63fa\", \"#FFA15A\", \"#19d3f3\", \"#FF6692\", \"#B6E880\", \"#FF97FF\", \"#FECB52\"], \"font\": {\"color\": \"#2a3f5f\"}, \"geo\": {\"bgcolor\": \"white\", \"lakecolor\": \"white\", \"landcolor\": \"#E5ECF6\", \"showlakes\": true, \"showland\": true, \"subunitcolor\": \"white\"}, \"hoverlabel\": {\"align\": \"left\"}, \"hovermode\": \"closest\", \"mapbox\": {\"style\": \"light\"}, \"paper_bgcolor\": \"white\", \"plot_bgcolor\": \"#E5ECF6\", \"polar\": {\"angularaxis\": {\"gridcolor\": \"white\", \"linecolor\": \"white\", \"ticks\": \"\"}, \"bgcolor\": \"#E5ECF6\", \"radialaxis\": {\"gridcolor\": \"white\", \"linecolor\": \"white\", \"ticks\": \"\"}}, \"scene\": {\"xaxis\": {\"backgroundcolor\": \"#E5ECF6\", \"gridcolor\": \"white\", \"gridwidth\": 2, \"linecolor\": \"white\", \"showbackground\": true, \"ticks\": \"\", \"zerolinecolor\": \"white\"}, \"yaxis\": {\"backgroundcolor\": \"#E5ECF6\", \"gridcolor\": \"white\", \"gridwidth\": 2, \"linecolor\": \"white\", \"showbackground\": true, \"ticks\": \"\", \"zerolinecolor\": \"white\"}, \"zaxis\": {\"backgroundcolor\": \"#E5ECF6\", \"gridcolor\": \"white\", \"gridwidth\": 2, \"linecolor\": \"white\", \"showbackground\": true, \"ticks\": \"\", \"zerolinecolor\": \"white\"}}, \"shapedefaults\": {\"line\": {\"color\": \"#2a3f5f\"}}, \"ternary\": {\"aaxis\": {\"gridcolor\": \"white\", \"linecolor\": \"white\", \"ticks\": \"\"}, \"baxis\": {\"gridcolor\": \"white\", \"linecolor\": \"white\", \"ticks\": \"\"}, \"bgcolor\": \"#E5ECF6\", \"caxis\": {\"gridcolor\": \"white\", \"linecolor\": \"white\", \"ticks\": \"\"}}, \"title\": {\"x\": 0.05}, \"xaxis\": {\"automargin\": true, \"gridcolor\": \"white\", \"linecolor\": \"white\", \"ticks\": \"\", \"title\": {\"standoff\": 15}, \"zerolinecolor\": \"white\", \"zerolinewidth\": 2}, \"yaxis\": {\"automargin\": true, \"gridcolor\": \"white\", \"linecolor\": \"white\", \"ticks\": \"\", \"title\": {\"standoff\": 15}, \"zerolinecolor\": \"white\", \"zerolinewidth\": 2}}}, \"title\": {\"text\": \"Grouping of Countries based on Affinity Clustering\"}},\n",
       "                        {\"responsive\": true}\n",
       "                    ).then(function(){\n",
       "                            \n",
       "var gd = document.getElementById('97e87b02-5940-4165-91b8-a75335fa22ef');\n",
       "var x = new MutationObserver(function (mutations, observer) {{\n",
       "        var display = window.getComputedStyle(gd).display;\n",
       "        if (!display || display === 'none') {{\n",
       "            console.log([gd, 'removed!']);\n",
       "            Plotly.purge(gd);\n",
       "            observer.disconnect();\n",
       "        }}\n",
       "}});\n",
       "\n",
       "// Listen for the removal of the full notebook cells\n",
       "var notebookContainer = gd.closest('#notebook-container');\n",
       "if (notebookContainer) {{\n",
       "    x.observe(notebookContainer, {childList: true});\n",
       "}}\n",
       "\n",
       "// Listen for the clearing of the current output cell\n",
       "var outputEl = gd.closest('.output');\n",
       "if (outputEl) {{\n",
       "    x.observe(outputEl, {childList: true});\n",
       "}}\n",
       "\n",
       "                        })\n",
       "                };\n",
       "                });\n",
       "            </script>\n",
       "        </div>"
      ]
     },
     "metadata": {},
     "output_type": "display_data"
    }
   ],
   "source": [
    "#Карта кластеризации( агломеративная)\n",
    "df_cl_1.insert(0,'country',df_cl.iloc[:,0])\n",
    "df_cl_1.iloc[:,[0,1,2,3,4,5]]\n",
    "data = [dict(type='choropleth',\n",
    "             locations = df_cl_1['country'],\n",
    "             locationmode = 'country names',\n",
    "             z = df_cl_1['agglomerative'],\n",
    "             text = df_cl_1['country'],\n",
    "             colorbar = {'title':'Cluster Group'})]\n",
    "layout = dict(title='Grouping of Countries based on Affinity Clustering',\n",
    "              geo=dict(showframe = False, projection = {'type':'mercator'}))\n",
    "map3 = dict(data=data, layout=layout)\n",
    "iplot(map3)"
   ]
  }
 ],
 "metadata": {
  "kernelspec": {
   "display_name": "Python 3",
   "language": "python",
   "name": "python3"
  },
  "language_info": {
   "codemirror_mode": {
    "name": "ipython",
    "version": 3
   },
   "file_extension": ".py",
   "mimetype": "text/x-python",
   "name": "python",
   "nbconvert_exporter": "python",
   "pygments_lexer": "ipython3",
   "version": "3.7.0"
  }
 },
 "nbformat": 4,
 "nbformat_minor": 4
}
